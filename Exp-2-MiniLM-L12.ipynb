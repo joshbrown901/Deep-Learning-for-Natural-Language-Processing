{
 "cells": [
  {
   "cell_type": "code",
   "execution_count": 1,
   "id": "b5e5649c",
   "metadata": {
    "execution": {
     "iopub.execute_input": "2024-05-06T15:37:06.656103Z",
     "iopub.status.busy": "2024-05-06T15:37:06.655757Z",
     "iopub.status.idle": "2024-05-06T15:37:14.338302Z",
     "shell.execute_reply": "2024-05-06T15:37:14.337384Z"
    },
    "id": "-7bT-dDfaoHB",
    "papermill": {
     "duration": 7.715535,
     "end_time": "2024-05-06T15:37:14.340703",
     "exception": false,
     "start_time": "2024-05-06T15:37:06.625168",
     "status": "completed"
    },
    "tags": []
   },
   "outputs": [],
   "source": [
    "import pandas as pd\n",
    "from torch.utils.data import Dataset\n",
    "import torch\n",
    "import os\n",
    "import random\n",
    "import numpy as np\n",
    "from torch import nn\n",
    "from typing import Dict, Optional, Tuple, List\n",
    "from transformers import AutoTokenizer, AutoModel\n",
    "from torch.utils.data import Dataset, random_split\n",
    "import torch.optim as optim\n",
    "from tqdm import tqdm\n",
    "from sklearn.metrics import precision_score, f1_score, recall_score, classification_report\n",
    "\n",
    "\n",
    "import time\n",
    "import math\n",
    "import matplotlib\n",
    "matplotlib.rcParams.update({'figure.figsize': (16, 12), 'font.size': 14})\n",
    "import matplotlib.pyplot as plt\n",
    "%matplotlib inline\n",
    "from IPython.display import clear_output"
   ]
  },
  {
   "cell_type": "code",
   "execution_count": 2,
   "id": "d78b8642",
   "metadata": {
    "execution": {
     "iopub.execute_input": "2024-05-06T15:37:14.403652Z",
     "iopub.status.busy": "2024-05-06T15:37:14.402760Z",
     "iopub.status.idle": "2024-05-06T15:37:14.411524Z",
     "shell.execute_reply": "2024-05-06T15:37:14.410685Z"
    },
    "id": "9sjxzdn7a3jA",
    "papermill": {
     "duration": 0.041819,
     "end_time": "2024-05-06T15:37:14.413504",
     "exception": false,
     "start_time": "2024-05-06T15:37:14.371685",
     "status": "completed"
    },
    "tags": []
   },
   "outputs": [],
   "source": [
    "SEED = 42\n",
    "\n",
    "torch.manual_seed(SEED)\n",
    "torch.random.manual_seed(SEED)\n",
    "os.environ['PYTHONHASHSEED'] = str(SEED)\n",
    "random.seed(SEED)\n",
    "np.random.seed(SEED)\n",
    "torch.cuda.random.manual_seed(SEED)\n",
    "torch.cuda.random.manual_seed_all(SEED)\n",
    "torch.backends.cudnn.deterministic = True"
   ]
  },
  {
   "cell_type": "code",
   "execution_count": 3,
   "id": "6a0faf8b",
   "metadata": {
    "execution": {
     "iopub.execute_input": "2024-05-06T15:37:14.471900Z",
     "iopub.status.busy": "2024-05-06T15:37:14.471619Z",
     "iopub.status.idle": "2024-05-06T15:37:14.525300Z",
     "shell.execute_reply": "2024-05-06T15:37:14.524409Z"
    },
    "id": "YjyK7Zq1a_RX",
    "papermill": {
     "duration": 0.085007,
     "end_time": "2024-05-06T15:37:14.527332",
     "exception": false,
     "start_time": "2024-05-06T15:37:14.442325",
     "status": "completed"
    },
    "tags": []
   },
   "outputs": [],
   "source": [
    "device = \"cuda\" if torch.cuda.is_available() else \"cpu\""
   ]
  },
  {
   "cell_type": "code",
   "execution_count": 4,
   "id": "e4846fd2",
   "metadata": {
    "execution": {
     "iopub.execute_input": "2024-05-06T15:37:14.586863Z",
     "iopub.status.busy": "2024-05-06T15:37:14.586541Z",
     "iopub.status.idle": "2024-05-06T15:37:18.311699Z",
     "shell.execute_reply": "2024-05-06T15:37:18.310519Z"
    },
    "id": "hgyPYm-EbA7v",
    "outputId": "177cb9e5-5854-41e0-b51d-854b711cb9c4",
    "papermill": {
     "duration": 3.757945,
     "end_time": "2024-05-06T15:37:18.314123",
     "exception": false,
     "start_time": "2024-05-06T15:37:14.556178",
     "status": "completed"
    },
    "tags": []
   },
   "outputs": [
    {
     "name": "stdout",
     "output_type": "stream",
     "text": [
      "Cloning into 'TextGraphs17-shared-task'...\r\n",
      "remote: Enumerating objects: 506, done.\u001b[K\r\n",
      "remote: Counting objects: 100% (26/26), done.\u001b[K\r\n",
      "remote: Compressing objects: 100% (19/19), done.\u001b[K\r\n",
      "remote: Total 506 (delta 9), reused 20 (delta 4), pack-reused 480\u001b[K\r\n",
      "Receiving objects: 100% (506/506), 37.13 MiB | 35.93 MiB/s, done.\r\n",
      "Resolving deltas: 100% (60/60), done.\r\n"
     ]
    }
   ],
   "source": [
    "!git clone https://github.com/uhh-lt/TextGraphs17-shared-task.git"
   ]
  },
  {
   "cell_type": "code",
   "execution_count": 5,
   "id": "d5b4c43b",
   "metadata": {
    "execution": {
     "iopub.execute_input": "2024-05-06T15:37:18.375852Z",
     "iopub.status.busy": "2024-05-06T15:37:18.375512Z",
     "iopub.status.idle": "2024-05-06T15:37:19.343795Z",
     "shell.execute_reply": "2024-05-06T15:37:19.342835Z"
    },
    "id": "5PfoLo2ZbBzI",
    "outputId": "bcd438a2-edf0-4893-a853-91492583000c",
    "papermill": {
     "duration": 1.001395,
     "end_time": "2024-05-06T15:37:19.346022",
     "exception": false,
     "start_time": "2024-05-06T15:37:18.344627",
     "status": "completed"
    },
    "tags": []
   },
   "outputs": [
    {
     "name": "stdout",
     "output_type": "stream",
     "text": [
      "README.md  data        question_graph_examples\tsubmission_example\r\n",
      "baselines  evaluation  reformat_data\t\tvisualization\r\n"
     ]
    }
   ],
   "source": [
    "!ls TextGraphs17-shared-task"
   ]
  },
  {
   "cell_type": "code",
   "execution_count": 6,
   "id": "df7b6c75",
   "metadata": {
    "execution": {
     "iopub.execute_input": "2024-05-06T15:37:19.409107Z",
     "iopub.status.busy": "2024-05-06T15:37:19.408176Z",
     "iopub.status.idle": "2024-05-06T15:37:19.867800Z",
     "shell.execute_reply": "2024-05-06T15:37:19.866932Z"
    },
    "id": "WwyCvQPTbDq3",
    "papermill": {
     "duration": 0.493678,
     "end_time": "2024-05-06T15:37:19.870251",
     "exception": false,
     "start_time": "2024-05-06T15:37:19.376573",
     "status": "completed"
    },
    "tags": []
   },
   "outputs": [],
   "source": [
    "train_dev_path = \"TextGraphs17-shared-task/data/tsv/train.tsv\"\n",
    "\n",
    "data_df = pd.read_csv(train_dev_path, sep='\\t')\n",
    "\n",
    "pd.set_option('display.max_colwidth', None)"
   ]
  },
  {
   "cell_type": "code",
   "execution_count": 7,
   "id": "20377808",
   "metadata": {
    "execution": {
     "iopub.execute_input": "2024-05-06T15:37:19.932241Z",
     "iopub.status.busy": "2024-05-06T15:37:19.931907Z",
     "iopub.status.idle": "2024-05-06T15:37:19.954086Z",
     "shell.execute_reply": "2024-05-06T15:37:19.953227Z"
    },
    "id": "fFnaceN4bEzA",
    "papermill": {
     "duration": 0.055168,
     "end_time": "2024-05-06T15:37:19.956105",
     "exception": false,
     "start_time": "2024-05-06T15:37:19.900937",
     "status": "completed"
    },
    "tags": []
   },
   "outputs": [],
   "source": [
    "all_questions = list(data_df[\"question\"].unique())\n",
    "num_questions = len(all_questions)\n",
    "random.shuffle(all_questions)"
   ]
  },
  {
   "cell_type": "code",
   "execution_count": 8,
   "id": "beff3085",
   "metadata": {
    "execution": {
     "iopub.execute_input": "2024-05-06T15:37:20.017039Z",
     "iopub.status.busy": "2024-05-06T15:37:20.016775Z",
     "iopub.status.idle": "2024-05-06T15:37:20.023331Z",
     "shell.execute_reply": "2024-05-06T15:37:20.022500Z"
    },
    "id": "lImVe0iBclEf",
    "outputId": "cb618def-3a1d-46d3-dec5-3d833c19437e",
    "papermill": {
     "duration": 0.039149,
     "end_time": "2024-05-06T15:37:20.025525",
     "exception": false,
     "start_time": "2024-05-06T15:37:19.986376",
     "status": "completed"
    },
    "tags": []
   },
   "outputs": [
    {
     "name": "stdout",
     "output_type": "stream",
     "text": [
      "Questions: train - 2545, dev - 283, test - 283\n"
     ]
    }
   ],
   "source": [
    "train_dev_ratio = 0.8\n",
    "train_ratio = 0.9\n",
    "num_train_dev_questions = int(num_questions * train_dev_ratio)\n",
    "train_dev_questions = all_questions[:num_train_dev_questions]\n",
    "test_questions = set(all_questions[num_train_dev_questions:])\n",
    "num_train_questions = int(len(train_dev_questions) * train_ratio)\n",
    "train_questions = set(train_dev_questions[:num_train_questions])\n",
    "dev_questions = set(train_dev_questions[num_train_questions:])\n",
    "\n",
    "print(f\"Questions: train - {len(train_questions)}, dev - {len(dev_questions)}, test - {len(dev_questions)}\")"
   ]
  },
  {
   "cell_type": "code",
   "execution_count": 9,
   "id": "6d78a42e",
   "metadata": {
    "execution": {
     "iopub.execute_input": "2024-05-06T15:37:20.086649Z",
     "iopub.status.busy": "2024-05-06T15:37:20.086342Z",
     "iopub.status.idle": "2024-05-06T15:37:20.113329Z",
     "shell.execute_reply": "2024-05-06T15:37:20.112333Z"
    },
    "id": "JcMVTKSQclGn",
    "outputId": "94b3c70e-e157-4f4b-8a40-a9621ca030f9",
    "papermill": {
     "duration": 0.060003,
     "end_time": "2024-05-06T15:37:20.115205",
     "exception": false,
     "start_time": "2024-05-06T15:37:20.055202",
     "status": "completed"
    },
    "tags": []
   },
   "outputs": [
    {
     "name": "stdout",
     "output_type": "stream",
     "text": [
      "Train: (27122, 10)\n",
      "Dev: (3047, 10)\n",
      "Test: (7503, 10)\n"
     ]
    }
   ],
   "source": [
    "train_df = data_df[data_df[\"question\"].isin(train_questions)]\n",
    "dev_df = data_df[data_df[\"question\"].isin(dev_questions)]\n",
    "test_df = data_df[data_df[\"question\"].isin(test_questions)]\n",
    "\n",
    "print(f\"Train: {train_df.shape}\")\n",
    "print(f\"Dev: {dev_df.shape}\")\n",
    "print(f\"Test: {test_df.shape}\")"
   ]
  },
  {
   "cell_type": "code",
   "execution_count": 10,
   "id": "d8e3879f",
   "metadata": {
    "execution": {
     "iopub.execute_input": "2024-05-06T15:37:20.178588Z",
     "iopub.status.busy": "2024-05-06T15:37:20.177885Z",
     "iopub.status.idle": "2024-05-06T15:37:20.192380Z",
     "shell.execute_reply": "2024-05-06T15:37:20.191165Z"
    },
    "id": "Qmj_H67xcwNn",
    "outputId": "a1ac837a-5813-4d91-b39a-20e2d87d1830",
    "papermill": {
     "duration": 0.048869,
     "end_time": "2024-05-06T15:37:20.194679",
     "exception": false,
     "start_time": "2024-05-06T15:37:20.145810",
     "status": "completed"
    },
    "tags": []
   },
   "outputs": [
    {
     "name": "stderr",
     "output_type": "stream",
     "text": [
      "/tmp/ipykernel_24/3117296500.py:1: SettingWithCopyWarning: \n",
      "A value is trying to be set on a copy of a slice from a DataFrame.\n",
      "Try using .loc[row_indexer,col_indexer] = value instead\n",
      "\n",
      "See the caveats in the documentation: https://pandas.pydata.org/pandas-docs/stable/user_guide/indexing.html#returning-a-view-versus-a-copy\n",
      "  train_df[\"label\"] = train_df[\"correct\"].astype(np.float32)\n",
      "/tmp/ipykernel_24/3117296500.py:2: SettingWithCopyWarning: \n",
      "A value is trying to be set on a copy of a slice from a DataFrame.\n",
      "Try using .loc[row_indexer,col_indexer] = value instead\n",
      "\n",
      "See the caveats in the documentation: https://pandas.pydata.org/pandas-docs/stable/user_guide/indexing.html#returning-a-view-versus-a-copy\n",
      "  dev_df[\"label\"] = dev_df[\"correct\"].astype(np.float32)\n",
      "/tmp/ipykernel_24/3117296500.py:3: SettingWithCopyWarning: \n",
      "A value is trying to be set on a copy of a slice from a DataFrame.\n",
      "Try using .loc[row_indexer,col_indexer] = value instead\n",
      "\n",
      "See the caveats in the documentation: https://pandas.pydata.org/pandas-docs/stable/user_guide/indexing.html#returning-a-view-versus-a-copy\n",
      "  test_df[\"label\"] = test_df[\"correct\"].astype(np.float32)\n"
     ]
    },
    {
     "data": {
      "text/plain": [
       "0    0.0\n",
       "1    0.0\n",
       "2    0.0\n",
       "3    1.0\n",
       "4    0.0\n",
       "Name: label, dtype: float32"
      ]
     },
     "execution_count": 10,
     "metadata": {},
     "output_type": "execute_result"
    }
   ],
   "source": [
    "train_df[\"label\"] = train_df[\"correct\"].astype(np.float32)\n",
    "dev_df[\"label\"] = dev_df[\"correct\"].astype(np.float32)\n",
    "test_df[\"label\"] = test_df[\"correct\"].astype(np.float32)\n",
    "train_df[\"label\"].head(5)"
   ]
  },
  {
   "cell_type": "code",
   "execution_count": 11,
   "id": "b31ed2a5",
   "metadata": {
    "execution": {
     "iopub.execute_input": "2024-05-06T15:37:20.302287Z",
     "iopub.status.busy": "2024-05-06T15:37:20.301338Z",
     "iopub.status.idle": "2024-05-06T15:37:25.342737Z",
     "shell.execute_reply": "2024-05-06T15:37:25.341735Z"
    },
    "id": "3yfxNLwKc2lU",
    "outputId": "8e2fb5b7-29d8-4f70-d88a-fbcb51ec6932",
    "papermill": {
     "duration": 5.115786,
     "end_time": "2024-05-06T15:37:25.344802",
     "exception": false,
     "start_time": "2024-05-06T15:37:20.229016",
     "status": "completed"
    },
    "tags": []
   },
   "outputs": [
    {
     "name": "stderr",
     "output_type": "stream",
     "text": [
      "/tmp/ipykernel_24/1764180835.py:1: SettingWithCopyWarning: \n",
      "A value is trying to be set on a copy of a slice from a DataFrame.\n",
      "Try using .loc[row_indexer,col_indexer] = value instead\n",
      "\n",
      "See the caveats in the documentation: https://pandas.pydata.org/pandas-docs/stable/user_guide/indexing.html#returning-a-view-versus-a-copy\n",
      "  train_df[\"graph\"] = train_df[\"graph\"].apply(eval)\n",
      "/tmp/ipykernel_24/1764180835.py:2: SettingWithCopyWarning: \n",
      "A value is trying to be set on a copy of a slice from a DataFrame.\n",
      "Try using .loc[row_indexer,col_indexer] = value instead\n",
      "\n",
      "See the caveats in the documentation: https://pandas.pydata.org/pandas-docs/stable/user_guide/indexing.html#returning-a-view-versus-a-copy\n",
      "  dev_df[\"graph\"] = dev_df[\"graph\"].apply(eval)\n",
      "/tmp/ipykernel_24/1764180835.py:3: SettingWithCopyWarning: \n",
      "A value is trying to be set on a copy of a slice from a DataFrame.\n",
      "Try using .loc[row_indexer,col_indexer] = value instead\n",
      "\n",
      "See the caveats in the documentation: https://pandas.pydata.org/pandas-docs/stable/user_guide/indexing.html#returning-a-view-versus-a-copy\n",
      "  test_df[\"graph\"] = test_df[\"graph\"].apply(eval)\n"
     ]
    }
   ],
   "source": [
    "train_df[\"graph\"] = train_df[\"graph\"].apply(eval)\n",
    "dev_df[\"graph\"] = dev_df[\"graph\"].apply(eval)\n",
    "test_df[\"graph\"] = test_df[\"graph\"].apply(eval)"
   ]
  },
  {
   "cell_type": "code",
   "execution_count": 12,
   "id": "6d3edf06",
   "metadata": {
    "execution": {
     "iopub.execute_input": "2024-05-06T15:37:25.407542Z",
     "iopub.status.busy": "2024-05-06T15:37:25.407220Z",
     "iopub.status.idle": "2024-05-06T15:37:25.422991Z",
     "shell.execute_reply": "2024-05-06T15:37:25.422103Z"
    },
    "id": "uzhlVBQ9bFy4",
    "outputId": "56bb9b19-1c23-417f-c7ea-1043efa2bdc6",
    "papermill": {
     "duration": 0.048994,
     "end_time": "2024-05-06T15:37:25.424828",
     "exception": false,
     "start_time": "2024-05-06T15:37:25.375834",
     "status": "completed"
    },
    "tags": []
   },
   "outputs": [
    {
     "data": {
      "text/html": [
       "<div>\n",
       "<style scoped>\n",
       "    .dataframe tbody tr th:only-of-type {\n",
       "        vertical-align: middle;\n",
       "    }\n",
       "\n",
       "    .dataframe tbody tr th {\n",
       "        vertical-align: top;\n",
       "    }\n",
       "\n",
       "    .dataframe thead th {\n",
       "        text-align: right;\n",
       "    }\n",
       "</style>\n",
       "<table border=\"1\" class=\"dataframe\">\n",
       "  <thead>\n",
       "    <tr style=\"text-align: right;\">\n",
       "      <th></th>\n",
       "      <th>sample_id</th>\n",
       "      <th>question</th>\n",
       "      <th>questionEntity</th>\n",
       "      <th>answerEntity</th>\n",
       "      <th>groundTruthAnswerEntity</th>\n",
       "      <th>answerEntityId</th>\n",
       "      <th>questionEntityId</th>\n",
       "      <th>groundTruthAnswerEntityId</th>\n",
       "      <th>correct</th>\n",
       "      <th>graph</th>\n",
       "    </tr>\n",
       "  </thead>\n",
       "  <tbody>\n",
       "    <tr>\n",
       "      <th>0</th>\n",
       "      <td>0</td>\n",
       "      <td>Whst is the name of the head of state and highest ranking political and religious authority in Iran?</td>\n",
       "      <td>Iran</td>\n",
       "      <td>Ruhollah Khomeini's return to Iran</td>\n",
       "      <td>Office of the Supreme Leader of Iran</td>\n",
       "      <td>Q7293530</td>\n",
       "      <td>Q794</td>\n",
       "      <td>Q16045000</td>\n",
       "      <td>False</td>\n",
       "      <td>{'nodes': [{'type': 'QUESTIONS_ENTITY', 'name_': 'Q794', 'id': 0, 'label': 'Iran'}, {'type': 'INTERNAL', 'name_': 'Q207991', 'id': 1, 'label': 'Pahlavi dynasty'}, {'type': 'ANSWER_CANDIDATE_ENTITY', 'name_': 'Q7293530', 'id': 2, 'label': \"Ruhollah Khomeini's return to Iran\"}], 'links': [{'name_': 'P17', 'source': 0, 'target': 0, 'label': 'country'}, {'name_': 'P1365', 'source': 0, 'target': 1, 'label': 'replaces'}, {'name_': 'P1366', 'source': 1, 'target': 0, 'label': 'replaced by'}, {'name_': 'P17', 'source': 2, 'target': 1, 'label': 'country'}]}</td>\n",
       "    </tr>\n",
       "  </tbody>\n",
       "</table>\n",
       "</div>"
      ],
      "text/plain": [
       "   sample_id  \\\n",
       "0          0   \n",
       "\n",
       "                                                                                               question  \\\n",
       "0  Whst is the name of the head of state and highest ranking political and religious authority in Iran?   \n",
       "\n",
       "  questionEntity                        answerEntity  \\\n",
       "0           Iran  Ruhollah Khomeini's return to Iran   \n",
       "\n",
       "                groundTruthAnswerEntity answerEntityId questionEntityId  \\\n",
       "0  Office of the Supreme Leader of Iran       Q7293530             Q794   \n",
       "\n",
       "  groundTruthAnswerEntityId  correct  \\\n",
       "0                 Q16045000    False   \n",
       "\n",
       "                                                                                                                                                                                                                                                                                                                                                                                                                                                                                                                                                                       graph  \n",
       "0  {'nodes': [{'type': 'QUESTIONS_ENTITY', 'name_': 'Q794', 'id': 0, 'label': 'Iran'}, {'type': 'INTERNAL', 'name_': 'Q207991', 'id': 1, 'label': 'Pahlavi dynasty'}, {'type': 'ANSWER_CANDIDATE_ENTITY', 'name_': 'Q7293530', 'id': 2, 'label': \"Ruhollah Khomeini's return to Iran\"}], 'links': [{'name_': 'P17', 'source': 0, 'target': 0, 'label': 'country'}, {'name_': 'P1365', 'source': 0, 'target': 1, 'label': 'replaces'}, {'name_': 'P1366', 'source': 1, 'target': 0, 'label': 'replaced by'}, {'name_': 'P17', 'source': 2, 'target': 1, 'label': 'country'}]}  "
      ]
     },
     "execution_count": 12,
     "metadata": {},
     "output_type": "execute_result"
    }
   ],
   "source": [
    "data_df.head(1)"
   ]
  },
  {
   "cell_type": "code",
   "execution_count": 13,
   "id": "465f1d58",
   "metadata": {
    "execution": {
     "iopub.execute_input": "2024-05-06T15:37:25.488494Z",
     "iopub.status.busy": "2024-05-06T15:37:25.488154Z",
     "iopub.status.idle": "2024-05-06T15:37:25.498654Z",
     "shell.execute_reply": "2024-05-06T15:37:25.497736Z"
    },
    "id": "c_W3umW4fzlk",
    "papermill": {
     "duration": 0.044419,
     "end_time": "2024-05-06T15:37:25.500514",
     "exception": false,
     "start_time": "2024-05-06T15:37:25.456095",
     "status": "completed"
    },
    "tags": []
   },
   "outputs": [],
   "source": [
    "class QuestionAnswerDataset(Dataset):\n",
    "\n",
    "    def __init__(self, df, tokenizer, max_length, context_key=\"answerEntity\",\n",
    "                 tokenizer_truncation=\"only_first\", graph_length=\"length\", graph_density=\"density\"):\n",
    "        super(QuestionAnswerDataset).__init__()\n",
    "\n",
    "        self.questions = df.question.values\n",
    "        self.contexts = df[context_key].values\n",
    "        self.graph_length = df[graph_length].values\n",
    "        self.graph_density = df[graph_density].values\n",
    "        self.labels = torch.tensor(df.label.values, dtype=torch.float32)\n",
    "        self.tokenizer = tokenizer\n",
    "        self.max_length = max_length\n",
    "        self.tokenized_input = [tokenizer.encode_plus(x, y,\n",
    "                              max_length=self.max_length,\n",
    "                              padding=\"max_length\",\n",
    "                              truncation=tokenizer_truncation,\n",
    "                              return_tensors=\"pt\", ) \\\n",
    "                          for x, y in zip(self.questions,\n",
    "                                          self.contexts)]\n",
    "        assert len(self.questions) == len(self.contexts) == len(self.labels)\n",
    "\n",
    "    def __len__(self):\n",
    "        return len(self.questions)\n",
    "\n",
    "    def __getitem__(self, idx):\n",
    "        return {\n",
    "                \"input_ids\": self.tokenized_input[idx][\"input_ids\"][0],\n",
    "                \"attention_mask\" : self.tokenized_input[idx][\"attention_mask\"][0],\n",
    "                \"labels\": self.labels[idx],\n",
    "                \"graph_length\": self.graph_length[idx],\n",
    "                \"graph_density\": self.graph_density[idx],\n",
    "                }"
   ]
  },
  {
   "cell_type": "markdown",
   "id": "cb95d4ee",
   "metadata": {
    "id": "QVT2Urzeb2KD",
    "papermill": {
     "duration": 0.030462,
     "end_time": "2024-05-06T15:37:25.561931",
     "exception": false,
     "start_time": "2024-05-06T15:37:25.531469",
     "status": "completed"
    },
    "tags": []
   },
   "source": [
    "# Graph Linearization"
   ]
  },
  {
   "cell_type": "code",
   "execution_count": 14,
   "id": "200eb91f",
   "metadata": {
    "execution": {
     "iopub.execute_input": "2024-05-06T15:37:25.624995Z",
     "iopub.status.busy": "2024-05-06T15:37:25.624415Z",
     "iopub.status.idle": "2024-05-06T15:37:26.274108Z",
     "shell.execute_reply": "2024-05-06T15:37:26.273319Z"
    },
    "id": "oGwpaX9pbH1w",
    "outputId": "7c62da4d-7bf4-4a9f-d582-b10b9c0073c9",
    "papermill": {
     "duration": 0.683353,
     "end_time": "2024-05-06T15:37:26.276194",
     "exception": false,
     "start_time": "2024-05-06T15:37:25.592841",
     "status": "completed"
    },
    "tags": []
   },
   "outputs": [
    {
     "data": {
      "application/vnd.jupyter.widget-view+json": {
       "model_id": "ff2ea85c38774b26b311e1ed1297d163",
       "version_major": 2,
       "version_minor": 0
      },
      "text/plain": [
       "tokenizer_config.json:   0%|          | 0.00/350 [00:00<?, ?B/s]"
      ]
     },
     "metadata": {},
     "output_type": "display_data"
    },
    {
     "data": {
      "application/vnd.jupyter.widget-view+json": {
       "model_id": "85379f351c224cfa91df0b1ba016e747",
       "version_major": 2,
       "version_minor": 0
      },
      "text/plain": [
       "vocab.txt:   0%|          | 0.00/232k [00:00<?, ?B/s]"
      ]
     },
     "metadata": {},
     "output_type": "display_data"
    },
    {
     "data": {
      "application/vnd.jupyter.widget-view+json": {
       "model_id": "3ac67b75b2e84462b9e45016960683e5",
       "version_major": 2,
       "version_minor": 0
      },
      "text/plain": [
       "tokenizer.json:   0%|          | 0.00/466k [00:00<?, ?B/s]"
      ]
     },
     "metadata": {},
     "output_type": "display_data"
    },
    {
     "data": {
      "application/vnd.jupyter.widget-view+json": {
       "model_id": "ea3f4e3b48de4749b8ff0a64dbfec21c",
       "version_major": 2,
       "version_minor": 0
      },
      "text/plain": [
       "special_tokens_map.json:   0%|          | 0.00/112 [00:00<?, ?B/s]"
      ]
     },
     "metadata": {},
     "output_type": "display_data"
    }
   ],
   "source": [
    "model_name=\"sentence-transformers/all-MiniLM-L6-v2\"\n",
    "tokenizer = AutoTokenizer.from_pretrained(model_name)\n",
    "SEP_TOKEN = tokenizer.sep_token"
   ]
  },
  {
   "cell_type": "code",
   "execution_count": 15,
   "id": "6bc33750",
   "metadata": {
    "execution": {
     "iopub.execute_input": "2024-05-06T15:37:26.342496Z",
     "iopub.status.busy": "2024-05-06T15:37:26.342152Z",
     "iopub.status.idle": "2024-05-06T15:37:26.352698Z",
     "shell.execute_reply": "2024-05-06T15:37:26.351837Z"
    },
    "id": "e1ORIdQmb9RF",
    "papermill": {
     "duration": 0.0455,
     "end_time": "2024-05-06T15:37:26.354726",
     "exception": false,
     "start_time": "2024-05-06T15:37:26.309226",
     "status": "completed"
    },
    "tags": []
   },
   "outputs": [],
   "source": [
    "# {'directed': True, 'multigraph': False, 'graph': {},\n",
    "# 'nodes': [{'type': 'QUESTIONS_ENTITY', 'name_': 'Q49', 'id': 0, 'label': 'North America'},\n",
    "# {'type': 'ANSWER_CANDIDATE_ENTITY', 'name_': 'Q194057', 'id': 1, 'label': 'Mount Rainier'}],\n",
    "# 'links': [{'name_': 'P30', 'source': 1, 'target': 0, 'label': 'continent'}]}\n",
    "def linearize_graph(graph_dict):\n",
    "    graph_dict = graph_dict[\"graph\"]\n",
    "\n",
    "    nodes = sorted((node_dict for node_dict in graph_dict[\"nodes\"]), key=lambda d:d[\"id\"])\n",
    "\n",
    "    len_nodes = len(nodes)\n",
    "    len_links = len(graph_dict[\"links\"])\n",
    "    if len_nodes > 1:\n",
    "        kn_density =  len_links / (len_nodes * (len_nodes - 1))\n",
    "    else:\n",
    "        kn_density =  len_links / (len_nodes * (len_nodes))\n",
    "\n",
    "\n",
    "    for n_id, node_dict in enumerate(nodes):\n",
    "        assert n_id == node_dict[\"id\"]\n",
    "    src_node_id2links = {}\n",
    "\n",
    "    for link_dict in graph_dict[\"links\"]:\n",
    "\n",
    "        link_src =  link_dict[\"source\"]\n",
    "\n",
    "        if src_node_id2links.get(link_src) is None:\n",
    "            src_node_id2links[link_src] = []\n",
    "        src_node_id2links[link_src].append(link_dict)\n",
    "\n",
    "    graph_s = \"\"\n",
    "\n",
    "    for n_id, node_dict in enumerate(nodes):\n",
    "        links = src_node_id2links.get(n_id, list())\n",
    "        start_label = node_dict[\"label\"]\n",
    "        if node_dict[\"type\"] == \"ANSWER_CANDIDATE_ENTITY\":\n",
    "            start_label = f\"{SEP_TOKEN} {start_label} {SEP_TOKEN}\"\n",
    "        for link_dict in links:\n",
    "            target_label = nodes[link_dict[\"target\"]][\"label\"]\n",
    "            if nodes[link_dict[\"target\"]][\"type\"] == \"ANSWER_CANDIDATE_ENTITY\":\n",
    "                target_label = f\"{SEP_TOKEN} {target_label} {SEP_TOKEN}\"\n",
    "            link_s = f\" {start_label}, {link_dict['label']}, {target_label} \"\n",
    "\n",
    "            graph_s += link_s\n",
    "        # graph_s += node_dict[\"label\"]\n",
    "        # if n_id != len(nodes) - 1:\n",
    "        #     link_label = link[\"label\"]\n",
    "        #     graph_s += link_label\n",
    "    #print('--------')\n",
    "    return graph_s, len_nodes, kn_density"
   ]
  },
  {
   "cell_type": "code",
   "execution_count": 16,
   "id": "cb7fb478",
   "metadata": {
    "execution": {
     "iopub.execute_input": "2024-05-06T15:37:26.418391Z",
     "iopub.status.busy": "2024-05-06T15:37:26.418121Z",
     "iopub.status.idle": "2024-05-06T15:37:26.435289Z",
     "shell.execute_reply": "2024-05-06T15:37:26.434420Z"
    },
    "id": "fCTT-gMIh6XI",
    "outputId": "f82ed75b-7c7f-47b7-bf9d-4158210356fb",
    "papermill": {
     "duration": 0.051215,
     "end_time": "2024-05-06T15:37:26.437079",
     "exception": false,
     "start_time": "2024-05-06T15:37:26.385864",
     "status": "completed"
    },
    "tags": []
   },
   "outputs": [
    {
     "data": {
      "text/html": [
       "<div>\n",
       "<style scoped>\n",
       "    .dataframe tbody tr th:only-of-type {\n",
       "        vertical-align: middle;\n",
       "    }\n",
       "\n",
       "    .dataframe tbody tr th {\n",
       "        vertical-align: top;\n",
       "    }\n",
       "\n",
       "    .dataframe thead th {\n",
       "        text-align: right;\n",
       "    }\n",
       "</style>\n",
       "<table border=\"1\" class=\"dataframe\">\n",
       "  <thead>\n",
       "    <tr style=\"text-align: right;\">\n",
       "      <th></th>\n",
       "      <th>sample_id</th>\n",
       "      <th>question</th>\n",
       "      <th>questionEntity</th>\n",
       "      <th>answerEntity</th>\n",
       "      <th>groundTruthAnswerEntity</th>\n",
       "      <th>answerEntityId</th>\n",
       "      <th>questionEntityId</th>\n",
       "      <th>groundTruthAnswerEntityId</th>\n",
       "      <th>correct</th>\n",
       "      <th>graph</th>\n",
       "      <th>label</th>\n",
       "    </tr>\n",
       "  </thead>\n",
       "  <tbody>\n",
       "    <tr>\n",
       "      <th>0</th>\n",
       "      <td>0</td>\n",
       "      <td>Whst is the name of the head of state and highest ranking political and religious authority in Iran?</td>\n",
       "      <td>Iran</td>\n",
       "      <td>Ruhollah Khomeini's return to Iran</td>\n",
       "      <td>Office of the Supreme Leader of Iran</td>\n",
       "      <td>Q7293530</td>\n",
       "      <td>Q794</td>\n",
       "      <td>Q16045000</td>\n",
       "      <td>False</td>\n",
       "      <td>{'nodes': [{'type': 'QUESTIONS_ENTITY', 'name_': 'Q794', 'id': 0, 'label': 'Iran'}, {'type': 'INTERNAL', 'name_': 'Q207991', 'id': 1, 'label': 'Pahlavi dynasty'}, {'type': 'ANSWER_CANDIDATE_ENTITY', 'name_': 'Q7293530', 'id': 2, 'label': 'Ruhollah Khomeini's return to Iran'}], 'links': [{'name_': 'P17', 'source': 0, 'target': 0, 'label': 'country'}, {'name_': 'P1365', 'source': 0, 'target': 1, 'label': 'replaces'}, {'name_': 'P1366', 'source': 1, 'target': 0, 'label': 'replaced by'}, {'name_': 'P17', 'source': 2, 'target': 1, 'label': 'country'}]}</td>\n",
       "      <td>0.0</td>\n",
       "    </tr>\n",
       "  </tbody>\n",
       "</table>\n",
       "</div>"
      ],
      "text/plain": [
       "   sample_id  \\\n",
       "0          0   \n",
       "\n",
       "                                                                                               question  \\\n",
       "0  Whst is the name of the head of state and highest ranking political and religious authority in Iran?   \n",
       "\n",
       "  questionEntity                        answerEntity  \\\n",
       "0           Iran  Ruhollah Khomeini's return to Iran   \n",
       "\n",
       "                groundTruthAnswerEntity answerEntityId questionEntityId  \\\n",
       "0  Office of the Supreme Leader of Iran       Q7293530             Q794   \n",
       "\n",
       "  groundTruthAnswerEntityId  correct  \\\n",
       "0                 Q16045000    False   \n",
       "\n",
       "                                                                                                                                                                                                                                                                                                                                                                                                                                                                                                                                                                       graph  \\\n",
       "0  {'nodes': [{'type': 'QUESTIONS_ENTITY', 'name_': 'Q794', 'id': 0, 'label': 'Iran'}, {'type': 'INTERNAL', 'name_': 'Q207991', 'id': 1, 'label': 'Pahlavi dynasty'}, {'type': 'ANSWER_CANDIDATE_ENTITY', 'name_': 'Q7293530', 'id': 2, 'label': 'Ruhollah Khomeini's return to Iran'}], 'links': [{'name_': 'P17', 'source': 0, 'target': 0, 'label': 'country'}, {'name_': 'P1365', 'source': 0, 'target': 1, 'label': 'replaces'}, {'name_': 'P1366', 'source': 1, 'target': 0, 'label': 'replaced by'}, {'name_': 'P17', 'source': 2, 'target': 1, 'label': 'country'}]}   \n",
       "\n",
       "   label  \n",
       "0    0.0  "
      ]
     },
     "execution_count": 16,
     "metadata": {},
     "output_type": "execute_result"
    }
   ],
   "source": [
    "train_df.head(1)"
   ]
  },
  {
   "cell_type": "code",
   "execution_count": 17,
   "id": "ae70f8d4",
   "metadata": {
    "execution": {
     "iopub.execute_input": "2024-05-06T15:37:26.502948Z",
     "iopub.status.busy": "2024-05-06T15:37:26.502640Z",
     "iopub.status.idle": "2024-05-06T15:37:26.510252Z",
     "shell.execute_reply": "2024-05-06T15:37:26.509419Z"
    },
    "id": "oNUxHj0zhWz-",
    "outputId": "3f2af0cb-3191-4286-9414-e2ed24e9e07a",
    "papermill": {
     "duration": 0.042467,
     "end_time": "2024-05-06T15:37:26.512218",
     "exception": false,
     "start_time": "2024-05-06T15:37:26.469751",
     "status": "completed"
    },
    "tags": []
   },
   "outputs": [
    {
     "data": {
      "text/plain": [
       "{'nodes': [{'type': 'QUESTIONS_ENTITY',\n",
       "   'name_': 'Q794',\n",
       "   'id': 0,\n",
       "   'label': 'Iran'},\n",
       "  {'type': 'INTERNAL',\n",
       "   'name_': 'Q207991',\n",
       "   'id': 1,\n",
       "   'label': 'Pahlavi dynasty'},\n",
       "  {'type': 'ANSWER_CANDIDATE_ENTITY',\n",
       "   'name_': 'Q7293530',\n",
       "   'id': 2,\n",
       "   'label': \"Ruhollah Khomeini's return to Iran\"}],\n",
       " 'links': [{'name_': 'P17', 'source': 0, 'target': 0, 'label': 'country'},\n",
       "  {'name_': 'P1365', 'source': 0, 'target': 1, 'label': 'replaces'},\n",
       "  {'name_': 'P1366', 'source': 1, 'target': 0, 'label': 'replaced by'},\n",
       "  {'name_': 'P17', 'source': 2, 'target': 1, 'label': 'country'}]}"
      ]
     },
     "execution_count": 17,
     "metadata": {},
     "output_type": "execute_result"
    }
   ],
   "source": [
    "train_df[\"graph\"][0]"
   ]
  },
  {
   "cell_type": "code",
   "execution_count": 18,
   "id": "940f8aa6",
   "metadata": {
    "execution": {
     "iopub.execute_input": "2024-05-06T15:37:26.577128Z",
     "iopub.status.busy": "2024-05-06T15:37:26.576861Z",
     "iopub.status.idle": "2024-05-06T15:37:27.715081Z",
     "shell.execute_reply": "2024-05-06T15:37:27.714246Z"
    },
    "id": "ZFOuz8WScbCA",
    "outputId": "f15497df-a0da-4b41-bdad-6729f18c60f9",
    "papermill": {
     "duration": 1.17301,
     "end_time": "2024-05-06T15:37:27.717254",
     "exception": false,
     "start_time": "2024-05-06T15:37:26.544244",
     "status": "completed"
    },
    "tags": []
   },
   "outputs": [
    {
     "name": "stderr",
     "output_type": "stream",
     "text": [
      "/tmp/ipykernel_24/648362694.py:1: SettingWithCopyWarning: \n",
      "A value is trying to be set on a copy of a slice from a DataFrame.\n",
      "Try using .loc[row_indexer,col_indexer] = value instead\n",
      "\n",
      "See the caveats in the documentation: https://pandas.pydata.org/pandas-docs/stable/user_guide/indexing.html#returning-a-view-versus-a-copy\n",
      "  train_df[\"linearized_graph\"], train_df[\"length\"], train_df[\"density\"] = zip(*train_df.apply(linearize_graph, axis=1))\n",
      "/tmp/ipykernel_24/648362694.py:1: SettingWithCopyWarning: \n",
      "A value is trying to be set on a copy of a slice from a DataFrame.\n",
      "Try using .loc[row_indexer,col_indexer] = value instead\n",
      "\n",
      "See the caveats in the documentation: https://pandas.pydata.org/pandas-docs/stable/user_guide/indexing.html#returning-a-view-versus-a-copy\n",
      "  train_df[\"linearized_graph\"], train_df[\"length\"], train_df[\"density\"] = zip(*train_df.apply(linearize_graph, axis=1))\n",
      "/tmp/ipykernel_24/648362694.py:1: SettingWithCopyWarning: \n",
      "A value is trying to be set on a copy of a slice from a DataFrame.\n",
      "Try using .loc[row_indexer,col_indexer] = value instead\n",
      "\n",
      "See the caveats in the documentation: https://pandas.pydata.org/pandas-docs/stable/user_guide/indexing.html#returning-a-view-versus-a-copy\n",
      "  train_df[\"linearized_graph\"], train_df[\"length\"], train_df[\"density\"] = zip(*train_df.apply(linearize_graph, axis=1))\n",
      "/tmp/ipykernel_24/648362694.py:2: SettingWithCopyWarning: \n",
      "A value is trying to be set on a copy of a slice from a DataFrame.\n",
      "Try using .loc[row_indexer,col_indexer] = value instead\n",
      "\n",
      "See the caveats in the documentation: https://pandas.pydata.org/pandas-docs/stable/user_guide/indexing.html#returning-a-view-versus-a-copy\n",
      "  dev_df[\"linearized_graph\"], dev_df[\"length\"], dev_df[\"density\"] = zip(*dev_df.apply(linearize_graph, axis=1))\n",
      "/tmp/ipykernel_24/648362694.py:2: SettingWithCopyWarning: \n",
      "A value is trying to be set on a copy of a slice from a DataFrame.\n",
      "Try using .loc[row_indexer,col_indexer] = value instead\n",
      "\n",
      "See the caveats in the documentation: https://pandas.pydata.org/pandas-docs/stable/user_guide/indexing.html#returning-a-view-versus-a-copy\n",
      "  dev_df[\"linearized_graph\"], dev_df[\"length\"], dev_df[\"density\"] = zip(*dev_df.apply(linearize_graph, axis=1))\n",
      "/tmp/ipykernel_24/648362694.py:2: SettingWithCopyWarning: \n",
      "A value is trying to be set on a copy of a slice from a DataFrame.\n",
      "Try using .loc[row_indexer,col_indexer] = value instead\n",
      "\n",
      "See the caveats in the documentation: https://pandas.pydata.org/pandas-docs/stable/user_guide/indexing.html#returning-a-view-versus-a-copy\n",
      "  dev_df[\"linearized_graph\"], dev_df[\"length\"], dev_df[\"density\"] = zip(*dev_df.apply(linearize_graph, axis=1))\n",
      "/tmp/ipykernel_24/648362694.py:3: SettingWithCopyWarning: \n",
      "A value is trying to be set on a copy of a slice from a DataFrame.\n",
      "Try using .loc[row_indexer,col_indexer] = value instead\n",
      "\n",
      "See the caveats in the documentation: https://pandas.pydata.org/pandas-docs/stable/user_guide/indexing.html#returning-a-view-versus-a-copy\n",
      "  test_df[\"linearized_graph\"], test_df[\"length\"], test_df[\"density\"] = zip(*test_df.apply(linearize_graph, axis=1))\n",
      "/tmp/ipykernel_24/648362694.py:3: SettingWithCopyWarning: \n",
      "A value is trying to be set on a copy of a slice from a DataFrame.\n",
      "Try using .loc[row_indexer,col_indexer] = value instead\n",
      "\n",
      "See the caveats in the documentation: https://pandas.pydata.org/pandas-docs/stable/user_guide/indexing.html#returning-a-view-versus-a-copy\n",
      "  test_df[\"linearized_graph\"], test_df[\"length\"], test_df[\"density\"] = zip(*test_df.apply(linearize_graph, axis=1))\n",
      "/tmp/ipykernel_24/648362694.py:3: SettingWithCopyWarning: \n",
      "A value is trying to be set on a copy of a slice from a DataFrame.\n",
      "Try using .loc[row_indexer,col_indexer] = value instead\n",
      "\n",
      "See the caveats in the documentation: https://pandas.pydata.org/pandas-docs/stable/user_guide/indexing.html#returning-a-view-versus-a-copy\n",
      "  test_df[\"linearized_graph\"], test_df[\"length\"], test_df[\"density\"] = zip(*test_df.apply(linearize_graph, axis=1))\n"
     ]
    }
   ],
   "source": [
    "train_df[\"linearized_graph\"], train_df[\"length\"], train_df[\"density\"] = zip(*train_df.apply(linearize_graph, axis=1))\n",
    "dev_df[\"linearized_graph\"], dev_df[\"length\"], dev_df[\"density\"] = zip(*dev_df.apply(linearize_graph, axis=1))\n",
    "test_df[\"linearized_graph\"], test_df[\"length\"], test_df[\"density\"] = zip(*test_df.apply(linearize_graph, axis=1))"
   ]
  },
  {
   "cell_type": "code",
   "execution_count": 19,
   "id": "cc8ad038",
   "metadata": {
    "execution": {
     "iopub.execute_input": "2024-05-06T15:37:27.783156Z",
     "iopub.status.busy": "2024-05-06T15:37:27.782879Z",
     "iopub.status.idle": "2024-05-06T15:37:27.808953Z",
     "shell.execute_reply": "2024-05-06T15:37:27.808039Z"
    },
    "id": "kCPpjo7BZYV1",
    "outputId": "d6af5e78-190e-4556-d358-1ec0aee0f1c7",
    "papermill": {
     "duration": 0.06082,
     "end_time": "2024-05-06T15:37:27.810987",
     "exception": false,
     "start_time": "2024-05-06T15:37:27.750167",
     "status": "completed"
    },
    "tags": []
   },
   "outputs": [
    {
     "data": {
      "text/html": [
       "<div>\n",
       "<style scoped>\n",
       "    .dataframe tbody tr th:only-of-type {\n",
       "        vertical-align: middle;\n",
       "    }\n",
       "\n",
       "    .dataframe tbody tr th {\n",
       "        vertical-align: top;\n",
       "    }\n",
       "\n",
       "    .dataframe thead th {\n",
       "        text-align: right;\n",
       "    }\n",
       "</style>\n",
       "<table border=\"1\" class=\"dataframe\">\n",
       "  <thead>\n",
       "    <tr style=\"text-align: right;\">\n",
       "      <th></th>\n",
       "      <th>sample_id</th>\n",
       "      <th>question</th>\n",
       "      <th>questionEntity</th>\n",
       "      <th>answerEntity</th>\n",
       "      <th>groundTruthAnswerEntity</th>\n",
       "      <th>answerEntityId</th>\n",
       "      <th>questionEntityId</th>\n",
       "      <th>groundTruthAnswerEntityId</th>\n",
       "      <th>correct</th>\n",
       "      <th>graph</th>\n",
       "      <th>label</th>\n",
       "      <th>linearized_graph</th>\n",
       "      <th>length</th>\n",
       "      <th>density</th>\n",
       "    </tr>\n",
       "  </thead>\n",
       "  <tbody>\n",
       "    <tr>\n",
       "      <th>0</th>\n",
       "      <td>0</td>\n",
       "      <td>Whst is the name of the head of state and highest ranking political and religious authority in Iran?</td>\n",
       "      <td>Iran</td>\n",
       "      <td>Ruhollah Khomeini's return to Iran</td>\n",
       "      <td>Office of the Supreme Leader of Iran</td>\n",
       "      <td>Q7293530</td>\n",
       "      <td>Q794</td>\n",
       "      <td>Q16045000</td>\n",
       "      <td>False</td>\n",
       "      <td>{'nodes': [{'type': 'QUESTIONS_ENTITY', 'name_': 'Q794', 'id': 0, 'label': 'Iran'}, {'type': 'INTERNAL', 'name_': 'Q207991', 'id': 1, 'label': 'Pahlavi dynasty'}, {'type': 'ANSWER_CANDIDATE_ENTITY', 'name_': 'Q7293530', 'id': 2, 'label': 'Ruhollah Khomeini's return to Iran'}], 'links': [{'name_': 'P17', 'source': 0, 'target': 0, 'label': 'country'}, {'name_': 'P1365', 'source': 0, 'target': 1, 'label': 'replaces'}, {'name_': 'P1366', 'source': 1, 'target': 0, 'label': 'replaced by'}, {'name_': 'P17', 'source': 2, 'target': 1, 'label': 'country'}]}</td>\n",
       "      <td>0.0</td>\n",
       "      <td>Iran, country, Iran  Iran, replaces, Pahlavi dynasty  Pahlavi dynasty, replaced by, Iran  [SEP] Ruhollah Khomeini's return to Iran [SEP], country, Pahlavi dynasty</td>\n",
       "      <td>3</td>\n",
       "      <td>0.666667</td>\n",
       "    </tr>\n",
       "    <tr>\n",
       "      <th>1</th>\n",
       "      <td>1</td>\n",
       "      <td>Whst is the name of the head of state and highest ranking political and religious authority in Iran?</td>\n",
       "      <td>Iran</td>\n",
       "      <td>Ruhollah Khomeini's letter to Mikhail Gorbachev</td>\n",
       "      <td>Office of the Supreme Leader of Iran</td>\n",
       "      <td>Q5952984</td>\n",
       "      <td>Q794</td>\n",
       "      <td>Q16045000</td>\n",
       "      <td>False</td>\n",
       "      <td>{'nodes': [{'type': 'INTERNAL', 'name_': 'Q4173137', 'id': 0, 'label': 'Jewish Encyclopedia of Brockhaus and Efron'}, {'type': 'QUESTIONS_ENTITY', 'name_': 'Q794', 'id': 1, 'label': 'Iran'}, {'type': 'INTERNAL', 'name_': 'Q47461344', 'id': 2, 'label': 'written work'}, {'type': 'INTERNAL', 'name_': 'Q133492', 'id': 3, 'label': 'letter'}, {'type': 'INTERNAL', 'name_': 'Q1030940', 'id': 4, 'label': 'The Book of Healing'}, {'type': 'ANSWER_CANDIDATE_ENTITY', 'name_': 'Q5952984', 'id': 5, 'label': 'Ruhollah Khomeini's letter to Mikhail Gorbachev'}], 'links': [{'name_': 'P1343', 'source': 1, 'target': 0, 'label': 'described by source'}, {'name_': 'P17', 'source': 1, 'target': 1, 'label': 'country'}, {'name_': 'P1343', 'source': 3, 'target': 0, 'label': 'described by source'}, {'name_': 'P279', 'source': 3, 'target': 2, 'label': 'subclass of'}, {'name_': 'P495', 'source': 4, 'target': 1, 'label': 'country of origin'}, {'name_': 'P31', 'source': 4, 'target': 2, 'label': 'instance of'}, {'name_': 'P31', 'source': 5, 'target': 2, 'label': 'instance of'}, {'name_': 'P31', 'source': 5, 'target': 3, 'label': 'instance of'}]}</td>\n",
       "      <td>0.0</td>\n",
       "      <td>Iran, described by source, Jewish Encyclopedia of Brockhaus and Efron  Iran, country, Iran  letter, described by source, Jewish Encyclopedia of Brockhaus and Efron  letter, subclass of, written work  The Book of Healing, country of origin, Iran  The Book of Healing, instance of, written work  [SEP] Ruhollah Khomeini's letter to Mikhail Gorbachev [SEP], instance of, written work  [SEP] Ruhollah Khomeini's letter to Mikhail Gorbachev [SEP], instance of, letter</td>\n",
       "      <td>6</td>\n",
       "      <td>0.266667</td>\n",
       "    </tr>\n",
       "  </tbody>\n",
       "</table>\n",
       "</div>"
      ],
      "text/plain": [
       "   sample_id  \\\n",
       "0          0   \n",
       "1          1   \n",
       "\n",
       "                                                                                               question  \\\n",
       "0  Whst is the name of the head of state and highest ranking political and religious authority in Iran?   \n",
       "1  Whst is the name of the head of state and highest ranking political and religious authority in Iran?   \n",
       "\n",
       "  questionEntity                                     answerEntity  \\\n",
       "0           Iran               Ruhollah Khomeini's return to Iran   \n",
       "1           Iran  Ruhollah Khomeini's letter to Mikhail Gorbachev   \n",
       "\n",
       "                groundTruthAnswerEntity answerEntityId questionEntityId  \\\n",
       "0  Office of the Supreme Leader of Iran       Q7293530             Q794   \n",
       "1  Office of the Supreme Leader of Iran       Q5952984             Q794   \n",
       "\n",
       "  groundTruthAnswerEntityId  correct  \\\n",
       "0                 Q16045000    False   \n",
       "1                 Q16045000    False   \n",
       "\n",
       "                                                                                                                                                                                                                                                                                                                                                                                                                                                                                                                                                                                                                                                                                                                                                                                                                                                                                                                                                                                                                                                                                                                                                                       graph  \\\n",
       "0                                                                                                                                                                                                                                                                                                                                                                                                                                                                                                                                                                                                  {'nodes': [{'type': 'QUESTIONS_ENTITY', 'name_': 'Q794', 'id': 0, 'label': 'Iran'}, {'type': 'INTERNAL', 'name_': 'Q207991', 'id': 1, 'label': 'Pahlavi dynasty'}, {'type': 'ANSWER_CANDIDATE_ENTITY', 'name_': 'Q7293530', 'id': 2, 'label': 'Ruhollah Khomeini's return to Iran'}], 'links': [{'name_': 'P17', 'source': 0, 'target': 0, 'label': 'country'}, {'name_': 'P1365', 'source': 0, 'target': 1, 'label': 'replaces'}, {'name_': 'P1366', 'source': 1, 'target': 0, 'label': 'replaced by'}, {'name_': 'P17', 'source': 2, 'target': 1, 'label': 'country'}]}   \n",
       "1  {'nodes': [{'type': 'INTERNAL', 'name_': 'Q4173137', 'id': 0, 'label': 'Jewish Encyclopedia of Brockhaus and Efron'}, {'type': 'QUESTIONS_ENTITY', 'name_': 'Q794', 'id': 1, 'label': 'Iran'}, {'type': 'INTERNAL', 'name_': 'Q47461344', 'id': 2, 'label': 'written work'}, {'type': 'INTERNAL', 'name_': 'Q133492', 'id': 3, 'label': 'letter'}, {'type': 'INTERNAL', 'name_': 'Q1030940', 'id': 4, 'label': 'The Book of Healing'}, {'type': 'ANSWER_CANDIDATE_ENTITY', 'name_': 'Q5952984', 'id': 5, 'label': 'Ruhollah Khomeini's letter to Mikhail Gorbachev'}], 'links': [{'name_': 'P1343', 'source': 1, 'target': 0, 'label': 'described by source'}, {'name_': 'P17', 'source': 1, 'target': 1, 'label': 'country'}, {'name_': 'P1343', 'source': 3, 'target': 0, 'label': 'described by source'}, {'name_': 'P279', 'source': 3, 'target': 2, 'label': 'subclass of'}, {'name_': 'P495', 'source': 4, 'target': 1, 'label': 'country of origin'}, {'name_': 'P31', 'source': 4, 'target': 2, 'label': 'instance of'}, {'name_': 'P31', 'source': 5, 'target': 2, 'label': 'instance of'}, {'name_': 'P31', 'source': 5, 'target': 3, 'label': 'instance of'}]}   \n",
       "\n",
       "   label  \\\n",
       "0    0.0   \n",
       "1    0.0   \n",
       "\n",
       "                                                                                                                                                                                                                                                                                                                                                                                                                                                                   linearized_graph  \\\n",
       "0                                                                                                                                                                                                                                                                                                               Iran, country, Iran  Iran, replaces, Pahlavi dynasty  Pahlavi dynasty, replaced by, Iran  [SEP] Ruhollah Khomeini's return to Iran [SEP], country, Pahlavi dynasty    \n",
       "1   Iran, described by source, Jewish Encyclopedia of Brockhaus and Efron  Iran, country, Iran  letter, described by source, Jewish Encyclopedia of Brockhaus and Efron  letter, subclass of, written work  The Book of Healing, country of origin, Iran  The Book of Healing, instance of, written work  [SEP] Ruhollah Khomeini's letter to Mikhail Gorbachev [SEP], instance of, written work  [SEP] Ruhollah Khomeini's letter to Mikhail Gorbachev [SEP], instance of, letter    \n",
       "\n",
       "   length   density  \n",
       "0       3  0.666667  \n",
       "1       6  0.266667  "
      ]
     },
     "execution_count": 19,
     "metadata": {},
     "output_type": "execute_result"
    }
   ],
   "source": [
    "train_df.head(2)"
   ]
  },
  {
   "cell_type": "markdown",
   "id": "150d4b4c",
   "metadata": {
    "id": "aeBLPtJJjMsE",
    "papermill": {
     "duration": 0.0324,
     "end_time": "2024-05-06T15:37:27.876250",
     "exception": false,
     "start_time": "2024-05-06T15:37:27.843850",
     "status": "completed"
    },
    "tags": []
   },
   "source": [
    "# Data exploration"
   ]
  },
  {
   "cell_type": "code",
   "execution_count": 20,
   "id": "0781e7af",
   "metadata": {
    "execution": {
     "iopub.execute_input": "2024-05-06T15:37:27.942063Z",
     "iopub.status.busy": "2024-05-06T15:37:27.941671Z",
     "iopub.status.idle": "2024-05-06T15:37:27.956374Z",
     "shell.execute_reply": "2024-05-06T15:37:27.955485Z"
    },
    "id": "AieelVfeh3PI",
    "outputId": "37f6239c-29e3-49e9-bbe9-af101f5441aa",
    "papermill": {
     "duration": 0.049929,
     "end_time": "2024-05-06T15:37:27.958249",
     "exception": false,
     "start_time": "2024-05-06T15:37:27.908320",
     "status": "completed"
    },
    "tags": []
   },
   "outputs": [
    {
     "data": {
      "text/html": [
       "<div>\n",
       "<style scoped>\n",
       "    .dataframe tbody tr th:only-of-type {\n",
       "        vertical-align: middle;\n",
       "    }\n",
       "\n",
       "    .dataframe tbody tr th {\n",
       "        vertical-align: top;\n",
       "    }\n",
       "\n",
       "    .dataframe thead th {\n",
       "        text-align: right;\n",
       "    }\n",
       "</style>\n",
       "<table border=\"1\" class=\"dataframe\">\n",
       "  <thead>\n",
       "    <tr style=\"text-align: right;\">\n",
       "      <th></th>\n",
       "      <th>correct</th>\n",
       "      <th>length</th>\n",
       "      <th>density</th>\n",
       "    </tr>\n",
       "  </thead>\n",
       "  <tbody>\n",
       "    <tr>\n",
       "      <th>0</th>\n",
       "      <td>False</td>\n",
       "      <td>3</td>\n",
       "      <td>0.666667</td>\n",
       "    </tr>\n",
       "    <tr>\n",
       "      <th>1</th>\n",
       "      <td>False</td>\n",
       "      <td>6</td>\n",
       "      <td>0.266667</td>\n",
       "    </tr>\n",
       "    <tr>\n",
       "      <th>2</th>\n",
       "      <td>False</td>\n",
       "      <td>2</td>\n",
       "      <td>1.500000</td>\n",
       "    </tr>\n",
       "  </tbody>\n",
       "</table>\n",
       "</div>"
      ],
      "text/plain": [
       "   correct  length   density\n",
       "0    False       3  0.666667\n",
       "1    False       6  0.266667\n",
       "2    False       2  1.500000"
      ]
     },
     "execution_count": 20,
     "metadata": {},
     "output_type": "execute_result"
    }
   ],
   "source": [
    "train_exploration_df = pd.DataFrame()\n",
    "train_exploration_df[\"correct\"], train_exploration_df[\"length\"], train_exploration_df[\"density\"] = train_df[\"correct\"], train_df[\"length\"], train_df[\"density\"]\n",
    "train_exploration_df.head(3)"
   ]
  },
  {
   "cell_type": "code",
   "execution_count": 21,
   "id": "8a213de7",
   "metadata": {
    "execution": {
     "iopub.execute_input": "2024-05-06T15:37:28.024375Z",
     "iopub.status.busy": "2024-05-06T15:37:28.024100Z",
     "iopub.status.idle": "2024-05-06T15:37:28.703901Z",
     "shell.execute_reply": "2024-05-06T15:37:28.702878Z"
    },
    "id": "Sy3IulTSih2b",
    "outputId": "101647b9-afd1-40bc-fcd0-396e185da53d",
    "papermill": {
     "duration": 0.71627,
     "end_time": "2024-05-06T15:37:28.706855",
     "exception": false,
     "start_time": "2024-05-06T15:37:27.990585",
     "status": "completed"
    },
    "tags": []
   },
   "outputs": [
    {
     "data": {
      "text/plain": [
       "array([[<Axes: title={'center': 'length'}>,\n",
       "        <Axes: title={'center': 'density'}>]], dtype=object)"
      ]
     },
     "execution_count": 21,
     "metadata": {},
     "output_type": "execute_result"
    },
    {
     "data": {
      "image/png": "[encoded data removed]",
      "text/plain": [
       "<Figure size 1600x1200 with 2 Axes>"
      ]
     },
     "metadata": {},
     "output_type": "display_data"
    }
   ],
   "source": [
    "train_exploration_df.hist()"
   ]
  },
  {
   "cell_type": "code",
   "execution_count": 22,
   "id": "0cf94fa9",
   "metadata": {
    "execution": {
     "iopub.execute_input": "2024-05-06T15:37:28.785821Z",
     "iopub.status.busy": "2024-05-06T15:37:28.785166Z",
     "iopub.status.idle": "2024-05-06T15:37:28.799088Z",
     "shell.execute_reply": "2024-05-06T15:37:28.798032Z"
    },
    "id": "dJHkcmpWjPfU",
    "outputId": "80f30368-c906-415b-c89b-ee1ea128578e",
    "papermill": {
     "duration": 0.053431,
     "end_time": "2024-05-06T15:37:28.801189",
     "exception": false,
     "start_time": "2024-05-06T15:37:28.747758",
     "status": "completed"
    },
    "tags": []
   },
   "outputs": [
    {
     "data": {
      "text/html": [
       "<div>\n",
       "<style scoped>\n",
       "    .dataframe tbody tr th:only-of-type {\n",
       "        vertical-align: middle;\n",
       "    }\n",
       "\n",
       "    .dataframe tbody tr th {\n",
       "        vertical-align: top;\n",
       "    }\n",
       "\n",
       "    .dataframe thead th {\n",
       "        text-align: right;\n",
       "    }\n",
       "</style>\n",
       "<table border=\"1\" class=\"dataframe\">\n",
       "  <thead>\n",
       "    <tr style=\"text-align: right;\">\n",
       "      <th></th>\n",
       "      <th>length</th>\n",
       "      <th>density</th>\n",
       "    </tr>\n",
       "    <tr>\n",
       "      <th>correct</th>\n",
       "      <th></th>\n",
       "      <th></th>\n",
       "    </tr>\n",
       "  </thead>\n",
       "  <tbody>\n",
       "    <tr>\n",
       "      <th>False</th>\n",
       "      <td>3.925680</td>\n",
       "      <td>0.440844</td>\n",
       "    </tr>\n",
       "    <tr>\n",
       "      <th>True</th>\n",
       "      <td>3.086342</td>\n",
       "      <td>0.545361</td>\n",
       "    </tr>\n",
       "  </tbody>\n",
       "</table>\n",
       "</div>"
      ],
      "text/plain": [
       "           length   density\n",
       "correct                    \n",
       "False    3.925680  0.440844\n",
       "True     3.086342  0.545361"
      ]
     },
     "execution_count": 22,
     "metadata": {},
     "output_type": "execute_result"
    }
   ],
   "source": [
    "train_exploration_df.groupby(\"correct\").mean()"
   ]
  },
  {
   "cell_type": "code",
   "execution_count": 23,
   "id": "035274c2",
   "metadata": {
    "execution": {
     "iopub.execute_input": "2024-05-06T15:37:28.873831Z",
     "iopub.status.busy": "2024-05-06T15:37:28.873507Z",
     "iopub.status.idle": "2024-05-06T15:37:29.636400Z",
     "shell.execute_reply": "2024-05-06T15:37:29.635509Z"
    },
    "id": "WOIbJl8dj6UO",
    "outputId": "88314e65-8348-4351-c788-616c27fa26fe",
    "papermill": {
     "duration": 0.802084,
     "end_time": "2024-05-06T15:37:29.638796",
     "exception": false,
     "start_time": "2024-05-06T15:37:28.836712",
     "status": "completed"
    },
    "tags": []
   },
   "outputs": [
    {
     "data": {
      "image/png": "[encoded data removed]",
      "text/plain": [
       "<Figure size 1200x800 with 2 Axes>"
      ]
     },
     "metadata": {},
     "output_type": "display_data"
    }
   ],
   "source": [
    "fig, ax = plt.subplots(nrows=1, ncols=2, figsize=(12, 8))\n",
    "\n",
    "ax[0].scatter(train_exploration_df[\"correct\"], train_exploration_df[\"length\"])\n",
    "ax[0].set_xlabel('Correctness')\n",
    "ax[0].set_title('Train Correctness-Length correlation')\n",
    "\n",
    "ax[1].scatter(train_exploration_df[\"correct\"], train_exploration_df[\"density\"])\n",
    "ax[1].set_xlabel('Density')\n",
    "ax[1].set_title('Train Correctness-Densitycorrelation')\n",
    "\n",
    "plt.legend()\n",
    "plt.show()"
   ]
  },
  {
   "cell_type": "code",
   "execution_count": 24,
   "id": "f5be37f1",
   "metadata": {
    "execution": {
     "iopub.execute_input": "2024-05-06T15:37:29.714778Z",
     "iopub.status.busy": "2024-05-06T15:37:29.713846Z",
     "iopub.status.idle": "2024-05-06T15:37:29.727897Z",
     "shell.execute_reply": "2024-05-06T15:37:29.726931Z"
    },
    "id": "Dm4d7wmZj6Wa",
    "outputId": "abe57e48-21e6-4805-9ea0-465fcba6154c",
    "papermill": {
     "duration": 0.054717,
     "end_time": "2024-05-06T15:37:29.730261",
     "exception": false,
     "start_time": "2024-05-06T15:37:29.675544",
     "status": "completed"
    },
    "tags": []
   },
   "outputs": [
    {
     "data": {
      "text/html": [
       "<div>\n",
       "<style scoped>\n",
       "    .dataframe tbody tr th:only-of-type {\n",
       "        vertical-align: middle;\n",
       "    }\n",
       "\n",
       "    .dataframe tbody tr th {\n",
       "        vertical-align: top;\n",
       "    }\n",
       "\n",
       "    .dataframe thead th {\n",
       "        text-align: right;\n",
       "    }\n",
       "</style>\n",
       "<table border=\"1\" class=\"dataframe\">\n",
       "  <thead>\n",
       "    <tr style=\"text-align: right;\">\n",
       "      <th></th>\n",
       "      <th>correct</th>\n",
       "      <th>length</th>\n",
       "      <th>density</th>\n",
       "    </tr>\n",
       "  </thead>\n",
       "  <tbody>\n",
       "    <tr>\n",
       "      <th>11</th>\n",
       "      <td>False</td>\n",
       "      <td>2</td>\n",
       "      <td>0.5</td>\n",
       "    </tr>\n",
       "    <tr>\n",
       "      <th>12</th>\n",
       "      <td>False</td>\n",
       "      <td>3</td>\n",
       "      <td>0.5</td>\n",
       "    </tr>\n",
       "    <tr>\n",
       "      <th>13</th>\n",
       "      <td>False</td>\n",
       "      <td>2</td>\n",
       "      <td>0.5</td>\n",
       "    </tr>\n",
       "  </tbody>\n",
       "</table>\n",
       "</div>"
      ],
      "text/plain": [
       "    correct  length  density\n",
       "11    False       2      0.5\n",
       "12    False       3      0.5\n",
       "13    False       2      0.5"
      ]
     },
     "execution_count": 24,
     "metadata": {},
     "output_type": "execute_result"
    }
   ],
   "source": [
    "test_exploration_df = pd.DataFrame()\n",
    "test_exploration_df[\"correct\"], test_exploration_df[\"length\"], test_exploration_df[\"density\"] = test_df[\"correct\"], test_df[\"length\"], test_df[\"density\"]\n",
    "test_exploration_df.head(3)"
   ]
  },
  {
   "cell_type": "code",
   "execution_count": 25,
   "id": "651edcdf",
   "metadata": {
    "execution": {
     "iopub.execute_input": "2024-05-06T15:37:29.802297Z",
     "iopub.status.busy": "2024-05-06T15:37:29.802019Z",
     "iopub.status.idle": "2024-05-06T15:37:30.439415Z",
     "shell.execute_reply": "2024-05-06T15:37:30.438392Z"
    },
    "id": "k6dgNl1wj6ZG",
    "outputId": "9edc29a7-709a-4e55-e515-1711f9daf6f2",
    "papermill": {
     "duration": 0.675966,
     "end_time": "2024-05-06T15:37:30.442225",
     "exception": false,
     "start_time": "2024-05-06T15:37:29.766259",
     "status": "completed"
    },
    "tags": []
   },
   "outputs": [
    {
     "data": {
      "image/png": "[encoded data removed]",
      "text/plain": [
       "<Figure size 1200x800 with 2 Axes>"
      ]
     },
     "metadata": {},
     "output_type": "display_data"
    }
   ],
   "source": [
    "fig, ax = plt.subplots(nrows=1, ncols=2, figsize=(12, 8))\n",
    "\n",
    "ax[0].scatter(test_exploration_df[\"correct\"], test_exploration_df[\"length\"])\n",
    "ax[0].set_xlabel('Correctness')\n",
    "ax[0].set_title('Test Correctness-Length correlation')\n",
    "\n",
    "ax[1].scatter(test_exploration_df[\"correct\"], test_exploration_df[\"density\"])\n",
    "ax[1].set_xlabel('Density')\n",
    "ax[1].set_title('Test Correctness-Densitycorrelation')\n",
    "\n",
    "plt.legend()\n",
    "plt.show()"
   ]
  },
  {
   "cell_type": "code",
   "execution_count": 26,
   "id": "f4263a88",
   "metadata": {
    "execution": {
     "iopub.execute_input": "2024-05-06T15:37:30.516128Z",
     "iopub.status.busy": "2024-05-06T15:37:30.515366Z",
     "iopub.status.idle": "2024-05-06T15:37:30.528900Z",
     "shell.execute_reply": "2024-05-06T15:37:30.527961Z"
    },
    "papermill": {
     "duration": 0.052114,
     "end_time": "2024-05-06T15:37:30.530857",
     "exception": false,
     "start_time": "2024-05-06T15:37:30.478743",
     "status": "completed"
    },
    "tags": []
   },
   "outputs": [],
   "source": [
    "experimental_train_df = train_df.drop(train_df[train_df[\"length\"] > 9].index)"
   ]
  },
  {
   "cell_type": "code",
   "execution_count": 27,
   "id": "df9eba72",
   "metadata": {
    "execution": {
     "iopub.execute_input": "2024-05-06T15:37:30.608366Z",
     "iopub.status.busy": "2024-05-06T15:37:30.607982Z",
     "iopub.status.idle": "2024-05-06T15:37:30.637181Z",
     "shell.execute_reply": "2024-05-06T15:37:30.636259Z"
    },
    "papermill": {
     "duration": 0.073681,
     "end_time": "2024-05-06T15:37:30.639243",
     "exception": false,
     "start_time": "2024-05-06T15:37:30.565562",
     "status": "completed"
    },
    "tags": []
   },
   "outputs": [
    {
     "data": {
      "text/html": [
       "<div>\n",
       "<style scoped>\n",
       "    .dataframe tbody tr th:only-of-type {\n",
       "        vertical-align: middle;\n",
       "    }\n",
       "\n",
       "    .dataframe tbody tr th {\n",
       "        vertical-align: top;\n",
       "    }\n",
       "\n",
       "    .dataframe thead th {\n",
       "        text-align: right;\n",
       "    }\n",
       "</style>\n",
       "<table border=\"1\" class=\"dataframe\">\n",
       "  <thead>\n",
       "    <tr style=\"text-align: right;\">\n",
       "      <th></th>\n",
       "      <th>sample_id</th>\n",
       "      <th>question</th>\n",
       "      <th>questionEntity</th>\n",
       "      <th>answerEntity</th>\n",
       "      <th>groundTruthAnswerEntity</th>\n",
       "      <th>answerEntityId</th>\n",
       "      <th>questionEntityId</th>\n",
       "      <th>groundTruthAnswerEntityId</th>\n",
       "      <th>correct</th>\n",
       "      <th>graph</th>\n",
       "      <th>label</th>\n",
       "      <th>linearized_graph</th>\n",
       "      <th>length</th>\n",
       "      <th>density</th>\n",
       "    </tr>\n",
       "  </thead>\n",
       "  <tbody>\n",
       "    <tr>\n",
       "      <th>0</th>\n",
       "      <td>0</td>\n",
       "      <td>Whst is the name of the head of state and highest ranking political and religious authority in Iran?</td>\n",
       "      <td>Iran</td>\n",
       "      <td>Ruhollah Khomeini's return to Iran</td>\n",
       "      <td>Office of the Supreme Leader of Iran</td>\n",
       "      <td>Q7293530</td>\n",
       "      <td>Q794</td>\n",
       "      <td>Q16045000</td>\n",
       "      <td>False</td>\n",
       "      <td>{'nodes': [{'type': 'QUESTIONS_ENTITY', 'name_': 'Q794', 'id': 0, 'label': 'Iran'}, {'type': 'INTERNAL', 'name_': 'Q207991', 'id': 1, 'label': 'Pahlavi dynasty'}, {'type': 'ANSWER_CANDIDATE_ENTITY', 'name_': 'Q7293530', 'id': 2, 'label': 'Ruhollah Khomeini's return to Iran'}], 'links': [{'name_': 'P17', 'source': 0, 'target': 0, 'label': 'country'}, {'name_': 'P1365', 'source': 0, 'target': 1, 'label': 'replaces'}, {'name_': 'P1366', 'source': 1, 'target': 0, 'label': 'replaced by'}, {'name_': 'P17', 'source': 2, 'target': 1, 'label': 'country'}]}</td>\n",
       "      <td>0.0</td>\n",
       "      <td>Iran, country, Iran  Iran, replaces, Pahlavi dynasty  Pahlavi dynasty, replaced by, Iran  [SEP] Ruhollah Khomeini's return to Iran [SEP], country, Pahlavi dynasty</td>\n",
       "      <td>3</td>\n",
       "      <td>0.666667</td>\n",
       "    </tr>\n",
       "    <tr>\n",
       "      <th>1</th>\n",
       "      <td>1</td>\n",
       "      <td>Whst is the name of the head of state and highest ranking political and religious authority in Iran?</td>\n",
       "      <td>Iran</td>\n",
       "      <td>Ruhollah Khomeini's letter to Mikhail Gorbachev</td>\n",
       "      <td>Office of the Supreme Leader of Iran</td>\n",
       "      <td>Q5952984</td>\n",
       "      <td>Q794</td>\n",
       "      <td>Q16045000</td>\n",
       "      <td>False</td>\n",
       "      <td>{'nodes': [{'type': 'INTERNAL', 'name_': 'Q4173137', 'id': 0, 'label': 'Jewish Encyclopedia of Brockhaus and Efron'}, {'type': 'QUESTIONS_ENTITY', 'name_': 'Q794', 'id': 1, 'label': 'Iran'}, {'type': 'INTERNAL', 'name_': 'Q47461344', 'id': 2, 'label': 'written work'}, {'type': 'INTERNAL', 'name_': 'Q133492', 'id': 3, 'label': 'letter'}, {'type': 'INTERNAL', 'name_': 'Q1030940', 'id': 4, 'label': 'The Book of Healing'}, {'type': 'ANSWER_CANDIDATE_ENTITY', 'name_': 'Q5952984', 'id': 5, 'label': 'Ruhollah Khomeini's letter to Mikhail Gorbachev'}], 'links': [{'name_': 'P1343', 'source': 1, 'target': 0, 'label': 'described by source'}, {'name_': 'P17', 'source': 1, 'target': 1, 'label': 'country'}, {'name_': 'P1343', 'source': 3, 'target': 0, 'label': 'described by source'}, {'name_': 'P279', 'source': 3, 'target': 2, 'label': 'subclass of'}, {'name_': 'P495', 'source': 4, 'target': 1, 'label': 'country of origin'}, {'name_': 'P31', 'source': 4, 'target': 2, 'label': 'instance of'}, {'name_': 'P31', 'source': 5, 'target': 2, 'label': 'instance of'}, {'name_': 'P31', 'source': 5, 'target': 3, 'label': 'instance of'}]}</td>\n",
       "      <td>0.0</td>\n",
       "      <td>Iran, described by source, Jewish Encyclopedia of Brockhaus and Efron  Iran, country, Iran  letter, described by source, Jewish Encyclopedia of Brockhaus and Efron  letter, subclass of, written work  The Book of Healing, country of origin, Iran  The Book of Healing, instance of, written work  [SEP] Ruhollah Khomeini's letter to Mikhail Gorbachev [SEP], instance of, written work  [SEP] Ruhollah Khomeini's letter to Mikhail Gorbachev [SEP], instance of, letter</td>\n",
       "      <td>6</td>\n",
       "      <td>0.266667</td>\n",
       "    </tr>\n",
       "  </tbody>\n",
       "</table>\n",
       "</div>"
      ],
      "text/plain": [
       "   sample_id  \\\n",
       "0          0   \n",
       "1          1   \n",
       "\n",
       "                                                                                               question  \\\n",
       "0  Whst is the name of the head of state and highest ranking political and religious authority in Iran?   \n",
       "1  Whst is the name of the head of state and highest ranking political and religious authority in Iran?   \n",
       "\n",
       "  questionEntity                                     answerEntity  \\\n",
       "0           Iran               Ruhollah Khomeini's return to Iran   \n",
       "1           Iran  Ruhollah Khomeini's letter to Mikhail Gorbachev   \n",
       "\n",
       "                groundTruthAnswerEntity answerEntityId questionEntityId  \\\n",
       "0  Office of the Supreme Leader of Iran       Q7293530             Q794   \n",
       "1  Office of the Supreme Leader of Iran       Q5952984             Q794   \n",
       "\n",
       "  groundTruthAnswerEntityId  correct  \\\n",
       "0                 Q16045000    False   \n",
       "1                 Q16045000    False   \n",
       "\n",
       "                                                                                                                                                                                                                                                                                                                                                                                                                                                                                                                                                                                                                                                                                                                                                                                                                                                                                                                                                                                                                                                                                                                                                                       graph  \\\n",
       "0                                                                                                                                                                                                                                                                                                                                                                                                                                                                                                                                                                                                  {'nodes': [{'type': 'QUESTIONS_ENTITY', 'name_': 'Q794', 'id': 0, 'label': 'Iran'}, {'type': 'INTERNAL', 'name_': 'Q207991', 'id': 1, 'label': 'Pahlavi dynasty'}, {'type': 'ANSWER_CANDIDATE_ENTITY', 'name_': 'Q7293530', 'id': 2, 'label': 'Ruhollah Khomeini's return to Iran'}], 'links': [{'name_': 'P17', 'source': 0, 'target': 0, 'label': 'country'}, {'name_': 'P1365', 'source': 0, 'target': 1, 'label': 'replaces'}, {'name_': 'P1366', 'source': 1, 'target': 0, 'label': 'replaced by'}, {'name_': 'P17', 'source': 2, 'target': 1, 'label': 'country'}]}   \n",
       "1  {'nodes': [{'type': 'INTERNAL', 'name_': 'Q4173137', 'id': 0, 'label': 'Jewish Encyclopedia of Brockhaus and Efron'}, {'type': 'QUESTIONS_ENTITY', 'name_': 'Q794', 'id': 1, 'label': 'Iran'}, {'type': 'INTERNAL', 'name_': 'Q47461344', 'id': 2, 'label': 'written work'}, {'type': 'INTERNAL', 'name_': 'Q133492', 'id': 3, 'label': 'letter'}, {'type': 'INTERNAL', 'name_': 'Q1030940', 'id': 4, 'label': 'The Book of Healing'}, {'type': 'ANSWER_CANDIDATE_ENTITY', 'name_': 'Q5952984', 'id': 5, 'label': 'Ruhollah Khomeini's letter to Mikhail Gorbachev'}], 'links': [{'name_': 'P1343', 'source': 1, 'target': 0, 'label': 'described by source'}, {'name_': 'P17', 'source': 1, 'target': 1, 'label': 'country'}, {'name_': 'P1343', 'source': 3, 'target': 0, 'label': 'described by source'}, {'name_': 'P279', 'source': 3, 'target': 2, 'label': 'subclass of'}, {'name_': 'P495', 'source': 4, 'target': 1, 'label': 'country of origin'}, {'name_': 'P31', 'source': 4, 'target': 2, 'label': 'instance of'}, {'name_': 'P31', 'source': 5, 'target': 2, 'label': 'instance of'}, {'name_': 'P31', 'source': 5, 'target': 3, 'label': 'instance of'}]}   \n",
       "\n",
       "   label  \\\n",
       "0    0.0   \n",
       "1    0.0   \n",
       "\n",
       "                                                                                                                                                                                                                                                                                                                                                                                                                                                                   linearized_graph  \\\n",
       "0                                                                                                                                                                                                                                                                                                               Iran, country, Iran  Iran, replaces, Pahlavi dynasty  Pahlavi dynasty, replaced by, Iran  [SEP] Ruhollah Khomeini's return to Iran [SEP], country, Pahlavi dynasty    \n",
       "1   Iran, described by source, Jewish Encyclopedia of Brockhaus and Efron  Iran, country, Iran  letter, described by source, Jewish Encyclopedia of Brockhaus and Efron  letter, subclass of, written work  The Book of Healing, country of origin, Iran  The Book of Healing, instance of, written work  [SEP] Ruhollah Khomeini's letter to Mikhail Gorbachev [SEP], instance of, written work  [SEP] Ruhollah Khomeini's letter to Mikhail Gorbachev [SEP], instance of, letter    \n",
       "\n",
       "   length   density  \n",
       "0       3  0.666667  \n",
       "1       6  0.266667  "
      ]
     },
     "execution_count": 27,
     "metadata": {},
     "output_type": "execute_result"
    }
   ],
   "source": [
    "train_df.head(2)"
   ]
  },
  {
   "cell_type": "markdown",
   "id": "dac6f567",
   "metadata": {
    "id": "LqKvWg0n5SBO",
    "papermill": {
     "duration": 0.037567,
     "end_time": "2024-05-06T15:37:30.714555",
     "exception": false,
     "start_time": "2024-05-06T15:37:30.676988",
     "status": "completed"
    },
    "tags": []
   },
   "source": [
    "# Model Preparation"
   ]
  },
  {
   "cell_type": "code",
   "execution_count": 28,
   "id": "60e80b58",
   "metadata": {
    "execution": {
     "iopub.execute_input": "2024-05-06T15:37:30.786918Z",
     "iopub.status.busy": "2024-05-06T15:37:30.786578Z",
     "iopub.status.idle": "2024-05-06T15:37:30.800875Z",
     "shell.execute_reply": "2024-05-06T15:37:30.799995Z"
    },
    "id": "j_BkKiIP6TuY",
    "papermill": {
     "duration": 0.053019,
     "end_time": "2024-05-06T15:37:30.802743",
     "exception": false,
     "start_time": "2024-05-06T15:37:30.749724",
     "status": "completed"
    },
    "tags": []
   },
   "outputs": [],
   "source": [
    "def train(model, iterator, optimizer, criterion, device,\n",
    "          train_history=None, valid_history=None,):\n",
    "    model.train()\n",
    "\n",
    "    epoch_loss = 0\n",
    "    history = []\n",
    "    for i, batch in enumerate(tqdm(iterator)):\n",
    "\n",
    "        optimizer.zero_grad()\n",
    "\n",
    "        input_ids = batch[\"input_ids\"].to(device)\n",
    "        attention_mask = batch[\"attention_mask\"].to(device)\n",
    "        labels = batch[\"labels\"].to(device)\n",
    "\n",
    "        graph_length = batch[\"graph_length\"].to(device)\n",
    "        graph_density = batch[\"graph_density\"].to(device)\n",
    "\n",
    "        output = model(inputs=input_ids, attention_mask=attention_mask, graph_length=graph_length, graph_density=graph_density).squeeze(1)\n",
    "        loss = criterion(output, labels)\n",
    "        loss.backward()\n",
    "        optimizer.step()\n",
    "\n",
    "\n",
    "        epoch_loss += loss.item()\n",
    "        \n",
    "\n",
    "        history.append(loss.cpu().data.numpy())\n",
    "\n",
    "    return epoch_loss / (i + 1)\n",
    "\n",
    "def evaluate(model, iterator, criterion, device):\n",
    "    model.eval()\n",
    "\n",
    "    epoch_loss = 0\n",
    "\n",
    "    true_labels = []\n",
    "    pred_labels = []\n",
    "\n",
    "    with torch.no_grad():\n",
    "\n",
    "        for i, batch in enumerate(iterator):\n",
    "\n",
    "            input_ids = batch[\"input_ids\"].to(device)\n",
    "            attention_mask = batch[\"attention_mask\"].to(device)\n",
    "            labels = batch[\"labels\"]\n",
    "\n",
    "            graph_length = batch[\"graph_length\"].to(device)\n",
    "            graph_density = batch[\"graph_density\"].to(device)\n",
    "\n",
    "            true_labels.extend(labels.cpu().numpy())\n",
    "            labels = labels.to(device)\n",
    "\n",
    "\n",
    "            output = model(inputs=input_ids, attention_mask=attention_mask, graph_length=graph_length, graph_density=graph_density).squeeze(1)\n",
    "            pred_probas = output.cpu().numpy()\n",
    "            batch_pred_labels = (pred_probas >= 0.5) * 1\n",
    "\n",
    "            loss = criterion(output, labels)\n",
    "\n",
    "            pred_labels.extend(batch_pred_labels)\n",
    "            epoch_loss += loss.item()\n",
    "\n",
    "    valid_f1_score = f1_score(true_labels, pred_labels)\n",
    "    return epoch_loss / (i + 1), valid_f1_score\n",
    "\n",
    "def epoch_time(start_time, end_time):\n",
    "    elapsed_time = end_time - start_time\n",
    "    elapsed_mins = int(elapsed_time / 60)\n",
    "    elapsed_secs = int(elapsed_time - (elapsed_mins * 60))\n",
    "    return elapsed_mins, elapsed_secs"
   ]
  },
  {
   "cell_type": "code",
   "execution_count": 29,
   "id": "5bfdcaf1",
   "metadata": {
    "execution": {
     "iopub.execute_input": "2024-05-06T15:37:30.874353Z",
     "iopub.status.busy": "2024-05-06T15:37:30.874073Z",
     "iopub.status.idle": "2024-05-06T15:37:30.884095Z",
     "shell.execute_reply": "2024-05-06T15:37:30.883223Z"
    },
    "id": "A4RmcWd75f4d",
    "papermill": {
     "duration": 0.048127,
     "end_time": "2024-05-06T15:37:30.886057",
     "exception": false,
     "start_time": "2024-05-06T15:37:30.837930",
     "status": "completed"
    },
    "tags": []
   },
   "outputs": [],
   "source": [
    "def train_evaluate(bert_classifier, train_loader, dev_loader, optimizer, scheduler, criterion, n_epochs, checkpoint_fname, device):\n",
    "    train_history = []\n",
    "    valid_history = []\n",
    "    valid_history_f1 = []\n",
    "\n",
    "    best_valid_loss = float('inf')\n",
    "    best_f1_score = 0.0\n",
    "\n",
    "    for epoch in range(n_epochs):\n",
    "\n",
    "        start_time = time.time()\n",
    "\n",
    "        train_loss = train(bert_classifier, train_loader, optimizer, criterion, device, train_history, valid_history, )\n",
    "        valid_loss, valid_f1_score = evaluate(bert_classifier, dev_loader, criterion, device)\n",
    "\n",
    "        #scheduler.step(valid_loss)\n",
    "\n",
    "        end_time = time.time()\n",
    "\n",
    "        epoch_mins, epoch_secs = epoch_time(start_time, end_time)\n",
    "\n",
    "        train_history.append(train_loss)\n",
    "        valid_history.append(valid_loss)\n",
    "        valid_history_f1.append(valid_f1_score)\n",
    "\n",
    "        fig, ax = plt.subplots(nrows=1, ncols=2, figsize=(12, 8))\n",
    "\n",
    "        clear_output(True)\n",
    "        ax[0].plot(valid_history_f1, label='Val f1-score')\n",
    "        ax[0].set_xlabel('Epoch')\n",
    "        ax[0].set_title('Val f1-score')\n",
    "\n",
    "        ax[1].plot(train_history, label='general train history')\n",
    "        ax[1].set_xlabel('Epoch')\n",
    "        ax[1].plot(valid_history, label='general valid history')\n",
    "\n",
    "        plt.legend()\n",
    "        plt.show()\n",
    "\n",
    "        if valid_f1_score > best_f1_score:\n",
    "            best_f1_score = valid_f1_score\n",
    "            torch.save(bert_classifier.state_dict(), f'best-val-{checkpoint_fname}.pt')\n",
    "\n",
    "        print(f'Epoch: {epoch+1:02} | Time: {epoch_mins}m {epoch_secs}s')\n",
    "        print(f'\\tTrain Loss: {train_loss:.3f}')\n",
    "        print(f'\\t Val. Loss: {valid_loss:.3f} |  Val. F1: {valid_f1_score:.3f}')"
   ]
  },
  {
   "cell_type": "code",
   "execution_count": 30,
   "id": "da4f39f2",
   "metadata": {
    "execution": {
     "iopub.execute_input": "2024-05-06T15:37:30.958942Z",
     "iopub.status.busy": "2024-05-06T15:37:30.958612Z",
     "iopub.status.idle": "2024-05-06T15:37:30.966065Z",
     "shell.execute_reply": "2024-05-06T15:37:30.965242Z"
    },
    "id": "ZpfYBHeg5f99",
    "papermill": {
     "duration": 0.046001,
     "end_time": "2024-05-06T15:37:30.967951",
     "exception": false,
     "start_time": "2024-05-06T15:37:30.921950",
     "status": "completed"
    },
    "tags": []
   },
   "outputs": [],
   "source": [
    "def predict(model, data_loader, device):\n",
    "    true_labels = []\n",
    "    pred_labels = []\n",
    "\n",
    "    model.eval()\n",
    "    with torch.no_grad():\n",
    "        for i, batch in enumerate(data_loader):\n",
    "            input_ids = batch[\"input_ids\"].to(device)\n",
    "            attention_mask = batch[\"attention_mask\"].to(device)\n",
    "            graph_length = batch[\"graph_length\"].to(device)\n",
    "            graph_density = batch[\"graph_density\"].to(device)\n",
    "            batch_true_labels = batch[\"labels\"].cpu().numpy()\n",
    "\n",
    "\n",
    "            pred_probas = model(inputs=input_ids, attention_mask=attention_mask, graph_length=graph_length, graph_density=graph_density).squeeze(1)\n",
    "            pred_probas = pred_probas.cpu().numpy()\n",
    "\n",
    "            batch_pred_labels = (pred_probas >= 0.5) * 1\n",
    "\n",
    "            pred_labels.extend(batch_pred_labels)\n",
    "            true_labels.extend(batch_true_labels)\n",
    "            \n",
    "    return true_labels, pred_labels"
   ]
  },
  {
   "cell_type": "code",
   "execution_count": 31,
   "id": "057b4b47",
   "metadata": {
    "execution": {
     "iopub.execute_input": "2024-05-06T15:37:31.039839Z",
     "iopub.status.busy": "2024-05-06T15:37:31.039518Z",
     "iopub.status.idle": "2024-05-06T15:37:31.063668Z",
     "shell.execute_reply": "2024-05-06T15:37:31.062807Z"
    },
    "id": "PR3x_MwiufPR",
    "outputId": "d85327a4-d821-4dda-9ab0-5fb2526bdf11",
    "papermill": {
     "duration": 0.06244,
     "end_time": "2024-05-06T15:37:31.065702",
     "exception": false,
     "start_time": "2024-05-06T15:37:31.003262",
     "status": "completed"
    },
    "tags": []
   },
   "outputs": [
    {
     "data": {
      "text/plain": [
       "torch.float32"
      ]
     },
     "execution_count": 31,
     "metadata": {},
     "output_type": "execute_result"
    }
   ],
   "source": [
    "torch.Tensor([[1,2,3,4,5]]).reshape(-1, 1).type(\"torch.FloatTensor\").dtype"
   ]
  },
  {
   "cell_type": "code",
   "execution_count": 32,
   "id": "4cfe0e36",
   "metadata": {
    "execution": {
     "iopub.execute_input": "2024-05-06T15:37:31.148398Z",
     "iopub.status.busy": "2024-05-06T15:37:31.147767Z",
     "iopub.status.idle": "2024-05-06T15:37:31.160475Z",
     "shell.execute_reply": "2024-05-06T15:37:31.159387Z"
    },
    "id": "R2FwTF6p5Ts7",
    "papermill": {
     "duration": 0.060463,
     "end_time": "2024-05-06T15:37:31.162433",
     "exception": false,
     "start_time": "2024-05-06T15:37:31.101970",
     "status": "completed"
    },
    "tags": []
   },
   "outputs": [],
   "source": [
    "class BertSimpleClassifier(nn.Module):\n",
    "    def __init__(self, bert_text_encoder, dropout=0.1):\n",
    "        super().__init__()\n",
    "\n",
    "        self.bert_text_encoder = bert_text_encoder\n",
    "        self.dropout = nn.Dropout(p=dropout)\n",
    "        bert_hidden_dim = bert_text_encoder.config.hidden_size\n",
    "\n",
    "        self.classifier = nn.Sequential(\n",
    "            nn.Dropout(p=dropout),\n",
    "            nn.Tanh(),\n",
    "            nn.Linear(bert_hidden_dim+2, bert_hidden_dim+2),\n",
    "            nn.Dropout(p=dropout),\n",
    "            nn.Tanh(),\n",
    "            nn.Linear(bert_hidden_dim+2, 1),\n",
    "        )\n",
    "\n",
    "#         self.mlp = nn.Sequential(\n",
    "#             nn.Linear(2, 32),\n",
    "#             nn.ReLU(),\n",
    "#             nn.Linear(32, 32),\n",
    "#             nn.ReLU(),\n",
    "#             nn.Linear(32, 2),\n",
    "#         )\n",
    "        \n",
    "    def forward(self, inputs, attention_mask, graph_length, graph_density):\n",
    "        last_hidden_states = self.bert_text_encoder(inputs, attention_mask=attention_mask,\n",
    "                                                    return_dict=True)['last_hidden_state']\n",
    "        text_cls_embeddings = torch.stack([elem[0, :] for elem in last_hidden_states])\n",
    "        graph_features = torch.cat((graph_length.type(\"torch.FloatTensor\").reshape(-1, 1), graph_density.type(\"torch.FloatTensor\").reshape(-1, 1)), dim=1).to(device)\n",
    "#         graph_features = self.mlp(graph_features)\n",
    "        proba = self.classifier(torch.cat([text_cls_embeddings, graph_features], dim=1))\n",
    "        return proba\n"
   ]
  },
  {
   "cell_type": "code",
   "execution_count": 33,
   "id": "b49064a2",
   "metadata": {
    "execution": {
     "iopub.execute_input": "2024-05-06T15:37:31.237158Z",
     "iopub.status.busy": "2024-05-06T15:37:31.236872Z",
     "iopub.status.idle": "2024-05-06T15:37:31.244095Z",
     "shell.execute_reply": "2024-05-06T15:37:31.243190Z"
    },
    "id": "K_EPFjHSc-s_",
    "outputId": "fd7a581d-a523-40f9-cea6-ba956bdc5948",
    "papermill": {
     "duration": 0.04627,
     "end_time": "2024-05-06T15:37:31.246116",
     "exception": false,
     "start_time": "2024-05-06T15:37:31.199846",
     "status": "completed"
    },
    "tags": []
   },
   "outputs": [
    {
     "data": {
      "text/plain": [
       "0     Iran, country, Iran  Iran, replaces, Pahlavi dynasty  Pahlavi dynasty, replaced by, Iran  [SEP] Ruhollah Khomeini's return to Iran [SEP], country, Pahlavi dynasty \n",
       "Name: linearized_graph, dtype: object"
      ]
     },
     "execution_count": 33,
     "metadata": {},
     "output_type": "execute_result"
    }
   ],
   "source": [
    "train_df[\"linearized_graph\"].head(1)"
   ]
  },
  {
   "cell_type": "code",
   "execution_count": 34,
   "id": "fd03f1cb",
   "metadata": {
    "execution": {
     "iopub.execute_input": "2024-05-06T15:37:31.341007Z",
     "iopub.status.busy": "2024-05-06T15:37:31.340389Z",
     "iopub.status.idle": "2024-05-06T15:37:31.349901Z",
     "shell.execute_reply": "2024-05-06T15:37:31.348461Z"
    },
    "id": "MYg5OWkqc_9W",
    "outputId": "d4dfa08b-1a3e-478a-a7b2-75e41bfd7d01",
    "papermill": {
     "duration": 0.065554,
     "end_time": "2024-05-06T15:37:31.352699",
     "exception": false,
     "start_time": "2024-05-06T15:37:31.287145",
     "status": "completed"
    },
    "tags": []
   },
   "outputs": [
    {
     "data": {
      "text/plain": [
       "11                                                                                                        [SEP] Yogi Berra [SEP], league, Major League Baseball \n",
       "12     United States, country, United States  Major League Baseball, country, United States  [SEP] Tony Gwynn, Jr. [SEP], country of citizenship, United States \n",
       "13                                                                                                    [SEP] Roy Campanella [SEP], league, Major League Baseball \n",
       "14                                                                                                     [SEP] Roger Clemens [SEP], league, Major League Baseball \n",
       "15                                                                                                     [SEP] Mickey Mantle [SEP], league, Major League Baseball \n",
       "Name: linearized_graph, dtype: object"
      ]
     },
     "execution_count": 34,
     "metadata": {},
     "output_type": "execute_result"
    }
   ],
   "source": [
    "test_df[\"linearized_graph\"].head()"
   ]
  },
  {
   "cell_type": "code",
   "execution_count": 35,
   "id": "9f2b305f",
   "metadata": {
    "execution": {
     "iopub.execute_input": "2024-05-06T15:37:31.430314Z",
     "iopub.status.busy": "2024-05-06T15:37:31.429970Z",
     "iopub.status.idle": "2024-05-06T15:37:34.749477Z",
     "shell.execute_reply": "2024-05-06T15:37:34.748082Z"
    },
    "id": "xkBiR01VflXf",
    "outputId": "626ebd07-5999-4c88-d373-cf3e7ced4aed",
    "papermill": {
     "duration": 3.360189,
     "end_time": "2024-05-06T15:37:34.751976",
     "exception": false,
     "start_time": "2024-05-06T15:37:31.391787",
     "status": "completed"
    },
    "tags": []
   },
   "outputs": [
    {
     "data": {
      "application/vnd.jupyter.widget-view+json": {
       "model_id": "113ff91d93df40c192e661061745ac59",
       "version_major": 2,
       "version_minor": 0
      },
      "text/plain": [
       "tokenizer_config.json:   0%|          | 0.00/352 [00:00<?, ?B/s]"
      ]
     },
     "metadata": {},
     "output_type": "display_data"
    },
    {
     "data": {
      "application/vnd.jupyter.widget-view+json": {
       "model_id": "ef9ebf5048ac43d9a7fc4de463331c55",
       "version_major": 2,
       "version_minor": 0
      },
      "text/plain": [
       "vocab.txt:   0%|          | 0.00/232k [00:00<?, ?B/s]"
      ]
     },
     "metadata": {},
     "output_type": "display_data"
    },
    {
     "data": {
      "application/vnd.jupyter.widget-view+json": {
       "model_id": "3c05f7a8bcbe49bebee7480e2395324a",
       "version_major": 2,
       "version_minor": 0
      },
      "text/plain": [
       "tokenizer.json:   0%|          | 0.00/466k [00:00<?, ?B/s]"
      ]
     },
     "metadata": {},
     "output_type": "display_data"
    },
    {
     "data": {
      "application/vnd.jupyter.widget-view+json": {
       "model_id": "408b553d38d943b79805e93cf9ac0a3e",
       "version_major": 2,
       "version_minor": 0
      },
      "text/plain": [
       "special_tokens_map.json:   0%|          | 0.00/112 [00:00<?, ?B/s]"
      ]
     },
     "metadata": {},
     "output_type": "display_data"
    },
    {
     "data": {
      "application/vnd.jupyter.widget-view+json": {
       "model_id": "ef02638ceceb415090589db4b299abd8",
       "version_major": 2,
       "version_minor": 0
      },
      "text/plain": [
       "config.json:   0%|          | 0.00/615 [00:00<?, ?B/s]"
      ]
     },
     "metadata": {},
     "output_type": "display_data"
    },
    {
     "data": {
      "application/vnd.jupyter.widget-view+json": {
       "model_id": "d4e6d36ac04a44729f12c0a9515a293a",
       "version_major": 2,
       "version_minor": 0
      },
      "text/plain": [
       "model.safetensors:   0%|          | 0.00/133M [00:00<?, ?B/s]"
      ]
     },
     "metadata": {},
     "output_type": "display_data"
    },
    {
     "name": "stdout",
     "output_type": "stream",
     "text": [
      "# Trainable params:  21441408\n"
     ]
    }
   ],
   "source": [
    "# model_name=\"roberta-base\"\n",
    "model_name=\"sentence-transformers/all-MiniLM-L12-v2\"\n",
    "\n",
    "tokenizer = AutoTokenizer.from_pretrained(model_name)\n",
    "bert_model = AutoModel.from_pretrained(model_name)\n",
    "\n",
    "freeze_embeddings = True\n",
    "if freeze_embeddings:\n",
    "    for param in bert_model.embeddings.parameters():\n",
    "        param.requires_grad = False\n",
    "\n",
    "#freeze_layer_count = 5\n",
    "#if freeze_layer_count > 0:\n",
    "    #for layer in bert_model.encoder.layer[:freeze_layer_count]:\n",
    "        #for param in layer.parameters():\n",
    "            #param.requires_grad = False\n",
    "\n",
    "print(\"# Trainable params: \", sum(p.numel() for p in bert_model.parameters() if p.requires_grad))"
   ]
  },
  {
   "cell_type": "code",
   "execution_count": 36,
   "id": "1f14447a",
   "metadata": {
    "execution": {
     "iopub.execute_input": "2024-05-06T15:37:34.830295Z",
     "iopub.status.busy": "2024-05-06T15:37:34.829731Z",
     "iopub.status.idle": "2024-05-06T15:37:34.848855Z",
     "shell.execute_reply": "2024-05-06T15:37:34.848002Z"
    },
    "id": "vuugpfj3BRAV",
    "outputId": "2ab20b96-2dde-4839-b3db-2958d78aba58",
    "papermill": {
     "duration": 0.059132,
     "end_time": "2024-05-06T15:37:34.850904",
     "exception": false,
     "start_time": "2024-05-06T15:37:34.791772",
     "status": "completed"
    },
    "tags": []
   },
   "outputs": [
    {
     "data": {
      "text/html": [
       "<div>\n",
       "<style scoped>\n",
       "    .dataframe tbody tr th:only-of-type {\n",
       "        vertical-align: middle;\n",
       "    }\n",
       "\n",
       "    .dataframe tbody tr th {\n",
       "        vertical-align: top;\n",
       "    }\n",
       "\n",
       "    .dataframe thead th {\n",
       "        text-align: right;\n",
       "    }\n",
       "</style>\n",
       "<table border=\"1\" class=\"dataframe\">\n",
       "  <thead>\n",
       "    <tr style=\"text-align: right;\">\n",
       "      <th></th>\n",
       "      <th>sample_id</th>\n",
       "      <th>question</th>\n",
       "      <th>questionEntity</th>\n",
       "      <th>answerEntity</th>\n",
       "      <th>groundTruthAnswerEntity</th>\n",
       "      <th>answerEntityId</th>\n",
       "      <th>questionEntityId</th>\n",
       "      <th>groundTruthAnswerEntityId</th>\n",
       "      <th>correct</th>\n",
       "      <th>graph</th>\n",
       "      <th>label</th>\n",
       "      <th>linearized_graph</th>\n",
       "      <th>length</th>\n",
       "      <th>density</th>\n",
       "    </tr>\n",
       "  </thead>\n",
       "  <tbody>\n",
       "    <tr>\n",
       "      <th>0</th>\n",
       "      <td>0</td>\n",
       "      <td>Whst is the name of the head of state and highest ranking political and religious authority in Iran?</td>\n",
       "      <td>Iran</td>\n",
       "      <td>Ruhollah Khomeini's return to Iran</td>\n",
       "      <td>Office of the Supreme Leader of Iran</td>\n",
       "      <td>Q7293530</td>\n",
       "      <td>Q794</td>\n",
       "      <td>Q16045000</td>\n",
       "      <td>False</td>\n",
       "      <td>{'nodes': [{'type': 'QUESTIONS_ENTITY', 'name_': 'Q794', 'id': 0, 'label': 'Iran'}, {'type': 'INTERNAL', 'name_': 'Q207991', 'id': 1, 'label': 'Pahlavi dynasty'}, {'type': 'ANSWER_CANDIDATE_ENTITY', 'name_': 'Q7293530', 'id': 2, 'label': 'Ruhollah Khomeini's return to Iran'}], 'links': [{'name_': 'P17', 'source': 0, 'target': 0, 'label': 'country'}, {'name_': 'P1365', 'source': 0, 'target': 1, 'label': 'replaces'}, {'name_': 'P1366', 'source': 1, 'target': 0, 'label': 'replaced by'}, {'name_': 'P17', 'source': 2, 'target': 1, 'label': 'country'}]}</td>\n",
       "      <td>0.0</td>\n",
       "      <td>Iran, country, Iran  Iran, replaces, Pahlavi dynasty  Pahlavi dynasty, replaced by, Iran  [SEP] Ruhollah Khomeini's return to Iran [SEP], country, Pahlavi dynasty</td>\n",
       "      <td>3</td>\n",
       "      <td>0.666667</td>\n",
       "    </tr>\n",
       "  </tbody>\n",
       "</table>\n",
       "</div>"
      ],
      "text/plain": [
       "   sample_id  \\\n",
       "0          0   \n",
       "\n",
       "                                                                                               question  \\\n",
       "0  Whst is the name of the head of state and highest ranking political and religious authority in Iran?   \n",
       "\n",
       "  questionEntity                        answerEntity  \\\n",
       "0           Iran  Ruhollah Khomeini's return to Iran   \n",
       "\n",
       "                groundTruthAnswerEntity answerEntityId questionEntityId  \\\n",
       "0  Office of the Supreme Leader of Iran       Q7293530             Q794   \n",
       "\n",
       "  groundTruthAnswerEntityId  correct  \\\n",
       "0                 Q16045000    False   \n",
       "\n",
       "                                                                                                                                                                                                                                                                                                                                                                                                                                                                                                                                                                       graph  \\\n",
       "0  {'nodes': [{'type': 'QUESTIONS_ENTITY', 'name_': 'Q794', 'id': 0, 'label': 'Iran'}, {'type': 'INTERNAL', 'name_': 'Q207991', 'id': 1, 'label': 'Pahlavi dynasty'}, {'type': 'ANSWER_CANDIDATE_ENTITY', 'name_': 'Q7293530', 'id': 2, 'label': 'Ruhollah Khomeini's return to Iran'}], 'links': [{'name_': 'P17', 'source': 0, 'target': 0, 'label': 'country'}, {'name_': 'P1365', 'source': 0, 'target': 1, 'label': 'replaces'}, {'name_': 'P1366', 'source': 1, 'target': 0, 'label': 'replaced by'}, {'name_': 'P17', 'source': 2, 'target': 1, 'label': 'country'}]}   \n",
       "\n",
       "   label  \\\n",
       "0    0.0   \n",
       "\n",
       "                                                                                                                                                       linearized_graph  \\\n",
       "0   Iran, country, Iran  Iran, replaces, Pahlavi dynasty  Pahlavi dynasty, replaced by, Iran  [SEP] Ruhollah Khomeini's return to Iran [SEP], country, Pahlavi dynasty    \n",
       "\n",
       "   length   density  \n",
       "0       3  0.666667  "
      ]
     },
     "execution_count": 36,
     "metadata": {},
     "output_type": "execute_result"
    }
   ],
   "source": [
    "train_df.head(1)"
   ]
  },
  {
   "cell_type": "code",
   "execution_count": 37,
   "id": "01df6143",
   "metadata": {
    "execution": {
     "iopub.execute_input": "2024-05-06T15:37:34.928530Z",
     "iopub.status.busy": "2024-05-06T15:37:34.927782Z",
     "iopub.status.idle": "2024-05-06T15:37:54.555221Z",
     "shell.execute_reply": "2024-05-06T15:37:54.554429Z"
    },
    "id": "sQzHZg0tfo-H",
    "papermill": {
     "duration": 19.668161,
     "end_time": "2024-05-06T15:37:54.557591",
     "exception": false,
     "start_time": "2024-05-06T15:37:34.889430",
     "status": "completed"
    },
    "tags": []
   },
   "outputs": [],
   "source": [
    "max_length = 128\n",
    "train_dataset = QuestionAnswerDataset(train_df, tokenizer=tokenizer, max_length=max_length, context_key=\"linearized_graph\",\n",
    "                                      tokenizer_truncation=\"only_second\")\n",
    "dev_dataset = QuestionAnswerDataset(dev_df, tokenizer=tokenizer, max_length=max_length, context_key=\"linearized_graph\",\n",
    "                                    tokenizer_truncation=\"only_second\")\n",
    "test_dataset = QuestionAnswerDataset(test_df, tokenizer=tokenizer, max_length=max_length, context_key=\"linearized_graph\",\n",
    "                                     tokenizer_truncation=\"only_second\")"
   ]
  },
  {
   "cell_type": "code",
   "execution_count": 38,
   "id": "c689708d",
   "metadata": {
    "execution": {
     "iopub.execute_input": "2024-05-06T15:37:54.635797Z",
     "iopub.status.busy": "2024-05-06T15:37:54.634948Z",
     "iopub.status.idle": "2024-05-06T15:37:54.641317Z",
     "shell.execute_reply": "2024-05-06T15:37:54.640397Z"
    },
    "id": "jpLK_AUsftG3",
    "papermill": {
     "duration": 0.047584,
     "end_time": "2024-05-06T15:37:54.643290",
     "exception": false,
     "start_time": "2024-05-06T15:37:54.595706",
     "status": "completed"
    },
    "tags": []
   },
   "outputs": [],
   "source": [
    "batch_size = 128\n",
    "num_workers = 0\n",
    "\n",
    "train_loader = torch.utils.data.DataLoader(\n",
    "    train_dataset, batch_size=batch_size, num_workers=num_workers, shuffle=True, drop_last=True,\n",
    ")\n",
    "dev_loader = torch.utils.data.DataLoader(\n",
    "    dev_dataset, batch_size=batch_size, num_workers=num_workers, shuffle=False, drop_last=False,\n",
    ")\n",
    "test_loader = torch.utils.data.DataLoader(\n",
    "    test_dataset, batch_size=batch_size, num_workers=num_workers, shuffle=False, drop_last=False,\n",
    ")"
   ]
  },
  {
   "cell_type": "code",
   "execution_count": 39,
   "id": "7a099325",
   "metadata": {
    "execution": {
     "iopub.execute_input": "2024-05-06T15:37:54.719270Z",
     "iopub.status.busy": "2024-05-06T15:37:54.718586Z",
     "iopub.status.idle": "2024-05-06T15:37:54.722641Z",
     "shell.execute_reply": "2024-05-06T15:37:54.721719Z"
    },
    "id": "Yt6Qb4uFf4NQ",
    "papermill": {
     "duration": 0.044442,
     "end_time": "2024-05-06T15:37:54.724636",
     "exception": false,
     "start_time": "2024-05-06T15:37:54.680194",
     "status": "completed"
    },
    "tags": []
   },
   "outputs": [],
   "source": [
    "N_EPOCHS = 40\n",
    "DROPOUT = 0.2"
   ]
  },
  {
   "cell_type": "code",
   "execution_count": 40,
   "id": "155067b2",
   "metadata": {
    "execution": {
     "iopub.execute_input": "2024-05-06T15:37:54.801173Z",
     "iopub.status.busy": "2024-05-06T15:37:54.800823Z",
     "iopub.status.idle": "2024-05-06T15:37:55.001520Z",
     "shell.execute_reply": "2024-05-06T15:37:55.000363Z"
    },
    "papermill": {
     "duration": 0.241097,
     "end_time": "2024-05-06T15:37:55.003899",
     "exception": false,
     "start_time": "2024-05-06T15:37:54.762802",
     "status": "completed"
    },
    "tags": []
   },
   "outputs": [],
   "source": [
    "bert_linearized_graph_clf = BertSimpleClassifier(bert_model, dropout=DROPOUT).to(device)\n",
    "optimizer = optim.AdamW(bert_linearized_graph_clf.parameters(), lr=3e-5)\n",
    "criterion = nn.BCEWithLogitsLoss()\n",
    "scheduler = optim.lr_scheduler.ReduceLROnPlateau(optimizer=optimizer, mode='min',\n",
    "                                           factor=0.7, patience=1,\n",
    "                                           threshold=0.005, min_lr=1e-9, verbose=True)"
   ]
  },
  {
   "cell_type": "code",
   "execution_count": 41,
   "id": "94793756",
   "metadata": {
    "execution": {
     "iopub.execute_input": "2024-05-06T15:37:55.079890Z",
     "iopub.status.busy": "2024-05-06T15:37:55.079562Z",
     "iopub.status.idle": "2024-05-06T15:37:55.128020Z",
     "shell.execute_reply": "2024-05-06T15:37:55.127165Z"
    },
    "id": "j6tgikp586XE",
    "outputId": "71aac0be-aa8f-48dc-d32b-c9893cbc9d1f",
    "papermill": {
     "duration": 0.088371,
     "end_time": "2024-05-06T15:37:55.129966",
     "exception": false,
     "start_time": "2024-05-06T15:37:55.041595",
     "status": "completed"
    },
    "tags": []
   },
   "outputs": [
    {
     "data": {
      "text/plain": [
       "{'input_ids': tensor([[ 101, 2040, 2003,  ...,    0,    0,    0],\n",
       "         [ 101, 2054, 2003,  ...,    0,    0,    0],\n",
       "         [ 101, 2029, 2266,  ...,    0,    0,    0],\n",
       "         ...,\n",
       "         [ 101, 2029, 8348,  ...,    0,    0,    0],\n",
       "         [ 101, 2054, 2003,  ...,    0,    0,    0],\n",
       "         [ 101, 2040, 2626,  ...,    0,    0,    0]]),\n",
       " 'attention_mask': tensor([[1, 1, 1,  ..., 0, 0, 0],\n",
       "         [1, 1, 1,  ..., 0, 0, 0],\n",
       "         [1, 1, 1,  ..., 0, 0, 0],\n",
       "         ...,\n",
       "         [1, 1, 1,  ..., 0, 0, 0],\n",
       "         [1, 1, 1,  ..., 0, 0, 0],\n",
       "         [1, 1, 1,  ..., 0, 0, 0]]),\n",
       " 'labels': tensor([0., 0., 0., 0., 0., 0., 0., 0., 0., 0., 0., 0., 0., 0., 0., 0., 0., 0.,\n",
       "         0., 0., 0., 0., 0., 0., 0., 0., 1., 0., 0., 0., 0., 0., 0., 0., 0., 0.,\n",
       "         0., 0., 0., 0., 0., 0., 0., 0., 0., 0., 0., 0., 0., 0., 0., 0., 0., 0.,\n",
       "         0., 0., 0., 0., 0., 0., 0., 0., 0., 0., 0., 0., 0., 0., 0., 0., 0., 0.,\n",
       "         0., 0., 0., 0., 0., 0., 0., 0., 0., 0., 0., 0., 0., 0., 1., 0., 0., 0.,\n",
       "         0., 0., 0., 0., 0., 0., 0., 0., 0., 1., 0., 0., 0., 1., 0., 0., 0., 0.,\n",
       "         0., 0., 0., 0., 0., 0., 0., 0., 0., 0., 0., 0., 0., 0., 0., 0., 0., 0.,\n",
       "         1., 0.]),\n",
       " 'graph_length': tensor([ 7,  2,  4,  2,  2,  3,  3,  2,  3,  8,  4, 10,  3,  3,  2,  3,  3,  7,\n",
       "          2,  3,  3, 10,  5,  5,  2,  2,  2,  6,  4,  4,  2,  3,  5,  3,  3,  3,\n",
       "          5,  4,  3,  5,  6,  3,  4,  2,  4,  2,  3,  2,  3,  6,  3,  3,  4,  3,\n",
       "          4,  4,  4,  3,  4,  4,  3,  3, 10,  6,  2,  4,  3,  5,  3,  3,  2,  3,\n",
       "          3,  4,  4,  4,  7,  4,  2,  4,  3,  6,  4,  4,  2,  3,  2,  4,  4,  5,\n",
       "          4,  3,  4,  8,  6,  3,  5,  3,  3,  2,  3,  3,  3,  1,  3,  4,  2,  4,\n",
       "          2,  2,  4,  5,  5,  6,  2,  3,  4,  3,  4,  3,  3,  3,  6,  4,  3,  3,\n",
       "          3,  4]),\n",
       " 'graph_density': tensor([0.2143, 0.5000, 0.5000, 0.5000, 1.0000, 0.6667, 0.5000, 1.0000, 0.5000,\n",
       "         0.1964, 0.5833, 0.1778, 0.5000, 0.5000, 0.5000, 0.6667, 0.3333, 0.2143,\n",
       "         0.5000, 0.3333, 0.5000, 0.2444, 0.3500, 0.2500, 0.5000, 1.5000, 1.0000,\n",
       "         0.2000, 0.5000, 0.3333, 0.5000, 0.6667, 0.4500, 0.5000, 0.5000, 0.5000,\n",
       "         0.4000, 0.4167, 0.5000, 0.3500, 0.2000, 0.5000, 0.3333, 1.0000, 0.3333,\n",
       "         1.0000, 0.5000, 1.0000, 0.5000, 0.3000, 0.5000, 0.5000, 0.3333, 0.6667,\n",
       "         0.4167, 0.4167, 0.4167, 0.5000, 0.5000, 0.3333, 0.5000, 0.5000, 0.2222,\n",
       "         0.2000, 0.5000, 0.5000, 0.3333, 0.5500, 0.5000, 0.3333, 0.5000, 0.6667,\n",
       "         0.3333, 0.2500, 0.4167, 0.3333, 0.2619, 0.4167, 1.0000, 0.4167, 0.5000,\n",
       "         0.2333, 0.3333, 0.3333, 0.5000, 0.5000, 0.5000, 0.4167, 0.3333, 0.3500,\n",
       "         0.3333, 0.5000, 0.2500, 0.1786, 0.3333, 0.8333, 0.2500, 0.5000, 0.3333,\n",
       "         1.5000, 0.5000, 0.3333, 0.5000, 0.0000, 0.3333, 0.3333, 1.0000, 0.3333,\n",
       "         1.0000, 0.5000, 0.3333, 0.3500, 0.3000, 0.2000, 0.5000, 0.3333, 0.4167,\n",
       "         0.5000, 0.3333, 0.5000, 0.5000, 0.5000, 0.3333, 0.2500, 0.3333, 0.5000,\n",
       "         0.5000, 0.3333], dtype=torch.float64)}"
      ]
     },
     "execution_count": 41,
     "metadata": {},
     "output_type": "execute_result"
    }
   ],
   "source": [
    "inputs = next(iter(train_loader))\n",
    "inputs"
   ]
  },
  {
   "cell_type": "code",
   "execution_count": 42,
   "id": "9ae137b4",
   "metadata": {
    "execution": {
     "iopub.execute_input": "2024-05-06T15:37:55.205918Z",
     "iopub.status.busy": "2024-05-06T15:37:55.205628Z",
     "iopub.status.idle": "2024-05-06T15:37:55.224406Z",
     "shell.execute_reply": "2024-05-06T15:37:55.223593Z"
    },
    "id": "sFxCKhxp94nz",
    "outputId": "0cf1a52e-2d99-4a5b-a5c7-94814163552e",
    "papermill": {
     "duration": 0.059259,
     "end_time": "2024-05-06T15:37:55.226562",
     "exception": false,
     "start_time": "2024-05-06T15:37:55.167303",
     "status": "completed"
    },
    "tags": []
   },
   "outputs": [
    {
     "data": {
      "text/html": [
       "<div>\n",
       "<style scoped>\n",
       "    .dataframe tbody tr th:only-of-type {\n",
       "        vertical-align: middle;\n",
       "    }\n",
       "\n",
       "    .dataframe tbody tr th {\n",
       "        vertical-align: top;\n",
       "    }\n",
       "\n",
       "    .dataframe thead th {\n",
       "        text-align: right;\n",
       "    }\n",
       "</style>\n",
       "<table border=\"1\" class=\"dataframe\">\n",
       "  <thead>\n",
       "    <tr style=\"text-align: right;\">\n",
       "      <th></th>\n",
       "      <th>sample_id</th>\n",
       "      <th>question</th>\n",
       "      <th>questionEntity</th>\n",
       "      <th>answerEntity</th>\n",
       "      <th>groundTruthAnswerEntity</th>\n",
       "      <th>answerEntityId</th>\n",
       "      <th>questionEntityId</th>\n",
       "      <th>groundTruthAnswerEntityId</th>\n",
       "      <th>correct</th>\n",
       "      <th>graph</th>\n",
       "      <th>label</th>\n",
       "      <th>linearized_graph</th>\n",
       "      <th>length</th>\n",
       "      <th>density</th>\n",
       "    </tr>\n",
       "  </thead>\n",
       "  <tbody>\n",
       "    <tr>\n",
       "      <th>0</th>\n",
       "      <td>0</td>\n",
       "      <td>Whst is the name of the head of state and highest ranking political and religious authority in Iran?</td>\n",
       "      <td>Iran</td>\n",
       "      <td>Ruhollah Khomeini's return to Iran</td>\n",
       "      <td>Office of the Supreme Leader of Iran</td>\n",
       "      <td>Q7293530</td>\n",
       "      <td>Q794</td>\n",
       "      <td>Q16045000</td>\n",
       "      <td>False</td>\n",
       "      <td>{'nodes': [{'type': 'QUESTIONS_ENTITY', 'name_': 'Q794', 'id': 0, 'label': 'Iran'}, {'type': 'INTERNAL', 'name_': 'Q207991', 'id': 1, 'label': 'Pahlavi dynasty'}, {'type': 'ANSWER_CANDIDATE_ENTITY', 'name_': 'Q7293530', 'id': 2, 'label': 'Ruhollah Khomeini's return to Iran'}], 'links': [{'name_': 'P17', 'source': 0, 'target': 0, 'label': 'country'}, {'name_': 'P1365', 'source': 0, 'target': 1, 'label': 'replaces'}, {'name_': 'P1366', 'source': 1, 'target': 0, 'label': 'replaced by'}, {'name_': 'P17', 'source': 2, 'target': 1, 'label': 'country'}]}</td>\n",
       "      <td>0.0</td>\n",
       "      <td>Iran, country, Iran  Iran, replaces, Pahlavi dynasty  Pahlavi dynasty, replaced by, Iran  [SEP] Ruhollah Khomeini's return to Iran [SEP], country, Pahlavi dynasty</td>\n",
       "      <td>3</td>\n",
       "      <td>0.666667</td>\n",
       "    </tr>\n",
       "  </tbody>\n",
       "</table>\n",
       "</div>"
      ],
      "text/plain": [
       "   sample_id  \\\n",
       "0          0   \n",
       "\n",
       "                                                                                               question  \\\n",
       "0  Whst is the name of the head of state and highest ranking political and religious authority in Iran?   \n",
       "\n",
       "  questionEntity                        answerEntity  \\\n",
       "0           Iran  Ruhollah Khomeini's return to Iran   \n",
       "\n",
       "                groundTruthAnswerEntity answerEntityId questionEntityId  \\\n",
       "0  Office of the Supreme Leader of Iran       Q7293530             Q794   \n",
       "\n",
       "  groundTruthAnswerEntityId  correct  \\\n",
       "0                 Q16045000    False   \n",
       "\n",
       "                                                                                                                                                                                                                                                                                                                                                                                                                                                                                                                                                                       graph  \\\n",
       "0  {'nodes': [{'type': 'QUESTIONS_ENTITY', 'name_': 'Q794', 'id': 0, 'label': 'Iran'}, {'type': 'INTERNAL', 'name_': 'Q207991', 'id': 1, 'label': 'Pahlavi dynasty'}, {'type': 'ANSWER_CANDIDATE_ENTITY', 'name_': 'Q7293530', 'id': 2, 'label': 'Ruhollah Khomeini's return to Iran'}], 'links': [{'name_': 'P17', 'source': 0, 'target': 0, 'label': 'country'}, {'name_': 'P1365', 'source': 0, 'target': 1, 'label': 'replaces'}, {'name_': 'P1366', 'source': 1, 'target': 0, 'label': 'replaced by'}, {'name_': 'P17', 'source': 2, 'target': 1, 'label': 'country'}]}   \n",
       "\n",
       "   label  \\\n",
       "0    0.0   \n",
       "\n",
       "                                                                                                                                                       linearized_graph  \\\n",
       "0   Iran, country, Iran  Iran, replaces, Pahlavi dynasty  Pahlavi dynasty, replaced by, Iran  [SEP] Ruhollah Khomeini's return to Iran [SEP], country, Pahlavi dynasty    \n",
       "\n",
       "   length   density  \n",
       "0       3  0.666667  "
      ]
     },
     "execution_count": 42,
     "metadata": {},
     "output_type": "execute_result"
    }
   ],
   "source": [
    "train_df.head(1)"
   ]
  },
  {
   "cell_type": "code",
   "execution_count": 43,
   "id": "7446ad6b",
   "metadata": {
    "execution": {
     "iopub.execute_input": "2024-05-06T15:37:55.305328Z",
     "iopub.status.busy": "2024-05-06T15:37:55.305026Z",
     "iopub.status.idle": "2024-05-06T15:38:04.756720Z",
     "shell.execute_reply": "2024-05-06T15:38:04.755829Z"
    },
    "papermill": {
     "duration": 9.494039,
     "end_time": "2024-05-06T15:38:04.759118",
     "exception": false,
     "start_time": "2024-05-06T15:37:55.265079",
     "status": "completed"
    },
    "tags": []
   },
   "outputs": [],
   "source": [
    "true_lables, pred_labels = predict(model=bert_linearized_graph_clf, data_loader=test_loader, device=device)"
   ]
  },
  {
   "cell_type": "code",
   "execution_count": 44,
   "id": "a20f803d",
   "metadata": {
    "execution": {
     "iopub.execute_input": "2024-05-06T15:38:04.836196Z",
     "iopub.status.busy": "2024-05-06T15:38:04.835878Z",
     "iopub.status.idle": "2024-05-06T15:38:04.852518Z",
     "shell.execute_reply": "2024-05-06T15:38:04.851481Z"
    },
    "papermill": {
     "duration": 0.05695,
     "end_time": "2024-05-06T15:38:04.854566",
     "exception": false,
     "start_time": "2024-05-06T15:38:04.797616",
     "status": "completed"
    },
    "tags": []
   },
   "outputs": [
    {
     "data": {
      "text/plain": [
       "0.0"
      ]
     },
     "execution_count": 44,
     "metadata": {},
     "output_type": "execute_result"
    }
   ],
   "source": [
    "f1_score(true_lables, pred_labels)"
   ]
  },
  {
   "cell_type": "markdown",
   "id": "d7b21542",
   "metadata": {
    "id": "EUs3AOx15WtN",
    "papermill": {
     "duration": 0.03708,
     "end_time": "2024-05-06T15:38:04.930072",
     "exception": false,
     "start_time": "2024-05-06T15:38:04.892992",
     "status": "completed"
    },
    "tags": []
   },
   "source": [
    "# Training"
   ]
  },
  {
   "cell_type": "code",
   "execution_count": 45,
   "id": "d0494df9",
   "metadata": {
    "execution": {
     "iopub.execute_input": "2024-05-06T15:38:05.007172Z",
     "iopub.status.busy": "2024-05-06T15:38:05.006867Z",
     "iopub.status.idle": "2024-05-06T16:43:39.085066Z",
     "shell.execute_reply": "2024-05-06T16:43:39.084115Z"
    },
    "id": "XatgnQNN5MSy",
    "outputId": "7474128f-59db-4c2a-dea7-d3a26e91a5ac",
    "papermill": {
     "duration": 3934.119608,
     "end_time": "2024-05-06T16:43:39.087898",
     "exception": false,
     "start_time": "2024-05-06T15:38:04.968290",
     "status": "completed"
    },
    "tags": []
   },
   "outputs": [
    {
     "data": {
      "image/png": "[encoded data removed]",
      "text/plain": [
       "<Figure size 1200x800 with 2 Axes>"
      ]
     },
     "metadata": {},
     "output_type": "display_data"
    },
    {
     "name": "stdout",
     "output_type": "stream",
     "text": [
      "Epoch: 40 | Time: 1m 38s\n",
      "\tTrain Loss: 0.013\n",
      "\t Val. Loss: 0.356 |  Val. F1: 0.646\n"
     ]
    }
   ],
   "source": [
    "train_evaluate(bert_linearized_graph_clf, train_loader, dev_loader, optimizer, scheduler,\n",
    "               criterion, N_EPOCHS, \"bert_linearized_graph_clf\", device)"
   ]
  },
  {
   "cell_type": "markdown",
   "id": "d9b1f5e0",
   "metadata": {
    "papermill": {
     "duration": 0.039262,
     "end_time": "2024-05-06T16:43:39.167431",
     "exception": false,
     "start_time": "2024-05-06T16:43:39.128169",
     "status": "completed"
    },
    "tags": []
   },
   "source": [
    "## Evaluation"
   ]
  },
  {
   "cell_type": "code",
   "execution_count": 46,
   "id": "5a525f72",
   "metadata": {
    "execution": {
     "iopub.execute_input": "2024-05-06T16:43:39.248268Z",
     "iopub.status.busy": "2024-05-06T16:43:39.247881Z",
     "iopub.status.idle": "2024-05-06T16:43:39.382396Z",
     "shell.execute_reply": "2024-05-06T16:43:39.381428Z"
    },
    "papermill": {
     "duration": 0.177103,
     "end_time": "2024-05-06T16:43:39.384410",
     "exception": false,
     "start_time": "2024-05-06T16:43:39.207307",
     "status": "completed"
    },
    "tags": []
   },
   "outputs": [
    {
     "data": {
      "text/plain": [
       "<All keys matched successfully>"
      ]
     },
     "execution_count": 46,
     "metadata": {},
     "output_type": "execute_result"
    }
   ],
   "source": [
    "bert_linearized_graph_clf.load_state_dict(torch.load('best-val-bert_linearized_graph_clf.pt'))"
   ]
  },
  {
   "cell_type": "code",
   "execution_count": 47,
   "id": "b6102923",
   "metadata": {
    "execution": {
     "iopub.execute_input": "2024-05-06T16:43:39.467963Z",
     "iopub.status.busy": "2024-05-06T16:43:39.467101Z",
     "iopub.status.idle": "2024-05-06T16:43:43.155832Z",
     "shell.execute_reply": "2024-05-06T16:43:43.154867Z"
    },
    "papermill": {
     "duration": 3.733622,
     "end_time": "2024-05-06T16:43:43.158235",
     "exception": false,
     "start_time": "2024-05-06T16:43:39.424613",
     "status": "completed"
    },
    "tags": []
   },
   "outputs": [
    {
     "name": "stdout",
     "output_type": "stream",
     "text": [
      "0.7414448669201521,0.6310679611650486,0.6818181818181818\n"
     ]
    }
   ],
   "source": [
    "true_labels, pred_labels = predict(bert_linearized_graph_clf, dev_loader, device)\n",
    "print(f\"{precision_score(true_labels, pred_labels)},{recall_score(true_labels, pred_labels)},{f1_score(true_labels, pred_labels)}\")"
   ]
  },
  {
   "cell_type": "code",
   "execution_count": 48,
   "id": "12cbb968",
   "metadata": {
    "execution": {
     "iopub.execute_input": "2024-05-06T16:43:43.240861Z",
     "iopub.status.busy": "2024-05-06T16:43:43.240536Z",
     "iopub.status.idle": "2024-05-06T16:43:52.287984Z",
     "shell.execute_reply": "2024-05-06T16:43:52.286733Z"
    },
    "papermill": {
     "duration": 9.090072,
     "end_time": "2024-05-06T16:43:52.290253",
     "exception": false,
     "start_time": "2024-05-06T16:43:43.200181",
     "status": "completed"
    },
    "tags": []
   },
   "outputs": [
    {
     "name": "stdout",
     "output_type": "stream",
     "text": [
      "0.7241962774957699,0.5646437994722955,0.6345441067457377\n"
     ]
    }
   ],
   "source": [
    "true_labels, pred_labels = predict(bert_linearized_graph_clf, test_loader, device)\n",
    "print(f\"{precision_score(true_labels, pred_labels)},{recall_score(true_labels, pred_labels)},{f1_score(true_labels, pred_labels)}\")"
   ]
  },
  {
   "cell_type": "markdown",
   "id": "c8ee1540",
   "metadata": {
    "papermill": {
     "duration": 0.039521,
     "end_time": "2024-05-06T16:43:52.371767",
     "exception": false,
     "start_time": "2024-05-06T16:43:52.332246",
     "status": "completed"
    },
    "tags": []
   },
   "source": [
    "# Test"
   ]
  },
  {
   "cell_type": "code",
   "execution_count": 49,
   "id": "3e7883d9",
   "metadata": {
    "execution": {
     "iopub.execute_input": "2024-05-06T16:43:52.454191Z",
     "iopub.status.busy": "2024-05-06T16:43:52.453336Z",
     "iopub.status.idle": "2024-05-06T16:43:52.462745Z",
     "shell.execute_reply": "2024-05-06T16:43:52.461864Z"
    },
    "papermill": {
     "duration": 0.053151,
     "end_time": "2024-05-06T16:43:52.464706",
     "exception": false,
     "start_time": "2024-05-06T16:43:52.411555",
     "status": "completed"
    },
    "tags": []
   },
   "outputs": [],
   "source": [
    "class TestQuestionAnswerDataset(Dataset):\n",
    "\n",
    "    def __init__(self, df, tokenizer, max_length, context_key=\"answerEntity\",\n",
    "                 tokenizer_truncation=\"only_first\", graph_length=\"length\", graph_density=\"density\"):\n",
    "        super(QuestionAnswerDataset).__init__()\n",
    "\n",
    "        self.questions = df.question.values\n",
    "        self.contexts = df[context_key].values\n",
    "        self.graph_length = df[graph_length].values\n",
    "        self.graph_density = df[graph_density].values\n",
    "        self.tokenizer = tokenizer\n",
    "        self.max_length = max_length\n",
    "        self.tokenized_input = [tokenizer.encode_plus(x, y,\n",
    "                              max_length=self.max_length,\n",
    "                              padding=\"max_length\",\n",
    "                              truncation=tokenizer_truncation,\n",
    "                              return_tensors=\"pt\", ) \\\n",
    "                          for x, y in zip(self.questions,\n",
    "                                          self.contexts)]\n",
    "\n",
    "    def __len__(self):\n",
    "        return len(self.questions)\n",
    "\n",
    "    def __getitem__(self, idx):\n",
    "        return {\n",
    "                \"input_ids\": self.tokenized_input[idx][\"input_ids\"][0],\n",
    "                \"attention_mask\" : self.tokenized_input[idx][\"attention_mask\"][0],\n",
    "                \"graph_length\": self.graph_length[idx],\n",
    "                \"graph_density\": self.graph_density[idx],\n",
    "                }"
   ]
  },
  {
   "cell_type": "code",
   "execution_count": 50,
   "id": "cc34b23f",
   "metadata": {
    "execution": {
     "iopub.execute_input": "2024-05-06T16:43:52.545721Z",
     "iopub.status.busy": "2024-05-06T16:43:52.545109Z",
     "iopub.status.idle": "2024-05-06T16:43:52.552263Z",
     "shell.execute_reply": "2024-05-06T16:43:52.551425Z"
    },
    "papermill": {
     "duration": 0.049583,
     "end_time": "2024-05-06T16:43:52.554190",
     "exception": false,
     "start_time": "2024-05-06T16:43:52.504607",
     "status": "completed"
    },
    "tags": []
   },
   "outputs": [],
   "source": [
    "def predict(model, data_loader, device):\n",
    "    pred_labels = []\n",
    "\n",
    "    model.eval()\n",
    "    with torch.no_grad():\n",
    "        for i, batch in enumerate(data_loader):\n",
    "            input_ids = batch[\"input_ids\"].to(device)\n",
    "            attention_mask = batch[\"attention_mask\"].to(device)\n",
    "            \n",
    "            graph_length = batch[\"graph_length\"].to(device)\n",
    "            graph_density = batch[\"graph_density\"].to(device)\n",
    "\n",
    "            pred_probas = model(inputs=input_ids, attention_mask=attention_mask, graph_length=graph_length, graph_density=graph_density).squeeze(1)\n",
    "            pred_probas = pred_probas.cpu().numpy()\n",
    "\n",
    "            batch_pred_labels = (pred_probas >= 0.5) * 1\n",
    "\n",
    "            pred_labels.extend(batch_pred_labels)\n",
    "            \n",
    "    return pred_labels"
   ]
  },
  {
   "cell_type": "code",
   "execution_count": 51,
   "id": "030c9667",
   "metadata": {
    "execution": {
     "iopub.execute_input": "2024-05-06T16:43:52.636014Z",
     "iopub.status.busy": "2024-05-06T16:43:52.635385Z",
     "iopub.status.idle": "2024-05-06T16:43:52.754632Z",
     "shell.execute_reply": "2024-05-06T16:43:52.753720Z"
    },
    "papermill": {
     "duration": 0.162819,
     "end_time": "2024-05-06T16:43:52.756705",
     "exception": false,
     "start_time": "2024-05-06T16:43:52.593886",
     "status": "completed"
    },
    "tags": []
   },
   "outputs": [
    {
     "data": {
      "text/plain": [
       "(10961, 7)"
      ]
     },
     "execution_count": 51,
     "metadata": {},
     "output_type": "execute_result"
    }
   ],
   "source": [
    "test_data = pd.read_csv(\"TextGraphs17-shared-task/data/tsv/test.tsv\", sep=\"\\t\")\n",
    "test_data.shape"
   ]
  },
  {
   "cell_type": "code",
   "execution_count": 52,
   "id": "5bbac954",
   "metadata": {
    "execution": {
     "iopub.execute_input": "2024-05-06T16:43:52.840979Z",
     "iopub.status.busy": "2024-05-06T16:43:52.840297Z",
     "iopub.status.idle": "2024-05-06T16:43:54.590167Z",
     "shell.execute_reply": "2024-05-06T16:43:54.589164Z"
    },
    "papermill": {
     "duration": 1.793737,
     "end_time": "2024-05-06T16:43:54.592581",
     "exception": false,
     "start_time": "2024-05-06T16:43:52.798844",
     "status": "completed"
    },
    "tags": []
   },
   "outputs": [
    {
     "data": {
      "text/html": [
       "<div>\n",
       "<style scoped>\n",
       "    .dataframe tbody tr th:only-of-type {\n",
       "        vertical-align: middle;\n",
       "    }\n",
       "\n",
       "    .dataframe tbody tr th {\n",
       "        vertical-align: top;\n",
       "    }\n",
       "\n",
       "    .dataframe thead th {\n",
       "        text-align: right;\n",
       "    }\n",
       "</style>\n",
       "<table border=\"1\" class=\"dataframe\">\n",
       "  <thead>\n",
       "    <tr style=\"text-align: right;\">\n",
       "      <th></th>\n",
       "      <th>sample_id</th>\n",
       "      <th>question</th>\n",
       "      <th>questionEntity</th>\n",
       "      <th>answerEntity</th>\n",
       "      <th>questionEntityId</th>\n",
       "      <th>answerEntityId</th>\n",
       "      <th>graph</th>\n",
       "      <th>linearized_graph</th>\n",
       "      <th>length</th>\n",
       "      <th>density</th>\n",
       "    </tr>\n",
       "  </thead>\n",
       "  <tbody>\n",
       "    <tr>\n",
       "      <th>0</th>\n",
       "      <td>0</td>\n",
       "      <td>After publishing A Time to Kill, which book did its author begin working on immediately?</td>\n",
       "      <td>A Time to Kill</td>\n",
       "      <td>A Clash of Kings</td>\n",
       "      <td>Q1213715</td>\n",
       "      <td>Q300370</td>\n",
       "      <td>{'nodes': [{'type': 'INTERNAL', 'name_': 'Q30', 'id': 0, 'label': 'United States'}, {'type': 'ANSWER_CANDIDATE_ENTITY', 'name_': 'Q300370', 'id': 1, 'label': 'A Clash of Kings'}, {'type': 'QUESTIONS_ENTITY', 'name_': 'Q1213715', 'id': 2, 'label': 'A Time to Kill'}], 'links': [{'name_': 'P17', 'source': 0, 'target': 0, 'label': 'country'}, {'name_': 'P495', 'source': 1, 'target': 0, 'label': 'country of origin'}, {'name_': 'P495', 'source': 2, 'target': 0, 'label': 'country of origin'}]}</td>\n",
       "      <td>United States, country, United States  [SEP] A Clash of Kings [SEP], country of origin, United States  A Time to Kill, country of origin, United States</td>\n",
       "      <td>3</td>\n",
       "      <td>0.5</td>\n",
       "    </tr>\n",
       "    <tr>\n",
       "      <th>1</th>\n",
       "      <td>1</td>\n",
       "      <td>After publishing A Time to Kill, which book did its author begin working on immediately?</td>\n",
       "      <td>A Time to Kill</td>\n",
       "      <td>A Feast for Crows</td>\n",
       "      <td>Q1213715</td>\n",
       "      <td>Q1764445</td>\n",
       "      <td>{'nodes': [{'type': 'INTERNAL', 'name_': 'Q30', 'id': 0, 'label': 'United States'}, {'type': 'ANSWER_CANDIDATE_ENTITY', 'name_': 'Q1764445', 'id': 1, 'label': 'A Feast for Crows'}, {'type': 'QUESTIONS_ENTITY', 'name_': 'Q1213715', 'id': 2, 'label': 'A Time to Kill'}], 'links': [{'name_': 'P17', 'source': 0, 'target': 0, 'label': 'country'}, {'name_': 'P495', 'source': 1, 'target': 0, 'label': 'country of origin'}, {'name_': 'P495', 'source': 2, 'target': 0, 'label': 'country of origin'}]}</td>\n",
       "      <td>United States, country, United States  [SEP] A Feast for Crows [SEP], country of origin, United States  A Time to Kill, country of origin, United States</td>\n",
       "      <td>3</td>\n",
       "      <td>0.5</td>\n",
       "    </tr>\n",
       "  </tbody>\n",
       "</table>\n",
       "</div>"
      ],
      "text/plain": [
       "   sample_id  \\\n",
       "0          0   \n",
       "1          1   \n",
       "\n",
       "                                                                                   question  \\\n",
       "0  After publishing A Time to Kill, which book did its author begin working on immediately?   \n",
       "1  After publishing A Time to Kill, which book did its author begin working on immediately?   \n",
       "\n",
       "   questionEntity       answerEntity questionEntityId answerEntityId  \\\n",
       "0  A Time to Kill   A Clash of Kings         Q1213715        Q300370   \n",
       "1  A Time to Kill  A Feast for Crows         Q1213715       Q1764445   \n",
       "\n",
       "                                                                                                                                                                                                                                                                                                                                                                                                                                                                                                           graph  \\\n",
       "0    {'nodes': [{'type': 'INTERNAL', 'name_': 'Q30', 'id': 0, 'label': 'United States'}, {'type': 'ANSWER_CANDIDATE_ENTITY', 'name_': 'Q300370', 'id': 1, 'label': 'A Clash of Kings'}, {'type': 'QUESTIONS_ENTITY', 'name_': 'Q1213715', 'id': 2, 'label': 'A Time to Kill'}], 'links': [{'name_': 'P17', 'source': 0, 'target': 0, 'label': 'country'}, {'name_': 'P495', 'source': 1, 'target': 0, 'label': 'country of origin'}, {'name_': 'P495', 'source': 2, 'target': 0, 'label': 'country of origin'}]}   \n",
       "1  {'nodes': [{'type': 'INTERNAL', 'name_': 'Q30', 'id': 0, 'label': 'United States'}, {'type': 'ANSWER_CANDIDATE_ENTITY', 'name_': 'Q1764445', 'id': 1, 'label': 'A Feast for Crows'}, {'type': 'QUESTIONS_ENTITY', 'name_': 'Q1213715', 'id': 2, 'label': 'A Time to Kill'}], 'links': [{'name_': 'P17', 'source': 0, 'target': 0, 'label': 'country'}, {'name_': 'P495', 'source': 1, 'target': 0, 'label': 'country of origin'}, {'name_': 'P495', 'source': 2, 'target': 0, 'label': 'country of origin'}]}   \n",
       "\n",
       "                                                                                                                                             linearized_graph  \\\n",
       "0    United States, country, United States  [SEP] A Clash of Kings [SEP], country of origin, United States  A Time to Kill, country of origin, United States    \n",
       "1   United States, country, United States  [SEP] A Feast for Crows [SEP], country of origin, United States  A Time to Kill, country of origin, United States    \n",
       "\n",
       "   length  density  \n",
       "0       3      0.5  \n",
       "1       3      0.5  "
      ]
     },
     "execution_count": 52,
     "metadata": {},
     "output_type": "execute_result"
    }
   ],
   "source": [
    "test_data[\"graph\"] = test_data[\"graph\"].apply(eval)\n",
    "test_data[\"linearized_graph\"], test_data[\"length\"], test_data[\"density\"] = zip(*test_data.apply(linearize_graph, axis=1))\n",
    "test_data.head(2)"
   ]
  },
  {
   "cell_type": "code",
   "execution_count": 53,
   "id": "803cfa5a",
   "metadata": {
    "execution": {
     "iopub.execute_input": "2024-05-06T16:43:54.678571Z",
     "iopub.status.busy": "2024-05-06T16:43:54.677826Z",
     "iopub.status.idle": "2024-05-06T16:44:00.396672Z",
     "shell.execute_reply": "2024-05-06T16:44:00.395606Z"
    },
    "papermill": {
     "duration": 5.763608,
     "end_time": "2024-05-06T16:44:00.399254",
     "exception": false,
     "start_time": "2024-05-06T16:43:54.635646",
     "status": "completed"
    },
    "tags": []
   },
   "outputs": [],
   "source": [
    "max_length = 128\n",
    "\n",
    "final_test_data = TestQuestionAnswerDataset(test_data, tokenizer=tokenizer, max_length=max_length, context_key=\"linearized_graph\",\n",
    "                                     tokenizer_truncation=\"only_second\")"
   ]
  },
  {
   "cell_type": "code",
   "execution_count": 54,
   "id": "494c07a5",
   "metadata": {
    "execution": {
     "iopub.execute_input": "2024-05-06T16:44:00.485512Z",
     "iopub.status.busy": "2024-05-06T16:44:00.484687Z",
     "iopub.status.idle": "2024-05-06T16:44:00.490163Z",
     "shell.execute_reply": "2024-05-06T16:44:00.489301Z"
    },
    "papermill": {
     "duration": 0.051167,
     "end_time": "2024-05-06T16:44:00.492075",
     "exception": false,
     "start_time": "2024-05-06T16:44:00.440908",
     "status": "completed"
    },
    "tags": []
   },
   "outputs": [],
   "source": [
    "batch_size = 128\n",
    "num_workers = 0\n",
    "\n",
    "test_loader = torch.utils.data.DataLoader(\n",
    "    final_test_data, batch_size=batch_size, num_workers=num_workers, shuffle=False, drop_last=False,\n",
    ")"
   ]
  },
  {
   "cell_type": "code",
   "execution_count": 55,
   "id": "b0a54b19",
   "metadata": {
    "execution": {
     "iopub.execute_input": "2024-05-06T16:44:00.575752Z",
     "iopub.status.busy": "2024-05-06T16:44:00.575037Z",
     "iopub.status.idle": "2024-05-06T16:44:00.588407Z",
     "shell.execute_reply": "2024-05-06T16:44:00.587455Z"
    },
    "papermill": {
     "duration": 0.057064,
     "end_time": "2024-05-06T16:44:00.590386",
     "exception": false,
     "start_time": "2024-05-06T16:44:00.533322",
     "status": "completed"
    },
    "tags": []
   },
   "outputs": [
    {
     "data": {
      "text/plain": [
       "{'input_ids': tensor([[ 101, 2044, 4640,  ...,    0,    0,    0],\n",
       "         [ 101, 2044, 4640,  ...,    0,    0,    0],\n",
       "         [ 101, 2044, 4640,  ...,    0,    0,    0],\n",
       "         ...,\n",
       "         [ 101, 2034, 2931,  ...,    0,    0,    0],\n",
       "         [ 101, 2034, 2931,  ...,    0,    0,    0],\n",
       "         [ 101, 2034, 2931,  ...,    0,    0,    0]]),\n",
       " 'attention_mask': tensor([[1, 1, 1,  ..., 0, 0, 0],\n",
       "         [1, 1, 1,  ..., 0, 0, 0],\n",
       "         [1, 1, 1,  ..., 0, 0, 0],\n",
       "         ...,\n",
       "         [1, 1, 1,  ..., 0, 0, 0],\n",
       "         [1, 1, 1,  ..., 0, 0, 0],\n",
       "         [1, 1, 1,  ..., 0, 0, 0]]),\n",
       " 'graph_length': tensor([ 3,  3,  3,  3,  3,  6,  3,  3,  3,  3,  5,  2,  3,  2,  3,  3,  3,  2,\n",
       "          3,  2,  2,  3,  2,  2,  2,  2,  2,  2,  2,  2,  2,  2,  3,  9,  7,  7,\n",
       "          7,  7,  5,  4,  3,  3,  4,  4,  4,  5,  5,  5,  5,  5,  5,  4,  5,  5,\n",
       "          5,  5,  8,  8,  8,  7,  5,  7,  7,  6,  5,  6,  6,  8,  9,  6,  6, 10,\n",
       "          6,  6,  7,  4,  6,  8,  5,  5,  5,  5,  5,  7,  8,  5,  7,  4,  9, 14,\n",
       "         10,  7, 11,  7,  7, 12,  7,  9, 10,  4,  5,  4,  5,  8,  5,  4,  7,  8,\n",
       "          5,  3,  5,  4,  5,  5,  4,  4,  5,  4,  4,  4,  4,  6,  3,  3,  3,  3,\n",
       "          2,  4]),\n",
       " 'graph_density': tensor([0.5000, 0.5000, 0.5000, 0.5000, 0.5000, 0.2667, 0.5000, 0.3333, 0.5000,\n",
       "         0.5000, 0.2500, 0.5000, 0.6667, 1.5000, 0.6667, 0.6667, 0.5000, 1.5000,\n",
       "         0.3333, 1.5000, 1.5000, 0.3333, 1.0000, 1.0000, 1.0000, 0.5000, 1.0000,\n",
       "         1.0000, 0.5000, 1.0000, 0.5000, 1.0000, 0.5000, 0.2083, 0.2381, 0.2143,\n",
       "         0.2143, 0.2143, 0.3000, 0.4167, 0.6667, 0.5000, 0.3333, 0.4167, 0.3333,\n",
       "         0.3000, 0.5000, 0.3000, 0.5000, 0.5000, 0.5000, 0.3333, 0.3000, 0.5000,\n",
       "         0.3000, 0.3000, 0.2321, 0.2321, 0.2143, 0.2143, 0.2500, 0.2619, 0.2619,\n",
       "         0.3333, 0.3000, 0.2000, 0.3333, 0.3036, 0.2222, 0.3000, 0.3000, 0.1778,\n",
       "         0.3000, 0.3000, 0.2619, 0.2500, 0.3000, 0.2679, 0.3000, 0.2500, 0.4500,\n",
       "         0.4500, 0.4000, 0.1905, 0.2857, 0.4500, 0.2381, 0.4167, 0.1389, 0.0989,\n",
       "         0.1222, 0.1667, 0.1455, 0.1667, 0.1905, 0.1288, 0.1429, 0.1528, 0.1333,\n",
       "         0.4167, 0.4000, 0.4167, 0.4500, 0.3571, 0.5000, 0.5833, 0.3095, 0.3571,\n",
       "         0.3500, 0.6667, 0.4000, 0.3333, 0.3500, 0.3000, 0.5833, 0.4167, 0.2500,\n",
       "         0.4167, 0.4167, 0.3333, 0.3333, 0.2333, 0.5000, 0.5000, 0.5000, 0.5000,\n",
       "         1.0000, 0.5000], dtype=torch.float64)}"
      ]
     },
     "execution_count": 55,
     "metadata": {},
     "output_type": "execute_result"
    }
   ],
   "source": [
    "inputs = next(iter(test_loader))\n",
    "inputs"
   ]
  },
  {
   "cell_type": "code",
   "execution_count": 56,
   "id": "a75e3841",
   "metadata": {
    "execution": {
     "iopub.execute_input": "2024-05-06T16:44:00.675016Z",
     "iopub.status.busy": "2024-05-06T16:44:00.674672Z",
     "iopub.status.idle": "2024-05-06T16:44:13.797028Z",
     "shell.execute_reply": "2024-05-06T16:44:13.796176Z"
    },
    "id": "PmkreeJz5ZDq",
    "papermill": {
     "duration": 13.168466,
     "end_time": "2024-05-06T16:44:13.799842",
     "exception": false,
     "start_time": "2024-05-06T16:44:00.631376",
     "status": "completed"
    },
    "tags": []
   },
   "outputs": [],
   "source": [
    "predicted_labels = predict(model=bert_linearized_graph_clf, data_loader=test_loader, device=device)"
   ]
  },
  {
   "cell_type": "code",
   "execution_count": 57,
   "id": "e27f0bd1",
   "metadata": {
    "execution": {
     "iopub.execute_input": "2024-05-06T16:44:13.883078Z",
     "iopub.status.busy": "2024-05-06T16:44:13.882271Z",
     "iopub.status.idle": "2024-05-06T16:44:13.929301Z",
     "shell.execute_reply": "2024-05-06T16:44:13.928349Z"
    },
    "papermill": {
     "duration": 0.089984,
     "end_time": "2024-05-06T16:44:13.931200",
     "exception": false,
     "start_time": "2024-05-06T16:44:13.841216",
     "status": "completed"
    },
    "tags": []
   },
   "outputs": [
    {
     "data": {
      "text/html": [
       "<div>\n",
       "<style scoped>\n",
       "    .dataframe tbody tr th:only-of-type {\n",
       "        vertical-align: middle;\n",
       "    }\n",
       "\n",
       "    .dataframe tbody tr th {\n",
       "        vertical-align: top;\n",
       "    }\n",
       "\n",
       "    .dataframe thead th {\n",
       "        text-align: right;\n",
       "    }\n",
       "</style>\n",
       "<table border=\"1\" class=\"dataframe\">\n",
       "  <thead>\n",
       "    <tr style=\"text-align: right;\">\n",
       "      <th></th>\n",
       "      <th>sample_id</th>\n",
       "      <th>prediction</th>\n",
       "    </tr>\n",
       "  </thead>\n",
       "  <tbody>\n",
       "    <tr>\n",
       "      <th>0</th>\n",
       "      <td>0</td>\n",
       "      <td>0</td>\n",
       "    </tr>\n",
       "    <tr>\n",
       "      <th>1</th>\n",
       "      <td>1</td>\n",
       "      <td>0</td>\n",
       "    </tr>\n",
       "    <tr>\n",
       "      <th>2</th>\n",
       "      <td>2</td>\n",
       "      <td>0</td>\n",
       "    </tr>\n",
       "    <tr>\n",
       "      <th>3</th>\n",
       "      <td>3</td>\n",
       "      <td>0</td>\n",
       "    </tr>\n",
       "    <tr>\n",
       "      <th>4</th>\n",
       "      <td>4</td>\n",
       "      <td>0</td>\n",
       "    </tr>\n",
       "  </tbody>\n",
       "</table>\n",
       "</div>"
      ],
      "text/plain": [
       "   sample_id  prediction\n",
       "0          0           0\n",
       "1          1           0\n",
       "2          2           0\n",
       "3          3           0\n",
       "4          4           0"
      ]
     },
     "execution_count": 57,
     "metadata": {},
     "output_type": "execute_result"
    }
   ],
   "source": [
    "results = pd.concat([pd.Series(np.arange(len(predicted_labels))), pd.Series(predicted_labels)], axis=1)\n",
    "results.rename(columns={0: \"sample_id\", 1: \"prediction\"}, inplace=True)\n",
    "results.head(5)"
   ]
  },
  {
   "cell_type": "code",
   "execution_count": 58,
   "id": "d5b221a9",
   "metadata": {
    "execution": {
     "iopub.execute_input": "2024-05-06T16:44:14.013911Z",
     "iopub.status.busy": "2024-05-06T16:44:14.013596Z",
     "iopub.status.idle": "2024-05-06T16:44:14.031941Z",
     "shell.execute_reply": "2024-05-06T16:44:14.031228Z"
    },
    "papermill": {
     "duration": 0.06141,
     "end_time": "2024-05-06T16:44:14.033870",
     "exception": false,
     "start_time": "2024-05-06T16:44:13.972460",
     "status": "completed"
    },
    "tags": []
   },
   "outputs": [],
   "source": [
    "results.to_csv(\"results.csv\", index=False, sep=\"\\t\")"
   ]
  }
 ],
 "metadata": {
  "colab": {
   "provenance": []
  },
  "kaggle": {
   "accelerator": "gpu",
   "dataSources": [],
   "dockerImageVersionId": 30699,
   "isGpuEnabled": true,
   "isInternetEnabled": true,
   "language": "python",
   "sourceType": "notebook"
  },
  "kernelspec": {
   "display_name": "Python 3",
   "language": "python",
   "name": "python3"
  },
  "language_info": {
   "codemirror_mode": {
    "name": "ipython",
    "version": 3
   },
   "file_extension": ".py",
   "mimetype": "text/x-python",
   "name": "python",
   "nbconvert_exporter": "python",
   "pygments_lexer": "ipython3",
   "version": "3.10.13"
  },
  "papermill": {
   "default_parameters": {},
   "duration": 4032.959264,
   "end_time": "2024-05-06T16:44:16.804014",
   "environment_variables": {},
   "exception": null,
   "input_path": "__notebook__.ipynb",
   "output_path": "__notebook__.ipynb",
   "parameters": {},
   "start_time": "2024-05-06T15:37:03.844750",
   "version": "2.5.0"
  },
  "widgets": {
   "application/vnd.jupyter.widget-state+json": {
    "state": {
     "00d0f66939ce46ffa89910bdd7324019": {
      "model_module": "@jupyter-widgets/controls",
      "model_module_version": "1.5.0",
      "model_name": "ProgressStyleModel",
      "state": {
       "_model_module": "@jupyter-widgets/controls",
       "_model_module_version": "1.5.0",
       "_model_name": "ProgressStyleModel",
       "_view_count": null,
       "_view_module": "@jupyter-widgets/base",
       "_view_module_version": "1.2.0",
       "_view_name": "StyleView",
       "bar_color": null,
       "description_width": ""
      }
     },
     "034939b7bb99414085f7e0b0cc2b81c4": {
      "model_module": "@jupyter-widgets/base",
      "model_module_version": "1.2.0",
      "model_name": "LayoutModel",
      "state": {
       "_model_module": "@jupyter-widgets/base",
       "_model_module_version": "1.2.0",
       "_model_name": "LayoutModel",
       "_view_count": null,
       "_view_module": "@jupyter-widgets/base",
       "_view_module_version": "1.2.0",
       "_view_name": "LayoutView",
       "align_content": null,
       "align_items": null,
       "align_self": null,
       "border": null,
       "bottom": null,
       "display": null,
       "flex": null,
       "flex_flow": null,
       "grid_area": null,
       "grid_auto_columns": null,
       "grid_auto_flow": null,
       "grid_auto_rows": null,
       "grid_column": null,
       "grid_gap": null,
       "grid_row": null,
       "grid_template_areas": null,
       "grid_template_columns": null,
       "grid_template_rows": null,
       "height": null,
       "justify_content": null,
       "justify_items": null,
       "left": null,
       "margin": null,
       "max_height": null,
       "max_width": null,
       "min_height": null,
       "min_width": null,
       "object_fit": null,
       "object_position": null,
       "order": null,
       "overflow": null,
       "overflow_x": null,
       "overflow_y": null,
       "padding": null,
       "right": null,
       "top": null,
       "visibility": null,
       "width": null
      }
     },
     "0f20b81837444c26827707a3980252d7": {
      "model_module": "@jupyter-widgets/base",
      "model_module_version": "1.2.0",
      "model_name": "LayoutModel",
      "state": {
       "_model_module": "@jupyter-widgets/base",
       "_model_module_version": "1.2.0",
       "_model_name": "LayoutModel",
       "_view_count": null,
       "_view_module": "@jupyter-widgets/base",
       "_view_module_version": "1.2.0",
       "_view_name": "LayoutView",
       "align_content": null,
       "align_items": null,
       "align_self": null,
       "border": null,
       "bottom": null,
       "display": null,
       "flex": null,
       "flex_flow": null,
       "grid_area": null,
       "grid_auto_columns": null,
       "grid_auto_flow": null,
       "grid_auto_rows": null,
       "grid_column": null,
       "grid_gap": null,
       "grid_row": null,
       "grid_template_areas": null,
       "grid_template_columns": null,
       "grid_template_rows": null,
       "height": null,
       "justify_content": null,
       "justify_items": null,
       "left": null,
       "margin": null,
       "max_height": null,
       "max_width": null,
       "min_height": null,
       "min_width": null,
       "object_fit": null,
       "object_position": null,
       "order": null,
       "overflow": null,
       "overflow_x": null,
       "overflow_y": null,
       "padding": null,
       "right": null,
       "top": null,
       "visibility": null,
       "width": null
      }
     },
     "113ff91d93df40c192e661061745ac59": {
      "model_module": "@jupyter-widgets/controls",
      "model_module_version": "1.5.0",
      "model_name": "HBoxModel",
      "state": {
       "_dom_classes": [],
       "_model_module": "@jupyter-widgets/controls",
       "_model_module_version": "1.5.0",
       "_model_name": "HBoxModel",
       "_view_count": null,
       "_view_module": "@jupyter-widgets/controls",
       "_view_module_version": "1.5.0",
       "_view_name": "HBoxView",
       "box_style": "",
       "children": [
        "IPY_MODEL_2fc7c77032774184b8ea0632618e5336",
        "IPY_MODEL_f29b2625c1844d2e9b312b7ae9ef4be0",
        "IPY_MODEL_9101ad6fad1b456c81627f3fe54cb031"
       ],
       "layout": "IPY_MODEL_9774d404f1744e8b914938f6b6671bf8"
      }
     },
     "12a06c43ee18487493bdec2d515fa1ae": {
      "model_module": "@jupyter-widgets/controls",
      "model_module_version": "1.5.0",
      "model_name": "FloatProgressModel",
      "state": {
       "_dom_classes": [],
       "_model_module": "@jupyter-widgets/controls",
       "_model_module_version": "1.5.0",
       "_model_name": "FloatProgressModel",
       "_view_count": null,
       "_view_module": "@jupyter-widgets/controls",
       "_view_module_version": "1.5.0",
       "_view_name": "ProgressView",
       "bar_style": "success",
       "description": "",
       "description_tooltip": null,
       "layout": "IPY_MODEL_4bfdf6abcb004db99be6fdda1b728db1",
       "max": 231508.0,
       "min": 0.0,
       "orientation": "horizontal",
       "style": "IPY_MODEL_cb4f9577a5904d79b1f50dc922da4aef",
       "value": 231508.0
      }
     },
     "12ff2c26e8a147739c634d112d6d7f1a": {
      "model_module": "@jupyter-widgets/controls",
      "model_module_version": "1.5.0",
      "model_name": "ProgressStyleModel",
      "state": {
       "_model_module": "@jupyter-widgets/controls",
       "_model_module_version": "1.5.0",
       "_model_name": "ProgressStyleModel",
       "_view_count": null,
       "_view_module": "@jupyter-widgets/base",
       "_view_module_version": "1.2.0",
       "_view_name": "StyleView",
       "bar_color": null,
       "description_width": ""
      }
     },
     "1394710a8d994d279ecccf365d5f98b4": {
      "model_module": "@jupyter-widgets/base",
      "model_module_version": "1.2.0",
      "model_name": "LayoutModel",
      "state": {
       "_model_module": "@jupyter-widgets/base",
       "_model_module_version": "1.2.0",
       "_model_name": "LayoutModel",
       "_view_count": null,
       "_view_module": "@jupyter-widgets/base",
       "_view_module_version": "1.2.0",
       "_view_name": "LayoutView",
       "align_content": null,
       "align_items": null,
       "align_self": null,
       "border": null,
       "bottom": null,
       "display": null,
       "flex": null,
       "flex_flow": null,
       "grid_area": null,
       "grid_auto_columns": null,
       "grid_auto_flow": null,
       "grid_auto_rows": null,
       "grid_column": null,
       "grid_gap": null,
       "grid_row": null,
       "grid_template_areas": null,
       "grid_template_columns": null,
       "grid_template_rows": null,
       "height": null,
       "justify_content": null,
       "justify_items": null,
       "left": null,
       "margin": null,
       "max_height": null,
       "max_width": null,
       "min_height": null,
       "min_width": null,
       "object_fit": null,
       "object_position": null,
       "order": null,
       "overflow": null,
       "overflow_x": null,
       "overflow_y": null,
       "padding": null,
       "right": null,
       "top": null,
       "visibility": null,
       "width": null
      }
     },
     "18003151857c422281641236e1c7801c": {
      "model_module": "@jupyter-widgets/base",
      "model_module_version": "1.2.0",
      "model_name": "LayoutModel",
      "state": {
       "_model_module": "@jupyter-widgets/base",
       "_model_module_version": "1.2.0",
       "_model_name": "LayoutModel",
       "_view_count": null,
       "_view_module": "@jupyter-widgets/base",
       "_view_module_version": "1.2.0",
       "_view_name": "LayoutView",
       "align_content": null,
       "align_items": null,
       "align_self": null,
       "border": null,
       "bottom": null,
       "display": null,
       "flex": null,
       "flex_flow": null,
       "grid_area": null,
       "grid_auto_columns": null,
       "grid_auto_flow": null,
       "grid_auto_rows": null,
       "grid_column": null,
       "grid_gap": null,
       "grid_row": null,
       "grid_template_areas": null,
       "grid_template_columns": null,
       "grid_template_rows": null,
       "height": null,
       "justify_content": null,
       "justify_items": null,
       "left": null,
       "margin": null,
       "max_height": null,
       "max_width": null,
       "min_height": null,
       "min_width": null,
       "object_fit": null,
       "object_position": null,
       "order": null,
       "overflow": null,
       "overflow_x": null,
       "overflow_y": null,
       "padding": null,
       "right": null,
       "top": null,
       "visibility": null,
       "width": null
      }
     },
     "187887234b584868891ba00617407f80": {
      "model_module": "@jupyter-widgets/base",
      "model_module_version": "1.2.0",
      "model_name": "LayoutModel",
      "state": {
       "_model_module": "@jupyter-widgets/base",
       "_model_module_version": "1.2.0",
       "_model_name": "LayoutModel",
       "_view_count": null,
       "_view_module": "@jupyter-widgets/base",
       "_view_module_version": "1.2.0",
       "_view_name": "LayoutView",
       "align_content": null,
       "align_items": null,
       "align_self": null,
       "border": null,
       "bottom": null,
       "display": null,
       "flex": null,
       "flex_flow": null,
       "grid_area": null,
       "grid_auto_columns": null,
       "grid_auto_flow": null,
       "grid_auto_rows": null,
       "grid_column": null,
       "grid_gap": null,
       "grid_row": null,
       "grid_template_areas": null,
       "grid_template_columns": null,
       "grid_template_rows": null,
       "height": null,
       "justify_content": null,
       "justify_items": null,
       "left": null,
       "margin": null,
       "max_height": null,
       "max_width": null,
       "min_height": null,
       "min_width": null,
       "object_fit": null,
       "object_position": null,
       "order": null,
       "overflow": null,
       "overflow_x": null,
       "overflow_y": null,
       "padding": null,
       "right": null,
       "top": null,
       "visibility": null,
       "width": null
      }
     },
     "188bc716fe8a4bfb99749de149bf0418": {
      "model_module": "@jupyter-widgets/base",
      "model_module_version": "1.2.0",
      "model_name": "LayoutModel",
      "state": {
       "_model_module": "@jupyter-widgets/base",
       "_model_module_version": "1.2.0",
       "_model_name": "LayoutModel",
       "_view_count": null,
       "_view_module": "@jupyter-widgets/base",
       "_view_module_version": "1.2.0",
       "_view_name": "LayoutView",
       "align_content": null,
       "align_items": null,
       "align_self": null,
       "border": null,
       "bottom": null,
       "display": null,
       "flex": null,
       "flex_flow": null,
       "grid_area": null,
       "grid_auto_columns": null,
       "grid_auto_flow": null,
       "grid_auto_rows": null,
       "grid_column": null,
       "grid_gap": null,
       "grid_row": null,
       "grid_template_areas": null,
       "grid_template_columns": null,
       "grid_template_rows": null,
       "height": null,
       "justify_content": null,
       "justify_items": null,
       "left": null,
       "margin": null,
       "max_height": null,
       "max_width": null,
       "min_height": null,
       "min_width": null,
       "object_fit": null,
       "object_position": null,
       "order": null,
       "overflow": null,
       "overflow_x": null,
       "overflow_y": null,
       "padding": null,
       "right": null,
       "top": null,
       "visibility": null,
       "width": null
      }
     },
     "1a5adecb8c7944c98689c2e387304ac4": {
      "model_module": "@jupyter-widgets/controls",
      "model_module_version": "1.5.0",
      "model_name": "ProgressStyleModel",
      "state": {
       "_model_module": "@jupyter-widgets/controls",
       "_model_module_version": "1.5.0",
       "_model_name": "ProgressStyleModel",
       "_view_count": null,
       "_view_module": "@jupyter-widgets/base",
       "_view_module_version": "1.2.0",
       "_view_name": "StyleView",
       "bar_color": null,
       "description_width": ""
      }
     },
     "1dc84cfde2be4091b891b136d6a23c31": {
      "model_module": "@jupyter-widgets/base",
      "model_module_version": "1.2.0",
      "model_name": "LayoutModel",
      "state": {
       "_model_module": "@jupyter-widgets/base",
       "_model_module_version": "1.2.0",
       "_model_name": "LayoutModel",
       "_view_count": null,
       "_view_module": "@jupyter-widgets/base",
       "_view_module_version": "1.2.0",
       "_view_name": "LayoutView",
       "align_content": null,
       "align_items": null,
       "align_self": null,
       "border": null,
       "bottom": null,
       "display": null,
       "flex": null,
       "flex_flow": null,
       "grid_area": null,
       "grid_auto_columns": null,
       "grid_auto_flow": null,
       "grid_auto_rows": null,
       "grid_column": null,
       "grid_gap": null,
       "grid_row": null,
       "grid_template_areas": null,
       "grid_template_columns": null,
       "grid_template_rows": null,
       "height": null,
       "justify_content": null,
       "justify_items": null,
       "left": null,
       "margin": null,
       "max_height": null,
       "max_width": null,
       "min_height": null,
       "min_width": null,
       "object_fit": null,
       "object_position": null,
       "order": null,
       "overflow": null,
       "overflow_x": null,
       "overflow_y": null,
       "padding": null,
       "right": null,
       "top": null,
       "visibility": null,
       "width": null
      }
     },
     "1e89158835d74217b2b95b2fa9d5d5f2": {
      "model_module": "@jupyter-widgets/controls",
      "model_module_version": "1.5.0",
      "model_name": "DescriptionStyleModel",
      "state": {
       "_model_module": "@jupyter-widgets/controls",
       "_model_module_version": "1.5.0",
       "_model_name": "DescriptionStyleModel",
       "_view_count": null,
       "_view_module": "@jupyter-widgets/base",
       "_view_module_version": "1.2.0",
       "_view_name": "StyleView",
       "description_width": ""
      }
     },
     "23e438aafbc04c7b9ed07faad947e57f": {
      "model_module": "@jupyter-widgets/base",
      "model_module_version": "1.2.0",
      "model_name": "LayoutModel",
      "state": {
       "_model_module": "@jupyter-widgets/base",
       "_model_module_version": "1.2.0",
       "_model_name": "LayoutModel",
       "_view_count": null,
       "_view_module": "@jupyter-widgets/base",
       "_view_module_version": "1.2.0",
       "_view_name": "LayoutView",
       "align_content": null,
       "align_items": null,
       "align_self": null,
       "border": null,
       "bottom": null,
       "display": null,
       "flex": null,
       "flex_flow": null,
       "grid_area": null,
       "grid_auto_columns": null,
       "grid_auto_flow": null,
       "grid_auto_rows": null,
       "grid_column": null,
       "grid_gap": null,
       "grid_row": null,
       "grid_template_areas": null,
       "grid_template_columns": null,
       "grid_template_rows": null,
       "height": null,
       "justify_content": null,
       "justify_items": null,
       "left": null,
       "margin": null,
       "max_height": null,
       "max_width": null,
       "min_height": null,
       "min_width": null,
       "object_fit": null,
       "object_position": null,
       "order": null,
       "overflow": null,
       "overflow_x": null,
       "overflow_y": null,
       "padding": null,
       "right": null,
       "top": null,
       "visibility": null,
       "width": null
      }
     },
     "26620957b3a64e06a99e27c9d687a7fa": {
      "model_module": "@jupyter-widgets/base",
      "model_module_version": "1.2.0",
      "model_name": "LayoutModel",
      "state": {
       "_model_module": "@jupyter-widgets/base",
       "_model_module_version": "1.2.0",
       "_model_name": "LayoutModel",
       "_view_count": null,
       "_view_module": "@jupyter-widgets/base",
       "_view_module_version": "1.2.0",
       "_view_name": "LayoutView",
       "align_content": null,
       "align_items": null,
       "align_self": null,
       "border": null,
       "bottom": null,
       "display": null,
       "flex": null,
       "flex_flow": null,
       "grid_area": null,
       "grid_auto_columns": null,
       "grid_auto_flow": null,
       "grid_auto_rows": null,
       "grid_column": null,
       "grid_gap": null,
       "grid_row": null,
       "grid_template_areas": null,
       "grid_template_columns": null,
       "grid_template_rows": null,
       "height": null,
       "justify_content": null,
       "justify_items": null,
       "left": null,
       "margin": null,
       "max_height": null,
       "max_width": null,
       "min_height": null,
       "min_width": null,
       "object_fit": null,
       "object_position": null,
       "order": null,
       "overflow": null,
       "overflow_x": null,
       "overflow_y": null,
       "padding": null,
       "right": null,
       "top": null,
       "visibility": null,
       "width": null
      }
     },
     "27c60e73e0284562910727e6ebe6f66c": {
      "model_module": "@jupyter-widgets/base",
      "model_module_version": "1.2.0",
      "model_name": "LayoutModel",
      "state": {
       "_model_module": "@jupyter-widgets/base",
       "_model_module_version": "1.2.0",
       "_model_name": "LayoutModel",
       "_view_count": null,
       "_view_module": "@jupyter-widgets/base",
       "_view_module_version": "1.2.0",
       "_view_name": "LayoutView",
       "align_content": null,
       "align_items": null,
       "align_self": null,
       "border": null,
       "bottom": null,
       "display": null,
       "flex": null,
       "flex_flow": null,
       "grid_area": null,
       "grid_auto_columns": null,
       "grid_auto_flow": null,
       "grid_auto_rows": null,
       "grid_column": null,
       "grid_gap": null,
       "grid_row": null,
       "grid_template_areas": null,
       "grid_template_columns": null,
       "grid_template_rows": null,
       "height": null,
       "justify_content": null,
       "justify_items": null,
       "left": null,
       "margin": null,
       "max_height": null,
       "max_width": null,
       "min_height": null,
       "min_width": null,
       "object_fit": null,
       "object_position": null,
       "order": null,
       "overflow": null,
       "overflow_x": null,
       "overflow_y": null,
       "padding": null,
       "right": null,
       "top": null,
       "visibility": null,
       "width": null
      }
     },
     "2b0235e27d234da0bdac7ceeaa6b6db0": {
      "model_module": "@jupyter-widgets/controls",
      "model_module_version": "1.5.0",
      "model_name": "DescriptionStyleModel",
      "state": {
       "_model_module": "@jupyter-widgets/controls",
       "_model_module_version": "1.5.0",
       "_model_name": "DescriptionStyleModel",
       "_view_count": null,
       "_view_module": "@jupyter-widgets/base",
       "_view_module_version": "1.2.0",
       "_view_name": "StyleView",
       "description_width": ""
      }
     },
     "2ed0f8470098461b9ece0822759478f5": {
      "model_module": "@jupyter-widgets/base",
      "model_module_version": "1.2.0",
      "model_name": "LayoutModel",
      "state": {
       "_model_module": "@jupyter-widgets/base",
       "_model_module_version": "1.2.0",
       "_model_name": "LayoutModel",
       "_view_count": null,
       "_view_module": "@jupyter-widgets/base",
       "_view_module_version": "1.2.0",
       "_view_name": "LayoutView",
       "align_content": null,
       "align_items": null,
       "align_self": null,
       "border": null,
       "bottom": null,
       "display": null,
       "flex": null,
       "flex_flow": null,
       "grid_area": null,
       "grid_auto_columns": null,
       "grid_auto_flow": null,
       "grid_auto_rows": null,
       "grid_column": null,
       "grid_gap": null,
       "grid_row": null,
       "grid_template_areas": null,
       "grid_template_columns": null,
       "grid_template_rows": null,
       "height": null,
       "justify_content": null,
       "justify_items": null,
       "left": null,
       "margin": null,
       "max_height": null,
       "max_width": null,
       "min_height": null,
       "min_width": null,
       "object_fit": null,
       "object_position": null,
       "order": null,
       "overflow": null,
       "overflow_x": null,
       "overflow_y": null,
       "padding": null,
       "right": null,
       "top": null,
       "visibility": null,
       "width": null
      }
     },
     "2fc7c77032774184b8ea0632618e5336": {
      "model_module": "@jupyter-widgets/controls",
      "model_module_version": "1.5.0",
      "model_name": "HTMLModel",
      "state": {
       "_dom_classes": [],
       "_model_module": "@jupyter-widgets/controls",
       "_model_module_version": "1.5.0",
       "_model_name": "HTMLModel",
       "_view_count": null,
       "_view_module": "@jupyter-widgets/controls",
       "_view_module_version": "1.5.0",
       "_view_name": "HTMLView",
       "description": "",
       "description_tooltip": null,
       "layout": "IPY_MODEL_409ceca34a9c4250903d1ad5c31f5776",
       "placeholder": "​",
       "style": "IPY_MODEL_b39dda78a54b4b8caed9cfe3e0c16c45",
       "value": "tokenizer_config.json: 100%"
      }
     },
     "33ed412dd6bd4544976f693b77929e20": {
      "model_module": "@jupyter-widgets/base",
      "model_module_version": "1.2.0",
      "model_name": "LayoutModel",
      "state": {
       "_model_module": "@jupyter-widgets/base",
       "_model_module_version": "1.2.0",
       "_model_name": "LayoutModel",
       "_view_count": null,
       "_view_module": "@jupyter-widgets/base",
       "_view_module_version": "1.2.0",
       "_view_name": "LayoutView",
       "align_content": null,
       "align_items": null,
       "align_self": null,
       "border": null,
       "bottom": null,
       "display": null,
       "flex": null,
       "flex_flow": null,
       "grid_area": null,
       "grid_auto_columns": null,
       "grid_auto_flow": null,
       "grid_auto_rows": null,
       "grid_column": null,
       "grid_gap": null,
       "grid_row": null,
       "grid_template_areas": null,
       "grid_template_columns": null,
       "grid_template_rows": null,
       "height": null,
       "justify_content": null,
       "justify_items": null,
       "left": null,
       "margin": null,
       "max_height": null,
       "max_width": null,
       "min_height": null,
       "min_width": null,
       "object_fit": null,
       "object_position": null,
       "order": null,
       "overflow": null,
       "overflow_x": null,
       "overflow_y": null,
       "padding": null,
       "right": null,
       "top": null,
       "visibility": null,
       "width": null
      }
     },
     "3756cc353c184b759e5f4744e2565173": {
      "model_module": "@jupyter-widgets/controls",
      "model_module_version": "1.5.0",
      "model_name": "HTMLModel",
      "state": {
       "_dom_classes": [],
       "_model_module": "@jupyter-widgets/controls",
       "_model_module_version": "1.5.0",
       "_model_name": "HTMLModel",
       "_view_count": null,
       "_view_module": "@jupyter-widgets/controls",
       "_view_module_version": "1.5.0",
       "_view_name": "HTMLView",
       "description": "",
       "description_tooltip": null,
       "layout": "IPY_MODEL_9c9e448a5a8c473dbba0e2675b6b6ba1",
       "placeholder": "​",
       "style": "IPY_MODEL_516f9cbfdeb742679c41e89ce66f035f",
       "value": " 232k/232k [00:00&lt;00:00, 7.21MB/s]"
      }
     },
     "37a73403341a4e2ba261eb8863c9c25c": {
      "model_module": "@jupyter-widgets/base",
      "model_module_version": "1.2.0",
      "model_name": "LayoutModel",
      "state": {
       "_model_module": "@jupyter-widgets/base",
       "_model_module_version": "1.2.0",
       "_model_name": "LayoutModel",
       "_view_count": null,
       "_view_module": "@jupyter-widgets/base",
       "_view_module_version": "1.2.0",
       "_view_name": "LayoutView",
       "align_content": null,
       "align_items": null,
       "align_self": null,
       "border": null,
       "bottom": null,
       "display": null,
       "flex": null,
       "flex_flow": null,
       "grid_area": null,
       "grid_auto_columns": null,
       "grid_auto_flow": null,
       "grid_auto_rows": null,
       "grid_column": null,
       "grid_gap": null,
       "grid_row": null,
       "grid_template_areas": null,
       "grid_template_columns": null,
       "grid_template_rows": null,
       "height": null,
       "justify_content": null,
       "justify_items": null,
       "left": null,
       "margin": null,
       "max_height": null,
       "max_width": null,
       "min_height": null,
       "min_width": null,
       "object_fit": null,
       "object_position": null,
       "order": null,
       "overflow": null,
       "overflow_x": null,
       "overflow_y": null,
       "padding": null,
       "right": null,
       "top": null,
       "visibility": null,
       "width": null
      }
     },
     "37a780d9be644594a43c458f0058b962": {
      "model_module": "@jupyter-widgets/controls",
      "model_module_version": "1.5.0",
      "model_name": "HTMLModel",
      "state": {
       "_dom_classes": [],
       "_model_module": "@jupyter-widgets/controls",
       "_model_module_version": "1.5.0",
       "_model_name": "HTMLModel",
       "_view_count": null,
       "_view_module": "@jupyter-widgets/controls",
       "_view_module_version": "1.5.0",
       "_view_name": "HTMLView",
       "description": "",
       "description_tooltip": null,
       "layout": "IPY_MODEL_f3407bd0296b4c55b424346718231ea9",
       "placeholder": "​",
       "style": "IPY_MODEL_90da85df173f4794be804f05e2643214",
       "value": " 232k/232k [00:00&lt;00:00, 5.44MB/s]"
      }
     },
     "38533e3c4d434cc183b54533ff7fd4b1": {
      "model_module": "@jupyter-widgets/base",
      "model_module_version": "1.2.0",
      "model_name": "LayoutModel",
      "state": {
       "_model_module": "@jupyter-widgets/base",
       "_model_module_version": "1.2.0",
       "_model_name": "LayoutModel",
       "_view_count": null,
       "_view_module": "@jupyter-widgets/base",
       "_view_module_version": "1.2.0",
       "_view_name": "LayoutView",
       "align_content": null,
       "align_items": null,
       "align_self": null,
       "border": null,
       "bottom": null,
       "display": null,
       "flex": null,
       "flex_flow": null,
       "grid_area": null,
       "grid_auto_columns": null,
       "grid_auto_flow": null,
       "grid_auto_rows": null,
       "grid_column": null,
       "grid_gap": null,
       "grid_row": null,
       "grid_template_areas": null,
       "grid_template_columns": null,
       "grid_template_rows": null,
       "height": null,
       "justify_content": null,
       "justify_items": null,
       "left": null,
       "margin": null,
       "max_height": null,
       "max_width": null,
       "min_height": null,
       "min_width": null,
       "object_fit": null,
       "object_position": null,
       "order": null,
       "overflow": null,
       "overflow_x": null,
       "overflow_y": null,
       "padding": null,
       "right": null,
       "top": null,
       "visibility": null,
       "width": null
      }
     },
     "3ac67b75b2e84462b9e45016960683e5": {
      "model_module": "@jupyter-widgets/controls",
      "model_module_version": "1.5.0",
      "model_name": "HBoxModel",
      "state": {
       "_dom_classes": [],
       "_model_module": "@jupyter-widgets/controls",
       "_model_module_version": "1.5.0",
       "_model_name": "HBoxModel",
       "_view_count": null,
       "_view_module": "@jupyter-widgets/controls",
       "_view_module_version": "1.5.0",
       "_view_name": "HBoxView",
       "box_style": "",
       "children": [
        "IPY_MODEL_e1297a42ac8749619d6b856054e94a89",
        "IPY_MODEL_d6531cbcb2b54a27b7a0a2ff184f40ac",
        "IPY_MODEL_ae202cf555e342a99d44a821f333ee5d"
       ],
       "layout": "IPY_MODEL_37a73403341a4e2ba261eb8863c9c25c"
      }
     },
     "3bda39329de549c7afe40d9760e7883b": {
      "model_module": "@jupyter-widgets/controls",
      "model_module_version": "1.5.0",
      "model_name": "HTMLModel",
      "state": {
       "_dom_classes": [],
       "_model_module": "@jupyter-widgets/controls",
       "_model_module_version": "1.5.0",
       "_model_name": "HTMLModel",
       "_view_count": null,
       "_view_module": "@jupyter-widgets/controls",
       "_view_module_version": "1.5.0",
       "_view_name": "HTMLView",
       "description": "",
       "description_tooltip": null,
       "layout": "IPY_MODEL_6d243baa6245472f95cfd870aeded9be",
       "placeholder": "​",
       "style": "IPY_MODEL_4f3c8cab93ee4feeb3c4118162327b8a",
       "value": " 615/615 [00:00&lt;00:00, 55.1kB/s]"
      }
     },
     "3c05f7a8bcbe49bebee7480e2395324a": {
      "model_module": "@jupyter-widgets/controls",
      "model_module_version": "1.5.0",
      "model_name": "HBoxModel",
      "state": {
       "_dom_classes": [],
       "_model_module": "@jupyter-widgets/controls",
       "_model_module_version": "1.5.0",
       "_model_name": "HBoxModel",
       "_view_count": null,
       "_view_module": "@jupyter-widgets/controls",
       "_view_module_version": "1.5.0",
       "_view_name": "HBoxView",
       "box_style": "",
       "children": [
        "IPY_MODEL_a4253e88934d4d029534dab2ad3942de",
        "IPY_MODEL_f6b0cff672c3477ba2dc454c004c1a3f",
        "IPY_MODEL_a5c223ba99c1488193586310b7b8ab46"
       ],
       "layout": "IPY_MODEL_6a7d6e13eaa146dfb8796de69412ca39"
      }
     },
     "3df4267bdcb847e09eb9f4626fe831db": {
      "model_module": "@jupyter-widgets/controls",
      "model_module_version": "1.5.0",
      "model_name": "DescriptionStyleModel",
      "state": {
       "_model_module": "@jupyter-widgets/controls",
       "_model_module_version": "1.5.0",
       "_model_name": "DescriptionStyleModel",
       "_view_count": null,
       "_view_module": "@jupyter-widgets/base",
       "_view_module_version": "1.2.0",
       "_view_name": "StyleView",
       "description_width": ""
      }
     },
     "408b553d38d943b79805e93cf9ac0a3e": {
      "model_module": "@jupyter-widgets/controls",
      "model_module_version": "1.5.0",
      "model_name": "HBoxModel",
      "state": {
       "_dom_classes": [],
       "_model_module": "@jupyter-widgets/controls",
       "_model_module_version": "1.5.0",
       "_model_name": "HBoxModel",
       "_view_count": null,
       "_view_module": "@jupyter-widgets/controls",
       "_view_module_version": "1.5.0",
       "_view_name": "HBoxView",
       "box_style": "",
       "children": [
        "IPY_MODEL_69bc453a03c74bb89368f8b4aeb5d29b",
        "IPY_MODEL_780800def7d548e09e6d3f4594853004",
        "IPY_MODEL_d297f49fb986484d8624eb2cd3941ae9"
       ],
       "layout": "IPY_MODEL_a66b65bb5ade4862b380f3a9a209f8f2"
      }
     },
     "409ceca34a9c4250903d1ad5c31f5776": {
      "model_module": "@jupyter-widgets/base",
      "model_module_version": "1.2.0",
      "model_name": "LayoutModel",
      "state": {
       "_model_module": "@jupyter-widgets/base",
       "_model_module_version": "1.2.0",
       "_model_name": "LayoutModel",
       "_view_count": null,
       "_view_module": "@jupyter-widgets/base",
       "_view_module_version": "1.2.0",
       "_view_name": "LayoutView",
       "align_content": null,
       "align_items": null,
       "align_self": null,
       "border": null,
       "bottom": null,
       "display": null,
       "flex": null,
       "flex_flow": null,
       "grid_area": null,
       "grid_auto_columns": null,
       "grid_auto_flow": null,
       "grid_auto_rows": null,
       "grid_column": null,
       "grid_gap": null,
       "grid_row": null,
       "grid_template_areas": null,
       "grid_template_columns": null,
       "grid_template_rows": null,
       "height": null,
       "justify_content": null,
       "justify_items": null,
       "left": null,
       "margin": null,
       "max_height": null,
       "max_width": null,
       "min_height": null,
       "min_width": null,
       "object_fit": null,
       "object_position": null,
       "order": null,
       "overflow": null,
       "overflow_x": null,
       "overflow_y": null,
       "padding": null,
       "right": null,
       "top": null,
       "visibility": null,
       "width": null
      }
     },
     "4421010a8ff149519873251baaeb9932": {
      "model_module": "@jupyter-widgets/base",
      "model_module_version": "1.2.0",
      "model_name": "LayoutModel",
      "state": {
       "_model_module": "@jupyter-widgets/base",
       "_model_module_version": "1.2.0",
       "_model_name": "LayoutModel",
       "_view_count": null,
       "_view_module": "@jupyter-widgets/base",
       "_view_module_version": "1.2.0",
       "_view_name": "LayoutView",
       "align_content": null,
       "align_items": null,
       "align_self": null,
       "border": null,
       "bottom": null,
       "display": null,
       "flex": null,
       "flex_flow": null,
       "grid_area": null,
       "grid_auto_columns": null,
       "grid_auto_flow": null,
       "grid_auto_rows": null,
       "grid_column": null,
       "grid_gap": null,
       "grid_row": null,
       "grid_template_areas": null,
       "grid_template_columns": null,
       "grid_template_rows": null,
       "height": null,
       "justify_content": null,
       "justify_items": null,
       "left": null,
       "margin": null,
       "max_height": null,
       "max_width": null,
       "min_height": null,
       "min_width": null,
       "object_fit": null,
       "object_position": null,
       "order": null,
       "overflow": null,
       "overflow_x": null,
       "overflow_y": null,
       "padding": null,
       "right": null,
       "top": null,
       "visibility": null,
       "width": null
      }
     },
     "468bc60be9724ad2b5e12084312e8bf3": {
      "model_module": "@jupyter-widgets/controls",
      "model_module_version": "1.5.0",
      "model_name": "DescriptionStyleModel",
      "state": {
       "_model_module": "@jupyter-widgets/controls",
       "_model_module_version": "1.5.0",
       "_model_name": "DescriptionStyleModel",
       "_view_count": null,
       "_view_module": "@jupyter-widgets/base",
       "_view_module_version": "1.2.0",
       "_view_name": "StyleView",
       "description_width": ""
      }
     },
     "47a0f0d8cc624637bff9b7ada59add1a": {
      "model_module": "@jupyter-widgets/base",
      "model_module_version": "1.2.0",
      "model_name": "LayoutModel",
      "state": {
       "_model_module": "@jupyter-widgets/base",
       "_model_module_version": "1.2.0",
       "_model_name": "LayoutModel",
       "_view_count": null,
       "_view_module": "@jupyter-widgets/base",
       "_view_module_version": "1.2.0",
       "_view_name": "LayoutView",
       "align_content": null,
       "align_items": null,
       "align_self": null,
       "border": null,
       "bottom": null,
       "display": null,
       "flex": null,
       "flex_flow": null,
       "grid_area": null,
       "grid_auto_columns": null,
       "grid_auto_flow": null,
       "grid_auto_rows": null,
       "grid_column": null,
       "grid_gap": null,
       "grid_row": null,
       "grid_template_areas": null,
       "grid_template_columns": null,
       "grid_template_rows": null,
       "height": null,
       "justify_content": null,
       "justify_items": null,
       "left": null,
       "margin": null,
       "max_height": null,
       "max_width": null,
       "min_height": null,
       "min_width": null,
       "object_fit": null,
       "object_position": null,
       "order": null,
       "overflow": null,
       "overflow_x": null,
       "overflow_y": null,
       "padding": null,
       "right": null,
       "top": null,
       "visibility": null,
       "width": null
      }
     },
     "4bfdf6abcb004db99be6fdda1b728db1": {
      "model_module": "@jupyter-widgets/base",
      "model_module_version": "1.2.0",
      "model_name": "LayoutModel",
      "state": {
       "_model_module": "@jupyter-widgets/base",
       "_model_module_version": "1.2.0",
       "_model_name": "LayoutModel",
       "_view_count": null,
       "_view_module": "@jupyter-widgets/base",
       "_view_module_version": "1.2.0",
       "_view_name": "LayoutView",
       "align_content": null,
       "align_items": null,
       "align_self": null,
       "border": null,
       "bottom": null,
       "display": null,
       "flex": null,
       "flex_flow": null,
       "grid_area": null,
       "grid_auto_columns": null,
       "grid_auto_flow": null,
       "grid_auto_rows": null,
       "grid_column": null,
       "grid_gap": null,
       "grid_row": null,
       "grid_template_areas": null,
       "grid_template_columns": null,
       "grid_template_rows": null,
       "height": null,
       "justify_content": null,
       "justify_items": null,
       "left": null,
       "margin": null,
       "max_height": null,
       "max_width": null,
       "min_height": null,
       "min_width": null,
       "object_fit": null,
       "object_position": null,
       "order": null,
       "overflow": null,
       "overflow_x": null,
       "overflow_y": null,
       "padding": null,
       "right": null,
       "top": null,
       "visibility": null,
       "width": null
      }
     },
     "4f3c8cab93ee4feeb3c4118162327b8a": {
      "model_module": "@jupyter-widgets/controls",
      "model_module_version": "1.5.0",
      "model_name": "DescriptionStyleModel",
      "state": {
       "_model_module": "@jupyter-widgets/controls",
       "_model_module_version": "1.5.0",
       "_model_name": "DescriptionStyleModel",
       "_view_count": null,
       "_view_module": "@jupyter-widgets/base",
       "_view_module_version": "1.2.0",
       "_view_name": "StyleView",
       "description_width": ""
      }
     },
     "516f9cbfdeb742679c41e89ce66f035f": {
      "model_module": "@jupyter-widgets/controls",
      "model_module_version": "1.5.0",
      "model_name": "DescriptionStyleModel",
      "state": {
       "_model_module": "@jupyter-widgets/controls",
       "_model_module_version": "1.5.0",
       "_model_name": "DescriptionStyleModel",
       "_view_count": null,
       "_view_module": "@jupyter-widgets/base",
       "_view_module_version": "1.2.0",
       "_view_name": "StyleView",
       "description_width": ""
      }
     },
     "573efa94dfc24171b337043c2a841ed1": {
      "model_module": "@jupyter-widgets/controls",
      "model_module_version": "1.5.0",
      "model_name": "HTMLModel",
      "state": {
       "_dom_classes": [],
       "_model_module": "@jupyter-widgets/controls",
       "_model_module_version": "1.5.0",
       "_model_name": "HTMLModel",
       "_view_count": null,
       "_view_module": "@jupyter-widgets/controls",
       "_view_module_version": "1.5.0",
       "_view_name": "HTMLView",
       "description": "",
       "description_tooltip": null,
       "layout": "IPY_MODEL_6b7ccfdd3dae4784ba8d89beb3afdfd0",
       "placeholder": "​",
       "style": "IPY_MODEL_75f18256d4e644a7bb7d9fa72eb42341",
       "value": " 133M/133M [00:00&lt;00:00, 175MB/s]"
      }
     },
     "5a48a641996d4266a9304567f9d2ca42": {
      "model_module": "@jupyter-widgets/controls",
      "model_module_version": "1.5.0",
      "model_name": "FloatProgressModel",
      "state": {
       "_dom_classes": [],
       "_model_module": "@jupyter-widgets/controls",
       "_model_module_version": "1.5.0",
       "_model_name": "FloatProgressModel",
       "_view_count": null,
       "_view_module": "@jupyter-widgets/controls",
       "_view_module_version": "1.5.0",
       "_view_name": "ProgressView",
       "bar_style": "success",
       "description": "",
       "description_tooltip": null,
       "layout": "IPY_MODEL_18003151857c422281641236e1c7801c",
       "max": 615.0,
       "min": 0.0,
       "orientation": "horizontal",
       "style": "IPY_MODEL_7a36e694141f4802bcb45cd14350c913",
       "value": 615.0
      }
     },
     "5b8bc3d520814aedb2809ccfb5e80854": {
      "model_module": "@jupyter-widgets/controls",
      "model_module_version": "1.5.0",
      "model_name": "FloatProgressModel",
      "state": {
       "_dom_classes": [],
       "_model_module": "@jupyter-widgets/controls",
       "_model_module_version": "1.5.0",
       "_model_name": "FloatProgressModel",
       "_view_count": null,
       "_view_module": "@jupyter-widgets/controls",
       "_view_module_version": "1.5.0",
       "_view_name": "ProgressView",
       "bar_style": "success",
       "description": "",
       "description_tooltip": null,
       "layout": "IPY_MODEL_7acab89173ef4d2fb6763e25f062fa41",
       "max": 133466304.0,
       "min": 0.0,
       "orientation": "horizontal",
       "style": "IPY_MODEL_fda87fcfcaa74442b6e5bd7e636d8c11",
       "value": 133466304.0
      }
     },
     "5c9538d8c9374f099f172df8fe6f7339": {
      "model_module": "@jupyter-widgets/controls",
      "model_module_version": "1.5.0",
      "model_name": "DescriptionStyleModel",
      "state": {
       "_model_module": "@jupyter-widgets/controls",
       "_model_module_version": "1.5.0",
       "_model_name": "DescriptionStyleModel",
       "_view_count": null,
       "_view_module": "@jupyter-widgets/base",
       "_view_module_version": "1.2.0",
       "_view_name": "StyleView",
       "description_width": ""
      }
     },
     "68265e3e0e0d4e33a26d94dc07a14a86": {
      "model_module": "@jupyter-widgets/controls",
      "model_module_version": "1.5.0",
      "model_name": "FloatProgressModel",
      "state": {
       "_dom_classes": [],
       "_model_module": "@jupyter-widgets/controls",
       "_model_module_version": "1.5.0",
       "_model_name": "FloatProgressModel",
       "_view_count": null,
       "_view_module": "@jupyter-widgets/controls",
       "_view_module_version": "1.5.0",
       "_view_name": "ProgressView",
       "bar_style": "success",
       "description": "",
       "description_tooltip": null,
       "layout": "IPY_MODEL_27c60e73e0284562910727e6ebe6f66c",
       "max": 112.0,
       "min": 0.0,
       "orientation": "horizontal",
       "style": "IPY_MODEL_989e7c5945dd443d8afcd9dd3e4a8c2f",
       "value": 112.0
      }
     },
     "684d7252bb5c4bfe9609db906ea835a4": {
      "model_module": "@jupyter-widgets/controls",
      "model_module_version": "1.5.0",
      "model_name": "HTMLModel",
      "state": {
       "_dom_classes": [],
       "_model_module": "@jupyter-widgets/controls",
       "_model_module_version": "1.5.0",
       "_model_name": "HTMLModel",
       "_view_count": null,
       "_view_module": "@jupyter-widgets/controls",
       "_view_module_version": "1.5.0",
       "_view_name": "HTMLView",
       "description": "",
       "description_tooltip": null,
       "layout": "IPY_MODEL_2ed0f8470098461b9ece0822759478f5",
       "placeholder": "​",
       "style": "IPY_MODEL_dffb936852734ee3969e1f6c896e3036",
       "value": "config.json: 100%"
      }
     },
     "69bc453a03c74bb89368f8b4aeb5d29b": {
      "model_module": "@jupyter-widgets/controls",
      "model_module_version": "1.5.0",
      "model_name": "HTMLModel",
      "state": {
       "_dom_classes": [],
       "_model_module": "@jupyter-widgets/controls",
       "_model_module_version": "1.5.0",
       "_model_name": "HTMLModel",
       "_view_count": null,
       "_view_module": "@jupyter-widgets/controls",
       "_view_module_version": "1.5.0",
       "_view_name": "HTMLView",
       "description": "",
       "description_tooltip": null,
       "layout": "IPY_MODEL_e1d07f50aa064f529ce96c5151fb337f",
       "placeholder": "​",
       "style": "IPY_MODEL_bb926506c9084e808488aa0065c3e720",
       "value": "special_tokens_map.json: 100%"
      }
     },
     "6a7d6e13eaa146dfb8796de69412ca39": {
      "model_module": "@jupyter-widgets/base",
      "model_module_version": "1.2.0",
      "model_name": "LayoutModel",
      "state": {
       "_model_module": "@jupyter-widgets/base",
       "_model_module_version": "1.2.0",
       "_model_name": "LayoutModel",
       "_view_count": null,
       "_view_module": "@jupyter-widgets/base",
       "_view_module_version": "1.2.0",
       "_view_name": "LayoutView",
       "align_content": null,
       "align_items": null,
       "align_self": null,
       "border": null,
       "bottom": null,
       "display": null,
       "flex": null,
       "flex_flow": null,
       "grid_area": null,
       "grid_auto_columns": null,
       "grid_auto_flow": null,
       "grid_auto_rows": null,
       "grid_column": null,
       "grid_gap": null,
       "grid_row": null,
       "grid_template_areas": null,
       "grid_template_columns": null,
       "grid_template_rows": null,
       "height": null,
       "justify_content": null,
       "justify_items": null,
       "left": null,
       "margin": null,
       "max_height": null,
       "max_width": null,
       "min_height": null,
       "min_width": null,
       "object_fit": null,
       "object_position": null,
       "order": null,
       "overflow": null,
       "overflow_x": null,
       "overflow_y": null,
       "padding": null,
       "right": null,
       "top": null,
       "visibility": null,
       "width": null
      }
     },
     "6b7ccfdd3dae4784ba8d89beb3afdfd0": {
      "model_module": "@jupyter-widgets/base",
      "model_module_version": "1.2.0",
      "model_name": "LayoutModel",
      "state": {
       "_model_module": "@jupyter-widgets/base",
       "_model_module_version": "1.2.0",
       "_model_name": "LayoutModel",
       "_view_count": null,
       "_view_module": "@jupyter-widgets/base",
       "_view_module_version": "1.2.0",
       "_view_name": "LayoutView",
       "align_content": null,
       "align_items": null,
       "align_self": null,
       "border": null,
       "bottom": null,
       "display": null,
       "flex": null,
       "flex_flow": null,
       "grid_area": null,
       "grid_auto_columns": null,
       "grid_auto_flow": null,
       "grid_auto_rows": null,
       "grid_column": null,
       "grid_gap": null,
       "grid_row": null,
       "grid_template_areas": null,
       "grid_template_columns": null,
       "grid_template_rows": null,
       "height": null,
       "justify_content": null,
       "justify_items": null,
       "left": null,
       "margin": null,
       "max_height": null,
       "max_width": null,
       "min_height": null,
       "min_width": null,
       "object_fit": null,
       "object_position": null,
       "order": null,
       "overflow": null,
       "overflow_x": null,
       "overflow_y": null,
       "padding": null,
       "right": null,
       "top": null,
       "visibility": null,
       "width": null
      }
     },
     "6d243baa6245472f95cfd870aeded9be": {
      "model_module": "@jupyter-widgets/base",
      "model_module_version": "1.2.0",
      "model_name": "LayoutModel",
      "state": {
       "_model_module": "@jupyter-widgets/base",
       "_model_module_version": "1.2.0",
       "_model_name": "LayoutModel",
       "_view_count": null,
       "_view_module": "@jupyter-widgets/base",
       "_view_module_version": "1.2.0",
       "_view_name": "LayoutView",
       "align_content": null,
       "align_items": null,
       "align_self": null,
       "border": null,
       "bottom": null,
       "display": null,
       "flex": null,
       "flex_flow": null,
       "grid_area": null,
       "grid_auto_columns": null,
       "grid_auto_flow": null,
       "grid_auto_rows": null,
       "grid_column": null,
       "grid_gap": null,
       "grid_row": null,
       "grid_template_areas": null,
       "grid_template_columns": null,
       "grid_template_rows": null,
       "height": null,
       "justify_content": null,
       "justify_items": null,
       "left": null,
       "margin": null,
       "max_height": null,
       "max_width": null,
       "min_height": null,
       "min_width": null,
       "object_fit": null,
       "object_position": null,
       "order": null,
       "overflow": null,
       "overflow_x": null,
       "overflow_y": null,
       "padding": null,
       "right": null,
       "top": null,
       "visibility": null,
       "width": null
      }
     },
     "745f810d176447c49d5d71d01199d173": {
      "model_module": "@jupyter-widgets/controls",
      "model_module_version": "1.5.0",
      "model_name": "HTMLModel",
      "state": {
       "_dom_classes": [],
       "_model_module": "@jupyter-widgets/controls",
       "_model_module_version": "1.5.0",
       "_model_name": "HTMLModel",
       "_view_count": null,
       "_view_module": "@jupyter-widgets/controls",
       "_view_module_version": "1.5.0",
       "_view_name": "HTMLView",
       "description": "",
       "description_tooltip": null,
       "layout": "IPY_MODEL_de6715acddfb4426becddc0d4b9bb0ff",
       "placeholder": "​",
       "style": "IPY_MODEL_d69b634875df4c749abf84658e3b21ad",
       "value": "special_tokens_map.json: 100%"
      }
     },
     "756aad8699f1463e84601fea2077be0d": {
      "model_module": "@jupyter-widgets/controls",
      "model_module_version": "1.5.0",
      "model_name": "DescriptionStyleModel",
      "state": {
       "_model_module": "@jupyter-widgets/controls",
       "_model_module_version": "1.5.0",
       "_model_name": "DescriptionStyleModel",
       "_view_count": null,
       "_view_module": "@jupyter-widgets/base",
       "_view_module_version": "1.2.0",
       "_view_name": "StyleView",
       "description_width": ""
      }
     },
     "75b0e974ed9648a19e16db40dd64d2bf": {
      "model_module": "@jupyter-widgets/controls",
      "model_module_version": "1.5.0",
      "model_name": "DescriptionStyleModel",
      "state": {
       "_model_module": "@jupyter-widgets/controls",
       "_model_module_version": "1.5.0",
       "_model_name": "DescriptionStyleModel",
       "_view_count": null,
       "_view_module": "@jupyter-widgets/base",
       "_view_module_version": "1.2.0",
       "_view_name": "StyleView",
       "description_width": ""
      }
     },
     "75f18256d4e644a7bb7d9fa72eb42341": {
      "model_module": "@jupyter-widgets/controls",
      "model_module_version": "1.5.0",
      "model_name": "DescriptionStyleModel",
      "state": {
       "_model_module": "@jupyter-widgets/controls",
       "_model_module_version": "1.5.0",
       "_model_name": "DescriptionStyleModel",
       "_view_count": null,
       "_view_module": "@jupyter-widgets/base",
       "_view_module_version": "1.2.0",
       "_view_name": "StyleView",
       "description_width": ""
      }
     },
     "77ca6148255f4d68841f96cb9d6b73ac": {
      "model_module": "@jupyter-widgets/base",
      "model_module_version": "1.2.0",
      "model_name": "LayoutModel",
      "state": {
       "_model_module": "@jupyter-widgets/base",
       "_model_module_version": "1.2.0",
       "_model_name": "LayoutModel",
       "_view_count": null,
       "_view_module": "@jupyter-widgets/base",
       "_view_module_version": "1.2.0",
       "_view_name": "LayoutView",
       "align_content": null,
       "align_items": null,
       "align_self": null,
       "border": null,
       "bottom": null,
       "display": null,
       "flex": null,
       "flex_flow": null,
       "grid_area": null,
       "grid_auto_columns": null,
       "grid_auto_flow": null,
       "grid_auto_rows": null,
       "grid_column": null,
       "grid_gap": null,
       "grid_row": null,
       "grid_template_areas": null,
       "grid_template_columns": null,
       "grid_template_rows": null,
       "height": null,
       "justify_content": null,
       "justify_items": null,
       "left": null,
       "margin": null,
       "max_height": null,
       "max_width": null,
       "min_height": null,
       "min_width": null,
       "object_fit": null,
       "object_position": null,
       "order": null,
       "overflow": null,
       "overflow_x": null,
       "overflow_y": null,
       "padding": null,
       "right": null,
       "top": null,
       "visibility": null,
       "width": null
      }
     },
     "77e185d518ff4608af1bc2ca13576061": {
      "model_module": "@jupyter-widgets/base",
      "model_module_version": "1.2.0",
      "model_name": "LayoutModel",
      "state": {
       "_model_module": "@jupyter-widgets/base",
       "_model_module_version": "1.2.0",
       "_model_name": "LayoutModel",
       "_view_count": null,
       "_view_module": "@jupyter-widgets/base",
       "_view_module_version": "1.2.0",
       "_view_name": "LayoutView",
       "align_content": null,
       "align_items": null,
       "align_self": null,
       "border": null,
       "bottom": null,
       "display": null,
       "flex": null,
       "flex_flow": null,
       "grid_area": null,
       "grid_auto_columns": null,
       "grid_auto_flow": null,
       "grid_auto_rows": null,
       "grid_column": null,
       "grid_gap": null,
       "grid_row": null,
       "grid_template_areas": null,
       "grid_template_columns": null,
       "grid_template_rows": null,
       "height": null,
       "justify_content": null,
       "justify_items": null,
       "left": null,
       "margin": null,
       "max_height": null,
       "max_width": null,
       "min_height": null,
       "min_width": null,
       "object_fit": null,
       "object_position": null,
       "order": null,
       "overflow": null,
       "overflow_x": null,
       "overflow_y": null,
       "padding": null,
       "right": null,
       "top": null,
       "visibility": null,
       "width": null
      }
     },
     "780800def7d548e09e6d3f4594853004": {
      "model_module": "@jupyter-widgets/controls",
      "model_module_version": "1.5.0",
      "model_name": "FloatProgressModel",
      "state": {
       "_dom_classes": [],
       "_model_module": "@jupyter-widgets/controls",
       "_model_module_version": "1.5.0",
       "_model_name": "FloatProgressModel",
       "_view_count": null,
       "_view_module": "@jupyter-widgets/controls",
       "_view_module_version": "1.5.0",
       "_view_name": "ProgressView",
       "bar_style": "success",
       "description": "",
       "description_tooltip": null,
       "layout": "IPY_MODEL_e835b614d5594141b40d8a02acfd397f",
       "max": 112.0,
       "min": 0.0,
       "orientation": "horizontal",
       "style": "IPY_MODEL_1a5adecb8c7944c98689c2e387304ac4",
       "value": 112.0
      }
     },
     "7a36e694141f4802bcb45cd14350c913": {
      "model_module": "@jupyter-widgets/controls",
      "model_module_version": "1.5.0",
      "model_name": "ProgressStyleModel",
      "state": {
       "_model_module": "@jupyter-widgets/controls",
       "_model_module_version": "1.5.0",
       "_model_name": "ProgressStyleModel",
       "_view_count": null,
       "_view_module": "@jupyter-widgets/base",
       "_view_module_version": "1.2.0",
       "_view_name": "StyleView",
       "bar_color": null,
       "description_width": ""
      }
     },
     "7acab89173ef4d2fb6763e25f062fa41": {
      "model_module": "@jupyter-widgets/base",
      "model_module_version": "1.2.0",
      "model_name": "LayoutModel",
      "state": {
       "_model_module": "@jupyter-widgets/base",
       "_model_module_version": "1.2.0",
       "_model_name": "LayoutModel",
       "_view_count": null,
       "_view_module": "@jupyter-widgets/base",
       "_view_module_version": "1.2.0",
       "_view_name": "LayoutView",
       "align_content": null,
       "align_items": null,
       "align_self": null,
       "border": null,
       "bottom": null,
       "display": null,
       "flex": null,
       "flex_flow": null,
       "grid_area": null,
       "grid_auto_columns": null,
       "grid_auto_flow": null,
       "grid_auto_rows": null,
       "grid_column": null,
       "grid_gap": null,
       "grid_row": null,
       "grid_template_areas": null,
       "grid_template_columns": null,
       "grid_template_rows": null,
       "height": null,
       "justify_content": null,
       "justify_items": null,
       "left": null,
       "margin": null,
       "max_height": null,
       "max_width": null,
       "min_height": null,
       "min_width": null,
       "object_fit": null,
       "object_position": null,
       "order": null,
       "overflow": null,
       "overflow_x": null,
       "overflow_y": null,
       "padding": null,
       "right": null,
       "top": null,
       "visibility": null,
       "width": null
      }
     },
     "83127ecb6da34e72a772c7b561361ab3": {
      "model_module": "@jupyter-widgets/controls",
      "model_module_version": "1.5.0",
      "model_name": "HTMLModel",
      "state": {
       "_dom_classes": [],
       "_model_module": "@jupyter-widgets/controls",
       "_model_module_version": "1.5.0",
       "_model_name": "HTMLModel",
       "_view_count": null,
       "_view_module": "@jupyter-widgets/controls",
       "_view_module_version": "1.5.0",
       "_view_name": "HTMLView",
       "description": "",
       "description_tooltip": null,
       "layout": "IPY_MODEL_4421010a8ff149519873251baaeb9932",
       "placeholder": "​",
       "style": "IPY_MODEL_d177305111cf441f8e00ece34f80fe18",
       "value": "vocab.txt: 100%"
      }
     },
     "85082dd1f31f4db5a0cc2268bb1b1593": {
      "model_module": "@jupyter-widgets/controls",
      "model_module_version": "1.5.0",
      "model_name": "HTMLModel",
      "state": {
       "_dom_classes": [],
       "_model_module": "@jupyter-widgets/controls",
       "_model_module_version": "1.5.0",
       "_model_name": "HTMLModel",
       "_view_count": null,
       "_view_module": "@jupyter-widgets/controls",
       "_view_module_version": "1.5.0",
       "_view_name": "HTMLView",
       "description": "",
       "description_tooltip": null,
       "layout": "IPY_MODEL_8683386ea44745739e144cc44d1d3ab6",
       "placeholder": "​",
       "style": "IPY_MODEL_1e89158835d74217b2b95b2fa9d5d5f2",
       "value": " 112/112 [00:00&lt;00:00, 10.1kB/s]"
      }
     },
     "85379f351c224cfa91df0b1ba016e747": {
      "model_module": "@jupyter-widgets/controls",
      "model_module_version": "1.5.0",
      "model_name": "HBoxModel",
      "state": {
       "_dom_classes": [],
       "_model_module": "@jupyter-widgets/controls",
       "_model_module_version": "1.5.0",
       "_model_name": "HBoxModel",
       "_view_count": null,
       "_view_module": "@jupyter-widgets/controls",
       "_view_module_version": "1.5.0",
       "_view_name": "HBoxView",
       "box_style": "",
       "children": [
        "IPY_MODEL_83127ecb6da34e72a772c7b561361ab3",
        "IPY_MODEL_12a06c43ee18487493bdec2d515fa1ae",
        "IPY_MODEL_37a780d9be644594a43c458f0058b962"
       ],
       "layout": "IPY_MODEL_188bc716fe8a4bfb99749de149bf0418"
      }
     },
     "8683386ea44745739e144cc44d1d3ab6": {
      "model_module": "@jupyter-widgets/base",
      "model_module_version": "1.2.0",
      "model_name": "LayoutModel",
      "state": {
       "_model_module": "@jupyter-widgets/base",
       "_model_module_version": "1.2.0",
       "_model_name": "LayoutModel",
       "_view_count": null,
       "_view_module": "@jupyter-widgets/base",
       "_view_module_version": "1.2.0",
       "_view_name": "LayoutView",
       "align_content": null,
       "align_items": null,
       "align_self": null,
       "border": null,
       "bottom": null,
       "display": null,
       "flex": null,
       "flex_flow": null,
       "grid_area": null,
       "grid_auto_columns": null,
       "grid_auto_flow": null,
       "grid_auto_rows": null,
       "grid_column": null,
       "grid_gap": null,
       "grid_row": null,
       "grid_template_areas": null,
       "grid_template_columns": null,
       "grid_template_rows": null,
       "height": null,
       "justify_content": null,
       "justify_items": null,
       "left": null,
       "margin": null,
       "max_height": null,
       "max_width": null,
       "min_height": null,
       "min_width": null,
       "object_fit": null,
       "object_position": null,
       "order": null,
       "overflow": null,
       "overflow_x": null,
       "overflow_y": null,
       "padding": null,
       "right": null,
       "top": null,
       "visibility": null,
       "width": null
      }
     },
     "90da85df173f4794be804f05e2643214": {
      "model_module": "@jupyter-widgets/controls",
      "model_module_version": "1.5.0",
      "model_name": "DescriptionStyleModel",
      "state": {
       "_model_module": "@jupyter-widgets/controls",
       "_model_module_version": "1.5.0",
       "_model_name": "DescriptionStyleModel",
       "_view_count": null,
       "_view_module": "@jupyter-widgets/base",
       "_view_module_version": "1.2.0",
       "_view_name": "StyleView",
       "description_width": ""
      }
     },
     "9101ad6fad1b456c81627f3fe54cb031": {
      "model_module": "@jupyter-widgets/controls",
      "model_module_version": "1.5.0",
      "model_name": "HTMLModel",
      "state": {
       "_dom_classes": [],
       "_model_module": "@jupyter-widgets/controls",
       "_model_module_version": "1.5.0",
       "_model_name": "HTMLModel",
       "_view_count": null,
       "_view_module": "@jupyter-widgets/controls",
       "_view_module_version": "1.5.0",
       "_view_name": "HTMLView",
       "description": "",
       "description_tooltip": null,
       "layout": "IPY_MODEL_77e185d518ff4608af1bc2ca13576061",
       "placeholder": "​",
       "style": "IPY_MODEL_e8598e61e81041d4aec471885902668c",
       "value": " 352/352 [00:00&lt;00:00, 30.0kB/s]"
      }
     },
     "9774d404f1744e8b914938f6b6671bf8": {
      "model_module": "@jupyter-widgets/base",
      "model_module_version": "1.2.0",
      "model_name": "LayoutModel",
      "state": {
       "_model_module": "@jupyter-widgets/base",
       "_model_module_version": "1.2.0",
       "_model_name": "LayoutModel",
       "_view_count": null,
       "_view_module": "@jupyter-widgets/base",
       "_view_module_version": "1.2.0",
       "_view_name": "LayoutView",
       "align_content": null,
       "align_items": null,
       "align_self": null,
       "border": null,
       "bottom": null,
       "display": null,
       "flex": null,
       "flex_flow": null,
       "grid_area": null,
       "grid_auto_columns": null,
       "grid_auto_flow": null,
       "grid_auto_rows": null,
       "grid_column": null,
       "grid_gap": null,
       "grid_row": null,
       "grid_template_areas": null,
       "grid_template_columns": null,
       "grid_template_rows": null,
       "height": null,
       "justify_content": null,
       "justify_items": null,
       "left": null,
       "margin": null,
       "max_height": null,
       "max_width": null,
       "min_height": null,
       "min_width": null,
       "object_fit": null,
       "object_position": null,
       "order": null,
       "overflow": null,
       "overflow_x": null,
       "overflow_y": null,
       "padding": null,
       "right": null,
       "top": null,
       "visibility": null,
       "width": null
      }
     },
     "989e7c5945dd443d8afcd9dd3e4a8c2f": {
      "model_module": "@jupyter-widgets/controls",
      "model_module_version": "1.5.0",
      "model_name": "ProgressStyleModel",
      "state": {
       "_model_module": "@jupyter-widgets/controls",
       "_model_module_version": "1.5.0",
       "_model_name": "ProgressStyleModel",
       "_view_count": null,
       "_view_module": "@jupyter-widgets/base",
       "_view_module_version": "1.2.0",
       "_view_name": "StyleView",
       "bar_color": null,
       "description_width": ""
      }
     },
     "9a1320ecf65e4aca8c0d1b0f094ef31c": {
      "model_module": "@jupyter-widgets/controls",
      "model_module_version": "1.5.0",
      "model_name": "ProgressStyleModel",
      "state": {
       "_model_module": "@jupyter-widgets/controls",
       "_model_module_version": "1.5.0",
       "_model_name": "ProgressStyleModel",
       "_view_count": null,
       "_view_module": "@jupyter-widgets/base",
       "_view_module_version": "1.2.0",
       "_view_name": "StyleView",
       "bar_color": null,
       "description_width": ""
      }
     },
     "9c9e448a5a8c473dbba0e2675b6b6ba1": {
      "model_module": "@jupyter-widgets/base",
      "model_module_version": "1.2.0",
      "model_name": "LayoutModel",
      "state": {
       "_model_module": "@jupyter-widgets/base",
       "_model_module_version": "1.2.0",
       "_model_name": "LayoutModel",
       "_view_count": null,
       "_view_module": "@jupyter-widgets/base",
       "_view_module_version": "1.2.0",
       "_view_name": "LayoutView",
       "align_content": null,
       "align_items": null,
       "align_self": null,
       "border": null,
       "bottom": null,
       "display": null,
       "flex": null,
       "flex_flow": null,
       "grid_area": null,
       "grid_auto_columns": null,
       "grid_auto_flow": null,
       "grid_auto_rows": null,
       "grid_column": null,
       "grid_gap": null,
       "grid_row": null,
       "grid_template_areas": null,
       "grid_template_columns": null,
       "grid_template_rows": null,
       "height": null,
       "justify_content": null,
       "justify_items": null,
       "left": null,
       "margin": null,
       "max_height": null,
       "max_width": null,
       "min_height": null,
       "min_width": null,
       "object_fit": null,
       "object_position": null,
       "order": null,
       "overflow": null,
       "overflow_x": null,
       "overflow_y": null,
       "padding": null,
       "right": null,
       "top": null,
       "visibility": null,
       "width": null
      }
     },
     "9cc01c19f6294237bcdae9a627fe4a4b": {
      "model_module": "@jupyter-widgets/base",
      "model_module_version": "1.2.0",
      "model_name": "LayoutModel",
      "state": {
       "_model_module": "@jupyter-widgets/base",
       "_model_module_version": "1.2.0",
       "_model_name": "LayoutModel",
       "_view_count": null,
       "_view_module": "@jupyter-widgets/base",
       "_view_module_version": "1.2.0",
       "_view_name": "LayoutView",
       "align_content": null,
       "align_items": null,
       "align_self": null,
       "border": null,
       "bottom": null,
       "display": null,
       "flex": null,
       "flex_flow": null,
       "grid_area": null,
       "grid_auto_columns": null,
       "grid_auto_flow": null,
       "grid_auto_rows": null,
       "grid_column": null,
       "grid_gap": null,
       "grid_row": null,
       "grid_template_areas": null,
       "grid_template_columns": null,
       "grid_template_rows": null,
       "height": null,
       "justify_content": null,
       "justify_items": null,
       "left": null,
       "margin": null,
       "max_height": null,
       "max_width": null,
       "min_height": null,
       "min_width": null,
       "object_fit": null,
       "object_position": null,
       "order": null,
       "overflow": null,
       "overflow_x": null,
       "overflow_y": null,
       "padding": null,
       "right": null,
       "top": null,
       "visibility": null,
       "width": null
      }
     },
     "a4253e88934d4d029534dab2ad3942de": {
      "model_module": "@jupyter-widgets/controls",
      "model_module_version": "1.5.0",
      "model_name": "HTMLModel",
      "state": {
       "_dom_classes": [],
       "_model_module": "@jupyter-widgets/controls",
       "_model_module_version": "1.5.0",
       "_model_name": "HTMLModel",
       "_view_count": null,
       "_view_module": "@jupyter-widgets/controls",
       "_view_module_version": "1.5.0",
       "_view_name": "HTMLView",
       "description": "",
       "description_tooltip": null,
       "layout": "IPY_MODEL_0f20b81837444c26827707a3980252d7",
       "placeholder": "​",
       "style": "IPY_MODEL_ee309ad403b24cae95ed9d99405730ad",
       "value": "tokenizer.json: 100%"
      }
     },
     "a5c223ba99c1488193586310b7b8ab46": {
      "model_module": "@jupyter-widgets/controls",
      "model_module_version": "1.5.0",
      "model_name": "HTMLModel",
      "state": {
       "_dom_classes": [],
       "_model_module": "@jupyter-widgets/controls",
       "_model_module_version": "1.5.0",
       "_model_name": "HTMLModel",
       "_view_count": null,
       "_view_module": "@jupyter-widgets/controls",
       "_view_module_version": "1.5.0",
       "_view_name": "HTMLView",
       "description": "",
       "description_tooltip": null,
       "layout": "IPY_MODEL_f61416ea5a504f8d9d57e70528a567b7",
       "placeholder": "​",
       "style": "IPY_MODEL_756aad8699f1463e84601fea2077be0d",
       "value": " 466k/466k [00:00&lt;00:00, 9.18MB/s]"
      }
     },
     "a66b65bb5ade4862b380f3a9a209f8f2": {
      "model_module": "@jupyter-widgets/base",
      "model_module_version": "1.2.0",
      "model_name": "LayoutModel",
      "state": {
       "_model_module": "@jupyter-widgets/base",
       "_model_module_version": "1.2.0",
       "_model_name": "LayoutModel",
       "_view_count": null,
       "_view_module": "@jupyter-widgets/base",
       "_view_module_version": "1.2.0",
       "_view_name": "LayoutView",
       "align_content": null,
       "align_items": null,
       "align_self": null,
       "border": null,
       "bottom": null,
       "display": null,
       "flex": null,
       "flex_flow": null,
       "grid_area": null,
       "grid_auto_columns": null,
       "grid_auto_flow": null,
       "grid_auto_rows": null,
       "grid_column": null,
       "grid_gap": null,
       "grid_row": null,
       "grid_template_areas": null,
       "grid_template_columns": null,
       "grid_template_rows": null,
       "height": null,
       "justify_content": null,
       "justify_items": null,
       "left": null,
       "margin": null,
       "max_height": null,
       "max_width": null,
       "min_height": null,
       "min_width": null,
       "object_fit": null,
       "object_position": null,
       "order": null,
       "overflow": null,
       "overflow_x": null,
       "overflow_y": null,
       "padding": null,
       "right": null,
       "top": null,
       "visibility": null,
       "width": null
      }
     },
     "aaa8f75103784e9ebc1b4afd2e78cb02": {
      "model_module": "@jupyter-widgets/base",
      "model_module_version": "1.2.0",
      "model_name": "LayoutModel",
      "state": {
       "_model_module": "@jupyter-widgets/base",
       "_model_module_version": "1.2.0",
       "_model_name": "LayoutModel",
       "_view_count": null,
       "_view_module": "@jupyter-widgets/base",
       "_view_module_version": "1.2.0",
       "_view_name": "LayoutView",
       "align_content": null,
       "align_items": null,
       "align_self": null,
       "border": null,
       "bottom": null,
       "display": null,
       "flex": null,
       "flex_flow": null,
       "grid_area": null,
       "grid_auto_columns": null,
       "grid_auto_flow": null,
       "grid_auto_rows": null,
       "grid_column": null,
       "grid_gap": null,
       "grid_row": null,
       "grid_template_areas": null,
       "grid_template_columns": null,
       "grid_template_rows": null,
       "height": null,
       "justify_content": null,
       "justify_items": null,
       "left": null,
       "margin": null,
       "max_height": null,
       "max_width": null,
       "min_height": null,
       "min_width": null,
       "object_fit": null,
       "object_position": null,
       "order": null,
       "overflow": null,
       "overflow_x": null,
       "overflow_y": null,
       "padding": null,
       "right": null,
       "top": null,
       "visibility": null,
       "width": null
      }
     },
     "ae202cf555e342a99d44a821f333ee5d": {
      "model_module": "@jupyter-widgets/controls",
      "model_module_version": "1.5.0",
      "model_name": "HTMLModel",
      "state": {
       "_dom_classes": [],
       "_model_module": "@jupyter-widgets/controls",
       "_model_module_version": "1.5.0",
       "_model_name": "HTMLModel",
       "_view_count": null,
       "_view_module": "@jupyter-widgets/controls",
       "_view_module_version": "1.5.0",
       "_view_name": "HTMLView",
       "description": "",
       "description_tooltip": null,
       "layout": "IPY_MODEL_9cc01c19f6294237bcdae9a627fe4a4b",
       "placeholder": "​",
       "style": "IPY_MODEL_d0d03624e60449eebc5d404b5844091b",
       "value": " 466k/466k [00:00&lt;00:00, 18.7MB/s]"
      }
     },
     "b39dda78a54b4b8caed9cfe3e0c16c45": {
      "model_module": "@jupyter-widgets/controls",
      "model_module_version": "1.5.0",
      "model_name": "DescriptionStyleModel",
      "state": {
       "_model_module": "@jupyter-widgets/controls",
       "_model_module_version": "1.5.0",
       "_model_name": "DescriptionStyleModel",
       "_view_count": null,
       "_view_module": "@jupyter-widgets/base",
       "_view_module_version": "1.2.0",
       "_view_name": "StyleView",
       "description_width": ""
      }
     },
     "bb926506c9084e808488aa0065c3e720": {
      "model_module": "@jupyter-widgets/controls",
      "model_module_version": "1.5.0",
      "model_name": "DescriptionStyleModel",
      "state": {
       "_model_module": "@jupyter-widgets/controls",
       "_model_module_version": "1.5.0",
       "_model_name": "DescriptionStyleModel",
       "_view_count": null,
       "_view_module": "@jupyter-widgets/base",
       "_view_module_version": "1.2.0",
       "_view_name": "StyleView",
       "description_width": ""
      }
     },
     "bddbae2843504a1b822c76c1b970b992": {
      "model_module": "@jupyter-widgets/controls",
      "model_module_version": "1.5.0",
      "model_name": "HTMLModel",
      "state": {
       "_dom_classes": [],
       "_model_module": "@jupyter-widgets/controls",
       "_model_module_version": "1.5.0",
       "_model_name": "HTMLModel",
       "_view_count": null,
       "_view_module": "@jupyter-widgets/controls",
       "_view_module_version": "1.5.0",
       "_view_name": "HTMLView",
       "description": "",
       "description_tooltip": null,
       "layout": "IPY_MODEL_1394710a8d994d279ecccf365d5f98b4",
       "placeholder": "​",
       "style": "IPY_MODEL_3df4267bdcb847e09eb9f4626fe831db",
       "value": " 350/350 [00:00&lt;00:00, 29.0kB/s]"
      }
     },
     "cb4f9577a5904d79b1f50dc922da4aef": {
      "model_module": "@jupyter-widgets/controls",
      "model_module_version": "1.5.0",
      "model_name": "ProgressStyleModel",
      "state": {
       "_model_module": "@jupyter-widgets/controls",
       "_model_module_version": "1.5.0",
       "_model_name": "ProgressStyleModel",
       "_view_count": null,
       "_view_module": "@jupyter-widgets/base",
       "_view_module_version": "1.2.0",
       "_view_name": "StyleView",
       "bar_color": null,
       "description_width": ""
      }
     },
     "ccfef7a0f37748cea9cab5f6f878b17f": {
      "model_module": "@jupyter-widgets/controls",
      "model_module_version": "1.5.0",
      "model_name": "ProgressStyleModel",
      "state": {
       "_model_module": "@jupyter-widgets/controls",
       "_model_module_version": "1.5.0",
       "_model_name": "ProgressStyleModel",
       "_view_count": null,
       "_view_module": "@jupyter-widgets/base",
       "_view_module_version": "1.2.0",
       "_view_name": "StyleView",
       "bar_color": null,
       "description_width": ""
      }
     },
     "d0d03624e60449eebc5d404b5844091b": {
      "model_module": "@jupyter-widgets/controls",
      "model_module_version": "1.5.0",
      "model_name": "DescriptionStyleModel",
      "state": {
       "_model_module": "@jupyter-widgets/controls",
       "_model_module_version": "1.5.0",
       "_model_name": "DescriptionStyleModel",
       "_view_count": null,
       "_view_module": "@jupyter-widgets/base",
       "_view_module_version": "1.2.0",
       "_view_name": "StyleView",
       "description_width": ""
      }
     },
     "d142bdccb63c4d7d94c5954b40a7515f": {
      "model_module": "@jupyter-widgets/base",
      "model_module_version": "1.2.0",
      "model_name": "LayoutModel",
      "state": {
       "_model_module": "@jupyter-widgets/base",
       "_model_module_version": "1.2.0",
       "_model_name": "LayoutModel",
       "_view_count": null,
       "_view_module": "@jupyter-widgets/base",
       "_view_module_version": "1.2.0",
       "_view_name": "LayoutView",
       "align_content": null,
       "align_items": null,
       "align_self": null,
       "border": null,
       "bottom": null,
       "display": null,
       "flex": null,
       "flex_flow": null,
       "grid_area": null,
       "grid_auto_columns": null,
       "grid_auto_flow": null,
       "grid_auto_rows": null,
       "grid_column": null,
       "grid_gap": null,
       "grid_row": null,
       "grid_template_areas": null,
       "grid_template_columns": null,
       "grid_template_rows": null,
       "height": null,
       "justify_content": null,
       "justify_items": null,
       "left": null,
       "margin": null,
       "max_height": null,
       "max_width": null,
       "min_height": null,
       "min_width": null,
       "object_fit": null,
       "object_position": null,
       "order": null,
       "overflow": null,
       "overflow_x": null,
       "overflow_y": null,
       "padding": null,
       "right": null,
       "top": null,
       "visibility": null,
       "width": null
      }
     },
     "d177305111cf441f8e00ece34f80fe18": {
      "model_module": "@jupyter-widgets/controls",
      "model_module_version": "1.5.0",
      "model_name": "DescriptionStyleModel",
      "state": {
       "_model_module": "@jupyter-widgets/controls",
       "_model_module_version": "1.5.0",
       "_model_name": "DescriptionStyleModel",
       "_view_count": null,
       "_view_module": "@jupyter-widgets/base",
       "_view_module_version": "1.2.0",
       "_view_name": "StyleView",
       "description_width": ""
      }
     },
     "d297f49fb986484d8624eb2cd3941ae9": {
      "model_module": "@jupyter-widgets/controls",
      "model_module_version": "1.5.0",
      "model_name": "HTMLModel",
      "state": {
       "_dom_classes": [],
       "_model_module": "@jupyter-widgets/controls",
       "_model_module_version": "1.5.0",
       "_model_name": "HTMLModel",
       "_view_count": null,
       "_view_module": "@jupyter-widgets/controls",
       "_view_module_version": "1.5.0",
       "_view_name": "HTMLView",
       "description": "",
       "description_tooltip": null,
       "layout": "IPY_MODEL_187887234b584868891ba00617407f80",
       "placeholder": "​",
       "style": "IPY_MODEL_75b0e974ed9648a19e16db40dd64d2bf",
       "value": " 112/112 [00:00&lt;00:00, 9.45kB/s]"
      }
     },
     "d4e6d36ac04a44729f12c0a9515a293a": {
      "model_module": "@jupyter-widgets/controls",
      "model_module_version": "1.5.0",
      "model_name": "HBoxModel",
      "state": {
       "_dom_classes": [],
       "_model_module": "@jupyter-widgets/controls",
       "_model_module_version": "1.5.0",
       "_model_name": "HBoxModel",
       "_view_count": null,
       "_view_module": "@jupyter-widgets/controls",
       "_view_module_version": "1.5.0",
       "_view_name": "HBoxView",
       "box_style": "",
       "children": [
        "IPY_MODEL_e19688c4c44a410798d0acbc73baabeb",
        "IPY_MODEL_5b8bc3d520814aedb2809ccfb5e80854",
        "IPY_MODEL_573efa94dfc24171b337043c2a841ed1"
       ],
       "layout": "IPY_MODEL_23e438aafbc04c7b9ed07faad947e57f"
      }
     },
     "d6531cbcb2b54a27b7a0a2ff184f40ac": {
      "model_module": "@jupyter-widgets/controls",
      "model_module_version": "1.5.0",
      "model_name": "FloatProgressModel",
      "state": {
       "_dom_classes": [],
       "_model_module": "@jupyter-widgets/controls",
       "_model_module_version": "1.5.0",
       "_model_name": "FloatProgressModel",
       "_view_count": null,
       "_view_module": "@jupyter-widgets/controls",
       "_view_module_version": "1.5.0",
       "_view_name": "ProgressView",
       "bar_style": "success",
       "description": "",
       "description_tooltip": null,
       "layout": "IPY_MODEL_77ca6148255f4d68841f96cb9d6b73ac",
       "max": 466247.0,
       "min": 0.0,
       "orientation": "horizontal",
       "style": "IPY_MODEL_e4e6445713c747168b19c2b56d5e8770",
       "value": 466247.0
      }
     },
     "d69b634875df4c749abf84658e3b21ad": {
      "model_module": "@jupyter-widgets/controls",
      "model_module_version": "1.5.0",
      "model_name": "DescriptionStyleModel",
      "state": {
       "_model_module": "@jupyter-widgets/controls",
       "_model_module_version": "1.5.0",
       "_model_name": "DescriptionStyleModel",
       "_view_count": null,
       "_view_module": "@jupyter-widgets/base",
       "_view_module_version": "1.2.0",
       "_view_name": "StyleView",
       "description_width": ""
      }
     },
     "d8dda88d52ac46ffa9483cd07100be3f": {
      "model_module": "@jupyter-widgets/controls",
      "model_module_version": "1.5.0",
      "model_name": "DescriptionStyleModel",
      "state": {
       "_model_module": "@jupyter-widgets/controls",
       "_model_module_version": "1.5.0",
       "_model_name": "DescriptionStyleModel",
       "_view_count": null,
       "_view_module": "@jupyter-widgets/base",
       "_view_module_version": "1.2.0",
       "_view_name": "StyleView",
       "description_width": ""
      }
     },
     "dc96f84c55ac427c975c883f1ebfad61": {
      "model_module": "@jupyter-widgets/base",
      "model_module_version": "1.2.0",
      "model_name": "LayoutModel",
      "state": {
       "_model_module": "@jupyter-widgets/base",
       "_model_module_version": "1.2.0",
       "_model_name": "LayoutModel",
       "_view_count": null,
       "_view_module": "@jupyter-widgets/base",
       "_view_module_version": "1.2.0",
       "_view_name": "LayoutView",
       "align_content": null,
       "align_items": null,
       "align_self": null,
       "border": null,
       "bottom": null,
       "display": null,
       "flex": null,
       "flex_flow": null,
       "grid_area": null,
       "grid_auto_columns": null,
       "grid_auto_flow": null,
       "grid_auto_rows": null,
       "grid_column": null,
       "grid_gap": null,
       "grid_row": null,
       "grid_template_areas": null,
       "grid_template_columns": null,
       "grid_template_rows": null,
       "height": null,
       "justify_content": null,
       "justify_items": null,
       "left": null,
       "margin": null,
       "max_height": null,
       "max_width": null,
       "min_height": null,
       "min_width": null,
       "object_fit": null,
       "object_position": null,
       "order": null,
       "overflow": null,
       "overflow_x": null,
       "overflow_y": null,
       "padding": null,
       "right": null,
       "top": null,
       "visibility": null,
       "width": null
      }
     },
     "dd92b70206de4d4e808cffce82c7c8d9": {
      "model_module": "@jupyter-widgets/base",
      "model_module_version": "1.2.0",
      "model_name": "LayoutModel",
      "state": {
       "_model_module": "@jupyter-widgets/base",
       "_model_module_version": "1.2.0",
       "_model_name": "LayoutModel",
       "_view_count": null,
       "_view_module": "@jupyter-widgets/base",
       "_view_module_version": "1.2.0",
       "_view_name": "LayoutView",
       "align_content": null,
       "align_items": null,
       "align_self": null,
       "border": null,
       "bottom": null,
       "display": null,
       "flex": null,
       "flex_flow": null,
       "grid_area": null,
       "grid_auto_columns": null,
       "grid_auto_flow": null,
       "grid_auto_rows": null,
       "grid_column": null,
       "grid_gap": null,
       "grid_row": null,
       "grid_template_areas": null,
       "grid_template_columns": null,
       "grid_template_rows": null,
       "height": null,
       "justify_content": null,
       "justify_items": null,
       "left": null,
       "margin": null,
       "max_height": null,
       "max_width": null,
       "min_height": null,
       "min_width": null,
       "object_fit": null,
       "object_position": null,
       "order": null,
       "overflow": null,
       "overflow_x": null,
       "overflow_y": null,
       "padding": null,
       "right": null,
       "top": null,
       "visibility": null,
       "width": null
      }
     },
     "de6715acddfb4426becddc0d4b9bb0ff": {
      "model_module": "@jupyter-widgets/base",
      "model_module_version": "1.2.0",
      "model_name": "LayoutModel",
      "state": {
       "_model_module": "@jupyter-widgets/base",
       "_model_module_version": "1.2.0",
       "_model_name": "LayoutModel",
       "_view_count": null,
       "_view_module": "@jupyter-widgets/base",
       "_view_module_version": "1.2.0",
       "_view_name": "LayoutView",
       "align_content": null,
       "align_items": null,
       "align_self": null,
       "border": null,
       "bottom": null,
       "display": null,
       "flex": null,
       "flex_flow": null,
       "grid_area": null,
       "grid_auto_columns": null,
       "grid_auto_flow": null,
       "grid_auto_rows": null,
       "grid_column": null,
       "grid_gap": null,
       "grid_row": null,
       "grid_template_areas": null,
       "grid_template_columns": null,
       "grid_template_rows": null,
       "height": null,
       "justify_content": null,
       "justify_items": null,
       "left": null,
       "margin": null,
       "max_height": null,
       "max_width": null,
       "min_height": null,
       "min_width": null,
       "object_fit": null,
       "object_position": null,
       "order": null,
       "overflow": null,
       "overflow_x": null,
       "overflow_y": null,
       "padding": null,
       "right": null,
       "top": null,
       "visibility": null,
       "width": null
      }
     },
     "dfb1e2fa507a401f85c21606fe5777dc": {
      "model_module": "@jupyter-widgets/controls",
      "model_module_version": "1.5.0",
      "model_name": "HTMLModel",
      "state": {
       "_dom_classes": [],
       "_model_module": "@jupyter-widgets/controls",
       "_model_module_version": "1.5.0",
       "_model_name": "HTMLModel",
       "_view_count": null,
       "_view_module": "@jupyter-widgets/controls",
       "_view_module_version": "1.5.0",
       "_view_name": "HTMLView",
       "description": "",
       "description_tooltip": null,
       "layout": "IPY_MODEL_d142bdccb63c4d7d94c5954b40a7515f",
       "placeholder": "​",
       "style": "IPY_MODEL_d8dda88d52ac46ffa9483cd07100be3f",
       "value": "tokenizer_config.json: 100%"
      }
     },
     "dffb936852734ee3969e1f6c896e3036": {
      "model_module": "@jupyter-widgets/controls",
      "model_module_version": "1.5.0",
      "model_name": "DescriptionStyleModel",
      "state": {
       "_model_module": "@jupyter-widgets/controls",
       "_model_module_version": "1.5.0",
       "_model_name": "DescriptionStyleModel",
       "_view_count": null,
       "_view_module": "@jupyter-widgets/base",
       "_view_module_version": "1.2.0",
       "_view_name": "StyleView",
       "description_width": ""
      }
     },
     "e1297a42ac8749619d6b856054e94a89": {
      "model_module": "@jupyter-widgets/controls",
      "model_module_version": "1.5.0",
      "model_name": "HTMLModel",
      "state": {
       "_dom_classes": [],
       "_model_module": "@jupyter-widgets/controls",
       "_model_module_version": "1.5.0",
       "_model_name": "HTMLModel",
       "_view_count": null,
       "_view_module": "@jupyter-widgets/controls",
       "_view_module_version": "1.5.0",
       "_view_name": "HTMLView",
       "description": "",
       "description_tooltip": null,
       "layout": "IPY_MODEL_dd92b70206de4d4e808cffce82c7c8d9",
       "placeholder": "​",
       "style": "IPY_MODEL_5c9538d8c9374f099f172df8fe6f7339",
       "value": "tokenizer.json: 100%"
      }
     },
     "e19688c4c44a410798d0acbc73baabeb": {
      "model_module": "@jupyter-widgets/controls",
      "model_module_version": "1.5.0",
      "model_name": "HTMLModel",
      "state": {
       "_dom_classes": [],
       "_model_module": "@jupyter-widgets/controls",
       "_model_module_version": "1.5.0",
       "_model_name": "HTMLModel",
       "_view_count": null,
       "_view_module": "@jupyter-widgets/controls",
       "_view_module_version": "1.5.0",
       "_view_name": "HTMLView",
       "description": "",
       "description_tooltip": null,
       "layout": "IPY_MODEL_034939b7bb99414085f7e0b0cc2b81c4",
       "placeholder": "​",
       "style": "IPY_MODEL_468bc60be9724ad2b5e12084312e8bf3",
       "value": "model.safetensors: 100%"
      }
     },
     "e1d07f50aa064f529ce96c5151fb337f": {
      "model_module": "@jupyter-widgets/base",
      "model_module_version": "1.2.0",
      "model_name": "LayoutModel",
      "state": {
       "_model_module": "@jupyter-widgets/base",
       "_model_module_version": "1.2.0",
       "_model_name": "LayoutModel",
       "_view_count": null,
       "_view_module": "@jupyter-widgets/base",
       "_view_module_version": "1.2.0",
       "_view_name": "LayoutView",
       "align_content": null,
       "align_items": null,
       "align_self": null,
       "border": null,
       "bottom": null,
       "display": null,
       "flex": null,
       "flex_flow": null,
       "grid_area": null,
       "grid_auto_columns": null,
       "grid_auto_flow": null,
       "grid_auto_rows": null,
       "grid_column": null,
       "grid_gap": null,
       "grid_row": null,
       "grid_template_areas": null,
       "grid_template_columns": null,
       "grid_template_rows": null,
       "height": null,
       "justify_content": null,
       "justify_items": null,
       "left": null,
       "margin": null,
       "max_height": null,
       "max_width": null,
       "min_height": null,
       "min_width": null,
       "object_fit": null,
       "object_position": null,
       "order": null,
       "overflow": null,
       "overflow_x": null,
       "overflow_y": null,
       "padding": null,
       "right": null,
       "top": null,
       "visibility": null,
       "width": null
      }
     },
     "e4e6445713c747168b19c2b56d5e8770": {
      "model_module": "@jupyter-widgets/controls",
      "model_module_version": "1.5.0",
      "model_name": "ProgressStyleModel",
      "state": {
       "_model_module": "@jupyter-widgets/controls",
       "_model_module_version": "1.5.0",
       "_model_name": "ProgressStyleModel",
       "_view_count": null,
       "_view_module": "@jupyter-widgets/base",
       "_view_module_version": "1.2.0",
       "_view_name": "StyleView",
       "bar_color": null,
       "description_width": ""
      }
     },
     "e5948deeff1b43609df3d5ae43bd0023": {
      "model_module": "@jupyter-widgets/controls",
      "model_module_version": "1.5.0",
      "model_name": "FloatProgressModel",
      "state": {
       "_dom_classes": [],
       "_model_module": "@jupyter-widgets/controls",
       "_model_module_version": "1.5.0",
       "_model_name": "FloatProgressModel",
       "_view_count": null,
       "_view_module": "@jupyter-widgets/controls",
       "_view_module_version": "1.5.0",
       "_view_name": "ProgressView",
       "bar_style": "success",
       "description": "",
       "description_tooltip": null,
       "layout": "IPY_MODEL_47a0f0d8cc624637bff9b7ada59add1a",
       "max": 231508.0,
       "min": 0.0,
       "orientation": "horizontal",
       "style": "IPY_MODEL_00d0f66939ce46ffa89910bdd7324019",
       "value": 231508.0
      }
     },
     "e835b614d5594141b40d8a02acfd397f": {
      "model_module": "@jupyter-widgets/base",
      "model_module_version": "1.2.0",
      "model_name": "LayoutModel",
      "state": {
       "_model_module": "@jupyter-widgets/base",
       "_model_module_version": "1.2.0",
       "_model_name": "LayoutModel",
       "_view_count": null,
       "_view_module": "@jupyter-widgets/base",
       "_view_module_version": "1.2.0",
       "_view_name": "LayoutView",
       "align_content": null,
       "align_items": null,
       "align_self": null,
       "border": null,
       "bottom": null,
       "display": null,
       "flex": null,
       "flex_flow": null,
       "grid_area": null,
       "grid_auto_columns": null,
       "grid_auto_flow": null,
       "grid_auto_rows": null,
       "grid_column": null,
       "grid_gap": null,
       "grid_row": null,
       "grid_template_areas": null,
       "grid_template_columns": null,
       "grid_template_rows": null,
       "height": null,
       "justify_content": null,
       "justify_items": null,
       "left": null,
       "margin": null,
       "max_height": null,
       "max_width": null,
       "min_height": null,
       "min_width": null,
       "object_fit": null,
       "object_position": null,
       "order": null,
       "overflow": null,
       "overflow_x": null,
       "overflow_y": null,
       "padding": null,
       "right": null,
       "top": null,
       "visibility": null,
       "width": null
      }
     },
     "e8598e61e81041d4aec471885902668c": {
      "model_module": "@jupyter-widgets/controls",
      "model_module_version": "1.5.0",
      "model_name": "DescriptionStyleModel",
      "state": {
       "_model_module": "@jupyter-widgets/controls",
       "_model_module_version": "1.5.0",
       "_model_name": "DescriptionStyleModel",
       "_view_count": null,
       "_view_module": "@jupyter-widgets/base",
       "_view_module_version": "1.2.0",
       "_view_name": "StyleView",
       "description_width": ""
      }
     },
     "ea3f4e3b48de4749b8ff0a64dbfec21c": {
      "model_module": "@jupyter-widgets/controls",
      "model_module_version": "1.5.0",
      "model_name": "HBoxModel",
      "state": {
       "_dom_classes": [],
       "_model_module": "@jupyter-widgets/controls",
       "_model_module_version": "1.5.0",
       "_model_name": "HBoxModel",
       "_view_count": null,
       "_view_module": "@jupyter-widgets/controls",
       "_view_module_version": "1.5.0",
       "_view_name": "HBoxView",
       "box_style": "",
       "children": [
        "IPY_MODEL_745f810d176447c49d5d71d01199d173",
        "IPY_MODEL_68265e3e0e0d4e33a26d94dc07a14a86",
        "IPY_MODEL_85082dd1f31f4db5a0cc2268bb1b1593"
       ],
       "layout": "IPY_MODEL_aaa8f75103784e9ebc1b4afd2e78cb02"
      }
     },
     "eb8142ef3f574eb8ac2c3bfc2991b7c3": {
      "model_module": "@jupyter-widgets/controls",
      "model_module_version": "1.5.0",
      "model_name": "HTMLModel",
      "state": {
       "_dom_classes": [],
       "_model_module": "@jupyter-widgets/controls",
       "_model_module_version": "1.5.0",
       "_model_name": "HTMLModel",
       "_view_count": null,
       "_view_module": "@jupyter-widgets/controls",
       "_view_module_version": "1.5.0",
       "_view_name": "HTMLView",
       "description": "",
       "description_tooltip": null,
       "layout": "IPY_MODEL_1dc84cfde2be4091b891b136d6a23c31",
       "placeholder": "​",
       "style": "IPY_MODEL_2b0235e27d234da0bdac7ceeaa6b6db0",
       "value": "vocab.txt: 100%"
      }
     },
     "edb0a14351bc4ae681602b9638e672da": {
      "model_module": "@jupyter-widgets/controls",
      "model_module_version": "1.5.0",
      "model_name": "FloatProgressModel",
      "state": {
       "_dom_classes": [],
       "_model_module": "@jupyter-widgets/controls",
       "_model_module_version": "1.5.0",
       "_model_name": "FloatProgressModel",
       "_view_count": null,
       "_view_module": "@jupyter-widgets/controls",
       "_view_module_version": "1.5.0",
       "_view_name": "ProgressView",
       "bar_style": "success",
       "description": "",
       "description_tooltip": null,
       "layout": "IPY_MODEL_33ed412dd6bd4544976f693b77929e20",
       "max": 350.0,
       "min": 0.0,
       "orientation": "horizontal",
       "style": "IPY_MODEL_12ff2c26e8a147739c634d112d6d7f1a",
       "value": 350.0
      }
     },
     "ee309ad403b24cae95ed9d99405730ad": {
      "model_module": "@jupyter-widgets/controls",
      "model_module_version": "1.5.0",
      "model_name": "DescriptionStyleModel",
      "state": {
       "_model_module": "@jupyter-widgets/controls",
       "_model_module_version": "1.5.0",
       "_model_name": "DescriptionStyleModel",
       "_view_count": null,
       "_view_module": "@jupyter-widgets/base",
       "_view_module_version": "1.2.0",
       "_view_name": "StyleView",
       "description_width": ""
      }
     },
     "ef02638ceceb415090589db4b299abd8": {
      "model_module": "@jupyter-widgets/controls",
      "model_module_version": "1.5.0",
      "model_name": "HBoxModel",
      "state": {
       "_dom_classes": [],
       "_model_module": "@jupyter-widgets/controls",
       "_model_module_version": "1.5.0",
       "_model_name": "HBoxModel",
       "_view_count": null,
       "_view_module": "@jupyter-widgets/controls",
       "_view_module_version": "1.5.0",
       "_view_name": "HBoxView",
       "box_style": "",
       "children": [
        "IPY_MODEL_684d7252bb5c4bfe9609db906ea835a4",
        "IPY_MODEL_5a48a641996d4266a9304567f9d2ca42",
        "IPY_MODEL_3bda39329de549c7afe40d9760e7883b"
       ],
       "layout": "IPY_MODEL_dc96f84c55ac427c975c883f1ebfad61"
      }
     },
     "ef9ebf5048ac43d9a7fc4de463331c55": {
      "model_module": "@jupyter-widgets/controls",
      "model_module_version": "1.5.0",
      "model_name": "HBoxModel",
      "state": {
       "_dom_classes": [],
       "_model_module": "@jupyter-widgets/controls",
       "_model_module_version": "1.5.0",
       "_model_name": "HBoxModel",
       "_view_count": null,
       "_view_module": "@jupyter-widgets/controls",
       "_view_module_version": "1.5.0",
       "_view_name": "HBoxView",
       "box_style": "",
       "children": [
        "IPY_MODEL_eb8142ef3f574eb8ac2c3bfc2991b7c3",
        "IPY_MODEL_e5948deeff1b43609df3d5ae43bd0023",
        "IPY_MODEL_3756cc353c184b759e5f4744e2565173"
       ],
       "layout": "IPY_MODEL_fe8b96cb69af46c1ad7835563eeb942a"
      }
     },
     "f29b2625c1844d2e9b312b7ae9ef4be0": {
      "model_module": "@jupyter-widgets/controls",
      "model_module_version": "1.5.0",
      "model_name": "FloatProgressModel",
      "state": {
       "_dom_classes": [],
       "_model_module": "@jupyter-widgets/controls",
       "_model_module_version": "1.5.0",
       "_model_name": "FloatProgressModel",
       "_view_count": null,
       "_view_module": "@jupyter-widgets/controls",
       "_view_module_version": "1.5.0",
       "_view_name": "ProgressView",
       "bar_style": "success",
       "description": "",
       "description_tooltip": null,
       "layout": "IPY_MODEL_38533e3c4d434cc183b54533ff7fd4b1",
       "max": 352.0,
       "min": 0.0,
       "orientation": "horizontal",
       "style": "IPY_MODEL_9a1320ecf65e4aca8c0d1b0f094ef31c",
       "value": 352.0
      }
     },
     "f3407bd0296b4c55b424346718231ea9": {
      "model_module": "@jupyter-widgets/base",
      "model_module_version": "1.2.0",
      "model_name": "LayoutModel",
      "state": {
       "_model_module": "@jupyter-widgets/base",
       "_model_module_version": "1.2.0",
       "_model_name": "LayoutModel",
       "_view_count": null,
       "_view_module": "@jupyter-widgets/base",
       "_view_module_version": "1.2.0",
       "_view_name": "LayoutView",
       "align_content": null,
       "align_items": null,
       "align_self": null,
       "border": null,
       "bottom": null,
       "display": null,
       "flex": null,
       "flex_flow": null,
       "grid_area": null,
       "grid_auto_columns": null,
       "grid_auto_flow": null,
       "grid_auto_rows": null,
       "grid_column": null,
       "grid_gap": null,
       "grid_row": null,
       "grid_template_areas": null,
       "grid_template_columns": null,
       "grid_template_rows": null,
       "height": null,
       "justify_content": null,
       "justify_items": null,
       "left": null,
       "margin": null,
       "max_height": null,
       "max_width": null,
       "min_height": null,
       "min_width": null,
       "object_fit": null,
       "object_position": null,
       "order": null,
       "overflow": null,
       "overflow_x": null,
       "overflow_y": null,
       "padding": null,
       "right": null,
       "top": null,
       "visibility": null,
       "width": null
      }
     },
     "f46e0648b10240d7aed1e057830446dc": {
      "model_module": "@jupyter-widgets/base",
      "model_module_version": "1.2.0",
      "model_name": "LayoutModel",
      "state": {
       "_model_module": "@jupyter-widgets/base",
       "_model_module_version": "1.2.0",
       "_model_name": "LayoutModel",
       "_view_count": null,
       "_view_module": "@jupyter-widgets/base",
       "_view_module_version": "1.2.0",
       "_view_name": "LayoutView",
       "align_content": null,
       "align_items": null,
       "align_self": null,
       "border": null,
       "bottom": null,
       "display": null,
       "flex": null,
       "flex_flow": null,
       "grid_area": null,
       "grid_auto_columns": null,
       "grid_auto_flow": null,
       "grid_auto_rows": null,
       "grid_column": null,
       "grid_gap": null,
       "grid_row": null,
       "grid_template_areas": null,
       "grid_template_columns": null,
       "grid_template_rows": null,
       "height": null,
       "justify_content": null,
       "justify_items": null,
       "left": null,
       "margin": null,
       "max_height": null,
       "max_width": null,
       "min_height": null,
       "min_width": null,
       "object_fit": null,
       "object_position": null,
       "order": null,
       "overflow": null,
       "overflow_x": null,
       "overflow_y": null,
       "padding": null,
       "right": null,
       "top": null,
       "visibility": null,
       "width": null
      }
     },
     "f61416ea5a504f8d9d57e70528a567b7": {
      "model_module": "@jupyter-widgets/base",
      "model_module_version": "1.2.0",
      "model_name": "LayoutModel",
      "state": {
       "_model_module": "@jupyter-widgets/base",
       "_model_module_version": "1.2.0",
       "_model_name": "LayoutModel",
       "_view_count": null,
       "_view_module": "@jupyter-widgets/base",
       "_view_module_version": "1.2.0",
       "_view_name": "LayoutView",
       "align_content": null,
       "align_items": null,
       "align_self": null,
       "border": null,
       "bottom": null,
       "display": null,
       "flex": null,
       "flex_flow": null,
       "grid_area": null,
       "grid_auto_columns": null,
       "grid_auto_flow": null,
       "grid_auto_rows": null,
       "grid_column": null,
       "grid_gap": null,
       "grid_row": null,
       "grid_template_areas": null,
       "grid_template_columns": null,
       "grid_template_rows": null,
       "height": null,
       "justify_content": null,
       "justify_items": null,
       "left": null,
       "margin": null,
       "max_height": null,
       "max_width": null,
       "min_height": null,
       "min_width": null,
       "object_fit": null,
       "object_position": null,
       "order": null,
       "overflow": null,
       "overflow_x": null,
       "overflow_y": null,
       "padding": null,
       "right": null,
       "top": null,
       "visibility": null,
       "width": null
      }
     },
     "f6b0cff672c3477ba2dc454c004c1a3f": {
      "model_module": "@jupyter-widgets/controls",
      "model_module_version": "1.5.0",
      "model_name": "FloatProgressModel",
      "state": {
       "_dom_classes": [],
       "_model_module": "@jupyter-widgets/controls",
       "_model_module_version": "1.5.0",
       "_model_name": "FloatProgressModel",
       "_view_count": null,
       "_view_module": "@jupyter-widgets/controls",
       "_view_module_version": "1.5.0",
       "_view_name": "ProgressView",
       "bar_style": "success",
       "description": "",
       "description_tooltip": null,
       "layout": "IPY_MODEL_f46e0648b10240d7aed1e057830446dc",
       "max": 466247.0,
       "min": 0.0,
       "orientation": "horizontal",
       "style": "IPY_MODEL_ccfef7a0f37748cea9cab5f6f878b17f",
       "value": 466247.0
      }
     },
     "fda87fcfcaa74442b6e5bd7e636d8c11": {
      "model_module": "@jupyter-widgets/controls",
      "model_module_version": "1.5.0",
      "model_name": "ProgressStyleModel",
      "state": {
       "_model_module": "@jupyter-widgets/controls",
       "_model_module_version": "1.5.0",
       "_model_name": "ProgressStyleModel",
       "_view_count": null,
       "_view_module": "@jupyter-widgets/base",
       "_view_module_version": "1.2.0",
       "_view_name": "StyleView",
       "bar_color": null,
       "description_width": ""
      }
     },
     "fe8b96cb69af46c1ad7835563eeb942a": {
      "model_module": "@jupyter-widgets/base",
      "model_module_version": "1.2.0",
      "model_name": "LayoutModel",
      "state": {
       "_model_module": "@jupyter-widgets/base",
       "_model_module_version": "1.2.0",
       "_model_name": "LayoutModel",
       "_view_count": null,
       "_view_module": "@jupyter-widgets/base",
       "_view_module_version": "1.2.0",
       "_view_name": "LayoutView",
       "align_content": null,
       "align_items": null,
       "align_self": null,
       "border": null,
       "bottom": null,
       "display": null,
       "flex": null,
       "flex_flow": null,
       "grid_area": null,
       "grid_auto_columns": null,
       "grid_auto_flow": null,
       "grid_auto_rows": null,
       "grid_column": null,
       "grid_gap": null,
       "grid_row": null,
       "grid_template_areas": null,
       "grid_template_columns": null,
       "grid_template_rows": null,
       "height": null,
       "justify_content": null,
       "justify_items": null,
       "left": null,
       "margin": null,
       "max_height": null,
       "max_width": null,
       "min_height": null,
       "min_width": null,
       "object_fit": null,
       "object_position": null,
       "order": null,
       "overflow": null,
       "overflow_x": null,
       "overflow_y": null,
       "padding": null,
       "right": null,
       "top": null,
       "visibility": null,
       "width": null
      }
     },
     "ff2ea85c38774b26b311e1ed1297d163": {
      "model_module": "@jupyter-widgets/controls",
      "model_module_version": "1.5.0",
      "model_name": "HBoxModel",
      "state": {
       "_dom_classes": [],
       "_model_module": "@jupyter-widgets/controls",
       "_model_module_version": "1.5.0",
       "_model_name": "HBoxModel",
       "_view_count": null,
       "_view_module": "@jupyter-widgets/controls",
       "_view_module_version": "1.5.0",
       "_view_name": "HBoxView",
       "box_style": "",
       "children": [
        "IPY_MODEL_dfb1e2fa507a401f85c21606fe5777dc",
        "IPY_MODEL_edb0a14351bc4ae681602b9638e672da",
        "IPY_MODEL_bddbae2843504a1b822c76c1b970b992"
       ],
       "layout": "IPY_MODEL_26620957b3a64e06a99e27c9d687a7fa"
      }
     }
    },
    "version_major": 2,
    "version_minor": 0
   }
  }
 },
 "nbformat": 4,
 "nbformat_minor": 5
}
