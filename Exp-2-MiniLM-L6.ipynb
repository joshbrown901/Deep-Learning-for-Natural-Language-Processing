{
 "cells": [
  {
   "cell_type": "code",
   "execution_count": 1,
   "id": "18068227",
   "metadata": {
    "execution": {
     "iopub.execute_input": "2024-05-06T14:52:38.716841Z",
     "iopub.status.busy": "2024-05-06T14:52:38.716490Z",
     "iopub.status.idle": "2024-05-06T14:52:45.924348Z",
     "shell.execute_reply": "2024-05-06T14:52:45.923100Z"
    },
    "id": "-7bT-dDfaoHB",
    "papermill": {
     "duration": 7.241476,
     "end_time": "2024-05-06T14:52:45.927415",
     "exception": false,
     "start_time": "2024-05-06T14:52:38.685939",
     "status": "completed"
    },
    "tags": []
   },
   "outputs": [],
   "source": [
    "import pandas as pd\n",
    "from torch.utils.data import Dataset\n",
    "import torch\n",
    "import os\n",
    "import random\n",
    "import numpy as np\n",
    "from torch import nn\n",
    "from typing import Dict, Optional, Tuple, List\n",
    "from transformers import AutoTokenizer, AutoModel\n",
    "from torch.utils.data import Dataset, random_split\n",
    "import torch.optim as optim\n",
    "from tqdm import tqdm\n",
    "from sklearn.metrics import precision_score, f1_score, recall_score, classification_report\n",
    "\n",
    "\n",
    "import time\n",
    "import math\n",
    "import matplotlib\n",
    "matplotlib.rcParams.update({'figure.figsize': (16, 12), 'font.size': 14})\n",
    "import matplotlib.pyplot as plt\n",
    "%matplotlib inline\n",
    "from IPython.display import clear_output"
   ]
  },
  {
   "cell_type": "code",
   "execution_count": 2,
   "id": "113c29bb",
   "metadata": {
    "execution": {
     "iopub.execute_input": "2024-05-06T14:52:45.992665Z",
     "iopub.status.busy": "2024-05-06T14:52:45.992219Z",
     "iopub.status.idle": "2024-05-06T14:52:46.000848Z",
     "shell.execute_reply": "2024-05-06T14:52:46.000146Z"
    },
    "id": "9sjxzdn7a3jA",
    "papermill": {
     "duration": 0.041914,
     "end_time": "2024-05-06T14:52:46.002855",
     "exception": false,
     "start_time": "2024-05-06T14:52:45.960941",
     "status": "completed"
    },
    "tags": []
   },
   "outputs": [],
   "source": [
    "SEED = 42\n",
    "\n",
    "torch.manual_seed(SEED)\n",
    "torch.random.manual_seed(SEED)\n",
    "os.environ['PYTHONHASHSEED'] = str(SEED)\n",
    "random.seed(SEED)\n",
    "np.random.seed(SEED)\n",
    "torch.cuda.random.manual_seed(SEED)\n",
    "torch.cuda.random.manual_seed_all(SEED)\n",
    "torch.backends.cudnn.deterministic = True"
   ]
  },
  {
   "cell_type": "code",
   "execution_count": 3,
   "id": "f1295e82",
   "metadata": {
    "execution": {
     "iopub.execute_input": "2024-05-06T14:52:46.060246Z",
     "iopub.status.busy": "2024-05-06T14:52:46.059937Z",
     "iopub.status.idle": "2024-05-06T14:52:46.108991Z",
     "shell.execute_reply": "2024-05-06T14:52:46.108127Z"
    },
    "id": "YjyK7Zq1a_RX",
    "papermill": {
     "duration": 0.08006,
     "end_time": "2024-05-06T14:52:46.111069",
     "exception": false,
     "start_time": "2024-05-06T14:52:46.031009",
     "status": "completed"
    },
    "tags": []
   },
   "outputs": [],
   "source": [
    "device = \"cuda\" if torch.cuda.is_available() else \"cpu\""
   ]
  },
  {
   "cell_type": "code",
   "execution_count": 4,
   "id": "33944cdc",
   "metadata": {
    "execution": {
     "iopub.execute_input": "2024-05-06T14:52:46.169283Z",
     "iopub.status.busy": "2024-05-06T14:52:46.168980Z",
     "iopub.status.idle": "2024-05-06T14:52:52.466585Z",
     "shell.execute_reply": "2024-05-06T14:52:52.465471Z"
    },
    "id": "hgyPYm-EbA7v",
    "outputId": "177cb9e5-5854-41e0-b51d-854b711cb9c4",
    "papermill": {
     "duration": 6.329385,
     "end_time": "2024-05-06T14:52:52.468785",
     "exception": false,
     "start_time": "2024-05-06T14:52:46.139400",
     "status": "completed"
    },
    "tags": []
   },
   "outputs": [
    {
     "name": "stdout",
     "output_type": "stream",
     "text": [
      "Cloning into 'TextGraphs17-shared-task'...\r\n",
      "remote: Enumerating objects: 506, done.\u001b[K\r\n",
      "remote: Counting objects: 100% (26/26), done.\u001b[K\r\n",
      "remote: Compressing objects: 100% (19/19), done.\u001b[K\r\n",
      "remote: Total 506 (delta 9), reused 20 (delta 4), pack-reused 480\u001b[K\r\n",
      "Receiving objects: 100% (506/506), 37.13 MiB | 12.43 MiB/s, done.\r\n",
      "Resolving deltas: 100% (60/60), done.\r\n"
     ]
    }
   ],
   "source": [
    "!git clone https://github.com/uhh-lt/TextGraphs17-shared-task.git"
   ]
  },
  {
   "cell_type": "code",
   "execution_count": 5,
   "id": "b6cc694a",
   "metadata": {
    "execution": {
     "iopub.execute_input": "2024-05-06T14:52:52.531346Z",
     "iopub.status.busy": "2024-05-06T14:52:52.530993Z",
     "iopub.status.idle": "2024-05-06T14:52:53.481009Z",
     "shell.execute_reply": "2024-05-06T14:52:53.479874Z"
    },
    "id": "5PfoLo2ZbBzI",
    "outputId": "bcd438a2-edf0-4893-a853-91492583000c",
    "papermill": {
     "duration": 0.983822,
     "end_time": "2024-05-06T14:52:53.483352",
     "exception": false,
     "start_time": "2024-05-06T14:52:52.499530",
     "status": "completed"
    },
    "tags": []
   },
   "outputs": [
    {
     "name": "stdout",
     "output_type": "stream",
     "text": [
      "README.md  data        question_graph_examples\tsubmission_example\r\n",
      "baselines  evaluation  reformat_data\t\tvisualization\r\n"
     ]
    }
   ],
   "source": [
    "!ls TextGraphs17-shared-task"
   ]
  },
  {
   "cell_type": "code",
   "execution_count": 6,
   "id": "820820d7",
   "metadata": {
    "execution": {
     "iopub.execute_input": "2024-05-06T14:52:53.546206Z",
     "iopub.status.busy": "2024-05-06T14:52:53.545490Z",
     "iopub.status.idle": "2024-05-06T14:52:53.993282Z",
     "shell.execute_reply": "2024-05-06T14:52:53.992255Z"
    },
    "id": "WwyCvQPTbDq3",
    "papermill": {
     "duration": 0.48141,
     "end_time": "2024-05-06T14:52:53.995645",
     "exception": false,
     "start_time": "2024-05-06T14:52:53.514235",
     "status": "completed"
    },
    "tags": []
   },
   "outputs": [],
   "source": [
    "train_dev_path = \"TextGraphs17-shared-task/data/tsv/train.tsv\"\n",
    "\n",
    "data_df = pd.read_csv(train_dev_path, sep='\\t')\n",
    "\n",
    "pd.set_option('display.max_colwidth', None)"
   ]
  },
  {
   "cell_type": "code",
   "execution_count": 7,
   "id": "58bda629",
   "metadata": {
    "execution": {
     "iopub.execute_input": "2024-05-06T14:52:54.058818Z",
     "iopub.status.busy": "2024-05-06T14:52:54.058496Z",
     "iopub.status.idle": "2024-05-06T14:52:54.077687Z",
     "shell.execute_reply": "2024-05-06T14:52:54.076981Z"
    },
    "id": "fFnaceN4bEzA",
    "papermill": {
     "duration": 0.052895,
     "end_time": "2024-05-06T14:52:54.079507",
     "exception": false,
     "start_time": "2024-05-06T14:52:54.026612",
     "status": "completed"
    },
    "tags": []
   },
   "outputs": [],
   "source": [
    "all_questions = list(data_df[\"question\"].unique())\n",
    "num_questions = len(all_questions)\n",
    "random.shuffle(all_questions)"
   ]
  },
  {
   "cell_type": "code",
   "execution_count": 8,
   "id": "460882fc",
   "metadata": {
    "execution": {
     "iopub.execute_input": "2024-05-06T14:52:54.141694Z",
     "iopub.status.busy": "2024-05-06T14:52:54.141408Z",
     "iopub.status.idle": "2024-05-06T14:52:54.147867Z",
     "shell.execute_reply": "2024-05-06T14:52:54.147025Z"
    },
    "id": "lImVe0iBclEf",
    "outputId": "cb618def-3a1d-46d3-dec5-3d833c19437e",
    "papermill": {
     "duration": 0.039707,
     "end_time": "2024-05-06T14:52:54.149823",
     "exception": false,
     "start_time": "2024-05-06T14:52:54.110116",
     "status": "completed"
    },
    "tags": []
   },
   "outputs": [
    {
     "name": "stdout",
     "output_type": "stream",
     "text": [
      "Questions: train - 2545, dev - 283, test - 283\n"
     ]
    }
   ],
   "source": [
    "train_dev_ratio = 0.8\n",
    "train_ratio = 0.9\n",
    "num_train_dev_questions = int(num_questions * train_dev_ratio)\n",
    "train_dev_questions = all_questions[:num_train_dev_questions]\n",
    "test_questions = set(all_questions[num_train_dev_questions:])\n",
    "num_train_questions = int(len(train_dev_questions) * train_ratio)\n",
    "train_questions = set(train_dev_questions[:num_train_questions])\n",
    "dev_questions = set(train_dev_questions[num_train_questions:])\n",
    "\n",
    "print(f\"Questions: train - {len(train_questions)}, dev - {len(dev_questions)}, test - {len(dev_questions)}\")"
   ]
  },
  {
   "cell_type": "code",
   "execution_count": 9,
   "id": "9c3d9a72",
   "metadata": {
    "execution": {
     "iopub.execute_input": "2024-05-06T14:52:54.212528Z",
     "iopub.status.busy": "2024-05-06T14:52:54.212266Z",
     "iopub.status.idle": "2024-05-06T14:52:54.236967Z",
     "shell.execute_reply": "2024-05-06T14:52:54.236119Z"
    },
    "id": "JcMVTKSQclGn",
    "outputId": "94b3c70e-e157-4f4b-8a40-a9621ca030f9",
    "papermill": {
     "duration": 0.058212,
     "end_time": "2024-05-06T14:52:54.238759",
     "exception": false,
     "start_time": "2024-05-06T14:52:54.180547",
     "status": "completed"
    },
    "tags": []
   },
   "outputs": [
    {
     "name": "stdout",
     "output_type": "stream",
     "text": [
      "Train: (27122, 10)\n",
      "Dev: (3047, 10)\n",
      "Test: (7503, 10)\n"
     ]
    }
   ],
   "source": [
    "train_df = data_df[data_df[\"question\"].isin(train_questions)]\n",
    "dev_df = data_df[data_df[\"question\"].isin(dev_questions)]\n",
    "test_df = data_df[data_df[\"question\"].isin(test_questions)]\n",
    "\n",
    "print(f\"Train: {train_df.shape}\")\n",
    "print(f\"Dev: {dev_df.shape}\")\n",
    "print(f\"Test: {test_df.shape}\")"
   ]
  },
  {
   "cell_type": "code",
   "execution_count": 10,
   "id": "25b6af57",
   "metadata": {
    "execution": {
     "iopub.execute_input": "2024-05-06T14:52:54.300980Z",
     "iopub.status.busy": "2024-05-06T14:52:54.300674Z",
     "iopub.status.idle": "2024-05-06T14:52:54.314713Z",
     "shell.execute_reply": "2024-05-06T14:52:54.313776Z"
    },
    "id": "Qmj_H67xcwNn",
    "outputId": "a1ac837a-5813-4d91-b39a-20e2d87d1830",
    "papermill": {
     "duration": 0.047566,
     "end_time": "2024-05-06T14:52:54.316921",
     "exception": false,
     "start_time": "2024-05-06T14:52:54.269355",
     "status": "completed"
    },
    "tags": []
   },
   "outputs": [
    {
     "name": "stderr",
     "output_type": "stream",
     "text": [
      "/tmp/ipykernel_24/3117296500.py:1: SettingWithCopyWarning: \n",
      "A value is trying to be set on a copy of a slice from a DataFrame.\n",
      "Try using .loc[row_indexer,col_indexer] = value instead\n",
      "\n",
      "See the caveats in the documentation: https://pandas.pydata.org/pandas-docs/stable/user_guide/indexing.html#returning-a-view-versus-a-copy\n",
      "  train_df[\"label\"] = train_df[\"correct\"].astype(np.float32)\n",
      "/tmp/ipykernel_24/3117296500.py:2: SettingWithCopyWarning: \n",
      "A value is trying to be set on a copy of a slice from a DataFrame.\n",
      "Try using .loc[row_indexer,col_indexer] = value instead\n",
      "\n",
      "See the caveats in the documentation: https://pandas.pydata.org/pandas-docs/stable/user_guide/indexing.html#returning-a-view-versus-a-copy\n",
      "  dev_df[\"label\"] = dev_df[\"correct\"].astype(np.float32)\n",
      "/tmp/ipykernel_24/3117296500.py:3: SettingWithCopyWarning: \n",
      "A value is trying to be set on a copy of a slice from a DataFrame.\n",
      "Try using .loc[row_indexer,col_indexer] = value instead\n",
      "\n",
      "See the caveats in the documentation: https://pandas.pydata.org/pandas-docs/stable/user_guide/indexing.html#returning-a-view-versus-a-copy\n",
      "  test_df[\"label\"] = test_df[\"correct\"].astype(np.float32)\n"
     ]
    },
    {
     "data": {
      "text/plain": [
       "0    0.0\n",
       "1    0.0\n",
       "2    0.0\n",
       "3    1.0\n",
       "4    0.0\n",
       "Name: label, dtype: float32"
      ]
     },
     "execution_count": 10,
     "metadata": {},
     "output_type": "execute_result"
    }
   ],
   "source": [
    "train_df[\"label\"] = train_df[\"correct\"].astype(np.float32)\n",
    "dev_df[\"label\"] = dev_df[\"correct\"].astype(np.float32)\n",
    "test_df[\"label\"] = test_df[\"correct\"].astype(np.float32)\n",
    "train_df[\"label\"].head(5)"
   ]
  },
  {
   "cell_type": "code",
   "execution_count": 11,
   "id": "45884648",
   "metadata": {
    "execution": {
     "iopub.execute_input": "2024-05-06T14:52:54.422957Z",
     "iopub.status.busy": "2024-05-06T14:52:54.422602Z",
     "iopub.status.idle": "2024-05-06T14:52:59.435142Z",
     "shell.execute_reply": "2024-05-06T14:52:59.434224Z"
    },
    "id": "3yfxNLwKc2lU",
    "outputId": "8e2fb5b7-29d8-4f70-d88a-fbcb51ec6932",
    "papermill": {
     "duration": 5.086856,
     "end_time": "2024-05-06T14:52:59.437139",
     "exception": false,
     "start_time": "2024-05-06T14:52:54.350283",
     "status": "completed"
    },
    "tags": []
   },
   "outputs": [
    {
     "name": "stderr",
     "output_type": "stream",
     "text": [
      "/tmp/ipykernel_24/1764180835.py:1: SettingWithCopyWarning: \n",
      "A value is trying to be set on a copy of a slice from a DataFrame.\n",
      "Try using .loc[row_indexer,col_indexer] = value instead\n",
      "\n",
      "See the caveats in the documentation: https://pandas.pydata.org/pandas-docs/stable/user_guide/indexing.html#returning-a-view-versus-a-copy\n",
      "  train_df[\"graph\"] = train_df[\"graph\"].apply(eval)\n",
      "/tmp/ipykernel_24/1764180835.py:2: SettingWithCopyWarning: \n",
      "A value is trying to be set on a copy of a slice from a DataFrame.\n",
      "Try using .loc[row_indexer,col_indexer] = value instead\n",
      "\n",
      "See the caveats in the documentation: https://pandas.pydata.org/pandas-docs/stable/user_guide/indexing.html#returning-a-view-versus-a-copy\n",
      "  dev_df[\"graph\"] = dev_df[\"graph\"].apply(eval)\n",
      "/tmp/ipykernel_24/1764180835.py:3: SettingWithCopyWarning: \n",
      "A value is trying to be set on a copy of a slice from a DataFrame.\n",
      "Try using .loc[row_indexer,col_indexer] = value instead\n",
      "\n",
      "See the caveats in the documentation: https://pandas.pydata.org/pandas-docs/stable/user_guide/indexing.html#returning-a-view-versus-a-copy\n",
      "  test_df[\"graph\"] = test_df[\"graph\"].apply(eval)\n"
     ]
    }
   ],
   "source": [
    "train_df[\"graph\"] = train_df[\"graph\"].apply(eval)\n",
    "dev_df[\"graph\"] = dev_df[\"graph\"].apply(eval)\n",
    "test_df[\"graph\"] = test_df[\"graph\"].apply(eval)"
   ]
  },
  {
   "cell_type": "code",
   "execution_count": 12,
   "id": "193fa16e",
   "metadata": {
    "execution": {
     "iopub.execute_input": "2024-05-06T14:52:59.501337Z",
     "iopub.status.busy": "2024-05-06T14:52:59.501015Z",
     "iopub.status.idle": "2024-05-06T14:52:59.515999Z",
     "shell.execute_reply": "2024-05-06T14:52:59.515149Z"
    },
    "id": "uzhlVBQ9bFy4",
    "outputId": "56bb9b19-1c23-417f-c7ea-1043efa2bdc6",
    "papermill": {
     "duration": 0.049111,
     "end_time": "2024-05-06T14:52:59.517882",
     "exception": false,
     "start_time": "2024-05-06T14:52:59.468771",
     "status": "completed"
    },
    "tags": []
   },
   "outputs": [
    {
     "data": {
      "text/html": [
       "<div>\n",
       "<style scoped>\n",
       "    .dataframe tbody tr th:only-of-type {\n",
       "        vertical-align: middle;\n",
       "    }\n",
       "\n",
       "    .dataframe tbody tr th {\n",
       "        vertical-align: top;\n",
       "    }\n",
       "\n",
       "    .dataframe thead th {\n",
       "        text-align: right;\n",
       "    }\n",
       "</style>\n",
       "<table border=\"1\" class=\"dataframe\">\n",
       "  <thead>\n",
       "    <tr style=\"text-align: right;\">\n",
       "      <th></th>\n",
       "      <th>sample_id</th>\n",
       "      <th>question</th>\n",
       "      <th>questionEntity</th>\n",
       "      <th>answerEntity</th>\n",
       "      <th>groundTruthAnswerEntity</th>\n",
       "      <th>answerEntityId</th>\n",
       "      <th>questionEntityId</th>\n",
       "      <th>groundTruthAnswerEntityId</th>\n",
       "      <th>correct</th>\n",
       "      <th>graph</th>\n",
       "    </tr>\n",
       "  </thead>\n",
       "  <tbody>\n",
       "    <tr>\n",
       "      <th>0</th>\n",
       "      <td>0</td>\n",
       "      <td>Whst is the name of the head of state and highest ranking political and religious authority in Iran?</td>\n",
       "      <td>Iran</td>\n",
       "      <td>Ruhollah Khomeini's return to Iran</td>\n",
       "      <td>Office of the Supreme Leader of Iran</td>\n",
       "      <td>Q7293530</td>\n",
       "      <td>Q794</td>\n",
       "      <td>Q16045000</td>\n",
       "      <td>False</td>\n",
       "      <td>{'nodes': [{'type': 'QUESTIONS_ENTITY', 'name_': 'Q794', 'id': 0, 'label': 'Iran'}, {'type': 'INTERNAL', 'name_': 'Q207991', 'id': 1, 'label': 'Pahlavi dynasty'}, {'type': 'ANSWER_CANDIDATE_ENTITY', 'name_': 'Q7293530', 'id': 2, 'label': \"Ruhollah Khomeini's return to Iran\"}], 'links': [{'name_': 'P17', 'source': 0, 'target': 0, 'label': 'country'}, {'name_': 'P1365', 'source': 0, 'target': 1, 'label': 'replaces'}, {'name_': 'P1366', 'source': 1, 'target': 0, 'label': 'replaced by'}, {'name_': 'P17', 'source': 2, 'target': 1, 'label': 'country'}]}</td>\n",
       "    </tr>\n",
       "  </tbody>\n",
       "</table>\n",
       "</div>"
      ],
      "text/plain": [
       "   sample_id  \\\n",
       "0          0   \n",
       "\n",
       "                                                                                               question  \\\n",
       "0  Whst is the name of the head of state and highest ranking political and religious authority in Iran?   \n",
       "\n",
       "  questionEntity                        answerEntity  \\\n",
       "0           Iran  Ruhollah Khomeini's return to Iran   \n",
       "\n",
       "                groundTruthAnswerEntity answerEntityId questionEntityId  \\\n",
       "0  Office of the Supreme Leader of Iran       Q7293530             Q794   \n",
       "\n",
       "  groundTruthAnswerEntityId  correct  \\\n",
       "0                 Q16045000    False   \n",
       "\n",
       "                                                                                                                                                                                                                                                                                                                                                                                                                                                                                                                                                                       graph  \n",
       "0  {'nodes': [{'type': 'QUESTIONS_ENTITY', 'name_': 'Q794', 'id': 0, 'label': 'Iran'}, {'type': 'INTERNAL', 'name_': 'Q207991', 'id': 1, 'label': 'Pahlavi dynasty'}, {'type': 'ANSWER_CANDIDATE_ENTITY', 'name_': 'Q7293530', 'id': 2, 'label': \"Ruhollah Khomeini's return to Iran\"}], 'links': [{'name_': 'P17', 'source': 0, 'target': 0, 'label': 'country'}, {'name_': 'P1365', 'source': 0, 'target': 1, 'label': 'replaces'}, {'name_': 'P1366', 'source': 1, 'target': 0, 'label': 'replaced by'}, {'name_': 'P17', 'source': 2, 'target': 1, 'label': 'country'}]}  "
      ]
     },
     "execution_count": 12,
     "metadata": {},
     "output_type": "execute_result"
    }
   ],
   "source": [
    "data_df.head(1)"
   ]
  },
  {
   "cell_type": "code",
   "execution_count": 13,
   "id": "897639e3",
   "metadata": {
    "execution": {
     "iopub.execute_input": "2024-05-06T14:52:59.581339Z",
     "iopub.status.busy": "2024-05-06T14:52:59.581045Z",
     "iopub.status.idle": "2024-05-06T14:52:59.590923Z",
     "shell.execute_reply": "2024-05-06T14:52:59.590134Z"
    },
    "id": "c_W3umW4fzlk",
    "papermill": {
     "duration": 0.043737,
     "end_time": "2024-05-06T14:52:59.592772",
     "exception": false,
     "start_time": "2024-05-06T14:52:59.549035",
     "status": "completed"
    },
    "tags": []
   },
   "outputs": [],
   "source": [
    "class QuestionAnswerDataset(Dataset):\n",
    "\n",
    "    def __init__(self, df, tokenizer, max_length, context_key=\"answerEntity\",\n",
    "                 tokenizer_truncation=\"only_first\", graph_length=\"length\", graph_density=\"density\"):\n",
    "        super(QuestionAnswerDataset).__init__()\n",
    "\n",
    "        self.questions = df.question.values\n",
    "        self.contexts = df[context_key].values\n",
    "        self.graph_length = df[graph_length].values\n",
    "        self.graph_density = df[graph_density].values\n",
    "        self.labels = torch.tensor(df.label.values, dtype=torch.float32)\n",
    "        self.tokenizer = tokenizer\n",
    "        self.max_length = max_length\n",
    "        self.tokenized_input = [tokenizer.encode_plus(x, y,\n",
    "                              max_length=self.max_length,\n",
    "                              padding=\"max_length\",\n",
    "                              truncation=tokenizer_truncation,\n",
    "                              return_tensors=\"pt\", ) \\\n",
    "                          for x, y in zip(self.questions,\n",
    "                                          self.contexts)]\n",
    "        assert len(self.questions) == len(self.contexts) == len(self.labels)\n",
    "\n",
    "    def __len__(self):\n",
    "        return len(self.questions)\n",
    "\n",
    "    def __getitem__(self, idx):\n",
    "        return {\n",
    "                \"input_ids\": self.tokenized_input[idx][\"input_ids\"][0],\n",
    "                \"attention_mask\" : self.tokenized_input[idx][\"attention_mask\"][0],\n",
    "                \"labels\": self.labels[idx],\n",
    "                \"graph_length\": self.graph_length[idx],\n",
    "                \"graph_density\": self.graph_density[idx],\n",
    "                }"
   ]
  },
  {
   "cell_type": "markdown",
   "id": "b66451e4",
   "metadata": {
    "id": "QVT2Urzeb2KD",
    "papermill": {
     "duration": 0.031084,
     "end_time": "2024-05-06T14:52:59.654953",
     "exception": false,
     "start_time": "2024-05-06T14:52:59.623869",
     "status": "completed"
    },
    "tags": []
   },
   "source": [
    "# Graph Linearization"
   ]
  },
  {
   "cell_type": "code",
   "execution_count": 14,
   "id": "6ea05fa6",
   "metadata": {
    "execution": {
     "iopub.execute_input": "2024-05-06T14:52:59.719923Z",
     "iopub.status.busy": "2024-05-06T14:52:59.719656Z",
     "iopub.status.idle": "2024-05-06T14:53:02.723435Z",
     "shell.execute_reply": "2024-05-06T14:53:02.722696Z"
    },
    "id": "oGwpaX9pbH1w",
    "outputId": "7c62da4d-7bf4-4a9f-d582-b10b9c0073c9",
    "papermill": {
     "duration": 3.03898,
     "end_time": "2024-05-06T14:53:02.725550",
     "exception": false,
     "start_time": "2024-05-06T14:52:59.686570",
     "status": "completed"
    },
    "tags": []
   },
   "outputs": [
    {
     "data": {
      "application/vnd.jupyter.widget-view+json": {
       "model_id": "549b43dcffed478c96a43ceb4b09f804",
       "version_major": 2,
       "version_minor": 0
      },
      "text/plain": [
       "tokenizer_config.json:   0%|          | 0.00/350 [00:00<?, ?B/s]"
      ]
     },
     "metadata": {},
     "output_type": "display_data"
    },
    {
     "data": {
      "application/vnd.jupyter.widget-view+json": {
       "model_id": "638ee964574c4bf5938b71b66c54f751",
       "version_major": 2,
       "version_minor": 0
      },
      "text/plain": [
       "vocab.txt:   0%|          | 0.00/232k [00:00<?, ?B/s]"
      ]
     },
     "metadata": {},
     "output_type": "display_data"
    },
    {
     "data": {
      "application/vnd.jupyter.widget-view+json": {
       "model_id": "5bad64c4969c4ef28ac6f8a156382135",
       "version_major": 2,
       "version_minor": 0
      },
      "text/plain": [
       "tokenizer.json:   0%|          | 0.00/466k [00:00<?, ?B/s]"
      ]
     },
     "metadata": {},
     "output_type": "display_data"
    },
    {
     "data": {
      "application/vnd.jupyter.widget-view+json": {
       "model_id": "e19d671f92ec423c90246e71edc78d91",
       "version_major": 2,
       "version_minor": 0
      },
      "text/plain": [
       "special_tokens_map.json:   0%|          | 0.00/112 [00:00<?, ?B/s]"
      ]
     },
     "metadata": {},
     "output_type": "display_data"
    }
   ],
   "source": [
    "model_name=\"sentence-transformers/all-MiniLM-L6-v2\"\n",
    "tokenizer = AutoTokenizer.from_pretrained(model_name)\n",
    "SEP_TOKEN = tokenizer.sep_token"
   ]
  },
  {
   "cell_type": "code",
   "execution_count": 15,
   "id": "fe8967f9",
   "metadata": {
    "execution": {
     "iopub.execute_input": "2024-05-06T14:53:02.792023Z",
     "iopub.status.busy": "2024-05-06T14:53:02.791744Z",
     "iopub.status.idle": "2024-05-06T14:53:02.801745Z",
     "shell.execute_reply": "2024-05-06T14:53:02.800919Z"
    },
    "id": "e1ORIdQmb9RF",
    "papermill": {
     "duration": 0.045694,
     "end_time": "2024-05-06T14:53:02.803637",
     "exception": false,
     "start_time": "2024-05-06T14:53:02.757943",
     "status": "completed"
    },
    "tags": []
   },
   "outputs": [],
   "source": [
    "# {'directed': True, 'multigraph': False, 'graph': {},\n",
    "# 'nodes': [{'type': 'QUESTIONS_ENTITY', 'name_': 'Q49', 'id': 0, 'label': 'North America'},\n",
    "# {'type': 'ANSWER_CANDIDATE_ENTITY', 'name_': 'Q194057', 'id': 1, 'label': 'Mount Rainier'}],\n",
    "# 'links': [{'name_': 'P30', 'source': 1, 'target': 0, 'label': 'continent'}]}\n",
    "def linearize_graph(graph_dict):\n",
    "    graph_dict = graph_dict[\"graph\"]\n",
    "\n",
    "    nodes = sorted((node_dict for node_dict in graph_dict[\"nodes\"]), key=lambda d:d[\"id\"])\n",
    "\n",
    "    len_nodes = len(nodes)\n",
    "    len_links = len(graph_dict[\"links\"])\n",
    "    if len_nodes > 1:\n",
    "        kn_density =  len_links / (len_nodes * (len_nodes - 1))\n",
    "    else:\n",
    "        kn_density =  len_links / (len_nodes * (len_nodes))\n",
    "\n",
    "\n",
    "    for n_id, node_dict in enumerate(nodes):\n",
    "        assert n_id == node_dict[\"id\"]\n",
    "    src_node_id2links = {}\n",
    "\n",
    "    for link_dict in graph_dict[\"links\"]:\n",
    "\n",
    "        link_src =  link_dict[\"source\"]\n",
    "\n",
    "        if src_node_id2links.get(link_src) is None:\n",
    "            src_node_id2links[link_src] = []\n",
    "        src_node_id2links[link_src].append(link_dict)\n",
    "\n",
    "    graph_s = \"\"\n",
    "\n",
    "    for n_id, node_dict in enumerate(nodes):\n",
    "        links = src_node_id2links.get(n_id, list())\n",
    "        start_label = node_dict[\"label\"]\n",
    "        if node_dict[\"type\"] == \"ANSWER_CANDIDATE_ENTITY\":\n",
    "            start_label = f\"{SEP_TOKEN} {start_label} {SEP_TOKEN}\"\n",
    "        for link_dict in links:\n",
    "            target_label = nodes[link_dict[\"target\"]][\"label\"]\n",
    "            if nodes[link_dict[\"target\"]][\"type\"] == \"ANSWER_CANDIDATE_ENTITY\":\n",
    "                target_label = f\"{SEP_TOKEN} {target_label} {SEP_TOKEN}\"\n",
    "            link_s = f\" {start_label}, {link_dict['label']}, {target_label} \"\n",
    "\n",
    "            graph_s += link_s\n",
    "        # graph_s += node_dict[\"label\"]\n",
    "        # if n_id != len(nodes) - 1:\n",
    "        #     link_label = link[\"label\"]\n",
    "        #     graph_s += link_label\n",
    "    #print('--------')\n",
    "    return graph_s, len_nodes, kn_density"
   ]
  },
  {
   "cell_type": "code",
   "execution_count": 16,
   "id": "c6c2e225",
   "metadata": {
    "execution": {
     "iopub.execute_input": "2024-05-06T14:53:02.868617Z",
     "iopub.status.busy": "2024-05-06T14:53:02.868349Z",
     "iopub.status.idle": "2024-05-06T14:53:02.886469Z",
     "shell.execute_reply": "2024-05-06T14:53:02.885450Z"
    },
    "id": "fCTT-gMIh6XI",
    "outputId": "f82ed75b-7c7f-47b7-bf9d-4158210356fb",
    "papermill": {
     "duration": 0.052962,
     "end_time": "2024-05-06T14:53:02.888356",
     "exception": false,
     "start_time": "2024-05-06T14:53:02.835394",
     "status": "completed"
    },
    "tags": []
   },
   "outputs": [
    {
     "data": {
      "text/html": [
       "<div>\n",
       "<style scoped>\n",
       "    .dataframe tbody tr th:only-of-type {\n",
       "        vertical-align: middle;\n",
       "    }\n",
       "\n",
       "    .dataframe tbody tr th {\n",
       "        vertical-align: top;\n",
       "    }\n",
       "\n",
       "    .dataframe thead th {\n",
       "        text-align: right;\n",
       "    }\n",
       "</style>\n",
       "<table border=\"1\" class=\"dataframe\">\n",
       "  <thead>\n",
       "    <tr style=\"text-align: right;\">\n",
       "      <th></th>\n",
       "      <th>sample_id</th>\n",
       "      <th>question</th>\n",
       "      <th>questionEntity</th>\n",
       "      <th>answerEntity</th>\n",
       "      <th>groundTruthAnswerEntity</th>\n",
       "      <th>answerEntityId</th>\n",
       "      <th>questionEntityId</th>\n",
       "      <th>groundTruthAnswerEntityId</th>\n",
       "      <th>correct</th>\n",
       "      <th>graph</th>\n",
       "      <th>label</th>\n",
       "    </tr>\n",
       "  </thead>\n",
       "  <tbody>\n",
       "    <tr>\n",
       "      <th>0</th>\n",
       "      <td>0</td>\n",
       "      <td>Whst is the name of the head of state and highest ranking political and religious authority in Iran?</td>\n",
       "      <td>Iran</td>\n",
       "      <td>Ruhollah Khomeini's return to Iran</td>\n",
       "      <td>Office of the Supreme Leader of Iran</td>\n",
       "      <td>Q7293530</td>\n",
       "      <td>Q794</td>\n",
       "      <td>Q16045000</td>\n",
       "      <td>False</td>\n",
       "      <td>{'nodes': [{'type': 'QUESTIONS_ENTITY', 'name_': 'Q794', 'id': 0, 'label': 'Iran'}, {'type': 'INTERNAL', 'name_': 'Q207991', 'id': 1, 'label': 'Pahlavi dynasty'}, {'type': 'ANSWER_CANDIDATE_ENTITY', 'name_': 'Q7293530', 'id': 2, 'label': 'Ruhollah Khomeini's return to Iran'}], 'links': [{'name_': 'P17', 'source': 0, 'target': 0, 'label': 'country'}, {'name_': 'P1365', 'source': 0, 'target': 1, 'label': 'replaces'}, {'name_': 'P1366', 'source': 1, 'target': 0, 'label': 'replaced by'}, {'name_': 'P17', 'source': 2, 'target': 1, 'label': 'country'}]}</td>\n",
       "      <td>0.0</td>\n",
       "    </tr>\n",
       "  </tbody>\n",
       "</table>\n",
       "</div>"
      ],
      "text/plain": [
       "   sample_id  \\\n",
       "0          0   \n",
       "\n",
       "                                                                                               question  \\\n",
       "0  Whst is the name of the head of state and highest ranking political and religious authority in Iran?   \n",
       "\n",
       "  questionEntity                        answerEntity  \\\n",
       "0           Iran  Ruhollah Khomeini's return to Iran   \n",
       "\n",
       "                groundTruthAnswerEntity answerEntityId questionEntityId  \\\n",
       "0  Office of the Supreme Leader of Iran       Q7293530             Q794   \n",
       "\n",
       "  groundTruthAnswerEntityId  correct  \\\n",
       "0                 Q16045000    False   \n",
       "\n",
       "                                                                                                                                                                                                                                                                                                                                                                                                                                                                                                                                                                       graph  \\\n",
       "0  {'nodes': [{'type': 'QUESTIONS_ENTITY', 'name_': 'Q794', 'id': 0, 'label': 'Iran'}, {'type': 'INTERNAL', 'name_': 'Q207991', 'id': 1, 'label': 'Pahlavi dynasty'}, {'type': 'ANSWER_CANDIDATE_ENTITY', 'name_': 'Q7293530', 'id': 2, 'label': 'Ruhollah Khomeini's return to Iran'}], 'links': [{'name_': 'P17', 'source': 0, 'target': 0, 'label': 'country'}, {'name_': 'P1365', 'source': 0, 'target': 1, 'label': 'replaces'}, {'name_': 'P1366', 'source': 1, 'target': 0, 'label': 'replaced by'}, {'name_': 'P17', 'source': 2, 'target': 1, 'label': 'country'}]}   \n",
       "\n",
       "   label  \n",
       "0    0.0  "
      ]
     },
     "execution_count": 16,
     "metadata": {},
     "output_type": "execute_result"
    }
   ],
   "source": [
    "train_df.head(1)"
   ]
  },
  {
   "cell_type": "code",
   "execution_count": 17,
   "id": "01bc9ee9",
   "metadata": {
    "execution": {
     "iopub.execute_input": "2024-05-06T14:53:02.954340Z",
     "iopub.status.busy": "2024-05-06T14:53:02.954030Z",
     "iopub.status.idle": "2024-05-06T14:53:02.961147Z",
     "shell.execute_reply": "2024-05-06T14:53:02.960304Z"
    },
    "id": "oNUxHj0zhWz-",
    "outputId": "3f2af0cb-3191-4286-9414-e2ed24e9e07a",
    "papermill": {
     "duration": 0.042578,
     "end_time": "2024-05-06T14:53:02.962921",
     "exception": false,
     "start_time": "2024-05-06T14:53:02.920343",
     "status": "completed"
    },
    "tags": []
   },
   "outputs": [
    {
     "data": {
      "text/plain": [
       "{'nodes': [{'type': 'QUESTIONS_ENTITY',\n",
       "   'name_': 'Q794',\n",
       "   'id': 0,\n",
       "   'label': 'Iran'},\n",
       "  {'type': 'INTERNAL',\n",
       "   'name_': 'Q207991',\n",
       "   'id': 1,\n",
       "   'label': 'Pahlavi dynasty'},\n",
       "  {'type': 'ANSWER_CANDIDATE_ENTITY',\n",
       "   'name_': 'Q7293530',\n",
       "   'id': 2,\n",
       "   'label': \"Ruhollah Khomeini's return to Iran\"}],\n",
       " 'links': [{'name_': 'P17', 'source': 0, 'target': 0, 'label': 'country'},\n",
       "  {'name_': 'P1365', 'source': 0, 'target': 1, 'label': 'replaces'},\n",
       "  {'name_': 'P1366', 'source': 1, 'target': 0, 'label': 'replaced by'},\n",
       "  {'name_': 'P17', 'source': 2, 'target': 1, 'label': 'country'}]}"
      ]
     },
     "execution_count": 17,
     "metadata": {},
     "output_type": "execute_result"
    }
   ],
   "source": [
    "train_df[\"graph\"][0]"
   ]
  },
  {
   "cell_type": "code",
   "execution_count": 18,
   "id": "f022a27f",
   "metadata": {
    "execution": {
     "iopub.execute_input": "2024-05-06T14:53:03.028387Z",
     "iopub.status.busy": "2024-05-06T14:53:03.028135Z",
     "iopub.status.idle": "2024-05-06T14:53:04.162770Z",
     "shell.execute_reply": "2024-05-06T14:53:04.161848Z"
    },
    "id": "ZFOuz8WScbCA",
    "outputId": "f15497df-a0da-4b41-bdad-6729f18c60f9",
    "papermill": {
     "duration": 1.169652,
     "end_time": "2024-05-06T14:53:04.164974",
     "exception": false,
     "start_time": "2024-05-06T14:53:02.995322",
     "status": "completed"
    },
    "tags": []
   },
   "outputs": [
    {
     "name": "stderr",
     "output_type": "stream",
     "text": [
      "/tmp/ipykernel_24/648362694.py:1: SettingWithCopyWarning: \n",
      "A value is trying to be set on a copy of a slice from a DataFrame.\n",
      "Try using .loc[row_indexer,col_indexer] = value instead\n",
      "\n",
      "See the caveats in the documentation: https://pandas.pydata.org/pandas-docs/stable/user_guide/indexing.html#returning-a-view-versus-a-copy\n",
      "  train_df[\"linearized_graph\"], train_df[\"length\"], train_df[\"density\"] = zip(*train_df.apply(linearize_graph, axis=1))\n",
      "/tmp/ipykernel_24/648362694.py:1: SettingWithCopyWarning: \n",
      "A value is trying to be set on a copy of a slice from a DataFrame.\n",
      "Try using .loc[row_indexer,col_indexer] = value instead\n",
      "\n",
      "See the caveats in the documentation: https://pandas.pydata.org/pandas-docs/stable/user_guide/indexing.html#returning-a-view-versus-a-copy\n",
      "  train_df[\"linearized_graph\"], train_df[\"length\"], train_df[\"density\"] = zip(*train_df.apply(linearize_graph, axis=1))\n",
      "/tmp/ipykernel_24/648362694.py:1: SettingWithCopyWarning: \n",
      "A value is trying to be set on a copy of a slice from a DataFrame.\n",
      "Try using .loc[row_indexer,col_indexer] = value instead\n",
      "\n",
      "See the caveats in the documentation: https://pandas.pydata.org/pandas-docs/stable/user_guide/indexing.html#returning-a-view-versus-a-copy\n",
      "  train_df[\"linearized_graph\"], train_df[\"length\"], train_df[\"density\"] = zip(*train_df.apply(linearize_graph, axis=1))\n",
      "/tmp/ipykernel_24/648362694.py:2: SettingWithCopyWarning: \n",
      "A value is trying to be set on a copy of a slice from a DataFrame.\n",
      "Try using .loc[row_indexer,col_indexer] = value instead\n",
      "\n",
      "See the caveats in the documentation: https://pandas.pydata.org/pandas-docs/stable/user_guide/indexing.html#returning-a-view-versus-a-copy\n",
      "  dev_df[\"linearized_graph\"], dev_df[\"length\"], dev_df[\"density\"] = zip(*dev_df.apply(linearize_graph, axis=1))\n",
      "/tmp/ipykernel_24/648362694.py:2: SettingWithCopyWarning: \n",
      "A value is trying to be set on a copy of a slice from a DataFrame.\n",
      "Try using .loc[row_indexer,col_indexer] = value instead\n",
      "\n",
      "See the caveats in the documentation: https://pandas.pydata.org/pandas-docs/stable/user_guide/indexing.html#returning-a-view-versus-a-copy\n",
      "  dev_df[\"linearized_graph\"], dev_df[\"length\"], dev_df[\"density\"] = zip(*dev_df.apply(linearize_graph, axis=1))\n",
      "/tmp/ipykernel_24/648362694.py:2: SettingWithCopyWarning: \n",
      "A value is trying to be set on a copy of a slice from a DataFrame.\n",
      "Try using .loc[row_indexer,col_indexer] = value instead\n",
      "\n",
      "See the caveats in the documentation: https://pandas.pydata.org/pandas-docs/stable/user_guide/indexing.html#returning-a-view-versus-a-copy\n",
      "  dev_df[\"linearized_graph\"], dev_df[\"length\"], dev_df[\"density\"] = zip(*dev_df.apply(linearize_graph, axis=1))\n",
      "/tmp/ipykernel_24/648362694.py:3: SettingWithCopyWarning: \n",
      "A value is trying to be set on a copy of a slice from a DataFrame.\n",
      "Try using .loc[row_indexer,col_indexer] = value instead\n",
      "\n",
      "See the caveats in the documentation: https://pandas.pydata.org/pandas-docs/stable/user_guide/indexing.html#returning-a-view-versus-a-copy\n",
      "  test_df[\"linearized_graph\"], test_df[\"length\"], test_df[\"density\"] = zip(*test_df.apply(linearize_graph, axis=1))\n",
      "/tmp/ipykernel_24/648362694.py:3: SettingWithCopyWarning: \n",
      "A value is trying to be set on a copy of a slice from a DataFrame.\n",
      "Try using .loc[row_indexer,col_indexer] = value instead\n",
      "\n",
      "See the caveats in the documentation: https://pandas.pydata.org/pandas-docs/stable/user_guide/indexing.html#returning-a-view-versus-a-copy\n",
      "  test_df[\"linearized_graph\"], test_df[\"length\"], test_df[\"density\"] = zip(*test_df.apply(linearize_graph, axis=1))\n",
      "/tmp/ipykernel_24/648362694.py:3: SettingWithCopyWarning: \n",
      "A value is trying to be set on a copy of a slice from a DataFrame.\n",
      "Try using .loc[row_indexer,col_indexer] = value instead\n",
      "\n",
      "See the caveats in the documentation: https://pandas.pydata.org/pandas-docs/stable/user_guide/indexing.html#returning-a-view-versus-a-copy\n",
      "  test_df[\"linearized_graph\"], test_df[\"length\"], test_df[\"density\"] = zip(*test_df.apply(linearize_graph, axis=1))\n"
     ]
    }
   ],
   "source": [
    "train_df[\"linearized_graph\"], train_df[\"length\"], train_df[\"density\"] = zip(*train_df.apply(linearize_graph, axis=1))\n",
    "dev_df[\"linearized_graph\"], dev_df[\"length\"], dev_df[\"density\"] = zip(*dev_df.apply(linearize_graph, axis=1))\n",
    "test_df[\"linearized_graph\"], test_df[\"length\"], test_df[\"density\"] = zip(*test_df.apply(linearize_graph, axis=1))"
   ]
  },
  {
   "cell_type": "code",
   "execution_count": 19,
   "id": "8bc9f412",
   "metadata": {
    "execution": {
     "iopub.execute_input": "2024-05-06T14:53:04.232584Z",
     "iopub.status.busy": "2024-05-06T14:53:04.232254Z",
     "iopub.status.idle": "2024-05-06T14:53:04.257504Z",
     "shell.execute_reply": "2024-05-06T14:53:04.256684Z"
    },
    "id": "kCPpjo7BZYV1",
    "outputId": "d6af5e78-190e-4556-d358-1ec0aee0f1c7",
    "papermill": {
     "duration": 0.060905,
     "end_time": "2024-05-06T14:53:04.259554",
     "exception": false,
     "start_time": "2024-05-06T14:53:04.198649",
     "status": "completed"
    },
    "tags": []
   },
   "outputs": [
    {
     "data": {
      "text/html": [
       "<div>\n",
       "<style scoped>\n",
       "    .dataframe tbody tr th:only-of-type {\n",
       "        vertical-align: middle;\n",
       "    }\n",
       "\n",
       "    .dataframe tbody tr th {\n",
       "        vertical-align: top;\n",
       "    }\n",
       "\n",
       "    .dataframe thead th {\n",
       "        text-align: right;\n",
       "    }\n",
       "</style>\n",
       "<table border=\"1\" class=\"dataframe\">\n",
       "  <thead>\n",
       "    <tr style=\"text-align: right;\">\n",
       "      <th></th>\n",
       "      <th>sample_id</th>\n",
       "      <th>question</th>\n",
       "      <th>questionEntity</th>\n",
       "      <th>answerEntity</th>\n",
       "      <th>groundTruthAnswerEntity</th>\n",
       "      <th>answerEntityId</th>\n",
       "      <th>questionEntityId</th>\n",
       "      <th>groundTruthAnswerEntityId</th>\n",
       "      <th>correct</th>\n",
       "      <th>graph</th>\n",
       "      <th>label</th>\n",
       "      <th>linearized_graph</th>\n",
       "      <th>length</th>\n",
       "      <th>density</th>\n",
       "    </tr>\n",
       "  </thead>\n",
       "  <tbody>\n",
       "    <tr>\n",
       "      <th>0</th>\n",
       "      <td>0</td>\n",
       "      <td>Whst is the name of the head of state and highest ranking political and religious authority in Iran?</td>\n",
       "      <td>Iran</td>\n",
       "      <td>Ruhollah Khomeini's return to Iran</td>\n",
       "      <td>Office of the Supreme Leader of Iran</td>\n",
       "      <td>Q7293530</td>\n",
       "      <td>Q794</td>\n",
       "      <td>Q16045000</td>\n",
       "      <td>False</td>\n",
       "      <td>{'nodes': [{'type': 'QUESTIONS_ENTITY', 'name_': 'Q794', 'id': 0, 'label': 'Iran'}, {'type': 'INTERNAL', 'name_': 'Q207991', 'id': 1, 'label': 'Pahlavi dynasty'}, {'type': 'ANSWER_CANDIDATE_ENTITY', 'name_': 'Q7293530', 'id': 2, 'label': 'Ruhollah Khomeini's return to Iran'}], 'links': [{'name_': 'P17', 'source': 0, 'target': 0, 'label': 'country'}, {'name_': 'P1365', 'source': 0, 'target': 1, 'label': 'replaces'}, {'name_': 'P1366', 'source': 1, 'target': 0, 'label': 'replaced by'}, {'name_': 'P17', 'source': 2, 'target': 1, 'label': 'country'}]}</td>\n",
       "      <td>0.0</td>\n",
       "      <td>Iran, country, Iran  Iran, replaces, Pahlavi dynasty  Pahlavi dynasty, replaced by, Iran  [SEP] Ruhollah Khomeini's return to Iran [SEP], country, Pahlavi dynasty</td>\n",
       "      <td>3</td>\n",
       "      <td>0.666667</td>\n",
       "    </tr>\n",
       "    <tr>\n",
       "      <th>1</th>\n",
       "      <td>1</td>\n",
       "      <td>Whst is the name of the head of state and highest ranking political and religious authority in Iran?</td>\n",
       "      <td>Iran</td>\n",
       "      <td>Ruhollah Khomeini's letter to Mikhail Gorbachev</td>\n",
       "      <td>Office of the Supreme Leader of Iran</td>\n",
       "      <td>Q5952984</td>\n",
       "      <td>Q794</td>\n",
       "      <td>Q16045000</td>\n",
       "      <td>False</td>\n",
       "      <td>{'nodes': [{'type': 'INTERNAL', 'name_': 'Q4173137', 'id': 0, 'label': 'Jewish Encyclopedia of Brockhaus and Efron'}, {'type': 'QUESTIONS_ENTITY', 'name_': 'Q794', 'id': 1, 'label': 'Iran'}, {'type': 'INTERNAL', 'name_': 'Q47461344', 'id': 2, 'label': 'written work'}, {'type': 'INTERNAL', 'name_': 'Q133492', 'id': 3, 'label': 'letter'}, {'type': 'INTERNAL', 'name_': 'Q1030940', 'id': 4, 'label': 'The Book of Healing'}, {'type': 'ANSWER_CANDIDATE_ENTITY', 'name_': 'Q5952984', 'id': 5, 'label': 'Ruhollah Khomeini's letter to Mikhail Gorbachev'}], 'links': [{'name_': 'P1343', 'source': 1, 'target': 0, 'label': 'described by source'}, {'name_': 'P17', 'source': 1, 'target': 1, 'label': 'country'}, {'name_': 'P1343', 'source': 3, 'target': 0, 'label': 'described by source'}, {'name_': 'P279', 'source': 3, 'target': 2, 'label': 'subclass of'}, {'name_': 'P495', 'source': 4, 'target': 1, 'label': 'country of origin'}, {'name_': 'P31', 'source': 4, 'target': 2, 'label': 'instance of'}, {'name_': 'P31', 'source': 5, 'target': 2, 'label': 'instance of'}, {'name_': 'P31', 'source': 5, 'target': 3, 'label': 'instance of'}]}</td>\n",
       "      <td>0.0</td>\n",
       "      <td>Iran, described by source, Jewish Encyclopedia of Brockhaus and Efron  Iran, country, Iran  letter, described by source, Jewish Encyclopedia of Brockhaus and Efron  letter, subclass of, written work  The Book of Healing, country of origin, Iran  The Book of Healing, instance of, written work  [SEP] Ruhollah Khomeini's letter to Mikhail Gorbachev [SEP], instance of, written work  [SEP] Ruhollah Khomeini's letter to Mikhail Gorbachev [SEP], instance of, letter</td>\n",
       "      <td>6</td>\n",
       "      <td>0.266667</td>\n",
       "    </tr>\n",
       "  </tbody>\n",
       "</table>\n",
       "</div>"
      ],
      "text/plain": [
       "   sample_id  \\\n",
       "0          0   \n",
       "1          1   \n",
       "\n",
       "                                                                                               question  \\\n",
       "0  Whst is the name of the head of state and highest ranking political and religious authority in Iran?   \n",
       "1  Whst is the name of the head of state and highest ranking political and religious authority in Iran?   \n",
       "\n",
       "  questionEntity                                     answerEntity  \\\n",
       "0           Iran               Ruhollah Khomeini's return to Iran   \n",
       "1           Iran  Ruhollah Khomeini's letter to Mikhail Gorbachev   \n",
       "\n",
       "                groundTruthAnswerEntity answerEntityId questionEntityId  \\\n",
       "0  Office of the Supreme Leader of Iran       Q7293530             Q794   \n",
       "1  Office of the Supreme Leader of Iran       Q5952984             Q794   \n",
       "\n",
       "  groundTruthAnswerEntityId  correct  \\\n",
       "0                 Q16045000    False   \n",
       "1                 Q16045000    False   \n",
       "\n",
       "                                                                                                                                                                                                                                                                                                                                                                                                                                                                                                                                                                                                                                                                                                                                                                                                                                                                                                                                                                                                                                                                                                                                                                       graph  \\\n",
       "0                                                                                                                                                                                                                                                                                                                                                                                                                                                                                                                                                                                                  {'nodes': [{'type': 'QUESTIONS_ENTITY', 'name_': 'Q794', 'id': 0, 'label': 'Iran'}, {'type': 'INTERNAL', 'name_': 'Q207991', 'id': 1, 'label': 'Pahlavi dynasty'}, {'type': 'ANSWER_CANDIDATE_ENTITY', 'name_': 'Q7293530', 'id': 2, 'label': 'Ruhollah Khomeini's return to Iran'}], 'links': [{'name_': 'P17', 'source': 0, 'target': 0, 'label': 'country'}, {'name_': 'P1365', 'source': 0, 'target': 1, 'label': 'replaces'}, {'name_': 'P1366', 'source': 1, 'target': 0, 'label': 'replaced by'}, {'name_': 'P17', 'source': 2, 'target': 1, 'label': 'country'}]}   \n",
       "1  {'nodes': [{'type': 'INTERNAL', 'name_': 'Q4173137', 'id': 0, 'label': 'Jewish Encyclopedia of Brockhaus and Efron'}, {'type': 'QUESTIONS_ENTITY', 'name_': 'Q794', 'id': 1, 'label': 'Iran'}, {'type': 'INTERNAL', 'name_': 'Q47461344', 'id': 2, 'label': 'written work'}, {'type': 'INTERNAL', 'name_': 'Q133492', 'id': 3, 'label': 'letter'}, {'type': 'INTERNAL', 'name_': 'Q1030940', 'id': 4, 'label': 'The Book of Healing'}, {'type': 'ANSWER_CANDIDATE_ENTITY', 'name_': 'Q5952984', 'id': 5, 'label': 'Ruhollah Khomeini's letter to Mikhail Gorbachev'}], 'links': [{'name_': 'P1343', 'source': 1, 'target': 0, 'label': 'described by source'}, {'name_': 'P17', 'source': 1, 'target': 1, 'label': 'country'}, {'name_': 'P1343', 'source': 3, 'target': 0, 'label': 'described by source'}, {'name_': 'P279', 'source': 3, 'target': 2, 'label': 'subclass of'}, {'name_': 'P495', 'source': 4, 'target': 1, 'label': 'country of origin'}, {'name_': 'P31', 'source': 4, 'target': 2, 'label': 'instance of'}, {'name_': 'P31', 'source': 5, 'target': 2, 'label': 'instance of'}, {'name_': 'P31', 'source': 5, 'target': 3, 'label': 'instance of'}]}   \n",
       "\n",
       "   label  \\\n",
       "0    0.0   \n",
       "1    0.0   \n",
       "\n",
       "                                                                                                                                                                                                                                                                                                                                                                                                                                                                   linearized_graph  \\\n",
       "0                                                                                                                                                                                                                                                                                                               Iran, country, Iran  Iran, replaces, Pahlavi dynasty  Pahlavi dynasty, replaced by, Iran  [SEP] Ruhollah Khomeini's return to Iran [SEP], country, Pahlavi dynasty    \n",
       "1   Iran, described by source, Jewish Encyclopedia of Brockhaus and Efron  Iran, country, Iran  letter, described by source, Jewish Encyclopedia of Brockhaus and Efron  letter, subclass of, written work  The Book of Healing, country of origin, Iran  The Book of Healing, instance of, written work  [SEP] Ruhollah Khomeini's letter to Mikhail Gorbachev [SEP], instance of, written work  [SEP] Ruhollah Khomeini's letter to Mikhail Gorbachev [SEP], instance of, letter    \n",
       "\n",
       "   length   density  \n",
       "0       3  0.666667  \n",
       "1       6  0.266667  "
      ]
     },
     "execution_count": 19,
     "metadata": {},
     "output_type": "execute_result"
    }
   ],
   "source": [
    "train_df.head(2)"
   ]
  },
  {
   "cell_type": "markdown",
   "id": "45bbd011",
   "metadata": {
    "id": "aeBLPtJJjMsE",
    "papermill": {
     "duration": 0.032502,
     "end_time": "2024-05-06T14:53:04.324694",
     "exception": false,
     "start_time": "2024-05-06T14:53:04.292192",
     "status": "completed"
    },
    "tags": []
   },
   "source": [
    "# Data exploration"
   ]
  },
  {
   "cell_type": "code",
   "execution_count": 20,
   "id": "372fa8f5",
   "metadata": {
    "execution": {
     "iopub.execute_input": "2024-05-06T14:53:04.390990Z",
     "iopub.status.busy": "2024-05-06T14:53:04.390704Z",
     "iopub.status.idle": "2024-05-06T14:53:04.404650Z",
     "shell.execute_reply": "2024-05-06T14:53:04.403786Z"
    },
    "id": "AieelVfeh3PI",
    "outputId": "37f6239c-29e3-49e9-bbe9-af101f5441aa",
    "papermill": {
     "duration": 0.049211,
     "end_time": "2024-05-06T14:53:04.406479",
     "exception": false,
     "start_time": "2024-05-06T14:53:04.357268",
     "status": "completed"
    },
    "tags": []
   },
   "outputs": [
    {
     "data": {
      "text/html": [
       "<div>\n",
       "<style scoped>\n",
       "    .dataframe tbody tr th:only-of-type {\n",
       "        vertical-align: middle;\n",
       "    }\n",
       "\n",
       "    .dataframe tbody tr th {\n",
       "        vertical-align: top;\n",
       "    }\n",
       "\n",
       "    .dataframe thead th {\n",
       "        text-align: right;\n",
       "    }\n",
       "</style>\n",
       "<table border=\"1\" class=\"dataframe\">\n",
       "  <thead>\n",
       "    <tr style=\"text-align: right;\">\n",
       "      <th></th>\n",
       "      <th>correct</th>\n",
       "      <th>length</th>\n",
       "      <th>density</th>\n",
       "    </tr>\n",
       "  </thead>\n",
       "  <tbody>\n",
       "    <tr>\n",
       "      <th>0</th>\n",
       "      <td>False</td>\n",
       "      <td>3</td>\n",
       "      <td>0.666667</td>\n",
       "    </tr>\n",
       "    <tr>\n",
       "      <th>1</th>\n",
       "      <td>False</td>\n",
       "      <td>6</td>\n",
       "      <td>0.266667</td>\n",
       "    </tr>\n",
       "    <tr>\n",
       "      <th>2</th>\n",
       "      <td>False</td>\n",
       "      <td>2</td>\n",
       "      <td>1.500000</td>\n",
       "    </tr>\n",
       "  </tbody>\n",
       "</table>\n",
       "</div>"
      ],
      "text/plain": [
       "   correct  length   density\n",
       "0    False       3  0.666667\n",
       "1    False       6  0.266667\n",
       "2    False       2  1.500000"
      ]
     },
     "execution_count": 20,
     "metadata": {},
     "output_type": "execute_result"
    }
   ],
   "source": [
    "train_exploration_df = pd.DataFrame()\n",
    "train_exploration_df[\"correct\"], train_exploration_df[\"length\"], train_exploration_df[\"density\"] = train_df[\"correct\"], train_df[\"length\"], train_df[\"density\"]\n",
    "train_exploration_df.head(3)"
   ]
  },
  {
   "cell_type": "code",
   "execution_count": 21,
   "id": "dc4b8b8e",
   "metadata": {
    "execution": {
     "iopub.execute_input": "2024-05-06T14:53:04.474708Z",
     "iopub.status.busy": "2024-05-06T14:53:04.474434Z",
     "iopub.status.idle": "2024-05-06T14:53:05.144748Z",
     "shell.execute_reply": "2024-05-06T14:53:05.143838Z"
    },
    "id": "Sy3IulTSih2b",
    "outputId": "101647b9-afd1-40bc-fcd0-396e185da53d",
    "papermill": {
     "duration": 0.707922,
     "end_time": "2024-05-06T14:53:05.147197",
     "exception": false,
     "start_time": "2024-05-06T14:53:04.439275",
     "status": "completed"
    },
    "tags": []
   },
   "outputs": [
    {
     "data": {
      "text/plain": [
       "array([[<Axes: title={'center': 'length'}>,\n",
       "        <Axes: title={'center': 'density'}>]], dtype=object)"
      ]
     },
     "execution_count": 21,
     "metadata": {},
     "output_type": "execute_result"
    },
    {
     "data": {
      "image/png": "[encoded data removed]",
      "text/plain": [
       "<Figure size 1600x1200 with 2 Axes>"
      ]
     },
     "metadata": {},
     "output_type": "display_data"
    }
   ],
   "source": [
    "train_exploration_df.hist()"
   ]
  },
  {
   "cell_type": "code",
   "execution_count": 22,
   "id": "c92ea532",
   "metadata": {
    "execution": {
     "iopub.execute_input": "2024-05-06T14:53:05.217129Z",
     "iopub.status.busy": "2024-05-06T14:53:05.216804Z",
     "iopub.status.idle": "2024-05-06T14:53:05.229464Z",
     "shell.execute_reply": "2024-05-06T14:53:05.228600Z"
    },
    "id": "dJHkcmpWjPfU",
    "outputId": "80f30368-c906-415b-c89b-ee1ea128578e",
    "papermill": {
     "duration": 0.050078,
     "end_time": "2024-05-06T14:53:05.231533",
     "exception": false,
     "start_time": "2024-05-06T14:53:05.181455",
     "status": "completed"
    },
    "tags": []
   },
   "outputs": [
    {
     "data": {
      "text/html": [
       "<div>\n",
       "<style scoped>\n",
       "    .dataframe tbody tr th:only-of-type {\n",
       "        vertical-align: middle;\n",
       "    }\n",
       "\n",
       "    .dataframe tbody tr th {\n",
       "        vertical-align: top;\n",
       "    }\n",
       "\n",
       "    .dataframe thead th {\n",
       "        text-align: right;\n",
       "    }\n",
       "</style>\n",
       "<table border=\"1\" class=\"dataframe\">\n",
       "  <thead>\n",
       "    <tr style=\"text-align: right;\">\n",
       "      <th></th>\n",
       "      <th>length</th>\n",
       "      <th>density</th>\n",
       "    </tr>\n",
       "    <tr>\n",
       "      <th>correct</th>\n",
       "      <th></th>\n",
       "      <th></th>\n",
       "    </tr>\n",
       "  </thead>\n",
       "  <tbody>\n",
       "    <tr>\n",
       "      <th>False</th>\n",
       "      <td>3.925680</td>\n",
       "      <td>0.440844</td>\n",
       "    </tr>\n",
       "    <tr>\n",
       "      <th>True</th>\n",
       "      <td>3.086342</td>\n",
       "      <td>0.545361</td>\n",
       "    </tr>\n",
       "  </tbody>\n",
       "</table>\n",
       "</div>"
      ],
      "text/plain": [
       "           length   density\n",
       "correct                    \n",
       "False    3.925680  0.440844\n",
       "True     3.086342  0.545361"
      ]
     },
     "execution_count": 22,
     "metadata": {},
     "output_type": "execute_result"
    }
   ],
   "source": [
    "train_exploration_df.groupby(\"correct\").mean()"
   ]
  },
  {
   "cell_type": "code",
   "execution_count": 23,
   "id": "8cc79d20",
   "metadata": {
    "execution": {
     "iopub.execute_input": "2024-05-06T14:53:05.302661Z",
     "iopub.status.busy": "2024-05-06T14:53:05.302394Z",
     "iopub.status.idle": "2024-05-06T14:53:06.037646Z",
     "shell.execute_reply": "2024-05-06T14:53:06.036613Z"
    },
    "id": "WOIbJl8dj6UO",
    "outputId": "88314e65-8348-4351-c788-616c27fa26fe",
    "papermill": {
     "duration": 0.77308,
     "end_time": "2024-05-06T14:53:06.040581",
     "exception": false,
     "start_time": "2024-05-06T14:53:05.267501",
     "status": "completed"
    },
    "tags": []
   },
   "outputs": [
    {
     "data": {
      "image/png": "[encoded data removed]",
      "text/plain": [
       "<Figure size 1200x800 with 2 Axes>"
      ]
     },
     "metadata": {},
     "output_type": "display_data"
    }
   ],
   "source": [
    "fig, ax = plt.subplots(nrows=1, ncols=2, figsize=(12, 8))\n",
    "\n",
    "ax[0].scatter(train_exploration_df[\"correct\"], train_exploration_df[\"length\"])\n",
    "ax[0].set_xlabel('Correctness')\n",
    "ax[0].set_title('Train Correctness-Length correlation')\n",
    "\n",
    "ax[1].scatter(train_exploration_df[\"correct\"], train_exploration_df[\"density\"])\n",
    "ax[1].set_xlabel('Density')\n",
    "ax[1].set_title('Train Correctness-Densitycorrelation')\n",
    "\n",
    "plt.legend()\n",
    "plt.show()"
   ]
  },
  {
   "cell_type": "code",
   "execution_count": 24,
   "id": "769b80a3",
   "metadata": {
    "execution": {
     "iopub.execute_input": "2024-05-06T14:53:06.122176Z",
     "iopub.status.busy": "2024-05-06T14:53:06.121823Z",
     "iopub.status.idle": "2024-05-06T14:53:06.136430Z",
     "shell.execute_reply": "2024-05-06T14:53:06.135359Z"
    },
    "id": "Dm4d7wmZj6Wa",
    "outputId": "abe57e48-21e6-4805-9ea0-465fcba6154c",
    "papermill": {
     "duration": 0.05689,
     "end_time": "2024-05-06T14:53:06.138595",
     "exception": false,
     "start_time": "2024-05-06T14:53:06.081705",
     "status": "completed"
    },
    "tags": []
   },
   "outputs": [
    {
     "data": {
      "text/html": [
       "<div>\n",
       "<style scoped>\n",
       "    .dataframe tbody tr th:only-of-type {\n",
       "        vertical-align: middle;\n",
       "    }\n",
       "\n",
       "    .dataframe tbody tr th {\n",
       "        vertical-align: top;\n",
       "    }\n",
       "\n",
       "    .dataframe thead th {\n",
       "        text-align: right;\n",
       "    }\n",
       "</style>\n",
       "<table border=\"1\" class=\"dataframe\">\n",
       "  <thead>\n",
       "    <tr style=\"text-align: right;\">\n",
       "      <th></th>\n",
       "      <th>correct</th>\n",
       "      <th>length</th>\n",
       "      <th>density</th>\n",
       "    </tr>\n",
       "  </thead>\n",
       "  <tbody>\n",
       "    <tr>\n",
       "      <th>11</th>\n",
       "      <td>False</td>\n",
       "      <td>2</td>\n",
       "      <td>0.5</td>\n",
       "    </tr>\n",
       "    <tr>\n",
       "      <th>12</th>\n",
       "      <td>False</td>\n",
       "      <td>3</td>\n",
       "      <td>0.5</td>\n",
       "    </tr>\n",
       "    <tr>\n",
       "      <th>13</th>\n",
       "      <td>False</td>\n",
       "      <td>2</td>\n",
       "      <td>0.5</td>\n",
       "    </tr>\n",
       "  </tbody>\n",
       "</table>\n",
       "</div>"
      ],
      "text/plain": [
       "    correct  length  density\n",
       "11    False       2      0.5\n",
       "12    False       3      0.5\n",
       "13    False       2      0.5"
      ]
     },
     "execution_count": 24,
     "metadata": {},
     "output_type": "execute_result"
    }
   ],
   "source": [
    "test_exploration_df = pd.DataFrame()\n",
    "test_exploration_df[\"correct\"], test_exploration_df[\"length\"], test_exploration_df[\"density\"] = test_df[\"correct\"], test_df[\"length\"], test_df[\"density\"]\n",
    "test_exploration_df.head(3)"
   ]
  },
  {
   "cell_type": "code",
   "execution_count": 25,
   "id": "1a8ae2ee",
   "metadata": {
    "execution": {
     "iopub.execute_input": "2024-05-06T14:53:06.217057Z",
     "iopub.status.busy": "2024-05-06T14:53:06.216775Z",
     "iopub.status.idle": "2024-05-06T14:53:06.717165Z",
     "shell.execute_reply": "2024-05-06T14:53:06.716294Z"
    },
    "id": "k6dgNl1wj6ZG",
    "outputId": "9edc29a7-709a-4e55-e515-1711f9daf6f2",
    "papermill": {
     "duration": 0.540815,
     "end_time": "2024-05-06T14:53:06.719491",
     "exception": false,
     "start_time": "2024-05-06T14:53:06.178676",
     "status": "completed"
    },
    "tags": []
   },
   "outputs": [
    {
     "data": {
      "image/png": "[encoded data removed]",
      "text/plain": [
       "<Figure size 1200x800 with 2 Axes>"
      ]
     },
     "metadata": {},
     "output_type": "display_data"
    }
   ],
   "source": [
    "fig, ax = plt.subplots(nrows=1, ncols=2, figsize=(12, 8))\n",
    "\n",
    "ax[0].scatter(test_exploration_df[\"correct\"], test_exploration_df[\"length\"])\n",
    "ax[0].set_xlabel('Correctness')\n",
    "ax[0].set_title('Test Correctness-Length correlation')\n",
    "\n",
    "ax[1].scatter(test_exploration_df[\"correct\"], test_exploration_df[\"density\"])\n",
    "ax[1].set_xlabel('Density')\n",
    "ax[1].set_title('Test Correctness-Densitycorrelation')\n",
    "\n",
    "plt.legend()\n",
    "plt.show()"
   ]
  },
  {
   "cell_type": "code",
   "execution_count": 26,
   "id": "b7a3d18c",
   "metadata": {
    "execution": {
     "iopub.execute_input": "2024-05-06T14:53:06.794990Z",
     "iopub.status.busy": "2024-05-06T14:53:06.794663Z",
     "iopub.status.idle": "2024-05-06T14:53:06.808160Z",
     "shell.execute_reply": "2024-05-06T14:53:06.807239Z"
    },
    "papermill": {
     "duration": 0.052752,
     "end_time": "2024-05-06T14:53:06.810112",
     "exception": false,
     "start_time": "2024-05-06T14:53:06.757360",
     "status": "completed"
    },
    "tags": []
   },
   "outputs": [],
   "source": [
    "experimental_train_df = train_df.drop(train_df[train_df[\"length\"] > 9].index)"
   ]
  },
  {
   "cell_type": "code",
   "execution_count": 27,
   "id": "fb19826c",
   "metadata": {
    "execution": {
     "iopub.execute_input": "2024-05-06T14:53:06.883394Z",
     "iopub.status.busy": "2024-05-06T14:53:06.882811Z",
     "iopub.status.idle": "2024-05-06T14:53:06.908000Z",
     "shell.execute_reply": "2024-05-06T14:53:06.907144Z"
    },
    "papermill": {
     "duration": 0.06384,
     "end_time": "2024-05-06T14:53:06.909998",
     "exception": false,
     "start_time": "2024-05-06T14:53:06.846158",
     "status": "completed"
    },
    "tags": []
   },
   "outputs": [
    {
     "data": {
      "text/html": [
       "<div>\n",
       "<style scoped>\n",
       "    .dataframe tbody tr th:only-of-type {\n",
       "        vertical-align: middle;\n",
       "    }\n",
       "\n",
       "    .dataframe tbody tr th {\n",
       "        vertical-align: top;\n",
       "    }\n",
       "\n",
       "    .dataframe thead th {\n",
       "        text-align: right;\n",
       "    }\n",
       "</style>\n",
       "<table border=\"1\" class=\"dataframe\">\n",
       "  <thead>\n",
       "    <tr style=\"text-align: right;\">\n",
       "      <th></th>\n",
       "      <th>sample_id</th>\n",
       "      <th>question</th>\n",
       "      <th>questionEntity</th>\n",
       "      <th>answerEntity</th>\n",
       "      <th>groundTruthAnswerEntity</th>\n",
       "      <th>answerEntityId</th>\n",
       "      <th>questionEntityId</th>\n",
       "      <th>groundTruthAnswerEntityId</th>\n",
       "      <th>correct</th>\n",
       "      <th>graph</th>\n",
       "      <th>label</th>\n",
       "      <th>linearized_graph</th>\n",
       "      <th>length</th>\n",
       "      <th>density</th>\n",
       "    </tr>\n",
       "  </thead>\n",
       "  <tbody>\n",
       "    <tr>\n",
       "      <th>0</th>\n",
       "      <td>0</td>\n",
       "      <td>Whst is the name of the head of state and highest ranking political and religious authority in Iran?</td>\n",
       "      <td>Iran</td>\n",
       "      <td>Ruhollah Khomeini's return to Iran</td>\n",
       "      <td>Office of the Supreme Leader of Iran</td>\n",
       "      <td>Q7293530</td>\n",
       "      <td>Q794</td>\n",
       "      <td>Q16045000</td>\n",
       "      <td>False</td>\n",
       "      <td>{'nodes': [{'type': 'QUESTIONS_ENTITY', 'name_': 'Q794', 'id': 0, 'label': 'Iran'}, {'type': 'INTERNAL', 'name_': 'Q207991', 'id': 1, 'label': 'Pahlavi dynasty'}, {'type': 'ANSWER_CANDIDATE_ENTITY', 'name_': 'Q7293530', 'id': 2, 'label': 'Ruhollah Khomeini's return to Iran'}], 'links': [{'name_': 'P17', 'source': 0, 'target': 0, 'label': 'country'}, {'name_': 'P1365', 'source': 0, 'target': 1, 'label': 'replaces'}, {'name_': 'P1366', 'source': 1, 'target': 0, 'label': 'replaced by'}, {'name_': 'P17', 'source': 2, 'target': 1, 'label': 'country'}]}</td>\n",
       "      <td>0.0</td>\n",
       "      <td>Iran, country, Iran  Iran, replaces, Pahlavi dynasty  Pahlavi dynasty, replaced by, Iran  [SEP] Ruhollah Khomeini's return to Iran [SEP], country, Pahlavi dynasty</td>\n",
       "      <td>3</td>\n",
       "      <td>0.666667</td>\n",
       "    </tr>\n",
       "    <tr>\n",
       "      <th>1</th>\n",
       "      <td>1</td>\n",
       "      <td>Whst is the name of the head of state and highest ranking political and religious authority in Iran?</td>\n",
       "      <td>Iran</td>\n",
       "      <td>Ruhollah Khomeini's letter to Mikhail Gorbachev</td>\n",
       "      <td>Office of the Supreme Leader of Iran</td>\n",
       "      <td>Q5952984</td>\n",
       "      <td>Q794</td>\n",
       "      <td>Q16045000</td>\n",
       "      <td>False</td>\n",
       "      <td>{'nodes': [{'type': 'INTERNAL', 'name_': 'Q4173137', 'id': 0, 'label': 'Jewish Encyclopedia of Brockhaus and Efron'}, {'type': 'QUESTIONS_ENTITY', 'name_': 'Q794', 'id': 1, 'label': 'Iran'}, {'type': 'INTERNAL', 'name_': 'Q47461344', 'id': 2, 'label': 'written work'}, {'type': 'INTERNAL', 'name_': 'Q133492', 'id': 3, 'label': 'letter'}, {'type': 'INTERNAL', 'name_': 'Q1030940', 'id': 4, 'label': 'The Book of Healing'}, {'type': 'ANSWER_CANDIDATE_ENTITY', 'name_': 'Q5952984', 'id': 5, 'label': 'Ruhollah Khomeini's letter to Mikhail Gorbachev'}], 'links': [{'name_': 'P1343', 'source': 1, 'target': 0, 'label': 'described by source'}, {'name_': 'P17', 'source': 1, 'target': 1, 'label': 'country'}, {'name_': 'P1343', 'source': 3, 'target': 0, 'label': 'described by source'}, {'name_': 'P279', 'source': 3, 'target': 2, 'label': 'subclass of'}, {'name_': 'P495', 'source': 4, 'target': 1, 'label': 'country of origin'}, {'name_': 'P31', 'source': 4, 'target': 2, 'label': 'instance of'}, {'name_': 'P31', 'source': 5, 'target': 2, 'label': 'instance of'}, {'name_': 'P31', 'source': 5, 'target': 3, 'label': 'instance of'}]}</td>\n",
       "      <td>0.0</td>\n",
       "      <td>Iran, described by source, Jewish Encyclopedia of Brockhaus and Efron  Iran, country, Iran  letter, described by source, Jewish Encyclopedia of Brockhaus and Efron  letter, subclass of, written work  The Book of Healing, country of origin, Iran  The Book of Healing, instance of, written work  [SEP] Ruhollah Khomeini's letter to Mikhail Gorbachev [SEP], instance of, written work  [SEP] Ruhollah Khomeini's letter to Mikhail Gorbachev [SEP], instance of, letter</td>\n",
       "      <td>6</td>\n",
       "      <td>0.266667</td>\n",
       "    </tr>\n",
       "  </tbody>\n",
       "</table>\n",
       "</div>"
      ],
      "text/plain": [
       "   sample_id  \\\n",
       "0          0   \n",
       "1          1   \n",
       "\n",
       "                                                                                               question  \\\n",
       "0  Whst is the name of the head of state and highest ranking political and religious authority in Iran?   \n",
       "1  Whst is the name of the head of state and highest ranking political and religious authority in Iran?   \n",
       "\n",
       "  questionEntity                                     answerEntity  \\\n",
       "0           Iran               Ruhollah Khomeini's return to Iran   \n",
       "1           Iran  Ruhollah Khomeini's letter to Mikhail Gorbachev   \n",
       "\n",
       "                groundTruthAnswerEntity answerEntityId questionEntityId  \\\n",
       "0  Office of the Supreme Leader of Iran       Q7293530             Q794   \n",
       "1  Office of the Supreme Leader of Iran       Q5952984             Q794   \n",
       "\n",
       "  groundTruthAnswerEntityId  correct  \\\n",
       "0                 Q16045000    False   \n",
       "1                 Q16045000    False   \n",
       "\n",
       "                                                                                                                                                                                                                                                                                                                                                                                                                                                                                                                                                                                                                                                                                                                                                                                                                                                                                                                                                                                                                                                                                                                                                                       graph  \\\n",
       "0                                                                                                                                                                                                                                                                                                                                                                                                                                                                                                                                                                                                  {'nodes': [{'type': 'QUESTIONS_ENTITY', 'name_': 'Q794', 'id': 0, 'label': 'Iran'}, {'type': 'INTERNAL', 'name_': 'Q207991', 'id': 1, 'label': 'Pahlavi dynasty'}, {'type': 'ANSWER_CANDIDATE_ENTITY', 'name_': 'Q7293530', 'id': 2, 'label': 'Ruhollah Khomeini's return to Iran'}], 'links': [{'name_': 'P17', 'source': 0, 'target': 0, 'label': 'country'}, {'name_': 'P1365', 'source': 0, 'target': 1, 'label': 'replaces'}, {'name_': 'P1366', 'source': 1, 'target': 0, 'label': 'replaced by'}, {'name_': 'P17', 'source': 2, 'target': 1, 'label': 'country'}]}   \n",
       "1  {'nodes': [{'type': 'INTERNAL', 'name_': 'Q4173137', 'id': 0, 'label': 'Jewish Encyclopedia of Brockhaus and Efron'}, {'type': 'QUESTIONS_ENTITY', 'name_': 'Q794', 'id': 1, 'label': 'Iran'}, {'type': 'INTERNAL', 'name_': 'Q47461344', 'id': 2, 'label': 'written work'}, {'type': 'INTERNAL', 'name_': 'Q133492', 'id': 3, 'label': 'letter'}, {'type': 'INTERNAL', 'name_': 'Q1030940', 'id': 4, 'label': 'The Book of Healing'}, {'type': 'ANSWER_CANDIDATE_ENTITY', 'name_': 'Q5952984', 'id': 5, 'label': 'Ruhollah Khomeini's letter to Mikhail Gorbachev'}], 'links': [{'name_': 'P1343', 'source': 1, 'target': 0, 'label': 'described by source'}, {'name_': 'P17', 'source': 1, 'target': 1, 'label': 'country'}, {'name_': 'P1343', 'source': 3, 'target': 0, 'label': 'described by source'}, {'name_': 'P279', 'source': 3, 'target': 2, 'label': 'subclass of'}, {'name_': 'P495', 'source': 4, 'target': 1, 'label': 'country of origin'}, {'name_': 'P31', 'source': 4, 'target': 2, 'label': 'instance of'}, {'name_': 'P31', 'source': 5, 'target': 2, 'label': 'instance of'}, {'name_': 'P31', 'source': 5, 'target': 3, 'label': 'instance of'}]}   \n",
       "\n",
       "   label  \\\n",
       "0    0.0   \n",
       "1    0.0   \n",
       "\n",
       "                                                                                                                                                                                                                                                                                                                                                                                                                                                                   linearized_graph  \\\n",
       "0                                                                                                                                                                                                                                                                                                               Iran, country, Iran  Iran, replaces, Pahlavi dynasty  Pahlavi dynasty, replaced by, Iran  [SEP] Ruhollah Khomeini's return to Iran [SEP], country, Pahlavi dynasty    \n",
       "1   Iran, described by source, Jewish Encyclopedia of Brockhaus and Efron  Iran, country, Iran  letter, described by source, Jewish Encyclopedia of Brockhaus and Efron  letter, subclass of, written work  The Book of Healing, country of origin, Iran  The Book of Healing, instance of, written work  [SEP] Ruhollah Khomeini's letter to Mikhail Gorbachev [SEP], instance of, written work  [SEP] Ruhollah Khomeini's letter to Mikhail Gorbachev [SEP], instance of, letter    \n",
       "\n",
       "   length   density  \n",
       "0       3  0.666667  \n",
       "1       6  0.266667  "
      ]
     },
     "execution_count": 27,
     "metadata": {},
     "output_type": "execute_result"
    }
   ],
   "source": [
    "train_df.head(2)"
   ]
  },
  {
   "cell_type": "markdown",
   "id": "bc523126",
   "metadata": {
    "id": "LqKvWg0n5SBO",
    "papermill": {
     "duration": 0.036151,
     "end_time": "2024-05-06T14:53:06.984048",
     "exception": false,
     "start_time": "2024-05-06T14:53:06.947897",
     "status": "completed"
    },
    "tags": []
   },
   "source": [
    "# Model Preparation"
   ]
  },
  {
   "cell_type": "code",
   "execution_count": 28,
   "id": "21eac04f",
   "metadata": {
    "execution": {
     "iopub.execute_input": "2024-05-06T14:53:07.058644Z",
     "iopub.status.busy": "2024-05-06T14:53:07.058337Z",
     "iopub.status.idle": "2024-05-06T14:53:07.072135Z",
     "shell.execute_reply": "2024-05-06T14:53:07.071244Z"
    },
    "id": "j_BkKiIP6TuY",
    "papermill": {
     "duration": 0.053604,
     "end_time": "2024-05-06T14:53:07.074041",
     "exception": false,
     "start_time": "2024-05-06T14:53:07.020437",
     "status": "completed"
    },
    "tags": []
   },
   "outputs": [],
   "source": [
    "def train(model, iterator, optimizer, criterion, device,\n",
    "          train_history=None, valid_history=None,):\n",
    "    model.train()\n",
    "\n",
    "    epoch_loss = 0\n",
    "    history = []\n",
    "    for i, batch in enumerate(tqdm(iterator)):\n",
    "\n",
    "        optimizer.zero_grad()\n",
    "\n",
    "        input_ids = batch[\"input_ids\"].to(device)\n",
    "        attention_mask = batch[\"attention_mask\"].to(device)\n",
    "        labels = batch[\"labels\"].to(device)\n",
    "\n",
    "        graph_length = batch[\"graph_length\"].to(device)\n",
    "        graph_density = batch[\"graph_density\"].to(device)\n",
    "\n",
    "        output = model(inputs=input_ids, attention_mask=attention_mask, graph_length=graph_length, graph_density=graph_density).squeeze(1)\n",
    "        loss = criterion(output, labels)\n",
    "        loss.backward()\n",
    "        optimizer.step()\n",
    "\n",
    "\n",
    "        epoch_loss += loss.item()\n",
    "        \n",
    "\n",
    "        history.append(loss.cpu().data.numpy())\n",
    "\n",
    "    return epoch_loss / (i + 1)\n",
    "\n",
    "def evaluate(model, iterator, criterion, device):\n",
    "    model.eval()\n",
    "\n",
    "    epoch_loss = 0\n",
    "\n",
    "    true_labels = []\n",
    "    pred_labels = []\n",
    "\n",
    "    with torch.no_grad():\n",
    "\n",
    "        for i, batch in enumerate(iterator):\n",
    "\n",
    "            input_ids = batch[\"input_ids\"].to(device)\n",
    "            attention_mask = batch[\"attention_mask\"].to(device)\n",
    "            labels = batch[\"labels\"]\n",
    "\n",
    "            graph_length = batch[\"graph_length\"].to(device)\n",
    "            graph_density = batch[\"graph_density\"].to(device)\n",
    "\n",
    "            true_labels.extend(labels.cpu().numpy())\n",
    "            labels = labels.to(device)\n",
    "\n",
    "\n",
    "            output = model(inputs=input_ids, attention_mask=attention_mask, graph_length=graph_length, graph_density=graph_density).squeeze(1)\n",
    "            pred_probas = output.cpu().numpy()\n",
    "            batch_pred_labels = (pred_probas >= 0.5) * 1\n",
    "\n",
    "            loss = criterion(output, labels)\n",
    "\n",
    "            pred_labels.extend(batch_pred_labels)\n",
    "            epoch_loss += loss.item()\n",
    "\n",
    "    valid_f1_score = f1_score(true_labels, pred_labels)\n",
    "    return epoch_loss / (i + 1), valid_f1_score\n",
    "\n",
    "def epoch_time(start_time, end_time):\n",
    "    elapsed_time = end_time - start_time\n",
    "    elapsed_mins = int(elapsed_time / 60)\n",
    "    elapsed_secs = int(elapsed_time - (elapsed_mins * 60))\n",
    "    return elapsed_mins, elapsed_secs"
   ]
  },
  {
   "cell_type": "code",
   "execution_count": 29,
   "id": "7e6505d8",
   "metadata": {
    "execution": {
     "iopub.execute_input": "2024-05-06T14:53:07.147303Z",
     "iopub.status.busy": "2024-05-06T14:53:07.146568Z",
     "iopub.status.idle": "2024-05-06T14:53:07.156717Z",
     "shell.execute_reply": "2024-05-06T14:53:07.155871Z"
    },
    "id": "A4RmcWd75f4d",
    "papermill": {
     "duration": 0.04895,
     "end_time": "2024-05-06T14:53:07.158661",
     "exception": false,
     "start_time": "2024-05-06T14:53:07.109711",
     "status": "completed"
    },
    "tags": []
   },
   "outputs": [],
   "source": [
    "def train_evaluate(bert_classifier, train_loader, dev_loader, optimizer, scheduler, criterion, n_epochs, checkpoint_fname, device):\n",
    "    train_history = []\n",
    "    valid_history = []\n",
    "    valid_history_f1 = []\n",
    "\n",
    "    best_valid_loss = float('inf')\n",
    "    best_f1_score = 0.0\n",
    "\n",
    "    for epoch in range(n_epochs):\n",
    "\n",
    "        start_time = time.time()\n",
    "\n",
    "        train_loss = train(bert_classifier, train_loader, optimizer, criterion, device, train_history, valid_history, )\n",
    "        valid_loss, valid_f1_score = evaluate(bert_classifier, dev_loader, criterion, device)\n",
    "\n",
    "        #scheduler.step(valid_loss)\n",
    "\n",
    "        end_time = time.time()\n",
    "\n",
    "        epoch_mins, epoch_secs = epoch_time(start_time, end_time)\n",
    "\n",
    "        train_history.append(train_loss)\n",
    "        valid_history.append(valid_loss)\n",
    "        valid_history_f1.append(valid_f1_score)\n",
    "\n",
    "        fig, ax = plt.subplots(nrows=1, ncols=2, figsize=(12, 8))\n",
    "\n",
    "        clear_output(True)\n",
    "        ax[0].plot(valid_history_f1, label='Val f1-score')\n",
    "        ax[0].set_xlabel('Epoch')\n",
    "        ax[0].set_title('Val f1-score')\n",
    "\n",
    "        ax[1].plot(train_history, label='general train history')\n",
    "        ax[1].set_xlabel('Epoch')\n",
    "        ax[1].plot(valid_history, label='general valid history')\n",
    "\n",
    "        plt.legend()\n",
    "        plt.show()\n",
    "\n",
    "        if valid_f1_score > best_f1_score:\n",
    "            best_f1_score = valid_f1_score\n",
    "            torch.save(bert_classifier.state_dict(), f'best-val-{checkpoint_fname}.pt')\n",
    "\n",
    "        print(f'Epoch: {epoch+1:02} | Time: {epoch_mins}m {epoch_secs}s')\n",
    "        print(f'\\tTrain Loss: {train_loss:.3f}')\n",
    "        print(f'\\t Val. Loss: {valid_loss:.3f} |  Val. F1: {valid_f1_score:.3f}')"
   ]
  },
  {
   "cell_type": "code",
   "execution_count": 30,
   "id": "2061e325",
   "metadata": {
    "execution": {
     "iopub.execute_input": "2024-05-06T14:53:07.232818Z",
     "iopub.status.busy": "2024-05-06T14:53:07.232538Z",
     "iopub.status.idle": "2024-05-06T14:53:07.239699Z",
     "shell.execute_reply": "2024-05-06T14:53:07.238940Z"
    },
    "id": "ZpfYBHeg5f99",
    "papermill": {
     "duration": 0.046941,
     "end_time": "2024-05-06T14:53:07.241547",
     "exception": false,
     "start_time": "2024-05-06T14:53:07.194606",
     "status": "completed"
    },
    "tags": []
   },
   "outputs": [],
   "source": [
    "def predict(model, data_loader, device):\n",
    "    true_labels = []\n",
    "    pred_labels = []\n",
    "\n",
    "    model.eval()\n",
    "    with torch.no_grad():\n",
    "        for i, batch in enumerate(data_loader):\n",
    "            input_ids = batch[\"input_ids\"].to(device)\n",
    "            attention_mask = batch[\"attention_mask\"].to(device)\n",
    "            graph_length = batch[\"graph_length\"].to(device)\n",
    "            graph_density = batch[\"graph_density\"].to(device)\n",
    "            batch_true_labels = batch[\"labels\"].cpu().numpy()\n",
    "\n",
    "\n",
    "            pred_probas = model(inputs=input_ids, attention_mask=attention_mask, graph_length=graph_length, graph_density=graph_density).squeeze(1)\n",
    "            pred_probas = pred_probas.cpu().numpy()\n",
    "\n",
    "            batch_pred_labels = (pred_probas >= 0.5) * 1\n",
    "\n",
    "            pred_labels.extend(batch_pred_labels)\n",
    "            true_labels.extend(batch_true_labels)\n",
    "            \n",
    "    return true_labels, pred_labels"
   ]
  },
  {
   "cell_type": "code",
   "execution_count": 31,
   "id": "ccc81a7f",
   "metadata": {
    "execution": {
     "iopub.execute_input": "2024-05-06T14:53:07.314618Z",
     "iopub.status.busy": "2024-05-06T14:53:07.314372Z",
     "iopub.status.idle": "2024-05-06T14:53:07.332455Z",
     "shell.execute_reply": "2024-05-06T14:53:07.331631Z"
    },
    "id": "PR3x_MwiufPR",
    "outputId": "d85327a4-d821-4dda-9ab0-5fb2526bdf11",
    "papermill": {
     "duration": 0.056928,
     "end_time": "2024-05-06T14:53:07.334420",
     "exception": false,
     "start_time": "2024-05-06T14:53:07.277492",
     "status": "completed"
    },
    "tags": []
   },
   "outputs": [
    {
     "data": {
      "text/plain": [
       "torch.float32"
      ]
     },
     "execution_count": 31,
     "metadata": {},
     "output_type": "execute_result"
    }
   ],
   "source": [
    "torch.Tensor([[1,2,3,4,5]]).reshape(-1, 1).type(\"torch.FloatTensor\").dtype"
   ]
  },
  {
   "cell_type": "code",
   "execution_count": 32,
   "id": "e36ea43b",
   "metadata": {
    "execution": {
     "iopub.execute_input": "2024-05-06T14:53:07.408142Z",
     "iopub.status.busy": "2024-05-06T14:53:07.407852Z",
     "iopub.status.idle": "2024-05-06T14:53:07.417060Z",
     "shell.execute_reply": "2024-05-06T14:53:07.416128Z"
    },
    "id": "R2FwTF6p5Ts7",
    "papermill": {
     "duration": 0.048215,
     "end_time": "2024-05-06T14:53:07.418849",
     "exception": false,
     "start_time": "2024-05-06T14:53:07.370634",
     "status": "completed"
    },
    "tags": []
   },
   "outputs": [],
   "source": [
    "class BertSimpleClassifier(nn.Module):\n",
    "    def __init__(self, bert_text_encoder, dropout=0.1):\n",
    "        super().__init__()\n",
    "\n",
    "        self.bert_text_encoder = bert_text_encoder\n",
    "        self.dropout = nn.Dropout(p=dropout)\n",
    "        bert_hidden_dim = bert_text_encoder.config.hidden_size\n",
    "\n",
    "        self.classifier = nn.Sequential(\n",
    "            nn.Dropout(p=dropout),\n",
    "            nn.Tanh(),\n",
    "            nn.Linear(bert_hidden_dim+2, bert_hidden_dim+2),\n",
    "            nn.Dropout(p=dropout),\n",
    "            nn.Tanh(),\n",
    "            nn.Linear(bert_hidden_dim+2, 1),\n",
    "        )\n",
    "\n",
    "#         self.mlp = nn.Sequential(\n",
    "#             nn.Linear(2, 32),\n",
    "#             nn.ReLU(),\n",
    "#             nn.Linear(32, 32),\n",
    "#             nn.ReLU(),\n",
    "#             nn.Linear(32, 2),\n",
    "#         )\n",
    "        \n",
    "    def forward(self, inputs, attention_mask, graph_length, graph_density):\n",
    "        last_hidden_states = self.bert_text_encoder(inputs, attention_mask=attention_mask,\n",
    "                                                    return_dict=True)['last_hidden_state']\n",
    "        text_cls_embeddings = torch.stack([elem[0, :] for elem in last_hidden_states])\n",
    "        graph_features = torch.cat((graph_length.type(\"torch.FloatTensor\").reshape(-1, 1), graph_density.type(\"torch.FloatTensor\").reshape(-1, 1)), dim=1).to(device)\n",
    "#         graph_features = self.mlp(graph_features)\n",
    "        proba = self.classifier(torch.cat([text_cls_embeddings, graph_features], dim=1))\n",
    "        return proba\n"
   ]
  },
  {
   "cell_type": "code",
   "execution_count": 33,
   "id": "1cbee605",
   "metadata": {
    "execution": {
     "iopub.execute_input": "2024-05-06T14:53:07.491312Z",
     "iopub.status.busy": "2024-05-06T14:53:07.491049Z",
     "iopub.status.idle": "2024-05-06T14:53:07.497643Z",
     "shell.execute_reply": "2024-05-06T14:53:07.496803Z"
    },
    "id": "K_EPFjHSc-s_",
    "outputId": "fd7a581d-a523-40f9-cea6-ba956bdc5948",
    "papermill": {
     "duration": 0.044833,
     "end_time": "2024-05-06T14:53:07.499534",
     "exception": false,
     "start_time": "2024-05-06T14:53:07.454701",
     "status": "completed"
    },
    "tags": []
   },
   "outputs": [
    {
     "data": {
      "text/plain": [
       "0     Iran, country, Iran  Iran, replaces, Pahlavi dynasty  Pahlavi dynasty, replaced by, Iran  [SEP] Ruhollah Khomeini's return to Iran [SEP], country, Pahlavi dynasty \n",
       "Name: linearized_graph, dtype: object"
      ]
     },
     "execution_count": 33,
     "metadata": {},
     "output_type": "execute_result"
    }
   ],
   "source": [
    "train_df[\"linearized_graph\"].head(1)"
   ]
  },
  {
   "cell_type": "code",
   "execution_count": 34,
   "id": "c9f4125d",
   "metadata": {
    "execution": {
     "iopub.execute_input": "2024-05-06T14:53:07.574003Z",
     "iopub.status.busy": "2024-05-06T14:53:07.573710Z",
     "iopub.status.idle": "2024-05-06T14:53:07.580592Z",
     "shell.execute_reply": "2024-05-06T14:53:07.579777Z"
    },
    "id": "MYg5OWkqc_9W",
    "outputId": "d4dfa08b-1a3e-478a-a7b2-75e41bfd7d01",
    "papermill": {
     "duration": 0.04584,
     "end_time": "2024-05-06T14:53:07.582396",
     "exception": false,
     "start_time": "2024-05-06T14:53:07.536556",
     "status": "completed"
    },
    "tags": []
   },
   "outputs": [
    {
     "data": {
      "text/plain": [
       "11                                                                                                        [SEP] Yogi Berra [SEP], league, Major League Baseball \n",
       "12     United States, country, United States  Major League Baseball, country, United States  [SEP] Tony Gwynn, Jr. [SEP], country of citizenship, United States \n",
       "13                                                                                                    [SEP] Roy Campanella [SEP], league, Major League Baseball \n",
       "14                                                                                                     [SEP] Roger Clemens [SEP], league, Major League Baseball \n",
       "15                                                                                                     [SEP] Mickey Mantle [SEP], league, Major League Baseball \n",
       "Name: linearized_graph, dtype: object"
      ]
     },
     "execution_count": 34,
     "metadata": {},
     "output_type": "execute_result"
    }
   ],
   "source": [
    "test_df[\"linearized_graph\"].head()"
   ]
  },
  {
   "cell_type": "code",
   "execution_count": 35,
   "id": "c879161f",
   "metadata": {
    "execution": {
     "iopub.execute_input": "2024-05-06T14:53:07.656869Z",
     "iopub.status.busy": "2024-05-06T14:53:07.656625Z",
     "iopub.status.idle": "2024-05-06T14:53:10.432781Z",
     "shell.execute_reply": "2024-05-06T14:53:10.431694Z"
    },
    "id": "xkBiR01VflXf",
    "outputId": "626ebd07-5999-4c88-d373-cf3e7ced4aed",
    "papermill": {
     "duration": 2.815911,
     "end_time": "2024-05-06T14:53:10.434946",
     "exception": false,
     "start_time": "2024-05-06T14:53:07.619035",
     "status": "completed"
    },
    "tags": []
   },
   "outputs": [
    {
     "data": {
      "application/vnd.jupyter.widget-view+json": {
       "model_id": "543fd5102d6e42f39e77825cc29d8f8d",
       "version_major": 2,
       "version_minor": 0
      },
      "text/plain": [
       "config.json:   0%|          | 0.00/612 [00:00<?, ?B/s]"
      ]
     },
     "metadata": {},
     "output_type": "display_data"
    },
    {
     "data": {
      "application/vnd.jupyter.widget-view+json": {
       "model_id": "e6023c3ab4f24c9bbf3e407ab3c823c5",
       "version_major": 2,
       "version_minor": 0
      },
      "text/plain": [
       "model.safetensors:   0%|          | 0.00/90.9M [00:00<?, ?B/s]"
      ]
     },
     "metadata": {},
     "output_type": "display_data"
    },
    {
     "name": "stdout",
     "output_type": "stream",
     "text": [
      "# Trainable params:  10794624\n"
     ]
    }
   ],
   "source": [
    "# model_name=\"roberta-base\"\n",
    "model_name=\"sentence-transformers/all-MiniLM-L6-v2\"\n",
    "\n",
    "tokenizer = AutoTokenizer.from_pretrained(model_name)\n",
    "bert_model = AutoModel.from_pretrained(model_name)\n",
    "\n",
    "freeze_embeddings = True\n",
    "if freeze_embeddings:\n",
    "    for param in bert_model.embeddings.parameters():\n",
    "        param.requires_grad = False\n",
    "\n",
    "#freeze_layer_count = 5\n",
    "#if freeze_layer_count > 0:\n",
    "    #for layer in bert_model.encoder.layer[:freeze_layer_count]:\n",
    "        #for param in layer.parameters():\n",
    "            #param.requires_grad = False\n",
    "\n",
    "print(\"# Trainable params: \", sum(p.numel() for p in bert_model.parameters() if p.requires_grad))"
   ]
  },
  {
   "cell_type": "code",
   "execution_count": 36,
   "id": "d6dbc268",
   "metadata": {
    "execution": {
     "iopub.execute_input": "2024-05-06T14:53:10.510814Z",
     "iopub.status.busy": "2024-05-06T14:53:10.510349Z",
     "iopub.status.idle": "2024-05-06T14:53:10.528969Z",
     "shell.execute_reply": "2024-05-06T14:53:10.528045Z"
    },
    "id": "vuugpfj3BRAV",
    "outputId": "2ab20b96-2dde-4839-b3db-2958d78aba58",
    "papermill": {
     "duration": 0.05834,
     "end_time": "2024-05-06T14:53:10.531161",
     "exception": false,
     "start_time": "2024-05-06T14:53:10.472821",
     "status": "completed"
    },
    "tags": []
   },
   "outputs": [
    {
     "data": {
      "text/html": [
       "<div>\n",
       "<style scoped>\n",
       "    .dataframe tbody tr th:only-of-type {\n",
       "        vertical-align: middle;\n",
       "    }\n",
       "\n",
       "    .dataframe tbody tr th {\n",
       "        vertical-align: top;\n",
       "    }\n",
       "\n",
       "    .dataframe thead th {\n",
       "        text-align: right;\n",
       "    }\n",
       "</style>\n",
       "<table border=\"1\" class=\"dataframe\">\n",
       "  <thead>\n",
       "    <tr style=\"text-align: right;\">\n",
       "      <th></th>\n",
       "      <th>sample_id</th>\n",
       "      <th>question</th>\n",
       "      <th>questionEntity</th>\n",
       "      <th>answerEntity</th>\n",
       "      <th>groundTruthAnswerEntity</th>\n",
       "      <th>answerEntityId</th>\n",
       "      <th>questionEntityId</th>\n",
       "      <th>groundTruthAnswerEntityId</th>\n",
       "      <th>correct</th>\n",
       "      <th>graph</th>\n",
       "      <th>label</th>\n",
       "      <th>linearized_graph</th>\n",
       "      <th>length</th>\n",
       "      <th>density</th>\n",
       "    </tr>\n",
       "  </thead>\n",
       "  <tbody>\n",
       "    <tr>\n",
       "      <th>0</th>\n",
       "      <td>0</td>\n",
       "      <td>Whst is the name of the head of state and highest ranking political and religious authority in Iran?</td>\n",
       "      <td>Iran</td>\n",
       "      <td>Ruhollah Khomeini's return to Iran</td>\n",
       "      <td>Office of the Supreme Leader of Iran</td>\n",
       "      <td>Q7293530</td>\n",
       "      <td>Q794</td>\n",
       "      <td>Q16045000</td>\n",
       "      <td>False</td>\n",
       "      <td>{'nodes': [{'type': 'QUESTIONS_ENTITY', 'name_': 'Q794', 'id': 0, 'label': 'Iran'}, {'type': 'INTERNAL', 'name_': 'Q207991', 'id': 1, 'label': 'Pahlavi dynasty'}, {'type': 'ANSWER_CANDIDATE_ENTITY', 'name_': 'Q7293530', 'id': 2, 'label': 'Ruhollah Khomeini's return to Iran'}], 'links': [{'name_': 'P17', 'source': 0, 'target': 0, 'label': 'country'}, {'name_': 'P1365', 'source': 0, 'target': 1, 'label': 'replaces'}, {'name_': 'P1366', 'source': 1, 'target': 0, 'label': 'replaced by'}, {'name_': 'P17', 'source': 2, 'target': 1, 'label': 'country'}]}</td>\n",
       "      <td>0.0</td>\n",
       "      <td>Iran, country, Iran  Iran, replaces, Pahlavi dynasty  Pahlavi dynasty, replaced by, Iran  [SEP] Ruhollah Khomeini's return to Iran [SEP], country, Pahlavi dynasty</td>\n",
       "      <td>3</td>\n",
       "      <td>0.666667</td>\n",
       "    </tr>\n",
       "  </tbody>\n",
       "</table>\n",
       "</div>"
      ],
      "text/plain": [
       "   sample_id  \\\n",
       "0          0   \n",
       "\n",
       "                                                                                               question  \\\n",
       "0  Whst is the name of the head of state and highest ranking political and religious authority in Iran?   \n",
       "\n",
       "  questionEntity                        answerEntity  \\\n",
       "0           Iran  Ruhollah Khomeini's return to Iran   \n",
       "\n",
       "                groundTruthAnswerEntity answerEntityId questionEntityId  \\\n",
       "0  Office of the Supreme Leader of Iran       Q7293530             Q794   \n",
       "\n",
       "  groundTruthAnswerEntityId  correct  \\\n",
       "0                 Q16045000    False   \n",
       "\n",
       "                                                                                                                                                                                                                                                                                                                                                                                                                                                                                                                                                                       graph  \\\n",
       "0  {'nodes': [{'type': 'QUESTIONS_ENTITY', 'name_': 'Q794', 'id': 0, 'label': 'Iran'}, {'type': 'INTERNAL', 'name_': 'Q207991', 'id': 1, 'label': 'Pahlavi dynasty'}, {'type': 'ANSWER_CANDIDATE_ENTITY', 'name_': 'Q7293530', 'id': 2, 'label': 'Ruhollah Khomeini's return to Iran'}], 'links': [{'name_': 'P17', 'source': 0, 'target': 0, 'label': 'country'}, {'name_': 'P1365', 'source': 0, 'target': 1, 'label': 'replaces'}, {'name_': 'P1366', 'source': 1, 'target': 0, 'label': 'replaced by'}, {'name_': 'P17', 'source': 2, 'target': 1, 'label': 'country'}]}   \n",
       "\n",
       "   label  \\\n",
       "0    0.0   \n",
       "\n",
       "                                                                                                                                                       linearized_graph  \\\n",
       "0   Iran, country, Iran  Iran, replaces, Pahlavi dynasty  Pahlavi dynasty, replaced by, Iran  [SEP] Ruhollah Khomeini's return to Iran [SEP], country, Pahlavi dynasty    \n",
       "\n",
       "   length   density  \n",
       "0       3  0.666667  "
      ]
     },
     "execution_count": 36,
     "metadata": {},
     "output_type": "execute_result"
    }
   ],
   "source": [
    "train_df.head(1)"
   ]
  },
  {
   "cell_type": "code",
   "execution_count": 37,
   "id": "dfe4d0b2",
   "metadata": {
    "execution": {
     "iopub.execute_input": "2024-05-06T14:53:10.607419Z",
     "iopub.status.busy": "2024-05-06T14:53:10.607148Z",
     "iopub.status.idle": "2024-05-06T14:53:29.191177Z",
     "shell.execute_reply": "2024-05-06T14:53:29.190271Z"
    },
    "id": "sQzHZg0tfo-H",
    "papermill": {
     "duration": 18.623943,
     "end_time": "2024-05-06T14:53:29.193494",
     "exception": false,
     "start_time": "2024-05-06T14:53:10.569551",
     "status": "completed"
    },
    "tags": []
   },
   "outputs": [],
   "source": [
    "max_length = 128\n",
    "train_dataset = QuestionAnswerDataset(train_df, tokenizer=tokenizer, max_length=max_length, context_key=\"linearized_graph\",\n",
    "                                      tokenizer_truncation=\"only_second\")\n",
    "dev_dataset = QuestionAnswerDataset(dev_df, tokenizer=tokenizer, max_length=max_length, context_key=\"linearized_graph\",\n",
    "                                    tokenizer_truncation=\"only_second\")\n",
    "test_dataset = QuestionAnswerDataset(test_df, tokenizer=tokenizer, max_length=max_length, context_key=\"linearized_graph\",\n",
    "                                     tokenizer_truncation=\"only_second\")"
   ]
  },
  {
   "cell_type": "code",
   "execution_count": 38,
   "id": "0c247da8",
   "metadata": {
    "execution": {
     "iopub.execute_input": "2024-05-06T14:53:29.270367Z",
     "iopub.status.busy": "2024-05-06T14:53:29.269822Z",
     "iopub.status.idle": "2024-05-06T14:53:29.275827Z",
     "shell.execute_reply": "2024-05-06T14:53:29.275026Z"
    },
    "id": "jpLK_AUsftG3",
    "papermill": {
     "duration": 0.046343,
     "end_time": "2024-05-06T14:53:29.277582",
     "exception": false,
     "start_time": "2024-05-06T14:53:29.231239",
     "status": "completed"
    },
    "tags": []
   },
   "outputs": [],
   "source": [
    "batch_size = 128\n",
    "num_workers = 0\n",
    "\n",
    "train_loader = torch.utils.data.DataLoader(\n",
    "    train_dataset, batch_size=batch_size, num_workers=num_workers, shuffle=True, drop_last=True,\n",
    ")\n",
    "dev_loader = torch.utils.data.DataLoader(\n",
    "    dev_dataset, batch_size=batch_size, num_workers=num_workers, shuffle=False, drop_last=False,\n",
    ")\n",
    "test_loader = torch.utils.data.DataLoader(\n",
    "    test_dataset, batch_size=batch_size, num_workers=num_workers, shuffle=False, drop_last=False,\n",
    ")"
   ]
  },
  {
   "cell_type": "code",
   "execution_count": 39,
   "id": "b1ec819b",
   "metadata": {
    "execution": {
     "iopub.execute_input": "2024-05-06T14:53:29.352341Z",
     "iopub.status.busy": "2024-05-06T14:53:29.351605Z",
     "iopub.status.idle": "2024-05-06T14:53:29.355591Z",
     "shell.execute_reply": "2024-05-06T14:53:29.354724Z"
    },
    "id": "Yt6Qb4uFf4NQ",
    "papermill": {
     "duration": 0.043392,
     "end_time": "2024-05-06T14:53:29.357557",
     "exception": false,
     "start_time": "2024-05-06T14:53:29.314165",
     "status": "completed"
    },
    "tags": []
   },
   "outputs": [],
   "source": [
    "N_EPOCHS = 40\n",
    "DROPOUT = 0.2"
   ]
  },
  {
   "cell_type": "code",
   "execution_count": 40,
   "id": "bad0f1d4",
   "metadata": {
    "execution": {
     "iopub.execute_input": "2024-05-06T14:53:29.431933Z",
     "iopub.status.busy": "2024-05-06T14:53:29.431662Z",
     "iopub.status.idle": "2024-05-06T14:53:29.609447Z",
     "shell.execute_reply": "2024-05-06T14:53:29.608664Z"
    },
    "papermill": {
     "duration": 0.217717,
     "end_time": "2024-05-06T14:53:29.612024",
     "exception": false,
     "start_time": "2024-05-06T14:53:29.394307",
     "status": "completed"
    },
    "tags": []
   },
   "outputs": [],
   "source": [
    "bert_linearized_graph_clf = BertSimpleClassifier(bert_model, dropout=DROPOUT).to(device)\n",
    "optimizer = optim.AdamW(bert_linearized_graph_clf.parameters(), lr=3e-5)\n",
    "criterion = nn.BCEWithLogitsLoss()\n",
    "scheduler = optim.lr_scheduler.ReduceLROnPlateau(optimizer=optimizer, mode='min',\n",
    "                                           factor=0.7, patience=1,\n",
    "                                           threshold=0.005, min_lr=1e-9, verbose=True)"
   ]
  },
  {
   "cell_type": "code",
   "execution_count": 41,
   "id": "fd12bf48",
   "metadata": {
    "execution": {
     "iopub.execute_input": "2024-05-06T14:53:29.687611Z",
     "iopub.status.busy": "2024-05-06T14:53:29.687287Z",
     "iopub.status.idle": "2024-05-06T14:53:29.733384Z",
     "shell.execute_reply": "2024-05-06T14:53:29.732420Z"
    },
    "id": "j6tgikp586XE",
    "outputId": "71aac0be-aa8f-48dc-d32b-c9893cbc9d1f",
    "papermill": {
     "duration": 0.085947,
     "end_time": "2024-05-06T14:53:29.735412",
     "exception": false,
     "start_time": "2024-05-06T14:53:29.649465",
     "status": "completed"
    },
    "tags": []
   },
   "outputs": [
    {
     "data": {
      "text/plain": [
       "{'input_ids': tensor([[ 101, 2040, 2003,  ...,    0,    0,    0],\n",
       "         [ 101, 2054, 2003,  ...,    0,    0,    0],\n",
       "         [ 101, 2029, 2266,  ...,    0,    0,    0],\n",
       "         ...,\n",
       "         [ 101, 2029, 8348,  ...,    0,    0,    0],\n",
       "         [ 101, 2054, 2003,  ...,    0,    0,    0],\n",
       "         [ 101, 2040, 2626,  ...,    0,    0,    0]]),\n",
       " 'attention_mask': tensor([[1, 1, 1,  ..., 0, 0, 0],\n",
       "         [1, 1, 1,  ..., 0, 0, 0],\n",
       "         [1, 1, 1,  ..., 0, 0, 0],\n",
       "         ...,\n",
       "         [1, 1, 1,  ..., 0, 0, 0],\n",
       "         [1, 1, 1,  ..., 0, 0, 0],\n",
       "         [1, 1, 1,  ..., 0, 0, 0]]),\n",
       " 'labels': tensor([0., 0., 0., 0., 0., 0., 0., 0., 0., 0., 0., 0., 0., 0., 0., 0., 0., 0.,\n",
       "         0., 0., 0., 0., 0., 0., 0., 0., 1., 0., 0., 0., 0., 0., 0., 0., 0., 0.,\n",
       "         0., 0., 0., 0., 0., 0., 0., 0., 0., 0., 0., 0., 0., 0., 0., 0., 0., 0.,\n",
       "         0., 0., 0., 0., 0., 0., 0., 0., 0., 0., 0., 0., 0., 0., 0., 0., 0., 0.,\n",
       "         0., 0., 0., 0., 0., 0., 0., 0., 0., 0., 0., 0., 0., 0., 1., 0., 0., 0.,\n",
       "         0., 0., 0., 0., 0., 0., 0., 0., 0., 1., 0., 0., 0., 1., 0., 0., 0., 0.,\n",
       "         0., 0., 0., 0., 0., 0., 0., 0., 0., 0., 0., 0., 0., 0., 0., 0., 0., 0.,\n",
       "         1., 0.]),\n",
       " 'graph_length': tensor([ 7,  2,  4,  2,  2,  3,  3,  2,  3,  8,  4, 10,  3,  3,  2,  3,  3,  7,\n",
       "          2,  3,  3, 10,  5,  5,  2,  2,  2,  6,  4,  4,  2,  3,  5,  3,  3,  3,\n",
       "          5,  4,  3,  5,  6,  3,  4,  2,  4,  2,  3,  2,  3,  6,  3,  3,  4,  3,\n",
       "          4,  4,  4,  3,  4,  4,  3,  3, 10,  6,  2,  4,  3,  5,  3,  3,  2,  3,\n",
       "          3,  4,  4,  4,  7,  4,  2,  4,  3,  6,  4,  4,  2,  3,  2,  4,  4,  5,\n",
       "          4,  3,  4,  8,  6,  3,  5,  3,  3,  2,  3,  3,  3,  1,  3,  4,  2,  4,\n",
       "          2,  2,  4,  5,  5,  6,  2,  3,  4,  3,  4,  3,  3,  3,  6,  4,  3,  3,\n",
       "          3,  4]),\n",
       " 'graph_density': tensor([0.2143, 0.5000, 0.5000, 0.5000, 1.0000, 0.6667, 0.5000, 1.0000, 0.5000,\n",
       "         0.1964, 0.5833, 0.1778, 0.5000, 0.5000, 0.5000, 0.6667, 0.3333, 0.2143,\n",
       "         0.5000, 0.3333, 0.5000, 0.2444, 0.3500, 0.2500, 0.5000, 1.5000, 1.0000,\n",
       "         0.2000, 0.5000, 0.3333, 0.5000, 0.6667, 0.4500, 0.5000, 0.5000, 0.5000,\n",
       "         0.4000, 0.4167, 0.5000, 0.3500, 0.2000, 0.5000, 0.3333, 1.0000, 0.3333,\n",
       "         1.0000, 0.5000, 1.0000, 0.5000, 0.3000, 0.5000, 0.5000, 0.3333, 0.6667,\n",
       "         0.4167, 0.4167, 0.4167, 0.5000, 0.5000, 0.3333, 0.5000, 0.5000, 0.2222,\n",
       "         0.2000, 0.5000, 0.5000, 0.3333, 0.5500, 0.5000, 0.3333, 0.5000, 0.6667,\n",
       "         0.3333, 0.2500, 0.4167, 0.3333, 0.2619, 0.4167, 1.0000, 0.4167, 0.5000,\n",
       "         0.2333, 0.3333, 0.3333, 0.5000, 0.5000, 0.5000, 0.4167, 0.3333, 0.3500,\n",
       "         0.3333, 0.5000, 0.2500, 0.1786, 0.3333, 0.8333, 0.2500, 0.5000, 0.3333,\n",
       "         1.5000, 0.5000, 0.3333, 0.5000, 0.0000, 0.3333, 0.3333, 1.0000, 0.3333,\n",
       "         1.0000, 0.5000, 0.3333, 0.3500, 0.3000, 0.2000, 0.5000, 0.3333, 0.4167,\n",
       "         0.5000, 0.3333, 0.5000, 0.5000, 0.5000, 0.3333, 0.2500, 0.3333, 0.5000,\n",
       "         0.5000, 0.3333], dtype=torch.float64)}"
      ]
     },
     "execution_count": 41,
     "metadata": {},
     "output_type": "execute_result"
    }
   ],
   "source": [
    "inputs = next(iter(train_loader))\n",
    "inputs"
   ]
  },
  {
   "cell_type": "code",
   "execution_count": 42,
   "id": "ddb06f9b",
   "metadata": {
    "execution": {
     "iopub.execute_input": "2024-05-06T14:53:29.811935Z",
     "iopub.status.busy": "2024-05-06T14:53:29.811646Z",
     "iopub.status.idle": "2024-05-06T14:53:29.830445Z",
     "shell.execute_reply": "2024-05-06T14:53:29.829563Z"
    },
    "id": "sFxCKhxp94nz",
    "outputId": "0cf1a52e-2d99-4a5b-a5c7-94814163552e",
    "papermill": {
     "duration": 0.059665,
     "end_time": "2024-05-06T14:53:29.832343",
     "exception": false,
     "start_time": "2024-05-06T14:53:29.772678",
     "status": "completed"
    },
    "tags": []
   },
   "outputs": [
    {
     "data": {
      "text/html": [
       "<div>\n",
       "<style scoped>\n",
       "    .dataframe tbody tr th:only-of-type {\n",
       "        vertical-align: middle;\n",
       "    }\n",
       "\n",
       "    .dataframe tbody tr th {\n",
       "        vertical-align: top;\n",
       "    }\n",
       "\n",
       "    .dataframe thead th {\n",
       "        text-align: right;\n",
       "    }\n",
       "</style>\n",
       "<table border=\"1\" class=\"dataframe\">\n",
       "  <thead>\n",
       "    <tr style=\"text-align: right;\">\n",
       "      <th></th>\n",
       "      <th>sample_id</th>\n",
       "      <th>question</th>\n",
       "      <th>questionEntity</th>\n",
       "      <th>answerEntity</th>\n",
       "      <th>groundTruthAnswerEntity</th>\n",
       "      <th>answerEntityId</th>\n",
       "      <th>questionEntityId</th>\n",
       "      <th>groundTruthAnswerEntityId</th>\n",
       "      <th>correct</th>\n",
       "      <th>graph</th>\n",
       "      <th>label</th>\n",
       "      <th>linearized_graph</th>\n",
       "      <th>length</th>\n",
       "      <th>density</th>\n",
       "    </tr>\n",
       "  </thead>\n",
       "  <tbody>\n",
       "    <tr>\n",
       "      <th>0</th>\n",
       "      <td>0</td>\n",
       "      <td>Whst is the name of the head of state and highest ranking political and religious authority in Iran?</td>\n",
       "      <td>Iran</td>\n",
       "      <td>Ruhollah Khomeini's return to Iran</td>\n",
       "      <td>Office of the Supreme Leader of Iran</td>\n",
       "      <td>Q7293530</td>\n",
       "      <td>Q794</td>\n",
       "      <td>Q16045000</td>\n",
       "      <td>False</td>\n",
       "      <td>{'nodes': [{'type': 'QUESTIONS_ENTITY', 'name_': 'Q794', 'id': 0, 'label': 'Iran'}, {'type': 'INTERNAL', 'name_': 'Q207991', 'id': 1, 'label': 'Pahlavi dynasty'}, {'type': 'ANSWER_CANDIDATE_ENTITY', 'name_': 'Q7293530', 'id': 2, 'label': 'Ruhollah Khomeini's return to Iran'}], 'links': [{'name_': 'P17', 'source': 0, 'target': 0, 'label': 'country'}, {'name_': 'P1365', 'source': 0, 'target': 1, 'label': 'replaces'}, {'name_': 'P1366', 'source': 1, 'target': 0, 'label': 'replaced by'}, {'name_': 'P17', 'source': 2, 'target': 1, 'label': 'country'}]}</td>\n",
       "      <td>0.0</td>\n",
       "      <td>Iran, country, Iran  Iran, replaces, Pahlavi dynasty  Pahlavi dynasty, replaced by, Iran  [SEP] Ruhollah Khomeini's return to Iran [SEP], country, Pahlavi dynasty</td>\n",
       "      <td>3</td>\n",
       "      <td>0.666667</td>\n",
       "    </tr>\n",
       "  </tbody>\n",
       "</table>\n",
       "</div>"
      ],
      "text/plain": [
       "   sample_id  \\\n",
       "0          0   \n",
       "\n",
       "                                                                                               question  \\\n",
       "0  Whst is the name of the head of state and highest ranking political and religious authority in Iran?   \n",
       "\n",
       "  questionEntity                        answerEntity  \\\n",
       "0           Iran  Ruhollah Khomeini's return to Iran   \n",
       "\n",
       "                groundTruthAnswerEntity answerEntityId questionEntityId  \\\n",
       "0  Office of the Supreme Leader of Iran       Q7293530             Q794   \n",
       "\n",
       "  groundTruthAnswerEntityId  correct  \\\n",
       "0                 Q16045000    False   \n",
       "\n",
       "                                                                                                                                                                                                                                                                                                                                                                                                                                                                                                                                                                       graph  \\\n",
       "0  {'nodes': [{'type': 'QUESTIONS_ENTITY', 'name_': 'Q794', 'id': 0, 'label': 'Iran'}, {'type': 'INTERNAL', 'name_': 'Q207991', 'id': 1, 'label': 'Pahlavi dynasty'}, {'type': 'ANSWER_CANDIDATE_ENTITY', 'name_': 'Q7293530', 'id': 2, 'label': 'Ruhollah Khomeini's return to Iran'}], 'links': [{'name_': 'P17', 'source': 0, 'target': 0, 'label': 'country'}, {'name_': 'P1365', 'source': 0, 'target': 1, 'label': 'replaces'}, {'name_': 'P1366', 'source': 1, 'target': 0, 'label': 'replaced by'}, {'name_': 'P17', 'source': 2, 'target': 1, 'label': 'country'}]}   \n",
       "\n",
       "   label  \\\n",
       "0    0.0   \n",
       "\n",
       "                                                                                                                                                       linearized_graph  \\\n",
       "0   Iran, country, Iran  Iran, replaces, Pahlavi dynasty  Pahlavi dynasty, replaced by, Iran  [SEP] Ruhollah Khomeini's return to Iran [SEP], country, Pahlavi dynasty    \n",
       "\n",
       "   length   density  \n",
       "0       3  0.666667  "
      ]
     },
     "execution_count": 42,
     "metadata": {},
     "output_type": "execute_result"
    }
   ],
   "source": [
    "train_df.head(1)"
   ]
  },
  {
   "cell_type": "code",
   "execution_count": 43,
   "id": "7964a320",
   "metadata": {
    "execution": {
     "iopub.execute_input": "2024-05-06T14:53:29.907934Z",
     "iopub.status.busy": "2024-05-06T14:53:29.907653Z",
     "iopub.status.idle": "2024-05-06T14:53:34.982072Z",
     "shell.execute_reply": "2024-05-06T14:53:34.981132Z"
    },
    "papermill": {
     "duration": 5.11494,
     "end_time": "2024-05-06T14:53:34.984459",
     "exception": false,
     "start_time": "2024-05-06T14:53:29.869519",
     "status": "completed"
    },
    "tags": []
   },
   "outputs": [],
   "source": [
    "true_lables, pred_labels = predict(model=bert_linearized_graph_clf, data_loader=test_loader, device=device)"
   ]
  },
  {
   "cell_type": "code",
   "execution_count": 44,
   "id": "bb7bf8ad",
   "metadata": {
    "execution": {
     "iopub.execute_input": "2024-05-06T14:53:35.061399Z",
     "iopub.status.busy": "2024-05-06T14:53:35.061047Z",
     "iopub.status.idle": "2024-05-06T14:53:35.077663Z",
     "shell.execute_reply": "2024-05-06T14:53:35.076762Z"
    },
    "papermill": {
     "duration": 0.056974,
     "end_time": "2024-05-06T14:53:35.079583",
     "exception": false,
     "start_time": "2024-05-06T14:53:35.022609",
     "status": "completed"
    },
    "tags": []
   },
   "outputs": [
    {
     "data": {
      "text/plain": [
       "0.0"
      ]
     },
     "execution_count": 44,
     "metadata": {},
     "output_type": "execute_result"
    }
   ],
   "source": [
    "f1_score(true_lables, pred_labels)"
   ]
  },
  {
   "cell_type": "markdown",
   "id": "d8cfcfa1",
   "metadata": {
    "id": "EUs3AOx15WtN",
    "papermill": {
     "duration": 0.037087,
     "end_time": "2024-05-06T14:53:35.153890",
     "exception": false,
     "start_time": "2024-05-06T14:53:35.116803",
     "status": "completed"
    },
    "tags": []
   },
   "source": [
    "# Training"
   ]
  },
  {
   "cell_type": "code",
   "execution_count": 45,
   "id": "979bdd6e",
   "metadata": {
    "execution": {
     "iopub.execute_input": "2024-05-06T14:53:35.229338Z",
     "iopub.status.busy": "2024-05-06T14:53:35.229004Z",
     "iopub.status.idle": "2024-05-06T15:27:04.969724Z",
     "shell.execute_reply": "2024-05-06T15:27:04.968781Z"
    },
    "id": "XatgnQNN5MSy",
    "outputId": "7474128f-59db-4c2a-dea7-d3a26e91a5ac",
    "papermill": {
     "duration": 2009.781713,
     "end_time": "2024-05-06T15:27:04.972471",
     "exception": false,
     "start_time": "2024-05-06T14:53:35.190758",
     "status": "completed"
    },
    "tags": []
   },
   "outputs": [
    {
     "data": {
      "image/png": "[encoded data removed]",
      "text/plain": [
       "<Figure size 1200x800 with 2 Axes>"
      ]
     },
     "metadata": {},
     "output_type": "display_data"
    },
    {
     "name": "stdout",
     "output_type": "stream",
     "text": [
      "Epoch: 40 | Time: 0m 49s\n",
      "\tTrain Loss: 0.013\n",
      "\t Val. Loss: 0.414 |  Val. F1: 0.637\n"
     ]
    }
   ],
   "source": [
    "train_evaluate(bert_linearized_graph_clf, train_loader, dev_loader, optimizer, scheduler,\n",
    "               criterion, N_EPOCHS, \"bert_linearized_graph_clf\", device)"
   ]
  },
  {
   "cell_type": "markdown",
   "id": "14e6a6d5",
   "metadata": {
    "papermill": {
     "duration": 0.038713,
     "end_time": "2024-05-06T15:27:05.050617",
     "exception": false,
     "start_time": "2024-05-06T15:27:05.011904",
     "status": "completed"
    },
    "tags": []
   },
   "source": [
    "## Evaluation"
   ]
  },
  {
   "cell_type": "code",
   "execution_count": 46,
   "id": "1bbaf046",
   "metadata": {
    "execution": {
     "iopub.execute_input": "2024-05-06T15:27:05.130656Z",
     "iopub.status.busy": "2024-05-06T15:27:05.129943Z",
     "iopub.status.idle": "2024-05-06T15:27:05.227404Z",
     "shell.execute_reply": "2024-05-06T15:27:05.226469Z"
    },
    "papermill": {
     "duration": 0.139387,
     "end_time": "2024-05-06T15:27:05.229365",
     "exception": false,
     "start_time": "2024-05-06T15:27:05.089978",
     "status": "completed"
    },
    "tags": []
   },
   "outputs": [
    {
     "data": {
      "text/plain": [
       "<All keys matched successfully>"
      ]
     },
     "execution_count": 46,
     "metadata": {},
     "output_type": "execute_result"
    }
   ],
   "source": [
    "bert_linearized_graph_clf.load_state_dict(torch.load('best-val-bert_linearized_graph_clf.pt'))"
   ]
  },
  {
   "cell_type": "code",
   "execution_count": 47,
   "id": "a85ae4c1",
   "metadata": {
    "execution": {
     "iopub.execute_input": "2024-05-06T15:27:05.311271Z",
     "iopub.status.busy": "2024-05-06T15:27:05.310883Z",
     "iopub.status.idle": "2024-05-06T15:27:07.211437Z",
     "shell.execute_reply": "2024-05-06T15:27:07.209996Z"
    },
    "papermill": {
     "duration": 1.943164,
     "end_time": "2024-05-06T15:27:07.213431",
     "exception": false,
     "start_time": "2024-05-06T15:27:05.270267",
     "status": "completed"
    },
    "tags": []
   },
   "outputs": [
    {
     "name": "stdout",
     "output_type": "stream",
     "text": [
      "0.724907063197026,0.6310679611650486,0.6747404844290658\n"
     ]
    }
   ],
   "source": [
    "true_labels, pred_labels = predict(bert_linearized_graph_clf, dev_loader, device)\n",
    "print(f\"{precision_score(true_labels, pred_labels)},{recall_score(true_labels, pred_labels)},{f1_score(true_labels, pred_labels)}\")"
   ]
  },
  {
   "cell_type": "code",
   "execution_count": 48,
   "id": "33a25209",
   "metadata": {
    "execution": {
     "iopub.execute_input": "2024-05-06T15:27:07.294727Z",
     "iopub.status.busy": "2024-05-06T15:27:07.293917Z",
     "iopub.status.idle": "2024-05-06T15:27:11.941172Z",
     "shell.execute_reply": "2024-05-06T15:27:11.940089Z"
    },
    "papermill": {
     "duration": 4.689566,
     "end_time": "2024-05-06T15:27:11.943173",
     "exception": false,
     "start_time": "2024-05-06T15:27:07.253607",
     "status": "completed"
    },
    "tags": []
   },
   "outputs": [
    {
     "name": "stdout",
     "output_type": "stream",
     "text": [
      "0.6934189406099518,0.5699208443271768,0.6256335988414192\n"
     ]
    }
   ],
   "source": [
    "true_labels, pred_labels = predict(bert_linearized_graph_clf, test_loader, device)\n",
    "print(f\"{precision_score(true_labels, pred_labels)},{recall_score(true_labels, pred_labels)},{f1_score(true_labels, pred_labels)}\")"
   ]
  },
  {
   "cell_type": "markdown",
   "id": "c05a92a3",
   "metadata": {
    "papermill": {
     "duration": 0.03899,
     "end_time": "2024-05-06T15:27:12.022665",
     "exception": false,
     "start_time": "2024-05-06T15:27:11.983675",
     "status": "completed"
    },
    "tags": []
   },
   "source": [
    "# Test"
   ]
  },
  {
   "cell_type": "code",
   "execution_count": 49,
   "id": "00740b39",
   "metadata": {
    "execution": {
     "iopub.execute_input": "2024-05-06T15:27:12.103219Z",
     "iopub.status.busy": "2024-05-06T15:27:12.102879Z",
     "iopub.status.idle": "2024-05-06T15:27:12.113397Z",
     "shell.execute_reply": "2024-05-06T15:27:12.112608Z"
    },
    "papermill": {
     "duration": 0.053127,
     "end_time": "2024-05-06T15:27:12.115226",
     "exception": false,
     "start_time": "2024-05-06T15:27:12.062099",
     "status": "completed"
    },
    "tags": []
   },
   "outputs": [],
   "source": [
    "class TestQuestionAnswerDataset(Dataset):\n",
    "\n",
    "    def __init__(self, df, tokenizer, max_length, context_key=\"answerEntity\",\n",
    "                 tokenizer_truncation=\"only_first\", graph_length=\"length\", graph_density=\"density\"):\n",
    "        super(QuestionAnswerDataset).__init__()\n",
    "\n",
    "        self.questions = df.question.values\n",
    "        self.contexts = df[context_key].values\n",
    "        self.graph_length = df[graph_length].values\n",
    "        self.graph_density = df[graph_density].values\n",
    "        self.tokenizer = tokenizer\n",
    "        self.max_length = max_length\n",
    "        self.tokenized_input = [tokenizer.encode_plus(x, y,\n",
    "                              max_length=self.max_length,\n",
    "                              padding=\"max_length\",\n",
    "                              truncation=tokenizer_truncation,\n",
    "                              return_tensors=\"pt\", ) \\\n",
    "                          for x, y in zip(self.questions,\n",
    "                                          self.contexts)]\n",
    "\n",
    "    def __len__(self):\n",
    "        return len(self.questions)\n",
    "\n",
    "    def __getitem__(self, idx):\n",
    "        return {\n",
    "                \"input_ids\": self.tokenized_input[idx][\"input_ids\"][0],\n",
    "                \"attention_mask\" : self.tokenized_input[idx][\"attention_mask\"][0],\n",
    "                \"graph_length\": self.graph_length[idx],\n",
    "                \"graph_density\": self.graph_density[idx],\n",
    "                }"
   ]
  },
  {
   "cell_type": "code",
   "execution_count": 50,
   "id": "16aa08ab",
   "metadata": {
    "execution": {
     "iopub.execute_input": "2024-05-06T15:27:12.194977Z",
     "iopub.status.busy": "2024-05-06T15:27:12.194634Z",
     "iopub.status.idle": "2024-05-06T15:27:12.201918Z",
     "shell.execute_reply": "2024-05-06T15:27:12.201030Z"
    },
    "papermill": {
     "duration": 0.049251,
     "end_time": "2024-05-06T15:27:12.203721",
     "exception": false,
     "start_time": "2024-05-06T15:27:12.154470",
     "status": "completed"
    },
    "tags": []
   },
   "outputs": [],
   "source": [
    "def predict(model, data_loader, device):\n",
    "    pred_labels = []\n",
    "\n",
    "    model.eval()\n",
    "    with torch.no_grad():\n",
    "        for i, batch in enumerate(data_loader):\n",
    "            input_ids = batch[\"input_ids\"].to(device)\n",
    "            attention_mask = batch[\"attention_mask\"].to(device)\n",
    "            \n",
    "            graph_length = batch[\"graph_length\"].to(device)\n",
    "            graph_density = batch[\"graph_density\"].to(device)\n",
    "\n",
    "            pred_probas = model(inputs=input_ids, attention_mask=attention_mask, graph_length=graph_length, graph_density=graph_density).squeeze(1)\n",
    "            pred_probas = pred_probas.cpu().numpy()\n",
    "\n",
    "            batch_pred_labels = (pred_probas >= 0.5) * 1\n",
    "\n",
    "            pred_labels.extend(batch_pred_labels)\n",
    "            \n",
    "    return pred_labels"
   ]
  },
  {
   "cell_type": "code",
   "execution_count": 51,
   "id": "749c029a",
   "metadata": {
    "execution": {
     "iopub.execute_input": "2024-05-06T15:27:12.283452Z",
     "iopub.status.busy": "2024-05-06T15:27:12.283106Z",
     "iopub.status.idle": "2024-05-06T15:27:12.411713Z",
     "shell.execute_reply": "2024-05-06T15:27:12.410674Z"
    },
    "papermill": {
     "duration": 0.170709,
     "end_time": "2024-05-06T15:27:12.413682",
     "exception": false,
     "start_time": "2024-05-06T15:27:12.242973",
     "status": "completed"
    },
    "tags": []
   },
   "outputs": [
    {
     "data": {
      "text/plain": [
       "(10961, 7)"
      ]
     },
     "execution_count": 51,
     "metadata": {},
     "output_type": "execute_result"
    }
   ],
   "source": [
    "test_data = pd.read_csv(\"TextGraphs17-shared-task/data/tsv/test.tsv\", sep=\"\\t\")\n",
    "test_data.shape"
   ]
  },
  {
   "cell_type": "code",
   "execution_count": 52,
   "id": "34180d2d",
   "metadata": {
    "execution": {
     "iopub.execute_input": "2024-05-06T15:27:12.495057Z",
     "iopub.status.busy": "2024-05-06T15:27:12.494340Z",
     "iopub.status.idle": "2024-05-06T15:27:14.697386Z",
     "shell.execute_reply": "2024-05-06T15:27:14.696423Z"
    },
    "papermill": {
     "duration": 2.245578,
     "end_time": "2024-05-06T15:27:14.699418",
     "exception": false,
     "start_time": "2024-05-06T15:27:12.453840",
     "status": "completed"
    },
    "tags": []
   },
   "outputs": [
    {
     "data": {
      "text/html": [
       "<div>\n",
       "<style scoped>\n",
       "    .dataframe tbody tr th:only-of-type {\n",
       "        vertical-align: middle;\n",
       "    }\n",
       "\n",
       "    .dataframe tbody tr th {\n",
       "        vertical-align: top;\n",
       "    }\n",
       "\n",
       "    .dataframe thead th {\n",
       "        text-align: right;\n",
       "    }\n",
       "</style>\n",
       "<table border=\"1\" class=\"dataframe\">\n",
       "  <thead>\n",
       "    <tr style=\"text-align: right;\">\n",
       "      <th></th>\n",
       "      <th>sample_id</th>\n",
       "      <th>question</th>\n",
       "      <th>questionEntity</th>\n",
       "      <th>answerEntity</th>\n",
       "      <th>questionEntityId</th>\n",
       "      <th>answerEntityId</th>\n",
       "      <th>graph</th>\n",
       "      <th>linearized_graph</th>\n",
       "      <th>length</th>\n",
       "      <th>density</th>\n",
       "    </tr>\n",
       "  </thead>\n",
       "  <tbody>\n",
       "    <tr>\n",
       "      <th>0</th>\n",
       "      <td>0</td>\n",
       "      <td>After publishing A Time to Kill, which book did its author begin working on immediately?</td>\n",
       "      <td>A Time to Kill</td>\n",
       "      <td>A Clash of Kings</td>\n",
       "      <td>Q1213715</td>\n",
       "      <td>Q300370</td>\n",
       "      <td>{'nodes': [{'type': 'INTERNAL', 'name_': 'Q30', 'id': 0, 'label': 'United States'}, {'type': 'ANSWER_CANDIDATE_ENTITY', 'name_': 'Q300370', 'id': 1, 'label': 'A Clash of Kings'}, {'type': 'QUESTIONS_ENTITY', 'name_': 'Q1213715', 'id': 2, 'label': 'A Time to Kill'}], 'links': [{'name_': 'P17', 'source': 0, 'target': 0, 'label': 'country'}, {'name_': 'P495', 'source': 1, 'target': 0, 'label': 'country of origin'}, {'name_': 'P495', 'source': 2, 'target': 0, 'label': 'country of origin'}]}</td>\n",
       "      <td>United States, country, United States  [SEP] A Clash of Kings [SEP], country of origin, United States  A Time to Kill, country of origin, United States</td>\n",
       "      <td>3</td>\n",
       "      <td>0.5</td>\n",
       "    </tr>\n",
       "    <tr>\n",
       "      <th>1</th>\n",
       "      <td>1</td>\n",
       "      <td>After publishing A Time to Kill, which book did its author begin working on immediately?</td>\n",
       "      <td>A Time to Kill</td>\n",
       "      <td>A Feast for Crows</td>\n",
       "      <td>Q1213715</td>\n",
       "      <td>Q1764445</td>\n",
       "      <td>{'nodes': [{'type': 'INTERNAL', 'name_': 'Q30', 'id': 0, 'label': 'United States'}, {'type': 'ANSWER_CANDIDATE_ENTITY', 'name_': 'Q1764445', 'id': 1, 'label': 'A Feast for Crows'}, {'type': 'QUESTIONS_ENTITY', 'name_': 'Q1213715', 'id': 2, 'label': 'A Time to Kill'}], 'links': [{'name_': 'P17', 'source': 0, 'target': 0, 'label': 'country'}, {'name_': 'P495', 'source': 1, 'target': 0, 'label': 'country of origin'}, {'name_': 'P495', 'source': 2, 'target': 0, 'label': 'country of origin'}]}</td>\n",
       "      <td>United States, country, United States  [SEP] A Feast for Crows [SEP], country of origin, United States  A Time to Kill, country of origin, United States</td>\n",
       "      <td>3</td>\n",
       "      <td>0.5</td>\n",
       "    </tr>\n",
       "  </tbody>\n",
       "</table>\n",
       "</div>"
      ],
      "text/plain": [
       "   sample_id  \\\n",
       "0          0   \n",
       "1          1   \n",
       "\n",
       "                                                                                   question  \\\n",
       "0  After publishing A Time to Kill, which book did its author begin working on immediately?   \n",
       "1  After publishing A Time to Kill, which book did its author begin working on immediately?   \n",
       "\n",
       "   questionEntity       answerEntity questionEntityId answerEntityId  \\\n",
       "0  A Time to Kill   A Clash of Kings         Q1213715        Q300370   \n",
       "1  A Time to Kill  A Feast for Crows         Q1213715       Q1764445   \n",
       "\n",
       "                                                                                                                                                                                                                                                                                                                                                                                                                                                                                                           graph  \\\n",
       "0    {'nodes': [{'type': 'INTERNAL', 'name_': 'Q30', 'id': 0, 'label': 'United States'}, {'type': 'ANSWER_CANDIDATE_ENTITY', 'name_': 'Q300370', 'id': 1, 'label': 'A Clash of Kings'}, {'type': 'QUESTIONS_ENTITY', 'name_': 'Q1213715', 'id': 2, 'label': 'A Time to Kill'}], 'links': [{'name_': 'P17', 'source': 0, 'target': 0, 'label': 'country'}, {'name_': 'P495', 'source': 1, 'target': 0, 'label': 'country of origin'}, {'name_': 'P495', 'source': 2, 'target': 0, 'label': 'country of origin'}]}   \n",
       "1  {'nodes': [{'type': 'INTERNAL', 'name_': 'Q30', 'id': 0, 'label': 'United States'}, {'type': 'ANSWER_CANDIDATE_ENTITY', 'name_': 'Q1764445', 'id': 1, 'label': 'A Feast for Crows'}, {'type': 'QUESTIONS_ENTITY', 'name_': 'Q1213715', 'id': 2, 'label': 'A Time to Kill'}], 'links': [{'name_': 'P17', 'source': 0, 'target': 0, 'label': 'country'}, {'name_': 'P495', 'source': 1, 'target': 0, 'label': 'country of origin'}, {'name_': 'P495', 'source': 2, 'target': 0, 'label': 'country of origin'}]}   \n",
       "\n",
       "                                                                                                                                             linearized_graph  \\\n",
       "0    United States, country, United States  [SEP] A Clash of Kings [SEP], country of origin, United States  A Time to Kill, country of origin, United States    \n",
       "1   United States, country, United States  [SEP] A Feast for Crows [SEP], country of origin, United States  A Time to Kill, country of origin, United States    \n",
       "\n",
       "   length  density  \n",
       "0       3      0.5  \n",
       "1       3      0.5  "
      ]
     },
     "execution_count": 52,
     "metadata": {},
     "output_type": "execute_result"
    }
   ],
   "source": [
    "test_data[\"graph\"] = test_data[\"graph\"].apply(eval)\n",
    "test_data[\"linearized_graph\"], test_data[\"length\"], test_data[\"density\"] = zip(*test_data.apply(linearize_graph, axis=1))\n",
    "test_data.head(2)"
   ]
  },
  {
   "cell_type": "code",
   "execution_count": 53,
   "id": "95cacfc6",
   "metadata": {
    "execution": {
     "iopub.execute_input": "2024-05-06T15:27:14.800257Z",
     "iopub.status.busy": "2024-05-06T15:27:14.799907Z",
     "iopub.status.idle": "2024-05-06T15:27:20.174278Z",
     "shell.execute_reply": "2024-05-06T15:27:20.173255Z"
    },
    "papermill": {
     "duration": 5.425684,
     "end_time": "2024-05-06T15:27:20.176658",
     "exception": false,
     "start_time": "2024-05-06T15:27:14.750974",
     "status": "completed"
    },
    "tags": []
   },
   "outputs": [],
   "source": [
    "max_length = 128\n",
    "\n",
    "final_test_data = TestQuestionAnswerDataset(test_data, tokenizer=tokenizer, max_length=max_length, context_key=\"linearized_graph\",\n",
    "                                     tokenizer_truncation=\"only_second\")"
   ]
  },
  {
   "cell_type": "code",
   "execution_count": 54,
   "id": "c39d1fb3",
   "metadata": {
    "execution": {
     "iopub.execute_input": "2024-05-06T15:27:20.258986Z",
     "iopub.status.busy": "2024-05-06T15:27:20.258630Z",
     "iopub.status.idle": "2024-05-06T15:27:20.263647Z",
     "shell.execute_reply": "2024-05-06T15:27:20.262802Z"
    },
    "papermill": {
     "duration": 0.048347,
     "end_time": "2024-05-06T15:27:20.265650",
     "exception": false,
     "start_time": "2024-05-06T15:27:20.217303",
     "status": "completed"
    },
    "tags": []
   },
   "outputs": [],
   "source": [
    "batch_size = 128\n",
    "num_workers = 0\n",
    "\n",
    "test_loader = torch.utils.data.DataLoader(\n",
    "    final_test_data, batch_size=batch_size, num_workers=num_workers, shuffle=False, drop_last=False,\n",
    ")"
   ]
  },
  {
   "cell_type": "code",
   "execution_count": 55,
   "id": "d126b547",
   "metadata": {
    "execution": {
     "iopub.execute_input": "2024-05-06T15:27:20.348838Z",
     "iopub.status.busy": "2024-05-06T15:27:20.348277Z",
     "iopub.status.idle": "2024-05-06T15:27:20.360917Z",
     "shell.execute_reply": "2024-05-06T15:27:20.359998Z"
    },
    "papermill": {
     "duration": 0.055043,
     "end_time": "2024-05-06T15:27:20.362732",
     "exception": false,
     "start_time": "2024-05-06T15:27:20.307689",
     "status": "completed"
    },
    "tags": []
   },
   "outputs": [
    {
     "data": {
      "text/plain": [
       "{'input_ids': tensor([[ 101, 2044, 4640,  ...,    0,    0,    0],\n",
       "         [ 101, 2044, 4640,  ...,    0,    0,    0],\n",
       "         [ 101, 2044, 4640,  ...,    0,    0,    0],\n",
       "         ...,\n",
       "         [ 101, 2034, 2931,  ...,    0,    0,    0],\n",
       "         [ 101, 2034, 2931,  ...,    0,    0,    0],\n",
       "         [ 101, 2034, 2931,  ...,    0,    0,    0]]),\n",
       " 'attention_mask': tensor([[1, 1, 1,  ..., 0, 0, 0],\n",
       "         [1, 1, 1,  ..., 0, 0, 0],\n",
       "         [1, 1, 1,  ..., 0, 0, 0],\n",
       "         ...,\n",
       "         [1, 1, 1,  ..., 0, 0, 0],\n",
       "         [1, 1, 1,  ..., 0, 0, 0],\n",
       "         [1, 1, 1,  ..., 0, 0, 0]]),\n",
       " 'graph_length': tensor([ 3,  3,  3,  3,  3,  6,  3,  3,  3,  3,  5,  2,  3,  2,  3,  3,  3,  2,\n",
       "          3,  2,  2,  3,  2,  2,  2,  2,  2,  2,  2,  2,  2,  2,  3,  9,  7,  7,\n",
       "          7,  7,  5,  4,  3,  3,  4,  4,  4,  5,  5,  5,  5,  5,  5,  4,  5,  5,\n",
       "          5,  5,  8,  8,  8,  7,  5,  7,  7,  6,  5,  6,  6,  8,  9,  6,  6, 10,\n",
       "          6,  6,  7,  4,  6,  8,  5,  5,  5,  5,  5,  7,  8,  5,  7,  4,  9, 14,\n",
       "         10,  7, 11,  7,  7, 12,  7,  9, 10,  4,  5,  4,  5,  8,  5,  4,  7,  8,\n",
       "          5,  3,  5,  4,  5,  5,  4,  4,  5,  4,  4,  4,  4,  6,  3,  3,  3,  3,\n",
       "          2,  4]),\n",
       " 'graph_density': tensor([0.5000, 0.5000, 0.5000, 0.5000, 0.5000, 0.2667, 0.5000, 0.3333, 0.5000,\n",
       "         0.5000, 0.2500, 0.5000, 0.6667, 1.5000, 0.6667, 0.6667, 0.5000, 1.5000,\n",
       "         0.3333, 1.5000, 1.5000, 0.3333, 1.0000, 1.0000, 1.0000, 0.5000, 1.0000,\n",
       "         1.0000, 0.5000, 1.0000, 0.5000, 1.0000, 0.5000, 0.2083, 0.2381, 0.2143,\n",
       "         0.2143, 0.2143, 0.3000, 0.4167, 0.6667, 0.5000, 0.3333, 0.4167, 0.3333,\n",
       "         0.3000, 0.5000, 0.3000, 0.5000, 0.5000, 0.5000, 0.3333, 0.3000, 0.5000,\n",
       "         0.3000, 0.3000, 0.2321, 0.2321, 0.2143, 0.2143, 0.2500, 0.2619, 0.2619,\n",
       "         0.3333, 0.3000, 0.2000, 0.3333, 0.3036, 0.2222, 0.3000, 0.3000, 0.1778,\n",
       "         0.3000, 0.3000, 0.2619, 0.2500, 0.3000, 0.2679, 0.3000, 0.2500, 0.4500,\n",
       "         0.4500, 0.4000, 0.1905, 0.2857, 0.4500, 0.2381, 0.4167, 0.1389, 0.0989,\n",
       "         0.1222, 0.1667, 0.1455, 0.1667, 0.1905, 0.1288, 0.1429, 0.1528, 0.1333,\n",
       "         0.4167, 0.4000, 0.4167, 0.4500, 0.3571, 0.5000, 0.5833, 0.3095, 0.3571,\n",
       "         0.3500, 0.6667, 0.4000, 0.3333, 0.3500, 0.3000, 0.5833, 0.4167, 0.2500,\n",
       "         0.4167, 0.4167, 0.3333, 0.3333, 0.2333, 0.5000, 0.5000, 0.5000, 0.5000,\n",
       "         1.0000, 0.5000], dtype=torch.float64)}"
      ]
     },
     "execution_count": 55,
     "metadata": {},
     "output_type": "execute_result"
    }
   ],
   "source": [
    "inputs = next(iter(test_loader))\n",
    "inputs"
   ]
  },
  {
   "cell_type": "code",
   "execution_count": 56,
   "id": "87a97adf",
   "metadata": {
    "execution": {
     "iopub.execute_input": "2024-05-06T15:27:20.443985Z",
     "iopub.status.busy": "2024-05-06T15:27:20.443658Z",
     "iopub.status.idle": "2024-05-06T15:27:27.131881Z",
     "shell.execute_reply": "2024-05-06T15:27:27.131109Z"
    },
    "id": "PmkreeJz5ZDq",
    "papermill": {
     "duration": 6.731332,
     "end_time": "2024-05-06T15:27:27.134015",
     "exception": false,
     "start_time": "2024-05-06T15:27:20.402683",
     "status": "completed"
    },
    "tags": []
   },
   "outputs": [],
   "source": [
    "predicted_labels = predict(model=bert_linearized_graph_clf, data_loader=test_loader, device=device)"
   ]
  },
  {
   "cell_type": "code",
   "execution_count": 57,
   "id": "d263b3fd",
   "metadata": {
    "execution": {
     "iopub.execute_input": "2024-05-06T15:27:27.216073Z",
     "iopub.status.busy": "2024-05-06T15:27:27.215701Z",
     "iopub.status.idle": "2024-05-06T15:27:27.263426Z",
     "shell.execute_reply": "2024-05-06T15:27:27.262517Z"
    },
    "papermill": {
     "duration": 0.090864,
     "end_time": "2024-05-06T15:27:27.265383",
     "exception": false,
     "start_time": "2024-05-06T15:27:27.174519",
     "status": "completed"
    },
    "tags": []
   },
   "outputs": [
    {
     "data": {
      "text/html": [
       "<div>\n",
       "<style scoped>\n",
       "    .dataframe tbody tr th:only-of-type {\n",
       "        vertical-align: middle;\n",
       "    }\n",
       "\n",
       "    .dataframe tbody tr th {\n",
       "        vertical-align: top;\n",
       "    }\n",
       "\n",
       "    .dataframe thead th {\n",
       "        text-align: right;\n",
       "    }\n",
       "</style>\n",
       "<table border=\"1\" class=\"dataframe\">\n",
       "  <thead>\n",
       "    <tr style=\"text-align: right;\">\n",
       "      <th></th>\n",
       "      <th>sample_id</th>\n",
       "      <th>prediction</th>\n",
       "    </tr>\n",
       "  </thead>\n",
       "  <tbody>\n",
       "    <tr>\n",
       "      <th>0</th>\n",
       "      <td>0</td>\n",
       "      <td>0</td>\n",
       "    </tr>\n",
       "    <tr>\n",
       "      <th>1</th>\n",
       "      <td>1</td>\n",
       "      <td>0</td>\n",
       "    </tr>\n",
       "    <tr>\n",
       "      <th>2</th>\n",
       "      <td>2</td>\n",
       "      <td>0</td>\n",
       "    </tr>\n",
       "    <tr>\n",
       "      <th>3</th>\n",
       "      <td>3</td>\n",
       "      <td>0</td>\n",
       "    </tr>\n",
       "    <tr>\n",
       "      <th>4</th>\n",
       "      <td>4</td>\n",
       "      <td>0</td>\n",
       "    </tr>\n",
       "  </tbody>\n",
       "</table>\n",
       "</div>"
      ],
      "text/plain": [
       "   sample_id  prediction\n",
       "0          0           0\n",
       "1          1           0\n",
       "2          2           0\n",
       "3          3           0\n",
       "4          4           0"
      ]
     },
     "execution_count": 57,
     "metadata": {},
     "output_type": "execute_result"
    }
   ],
   "source": [
    "results = pd.concat([pd.Series(np.arange(len(predicted_labels))), pd.Series(predicted_labels)], axis=1)\n",
    "results.rename(columns={0: \"sample_id\", 1: \"prediction\"}, inplace=True)\n",
    "results.head(5)"
   ]
  },
  {
   "cell_type": "code",
   "execution_count": 58,
   "id": "cce8bf16",
   "metadata": {
    "execution": {
     "iopub.execute_input": "2024-05-06T15:27:27.348835Z",
     "iopub.status.busy": "2024-05-06T15:27:27.348490Z",
     "iopub.status.idle": "2024-05-06T15:27:27.367547Z",
     "shell.execute_reply": "2024-05-06T15:27:27.366824Z"
    },
    "papermill": {
     "duration": 0.06315,
     "end_time": "2024-05-06T15:27:27.369513",
     "exception": false,
     "start_time": "2024-05-06T15:27:27.306363",
     "status": "completed"
    },
    "tags": []
   },
   "outputs": [],
   "source": [
    "results.to_csv(\"results.csv\", index=False, sep=\"\\t\")"
   ]
  }
 ],
 "metadata": {
  "colab": {
   "provenance": []
  },
  "kaggle": {
   "accelerator": "gpu",
   "dataSources": [],
   "dockerImageVersionId": 30699,
   "isGpuEnabled": true,
   "isInternetEnabled": true,
   "language": "python",
   "sourceType": "notebook"
  },
  "kernelspec": {
   "display_name": "Python 3",
   "language": "python",
   "name": "python3"
  },
  "language_info": {
   "codemirror_mode": {
    "name": "ipython",
    "version": 3
   },
   "file_extension": ".py",
   "mimetype": "text/x-python",
   "name": "python",
   "nbconvert_exporter": "python",
   "pygments_lexer": "ipython3",
   "version": "3.10.13"
  },
  "papermill": {
   "default_parameters": {},
   "duration": 2095.093598,
   "end_time": "2024-05-06T15:27:31.108829",
   "environment_variables": {},
   "exception": null,
   "input_path": "__notebook__.ipynb",
   "output_path": "__notebook__.ipynb",
   "parameters": {},
   "start_time": "2024-05-06T14:52:36.015231",
   "version": "2.5.0"
  },
  "widgets": {
   "application/vnd.jupyter.widget-state+json": {
    "state": {
     "04493af81b0945ccbd674ca5b0eff566": {
      "model_module": "@jupyter-widgets/controls",
      "model_module_version": "1.5.0",
      "model_name": "HTMLModel",
      "state": {
       "_dom_classes": [],
       "_model_module": "@jupyter-widgets/controls",
       "_model_module_version": "1.5.0",
       "_model_name": "HTMLModel",
       "_view_count": null,
       "_view_module": "@jupyter-widgets/controls",
       "_view_module_version": "1.5.0",
       "_view_name": "HTMLView",
       "description": "",
       "description_tooltip": null,
       "layout": "IPY_MODEL_cf8f735c2dba46f2a28e83a2cbb3efea",
       "placeholder": "​",
       "style": "IPY_MODEL_efc656d72b0c407ab30e524754199796",
       "value": " 90.9M/90.9M [00:00&lt;00:00, 211MB/s]"
      }
     },
     "10a3b8f0eedc45faa0edef6aac3ce5eb": {
      "model_module": "@jupyter-widgets/base",
      "model_module_version": "1.2.0",
      "model_name": "LayoutModel",
      "state": {
       "_model_module": "@jupyter-widgets/base",
       "_model_module_version": "1.2.0",
       "_model_name": "LayoutModel",
       "_view_count": null,
       "_view_module": "@jupyter-widgets/base",
       "_view_module_version": "1.2.0",
       "_view_name": "LayoutView",
       "align_content": null,
       "align_items": null,
       "align_self": null,
       "border": null,
       "bottom": null,
       "display": null,
       "flex": null,
       "flex_flow": null,
       "grid_area": null,
       "grid_auto_columns": null,
       "grid_auto_flow": null,
       "grid_auto_rows": null,
       "grid_column": null,
       "grid_gap": null,
       "grid_row": null,
       "grid_template_areas": null,
       "grid_template_columns": null,
       "grid_template_rows": null,
       "height": null,
       "justify_content": null,
       "justify_items": null,
       "left": null,
       "margin": null,
       "max_height": null,
       "max_width": null,
       "min_height": null,
       "min_width": null,
       "object_fit": null,
       "object_position": null,
       "order": null,
       "overflow": null,
       "overflow_x": null,
       "overflow_y": null,
       "padding": null,
       "right": null,
       "top": null,
       "visibility": null,
       "width": null
      }
     },
     "1612434d1b48450bb87a7868bc9aaecd": {
      "model_module": "@jupyter-widgets/controls",
      "model_module_version": "1.5.0",
      "model_name": "DescriptionStyleModel",
      "state": {
       "_model_module": "@jupyter-widgets/controls",
       "_model_module_version": "1.5.0",
       "_model_name": "DescriptionStyleModel",
       "_view_count": null,
       "_view_module": "@jupyter-widgets/base",
       "_view_module_version": "1.2.0",
       "_view_name": "StyleView",
       "description_width": ""
      }
     },
     "195aceec5b0d42938424b3191c466b0f": {
      "model_module": "@jupyter-widgets/controls",
      "model_module_version": "1.5.0",
      "model_name": "HTMLModel",
      "state": {
       "_dom_classes": [],
       "_model_module": "@jupyter-widgets/controls",
       "_model_module_version": "1.5.0",
       "_model_name": "HTMLModel",
       "_view_count": null,
       "_view_module": "@jupyter-widgets/controls",
       "_view_module_version": "1.5.0",
       "_view_name": "HTMLView",
       "description": "",
       "description_tooltip": null,
       "layout": "IPY_MODEL_34088cff9db34346b63f2d6164fd7115",
       "placeholder": "​",
       "style": "IPY_MODEL_595429b91d6d4c99b0d63b972ab22463",
       "value": "vocab.txt: 100%"
      }
     },
     "1a71b21916254edaa0f244f5f8d546c9": {
      "model_module": "@jupyter-widgets/controls",
      "model_module_version": "1.5.0",
      "model_name": "DescriptionStyleModel",
      "state": {
       "_model_module": "@jupyter-widgets/controls",
       "_model_module_version": "1.5.0",
       "_model_name": "DescriptionStyleModel",
       "_view_count": null,
       "_view_module": "@jupyter-widgets/base",
       "_view_module_version": "1.2.0",
       "_view_name": "StyleView",
       "description_width": ""
      }
     },
     "220eb98031a2423cbcdad4ae33d09767": {
      "model_module": "@jupyter-widgets/base",
      "model_module_version": "1.2.0",
      "model_name": "LayoutModel",
      "state": {
       "_model_module": "@jupyter-widgets/base",
       "_model_module_version": "1.2.0",
       "_model_name": "LayoutModel",
       "_view_count": null,
       "_view_module": "@jupyter-widgets/base",
       "_view_module_version": "1.2.0",
       "_view_name": "LayoutView",
       "align_content": null,
       "align_items": null,
       "align_self": null,
       "border": null,
       "bottom": null,
       "display": null,
       "flex": null,
       "flex_flow": null,
       "grid_area": null,
       "grid_auto_columns": null,
       "grid_auto_flow": null,
       "grid_auto_rows": null,
       "grid_column": null,
       "grid_gap": null,
       "grid_row": null,
       "grid_template_areas": null,
       "grid_template_columns": null,
       "grid_template_rows": null,
       "height": null,
       "justify_content": null,
       "justify_items": null,
       "left": null,
       "margin": null,
       "max_height": null,
       "max_width": null,
       "min_height": null,
       "min_width": null,
       "object_fit": null,
       "object_position": null,
       "order": null,
       "overflow": null,
       "overflow_x": null,
       "overflow_y": null,
       "padding": null,
       "right": null,
       "top": null,
       "visibility": null,
       "width": null
      }
     },
     "235828c2d6874e129fed1173c924a3f9": {
      "model_module": "@jupyter-widgets/controls",
      "model_module_version": "1.5.0",
      "model_name": "HTMLModel",
      "state": {
       "_dom_classes": [],
       "_model_module": "@jupyter-widgets/controls",
       "_model_module_version": "1.5.0",
       "_model_name": "HTMLModel",
       "_view_count": null,
       "_view_module": "@jupyter-widgets/controls",
       "_view_module_version": "1.5.0",
       "_view_name": "HTMLView",
       "description": "",
       "description_tooltip": null,
       "layout": "IPY_MODEL_4b5a95c472484a9cb466fe4166769294",
       "placeholder": "​",
       "style": "IPY_MODEL_1a71b21916254edaa0f244f5f8d546c9",
       "value": "tokenizer_config.json: 100%"
      }
     },
     "2592035b31a14ed398cde427ac7ea893": {
      "model_module": "@jupyter-widgets/base",
      "model_module_version": "1.2.0",
      "model_name": "LayoutModel",
      "state": {
       "_model_module": "@jupyter-widgets/base",
       "_model_module_version": "1.2.0",
       "_model_name": "LayoutModel",
       "_view_count": null,
       "_view_module": "@jupyter-widgets/base",
       "_view_module_version": "1.2.0",
       "_view_name": "LayoutView",
       "align_content": null,
       "align_items": null,
       "align_self": null,
       "border": null,
       "bottom": null,
       "display": null,
       "flex": null,
       "flex_flow": null,
       "grid_area": null,
       "grid_auto_columns": null,
       "grid_auto_flow": null,
       "grid_auto_rows": null,
       "grid_column": null,
       "grid_gap": null,
       "grid_row": null,
       "grid_template_areas": null,
       "grid_template_columns": null,
       "grid_template_rows": null,
       "height": null,
       "justify_content": null,
       "justify_items": null,
       "left": null,
       "margin": null,
       "max_height": null,
       "max_width": null,
       "min_height": null,
       "min_width": null,
       "object_fit": null,
       "object_position": null,
       "order": null,
       "overflow": null,
       "overflow_x": null,
       "overflow_y": null,
       "padding": null,
       "right": null,
       "top": null,
       "visibility": null,
       "width": null
      }
     },
     "268f790620ab418881d359a45ce56e58": {
      "model_module": "@jupyter-widgets/controls",
      "model_module_version": "1.5.0",
      "model_name": "HTMLModel",
      "state": {
       "_dom_classes": [],
       "_model_module": "@jupyter-widgets/controls",
       "_model_module_version": "1.5.0",
       "_model_name": "HTMLModel",
       "_view_count": null,
       "_view_module": "@jupyter-widgets/controls",
       "_view_module_version": "1.5.0",
       "_view_name": "HTMLView",
       "description": "",
       "description_tooltip": null,
       "layout": "IPY_MODEL_ff8b325411de40b1aedfa146ba1c9d5c",
       "placeholder": "​",
       "style": "IPY_MODEL_3854e24d631e450d994cb40aa2092bc4",
       "value": " 466k/466k [00:00&lt;00:00, 1.17MB/s]"
      }
     },
     "28c34bc995604738980ad3c9ebd0f702": {
      "model_module": "@jupyter-widgets/controls",
      "model_module_version": "1.5.0",
      "model_name": "HTMLModel",
      "state": {
       "_dom_classes": [],
       "_model_module": "@jupyter-widgets/controls",
       "_model_module_version": "1.5.0",
       "_model_name": "HTMLModel",
       "_view_count": null,
       "_view_module": "@jupyter-widgets/controls",
       "_view_module_version": "1.5.0",
       "_view_name": "HTMLView",
       "description": "",
       "description_tooltip": null,
       "layout": "IPY_MODEL_b9a473e738414086be5f305816a0010e",
       "placeholder": "​",
       "style": "IPY_MODEL_abb5d7213e5a46b2a959a70f78c90089",
       "value": "model.safetensors: 100%"
      }
     },
     "309e1050ced14d2e8008be2a31440af9": {
      "model_module": "@jupyter-widgets/controls",
      "model_module_version": "1.5.0",
      "model_name": "FloatProgressModel",
      "state": {
       "_dom_classes": [],
       "_model_module": "@jupyter-widgets/controls",
       "_model_module_version": "1.5.0",
       "_model_name": "FloatProgressModel",
       "_view_count": null,
       "_view_module": "@jupyter-widgets/controls",
       "_view_module_version": "1.5.0",
       "_view_name": "ProgressView",
       "bar_style": "success",
       "description": "",
       "description_tooltip": null,
       "layout": "IPY_MODEL_f6973a5210cb42dcb55baeee0e556816",
       "max": 350.0,
       "min": 0.0,
       "orientation": "horizontal",
       "style": "IPY_MODEL_7e193c3f9ab14b00837b9a7f5d5415d1",
       "value": 350.0
      }
     },
     "31f5343dc04f47abaeaf45b36b8ad15a": {
      "model_module": "@jupyter-widgets/controls",
      "model_module_version": "1.5.0",
      "model_name": "FloatProgressModel",
      "state": {
       "_dom_classes": [],
       "_model_module": "@jupyter-widgets/controls",
       "_model_module_version": "1.5.0",
       "_model_name": "FloatProgressModel",
       "_view_count": null,
       "_view_module": "@jupyter-widgets/controls",
       "_view_module_version": "1.5.0",
       "_view_name": "ProgressView",
       "bar_style": "success",
       "description": "",
       "description_tooltip": null,
       "layout": "IPY_MODEL_41325c998d3b4967bf9a7eba86ac89ed",
       "max": 90868376.0,
       "min": 0.0,
       "orientation": "horizontal",
       "style": "IPY_MODEL_61b0e7725283418bbe77762d0b69fba0",
       "value": 90868376.0
      }
     },
     "34088cff9db34346b63f2d6164fd7115": {
      "model_module": "@jupyter-widgets/base",
      "model_module_version": "1.2.0",
      "model_name": "LayoutModel",
      "state": {
       "_model_module": "@jupyter-widgets/base",
       "_model_module_version": "1.2.0",
       "_model_name": "LayoutModel",
       "_view_count": null,
       "_view_module": "@jupyter-widgets/base",
       "_view_module_version": "1.2.0",
       "_view_name": "LayoutView",
       "align_content": null,
       "align_items": null,
       "align_self": null,
       "border": null,
       "bottom": null,
       "display": null,
       "flex": null,
       "flex_flow": null,
       "grid_area": null,
       "grid_auto_columns": null,
       "grid_auto_flow": null,
       "grid_auto_rows": null,
       "grid_column": null,
       "grid_gap": null,
       "grid_row": null,
       "grid_template_areas": null,
       "grid_template_columns": null,
       "grid_template_rows": null,
       "height": null,
       "justify_content": null,
       "justify_items": null,
       "left": null,
       "margin": null,
       "max_height": null,
       "max_width": null,
       "min_height": null,
       "min_width": null,
       "object_fit": null,
       "object_position": null,
       "order": null,
       "overflow": null,
       "overflow_x": null,
       "overflow_y": null,
       "padding": null,
       "right": null,
       "top": null,
       "visibility": null,
       "width": null
      }
     },
     "3854e24d631e450d994cb40aa2092bc4": {
      "model_module": "@jupyter-widgets/controls",
      "model_module_version": "1.5.0",
      "model_name": "DescriptionStyleModel",
      "state": {
       "_model_module": "@jupyter-widgets/controls",
       "_model_module_version": "1.5.0",
       "_model_name": "DescriptionStyleModel",
       "_view_count": null,
       "_view_module": "@jupyter-widgets/base",
       "_view_module_version": "1.2.0",
       "_view_name": "StyleView",
       "description_width": ""
      }
     },
     "3d184c1c709e44dcb34d1f36ad9f7809": {
      "model_module": "@jupyter-widgets/base",
      "model_module_version": "1.2.0",
      "model_name": "LayoutModel",
      "state": {
       "_model_module": "@jupyter-widgets/base",
       "_model_module_version": "1.2.0",
       "_model_name": "LayoutModel",
       "_view_count": null,
       "_view_module": "@jupyter-widgets/base",
       "_view_module_version": "1.2.0",
       "_view_name": "LayoutView",
       "align_content": null,
       "align_items": null,
       "align_self": null,
       "border": null,
       "bottom": null,
       "display": null,
       "flex": null,
       "flex_flow": null,
       "grid_area": null,
       "grid_auto_columns": null,
       "grid_auto_flow": null,
       "grid_auto_rows": null,
       "grid_column": null,
       "grid_gap": null,
       "grid_row": null,
       "grid_template_areas": null,
       "grid_template_columns": null,
       "grid_template_rows": null,
       "height": null,
       "justify_content": null,
       "justify_items": null,
       "left": null,
       "margin": null,
       "max_height": null,
       "max_width": null,
       "min_height": null,
       "min_width": null,
       "object_fit": null,
       "object_position": null,
       "order": null,
       "overflow": null,
       "overflow_x": null,
       "overflow_y": null,
       "padding": null,
       "right": null,
       "top": null,
       "visibility": null,
       "width": null
      }
     },
     "3db945404cca4f72a36c1e32943b2b13": {
      "model_module": "@jupyter-widgets/controls",
      "model_module_version": "1.5.0",
      "model_name": "ProgressStyleModel",
      "state": {
       "_model_module": "@jupyter-widgets/controls",
       "_model_module_version": "1.5.0",
       "_model_name": "ProgressStyleModel",
       "_view_count": null,
       "_view_module": "@jupyter-widgets/base",
       "_view_module_version": "1.2.0",
       "_view_name": "StyleView",
       "bar_color": null,
       "description_width": ""
      }
     },
     "3e182343492841bbb69956e6c1eaa271": {
      "model_module": "@jupyter-widgets/controls",
      "model_module_version": "1.5.0",
      "model_name": "ProgressStyleModel",
      "state": {
       "_model_module": "@jupyter-widgets/controls",
       "_model_module_version": "1.5.0",
       "_model_name": "ProgressStyleModel",
       "_view_count": null,
       "_view_module": "@jupyter-widgets/base",
       "_view_module_version": "1.2.0",
       "_view_name": "StyleView",
       "bar_color": null,
       "description_width": ""
      }
     },
     "3f37ef2eef534aa1903b1d1d69e41470": {
      "model_module": "@jupyter-widgets/controls",
      "model_module_version": "1.5.0",
      "model_name": "HTMLModel",
      "state": {
       "_dom_classes": [],
       "_model_module": "@jupyter-widgets/controls",
       "_model_module_version": "1.5.0",
       "_model_name": "HTMLModel",
       "_view_count": null,
       "_view_module": "@jupyter-widgets/controls",
       "_view_module_version": "1.5.0",
       "_view_name": "HTMLView",
       "description": "",
       "description_tooltip": null,
       "layout": "IPY_MODEL_eea5ff29a93244619b1a901f743e58ce",
       "placeholder": "​",
       "style": "IPY_MODEL_4b17e672740847b5a259e3f0e7649eee",
       "value": " 112/112 [00:00&lt;00:00, 9.97kB/s]"
      }
     },
     "41325c998d3b4967bf9a7eba86ac89ed": {
      "model_module": "@jupyter-widgets/base",
      "model_module_version": "1.2.0",
      "model_name": "LayoutModel",
      "state": {
       "_model_module": "@jupyter-widgets/base",
       "_model_module_version": "1.2.0",
       "_model_name": "LayoutModel",
       "_view_count": null,
       "_view_module": "@jupyter-widgets/base",
       "_view_module_version": "1.2.0",
       "_view_name": "LayoutView",
       "align_content": null,
       "align_items": null,
       "align_self": null,
       "border": null,
       "bottom": null,
       "display": null,
       "flex": null,
       "flex_flow": null,
       "grid_area": null,
       "grid_auto_columns": null,
       "grid_auto_flow": null,
       "grid_auto_rows": null,
       "grid_column": null,
       "grid_gap": null,
       "grid_row": null,
       "grid_template_areas": null,
       "grid_template_columns": null,
       "grid_template_rows": null,
       "height": null,
       "justify_content": null,
       "justify_items": null,
       "left": null,
       "margin": null,
       "max_height": null,
       "max_width": null,
       "min_height": null,
       "min_width": null,
       "object_fit": null,
       "object_position": null,
       "order": null,
       "overflow": null,
       "overflow_x": null,
       "overflow_y": null,
       "padding": null,
       "right": null,
       "top": null,
       "visibility": null,
       "width": null
      }
     },
     "4237ef2342be4643a2424e81bed3b319": {
      "model_module": "@jupyter-widgets/base",
      "model_module_version": "1.2.0",
      "model_name": "LayoutModel",
      "state": {
       "_model_module": "@jupyter-widgets/base",
       "_model_module_version": "1.2.0",
       "_model_name": "LayoutModel",
       "_view_count": null,
       "_view_module": "@jupyter-widgets/base",
       "_view_module_version": "1.2.0",
       "_view_name": "LayoutView",
       "align_content": null,
       "align_items": null,
       "align_self": null,
       "border": null,
       "bottom": null,
       "display": null,
       "flex": null,
       "flex_flow": null,
       "grid_area": null,
       "grid_auto_columns": null,
       "grid_auto_flow": null,
       "grid_auto_rows": null,
       "grid_column": null,
       "grid_gap": null,
       "grid_row": null,
       "grid_template_areas": null,
       "grid_template_columns": null,
       "grid_template_rows": null,
       "height": null,
       "justify_content": null,
       "justify_items": null,
       "left": null,
       "margin": null,
       "max_height": null,
       "max_width": null,
       "min_height": null,
       "min_width": null,
       "object_fit": null,
       "object_position": null,
       "order": null,
       "overflow": null,
       "overflow_x": null,
       "overflow_y": null,
       "padding": null,
       "right": null,
       "top": null,
       "visibility": null,
       "width": null
      }
     },
     "44efcf71ca1246dc9b57db9bb73331f3": {
      "model_module": "@jupyter-widgets/base",
      "model_module_version": "1.2.0",
      "model_name": "LayoutModel",
      "state": {
       "_model_module": "@jupyter-widgets/base",
       "_model_module_version": "1.2.0",
       "_model_name": "LayoutModel",
       "_view_count": null,
       "_view_module": "@jupyter-widgets/base",
       "_view_module_version": "1.2.0",
       "_view_name": "LayoutView",
       "align_content": null,
       "align_items": null,
       "align_self": null,
       "border": null,
       "bottom": null,
       "display": null,
       "flex": null,
       "flex_flow": null,
       "grid_area": null,
       "grid_auto_columns": null,
       "grid_auto_flow": null,
       "grid_auto_rows": null,
       "grid_column": null,
       "grid_gap": null,
       "grid_row": null,
       "grid_template_areas": null,
       "grid_template_columns": null,
       "grid_template_rows": null,
       "height": null,
       "justify_content": null,
       "justify_items": null,
       "left": null,
       "margin": null,
       "max_height": null,
       "max_width": null,
       "min_height": null,
       "min_width": null,
       "object_fit": null,
       "object_position": null,
       "order": null,
       "overflow": null,
       "overflow_x": null,
       "overflow_y": null,
       "padding": null,
       "right": null,
       "top": null,
       "visibility": null,
       "width": null
      }
     },
     "46c66cdfeccb42ed9fe4432570a94355": {
      "model_module": "@jupyter-widgets/base",
      "model_module_version": "1.2.0",
      "model_name": "LayoutModel",
      "state": {
       "_model_module": "@jupyter-widgets/base",
       "_model_module_version": "1.2.0",
       "_model_name": "LayoutModel",
       "_view_count": null,
       "_view_module": "@jupyter-widgets/base",
       "_view_module_version": "1.2.0",
       "_view_name": "LayoutView",
       "align_content": null,
       "align_items": null,
       "align_self": null,
       "border": null,
       "bottom": null,
       "display": null,
       "flex": null,
       "flex_flow": null,
       "grid_area": null,
       "grid_auto_columns": null,
       "grid_auto_flow": null,
       "grid_auto_rows": null,
       "grid_column": null,
       "grid_gap": null,
       "grid_row": null,
       "grid_template_areas": null,
       "grid_template_columns": null,
       "grid_template_rows": null,
       "height": null,
       "justify_content": null,
       "justify_items": null,
       "left": null,
       "margin": null,
       "max_height": null,
       "max_width": null,
       "min_height": null,
       "min_width": null,
       "object_fit": null,
       "object_position": null,
       "order": null,
       "overflow": null,
       "overflow_x": null,
       "overflow_y": null,
       "padding": null,
       "right": null,
       "top": null,
       "visibility": null,
       "width": null
      }
     },
     "4b17e672740847b5a259e3f0e7649eee": {
      "model_module": "@jupyter-widgets/controls",
      "model_module_version": "1.5.0",
      "model_name": "DescriptionStyleModel",
      "state": {
       "_model_module": "@jupyter-widgets/controls",
       "_model_module_version": "1.5.0",
       "_model_name": "DescriptionStyleModel",
       "_view_count": null,
       "_view_module": "@jupyter-widgets/base",
       "_view_module_version": "1.2.0",
       "_view_name": "StyleView",
       "description_width": ""
      }
     },
     "4b5a95c472484a9cb466fe4166769294": {
      "model_module": "@jupyter-widgets/base",
      "model_module_version": "1.2.0",
      "model_name": "LayoutModel",
      "state": {
       "_model_module": "@jupyter-widgets/base",
       "_model_module_version": "1.2.0",
       "_model_name": "LayoutModel",
       "_view_count": null,
       "_view_module": "@jupyter-widgets/base",
       "_view_module_version": "1.2.0",
       "_view_name": "LayoutView",
       "align_content": null,
       "align_items": null,
       "align_self": null,
       "border": null,
       "bottom": null,
       "display": null,
       "flex": null,
       "flex_flow": null,
       "grid_area": null,
       "grid_auto_columns": null,
       "grid_auto_flow": null,
       "grid_auto_rows": null,
       "grid_column": null,
       "grid_gap": null,
       "grid_row": null,
       "grid_template_areas": null,
       "grid_template_columns": null,
       "grid_template_rows": null,
       "height": null,
       "justify_content": null,
       "justify_items": null,
       "left": null,
       "margin": null,
       "max_height": null,
       "max_width": null,
       "min_height": null,
       "min_width": null,
       "object_fit": null,
       "object_position": null,
       "order": null,
       "overflow": null,
       "overflow_x": null,
       "overflow_y": null,
       "padding": null,
       "right": null,
       "top": null,
       "visibility": null,
       "width": null
      }
     },
     "4e01e70c64f4423dba777c386a0c2222": {
      "model_module": "@jupyter-widgets/controls",
      "model_module_version": "1.5.0",
      "model_name": "FloatProgressModel",
      "state": {
       "_dom_classes": [],
       "_model_module": "@jupyter-widgets/controls",
       "_model_module_version": "1.5.0",
       "_model_name": "FloatProgressModel",
       "_view_count": null,
       "_view_module": "@jupyter-widgets/controls",
       "_view_module_version": "1.5.0",
       "_view_name": "ProgressView",
       "bar_style": "success",
       "description": "",
       "description_tooltip": null,
       "layout": "IPY_MODEL_a84f62a1064649e089c540db83c36b4b",
       "max": 466247.0,
       "min": 0.0,
       "orientation": "horizontal",
       "style": "IPY_MODEL_c042eaa3e5b7499388050703a584fe8d",
       "value": 466247.0
      }
     },
     "52676f52430a43739cb48e9393759913": {
      "model_module": "@jupyter-widgets/base",
      "model_module_version": "1.2.0",
      "model_name": "LayoutModel",
      "state": {
       "_model_module": "@jupyter-widgets/base",
       "_model_module_version": "1.2.0",
       "_model_name": "LayoutModel",
       "_view_count": null,
       "_view_module": "@jupyter-widgets/base",
       "_view_module_version": "1.2.0",
       "_view_name": "LayoutView",
       "align_content": null,
       "align_items": null,
       "align_self": null,
       "border": null,
       "bottom": null,
       "display": null,
       "flex": null,
       "flex_flow": null,
       "grid_area": null,
       "grid_auto_columns": null,
       "grid_auto_flow": null,
       "grid_auto_rows": null,
       "grid_column": null,
       "grid_gap": null,
       "grid_row": null,
       "grid_template_areas": null,
       "grid_template_columns": null,
       "grid_template_rows": null,
       "height": null,
       "justify_content": null,
       "justify_items": null,
       "left": null,
       "margin": null,
       "max_height": null,
       "max_width": null,
       "min_height": null,
       "min_width": null,
       "object_fit": null,
       "object_position": null,
       "order": null,
       "overflow": null,
       "overflow_x": null,
       "overflow_y": null,
       "padding": null,
       "right": null,
       "top": null,
       "visibility": null,
       "width": null
      }
     },
     "543fd5102d6e42f39e77825cc29d8f8d": {
      "model_module": "@jupyter-widgets/controls",
      "model_module_version": "1.5.0",
      "model_name": "HBoxModel",
      "state": {
       "_dom_classes": [],
       "_model_module": "@jupyter-widgets/controls",
       "_model_module_version": "1.5.0",
       "_model_name": "HBoxModel",
       "_view_count": null,
       "_view_module": "@jupyter-widgets/controls",
       "_view_module_version": "1.5.0",
       "_view_name": "HBoxView",
       "box_style": "",
       "children": [
        "IPY_MODEL_5d76daadf41149778c7088acfc82a985",
        "IPY_MODEL_c4c81e527bc14f35af3b91d05707e45a",
        "IPY_MODEL_a921c5f93389456db0f8d685d445dc36"
       ],
       "layout": "IPY_MODEL_2592035b31a14ed398cde427ac7ea893"
      }
     },
     "549b43dcffed478c96a43ceb4b09f804": {
      "model_module": "@jupyter-widgets/controls",
      "model_module_version": "1.5.0",
      "model_name": "HBoxModel",
      "state": {
       "_dom_classes": [],
       "_model_module": "@jupyter-widgets/controls",
       "_model_module_version": "1.5.0",
       "_model_name": "HBoxModel",
       "_view_count": null,
       "_view_module": "@jupyter-widgets/controls",
       "_view_module_version": "1.5.0",
       "_view_name": "HBoxView",
       "box_style": "",
       "children": [
        "IPY_MODEL_235828c2d6874e129fed1173c924a3f9",
        "IPY_MODEL_309e1050ced14d2e8008be2a31440af9",
        "IPY_MODEL_c9a2ab414747455b86753296c2d38a7f"
       ],
       "layout": "IPY_MODEL_f7c501420a1d42168a238b346213b468"
      }
     },
     "595429b91d6d4c99b0d63b972ab22463": {
      "model_module": "@jupyter-widgets/controls",
      "model_module_version": "1.5.0",
      "model_name": "DescriptionStyleModel",
      "state": {
       "_model_module": "@jupyter-widgets/controls",
       "_model_module_version": "1.5.0",
       "_model_name": "DescriptionStyleModel",
       "_view_count": null,
       "_view_module": "@jupyter-widgets/base",
       "_view_module_version": "1.2.0",
       "_view_name": "StyleView",
       "description_width": ""
      }
     },
     "5bad64c4969c4ef28ac6f8a156382135": {
      "model_module": "@jupyter-widgets/controls",
      "model_module_version": "1.5.0",
      "model_name": "HBoxModel",
      "state": {
       "_dom_classes": [],
       "_model_module": "@jupyter-widgets/controls",
       "_model_module_version": "1.5.0",
       "_model_name": "HBoxModel",
       "_view_count": null,
       "_view_module": "@jupyter-widgets/controls",
       "_view_module_version": "1.5.0",
       "_view_name": "HBoxView",
       "box_style": "",
       "children": [
        "IPY_MODEL_eb4c38bcf6c840b7a5d3e47184072566",
        "IPY_MODEL_4e01e70c64f4423dba777c386a0c2222",
        "IPY_MODEL_268f790620ab418881d359a45ce56e58"
       ],
       "layout": "IPY_MODEL_46c66cdfeccb42ed9fe4432570a94355"
      }
     },
     "5d76daadf41149778c7088acfc82a985": {
      "model_module": "@jupyter-widgets/controls",
      "model_module_version": "1.5.0",
      "model_name": "HTMLModel",
      "state": {
       "_dom_classes": [],
       "_model_module": "@jupyter-widgets/controls",
       "_model_module_version": "1.5.0",
       "_model_name": "HTMLModel",
       "_view_count": null,
       "_view_module": "@jupyter-widgets/controls",
       "_view_module_version": "1.5.0",
       "_view_name": "HTMLView",
       "description": "",
       "description_tooltip": null,
       "layout": "IPY_MODEL_763f82dd47e74cc5a56407a8908b8291",
       "placeholder": "​",
       "style": "IPY_MODEL_1612434d1b48450bb87a7868bc9aaecd",
       "value": "config.json: 100%"
      }
     },
     "61b0e7725283418bbe77762d0b69fba0": {
      "model_module": "@jupyter-widgets/controls",
      "model_module_version": "1.5.0",
      "model_name": "ProgressStyleModel",
      "state": {
       "_model_module": "@jupyter-widgets/controls",
       "_model_module_version": "1.5.0",
       "_model_name": "ProgressStyleModel",
       "_view_count": null,
       "_view_module": "@jupyter-widgets/base",
       "_view_module_version": "1.2.0",
       "_view_name": "StyleView",
       "bar_color": null,
       "description_width": ""
      }
     },
     "62f84f09f03d47e1848c89d6bef8a481": {
      "model_module": "@jupyter-widgets/controls",
      "model_module_version": "1.5.0",
      "model_name": "DescriptionStyleModel",
      "state": {
       "_model_module": "@jupyter-widgets/controls",
       "_model_module_version": "1.5.0",
       "_model_name": "DescriptionStyleModel",
       "_view_count": null,
       "_view_module": "@jupyter-widgets/base",
       "_view_module_version": "1.2.0",
       "_view_name": "StyleView",
       "description_width": ""
      }
     },
     "638ee964574c4bf5938b71b66c54f751": {
      "model_module": "@jupyter-widgets/controls",
      "model_module_version": "1.5.0",
      "model_name": "HBoxModel",
      "state": {
       "_dom_classes": [],
       "_model_module": "@jupyter-widgets/controls",
       "_model_module_version": "1.5.0",
       "_model_name": "HBoxModel",
       "_view_count": null,
       "_view_module": "@jupyter-widgets/controls",
       "_view_module_version": "1.5.0",
       "_view_name": "HBoxView",
       "box_style": "",
       "children": [
        "IPY_MODEL_195aceec5b0d42938424b3191c466b0f",
        "IPY_MODEL_92ea49a825ce4c56ad4792b77d767e84",
        "IPY_MODEL_c5ee827cf3dd4cbcb918704291d01420"
       ],
       "layout": "IPY_MODEL_4237ef2342be4643a2424e81bed3b319"
      }
     },
     "66ded0a1c9e04050b03152970b0e89d9": {
      "model_module": "@jupyter-widgets/controls",
      "model_module_version": "1.5.0",
      "model_name": "DescriptionStyleModel",
      "state": {
       "_model_module": "@jupyter-widgets/controls",
       "_model_module_version": "1.5.0",
       "_model_name": "DescriptionStyleModel",
       "_view_count": null,
       "_view_module": "@jupyter-widgets/base",
       "_view_module_version": "1.2.0",
       "_view_name": "StyleView",
       "description_width": ""
      }
     },
     "6e7bffc0a9334590962d69d8c4e49689": {
      "model_module": "@jupyter-widgets/controls",
      "model_module_version": "1.5.0",
      "model_name": "DescriptionStyleModel",
      "state": {
       "_model_module": "@jupyter-widgets/controls",
       "_model_module_version": "1.5.0",
       "_model_name": "DescriptionStyleModel",
       "_view_count": null,
       "_view_module": "@jupyter-widgets/base",
       "_view_module_version": "1.2.0",
       "_view_name": "StyleView",
       "description_width": ""
      }
     },
     "75412f58fcd94843bfc3bf34079b0c9c": {
      "model_module": "@jupyter-widgets/base",
      "model_module_version": "1.2.0",
      "model_name": "LayoutModel",
      "state": {
       "_model_module": "@jupyter-widgets/base",
       "_model_module_version": "1.2.0",
       "_model_name": "LayoutModel",
       "_view_count": null,
       "_view_module": "@jupyter-widgets/base",
       "_view_module_version": "1.2.0",
       "_view_name": "LayoutView",
       "align_content": null,
       "align_items": null,
       "align_self": null,
       "border": null,
       "bottom": null,
       "display": null,
       "flex": null,
       "flex_flow": null,
       "grid_area": null,
       "grid_auto_columns": null,
       "grid_auto_flow": null,
       "grid_auto_rows": null,
       "grid_column": null,
       "grid_gap": null,
       "grid_row": null,
       "grid_template_areas": null,
       "grid_template_columns": null,
       "grid_template_rows": null,
       "height": null,
       "justify_content": null,
       "justify_items": null,
       "left": null,
       "margin": null,
       "max_height": null,
       "max_width": null,
       "min_height": null,
       "min_width": null,
       "object_fit": null,
       "object_position": null,
       "order": null,
       "overflow": null,
       "overflow_x": null,
       "overflow_y": null,
       "padding": null,
       "right": null,
       "top": null,
       "visibility": null,
       "width": null
      }
     },
     "763f82dd47e74cc5a56407a8908b8291": {
      "model_module": "@jupyter-widgets/base",
      "model_module_version": "1.2.0",
      "model_name": "LayoutModel",
      "state": {
       "_model_module": "@jupyter-widgets/base",
       "_model_module_version": "1.2.0",
       "_model_name": "LayoutModel",
       "_view_count": null,
       "_view_module": "@jupyter-widgets/base",
       "_view_module_version": "1.2.0",
       "_view_name": "LayoutView",
       "align_content": null,
       "align_items": null,
       "align_self": null,
       "border": null,
       "bottom": null,
       "display": null,
       "flex": null,
       "flex_flow": null,
       "grid_area": null,
       "grid_auto_columns": null,
       "grid_auto_flow": null,
       "grid_auto_rows": null,
       "grid_column": null,
       "grid_gap": null,
       "grid_row": null,
       "grid_template_areas": null,
       "grid_template_columns": null,
       "grid_template_rows": null,
       "height": null,
       "justify_content": null,
       "justify_items": null,
       "left": null,
       "margin": null,
       "max_height": null,
       "max_width": null,
       "min_height": null,
       "min_width": null,
       "object_fit": null,
       "object_position": null,
       "order": null,
       "overflow": null,
       "overflow_x": null,
       "overflow_y": null,
       "padding": null,
       "right": null,
       "top": null,
       "visibility": null,
       "width": null
      }
     },
     "7e193c3f9ab14b00837b9a7f5d5415d1": {
      "model_module": "@jupyter-widgets/controls",
      "model_module_version": "1.5.0",
      "model_name": "ProgressStyleModel",
      "state": {
       "_model_module": "@jupyter-widgets/controls",
       "_model_module_version": "1.5.0",
       "_model_name": "ProgressStyleModel",
       "_view_count": null,
       "_view_module": "@jupyter-widgets/base",
       "_view_module_version": "1.2.0",
       "_view_name": "StyleView",
       "bar_color": null,
       "description_width": ""
      }
     },
     "8133f8d2be624f168be69f4a5f132fa6": {
      "model_module": "@jupyter-widgets/base",
      "model_module_version": "1.2.0",
      "model_name": "LayoutModel",
      "state": {
       "_model_module": "@jupyter-widgets/base",
       "_model_module_version": "1.2.0",
       "_model_name": "LayoutModel",
       "_view_count": null,
       "_view_module": "@jupyter-widgets/base",
       "_view_module_version": "1.2.0",
       "_view_name": "LayoutView",
       "align_content": null,
       "align_items": null,
       "align_self": null,
       "border": null,
       "bottom": null,
       "display": null,
       "flex": null,
       "flex_flow": null,
       "grid_area": null,
       "grid_auto_columns": null,
       "grid_auto_flow": null,
       "grid_auto_rows": null,
       "grid_column": null,
       "grid_gap": null,
       "grid_row": null,
       "grid_template_areas": null,
       "grid_template_columns": null,
       "grid_template_rows": null,
       "height": null,
       "justify_content": null,
       "justify_items": null,
       "left": null,
       "margin": null,
       "max_height": null,
       "max_width": null,
       "min_height": null,
       "min_width": null,
       "object_fit": null,
       "object_position": null,
       "order": null,
       "overflow": null,
       "overflow_x": null,
       "overflow_y": null,
       "padding": null,
       "right": null,
       "top": null,
       "visibility": null,
       "width": null
      }
     },
     "825b12129df64e87b18c221d093f788c": {
      "model_module": "@jupyter-widgets/controls",
      "model_module_version": "1.5.0",
      "model_name": "ProgressStyleModel",
      "state": {
       "_model_module": "@jupyter-widgets/controls",
       "_model_module_version": "1.5.0",
       "_model_name": "ProgressStyleModel",
       "_view_count": null,
       "_view_module": "@jupyter-widgets/base",
       "_view_module_version": "1.2.0",
       "_view_name": "StyleView",
       "bar_color": null,
       "description_width": ""
      }
     },
     "877805398efd4065b58645e309015bfb": {
      "model_module": "@jupyter-widgets/base",
      "model_module_version": "1.2.0",
      "model_name": "LayoutModel",
      "state": {
       "_model_module": "@jupyter-widgets/base",
       "_model_module_version": "1.2.0",
       "_model_name": "LayoutModel",
       "_view_count": null,
       "_view_module": "@jupyter-widgets/base",
       "_view_module_version": "1.2.0",
       "_view_name": "LayoutView",
       "align_content": null,
       "align_items": null,
       "align_self": null,
       "border": null,
       "bottom": null,
       "display": null,
       "flex": null,
       "flex_flow": null,
       "grid_area": null,
       "grid_auto_columns": null,
       "grid_auto_flow": null,
       "grid_auto_rows": null,
       "grid_column": null,
       "grid_gap": null,
       "grid_row": null,
       "grid_template_areas": null,
       "grid_template_columns": null,
       "grid_template_rows": null,
       "height": null,
       "justify_content": null,
       "justify_items": null,
       "left": null,
       "margin": null,
       "max_height": null,
       "max_width": null,
       "min_height": null,
       "min_width": null,
       "object_fit": null,
       "object_position": null,
       "order": null,
       "overflow": null,
       "overflow_x": null,
       "overflow_y": null,
       "padding": null,
       "right": null,
       "top": null,
       "visibility": null,
       "width": null
      }
     },
     "8911e5f5fcfa48de88f232daf0b7617a": {
      "model_module": "@jupyter-widgets/controls",
      "model_module_version": "1.5.0",
      "model_name": "HTMLModel",
      "state": {
       "_dom_classes": [],
       "_model_module": "@jupyter-widgets/controls",
       "_model_module_version": "1.5.0",
       "_model_name": "HTMLModel",
       "_view_count": null,
       "_view_module": "@jupyter-widgets/controls",
       "_view_module_version": "1.5.0",
       "_view_name": "HTMLView",
       "description": "",
       "description_tooltip": null,
       "layout": "IPY_MODEL_8133f8d2be624f168be69f4a5f132fa6",
       "placeholder": "​",
       "style": "IPY_MODEL_66ded0a1c9e04050b03152970b0e89d9",
       "value": "special_tokens_map.json: 100%"
      }
     },
     "90bfb66e7688471cafc45ccc3e8677db": {
      "model_module": "@jupyter-widgets/controls",
      "model_module_version": "1.5.0",
      "model_name": "DescriptionStyleModel",
      "state": {
       "_model_module": "@jupyter-widgets/controls",
       "_model_module_version": "1.5.0",
       "_model_name": "DescriptionStyleModel",
       "_view_count": null,
       "_view_module": "@jupyter-widgets/base",
       "_view_module_version": "1.2.0",
       "_view_name": "StyleView",
       "description_width": ""
      }
     },
     "92ea49a825ce4c56ad4792b77d767e84": {
      "model_module": "@jupyter-widgets/controls",
      "model_module_version": "1.5.0",
      "model_name": "FloatProgressModel",
      "state": {
       "_dom_classes": [],
       "_model_module": "@jupyter-widgets/controls",
       "_model_module_version": "1.5.0",
       "_model_name": "FloatProgressModel",
       "_view_count": null,
       "_view_module": "@jupyter-widgets/controls",
       "_view_module_version": "1.5.0",
       "_view_name": "ProgressView",
       "bar_style": "success",
       "description": "",
       "description_tooltip": null,
       "layout": "IPY_MODEL_75412f58fcd94843bfc3bf34079b0c9c",
       "max": 231508.0,
       "min": 0.0,
       "orientation": "horizontal",
       "style": "IPY_MODEL_825b12129df64e87b18c221d093f788c",
       "value": 231508.0
      }
     },
     "a84f62a1064649e089c540db83c36b4b": {
      "model_module": "@jupyter-widgets/base",
      "model_module_version": "1.2.0",
      "model_name": "LayoutModel",
      "state": {
       "_model_module": "@jupyter-widgets/base",
       "_model_module_version": "1.2.0",
       "_model_name": "LayoutModel",
       "_view_count": null,
       "_view_module": "@jupyter-widgets/base",
       "_view_module_version": "1.2.0",
       "_view_name": "LayoutView",
       "align_content": null,
       "align_items": null,
       "align_self": null,
       "border": null,
       "bottom": null,
       "display": null,
       "flex": null,
       "flex_flow": null,
       "grid_area": null,
       "grid_auto_columns": null,
       "grid_auto_flow": null,
       "grid_auto_rows": null,
       "grid_column": null,
       "grid_gap": null,
       "grid_row": null,
       "grid_template_areas": null,
       "grid_template_columns": null,
       "grid_template_rows": null,
       "height": null,
       "justify_content": null,
       "justify_items": null,
       "left": null,
       "margin": null,
       "max_height": null,
       "max_width": null,
       "min_height": null,
       "min_width": null,
       "object_fit": null,
       "object_position": null,
       "order": null,
       "overflow": null,
       "overflow_x": null,
       "overflow_y": null,
       "padding": null,
       "right": null,
       "top": null,
       "visibility": null,
       "width": null
      }
     },
     "a921c5f93389456db0f8d685d445dc36": {
      "model_module": "@jupyter-widgets/controls",
      "model_module_version": "1.5.0",
      "model_name": "HTMLModel",
      "state": {
       "_dom_classes": [],
       "_model_module": "@jupyter-widgets/controls",
       "_model_module_version": "1.5.0",
       "_model_name": "HTMLModel",
       "_view_count": null,
       "_view_module": "@jupyter-widgets/controls",
       "_view_module_version": "1.5.0",
       "_view_name": "HTMLView",
       "description": "",
       "description_tooltip": null,
       "layout": "IPY_MODEL_877805398efd4065b58645e309015bfb",
       "placeholder": "​",
       "style": "IPY_MODEL_62f84f09f03d47e1848c89d6bef8a481",
       "value": " 612/612 [00:00&lt;00:00, 51.0kB/s]"
      }
     },
     "abb5d7213e5a46b2a959a70f78c90089": {
      "model_module": "@jupyter-widgets/controls",
      "model_module_version": "1.5.0",
      "model_name": "DescriptionStyleModel",
      "state": {
       "_model_module": "@jupyter-widgets/controls",
       "_model_module_version": "1.5.0",
       "_model_name": "DescriptionStyleModel",
       "_view_count": null,
       "_view_module": "@jupyter-widgets/base",
       "_view_module_version": "1.2.0",
       "_view_name": "StyleView",
       "description_width": ""
      }
     },
     "ade91df19aae4b48b9cb2fe838453076": {
      "model_module": "@jupyter-widgets/controls",
      "model_module_version": "1.5.0",
      "model_name": "FloatProgressModel",
      "state": {
       "_dom_classes": [],
       "_model_module": "@jupyter-widgets/controls",
       "_model_module_version": "1.5.0",
       "_model_name": "FloatProgressModel",
       "_view_count": null,
       "_view_module": "@jupyter-widgets/controls",
       "_view_module_version": "1.5.0",
       "_view_name": "ProgressView",
       "bar_style": "success",
       "description": "",
       "description_tooltip": null,
       "layout": "IPY_MODEL_10a3b8f0eedc45faa0edef6aac3ce5eb",
       "max": 112.0,
       "min": 0.0,
       "orientation": "horizontal",
       "style": "IPY_MODEL_3e182343492841bbb69956e6c1eaa271",
       "value": 112.0
      }
     },
     "b55d3fb79bd8450fb7ec76f716752546": {
      "model_module": "@jupyter-widgets/base",
      "model_module_version": "1.2.0",
      "model_name": "LayoutModel",
      "state": {
       "_model_module": "@jupyter-widgets/base",
       "_model_module_version": "1.2.0",
       "_model_name": "LayoutModel",
       "_view_count": null,
       "_view_module": "@jupyter-widgets/base",
       "_view_module_version": "1.2.0",
       "_view_name": "LayoutView",
       "align_content": null,
       "align_items": null,
       "align_self": null,
       "border": null,
       "bottom": null,
       "display": null,
       "flex": null,
       "flex_flow": null,
       "grid_area": null,
       "grid_auto_columns": null,
       "grid_auto_flow": null,
       "grid_auto_rows": null,
       "grid_column": null,
       "grid_gap": null,
       "grid_row": null,
       "grid_template_areas": null,
       "grid_template_columns": null,
       "grid_template_rows": null,
       "height": null,
       "justify_content": null,
       "justify_items": null,
       "left": null,
       "margin": null,
       "max_height": null,
       "max_width": null,
       "min_height": null,
       "min_width": null,
       "object_fit": null,
       "object_position": null,
       "order": null,
       "overflow": null,
       "overflow_x": null,
       "overflow_y": null,
       "padding": null,
       "right": null,
       "top": null,
       "visibility": null,
       "width": null
      }
     },
     "b9a473e738414086be5f305816a0010e": {
      "model_module": "@jupyter-widgets/base",
      "model_module_version": "1.2.0",
      "model_name": "LayoutModel",
      "state": {
       "_model_module": "@jupyter-widgets/base",
       "_model_module_version": "1.2.0",
       "_model_name": "LayoutModel",
       "_view_count": null,
       "_view_module": "@jupyter-widgets/base",
       "_view_module_version": "1.2.0",
       "_view_name": "LayoutView",
       "align_content": null,
       "align_items": null,
       "align_self": null,
       "border": null,
       "bottom": null,
       "display": null,
       "flex": null,
       "flex_flow": null,
       "grid_area": null,
       "grid_auto_columns": null,
       "grid_auto_flow": null,
       "grid_auto_rows": null,
       "grid_column": null,
       "grid_gap": null,
       "grid_row": null,
       "grid_template_areas": null,
       "grid_template_columns": null,
       "grid_template_rows": null,
       "height": null,
       "justify_content": null,
       "justify_items": null,
       "left": null,
       "margin": null,
       "max_height": null,
       "max_width": null,
       "min_height": null,
       "min_width": null,
       "object_fit": null,
       "object_position": null,
       "order": null,
       "overflow": null,
       "overflow_x": null,
       "overflow_y": null,
       "padding": null,
       "right": null,
       "top": null,
       "visibility": null,
       "width": null
      }
     },
     "c042eaa3e5b7499388050703a584fe8d": {
      "model_module": "@jupyter-widgets/controls",
      "model_module_version": "1.5.0",
      "model_name": "ProgressStyleModel",
      "state": {
       "_model_module": "@jupyter-widgets/controls",
       "_model_module_version": "1.5.0",
       "_model_name": "ProgressStyleModel",
       "_view_count": null,
       "_view_module": "@jupyter-widgets/base",
       "_view_module_version": "1.2.0",
       "_view_name": "StyleView",
       "bar_color": null,
       "description_width": ""
      }
     },
     "c4c81e527bc14f35af3b91d05707e45a": {
      "model_module": "@jupyter-widgets/controls",
      "model_module_version": "1.5.0",
      "model_name": "FloatProgressModel",
      "state": {
       "_dom_classes": [],
       "_model_module": "@jupyter-widgets/controls",
       "_model_module_version": "1.5.0",
       "_model_name": "FloatProgressModel",
       "_view_count": null,
       "_view_module": "@jupyter-widgets/controls",
       "_view_module_version": "1.5.0",
       "_view_name": "ProgressView",
       "bar_style": "success",
       "description": "",
       "description_tooltip": null,
       "layout": "IPY_MODEL_fb534bb99fa142ca90f02e820eebc021",
       "max": 612.0,
       "min": 0.0,
       "orientation": "horizontal",
       "style": "IPY_MODEL_3db945404cca4f72a36c1e32943b2b13",
       "value": 612.0
      }
     },
     "c5ee827cf3dd4cbcb918704291d01420": {
      "model_module": "@jupyter-widgets/controls",
      "model_module_version": "1.5.0",
      "model_name": "HTMLModel",
      "state": {
       "_dom_classes": [],
       "_model_module": "@jupyter-widgets/controls",
       "_model_module_version": "1.5.0",
       "_model_name": "HTMLModel",
       "_view_count": null,
       "_view_module": "@jupyter-widgets/controls",
       "_view_module_version": "1.5.0",
       "_view_name": "HTMLView",
       "description": "",
       "description_tooltip": null,
       "layout": "IPY_MODEL_3d184c1c709e44dcb34d1f36ad9f7809",
       "placeholder": "​",
       "style": "IPY_MODEL_c687c242b2f641ba8905ef13111c07e7",
       "value": " 232k/232k [00:00&lt;00:00, 580kB/s]"
      }
     },
     "c687c242b2f641ba8905ef13111c07e7": {
      "model_module": "@jupyter-widgets/controls",
      "model_module_version": "1.5.0",
      "model_name": "DescriptionStyleModel",
      "state": {
       "_model_module": "@jupyter-widgets/controls",
       "_model_module_version": "1.5.0",
       "_model_name": "DescriptionStyleModel",
       "_view_count": null,
       "_view_module": "@jupyter-widgets/base",
       "_view_module_version": "1.2.0",
       "_view_name": "StyleView",
       "description_width": ""
      }
     },
     "c9a2ab414747455b86753296c2d38a7f": {
      "model_module": "@jupyter-widgets/controls",
      "model_module_version": "1.5.0",
      "model_name": "HTMLModel",
      "state": {
       "_dom_classes": [],
       "_model_module": "@jupyter-widgets/controls",
       "_model_module_version": "1.5.0",
       "_model_name": "HTMLModel",
       "_view_count": null,
       "_view_module": "@jupyter-widgets/controls",
       "_view_module_version": "1.5.0",
       "_view_name": "HTMLView",
       "description": "",
       "description_tooltip": null,
       "layout": "IPY_MODEL_b55d3fb79bd8450fb7ec76f716752546",
       "placeholder": "​",
       "style": "IPY_MODEL_6e7bffc0a9334590962d69d8c4e49689",
       "value": " 350/350 [00:00&lt;00:00, 29.9kB/s]"
      }
     },
     "cf8f735c2dba46f2a28e83a2cbb3efea": {
      "model_module": "@jupyter-widgets/base",
      "model_module_version": "1.2.0",
      "model_name": "LayoutModel",
      "state": {
       "_model_module": "@jupyter-widgets/base",
       "_model_module_version": "1.2.0",
       "_model_name": "LayoutModel",
       "_view_count": null,
       "_view_module": "@jupyter-widgets/base",
       "_view_module_version": "1.2.0",
       "_view_name": "LayoutView",
       "align_content": null,
       "align_items": null,
       "align_self": null,
       "border": null,
       "bottom": null,
       "display": null,
       "flex": null,
       "flex_flow": null,
       "grid_area": null,
       "grid_auto_columns": null,
       "grid_auto_flow": null,
       "grid_auto_rows": null,
       "grid_column": null,
       "grid_gap": null,
       "grid_row": null,
       "grid_template_areas": null,
       "grid_template_columns": null,
       "grid_template_rows": null,
       "height": null,
       "justify_content": null,
       "justify_items": null,
       "left": null,
       "margin": null,
       "max_height": null,
       "max_width": null,
       "min_height": null,
       "min_width": null,
       "object_fit": null,
       "object_position": null,
       "order": null,
       "overflow": null,
       "overflow_x": null,
       "overflow_y": null,
       "padding": null,
       "right": null,
       "top": null,
       "visibility": null,
       "width": null
      }
     },
     "e19d671f92ec423c90246e71edc78d91": {
      "model_module": "@jupyter-widgets/controls",
      "model_module_version": "1.5.0",
      "model_name": "HBoxModel",
      "state": {
       "_dom_classes": [],
       "_model_module": "@jupyter-widgets/controls",
       "_model_module_version": "1.5.0",
       "_model_name": "HBoxModel",
       "_view_count": null,
       "_view_module": "@jupyter-widgets/controls",
       "_view_module_version": "1.5.0",
       "_view_name": "HBoxView",
       "box_style": "",
       "children": [
        "IPY_MODEL_8911e5f5fcfa48de88f232daf0b7617a",
        "IPY_MODEL_ade91df19aae4b48b9cb2fe838453076",
        "IPY_MODEL_3f37ef2eef534aa1903b1d1d69e41470"
       ],
       "layout": "IPY_MODEL_44efcf71ca1246dc9b57db9bb73331f3"
      }
     },
     "e6023c3ab4f24c9bbf3e407ab3c823c5": {
      "model_module": "@jupyter-widgets/controls",
      "model_module_version": "1.5.0",
      "model_name": "HBoxModel",
      "state": {
       "_dom_classes": [],
       "_model_module": "@jupyter-widgets/controls",
       "_model_module_version": "1.5.0",
       "_model_name": "HBoxModel",
       "_view_count": null,
       "_view_module": "@jupyter-widgets/controls",
       "_view_module_version": "1.5.0",
       "_view_name": "HBoxView",
       "box_style": "",
       "children": [
        "IPY_MODEL_28c34bc995604738980ad3c9ebd0f702",
        "IPY_MODEL_31f5343dc04f47abaeaf45b36b8ad15a",
        "IPY_MODEL_04493af81b0945ccbd674ca5b0eff566"
       ],
       "layout": "IPY_MODEL_220eb98031a2423cbcdad4ae33d09767"
      }
     },
     "eb4c38bcf6c840b7a5d3e47184072566": {
      "model_module": "@jupyter-widgets/controls",
      "model_module_version": "1.5.0",
      "model_name": "HTMLModel",
      "state": {
       "_dom_classes": [],
       "_model_module": "@jupyter-widgets/controls",
       "_model_module_version": "1.5.0",
       "_model_name": "HTMLModel",
       "_view_count": null,
       "_view_module": "@jupyter-widgets/controls",
       "_view_module_version": "1.5.0",
       "_view_name": "HTMLView",
       "description": "",
       "description_tooltip": null,
       "layout": "IPY_MODEL_52676f52430a43739cb48e9393759913",
       "placeholder": "​",
       "style": "IPY_MODEL_90bfb66e7688471cafc45ccc3e8677db",
       "value": "tokenizer.json: 100%"
      }
     },
     "eea5ff29a93244619b1a901f743e58ce": {
      "model_module": "@jupyter-widgets/base",
      "model_module_version": "1.2.0",
      "model_name": "LayoutModel",
      "state": {
       "_model_module": "@jupyter-widgets/base",
       "_model_module_version": "1.2.0",
       "_model_name": "LayoutModel",
       "_view_count": null,
       "_view_module": "@jupyter-widgets/base",
       "_view_module_version": "1.2.0",
       "_view_name": "LayoutView",
       "align_content": null,
       "align_items": null,
       "align_self": null,
       "border": null,
       "bottom": null,
       "display": null,
       "flex": null,
       "flex_flow": null,
       "grid_area": null,
       "grid_auto_columns": null,
       "grid_auto_flow": null,
       "grid_auto_rows": null,
       "grid_column": null,
       "grid_gap": null,
       "grid_row": null,
       "grid_template_areas": null,
       "grid_template_columns": null,
       "grid_template_rows": null,
       "height": null,
       "justify_content": null,
       "justify_items": null,
       "left": null,
       "margin": null,
       "max_height": null,
       "max_width": null,
       "min_height": null,
       "min_width": null,
       "object_fit": null,
       "object_position": null,
       "order": null,
       "overflow": null,
       "overflow_x": null,
       "overflow_y": null,
       "padding": null,
       "right": null,
       "top": null,
       "visibility": null,
       "width": null
      }
     },
     "efc656d72b0c407ab30e524754199796": {
      "model_module": "@jupyter-widgets/controls",
      "model_module_version": "1.5.0",
      "model_name": "DescriptionStyleModel",
      "state": {
       "_model_module": "@jupyter-widgets/controls",
       "_model_module_version": "1.5.0",
       "_model_name": "DescriptionStyleModel",
       "_view_count": null,
       "_view_module": "@jupyter-widgets/base",
       "_view_module_version": "1.2.0",
       "_view_name": "StyleView",
       "description_width": ""
      }
     },
     "f6973a5210cb42dcb55baeee0e556816": {
      "model_module": "@jupyter-widgets/base",
      "model_module_version": "1.2.0",
      "model_name": "LayoutModel",
      "state": {
       "_model_module": "@jupyter-widgets/base",
       "_model_module_version": "1.2.0",
       "_model_name": "LayoutModel",
       "_view_count": null,
       "_view_module": "@jupyter-widgets/base",
       "_view_module_version": "1.2.0",
       "_view_name": "LayoutView",
       "align_content": null,
       "align_items": null,
       "align_self": null,
       "border": null,
       "bottom": null,
       "display": null,
       "flex": null,
       "flex_flow": null,
       "grid_area": null,
       "grid_auto_columns": null,
       "grid_auto_flow": null,
       "grid_auto_rows": null,
       "grid_column": null,
       "grid_gap": null,
       "grid_row": null,
       "grid_template_areas": null,
       "grid_template_columns": null,
       "grid_template_rows": null,
       "height": null,
       "justify_content": null,
       "justify_items": null,
       "left": null,
       "margin": null,
       "max_height": null,
       "max_width": null,
       "min_height": null,
       "min_width": null,
       "object_fit": null,
       "object_position": null,
       "order": null,
       "overflow": null,
       "overflow_x": null,
       "overflow_y": null,
       "padding": null,
       "right": null,
       "top": null,
       "visibility": null,
       "width": null
      }
     },
     "f7c501420a1d42168a238b346213b468": {
      "model_module": "@jupyter-widgets/base",
      "model_module_version": "1.2.0",
      "model_name": "LayoutModel",
      "state": {
       "_model_module": "@jupyter-widgets/base",
       "_model_module_version": "1.2.0",
       "_model_name": "LayoutModel",
       "_view_count": null,
       "_view_module": "@jupyter-widgets/base",
       "_view_module_version": "1.2.0",
       "_view_name": "LayoutView",
       "align_content": null,
       "align_items": null,
       "align_self": null,
       "border": null,
       "bottom": null,
       "display": null,
       "flex": null,
       "flex_flow": null,
       "grid_area": null,
       "grid_auto_columns": null,
       "grid_auto_flow": null,
       "grid_auto_rows": null,
       "grid_column": null,
       "grid_gap": null,
       "grid_row": null,
       "grid_template_areas": null,
       "grid_template_columns": null,
       "grid_template_rows": null,
       "height": null,
       "justify_content": null,
       "justify_items": null,
       "left": null,
       "margin": null,
       "max_height": null,
       "max_width": null,
       "min_height": null,
       "min_width": null,
       "object_fit": null,
       "object_position": null,
       "order": null,
       "overflow": null,
       "overflow_x": null,
       "overflow_y": null,
       "padding": null,
       "right": null,
       "top": null,
       "visibility": null,
       "width": null
      }
     },
     "fb534bb99fa142ca90f02e820eebc021": {
      "model_module": "@jupyter-widgets/base",
      "model_module_version": "1.2.0",
      "model_name": "LayoutModel",
      "state": {
       "_model_module": "@jupyter-widgets/base",
       "_model_module_version": "1.2.0",
       "_model_name": "LayoutModel",
       "_view_count": null,
       "_view_module": "@jupyter-widgets/base",
       "_view_module_version": "1.2.0",
       "_view_name": "LayoutView",
       "align_content": null,
       "align_items": null,
       "align_self": null,
       "border": null,
       "bottom": null,
       "display": null,
       "flex": null,
       "flex_flow": null,
       "grid_area": null,
       "grid_auto_columns": null,
       "grid_auto_flow": null,
       "grid_auto_rows": null,
       "grid_column": null,
       "grid_gap": null,
       "grid_row": null,
       "grid_template_areas": null,
       "grid_template_columns": null,
       "grid_template_rows": null,
       "height": null,
       "justify_content": null,
       "justify_items": null,
       "left": null,
       "margin": null,
       "max_height": null,
       "max_width": null,
       "min_height": null,
       "min_width": null,
       "object_fit": null,
       "object_position": null,
       "order": null,
       "overflow": null,
       "overflow_x": null,
       "overflow_y": null,
       "padding": null,
       "right": null,
       "top": null,
       "visibility": null,
       "width": null
      }
     },
     "ff8b325411de40b1aedfa146ba1c9d5c": {
      "model_module": "@jupyter-widgets/base",
      "model_module_version": "1.2.0",
      "model_name": "LayoutModel",
      "state": {
       "_model_module": "@jupyter-widgets/base",
       "_model_module_version": "1.2.0",
       "_model_name": "LayoutModel",
       "_view_count": null,
       "_view_module": "@jupyter-widgets/base",
       "_view_module_version": "1.2.0",
       "_view_name": "LayoutView",
       "align_content": null,
       "align_items": null,
       "align_self": null,
       "border": null,
       "bottom": null,
       "display": null,
       "flex": null,
       "flex_flow": null,
       "grid_area": null,
       "grid_auto_columns": null,
       "grid_auto_flow": null,
       "grid_auto_rows": null,
       "grid_column": null,
       "grid_gap": null,
       "grid_row": null,
       "grid_template_areas": null,
       "grid_template_columns": null,
       "grid_template_rows": null,
       "height": null,
       "justify_content": null,
       "justify_items": null,
       "left": null,
       "margin": null,
       "max_height": null,
       "max_width": null,
       "min_height": null,
       "min_width": null,
       "object_fit": null,
       "object_position": null,
       "order": null,
       "overflow": null,
       "overflow_x": null,
       "overflow_y": null,
       "padding": null,
       "right": null,
       "top": null,
       "visibility": null,
       "width": null
      }
     }
    },
    "version_major": 2,
    "version_minor": 0
   }
  }
 },
 "nbformat": 4,
 "nbformat_minor": 5
}
