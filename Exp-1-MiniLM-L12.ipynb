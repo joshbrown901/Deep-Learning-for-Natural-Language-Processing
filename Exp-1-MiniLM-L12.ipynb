{
 "cells": [
  {
   "cell_type": "code",
   "execution_count": 1,
   "id": "bb2d9970",
   "metadata": {
    "execution": {
     "iopub.execute_input": "2024-04-19T12:08:41.881295Z",
     "iopub.status.busy": "2024-04-19T12:08:41.880458Z",
     "iopub.status.idle": "2024-04-19T12:08:49.048915Z",
     "shell.execute_reply": "2024-04-19T12:08:49.047964Z"
    },
    "id": "pvr5WO3Dk3k7",
    "papermill": {
     "duration": 7.19826,
     "end_time": "2024-04-19T12:08:49.051200",
     "exception": false,
     "start_time": "2024-04-19T12:08:41.852940",
     "status": "completed"
    },
    "tags": []
   },
   "outputs": [],
   "source": [
    "import pandas as pd\n",
    "from torch.utils.data import Dataset\n",
    "import torch\n",
    "import os\n",
    "import random\n",
    "import numpy as np\n",
    "from torch import nn\n",
    "from typing import Dict, Optional, Tuple, List\n",
    "from transformers import AutoTokenizer, AutoModel\n",
    "from torch.utils.data import Dataset, random_split\n",
    "import torch.optim as optim\n",
    "from tqdm import tqdm\n",
    "from sklearn.metrics import precision_score, f1_score, recall_score, classification_report"
   ]
  },
  {
   "cell_type": "code",
   "execution_count": 2,
   "id": "833af12e",
   "metadata": {
    "execution": {
     "iopub.execute_input": "2024-04-19T12:08:49.105220Z",
     "iopub.status.busy": "2024-04-19T12:08:49.104774Z",
     "iopub.status.idle": "2024-04-19T12:08:49.113768Z",
     "shell.execute_reply": "2024-04-19T12:08:49.112899Z"
    },
    "id": "tATY-ohJqYuC",
    "papermill": {
     "duration": 0.038715,
     "end_time": "2024-04-19T12:08:49.115583",
     "exception": false,
     "start_time": "2024-04-19T12:08:49.076868",
     "status": "completed"
    },
    "tags": []
   },
   "outputs": [],
   "source": [
    "SEED = 42\n",
    "\n",
    "torch.manual_seed(SEED)\n",
    "torch.random.manual_seed(SEED)\n",
    "os.environ['PYTHONHASHSEED'] = str(SEED)\n",
    "random.seed(SEED)\n",
    "np.random.seed(SEED)\n",
    "torch.cuda.random.manual_seed(SEED)\n",
    "torch.cuda.random.manual_seed_all(SEED)\n",
    "torch.backends.cudnn.deterministic = True"
   ]
  },
  {
   "cell_type": "code",
   "execution_count": 3,
   "id": "aacf8084",
   "metadata": {
    "execution": {
     "iopub.execute_input": "2024-04-19T12:08:49.166928Z",
     "iopub.status.busy": "2024-04-19T12:08:49.166643Z",
     "iopub.status.idle": "2024-04-19T12:08:49.222310Z",
     "shell.execute_reply": "2024-04-19T12:08:49.221420Z"
    },
    "id": "G3DBvzLkpxb9",
    "papermill": {
     "duration": 0.083602,
     "end_time": "2024-04-19T12:08:49.224410",
     "exception": false,
     "start_time": "2024-04-19T12:08:49.140808",
     "status": "completed"
    },
    "tags": []
   },
   "outputs": [],
   "source": [
    "device = \"cuda\" if torch.cuda.is_available() else \"cpu\""
   ]
  },
  {
   "cell_type": "code",
   "execution_count": 4,
   "id": "a653e59e",
   "metadata": {
    "execution": {
     "iopub.execute_input": "2024-04-19T12:08:49.278066Z",
     "iopub.status.busy": "2024-04-19T12:08:49.277717Z",
     "iopub.status.idle": "2024-04-19T12:08:54.220506Z",
     "shell.execute_reply": "2024-04-19T12:08:54.219341Z"
    },
    "id": "s3XTVchKHjRE",
    "outputId": "62fc1a76-8f91-4c0e-d051-330eaf23ae66",
    "papermill": {
     "duration": 4.971902,
     "end_time": "2024-04-19T12:08:54.222945",
     "exception": false,
     "start_time": "2024-04-19T12:08:49.251043",
     "status": "completed"
    },
    "tags": []
   },
   "outputs": [
    {
     "name": "stdout",
     "output_type": "stream",
     "text": [
      "Cloning into 'TextGraphs17-shared-task'...\r\n",
      "remote: Enumerating objects: 498, done.\u001b[K\r\n",
      "remote: Counting objects: 100% (18/18), done.\u001b[K\r\n",
      "remote: Compressing objects: 100% (11/11), done.\u001b[K\r\n",
      "remote: Total 498 (delta 7), reused 14 (delta 4), pack-reused 480\u001b[K\r\n",
      "Receiving objects: 100% (498/498), 37.10 MiB | 21.19 MiB/s, done.\r\n",
      "Resolving deltas: 100% (58/58), done.\r\n"
     ]
    }
   ],
   "source": [
    "!git clone https://github.com/uhh-lt/TextGraphs17-shared-task.git"
   ]
  },
  {
   "cell_type": "code",
   "execution_count": 5,
   "id": "089b892e",
   "metadata": {
    "execution": {
     "iopub.execute_input": "2024-04-19T12:08:54.279644Z",
     "iopub.status.busy": "2024-04-19T12:08:54.278930Z",
     "iopub.status.idle": "2024-04-19T12:08:55.232856Z",
     "shell.execute_reply": "2024-04-19T12:08:55.231606Z"
    },
    "id": "1Fv67LbbHkVl",
    "outputId": "e30c73f0-aaaf-48d1-9578-39b951290435",
    "papermill": {
     "duration": 0.984864,
     "end_time": "2024-04-19T12:08:55.235292",
     "exception": false,
     "start_time": "2024-04-19T12:08:54.250428",
     "status": "completed"
    },
    "tags": []
   },
   "outputs": [
    {
     "name": "stdout",
     "output_type": "stream",
     "text": [
      "README.md  data        question_graph_examples\tvisualization\r\n",
      "baselines  evaluation  reformat_data\r\n"
     ]
    }
   ],
   "source": [
    "!ls TextGraphs17-shared-task"
   ]
  },
  {
   "cell_type": "code",
   "execution_count": 6,
   "id": "0895674e",
   "metadata": {
    "execution": {
     "iopub.execute_input": "2024-04-19T12:08:55.292103Z",
     "iopub.status.busy": "2024-04-19T12:08:55.291477Z",
     "iopub.status.idle": "2024-04-19T12:08:55.749155Z",
     "shell.execute_reply": "2024-04-19T12:08:55.748323Z"
    },
    "id": "-8SEn7sx5qn4",
    "papermill": {
     "duration": 0.488944,
     "end_time": "2024-04-19T12:08:55.751745",
     "exception": false,
     "start_time": "2024-04-19T12:08:55.262801",
     "status": "completed"
    },
    "tags": []
   },
   "outputs": [],
   "source": [
    "train_dev_path = \"TextGraphs17-shared-task/data/tsv/train.tsv\"\n",
    "\n",
    "data_df = pd.read_csv(train_dev_path, sep='\\t')"
   ]
  },
  {
   "cell_type": "code",
   "execution_count": 7,
   "id": "d0ca37d9",
   "metadata": {
    "execution": {
     "iopub.execute_input": "2024-04-19T12:08:55.810597Z",
     "iopub.status.busy": "2024-04-19T12:08:55.809852Z",
     "iopub.status.idle": "2024-04-19T12:08:55.827236Z",
     "shell.execute_reply": "2024-04-19T12:08:55.826516Z"
    },
    "id": "ChpkDo0DILq-",
    "papermill": {
     "duration": 0.047491,
     "end_time": "2024-04-19T12:08:55.829111",
     "exception": false,
     "start_time": "2024-04-19T12:08:55.781620",
     "status": "completed"
    },
    "tags": []
   },
   "outputs": [],
   "source": [
    "all_questions = list(data_df[\"question\"].unique())\n",
    "num_questions = len(all_questions)\n",
    "random.shuffle(all_questions)"
   ]
  },
  {
   "cell_type": "code",
   "execution_count": 8,
   "id": "b11a1868",
   "metadata": {
    "execution": {
     "iopub.execute_input": "2024-04-19T12:08:55.885333Z",
     "iopub.status.busy": "2024-04-19T12:08:55.885004Z",
     "iopub.status.idle": "2024-04-19T12:08:55.892147Z",
     "shell.execute_reply": "2024-04-19T12:08:55.891312Z"
    },
    "id": "LxOT3ndTIKOi",
    "outputId": "2250d6a9-1f48-42ba-c121-e953d9042175",
    "papermill": {
     "duration": 0.037749,
     "end_time": "2024-04-19T12:08:55.894199",
     "exception": false,
     "start_time": "2024-04-19T12:08:55.856450",
     "status": "completed"
    },
    "tags": []
   },
   "outputs": [
    {
     "name": "stdout",
     "output_type": "stream",
     "text": [
      "Questions: train - 2545, dev - 283, test - 283\n"
     ]
    }
   ],
   "source": [
    "train_dev_ratio = 0.8\n",
    "train_ratio = 0.9\n",
    "num_train_dev_questions = int(num_questions * train_dev_ratio)\n",
    "train_dev_questions = all_questions[:num_train_dev_questions]\n",
    "test_questions = set(all_questions[num_train_dev_questions:])\n",
    "num_train_questions = int(len(train_dev_questions) * train_ratio)\n",
    "train_questions = set(train_dev_questions[:num_train_questions])\n",
    "dev_questions = set(train_dev_questions[num_train_questions:])\n",
    "\n",
    "print(f\"Questions: train - {len(train_questions)}, dev - {len(dev_questions)}, test - {len(dev_questions)}\")"
   ]
  },
  {
   "cell_type": "code",
   "execution_count": 9,
   "id": "417a03cc",
   "metadata": {
    "execution": {
     "iopub.execute_input": "2024-04-19T12:08:55.952386Z",
     "iopub.status.busy": "2024-04-19T12:08:55.951648Z",
     "iopub.status.idle": "2024-04-19T12:08:55.979157Z",
     "shell.execute_reply": "2024-04-19T12:08:55.978079Z"
    },
    "id": "PS8JE3QiIKQy",
    "outputId": "9e036b3e-7941-4b73-bdf2-488feebff287",
    "papermill": {
     "duration": 0.059165,
     "end_time": "2024-04-19T12:08:55.981327",
     "exception": false,
     "start_time": "2024-04-19T12:08:55.922162",
     "status": "completed"
    },
    "tags": []
   },
   "outputs": [
    {
     "name": "stdout",
     "output_type": "stream",
     "text": [
      "Train: (27122, 10)\n",
      "Dev: (3047, 10)\n",
      "Test: (7503, 10)\n"
     ]
    }
   ],
   "source": [
    "train_df = data_df[data_df[\"question\"].isin(train_questions)]\n",
    "dev_df = data_df[data_df[\"question\"].isin(dev_questions)]\n",
    "test_df = data_df[data_df[\"question\"].isin(test_questions)]\n",
    "\n",
    "print(f\"Train: {train_df.shape}\")\n",
    "print(f\"Dev: {dev_df.shape}\")\n",
    "print(f\"Test: {test_df.shape}\")"
   ]
  },
  {
   "cell_type": "code",
   "execution_count": 10,
   "id": "fa56b1e2",
   "metadata": {
    "execution": {
     "iopub.execute_input": "2024-04-19T12:08:56.037857Z",
     "iopub.status.busy": "2024-04-19T12:08:56.037063Z",
     "iopub.status.idle": "2024-04-19T12:08:56.045031Z",
     "shell.execute_reply": "2024-04-19T12:08:56.044120Z"
    },
    "id": "L67B30o_XJmZ",
    "outputId": "7712edd3-a15e-4f03-966a-abf54c18a843",
    "papermill": {
     "duration": 0.038038,
     "end_time": "2024-04-19T12:08:56.046998",
     "exception": false,
     "start_time": "2024-04-19T12:08:56.008960",
     "status": "completed"
    },
    "tags": []
   },
   "outputs": [
    {
     "data": {
      "text/plain": [
       "'{\\'nodes\\': [{\\'type\\': \\'QUESTIONS_ENTITY\\', \\'name_\\': \\'Q794\\', \\'id\\': 0, \\'label\\': \\'Iran\\'}, {\\'type\\': \\'INTERNAL\\', \\'name_\\': \\'Q207991\\', \\'id\\': 1, \\'label\\': \\'Pahlavi dynasty\\'}, {\\'type\\': \\'ANSWER_CANDIDATE_ENTITY\\', \\'name_\\': \\'Q7293530\\', \\'id\\': 2, \\'label\\': \"Ruhollah Khomeini\\'s return to Iran\"}], \\'links\\': [{\\'name_\\': \\'P17\\', \\'source\\': 0, \\'target\\': 0, \\'label\\': \\'country\\'}, {\\'name_\\': \\'P1365\\', \\'source\\': 0, \\'target\\': 1, \\'label\\': \\'replaces\\'}, {\\'name_\\': \\'P1366\\', \\'source\\': 1, \\'target\\': 0, \\'label\\': \\'replaced by\\'}, {\\'name_\\': \\'P17\\', \\'source\\': 2, \\'target\\': 1, \\'label\\': \\'country\\'}]}'"
      ]
     },
     "execution_count": 10,
     "metadata": {},
     "output_type": "execute_result"
    }
   ],
   "source": [
    "train_df.loc[0, \"graph\"]"
   ]
  },
  {
   "cell_type": "code",
   "execution_count": 11,
   "id": "8abba8e1",
   "metadata": {
    "execution": {
     "iopub.execute_input": "2024-04-19T12:08:56.104012Z",
     "iopub.status.busy": "2024-04-19T12:08:56.103709Z",
     "iopub.status.idle": "2024-04-19T12:08:56.122175Z",
     "shell.execute_reply": "2024-04-19T12:08:56.121304Z"
    },
    "id": "f8Uk3FNGk5G-",
    "outputId": "28c029b8-3fd6-4d6b-b391-d2d08d0234e0",
    "papermill": {
     "duration": 0.049586,
     "end_time": "2024-04-19T12:08:56.124290",
     "exception": false,
     "start_time": "2024-04-19T12:08:56.074704",
     "status": "completed"
    },
    "tags": []
   },
   "outputs": [
    {
     "data": {
      "text/html": [
       "<div>\n",
       "<style scoped>\n",
       "    .dataframe tbody tr th:only-of-type {\n",
       "        vertical-align: middle;\n",
       "    }\n",
       "\n",
       "    .dataframe tbody tr th {\n",
       "        vertical-align: top;\n",
       "    }\n",
       "\n",
       "    .dataframe thead th {\n",
       "        text-align: right;\n",
       "    }\n",
       "</style>\n",
       "<table border=\"1\" class=\"dataframe\">\n",
       "  <thead>\n",
       "    <tr style=\"text-align: right;\">\n",
       "      <th></th>\n",
       "      <th>sample_id</th>\n",
       "      <th>question</th>\n",
       "      <th>questionEntity</th>\n",
       "      <th>answerEntity</th>\n",
       "      <th>groundTruthAnswerEntity</th>\n",
       "      <th>answerEntityId</th>\n",
       "      <th>questionEntityId</th>\n",
       "      <th>groundTruthAnswerEntityId</th>\n",
       "      <th>correct</th>\n",
       "      <th>graph</th>\n",
       "    </tr>\n",
       "  </thead>\n",
       "  <tbody>\n",
       "    <tr>\n",
       "      <th>0</th>\n",
       "      <td>0</td>\n",
       "      <td>Whst is the name of the head of state and high...</td>\n",
       "      <td>Iran</td>\n",
       "      <td>Ruhollah Khomeini's return to Iran</td>\n",
       "      <td>Office of the Supreme Leader of Iran</td>\n",
       "      <td>Q7293530</td>\n",
       "      <td>Q794</td>\n",
       "      <td>Q16045000</td>\n",
       "      <td>False</td>\n",
       "      <td>{'nodes': [{'type': 'QUESTIONS_ENTITY', 'name_...</td>\n",
       "    </tr>\n",
       "    <tr>\n",
       "      <th>1</th>\n",
       "      <td>1</td>\n",
       "      <td>Whst is the name of the head of state and high...</td>\n",
       "      <td>Iran</td>\n",
       "      <td>Ruhollah Khomeini's letter to Mikhail Gorbachev</td>\n",
       "      <td>Office of the Supreme Leader of Iran</td>\n",
       "      <td>Q5952984</td>\n",
       "      <td>Q794</td>\n",
       "      <td>Q16045000</td>\n",
       "      <td>False</td>\n",
       "      <td>{'nodes': [{'type': 'INTERNAL', 'name_': 'Q417...</td>\n",
       "    </tr>\n",
       "    <tr>\n",
       "      <th>2</th>\n",
       "      <td>2</td>\n",
       "      <td>Whst is the name of the head of state and high...</td>\n",
       "      <td>Iran</td>\n",
       "      <td>Ruhollah Khomeini</td>\n",
       "      <td>Office of the Supreme Leader of Iran</td>\n",
       "      <td>Q38823</td>\n",
       "      <td>Q794</td>\n",
       "      <td>Q16045000</td>\n",
       "      <td>False</td>\n",
       "      <td>{'nodes': [{'type': 'QUESTIONS_ENTITY', 'name_...</td>\n",
       "    </tr>\n",
       "    <tr>\n",
       "      <th>3</th>\n",
       "      <td>3</td>\n",
       "      <td>Whst is the name of the head of state and high...</td>\n",
       "      <td>Iran</td>\n",
       "      <td>Office of the Supreme Leader of Iran</td>\n",
       "      <td>Office of the Supreme Leader of Iran</td>\n",
       "      <td>Q16045000</td>\n",
       "      <td>Q794</td>\n",
       "      <td>Q16045000</td>\n",
       "      <td>True</td>\n",
       "      <td>{'nodes': [{'type': 'QUESTIONS_ENTITY', 'name_...</td>\n",
       "    </tr>\n",
       "    <tr>\n",
       "      <th>4</th>\n",
       "      <td>4</td>\n",
       "      <td>Whst is the name of the head of state and high...</td>\n",
       "      <td>Iran</td>\n",
       "      <td>Mohammad Reza Pahlavi and Soraya</td>\n",
       "      <td>Office of the Supreme Leader of Iran</td>\n",
       "      <td>Q63195813</td>\n",
       "      <td>Q794</td>\n",
       "      <td>Q16045000</td>\n",
       "      <td>False</td>\n",
       "      <td>{'nodes': [{'type': 'QUESTIONS_ENTITY', 'name_...</td>\n",
       "    </tr>\n",
       "  </tbody>\n",
       "</table>\n",
       "</div>"
      ],
      "text/plain": [
       "   sample_id                                           question  \\\n",
       "0          0  Whst is the name of the head of state and high...   \n",
       "1          1  Whst is the name of the head of state and high...   \n",
       "2          2  Whst is the name of the head of state and high...   \n",
       "3          3  Whst is the name of the head of state and high...   \n",
       "4          4  Whst is the name of the head of state and high...   \n",
       "\n",
       "  questionEntity                                     answerEntity  \\\n",
       "0           Iran               Ruhollah Khomeini's return to Iran   \n",
       "1           Iran  Ruhollah Khomeini's letter to Mikhail Gorbachev   \n",
       "2           Iran                                Ruhollah Khomeini   \n",
       "3           Iran             Office of the Supreme Leader of Iran   \n",
       "4           Iran                 Mohammad Reza Pahlavi and Soraya   \n",
       "\n",
       "                groundTruthAnswerEntity answerEntityId questionEntityId  \\\n",
       "0  Office of the Supreme Leader of Iran       Q7293530             Q794   \n",
       "1  Office of the Supreme Leader of Iran       Q5952984             Q794   \n",
       "2  Office of the Supreme Leader of Iran         Q38823             Q794   \n",
       "3  Office of the Supreme Leader of Iran      Q16045000             Q794   \n",
       "4  Office of the Supreme Leader of Iran      Q63195813             Q794   \n",
       "\n",
       "  groundTruthAnswerEntityId  correct  \\\n",
       "0                 Q16045000    False   \n",
       "1                 Q16045000    False   \n",
       "2                 Q16045000    False   \n",
       "3                 Q16045000     True   \n",
       "4                 Q16045000    False   \n",
       "\n",
       "                                               graph  \n",
       "0  {'nodes': [{'type': 'QUESTIONS_ENTITY', 'name_...  \n",
       "1  {'nodes': [{'type': 'INTERNAL', 'name_': 'Q417...  \n",
       "2  {'nodes': [{'type': 'QUESTIONS_ENTITY', 'name_...  \n",
       "3  {'nodes': [{'type': 'QUESTIONS_ENTITY', 'name_...  \n",
       "4  {'nodes': [{'type': 'QUESTIONS_ENTITY', 'name_...  "
      ]
     },
     "execution_count": 11,
     "metadata": {},
     "output_type": "execute_result"
    }
   ],
   "source": [
    "train_df.head()"
   ]
  },
  {
   "cell_type": "code",
   "execution_count": 12,
   "id": "651c1d7c",
   "metadata": {
    "execution": {
     "iopub.execute_input": "2024-04-19T12:08:56.183039Z",
     "iopub.status.busy": "2024-04-19T12:08:56.182731Z",
     "iopub.status.idle": "2024-04-19T12:08:56.195439Z",
     "shell.execute_reply": "2024-04-19T12:08:56.194404Z"
    },
    "id": "Fot9tDahnA6I",
    "outputId": "5bdc543a-a71c-4e2e-fd14-c0fe0c05fa69",
    "papermill": {
     "duration": 0.044389,
     "end_time": "2024-04-19T12:08:56.197423",
     "exception": false,
     "start_time": "2024-04-19T12:08:56.153034",
     "status": "completed"
    },
    "tags": []
   },
   "outputs": [
    {
     "name": "stderr",
     "output_type": "stream",
     "text": [
      "/tmp/ipykernel_24/1869300941.py:1: SettingWithCopyWarning: \n",
      "A value is trying to be set on a copy of a slice from a DataFrame.\n",
      "Try using .loc[row_indexer,col_indexer] = value instead\n",
      "\n",
      "See the caveats in the documentation: https://pandas.pydata.org/pandas-docs/stable/user_guide/indexing.html#returning-a-view-versus-a-copy\n",
      "  train_df.loc[:,\"label\"] = train_df[\"correct\"].astype(np.float32)\n",
      "/tmp/ipykernel_24/1869300941.py:2: SettingWithCopyWarning: \n",
      "A value is trying to be set on a copy of a slice from a DataFrame.\n",
      "Try using .loc[row_indexer,col_indexer] = value instead\n",
      "\n",
      "See the caveats in the documentation: https://pandas.pydata.org/pandas-docs/stable/user_guide/indexing.html#returning-a-view-versus-a-copy\n",
      "  dev_df.loc[:,\"label\"] = dev_df[\"correct\"].astype(np.float32)\n",
      "/tmp/ipykernel_24/1869300941.py:3: SettingWithCopyWarning: \n",
      "A value is trying to be set on a copy of a slice from a DataFrame.\n",
      "Try using .loc[row_indexer,col_indexer] = value instead\n",
      "\n",
      "See the caveats in the documentation: https://pandas.pydata.org/pandas-docs/stable/user_guide/indexing.html#returning-a-view-versus-a-copy\n",
      "  test_df.loc[:,\"label\"] = test_df[\"correct\"].astype(np.float32)\n"
     ]
    },
    {
     "data": {
      "text/plain": [
       "0    0.0\n",
       "1    0.0\n",
       "2    0.0\n",
       "3    1.0\n",
       "4    0.0\n",
       "Name: label, dtype: float32"
      ]
     },
     "execution_count": 12,
     "metadata": {},
     "output_type": "execute_result"
    }
   ],
   "source": [
    "train_df.loc[:,\"label\"] = train_df[\"correct\"].astype(np.float32)\n",
    "dev_df.loc[:,\"label\"] = dev_df[\"correct\"].astype(np.float32)\n",
    "test_df.loc[:,\"label\"] = test_df[\"correct\"].astype(np.float32)\n",
    "train_df[\"label\"].head(5)"
   ]
  },
  {
   "cell_type": "code",
   "execution_count": 13,
   "id": "ecdf0397",
   "metadata": {
    "execution": {
     "iopub.execute_input": "2024-04-19T12:08:56.255043Z",
     "iopub.status.busy": "2024-04-19T12:08:56.254729Z",
     "iopub.status.idle": "2024-04-19T12:09:01.287961Z",
     "shell.execute_reply": "2024-04-19T12:09:01.287053Z"
    },
    "id": "FPlwivhunSxF",
    "papermill": {
     "duration": 5.064571,
     "end_time": "2024-04-19T12:09:01.290476",
     "exception": false,
     "start_time": "2024-04-19T12:08:56.225905",
     "status": "completed"
    },
    "tags": []
   },
   "outputs": [],
   "source": [
    "train_df.loc[:,\"graph\"] = train_df[\"graph\"].apply(eval)\n",
    "dev_df.loc[:,\"graph\"] = dev_df[\"graph\"].apply(eval)\n",
    "test_df.loc[:,\"graph\"] = test_df[\"graph\"].apply(eval)"
   ]
  },
  {
   "cell_type": "code",
   "execution_count": 14,
   "id": "d4011e65",
   "metadata": {
    "execution": {
     "iopub.execute_input": "2024-04-19T12:09:01.354125Z",
     "iopub.status.busy": "2024-04-19T12:09:01.353161Z",
     "iopub.status.idle": "2024-04-19T12:09:01.371055Z",
     "shell.execute_reply": "2024-04-19T12:09:01.370204Z"
    },
    "id": "qttF4jcml2mo",
    "outputId": "4a4c7b26-475f-4287-84bb-344819614d65",
    "papermill": {
     "duration": 0.050544,
     "end_time": "2024-04-19T12:09:01.373107",
     "exception": false,
     "start_time": "2024-04-19T12:09:01.322563",
     "status": "completed"
    },
    "tags": []
   },
   "outputs": [
    {
     "data": {
      "text/html": [
       "<div>\n",
       "<style scoped>\n",
       "    .dataframe tbody tr th:only-of-type {\n",
       "        vertical-align: middle;\n",
       "    }\n",
       "\n",
       "    .dataframe tbody tr th {\n",
       "        vertical-align: top;\n",
       "    }\n",
       "\n",
       "    .dataframe thead th {\n",
       "        text-align: right;\n",
       "    }\n",
       "</style>\n",
       "<table border=\"1\" class=\"dataframe\">\n",
       "  <thead>\n",
       "    <tr style=\"text-align: right;\">\n",
       "      <th></th>\n",
       "      <th>question</th>\n",
       "      <th>answerEntity</th>\n",
       "      <th>groundTruthAnswerEntity</th>\n",
       "      <th>label</th>\n",
       "    </tr>\n",
       "  </thead>\n",
       "  <tbody>\n",
       "    <tr>\n",
       "      <th>0</th>\n",
       "      <td>Whst is the name of the head of state and high...</td>\n",
       "      <td>Ruhollah Khomeini's return to Iran</td>\n",
       "      <td>Office of the Supreme Leader of Iran</td>\n",
       "      <td>0.0</td>\n",
       "    </tr>\n",
       "    <tr>\n",
       "      <th>1</th>\n",
       "      <td>Whst is the name of the head of state and high...</td>\n",
       "      <td>Ruhollah Khomeini's letter to Mikhail Gorbachev</td>\n",
       "      <td>Office of the Supreme Leader of Iran</td>\n",
       "      <td>0.0</td>\n",
       "    </tr>\n",
       "    <tr>\n",
       "      <th>2</th>\n",
       "      <td>Whst is the name of the head of state and high...</td>\n",
       "      <td>Ruhollah Khomeini</td>\n",
       "      <td>Office of the Supreme Leader of Iran</td>\n",
       "      <td>0.0</td>\n",
       "    </tr>\n",
       "    <tr>\n",
       "      <th>3</th>\n",
       "      <td>Whst is the name of the head of state and high...</td>\n",
       "      <td>Office of the Supreme Leader of Iran</td>\n",
       "      <td>Office of the Supreme Leader of Iran</td>\n",
       "      <td>1.0</td>\n",
       "    </tr>\n",
       "    <tr>\n",
       "      <th>4</th>\n",
       "      <td>Whst is the name of the head of state and high...</td>\n",
       "      <td>Mohammad Reza Pahlavi and Soraya</td>\n",
       "      <td>Office of the Supreme Leader of Iran</td>\n",
       "      <td>0.0</td>\n",
       "    </tr>\n",
       "    <tr>\n",
       "      <th>5</th>\n",
       "      <td>Whst is the name of the head of state and high...</td>\n",
       "      <td>Mahmoud Ahmadinejad</td>\n",
       "      <td>Office of the Supreme Leader of Iran</td>\n",
       "      <td>0.0</td>\n",
       "    </tr>\n",
       "    <tr>\n",
       "      <th>6</th>\n",
       "      <td>Whst is the name of the head of state and high...</td>\n",
       "      <td>Hassan Rouhani</td>\n",
       "      <td>Office of the Supreme Leader of Iran</td>\n",
       "      <td>0.0</td>\n",
       "    </tr>\n",
       "    <tr>\n",
       "      <th>7</th>\n",
       "      <td>Whst is the name of the head of state and high...</td>\n",
       "      <td>Ayatollah Khamenei's Foreign Policy Orientation</td>\n",
       "      <td>Office of the Supreme Leader of Iran</td>\n",
       "      <td>0.0</td>\n",
       "    </tr>\n",
       "    <tr>\n",
       "      <th>8</th>\n",
       "      <td>Whst is the name of the head of state and high...</td>\n",
       "      <td>Ayatollah Ali Khamenei speaks about Iranian pr...</td>\n",
       "      <td>Office of the Supreme Leader of Iran</td>\n",
       "      <td>0.0</td>\n",
       "    </tr>\n",
       "    <tr>\n",
       "      <th>9</th>\n",
       "      <td>Whst is the name of the head of state and high...</td>\n",
       "      <td>Ali Khamenei bibliography</td>\n",
       "      <td>Office of the Supreme Leader of Iran</td>\n",
       "      <td>0.0</td>\n",
       "    </tr>\n",
       "  </tbody>\n",
       "</table>\n",
       "</div>"
      ],
      "text/plain": [
       "                                            question  \\\n",
       "0  Whst is the name of the head of state and high...   \n",
       "1  Whst is the name of the head of state and high...   \n",
       "2  Whst is the name of the head of state and high...   \n",
       "3  Whst is the name of the head of state and high...   \n",
       "4  Whst is the name of the head of state and high...   \n",
       "5  Whst is the name of the head of state and high...   \n",
       "6  Whst is the name of the head of state and high...   \n",
       "7  Whst is the name of the head of state and high...   \n",
       "8  Whst is the name of the head of state and high...   \n",
       "9  Whst is the name of the head of state and high...   \n",
       "\n",
       "                                        answerEntity  \\\n",
       "0                 Ruhollah Khomeini's return to Iran   \n",
       "1    Ruhollah Khomeini's letter to Mikhail Gorbachev   \n",
       "2                                  Ruhollah Khomeini   \n",
       "3               Office of the Supreme Leader of Iran   \n",
       "4                   Mohammad Reza Pahlavi and Soraya   \n",
       "5                                Mahmoud Ahmadinejad   \n",
       "6                                     Hassan Rouhani   \n",
       "7    Ayatollah Khamenei's Foreign Policy Orientation   \n",
       "8  Ayatollah Ali Khamenei speaks about Iranian pr...   \n",
       "9                          Ali Khamenei bibliography   \n",
       "\n",
       "                groundTruthAnswerEntity  label  \n",
       "0  Office of the Supreme Leader of Iran    0.0  \n",
       "1  Office of the Supreme Leader of Iran    0.0  \n",
       "2  Office of the Supreme Leader of Iran    0.0  \n",
       "3  Office of the Supreme Leader of Iran    1.0  \n",
       "4  Office of the Supreme Leader of Iran    0.0  \n",
       "5  Office of the Supreme Leader of Iran    0.0  \n",
       "6  Office of the Supreme Leader of Iran    0.0  \n",
       "7  Office of the Supreme Leader of Iran    0.0  \n",
       "8  Office of the Supreme Leader of Iran    0.0  \n",
       "9  Office of the Supreme Leader of Iran    0.0  "
      ]
     },
     "execution_count": 14,
     "metadata": {},
     "output_type": "execute_result"
    }
   ],
   "source": [
    "train_df[[\"question\", \"answerEntity\", \"groundTruthAnswerEntity\", \"label\"]].head(10)"
   ]
  },
  {
   "cell_type": "code",
   "execution_count": 15,
   "id": "cb9ccfec",
   "metadata": {
    "execution": {
     "iopub.execute_input": "2024-04-19T12:09:01.433534Z",
     "iopub.status.busy": "2024-04-19T12:09:01.433162Z",
     "iopub.status.idle": "2024-04-19T12:09:01.447379Z",
     "shell.execute_reply": "2024-04-19T12:09:01.446472Z"
    },
    "id": "qPWyIN3wnLzv",
    "outputId": "dcb49b37-8365-4ae1-9591-0fed55673424",
    "papermill": {
     "duration": 0.046663,
     "end_time": "2024-04-19T12:09:01.449267",
     "exception": false,
     "start_time": "2024-04-19T12:09:01.402604",
     "status": "completed"
    },
    "tags": []
   },
   "outputs": [
    {
     "data": {
      "text/html": [
       "<div>\n",
       "<style scoped>\n",
       "    .dataframe tbody tr th:only-of-type {\n",
       "        vertical-align: middle;\n",
       "    }\n",
       "\n",
       "    .dataframe tbody tr th {\n",
       "        vertical-align: top;\n",
       "    }\n",
       "\n",
       "    .dataframe thead th {\n",
       "        text-align: right;\n",
       "    }\n",
       "</style>\n",
       "<table border=\"1\" class=\"dataframe\">\n",
       "  <thead>\n",
       "    <tr style=\"text-align: right;\">\n",
       "      <th></th>\n",
       "      <th>question</th>\n",
       "      <th>answerEntity</th>\n",
       "      <th>groundTruthAnswerEntity</th>\n",
       "      <th>label</th>\n",
       "    </tr>\n",
       "  </thead>\n",
       "  <tbody>\n",
       "    <tr>\n",
       "      <th>11</th>\n",
       "      <td>Whose is the oldest MLB player to hit a home run?</td>\n",
       "      <td>Yogi Berra</td>\n",
       "      <td>Julio Franco</td>\n",
       "      <td>0.0</td>\n",
       "    </tr>\n",
       "    <tr>\n",
       "      <th>12</th>\n",
       "      <td>Whose is the oldest MLB player to hit a home run?</td>\n",
       "      <td>Tony Gwynn, Jr.</td>\n",
       "      <td>Julio Franco</td>\n",
       "      <td>0.0</td>\n",
       "    </tr>\n",
       "    <tr>\n",
       "      <th>13</th>\n",
       "      <td>Whose is the oldest MLB player to hit a home run?</td>\n",
       "      <td>Roy Campanella</td>\n",
       "      <td>Julio Franco</td>\n",
       "      <td>0.0</td>\n",
       "    </tr>\n",
       "    <tr>\n",
       "      <th>14</th>\n",
       "      <td>Whose is the oldest MLB player to hit a home run?</td>\n",
       "      <td>Roger Clemens</td>\n",
       "      <td>Julio Franco</td>\n",
       "      <td>0.0</td>\n",
       "    </tr>\n",
       "    <tr>\n",
       "      <th>15</th>\n",
       "      <td>Whose is the oldest MLB player to hit a home run?</td>\n",
       "      <td>Mickey Mantle</td>\n",
       "      <td>Julio Franco</td>\n",
       "      <td>0.0</td>\n",
       "    </tr>\n",
       "    <tr>\n",
       "      <th>16</th>\n",
       "      <td>Whose is the oldest MLB player to hit a home run?</td>\n",
       "      <td>Lou Gehrig</td>\n",
       "      <td>Julio Franco</td>\n",
       "      <td>0.0</td>\n",
       "    </tr>\n",
       "    <tr>\n",
       "      <th>17</th>\n",
       "      <td>Whose is the oldest MLB player to hit a home run?</td>\n",
       "      <td>Julio Franco</td>\n",
       "      <td>Julio Franco</td>\n",
       "      <td>1.0</td>\n",
       "    </tr>\n",
       "    <tr>\n",
       "      <th>18</th>\n",
       "      <td>Whose is the oldest MLB player to hit a home run?</td>\n",
       "      <td>José Bautista</td>\n",
       "      <td>Julio Franco</td>\n",
       "      <td>0.0</td>\n",
       "    </tr>\n",
       "    <tr>\n",
       "      <th>19</th>\n",
       "      <td>Whose is the oldest MLB player to hit a home run?</td>\n",
       "      <td>Hank Greenberg</td>\n",
       "      <td>Julio Franco</td>\n",
       "      <td>0.0</td>\n",
       "    </tr>\n",
       "    <tr>\n",
       "      <th>20</th>\n",
       "      <td>Whose is the oldest MLB player to hit a home run?</td>\n",
       "      <td>Hank Aaron</td>\n",
       "      <td>Julio Franco</td>\n",
       "      <td>0.0</td>\n",
       "    </tr>\n",
       "  </tbody>\n",
       "</table>\n",
       "</div>"
      ],
      "text/plain": [
       "                                             question     answerEntity  \\\n",
       "11  Whose is the oldest MLB player to hit a home run?       Yogi Berra   \n",
       "12  Whose is the oldest MLB player to hit a home run?  Tony Gwynn, Jr.   \n",
       "13  Whose is the oldest MLB player to hit a home run?   Roy Campanella   \n",
       "14  Whose is the oldest MLB player to hit a home run?    Roger Clemens   \n",
       "15  Whose is the oldest MLB player to hit a home run?    Mickey Mantle   \n",
       "16  Whose is the oldest MLB player to hit a home run?       Lou Gehrig   \n",
       "17  Whose is the oldest MLB player to hit a home run?     Julio Franco   \n",
       "18  Whose is the oldest MLB player to hit a home run?    José Bautista   \n",
       "19  Whose is the oldest MLB player to hit a home run?   Hank Greenberg   \n",
       "20  Whose is the oldest MLB player to hit a home run?       Hank Aaron   \n",
       "\n",
       "   groundTruthAnswerEntity  label  \n",
       "11            Julio Franco    0.0  \n",
       "12            Julio Franco    0.0  \n",
       "13            Julio Franco    0.0  \n",
       "14            Julio Franco    0.0  \n",
       "15            Julio Franco    0.0  \n",
       "16            Julio Franco    0.0  \n",
       "17            Julio Franco    1.0  \n",
       "18            Julio Franco    0.0  \n",
       "19            Julio Franco    0.0  \n",
       "20            Julio Franco    0.0  "
      ]
     },
     "execution_count": 15,
     "metadata": {},
     "output_type": "execute_result"
    }
   ],
   "source": [
    "test_df[[\"question\", \"answerEntity\", \"groundTruthAnswerEntity\", \"label\"]].head(10)"
   ]
  },
  {
   "cell_type": "code",
   "execution_count": 16,
   "id": "3d938b5c",
   "metadata": {
    "execution": {
     "iopub.execute_input": "2024-04-19T12:09:01.563083Z",
     "iopub.status.busy": "2024-04-19T12:09:01.562724Z",
     "iopub.status.idle": "2024-04-19T12:09:01.572209Z",
     "shell.execute_reply": "2024-04-19T12:09:01.571372Z"
    },
    "id": "gEx2RPKnnSzb",
    "papermill": {
     "duration": 0.094516,
     "end_time": "2024-04-19T12:09:01.574166",
     "exception": false,
     "start_time": "2024-04-19T12:09:01.479650",
     "status": "completed"
    },
    "tags": []
   },
   "outputs": [],
   "source": [
    "class QuestionAnswerDataset(Dataset):\n",
    "\n",
    "    def __init__(self, df, tokenizer, max_length, context_key=\"answerEntity\",\n",
    "                 tokenizer_truncation=\"only_first\"):\n",
    "        super(QuestionAnswerDataset).__init__()\n",
    "\n",
    "        self.questions = df.question.values\n",
    "        self.contexts = df[context_key].values\n",
    "        self.labels = torch.tensor(df.label.values, dtype=torch.float32)\n",
    "        self.tokenizer = tokenizer\n",
    "        self.max_length = max_length\n",
    "        self.tokenized_input = [tokenizer.encode_plus(x, y,\n",
    "                              max_length=self.max_length,\n",
    "                              padding=\"max_length\",\n",
    "                              truncation=tokenizer_truncation,\n",
    "                              return_tensors=\"pt\", ) \\\n",
    "                          for x, y in zip(self.questions,\n",
    "                                          self.contexts)]\n",
    "        assert len(self.questions) == len(self.contexts) == len(self.labels)\n",
    "\n",
    "    def __len__(self):\n",
    "        return len(self.questions)\n",
    "\n",
    "    def __getitem__(self, idx):\n",
    "        return {\n",
    "                \"input_ids\": self.tokenized_input[idx][\"input_ids\"][0],\n",
    "                \"attention_mask\" : self.tokenized_input[idx][\"attention_mask\"][0],\n",
    "                \"labels\": self.labels[idx]}"
   ]
  },
  {
   "cell_type": "code",
   "execution_count": 17,
   "id": "ecd22d75",
   "metadata": {
    "execution": {
     "iopub.execute_input": "2024-04-19T12:09:01.635159Z",
     "iopub.status.busy": "2024-04-19T12:09:01.634806Z",
     "iopub.status.idle": "2024-04-19T12:09:01.638816Z",
     "shell.execute_reply": "2024-04-19T12:09:01.638052Z"
    },
    "id": "aPOJ28fHniTQ",
    "papermill": {
     "duration": 0.036475,
     "end_time": "2024-04-19T12:09:01.640819",
     "exception": false,
     "start_time": "2024-04-19T12:09:01.604344",
     "status": "completed"
    },
    "tags": []
   },
   "outputs": [],
   "source": [
    "# train_ratio=0.9\n",
    "# train_df = train_dev_df.sample(frac=train_ratio)\n",
    "# dev_df = train_dev_df.drop(train_df.index)"
   ]
  },
  {
   "cell_type": "code",
   "execution_count": 18,
   "id": "dad40930",
   "metadata": {
    "execution": {
     "iopub.execute_input": "2024-04-19T12:09:01.702756Z",
     "iopub.status.busy": "2024-04-19T12:09:01.701963Z",
     "iopub.status.idle": "2024-04-19T12:09:09.228958Z",
     "shell.execute_reply": "2024-04-19T12:09:09.227972Z"
    },
    "id": "EHhNzOBxwZZ1",
    "outputId": "a31af21d-2719-43f0-868e-479fbcfbb46d",
    "papermill": {
     "duration": 7.560724,
     "end_time": "2024-04-19T12:09:09.231104",
     "exception": false,
     "start_time": "2024-04-19T12:09:01.670380",
     "status": "completed"
    },
    "tags": []
   },
   "outputs": [
    {
     "data": {
      "application/vnd.jupyter.widget-view+json": {
       "model_id": "1f51793951084fbf85bfcd614a0739bb",
       "version_major": 2,
       "version_minor": 0
      },
      "text/plain": [
       "tokenizer_config.json:   0%|          | 0.00/352 [00:00<?, ?B/s]"
      ]
     },
     "metadata": {},
     "output_type": "display_data"
    },
    {
     "data": {
      "application/vnd.jupyter.widget-view+json": {
       "model_id": "f227dc32b1be4b178b09c07c6bfa0595",
       "version_major": 2,
       "version_minor": 0
      },
      "text/plain": [
       "vocab.txt:   0%|          | 0.00/232k [00:00<?, ?B/s]"
      ]
     },
     "metadata": {},
     "output_type": "display_data"
    },
    {
     "data": {
      "application/vnd.jupyter.widget-view+json": {
       "model_id": "40314eb01b734302aa1d10b5ba406f50",
       "version_major": 2,
       "version_minor": 0
      },
      "text/plain": [
       "tokenizer.json:   0%|          | 0.00/466k [00:00<?, ?B/s]"
      ]
     },
     "metadata": {},
     "output_type": "display_data"
    },
    {
     "data": {
      "application/vnd.jupyter.widget-view+json": {
       "model_id": "dfde04b937b243d0901591f75288f192",
       "version_major": 2,
       "version_minor": 0
      },
      "text/plain": [
       "special_tokens_map.json:   0%|          | 0.00/112 [00:00<?, ?B/s]"
      ]
     },
     "metadata": {},
     "output_type": "display_data"
    },
    {
     "data": {
      "application/vnd.jupyter.widget-view+json": {
       "model_id": "c85841312caf4875830e5cffb1291618",
       "version_major": 2,
       "version_minor": 0
      },
      "text/plain": [
       "config.json:   0%|          | 0.00/615 [00:00<?, ?B/s]"
      ]
     },
     "metadata": {},
     "output_type": "display_data"
    },
    {
     "data": {
      "application/vnd.jupyter.widget-view+json": {
       "model_id": "552b2d457b854efaa4126ada61b11f6e",
       "version_major": 2,
       "version_minor": 0
      },
      "text/plain": [
       "model.safetensors:   0%|          | 0.00/133M [00:00<?, ?B/s]"
      ]
     },
     "metadata": {},
     "output_type": "display_data"
    },
    {
     "name": "stdout",
     "output_type": "stream",
     "text": [
      "# Trainable params:  21441408\n"
     ]
    }
   ],
   "source": [
    "model_name=\"sentence-transformers/all-MiniLM-L12-v2\"\n",
    "\n",
    "tokenizer = AutoTokenizer.from_pretrained(model_name)\n",
    "bert_model = AutoModel.from_pretrained(model_name)\n",
    "\n",
    "freeze_embeddings = True\n",
    "if freeze_embeddings:\n",
    "    for param in bert_model.embeddings.parameters():\n",
    "        param.requires_grad = False\n",
    "\n",
    "# freeze_layer_count = 5\n",
    "# if freeze_layer_count > 0:\n",
    "#     for layer in bert_model.encoder.layer[:freeze_layer_count]:\n",
    "#         for param in layer.parameters():\n",
    "#             param.requires_grad = False\n",
    "\n",
    "print(\"# Trainable params: \", sum(p.numel() for p in bert_model.parameters() if p.requires_grad))"
   ]
  },
  {
   "cell_type": "code",
   "execution_count": 19,
   "id": "8ca607f5",
   "metadata": {
    "execution": {
     "iopub.execute_input": "2024-04-19T12:09:09.294593Z",
     "iopub.status.busy": "2024-04-19T12:09:09.294050Z",
     "iopub.status.idle": "2024-04-19T12:09:21.947636Z",
     "shell.execute_reply": "2024-04-19T12:09:21.946809Z"
    },
    "id": "A7cYGM0EpVdy",
    "papermill": {
     "duration": 12.687814,
     "end_time": "2024-04-19T12:09:21.949976",
     "exception": false,
     "start_time": "2024-04-19T12:09:09.262162",
     "status": "completed"
    },
    "tags": []
   },
   "outputs": [],
   "source": [
    "max_length = 128\n",
    "train_dataset = QuestionAnswerDataset(train_df, tokenizer=tokenizer, max_length=max_length)\n",
    "dev_dataset = QuestionAnswerDataset(dev_df, tokenizer=tokenizer, max_length=max_length)\n",
    "test_dataset = QuestionAnswerDataset(test_df, tokenizer=tokenizer, max_length=max_length)"
   ]
  },
  {
   "cell_type": "code",
   "execution_count": 20,
   "id": "4790d74f",
   "metadata": {
    "execution": {
     "iopub.execute_input": "2024-04-19T12:09:22.014653Z",
     "iopub.status.busy": "2024-04-19T12:09:22.014236Z",
     "iopub.status.idle": "2024-04-19T12:09:22.020625Z",
     "shell.execute_reply": "2024-04-19T12:09:22.019778Z"
    },
    "id": "Lg4MGlFZpVgq",
    "papermill": {
     "duration": 0.040967,
     "end_time": "2024-04-19T12:09:22.022691",
     "exception": false,
     "start_time": "2024-04-19T12:09:21.981724",
     "status": "completed"
    },
    "tags": []
   },
   "outputs": [],
   "source": [
    "batch_size = 64\n",
    "num_workers = 0\n",
    "\n",
    "train_loader = torch.utils.data.DataLoader(\n",
    "    train_dataset, batch_size=batch_size, num_workers=num_workers, shuffle=True, drop_last=True,\n",
    ")\n",
    "dev_loader = torch.utils.data.DataLoader(\n",
    "    dev_dataset, batch_size=batch_size, num_workers=num_workers, shuffle=False, drop_last=False,\n",
    ")\n",
    "test_loader = torch.utils.data.DataLoader(\n",
    "    test_dataset, batch_size=batch_size, num_workers=num_workers, shuffle=False, drop_last=False,\n",
    ")"
   ]
  },
  {
   "cell_type": "code",
   "execution_count": 21,
   "id": "7d58aba4",
   "metadata": {
    "execution": {
     "iopub.execute_input": "2024-04-19T12:09:22.087756Z",
     "iopub.status.busy": "2024-04-19T12:09:22.087372Z",
     "iopub.status.idle": "2024-04-19T12:09:22.100067Z",
     "shell.execute_reply": "2024-04-19T12:09:22.099290Z"
    },
    "id": "i8b9mpfOniVq",
    "papermill": {
     "duration": 0.047396,
     "end_time": "2024-04-19T12:09:22.101950",
     "exception": false,
     "start_time": "2024-04-19T12:09:22.054554",
     "status": "completed"
    },
    "tags": []
   },
   "outputs": [],
   "source": [
    "def train(model, iterator, optimizer, criterion, device,\n",
    "          train_history=None, valid_history=None,):\n",
    "    model.train()\n",
    "\n",
    "    epoch_loss = 0\n",
    "    history = []\n",
    "    for i, batch in enumerate(tqdm(iterator)):\n",
    "\n",
    "        optimizer.zero_grad()\n",
    "\n",
    "        input_ids = batch[\"input_ids\"].to(device)\n",
    "        attention_mask = batch[\"attention_mask\"].to(device)\n",
    "        labels = batch[\"labels\"].to(device)\n",
    "        output = model(inputs=input_ids, attention_mask=attention_mask,).squeeze(1)\n",
    "        loss = criterion(output, labels)\n",
    "        loss.backward()\n",
    "        optimizer.step()\n",
    "        # scheduler.step()\n",
    "\n",
    "        epoch_loss += loss.item()\n",
    "\n",
    "        history.append(loss.cpu().data.numpy())\n",
    "\n",
    "    return epoch_loss / (i + 1)\n",
    "\n",
    "def evaluate(model, iterator, criterion, device):\n",
    "    model.eval()\n",
    "\n",
    "    epoch_loss = 0\n",
    "\n",
    "    true_labels = []\n",
    "    pred_labels = []\n",
    "\n",
    "    with torch.no_grad():\n",
    "\n",
    "        for i, batch in enumerate(iterator):\n",
    "\n",
    "            input_ids = batch[\"input_ids\"].to(device)\n",
    "            attention_mask = batch[\"attention_mask\"].to(device)\n",
    "            labels = batch[\"labels\"]\n",
    "\n",
    "            true_labels.extend(labels.cpu().numpy())\n",
    "            labels = labels.to(device)\n",
    "\n",
    "\n",
    "            output = model(inputs=input_ids, attention_mask=attention_mask,).squeeze(1)\n",
    "            pred_probas = output.cpu().numpy()\n",
    "            batch_pred_labels = (pred_probas >= 0.5) * 1\n",
    "\n",
    "            loss = criterion(output, labels)\n",
    "\n",
    "            pred_labels.extend(batch_pred_labels)\n",
    "            epoch_loss += loss.item()\n",
    "\n",
    "    valid_f1_score = f1_score(true_labels, pred_labels)\n",
    "    return epoch_loss / (i + 1), valid_f1_score\n",
    "\n",
    "def epoch_time(start_time, end_time):\n",
    "    elapsed_time = end_time - start_time\n",
    "    elapsed_mins = int(elapsed_time / 60)\n",
    "    elapsed_secs = int(elapsed_time - (elapsed_mins * 60))\n",
    "    return elapsed_mins, elapsed_secs"
   ]
  },
  {
   "cell_type": "code",
   "execution_count": null,
   "id": "384e9bc0",
   "metadata": {
    "id": "65M_aYDlpln9",
    "papermill": {
     "duration": 0.030826,
     "end_time": "2024-04-19T12:09:22.163728",
     "exception": false,
     "start_time": "2024-04-19T12:09:22.132902",
     "status": "completed"
    },
    "tags": []
   },
   "outputs": [],
   "source": []
  },
  {
   "cell_type": "code",
   "execution_count": 22,
   "id": "0166b083",
   "metadata": {
    "execution": {
     "iopub.execute_input": "2024-04-19T12:09:22.227726Z",
     "iopub.status.busy": "2024-04-19T12:09:22.227044Z",
     "iopub.status.idle": "2024-04-19T12:09:22.234095Z",
     "shell.execute_reply": "2024-04-19T12:09:22.233129Z"
    },
    "id": "dJf1NgzxcGIp",
    "papermill": {
     "duration": 0.040841,
     "end_time": "2024-04-19T12:09:22.236051",
     "exception": false,
     "start_time": "2024-04-19T12:09:22.195210",
     "status": "completed"
    },
    "tags": []
   },
   "outputs": [],
   "source": [
    "import time\n",
    "import math\n",
    "import matplotlib\n",
    "matplotlib.rcParams.update({'figure.figsize': (16, 12), 'font.size': 14})\n",
    "import matplotlib.pyplot as plt\n",
    "%matplotlib inline\n",
    "from IPython.display import clear_output"
   ]
  },
  {
   "cell_type": "code",
   "execution_count": 23,
   "id": "2ae5ba90",
   "metadata": {
    "execution": {
     "iopub.execute_input": "2024-04-19T12:09:22.301701Z",
     "iopub.status.busy": "2024-04-19T12:09:22.301334Z",
     "iopub.status.idle": "2024-04-19T12:09:22.311508Z",
     "shell.execute_reply": "2024-04-19T12:09:22.310607Z"
    },
    "id": "5LUN9l3masQd",
    "papermill": {
     "duration": 0.045486,
     "end_time": "2024-04-19T12:09:22.313438",
     "exception": false,
     "start_time": "2024-04-19T12:09:22.267952",
     "status": "completed"
    },
    "tags": []
   },
   "outputs": [],
   "source": [
    "def train_evaluate(bert_classifier, train_loader, dev_loader, optimizer, criterion, n_epochs, checkpoint_fname, device):\n",
    "    train_history = []\n",
    "    valid_history = []\n",
    "    valid_history_f1 = []\n",
    "\n",
    "    best_valid_loss = float('inf')\n",
    "    best_f1_score = 0.0\n",
    "\n",
    "    for epoch in range(n_epochs):\n",
    "\n",
    "        start_time = time.time()\n",
    "\n",
    "        train_loss = train(bert_classifier, train_loader, optimizer, criterion, device, train_history, valid_history, )\n",
    "        valid_loss, valid_f1_score = evaluate(bert_classifier, dev_loader, criterion, device)\n",
    "\n",
    "        end_time = time.time()\n",
    "\n",
    "        epoch_mins, epoch_secs = epoch_time(start_time, end_time)\n",
    "\n",
    "        train_history.append(train_loss)\n",
    "        valid_history.append(valid_loss)\n",
    "        valid_history_f1.append(valid_f1_score)\n",
    "\n",
    "        fig, ax = plt.subplots(nrows=1, ncols=2, figsize=(12, 8))\n",
    "\n",
    "        clear_output(True)\n",
    "        ax[0].plot(valid_history_f1, label='Val f1-score')\n",
    "        ax[0].set_xlabel('Epoch')\n",
    "        ax[0].set_title('Val f1-score')\n",
    "\n",
    "        ax[1].plot(train_history, label='general train history')\n",
    "        ax[1].set_xlabel('Epoch')\n",
    "        ax[1].plot(valid_history, label='general valid history')\n",
    "\n",
    "        plt.legend()\n",
    "        plt.show()\n",
    "\n",
    "        if valid_f1_score > best_f1_score:\n",
    "            best_f1_score = valid_f1_score\n",
    "            torch.save(bert_classifier.state_dict(), f'best-val-{checkpoint_fname}.pt')\n",
    "\n",
    "        print(f'Epoch: {epoch+1:02} | Time: {epoch_mins}m {epoch_secs}s')\n",
    "        print(f'\\tTrain Loss: {train_loss:.3f}')\n",
    "        print(f'\\t Val. Loss: {valid_loss:.3f} |  Val. F1: {valid_f1_score:.3f}')"
   ]
  },
  {
   "cell_type": "code",
   "execution_count": 24,
   "id": "02e4d268",
   "metadata": {
    "execution": {
     "iopub.execute_input": "2024-04-19T12:09:22.377849Z",
     "iopub.status.busy": "2024-04-19T12:09:22.377484Z",
     "iopub.status.idle": "2024-04-19T12:09:22.385285Z",
     "shell.execute_reply": "2024-04-19T12:09:22.384223Z"
    },
    "id": "64mMbvBGplqx",
    "papermill": {
     "duration": 0.04282,
     "end_time": "2024-04-19T12:09:22.387266",
     "exception": false,
     "start_time": "2024-04-19T12:09:22.344446",
     "status": "completed"
    },
    "tags": []
   },
   "outputs": [],
   "source": [
    "def predict(model, data_loader, device):\n",
    "    true_labels = []\n",
    "    pred_labels = []\n",
    "\n",
    "    model.eval()\n",
    "    with torch.no_grad():\n",
    "        for i, batch in enumerate(data_loader):\n",
    "            input_ids = batch[\"input_ids\"].to(device)\n",
    "            attention_mask = batch[\"attention_mask\"].to(device)\n",
    "            batch_true_labels = batch[\"labels\"].cpu().numpy()\n",
    "\n",
    "\n",
    "            pred_probas = model(inputs=input_ids, attention_mask=attention_mask,).squeeze(1)\n",
    "            pred_probas = pred_probas.cpu().numpy()\n",
    "\n",
    "            batch_pred_labels = (pred_probas >= 0.5) * 1\n",
    "\n",
    "            pred_labels.extend(batch_pred_labels)\n",
    "            true_labels.extend(batch_true_labels)\n",
    "    return true_labels, pred_labels"
   ]
  },
  {
   "cell_type": "code",
   "execution_count": 25,
   "id": "1d7f14ee",
   "metadata": {
    "execution": {
     "iopub.execute_input": "2024-04-19T12:09:22.452006Z",
     "iopub.status.busy": "2024-04-19T12:09:22.451633Z",
     "iopub.status.idle": "2024-04-19T12:09:22.459620Z",
     "shell.execute_reply": "2024-04-19T12:09:22.458744Z"
    },
    "id": "mIf1LjY-qCpl",
    "papermill": {
     "duration": 0.042434,
     "end_time": "2024-04-19T12:09:22.461564",
     "exception": false,
     "start_time": "2024-04-19T12:09:22.419130",
     "status": "completed"
    },
    "tags": []
   },
   "outputs": [],
   "source": [
    "class BertSimpleClassifier(nn.Module):\n",
    "    def __init__(self, bert_text_encoder, dropout=0.1):\n",
    "        super().__init__()\n",
    "\n",
    "        self.bert_text_encoder = bert_text_encoder\n",
    "        self.dropout = nn.Dropout(p=dropout)\n",
    "        bert_hidden_dim = bert_text_encoder.config.hidden_size\n",
    "\n",
    "        self.classifier = nn.Sequential(\n",
    "            nn.Dropout(p=dropout),\n",
    "            nn.Tanh(),\n",
    "            nn.Linear(bert_hidden_dim, bert_hidden_dim),\n",
    "            nn.Dropout(p=dropout),\n",
    "            nn.Tanh(),\n",
    "            nn.Linear(bert_hidden_dim, 1),\n",
    "        )\n",
    "\n",
    "\n",
    "    def forward(self, inputs, attention_mask,):\n",
    "        last_hidden_states = self.bert_text_encoder(inputs, attention_mask=attention_mask,\n",
    "                                                    return_dict=True)['last_hidden_state']\n",
    "        text_cls_embeddings = torch.stack([elem[0, :] for elem in last_hidden_states])\n",
    "        proba = self.classifier(text_cls_embeddings)\n",
    "        return proba"
   ]
  },
  {
   "cell_type": "code",
   "execution_count": null,
   "id": "4fc24e30",
   "metadata": {
    "id": "TQbr6RZrqCsY",
    "papermill": {
     "duration": 0.030596,
     "end_time": "2024-04-19T12:09:22.523445",
     "exception": false,
     "start_time": "2024-04-19T12:09:22.492849",
     "status": "completed"
    },
    "tags": []
   },
   "outputs": [],
   "source": []
  },
  {
   "cell_type": "code",
   "execution_count": 26,
   "id": "476ce97a",
   "metadata": {
    "execution": {
     "iopub.execute_input": "2024-04-19T12:09:22.586515Z",
     "iopub.status.busy": "2024-04-19T12:09:22.586167Z",
     "iopub.status.idle": "2024-04-19T12:09:22.590161Z",
     "shell.execute_reply": "2024-04-19T12:09:22.589412Z"
    },
    "id": "5eVDSwqqfCxW",
    "papermill": {
     "duration": 0.037846,
     "end_time": "2024-04-19T12:09:22.591983",
     "exception": false,
     "start_time": "2024-04-19T12:09:22.554137",
     "status": "completed"
    },
    "tags": []
   },
   "outputs": [],
   "source": [
    "N_EPOCHS = 40\n",
    "DROPOUT = 0.2"
   ]
  },
  {
   "cell_type": "code",
   "execution_count": 27,
   "id": "fdd904c2",
   "metadata": {
    "execution": {
     "iopub.execute_input": "2024-04-19T12:09:22.655848Z",
     "iopub.status.busy": "2024-04-19T12:09:22.655515Z",
     "iopub.status.idle": "2024-04-19T12:09:22.849016Z",
     "shell.execute_reply": "2024-04-19T12:09:22.848196Z"
    },
    "id": "xbVhbGTIfDMH",
    "papermill": {
     "duration": 0.227188,
     "end_time": "2024-04-19T12:09:22.851345",
     "exception": false,
     "start_time": "2024-04-19T12:09:22.624157",
     "status": "completed"
    },
    "tags": []
   },
   "outputs": [],
   "source": [
    "bert_simple_clf = BertSimpleClassifier(bert_model, dropout=DROPOUT).to(device)\n",
    "optimizer = optim.Adam(bert_simple_clf.parameters(), lr=3e-5)\n",
    "criterion = nn.BCEWithLogitsLoss()"
   ]
  },
  {
   "cell_type": "code",
   "execution_count": 28,
   "id": "8c6c2a0f",
   "metadata": {
    "execution": {
     "iopub.execute_input": "2024-04-19T12:09:22.914730Z",
     "iopub.status.busy": "2024-04-19T12:09:22.914405Z",
     "iopub.status.idle": "2024-04-19T13:15:28.378763Z",
     "shell.execute_reply": "2024-04-19T13:15:28.377683Z"
    },
    "id": "Y4GsPWI3wN_4",
    "outputId": "76a73aa7-9c87-4d28-9191-24193e9f4494",
    "papermill": {
     "duration": 3965.499425,
     "end_time": "2024-04-19T13:15:28.382071",
     "exception": false,
     "start_time": "2024-04-19T12:09:22.882646",
     "status": "completed"
    },
    "tags": []
   },
   "outputs": [
    {
     "data": {
      "image/png": "[encoded data removed]",
      "text/plain": [
       "<Figure size 1200x800 with 2 Axes>"
      ]
     },
     "metadata": {},
     "output_type": "display_data"
    },
    {
     "name": "stdout",
     "output_type": "stream",
     "text": [
      "Epoch: 40 | Time: 1m 38s\n",
      "\tTrain Loss: 0.053\n",
      "\t Val. Loss: 0.737 |  Val. F1: 0.264\n"
     ]
    }
   ],
   "source": [
    "train_evaluate(bert_simple_clf, train_loader, dev_loader, optimizer,\n",
    "               criterion, N_EPOCHS, \"text_only_baseline\", device)"
   ]
  },
  {
   "cell_type": "code",
   "execution_count": 29,
   "id": "fd54cd0e",
   "metadata": {
    "execution": {
     "iopub.execute_input": "2024-04-19T13:15:28.458744Z",
     "iopub.status.busy": "2024-04-19T13:15:28.458351Z",
     "iopub.status.idle": "2024-04-19T13:15:28.613396Z",
     "shell.execute_reply": "2024-04-19T13:15:28.612249Z"
    },
    "id": "wdydaSpIwOB8",
    "outputId": "7d7655da-85be-420c-ef9c-cfe3271ec48d",
    "papermill": {
     "duration": 0.195697,
     "end_time": "2024-04-19T13:15:28.615682",
     "exception": false,
     "start_time": "2024-04-19T13:15:28.419985",
     "status": "completed"
    },
    "tags": []
   },
   "outputs": [
    {
     "data": {
      "text/plain": [
       "<All keys matched successfully>"
      ]
     },
     "execution_count": 29,
     "metadata": {},
     "output_type": "execute_result"
    }
   ],
   "source": [
    "bert_simple_clf.load_state_dict(torch.load('best-val-text_only_baseline.pt'))"
   ]
  },
  {
   "cell_type": "markdown",
   "id": "e85b7208",
   "metadata": {
    "id": "Wlamg50cA3ez",
    "papermill": {
     "duration": 0.036823,
     "end_time": "2024-04-19T13:15:28.689360",
     "exception": false,
     "start_time": "2024-04-19T13:15:28.652537",
     "status": "completed"
    },
    "tags": []
   },
   "source": [
    "### Evaluation on dev set"
   ]
  },
  {
   "cell_type": "code",
   "execution_count": 30,
   "id": "39888303",
   "metadata": {
    "execution": {
     "iopub.execute_input": "2024-04-19T13:15:28.764109Z",
     "iopub.status.busy": "2024-04-19T13:15:28.763698Z",
     "iopub.status.idle": "2024-04-19T13:15:32.368708Z",
     "shell.execute_reply": "2024-04-19T13:15:32.367635Z"
    },
    "id": "Qzjnd3xPbLTF",
    "outputId": "ee088394-e7c0-4be3-f744-beb6f4385412",
    "papermill": {
     "duration": 3.643906,
     "end_time": "2024-04-19T13:15:32.370999",
     "exception": false,
     "start_time": "2024-04-19T13:15:28.727093",
     "status": "completed"
    },
    "tags": []
   },
   "outputs": [
    {
     "name": "stdout",
     "output_type": "stream",
     "text": [
      "0.31759656652360513,0.23948220064724918,0.27306273062730624\n"
     ]
    }
   ],
   "source": [
    "true_labels, pred_labels = predict(bert_simple_clf, dev_loader, device)\n",
    "print(f\"{precision_score(true_labels, pred_labels)},{recall_score(true_labels, pred_labels)},{f1_score(true_labels, pred_labels)}\")"
   ]
  },
  {
   "cell_type": "markdown",
   "id": "c8bbd189",
   "metadata": {
    "id": "fWPJAuNoAy_X",
    "papermill": {
     "duration": 0.032297,
     "end_time": "2024-04-19T13:15:32.437337",
     "exception": false,
     "start_time": "2024-04-19T13:15:32.405040",
     "status": "completed"
    },
    "tags": []
   },
   "source": [
    "### Evaluation on test set"
   ]
  },
  {
   "cell_type": "code",
   "execution_count": 31,
   "id": "71629746",
   "metadata": {
    "execution": {
     "iopub.execute_input": "2024-04-19T13:15:32.503402Z",
     "iopub.status.busy": "2024-04-19T13:15:32.503011Z",
     "iopub.status.idle": "2024-04-19T13:15:41.312361Z",
     "shell.execute_reply": "2024-04-19T13:15:41.311175Z"
    },
    "id": "jGdeCxifbLVR",
    "outputId": "2b4173be-0b5a-49b0-927d-61884ab4bb6e",
    "papermill": {
     "duration": 8.844977,
     "end_time": "2024-04-19T13:15:41.314506",
     "exception": false,
     "start_time": "2024-04-19T13:15:32.469529",
     "status": "completed"
    },
    "tags": []
   },
   "outputs": [
    {
     "name": "stdout",
     "output_type": "stream",
     "text": [
      "0.32162661737523107,0.22955145118733508,0.2678983833718245\n"
     ]
    }
   ],
   "source": [
    "true_labels, pred_labels = predict(bert_simple_clf, test_loader, device)\n",
    "print(f\"{precision_score(true_labels, pred_labels)},{recall_score(true_labels, pred_labels)},{f1_score(true_labels, pred_labels)}\")"
   ]
  },
  {
   "cell_type": "code",
   "execution_count": 32,
   "id": "5b349d6b",
   "metadata": {
    "execution": {
     "iopub.execute_input": "2024-04-19T13:15:41.382697Z",
     "iopub.status.busy": "2024-04-19T13:15:41.382369Z",
     "iopub.status.idle": "2024-04-19T13:15:41.415062Z",
     "shell.execute_reply": "2024-04-19T13:15:41.414084Z"
    },
    "id": "1-8RUJAHCQfe",
    "outputId": "45082c63-f034-4c60-9a71-6c863c40a26f",
    "papermill": {
     "duration": 0.068655,
     "end_time": "2024-04-19T13:15:41.417316",
     "exception": false,
     "start_time": "2024-04-19T13:15:41.348661",
     "status": "completed"
    },
    "tags": []
   },
   "outputs": [
    {
     "name": "stderr",
     "output_type": "stream",
     "text": [
      "/tmp/ipykernel_24/196693343.py:1: SettingWithCopyWarning: \n",
      "A value is trying to be set on a copy of a slice from a DataFrame.\n",
      "Try using .loc[row_indexer,col_indexer] = value instead\n",
      "\n",
      "See the caveats in the documentation: https://pandas.pydata.org/pandas-docs/stable/user_guide/indexing.html#returning-a-view-versus-a-copy\n",
      "  test_df[\"true_y\"] = true_labels\n",
      "/tmp/ipykernel_24/196693343.py:2: SettingWithCopyWarning: \n",
      "A value is trying to be set on a copy of a slice from a DataFrame.\n",
      "Try using .loc[row_indexer,col_indexer] = value instead\n",
      "\n",
      "See the caveats in the documentation: https://pandas.pydata.org/pandas-docs/stable/user_guide/indexing.html#returning-a-view-versus-a-copy\n",
      "  test_df[\"prediction\"] = pred_labels\n"
     ]
    }
   ],
   "source": [
    "test_df[\"true_y\"] = true_labels\n",
    "test_df[\"prediction\"] = pred_labels"
   ]
  },
  {
   "cell_type": "code",
   "execution_count": 33,
   "id": "ac7f01b8",
   "metadata": {
    "execution": {
     "iopub.execute_input": "2024-04-19T13:15:41.487109Z",
     "iopub.status.busy": "2024-04-19T13:15:41.486243Z",
     "iopub.status.idle": "2024-04-19T13:15:41.892824Z",
     "shell.execute_reply": "2024-04-19T13:15:41.891755Z"
    },
    "id": "5c_Z9ByeB2lT",
    "papermill": {
     "duration": 0.445201,
     "end_time": "2024-04-19T13:15:41.895401",
     "exception": false,
     "start_time": "2024-04-19T13:15:41.450200",
     "status": "completed"
    },
    "tags": []
   },
   "outputs": [],
   "source": [
    "test_pred_path = \"test_pred_mpnet_nograph_baseline.tsv\"\n",
    "test_df.to_csv(test_pred_path, sep='\\t', index=False)\n",
    "# test_df[[\"id\", \"prediction\"]].to_csv(test_pred_path, sep='\\t', index=False)"
   ]
  },
  {
   "cell_type": "code",
   "execution_count": 34,
   "id": "02bfb074",
   "metadata": {
    "execution": {
     "iopub.execute_input": "2024-04-19T13:15:41.965912Z",
     "iopub.status.busy": "2024-04-19T13:15:41.965095Z",
     "iopub.status.idle": "2024-04-19T13:15:41.969201Z",
     "shell.execute_reply": "2024-04-19T13:15:41.968323Z"
    },
    "id": "DZJuO6klwOEE",
    "papermill": {
     "duration": 0.041258,
     "end_time": "2024-04-19T13:15:41.971039",
     "exception": false,
     "start_time": "2024-04-19T13:15:41.929781",
     "status": "completed"
    },
    "tags": []
   },
   "outputs": [],
   "source": [
    "# del bert_simple_clf\n",
    "# del bert_model\n",
    "# del optimizer\n",
    "# del criterion"
   ]
  },
  {
   "cell_type": "markdown",
   "id": "5fc45b1d",
   "metadata": {
    "id": "dxjDmdljd5D9",
    "papermill": {
     "duration": 0.032273,
     "end_time": "2024-04-19T13:15:42.036059",
     "exception": false,
     "start_time": "2024-04-19T13:15:42.003786",
     "status": "completed"
    },
    "tags": []
   },
   "source": [
    "## Linearized graph baseline"
   ]
  },
  {
   "cell_type": "code",
   "execution_count": 35,
   "id": "09bf7a8b",
   "metadata": {
    "execution": {
     "iopub.execute_input": "2024-04-19T13:15:42.109291Z",
     "iopub.status.busy": "2024-04-19T13:15:42.108988Z",
     "iopub.status.idle": "2024-04-19T13:15:42.112901Z",
     "shell.execute_reply": "2024-04-19T13:15:42.112031Z"
    },
    "id": "_IjjZp1kXR7Y",
    "outputId": "aaab1161-47b4-4830-b8ee-ad9313637566",
    "papermill": {
     "duration": 0.039371,
     "end_time": "2024-04-19T13:15:42.114783",
     "exception": false,
     "start_time": "2024-04-19T13:15:42.075412",
     "status": "completed"
    },
    "tags": []
   },
   "outputs": [],
   "source": [
    "SEP_TOKEN = tokenizer.sep_token"
   ]
  },
  {
   "cell_type": "code",
   "execution_count": 36,
   "id": "f9d648db",
   "metadata": {
    "execution": {
     "iopub.execute_input": "2024-04-19T13:15:42.183360Z",
     "iopub.status.busy": "2024-04-19T13:15:42.182973Z",
     "iopub.status.idle": "2024-04-19T13:15:42.192890Z",
     "shell.execute_reply": "2024-04-19T13:15:42.192023Z"
    },
    "id": "UDtkFDCOa2I4",
    "papermill": {
     "duration": 0.047601,
     "end_time": "2024-04-19T13:15:42.194999",
     "exception": false,
     "start_time": "2024-04-19T13:15:42.147398",
     "status": "completed"
    },
    "tags": []
   },
   "outputs": [],
   "source": [
    "# {'directed': True, 'multigraph': False, 'graph': {},\n",
    "# 'nodes': [{'type': 'QUESTIONS_ENTITY', 'name_': 'Q49', 'id': 0, 'label': 'North America'},\n",
    "# {'type': 'ANSWER_CANDIDATE_ENTITY', 'name_': 'Q194057', 'id': 1, 'label': 'Mount Rainier'}],\n",
    "# 'links': [{'name_': 'P30', 'source': 1, 'target': 0, 'label': 'continent'}]}\n",
    "def linearize_graph(graph_dict):\n",
    "    nodes = sorted((node_dict for node_dict in graph_dict[\"nodes\"]), key=lambda d:d[\"id\"])\n",
    "    for n_id, node_dict in enumerate(nodes):\n",
    "        assert n_id == node_dict[\"id\"]\n",
    "    src_node_id2links = {}\n",
    "    # print(\"graph_dict\", graph_dict)\n",
    "    # print(\"links\", graph_dict[\"links\"])\n",
    "    for link_dict in graph_dict[\"links\"]:\n",
    "        link_src =  link_dict[\"source\"]\n",
    "        if src_node_id2links.get(link_src) is None:\n",
    "            src_node_id2links[link_src] = []\n",
    "        src_node_id2links[link_src].append(link_dict)\n",
    "    graph_s = \"\"\n",
    "    # print(\"src_node_id2links\", src_node_id2links)\n",
    "    for n_id, node_dict in enumerate(nodes):\n",
    "        links = src_node_id2links.get(n_id, list())\n",
    "        start_label = node_dict[\"label\"]\n",
    "        if node_dict[\"type\"] == \"ANSWER_CANDIDATE_ENTITY\":\n",
    "            start_label = f\"{SEP_TOKEN} {start_label} {SEP_TOKEN}\"\n",
    "        for link_dict in links:\n",
    "            target_label = nodes[link_dict[\"target\"]][\"label\"]\n",
    "            if nodes[link_dict[\"target\"]][\"type\"] == \"ANSWER_CANDIDATE_ENTITY\":\n",
    "                target_label = f\"{SEP_TOKEN} {target_label} {SEP_TOKEN}\"\n",
    "            link_s = f\" {start_label}, {link_dict['label']}, {target_label} \"\n",
    "            graph_s += link_s\n",
    "        # graph_s += node_dict[\"label\"]\n",
    "        # print(\"n_id, node_dict\", n_id, node_dict)\n",
    "        # if n_id != len(nodes) - 1:\n",
    "\n",
    "\n",
    "        #     link_label = link[\"label\"]\n",
    "        #     graph_s += link_label\n",
    "    # print('--')\n",
    "    return graph_s"
   ]
  },
  {
   "cell_type": "code",
   "execution_count": 37,
   "id": "8e59b0a0",
   "metadata": {
    "execution": {
     "iopub.execute_input": "2024-04-19T13:15:42.265336Z",
     "iopub.status.busy": "2024-04-19T13:15:42.264889Z",
     "iopub.status.idle": "2024-04-19T13:15:42.739841Z",
     "shell.execute_reply": "2024-04-19T13:15:42.738906Z"
    },
    "id": "3MMm3s5Ea2Lr",
    "papermill": {
     "duration": 0.512872,
     "end_time": "2024-04-19T13:15:42.741928",
     "exception": false,
     "start_time": "2024-04-19T13:15:42.229056",
     "status": "completed"
    },
    "tags": []
   },
   "outputs": [
    {
     "name": "stderr",
     "output_type": "stream",
     "text": [
      "/tmp/ipykernel_24/2265556522.py:1: SettingWithCopyWarning: \n",
      "A value is trying to be set on a copy of a slice from a DataFrame.\n",
      "Try using .loc[row_indexer,col_indexer] = value instead\n",
      "\n",
      "See the caveats in the documentation: https://pandas.pydata.org/pandas-docs/stable/user_guide/indexing.html#returning-a-view-versus-a-copy\n",
      "  train_df[\"linearized_graph\"] = train_df[\"graph\"].apply(linearize_graph)\n",
      "/tmp/ipykernel_24/2265556522.py:2: SettingWithCopyWarning: \n",
      "A value is trying to be set on a copy of a slice from a DataFrame.\n",
      "Try using .loc[row_indexer,col_indexer] = value instead\n",
      "\n",
      "See the caveats in the documentation: https://pandas.pydata.org/pandas-docs/stable/user_guide/indexing.html#returning-a-view-versus-a-copy\n",
      "  dev_df[\"linearized_graph\"] = dev_df[\"graph\"].apply(linearize_graph)\n",
      "/tmp/ipykernel_24/2265556522.py:3: SettingWithCopyWarning: \n",
      "A value is trying to be set on a copy of a slice from a DataFrame.\n",
      "Try using .loc[row_indexer,col_indexer] = value instead\n",
      "\n",
      "See the caveats in the documentation: https://pandas.pydata.org/pandas-docs/stable/user_guide/indexing.html#returning-a-view-versus-a-copy\n",
      "  test_df[\"linearized_graph\"] = test_df[\"graph\"].apply(linearize_graph)\n"
     ]
    }
   ],
   "source": [
    "train_df[\"linearized_graph\"] = train_df[\"graph\"].apply(linearize_graph)\n",
    "dev_df[\"linearized_graph\"] = dev_df[\"graph\"].apply(linearize_graph)\n",
    "test_df[\"linearized_graph\"] = test_df[\"graph\"].apply(linearize_graph)"
   ]
  },
  {
   "cell_type": "code",
   "execution_count": 38,
   "id": "80b8a154",
   "metadata": {
    "execution": {
     "iopub.execute_input": "2024-04-19T13:15:42.810262Z",
     "iopub.status.busy": "2024-04-19T13:15:42.809973Z",
     "iopub.status.idle": "2024-04-19T13:15:42.813873Z",
     "shell.execute_reply": "2024-04-19T13:15:42.813061Z"
    },
    "id": "lv48cvNkahzr",
    "papermill": {
     "duration": 0.040088,
     "end_time": "2024-04-19T13:15:42.815796",
     "exception": false,
     "start_time": "2024-04-19T13:15:42.775708",
     "status": "completed"
    },
    "tags": []
   },
   "outputs": [],
   "source": [
    "pd.set_option('display.max_colwidth', None)"
   ]
  },
  {
   "cell_type": "code",
   "execution_count": 39,
   "id": "96a2cec8",
   "metadata": {
    "execution": {
     "iopub.execute_input": "2024-04-19T13:15:42.883796Z",
     "iopub.status.busy": "2024-04-19T13:15:42.883512Z",
     "iopub.status.idle": "2024-04-19T13:15:42.890821Z",
     "shell.execute_reply": "2024-04-19T13:15:42.889843Z"
    },
    "id": "BJh3Sj37a2Nv",
    "outputId": "8bc8b46e-413a-4f7d-d703-87196e5043a7",
    "papermill": {
     "duration": 0.043674,
     "end_time": "2024-04-19T13:15:42.892908",
     "exception": false,
     "start_time": "2024-04-19T13:15:42.849234",
     "status": "completed"
    },
    "tags": []
   },
   "outputs": [
    {
     "data": {
      "text/plain": [
       "0                                                                                                                                                                                                                                                                                                                 Iran, country, Iran  Iran, replaces, Pahlavi dynasty  Pahlavi dynasty, replaced by, Iran  [SEP] Ruhollah Khomeini's return to Iran [SEP], country, Pahlavi dynasty \n",
       "1     Iran, described by source, Jewish Encyclopedia of Brockhaus and Efron  Iran, country, Iran  letter, described by source, Jewish Encyclopedia of Brockhaus and Efron  letter, subclass of, written work  The Book of Healing, country of origin, Iran  The Book of Healing, instance of, written work  [SEP] Ruhollah Khomeini's letter to Mikhail Gorbachev [SEP], instance of, written work  [SEP] Ruhollah Khomeini's letter to Mikhail Gorbachev [SEP], instance of, letter \n",
       "2                                                                                                                                                                                                                                                                                                                                               Iran, country, Iran  Iran, head of state, [SEP] Ruhollah Khomeini [SEP]  [SEP] Ruhollah Khomeini [SEP], country of citizenship, Iran \n",
       "3                                                                                                                                                                                                                                      Iran, country, Iran  [SEP] Office of the Supreme Leader of Iran [SEP], different from, Imam Khomeini Hussainiya  Imam Khomeini Hussainiya, country, Iran  Imam Khomeini Hussainiya, part of, [SEP] Office of the Supreme Leader of Iran [SEP] \n",
       "4                                                                                                                                                                                                                         Iran, country, Iran  [SEP] Mohammad Reza Pahlavi and Soraya [SEP], has part(s), Soraya Esfandiari-Bakhtiari  Soraya Esfandiari-Bakhtiari, country of citizenship, Iran  Soraya Esfandiari-Bakhtiari, part of, [SEP] Mohammad Reza Pahlavi and Soraya [SEP] \n",
       "Name: linearized_graph, dtype: object"
      ]
     },
     "execution_count": 39,
     "metadata": {},
     "output_type": "execute_result"
    }
   ],
   "source": [
    "train_df[\"linearized_graph\"].head()"
   ]
  },
  {
   "cell_type": "code",
   "execution_count": 40,
   "id": "88094667",
   "metadata": {
    "execution": {
     "iopub.execute_input": "2024-04-19T13:15:42.962976Z",
     "iopub.status.busy": "2024-04-19T13:15:42.962259Z",
     "iopub.status.idle": "2024-04-19T13:15:42.969146Z",
     "shell.execute_reply": "2024-04-19T13:15:42.968294Z"
    },
    "id": "bjkPcQVMc45f",
    "outputId": "e61bf9a5-d0c3-4bc2-dc4c-3ae7438465c0",
    "papermill": {
     "duration": 0.042469,
     "end_time": "2024-04-19T13:15:42.971036",
     "exception": false,
     "start_time": "2024-04-19T13:15:42.928567",
     "status": "completed"
    },
    "tags": []
   },
   "outputs": [
    {
     "data": {
      "text/plain": [
       "259                                                                                                                                                                                                                                                                             United States, country, United States  [SEP] Truman Capote [SEP], country of citizenship, United States  To Kill a Mockingbird, country of origin, United States \n",
       "260                                                                                                                                                                                                                                United States, country, United States  National Gallery of Art, country, United States  To Kill a Mockingbird, country of origin, United States  [SEP] Truman Capote [SEP], location, National Gallery of Art \n",
       "261                                                                                                                                                                                                                                                                            United States, country, United States  [SEP] J. D. Salinger [SEP], country of citizenship, United States  To Kill a Mockingbird, country of origin, United States \n",
       "262                                                                                                                                                                                                                              United States, country, United States  J. D. Salinger, country of citizenship, United States  To Kill a Mockingbird, country of origin, United States  [SEP] J. D. Salinger [SEP], main subject, J. D. Salinger \n",
       "263     United States, country, United States  Harvard University, country, United States  Harper Lee, country of citizenship, United States  Harper Lee, instance of, human  Harper Lee, notable work, To Kill a Mockingbird  To Kill a Mockingbird, country of origin, United States  To Kill a Mockingbird, author, Harper Lee  [SEP] Harper Lee Kaye [SEP], instance of, human  [SEP] Harper Lee Kaye [SEP], educated at, Harvard University \n",
       "Name: linearized_graph, dtype: object"
      ]
     },
     "execution_count": 40,
     "metadata": {},
     "output_type": "execute_result"
    }
   ],
   "source": [
    "dev_df[\"linearized_graph\"].head()"
   ]
  },
  {
   "cell_type": "code",
   "execution_count": 41,
   "id": "69f7f00b",
   "metadata": {
    "execution": {
     "iopub.execute_input": "2024-04-19T13:15:43.039498Z",
     "iopub.status.busy": "2024-04-19T13:15:43.039200Z",
     "iopub.status.idle": "2024-04-19T13:15:43.045685Z",
     "shell.execute_reply": "2024-04-19T13:15:43.044801Z"
    },
    "id": "PJ1_Hvtic48H",
    "outputId": "ab22a668-8060-4603-cc48-cda45de8dd5b",
    "papermill": {
     "duration": 0.042214,
     "end_time": "2024-04-19T13:15:43.047662",
     "exception": false,
     "start_time": "2024-04-19T13:15:43.005448",
     "status": "completed"
    },
    "tags": []
   },
   "outputs": [
    {
     "data": {
      "text/plain": [
       "11                                                                                                        [SEP] Yogi Berra [SEP], league, Major League Baseball \n",
       "12     United States, country, United States  Major League Baseball, country, United States  [SEP] Tony Gwynn, Jr. [SEP], country of citizenship, United States \n",
       "13                                                                                                    [SEP] Roy Campanella [SEP], league, Major League Baseball \n",
       "14                                                                                                     [SEP] Roger Clemens [SEP], league, Major League Baseball \n",
       "15                                                                                                     [SEP] Mickey Mantle [SEP], league, Major League Baseball \n",
       "Name: linearized_graph, dtype: object"
      ]
     },
     "execution_count": 41,
     "metadata": {},
     "output_type": "execute_result"
    }
   ],
   "source": [
    "test_df[\"linearized_graph\"].head()"
   ]
  },
  {
   "cell_type": "code",
   "execution_count": 42,
   "id": "a411c38d",
   "metadata": {
    "execution": {
     "iopub.execute_input": "2024-04-19T13:15:43.118626Z",
     "iopub.status.busy": "2024-04-19T13:15:43.118252Z",
     "iopub.status.idle": "2024-04-19T13:15:43.790035Z",
     "shell.execute_reply": "2024-04-19T13:15:43.788983Z"
    },
    "id": "_9QjwGmDc4-o",
    "outputId": "049157d2-0a3f-4e45-af08-eb9397a4d2ed",
    "papermill": {
     "duration": 0.710573,
     "end_time": "2024-04-19T13:15:43.791975",
     "exception": false,
     "start_time": "2024-04-19T13:15:43.081402",
     "status": "completed"
    },
    "tags": []
   },
   "outputs": [
    {
     "name": "stdout",
     "output_type": "stream",
     "text": [
      "# Trainable params:  21441408\n"
     ]
    }
   ],
   "source": [
    "model_name=\"sentence-transformers/all-MiniLM-L12-v2\"\n",
    "\n",
    "tokenizer = AutoTokenizer.from_pretrained(model_name)\n",
    "bert_model = AutoModel.from_pretrained(model_name)\n",
    "\n",
    "freeze_embeddings = True\n",
    "if freeze_embeddings:\n",
    "    for param in bert_model.embeddings.parameters():\n",
    "        param.requires_grad = False\n",
    "\n",
    "# freeze_layer_count = 5\n",
    "# if freeze_layer_count > 0:\n",
    "#     for layer in bert_model.encoder.layer[:freeze_layer_count]:\n",
    "#         for param in layer.parameters():\n",
    "#             param.requires_grad = False\n",
    "\n",
    "print(\"# Trainable params: \", sum(p.numel() for p in bert_model.parameters() if p.requires_grad))"
   ]
  },
  {
   "cell_type": "code",
   "execution_count": 43,
   "id": "32a64e32",
   "metadata": {
    "execution": {
     "iopub.execute_input": "2024-04-19T13:15:43.861666Z",
     "iopub.status.busy": "2024-04-19T13:15:43.861370Z",
     "iopub.status.idle": "2024-04-19T13:16:02.180266Z",
     "shell.execute_reply": "2024-04-19T13:16:02.179306Z"
    },
    "id": "IMAj9xH8eOPI",
    "papermill": {
     "duration": 18.356243,
     "end_time": "2024-04-19T13:16:02.182689",
     "exception": false,
     "start_time": "2024-04-19T13:15:43.826446",
     "status": "completed"
    },
    "tags": []
   },
   "outputs": [],
   "source": [
    "max_length = 128\n",
    "train_dataset = QuestionAnswerDataset(train_df, tokenizer=tokenizer, max_length=max_length, context_key=\"linearized_graph\",\n",
    "                                      tokenizer_truncation=\"only_second\")\n",
    "dev_dataset = QuestionAnswerDataset(dev_df, tokenizer=tokenizer, max_length=max_length, context_key=\"linearized_graph\",\n",
    "                                    tokenizer_truncation=\"only_second\")\n",
    "test_dataset = QuestionAnswerDataset(test_df, tokenizer=tokenizer, max_length=max_length, context_key=\"linearized_graph\",\n",
    "                                     tokenizer_truncation=\"only_second\")"
   ]
  },
  {
   "cell_type": "code",
   "execution_count": 44,
   "id": "bd0a43df",
   "metadata": {
    "execution": {
     "iopub.execute_input": "2024-04-19T13:16:02.251967Z",
     "iopub.status.busy": "2024-04-19T13:16:02.251651Z",
     "iopub.status.idle": "2024-04-19T13:16:02.665168Z",
     "shell.execute_reply": "2024-04-19T13:16:02.664393Z"
    },
    "id": "UyovLTaleOPJ",
    "papermill": {
     "duration": 0.450824,
     "end_time": "2024-04-19T13:16:02.668130",
     "exception": false,
     "start_time": "2024-04-19T13:16:02.217306",
     "status": "completed"
    },
    "tags": []
   },
   "outputs": [],
   "source": [
    "batch_size = 64\n",
    "num_workers = 0\n",
    "\n",
    "train_loader = torch.utils.data.DataLoader(\n",
    "    train_dataset, batch_size=batch_size, num_workers=num_workers, shuffle=True, drop_last=True,\n",
    ")\n",
    "dev_loader = torch.utils.data.DataLoader(\n",
    "    dev_dataset, batch_size=batch_size, num_workers=num_workers, shuffle=False, drop_last=False,\n",
    ")\n",
    "test_loader = torch.utils.data.DataLoader(\n",
    "    test_dataset, batch_size=batch_size, num_workers=num_workers, shuffle=False, drop_last=False,\n",
    ")"
   ]
  },
  {
   "cell_type": "code",
   "execution_count": null,
   "id": "216aecd0",
   "metadata": {
    "id": "IsK3zQ0AeN-s",
    "papermill": {
     "duration": 0.033501,
     "end_time": "2024-04-19T13:16:02.736488",
     "exception": false,
     "start_time": "2024-04-19T13:16:02.702987",
     "status": "completed"
    },
    "tags": []
   },
   "outputs": [],
   "source": []
  },
  {
   "cell_type": "code",
   "execution_count": 45,
   "id": "6920e4e2",
   "metadata": {
    "execution": {
     "iopub.execute_input": "2024-04-19T13:16:02.804697Z",
     "iopub.status.busy": "2024-04-19T13:16:02.804069Z",
     "iopub.status.idle": "2024-04-19T13:16:02.808144Z",
     "shell.execute_reply": "2024-04-19T13:16:02.807337Z"
    },
    "id": "8-lTz-GTebQr",
    "papermill": {
     "duration": 0.040221,
     "end_time": "2024-04-19T13:16:02.809966",
     "exception": false,
     "start_time": "2024-04-19T13:16:02.769745",
     "status": "completed"
    },
    "tags": []
   },
   "outputs": [],
   "source": [
    "N_EPOCHS = 40\n",
    "DROPOUT = 0.2"
   ]
  },
  {
   "cell_type": "code",
   "execution_count": 46,
   "id": "4439d001",
   "metadata": {
    "execution": {
     "iopub.execute_input": "2024-04-19T13:16:02.878670Z",
     "iopub.status.busy": "2024-04-19T13:16:02.878108Z",
     "iopub.status.idle": "2024-04-19T13:16:02.932750Z",
     "shell.execute_reply": "2024-04-19T13:16:02.932023Z"
    },
    "id": "uEc_HDseebQ3",
    "papermill": {
     "duration": 0.091056,
     "end_time": "2024-04-19T13:16:02.934716",
     "exception": false,
     "start_time": "2024-04-19T13:16:02.843660",
     "status": "completed"
    },
    "tags": []
   },
   "outputs": [],
   "source": [
    "bert_linearized_graph_clf = BertSimpleClassifier(bert_model, dropout=DROPOUT).to(device)\n",
    "optimizer = optim.Adam(bert_linearized_graph_clf.parameters(), lr=3e-5)\n",
    "criterion = nn.BCEWithLogitsLoss()"
   ]
  },
  {
   "cell_type": "code",
   "execution_count": 47,
   "id": "402299e0",
   "metadata": {
    "execution": {
     "iopub.execute_input": "2024-04-19T13:16:03.004778Z",
     "iopub.status.busy": "2024-04-19T13:16:03.004096Z",
     "iopub.status.idle": "2024-04-19T14:21:58.169243Z",
     "shell.execute_reply": "2024-04-19T14:21:58.168316Z"
    },
    "id": "Qh1GJ_CvebQ3",
    "outputId": "6518c45a-e1b5-4e9e-9969-7baa6ba444ad",
    "papermill": {
     "duration": 3955.203691,
     "end_time": "2024-04-19T14:21:58.172918",
     "exception": false,
     "start_time": "2024-04-19T13:16:02.969227",
     "status": "completed"
    },
    "tags": []
   },
   "outputs": [
    {
     "data": {
      "image/png": "[encoded data removed]",
      "text/plain": [
       "<Figure size 1200x800 with 2 Axes>"
      ]
     },
     "metadata": {},
     "output_type": "display_data"
    },
    {
     "name": "stdout",
     "output_type": "stream",
     "text": [
      "Epoch: 40 | Time: 1m 38s\n",
      "\tTrain Loss: 0.012\n",
      "\t Val. Loss: 0.389 |  Val. F1: 0.629\n"
     ]
    }
   ],
   "source": [
    "train_evaluate(bert_linearized_graph_clf, train_loader, dev_loader, optimizer,\n",
    "               criterion, N_EPOCHS, \"bert_linearized_graph_clf\", device)"
   ]
  },
  {
   "cell_type": "code",
   "execution_count": 48,
   "id": "c653e915",
   "metadata": {
    "execution": {
     "iopub.execute_input": "2024-04-19T14:21:58.245184Z",
     "iopub.status.busy": "2024-04-19T14:21:58.244453Z",
     "iopub.status.idle": "2024-04-19T14:21:58.354818Z",
     "shell.execute_reply": "2024-04-19T14:21:58.353829Z"
    },
    "id": "bkh2ONAJebQ4",
    "outputId": "3d8b0cd4-5777-4122-aeb0-58926c09ca9a",
    "papermill": {
     "duration": 0.148662,
     "end_time": "2024-04-19T14:21:58.357055",
     "exception": false,
     "start_time": "2024-04-19T14:21:58.208393",
     "status": "completed"
    },
    "tags": []
   },
   "outputs": [
    {
     "data": {
      "text/plain": [
       "<All keys matched successfully>"
      ]
     },
     "execution_count": 48,
     "metadata": {},
     "output_type": "execute_result"
    }
   ],
   "source": [
    "bert_linearized_graph_clf.load_state_dict(torch.load('best-val-bert_linearized_graph_clf.pt'))"
   ]
  },
  {
   "cell_type": "markdown",
   "id": "c863f971",
   "metadata": {
    "id": "4snZM3rnBRTJ",
    "papermill": {
     "duration": 0.03771,
     "end_time": "2024-04-19T14:21:58.432809",
     "exception": false,
     "start_time": "2024-04-19T14:21:58.395099",
     "status": "completed"
    },
    "tags": []
   },
   "source": [
    "### Evaluation on dev set"
   ]
  },
  {
   "cell_type": "code",
   "execution_count": 49,
   "id": "3324f015",
   "metadata": {
    "execution": {
     "iopub.execute_input": "2024-04-19T14:21:58.505725Z",
     "iopub.status.busy": "2024-04-19T14:21:58.505346Z",
     "iopub.status.idle": "2024-04-19T14:22:02.070642Z",
     "shell.execute_reply": "2024-04-19T14:22:02.069713Z"
    },
    "id": "XxzgmftOebQ4",
    "outputId": "d4263480-9bd0-44a3-a393-091609e4734d",
    "papermill": {
     "duration": 3.603988,
     "end_time": "2024-04-19T14:22:02.072585",
     "exception": false,
     "start_time": "2024-04-19T14:21:58.468597",
     "status": "completed"
    },
    "tags": []
   },
   "outputs": [
    {
     "name": "stdout",
     "output_type": "stream",
     "text": [
      "0.6666666666666666,0.6472491909385113,0.6568144499178982\n"
     ]
    }
   ],
   "source": [
    "true_labels, pred_labels = predict(bert_linearized_graph_clf, dev_loader, device)\n",
    "print(f\"{precision_score(true_labels, pred_labels)},{recall_score(true_labels, pred_labels)},{f1_score(true_labels, pred_labels)}\")"
   ]
  },
  {
   "cell_type": "markdown",
   "id": "225e4366",
   "metadata": {
    "id": "Kn7BLj4JBQhh",
    "papermill": {
     "duration": 0.03516,
     "end_time": "2024-04-19T14:22:02.144003",
     "exception": false,
     "start_time": "2024-04-19T14:22:02.108843",
     "status": "completed"
    },
    "tags": []
   },
   "source": [
    "### Evaluation on test set"
   ]
  },
  {
   "cell_type": "code",
   "execution_count": 50,
   "id": "4265ba61",
   "metadata": {
    "execution": {
     "iopub.execute_input": "2024-04-19T14:22:02.216461Z",
     "iopub.status.busy": "2024-04-19T14:22:02.216070Z",
     "iopub.status.idle": "2024-04-19T14:22:10.959255Z",
     "shell.execute_reply": "2024-04-19T14:22:10.958330Z"
    },
    "id": "bS15rJwBebQ4",
    "outputId": "42bb2da7-36b0-424d-acad-83c4058493ea",
    "papermill": {
     "duration": 8.781379,
     "end_time": "2024-04-19T14:22:10.961349",
     "exception": false,
     "start_time": "2024-04-19T14:22:02.179970",
     "status": "completed"
    },
    "tags": []
   },
   "outputs": [
    {
     "name": "stdout",
     "output_type": "stream",
     "text": [
      "0.6539007092198581,0.6081794195250659,0.630211893369788\n"
     ]
    }
   ],
   "source": [
    "true_labels, pred_labels = predict(bert_linearized_graph_clf, test_loader, device)\n",
    "print(f\"{precision_score(true_labels, pred_labels)},{recall_score(true_labels, pred_labels)},{f1_score(true_labels, pred_labels)}\")"
   ]
  },
  {
   "cell_type": "code",
   "execution_count": 51,
   "id": "5a87a229",
   "metadata": {
    "execution": {
     "iopub.execute_input": "2024-04-19T14:22:11.034096Z",
     "iopub.status.busy": "2024-04-19T14:22:11.033783Z",
     "iopub.status.idle": "2024-04-19T14:22:11.037764Z",
     "shell.execute_reply": "2024-04-19T14:22:11.037023Z"
    },
    "id": "w3KCyZb3a2aA",
    "papermill": {
     "duration": 0.042106,
     "end_time": "2024-04-19T14:22:11.039513",
     "exception": false,
     "start_time": "2024-04-19T14:22:10.997407",
     "status": "completed"
    },
    "tags": []
   },
   "outputs": [],
   "source": [
    "assert len(true_labels) == len(pred_labels)"
   ]
  },
  {
   "cell_type": "code",
   "execution_count": 52,
   "id": "3cdc0b22",
   "metadata": {
    "execution": {
     "iopub.execute_input": "2024-04-19T14:22:11.111892Z",
     "iopub.status.busy": "2024-04-19T14:22:11.111632Z",
     "iopub.status.idle": "2024-04-19T14:22:11.143617Z",
     "shell.execute_reply": "2024-04-19T14:22:11.142773Z"
    },
    "id": "dN-7a23ea2cd",
    "papermill": {
     "duration": 0.070877,
     "end_time": "2024-04-19T14:22:11.145654",
     "exception": false,
     "start_time": "2024-04-19T14:22:11.074777",
     "status": "completed"
    },
    "tags": []
   },
   "outputs": [
    {
     "name": "stderr",
     "output_type": "stream",
     "text": [
      "/tmp/ipykernel_24/520965589.py:1: SettingWithCopyWarning: \n",
      "A value is trying to be set on a copy of a slice from a DataFrame.\n",
      "Try using .loc[row_indexer,col_indexer] = value instead\n",
      "\n",
      "See the caveats in the documentation: https://pandas.pydata.org/pandas-docs/stable/user_guide/indexing.html#returning-a-view-versus-a-copy\n",
      "  test_df[\"true_y\"] = true_labels\n",
      "/tmp/ipykernel_24/520965589.py:2: SettingWithCopyWarning: \n",
      "A value is trying to be set on a copy of a slice from a DataFrame.\n",
      "Try using .loc[row_indexer,col_indexer] = value instead\n",
      "\n",
      "See the caveats in the documentation: https://pandas.pydata.org/pandas-docs/stable/user_guide/indexing.html#returning-a-view-versus-a-copy\n",
      "  test_df[\"prediction\"] = pred_labels\n"
     ]
    }
   ],
   "source": [
    "test_df[\"true_y\"] = true_labels\n",
    "test_df[\"prediction\"] = pred_labels\n"
   ]
  },
  {
   "cell_type": "code",
   "execution_count": 53,
   "id": "f5855d0b",
   "metadata": {
    "execution": {
     "iopub.execute_input": "2024-04-19T14:22:11.217811Z",
     "iopub.status.busy": "2024-04-19T14:22:11.217064Z",
     "iopub.status.idle": "2024-04-19T14:22:11.244121Z",
     "shell.execute_reply": "2024-04-19T14:22:11.243316Z"
    },
    "id": "eL54btd75U63",
    "outputId": "cafa5165-3d73-4b30-b0bf-f070278899ae",
    "papermill": {
     "duration": 0.065071,
     "end_time": "2024-04-19T14:22:11.245965",
     "exception": false,
     "start_time": "2024-04-19T14:22:11.180894",
     "status": "completed"
    },
    "tags": []
   },
   "outputs": [
    {
     "data": {
      "text/html": [
       "<div>\n",
       "<style scoped>\n",
       "    .dataframe tbody tr th:only-of-type {\n",
       "        vertical-align: middle;\n",
       "    }\n",
       "\n",
       "    .dataframe tbody tr th {\n",
       "        vertical-align: top;\n",
       "    }\n",
       "\n",
       "    .dataframe thead th {\n",
       "        text-align: right;\n",
       "    }\n",
       "</style>\n",
       "<table border=\"1\" class=\"dataframe\">\n",
       "  <thead>\n",
       "    <tr style=\"text-align: right;\">\n",
       "      <th></th>\n",
       "      <th>sample_id</th>\n",
       "      <th>question</th>\n",
       "      <th>questionEntity</th>\n",
       "      <th>answerEntity</th>\n",
       "      <th>groundTruthAnswerEntity</th>\n",
       "      <th>answerEntityId</th>\n",
       "      <th>questionEntityId</th>\n",
       "      <th>groundTruthAnswerEntityId</th>\n",
       "      <th>correct</th>\n",
       "      <th>graph</th>\n",
       "      <th>label</th>\n",
       "      <th>true_y</th>\n",
       "      <th>prediction</th>\n",
       "      <th>linearized_graph</th>\n",
       "    </tr>\n",
       "  </thead>\n",
       "  <tbody>\n",
       "    <tr>\n",
       "      <th>11</th>\n",
       "      <td>11</td>\n",
       "      <td>Whose is the oldest MLB player to hit a home run?</td>\n",
       "      <td>Major League Baseball</td>\n",
       "      <td>Yogi Berra</td>\n",
       "      <td>Julio Franco</td>\n",
       "      <td>Q367566</td>\n",
       "      <td>Q1163715</td>\n",
       "      <td>Q487717</td>\n",
       "      <td>False</td>\n",
       "      <td>{'nodes': [{'type': 'QUESTIONS_ENTITY', 'name_': 'Q1163715', 'id': 0, 'label': 'Major League Baseball'}, {'type': 'ANSWER_CANDIDATE_ENTITY', 'name_': 'Q367566', 'id': 1, 'label': 'Yogi Berra'}], 'links': [{'name_': 'P118', 'source': 1, 'target': 0, 'label': 'league'}]}</td>\n",
       "      <td>0.0</td>\n",
       "      <td>0.0</td>\n",
       "      <td>0</td>\n",
       "      <td>[SEP] Yogi Berra [SEP], league, Major League Baseball</td>\n",
       "    </tr>\n",
       "    <tr>\n",
       "      <th>12</th>\n",
       "      <td>12</td>\n",
       "      <td>Whose is the oldest MLB player to hit a home run?</td>\n",
       "      <td>Major League Baseball</td>\n",
       "      <td>Tony Gwynn, Jr.</td>\n",
       "      <td>Julio Franco</td>\n",
       "      <td>Q3531782</td>\n",
       "      <td>Q1163715</td>\n",
       "      <td>Q487717</td>\n",
       "      <td>False</td>\n",
       "      <td>{'nodes': [{'type': 'INTERNAL', 'name_': 'Q30', 'id': 0, 'label': 'United States'}, {'type': 'QUESTIONS_ENTITY', 'name_': 'Q1163715', 'id': 1, 'label': 'Major League Baseball'}, {'type': 'ANSWER_CANDIDATE_ENTITY', 'name_': 'Q3531782', 'id': 2, 'label': 'Tony Gwynn, Jr.'}], 'links': [{'name_': 'P17', 'source': 0, 'target': 0, 'label': 'country'}, {'name_': 'P17', 'source': 1, 'target': 0, 'label': 'country'}, {'name_': 'P27', 'source': 2, 'target': 0, 'label': 'country of citizenship'}]}</td>\n",
       "      <td>0.0</td>\n",
       "      <td>0.0</td>\n",
       "      <td>0</td>\n",
       "      <td>United States, country, United States  Major League Baseball, country, United States  [SEP] Tony Gwynn, Jr. [SEP], country of citizenship, United States</td>\n",
       "    </tr>\n",
       "    <tr>\n",
       "      <th>13</th>\n",
       "      <td>13</td>\n",
       "      <td>Whose is the oldest MLB player to hit a home run?</td>\n",
       "      <td>Major League Baseball</td>\n",
       "      <td>Roy Campanella</td>\n",
       "      <td>Julio Franco</td>\n",
       "      <td>Q735795</td>\n",
       "      <td>Q1163715</td>\n",
       "      <td>Q487717</td>\n",
       "      <td>False</td>\n",
       "      <td>{'nodes': [{'type': 'QUESTIONS_ENTITY', 'name_': 'Q1163715', 'id': 0, 'label': 'Major League Baseball'}, {'type': 'ANSWER_CANDIDATE_ENTITY', 'name_': 'Q735795', 'id': 1, 'label': 'Roy Campanella'}], 'links': [{'name_': 'P118', 'source': 1, 'target': 0, 'label': 'league'}]}</td>\n",
       "      <td>0.0</td>\n",
       "      <td>0.0</td>\n",
       "      <td>1</td>\n",
       "      <td>[SEP] Roy Campanella [SEP], league, Major League Baseball</td>\n",
       "    </tr>\n",
       "    <tr>\n",
       "      <th>14</th>\n",
       "      <td>14</td>\n",
       "      <td>Whose is the oldest MLB player to hit a home run?</td>\n",
       "      <td>Major League Baseball</td>\n",
       "      <td>Roger Clemens</td>\n",
       "      <td>Julio Franco</td>\n",
       "      <td>Q473208</td>\n",
       "      <td>Q1163715</td>\n",
       "      <td>Q487717</td>\n",
       "      <td>False</td>\n",
       "      <td>{'nodes': [{'type': 'QUESTIONS_ENTITY', 'name_': 'Q1163715', 'id': 0, 'label': 'Major League Baseball'}, {'type': 'ANSWER_CANDIDATE_ENTITY', 'name_': 'Q473208', 'id': 1, 'label': 'Roger Clemens'}], 'links': [{'name_': 'P118', 'source': 1, 'target': 0, 'label': 'league'}]}</td>\n",
       "      <td>0.0</td>\n",
       "      <td>0.0</td>\n",
       "      <td>0</td>\n",
       "      <td>[SEP] Roger Clemens [SEP], league, Major League Baseball</td>\n",
       "    </tr>\n",
       "    <tr>\n",
       "      <th>15</th>\n",
       "      <td>15</td>\n",
       "      <td>Whose is the oldest MLB player to hit a home run?</td>\n",
       "      <td>Major League Baseball</td>\n",
       "      <td>Mickey Mantle</td>\n",
       "      <td>Julio Franco</td>\n",
       "      <td>Q345004</td>\n",
       "      <td>Q1163715</td>\n",
       "      <td>Q487717</td>\n",
       "      <td>False</td>\n",
       "      <td>{'nodes': [{'type': 'QUESTIONS_ENTITY', 'name_': 'Q1163715', 'id': 0, 'label': 'Major League Baseball'}, {'type': 'ANSWER_CANDIDATE_ENTITY', 'name_': 'Q345004', 'id': 1, 'label': 'Mickey Mantle'}], 'links': [{'name_': 'P118', 'source': 1, 'target': 0, 'label': 'league'}]}</td>\n",
       "      <td>0.0</td>\n",
       "      <td>0.0</td>\n",
       "      <td>0</td>\n",
       "      <td>[SEP] Mickey Mantle [SEP], league, Major League Baseball</td>\n",
       "    </tr>\n",
       "  </tbody>\n",
       "</table>\n",
       "</div>"
      ],
      "text/plain": [
       "    sample_id                                           question  \\\n",
       "11         11  Whose is the oldest MLB player to hit a home run?   \n",
       "12         12  Whose is the oldest MLB player to hit a home run?   \n",
       "13         13  Whose is the oldest MLB player to hit a home run?   \n",
       "14         14  Whose is the oldest MLB player to hit a home run?   \n",
       "15         15  Whose is the oldest MLB player to hit a home run?   \n",
       "\n",
       "           questionEntity     answerEntity groundTruthAnswerEntity  \\\n",
       "11  Major League Baseball       Yogi Berra            Julio Franco   \n",
       "12  Major League Baseball  Tony Gwynn, Jr.            Julio Franco   \n",
       "13  Major League Baseball   Roy Campanella            Julio Franco   \n",
       "14  Major League Baseball    Roger Clemens            Julio Franco   \n",
       "15  Major League Baseball    Mickey Mantle            Julio Franco   \n",
       "\n",
       "   answerEntityId questionEntityId groundTruthAnswerEntityId  correct  \\\n",
       "11        Q367566         Q1163715                   Q487717    False   \n",
       "12       Q3531782         Q1163715                   Q487717    False   \n",
       "13        Q735795         Q1163715                   Q487717    False   \n",
       "14        Q473208         Q1163715                   Q487717    False   \n",
       "15        Q345004         Q1163715                   Q487717    False   \n",
       "\n",
       "                                                                                                                                                                                                                                                                                                                                                                                                                                                                                                          graph  \\\n",
       "11                                                                                                                                                                                                                                {'nodes': [{'type': 'QUESTIONS_ENTITY', 'name_': 'Q1163715', 'id': 0, 'label': 'Major League Baseball'}, {'type': 'ANSWER_CANDIDATE_ENTITY', 'name_': 'Q367566', 'id': 1, 'label': 'Yogi Berra'}], 'links': [{'name_': 'P118', 'source': 1, 'target': 0, 'label': 'league'}]}   \n",
       "12  {'nodes': [{'type': 'INTERNAL', 'name_': 'Q30', 'id': 0, 'label': 'United States'}, {'type': 'QUESTIONS_ENTITY', 'name_': 'Q1163715', 'id': 1, 'label': 'Major League Baseball'}, {'type': 'ANSWER_CANDIDATE_ENTITY', 'name_': 'Q3531782', 'id': 2, 'label': 'Tony Gwynn, Jr.'}], 'links': [{'name_': 'P17', 'source': 0, 'target': 0, 'label': 'country'}, {'name_': 'P17', 'source': 1, 'target': 0, 'label': 'country'}, {'name_': 'P27', 'source': 2, 'target': 0, 'label': 'country of citizenship'}]}   \n",
       "13                                                                                                                                                                                                                            {'nodes': [{'type': 'QUESTIONS_ENTITY', 'name_': 'Q1163715', 'id': 0, 'label': 'Major League Baseball'}, {'type': 'ANSWER_CANDIDATE_ENTITY', 'name_': 'Q735795', 'id': 1, 'label': 'Roy Campanella'}], 'links': [{'name_': 'P118', 'source': 1, 'target': 0, 'label': 'league'}]}   \n",
       "14                                                                                                                                                                                                                             {'nodes': [{'type': 'QUESTIONS_ENTITY', 'name_': 'Q1163715', 'id': 0, 'label': 'Major League Baseball'}, {'type': 'ANSWER_CANDIDATE_ENTITY', 'name_': 'Q473208', 'id': 1, 'label': 'Roger Clemens'}], 'links': [{'name_': 'P118', 'source': 1, 'target': 0, 'label': 'league'}]}   \n",
       "15                                                                                                                                                                                                                             {'nodes': [{'type': 'QUESTIONS_ENTITY', 'name_': 'Q1163715', 'id': 0, 'label': 'Major League Baseball'}, {'type': 'ANSWER_CANDIDATE_ENTITY', 'name_': 'Q345004', 'id': 1, 'label': 'Mickey Mantle'}], 'links': [{'name_': 'P118', 'source': 1, 'target': 0, 'label': 'league'}]}   \n",
       "\n",
       "    label  true_y  prediction  \\\n",
       "11    0.0     0.0           0   \n",
       "12    0.0     0.0           0   \n",
       "13    0.0     0.0           1   \n",
       "14    0.0     0.0           0   \n",
       "15    0.0     0.0           0   \n",
       "\n",
       "                                                                                                                                              linearized_graph  \n",
       "11                                                                                                      [SEP] Yogi Berra [SEP], league, Major League Baseball   \n",
       "12   United States, country, United States  Major League Baseball, country, United States  [SEP] Tony Gwynn, Jr. [SEP], country of citizenship, United States   \n",
       "13                                                                                                  [SEP] Roy Campanella [SEP], league, Major League Baseball   \n",
       "14                                                                                                   [SEP] Roger Clemens [SEP], league, Major League Baseball   \n",
       "15                                                                                                   [SEP] Mickey Mantle [SEP], league, Major League Baseball   "
      ]
     },
     "execution_count": 53,
     "metadata": {},
     "output_type": "execute_result"
    }
   ],
   "source": [
    "test_df.head()"
   ]
  },
  {
   "cell_type": "code",
   "execution_count": 54,
   "id": "0b0d5736",
   "metadata": {
    "execution": {
     "iopub.execute_input": "2024-04-19T14:22:11.319407Z",
     "iopub.status.busy": "2024-04-19T14:22:11.318798Z",
     "iopub.status.idle": "2024-04-19T14:22:11.345126Z",
     "shell.execute_reply": "2024-04-19T14:22:11.344329Z"
    },
    "id": "LUUuPMR83_iU",
    "outputId": "65d21e50-6043-466e-a770-b7de49ad35be",
    "papermill": {
     "duration": 0.065509,
     "end_time": "2024-04-19T14:22:11.347321",
     "exception": false,
     "start_time": "2024-04-19T14:22:11.281812",
     "status": "completed"
    },
    "tags": []
   },
   "outputs": [
    {
     "data": {
      "text/html": [
       "<div>\n",
       "<style scoped>\n",
       "    .dataframe tbody tr th:only-of-type {\n",
       "        vertical-align: middle;\n",
       "    }\n",
       "\n",
       "    .dataframe tbody tr th {\n",
       "        vertical-align: top;\n",
       "    }\n",
       "\n",
       "    .dataframe thead th {\n",
       "        text-align: right;\n",
       "    }\n",
       "</style>\n",
       "<table border=\"1\" class=\"dataframe\">\n",
       "  <thead>\n",
       "    <tr style=\"text-align: right;\">\n",
       "      <th></th>\n",
       "      <th>question</th>\n",
       "      <th>answerEntity</th>\n",
       "      <th>groundTruthAnswerEntity</th>\n",
       "      <th>true_y</th>\n",
       "      <th>prediction</th>\n",
       "      <th>label</th>\n",
       "    </tr>\n",
       "  </thead>\n",
       "  <tbody>\n",
       "    <tr>\n",
       "      <th>11</th>\n",
       "      <td>Whose is the oldest MLB player to hit a home run?</td>\n",
       "      <td>Yogi Berra</td>\n",
       "      <td>Julio Franco</td>\n",
       "      <td>0.0</td>\n",
       "      <td>0</td>\n",
       "      <td>0.0</td>\n",
       "    </tr>\n",
       "    <tr>\n",
       "      <th>12</th>\n",
       "      <td>Whose is the oldest MLB player to hit a home run?</td>\n",
       "      <td>Tony Gwynn, Jr.</td>\n",
       "      <td>Julio Franco</td>\n",
       "      <td>0.0</td>\n",
       "      <td>0</td>\n",
       "      <td>0.0</td>\n",
       "    </tr>\n",
       "    <tr>\n",
       "      <th>13</th>\n",
       "      <td>Whose is the oldest MLB player to hit a home run?</td>\n",
       "      <td>Roy Campanella</td>\n",
       "      <td>Julio Franco</td>\n",
       "      <td>0.0</td>\n",
       "      <td>1</td>\n",
       "      <td>0.0</td>\n",
       "    </tr>\n",
       "    <tr>\n",
       "      <th>14</th>\n",
       "      <td>Whose is the oldest MLB player to hit a home run?</td>\n",
       "      <td>Roger Clemens</td>\n",
       "      <td>Julio Franco</td>\n",
       "      <td>0.0</td>\n",
       "      <td>0</td>\n",
       "      <td>0.0</td>\n",
       "    </tr>\n",
       "    <tr>\n",
       "      <th>15</th>\n",
       "      <td>Whose is the oldest MLB player to hit a home run?</td>\n",
       "      <td>Mickey Mantle</td>\n",
       "      <td>Julio Franco</td>\n",
       "      <td>0.0</td>\n",
       "      <td>0</td>\n",
       "      <td>0.0</td>\n",
       "    </tr>\n",
       "    <tr>\n",
       "      <th>16</th>\n",
       "      <td>Whose is the oldest MLB player to hit a home run?</td>\n",
       "      <td>Lou Gehrig</td>\n",
       "      <td>Julio Franco</td>\n",
       "      <td>0.0</td>\n",
       "      <td>0</td>\n",
       "      <td>0.0</td>\n",
       "    </tr>\n",
       "    <tr>\n",
       "      <th>17</th>\n",
       "      <td>Whose is the oldest MLB player to hit a home run?</td>\n",
       "      <td>Julio Franco</td>\n",
       "      <td>Julio Franco</td>\n",
       "      <td>1.0</td>\n",
       "      <td>0</td>\n",
       "      <td>1.0</td>\n",
       "    </tr>\n",
       "    <tr>\n",
       "      <th>18</th>\n",
       "      <td>Whose is the oldest MLB player to hit a home run?</td>\n",
       "      <td>José Bautista</td>\n",
       "      <td>Julio Franco</td>\n",
       "      <td>0.0</td>\n",
       "      <td>0</td>\n",
       "      <td>0.0</td>\n",
       "    </tr>\n",
       "    <tr>\n",
       "      <th>19</th>\n",
       "      <td>Whose is the oldest MLB player to hit a home run?</td>\n",
       "      <td>Hank Greenberg</td>\n",
       "      <td>Julio Franco</td>\n",
       "      <td>0.0</td>\n",
       "      <td>0</td>\n",
       "      <td>0.0</td>\n",
       "    </tr>\n",
       "    <tr>\n",
       "      <th>20</th>\n",
       "      <td>Whose is the oldest MLB player to hit a home run?</td>\n",
       "      <td>Hank Aaron</td>\n",
       "      <td>Julio Franco</td>\n",
       "      <td>0.0</td>\n",
       "      <td>0</td>\n",
       "      <td>0.0</td>\n",
       "    </tr>\n",
       "    <tr>\n",
       "      <th>21</th>\n",
       "      <td>Whose is the oldest MLB player to hit a home run?</td>\n",
       "      <td>Babe Ruth</td>\n",
       "      <td>Julio Franco</td>\n",
       "      <td>0.0</td>\n",
       "      <td>1</td>\n",
       "      <td>0.0</td>\n",
       "    </tr>\n",
       "    <tr>\n",
       "      <th>22</th>\n",
       "      <td>Whose assassination sparked the beginning of World War I?</td>\n",
       "      <td>assassination of Archduke Franz Ferdinand</td>\n",
       "      <td>Archduke Franz Ferdinand</td>\n",
       "      <td>0.0</td>\n",
       "      <td>0</td>\n",
       "      <td>0.0</td>\n",
       "    </tr>\n",
       "    <tr>\n",
       "      <th>23</th>\n",
       "      <td>Whose assassination sparked the beginning of World War I?</td>\n",
       "      <td>Franz-Joseph</td>\n",
       "      <td>Archduke Franz Ferdinand</td>\n",
       "      <td>0.0</td>\n",
       "      <td>0</td>\n",
       "      <td>0.0</td>\n",
       "    </tr>\n",
       "    <tr>\n",
       "      <th>24</th>\n",
       "      <td>Whose assassination sparked the beginning of World War I?</td>\n",
       "      <td>Franz Joseph I of Austria and Empress Elisabeth</td>\n",
       "      <td>Archduke Franz Ferdinand</td>\n",
       "      <td>0.0</td>\n",
       "      <td>0</td>\n",
       "      <td>0.0</td>\n",
       "    </tr>\n",
       "    <tr>\n",
       "      <th>25</th>\n",
       "      <td>Whose assassination sparked the beginning of World War I?</td>\n",
       "      <td>Franz Joseph I of Austria</td>\n",
       "      <td>Archduke Franz Ferdinand</td>\n",
       "      <td>0.0</td>\n",
       "      <td>0</td>\n",
       "      <td>0.0</td>\n",
       "    </tr>\n",
       "    <tr>\n",
       "      <th>26</th>\n",
       "      <td>Whose assassination sparked the beginning of World War I?</td>\n",
       "      <td>Franz Joseph</td>\n",
       "      <td>Archduke Franz Ferdinand</td>\n",
       "      <td>0.0</td>\n",
       "      <td>0</td>\n",
       "      <td>0.0</td>\n",
       "    </tr>\n",
       "    <tr>\n",
       "      <th>27</th>\n",
       "      <td>Whose assassination sparked the beginning of World War I?</td>\n",
       "      <td>Franz Ferdinand</td>\n",
       "      <td>Archduke Franz Ferdinand</td>\n",
       "      <td>0.0</td>\n",
       "      <td>0</td>\n",
       "      <td>0.0</td>\n",
       "    </tr>\n",
       "    <tr>\n",
       "      <th>28</th>\n",
       "      <td>Whose assassination sparked the beginning of World War I?</td>\n",
       "      <td>Emperor Franz Joseph I of Austria</td>\n",
       "      <td>Archduke Franz Ferdinand</td>\n",
       "      <td>0.0</td>\n",
       "      <td>0</td>\n",
       "      <td>0.0</td>\n",
       "    </tr>\n",
       "    <tr>\n",
       "      <th>29</th>\n",
       "      <td>Whose assassination sparked the beginning of World War I?</td>\n",
       "      <td>Emperor Franz Joseph I of Austria</td>\n",
       "      <td>Archduke Franz Ferdinand</td>\n",
       "      <td>0.0</td>\n",
       "      <td>0</td>\n",
       "      <td>0.0</td>\n",
       "    </tr>\n",
       "    <tr>\n",
       "      <th>30</th>\n",
       "      <td>Whose assassination sparked the beginning of World War I?</td>\n",
       "      <td>Archduke Franz Ferdinand car</td>\n",
       "      <td>Archduke Franz Ferdinand</td>\n",
       "      <td>0.0</td>\n",
       "      <td>0</td>\n",
       "      <td>0.0</td>\n",
       "    </tr>\n",
       "    <tr>\n",
       "      <th>31</th>\n",
       "      <td>Whose assassination sparked the beginning of World War I?</td>\n",
       "      <td>Archduke Franz Ferdinand</td>\n",
       "      <td>Archduke Franz Ferdinand</td>\n",
       "      <td>1.0</td>\n",
       "      <td>0</td>\n",
       "      <td>1.0</td>\n",
       "    </tr>\n",
       "    <tr>\n",
       "      <th>65</th>\n",
       "      <td>Who's older, Lady Gaga or Beyoncé?</td>\n",
       "      <td>Queen Latifah</td>\n",
       "      <td>Beyoncé</td>\n",
       "      <td>0.0</td>\n",
       "      <td>0</td>\n",
       "      <td>0.0</td>\n",
       "    </tr>\n",
       "    <tr>\n",
       "      <th>66</th>\n",
       "      <td>Who's older, Lady Gaga or Beyoncé?</td>\n",
       "      <td>Lil Kim Season</td>\n",
       "      <td>Beyoncé</td>\n",
       "      <td>0.0</td>\n",
       "      <td>0</td>\n",
       "      <td>0.0</td>\n",
       "    </tr>\n",
       "    <tr>\n",
       "      <th>67</th>\n",
       "      <td>Who's older, Lady Gaga or Beyoncé?</td>\n",
       "      <td>Lady Gaga</td>\n",
       "      <td>Beyoncé</td>\n",
       "      <td>0.0</td>\n",
       "      <td>0</td>\n",
       "      <td>0.0</td>\n",
       "    </tr>\n",
       "    <tr>\n",
       "      <th>68</th>\n",
       "      <td>Who's older, Lady Gaga or Beyoncé?</td>\n",
       "      <td>Jessy Terrero</td>\n",
       "      <td>Beyoncé</td>\n",
       "      <td>0.0</td>\n",
       "      <td>0</td>\n",
       "      <td>0.0</td>\n",
       "    </tr>\n",
       "    <tr>\n",
       "      <th>69</th>\n",
       "      <td>Who's older, Lady Gaga or Beyoncé?</td>\n",
       "      <td>Jessie J. Rankin</td>\n",
       "      <td>Beyoncé</td>\n",
       "      <td>0.0</td>\n",
       "      <td>0</td>\n",
       "      <td>0.0</td>\n",
       "    </tr>\n",
       "    <tr>\n",
       "      <th>70</th>\n",
       "      <td>Who's older, Lady Gaga or Beyoncé?</td>\n",
       "      <td>Jessie J</td>\n",
       "      <td>Beyoncé</td>\n",
       "      <td>0.0</td>\n",
       "      <td>0</td>\n",
       "      <td>0.0</td>\n",
       "    </tr>\n",
       "    <tr>\n",
       "      <th>71</th>\n",
       "      <td>Who's older, Lady Gaga or Beyoncé?</td>\n",
       "      <td>Gaga</td>\n",
       "      <td>Beyoncé</td>\n",
       "      <td>0.0</td>\n",
       "      <td>0</td>\n",
       "      <td>0.0</td>\n",
       "    </tr>\n",
       "    <tr>\n",
       "      <th>72</th>\n",
       "      <td>Who's older, Lady Gaga or Beyoncé?</td>\n",
       "      <td>Björk</td>\n",
       "      <td>Beyoncé</td>\n",
       "      <td>0.0</td>\n",
       "      <td>0</td>\n",
       "      <td>0.0</td>\n",
       "    </tr>\n",
       "    <tr>\n",
       "      <th>73</th>\n",
       "      <td>Who's older, Lady Gaga or Beyoncé?</td>\n",
       "      <td>Beyoncé studio albums discography</td>\n",
       "      <td>Beyoncé</td>\n",
       "      <td>0.0</td>\n",
       "      <td>0</td>\n",
       "      <td>0.0</td>\n",
       "    </tr>\n",
       "    <tr>\n",
       "      <th>74</th>\n",
       "      <td>Who's older, Lady Gaga or Beyoncé?</td>\n",
       "      <td>Beyoncé</td>\n",
       "      <td>Beyoncé</td>\n",
       "      <td>1.0</td>\n",
       "      <td>1</td>\n",
       "      <td>1.0</td>\n",
       "    </tr>\n",
       "    <tr>\n",
       "      <th>75</th>\n",
       "      <td>Who's older, Lady Gaga or Beyoncé?</td>\n",
       "      <td>Ashley Washington</td>\n",
       "      <td>Beyoncé</td>\n",
       "      <td>0.0</td>\n",
       "      <td>0</td>\n",
       "      <td>0.0</td>\n",
       "    </tr>\n",
       "    <tr>\n",
       "      <th>87</th>\n",
       "      <td>Who wrote the song Karma Police and has a lazy eye?</td>\n",
       "      <td>Timbaland</td>\n",
       "      <td>Thom Yorke</td>\n",
       "      <td>0.0</td>\n",
       "      <td>0</td>\n",
       "      <td>0.0</td>\n",
       "    </tr>\n",
       "    <tr>\n",
       "      <th>88</th>\n",
       "      <td>Who wrote the song Karma Police and has a lazy eye?</td>\n",
       "      <td>Thom Yorke</td>\n",
       "      <td>Thom Yorke</td>\n",
       "      <td>1.0</td>\n",
       "      <td>1</td>\n",
       "      <td>1.0</td>\n",
       "    </tr>\n",
       "    <tr>\n",
       "      <th>89</th>\n",
       "      <td>Who wrote the song Karma Police and has a lazy eye?</td>\n",
       "      <td>Paul McCartney</td>\n",
       "      <td>Thom Yorke</td>\n",
       "      <td>0.0</td>\n",
       "      <td>0</td>\n",
       "      <td>0.0</td>\n",
       "    </tr>\n",
       "    <tr>\n",
       "      <th>90</th>\n",
       "      <td>Who wrote the song Karma Police and has a lazy eye?</td>\n",
       "      <td>Mike Patton</td>\n",
       "      <td>Thom Yorke</td>\n",
       "      <td>0.0</td>\n",
       "      <td>0</td>\n",
       "      <td>0.0</td>\n",
       "    </tr>\n",
       "    <tr>\n",
       "      <th>91</th>\n",
       "      <td>Who wrote the song Karma Police and has a lazy eye?</td>\n",
       "      <td>Jimmy Buffett</td>\n",
       "      <td>Thom Yorke</td>\n",
       "      <td>0.0</td>\n",
       "      <td>0</td>\n",
       "      <td>0.0</td>\n",
       "    </tr>\n",
       "    <tr>\n",
       "      <th>92</th>\n",
       "      <td>Who wrote the song Karma Police and has a lazy eye?</td>\n",
       "      <td>James Blunt</td>\n",
       "      <td>Thom Yorke</td>\n",
       "      <td>0.0</td>\n",
       "      <td>0</td>\n",
       "      <td>0.0</td>\n",
       "    </tr>\n",
       "    <tr>\n",
       "      <th>93</th>\n",
       "      <td>Who wrote the song Karma Police and has a lazy eye?</td>\n",
       "      <td>Ed Sheeran</td>\n",
       "      <td>Thom Yorke</td>\n",
       "      <td>0.0</td>\n",
       "      <td>0</td>\n",
       "      <td>0.0</td>\n",
       "    </tr>\n",
       "    <tr>\n",
       "      <th>94</th>\n",
       "      <td>Who wrote the song Karma Police and has a lazy eye?</td>\n",
       "      <td>Dr. Dre</td>\n",
       "      <td>Thom Yorke</td>\n",
       "      <td>0.0</td>\n",
       "      <td>0</td>\n",
       "      <td>0.0</td>\n",
       "    </tr>\n",
       "    <tr>\n",
       "      <th>95</th>\n",
       "      <td>Who wrote the song Karma Police and has a lazy eye?</td>\n",
       "      <td>Dave Matthews</td>\n",
       "      <td>Thom Yorke</td>\n",
       "      <td>0.0</td>\n",
       "      <td>0</td>\n",
       "      <td>0.0</td>\n",
       "    </tr>\n",
       "    <tr>\n",
       "      <th>96</th>\n",
       "      <td>Who wrote the song Karma Police and has a lazy eye?</td>\n",
       "      <td>Dave Grohl</td>\n",
       "      <td>Thom Yorke</td>\n",
       "      <td>0.0</td>\n",
       "      <td>0</td>\n",
       "      <td>0.0</td>\n",
       "    </tr>\n",
       "    <tr>\n",
       "      <th>97</th>\n",
       "      <td>Who wrote the song Karma Police and has a lazy eye?</td>\n",
       "      <td>DJ Khaled</td>\n",
       "      <td>Thom Yorke</td>\n",
       "      <td>0.0</td>\n",
       "      <td>0</td>\n",
       "      <td>0.0</td>\n",
       "    </tr>\n",
       "    <tr>\n",
       "      <th>142</th>\n",
       "      <td>Who wrote the Russian novel, Petersburg?</td>\n",
       "      <td>Nikolai Gogol</td>\n",
       "      <td>Andrei Bely</td>\n",
       "      <td>0.0</td>\n",
       "      <td>0</td>\n",
       "      <td>0.0</td>\n",
       "    </tr>\n",
       "    <tr>\n",
       "      <th>143</th>\n",
       "      <td>Who wrote the Russian novel, Petersburg?</td>\n",
       "      <td>Leo Tolstoy</td>\n",
       "      <td>Andrei Bely</td>\n",
       "      <td>0.0</td>\n",
       "      <td>0</td>\n",
       "      <td>0.0</td>\n",
       "    </tr>\n",
       "    <tr>\n",
       "      <th>144</th>\n",
       "      <td>Who wrote the Russian novel, Petersburg?</td>\n",
       "      <td>Ivan Turgenev</td>\n",
       "      <td>Andrei Bely</td>\n",
       "      <td>0.0</td>\n",
       "      <td>0</td>\n",
       "      <td>0.0</td>\n",
       "    </tr>\n",
       "    <tr>\n",
       "      <th>145</th>\n",
       "      <td>Who wrote the Russian novel, Petersburg?</td>\n",
       "      <td>Ivan Goncharov</td>\n",
       "      <td>Andrei Bely</td>\n",
       "      <td>0.0</td>\n",
       "      <td>0</td>\n",
       "      <td>0.0</td>\n",
       "    </tr>\n",
       "    <tr>\n",
       "      <th>146</th>\n",
       "      <td>Who wrote the Russian novel, Petersburg?</td>\n",
       "      <td>Fyodor Dostoyevsky bibliography</td>\n",
       "      <td>Andrei Bely</td>\n",
       "      <td>0.0</td>\n",
       "      <td>0</td>\n",
       "      <td>0.0</td>\n",
       "    </tr>\n",
       "    <tr>\n",
       "      <th>147</th>\n",
       "      <td>Who wrote the Russian novel, Petersburg?</td>\n",
       "      <td>Fyodor Dostoevsky: Insight, Faith, and Prophecy</td>\n",
       "      <td>Andrei Bely</td>\n",
       "      <td>0.0</td>\n",
       "      <td>0</td>\n",
       "      <td>0.0</td>\n",
       "    </tr>\n",
       "    <tr>\n",
       "      <th>148</th>\n",
       "      <td>Who wrote the Russian novel, Petersburg?</td>\n",
       "      <td>Dostoyevsky House in Staraya Russa</td>\n",
       "      <td>Andrei Bely</td>\n",
       "      <td>0.0</td>\n",
       "      <td>0</td>\n",
       "      <td>0.0</td>\n",
       "    </tr>\n",
       "  </tbody>\n",
       "</table>\n",
       "</div>"
      ],
      "text/plain": [
       "                                                      question  \\\n",
       "11           Whose is the oldest MLB player to hit a home run?   \n",
       "12           Whose is the oldest MLB player to hit a home run?   \n",
       "13           Whose is the oldest MLB player to hit a home run?   \n",
       "14           Whose is the oldest MLB player to hit a home run?   \n",
       "15           Whose is the oldest MLB player to hit a home run?   \n",
       "16           Whose is the oldest MLB player to hit a home run?   \n",
       "17           Whose is the oldest MLB player to hit a home run?   \n",
       "18           Whose is the oldest MLB player to hit a home run?   \n",
       "19           Whose is the oldest MLB player to hit a home run?   \n",
       "20           Whose is the oldest MLB player to hit a home run?   \n",
       "21           Whose is the oldest MLB player to hit a home run?   \n",
       "22   Whose assassination sparked the beginning of World War I?   \n",
       "23   Whose assassination sparked the beginning of World War I?   \n",
       "24   Whose assassination sparked the beginning of World War I?   \n",
       "25   Whose assassination sparked the beginning of World War I?   \n",
       "26   Whose assassination sparked the beginning of World War I?   \n",
       "27   Whose assassination sparked the beginning of World War I?   \n",
       "28   Whose assassination sparked the beginning of World War I?   \n",
       "29   Whose assassination sparked the beginning of World War I?   \n",
       "30   Whose assassination sparked the beginning of World War I?   \n",
       "31   Whose assassination sparked the beginning of World War I?   \n",
       "65                          Who's older, Lady Gaga or Beyoncé?   \n",
       "66                          Who's older, Lady Gaga or Beyoncé?   \n",
       "67                          Who's older, Lady Gaga or Beyoncé?   \n",
       "68                          Who's older, Lady Gaga or Beyoncé?   \n",
       "69                          Who's older, Lady Gaga or Beyoncé?   \n",
       "70                          Who's older, Lady Gaga or Beyoncé?   \n",
       "71                          Who's older, Lady Gaga or Beyoncé?   \n",
       "72                          Who's older, Lady Gaga or Beyoncé?   \n",
       "73                          Who's older, Lady Gaga or Beyoncé?   \n",
       "74                          Who's older, Lady Gaga or Beyoncé?   \n",
       "75                          Who's older, Lady Gaga or Beyoncé?   \n",
       "87         Who wrote the song Karma Police and has a lazy eye?   \n",
       "88         Who wrote the song Karma Police and has a lazy eye?   \n",
       "89         Who wrote the song Karma Police and has a lazy eye?   \n",
       "90         Who wrote the song Karma Police and has a lazy eye?   \n",
       "91         Who wrote the song Karma Police and has a lazy eye?   \n",
       "92         Who wrote the song Karma Police and has a lazy eye?   \n",
       "93         Who wrote the song Karma Police and has a lazy eye?   \n",
       "94         Who wrote the song Karma Police and has a lazy eye?   \n",
       "95         Who wrote the song Karma Police and has a lazy eye?   \n",
       "96         Who wrote the song Karma Police and has a lazy eye?   \n",
       "97         Who wrote the song Karma Police and has a lazy eye?   \n",
       "142                   Who wrote the Russian novel, Petersburg?   \n",
       "143                   Who wrote the Russian novel, Petersburg?   \n",
       "144                   Who wrote the Russian novel, Petersburg?   \n",
       "145                   Who wrote the Russian novel, Petersburg?   \n",
       "146                   Who wrote the Russian novel, Petersburg?   \n",
       "147                   Who wrote the Russian novel, Petersburg?   \n",
       "148                   Who wrote the Russian novel, Petersburg?   \n",
       "\n",
       "                                        answerEntity  \\\n",
       "11                                        Yogi Berra   \n",
       "12                                   Tony Gwynn, Jr.   \n",
       "13                                    Roy Campanella   \n",
       "14                                     Roger Clemens   \n",
       "15                                     Mickey Mantle   \n",
       "16                                        Lou Gehrig   \n",
       "17                                      Julio Franco   \n",
       "18                                     José Bautista   \n",
       "19                                    Hank Greenberg   \n",
       "20                                        Hank Aaron   \n",
       "21                                         Babe Ruth   \n",
       "22         assassination of Archduke Franz Ferdinand   \n",
       "23                                      Franz-Joseph   \n",
       "24   Franz Joseph I of Austria and Empress Elisabeth   \n",
       "25                         Franz Joseph I of Austria   \n",
       "26                                      Franz Joseph   \n",
       "27                                   Franz Ferdinand   \n",
       "28                 Emperor Franz Joseph I of Austria   \n",
       "29                 Emperor Franz Joseph I of Austria   \n",
       "30                      Archduke Franz Ferdinand car   \n",
       "31                          Archduke Franz Ferdinand   \n",
       "65                                     Queen Latifah   \n",
       "66                                    Lil Kim Season   \n",
       "67                                         Lady Gaga   \n",
       "68                                     Jessy Terrero   \n",
       "69                                  Jessie J. Rankin   \n",
       "70                                          Jessie J   \n",
       "71                                              Gaga   \n",
       "72                                             Björk   \n",
       "73                 Beyoncé studio albums discography   \n",
       "74                                           Beyoncé   \n",
       "75                                 Ashley Washington   \n",
       "87                                         Timbaland   \n",
       "88                                        Thom Yorke   \n",
       "89                                    Paul McCartney   \n",
       "90                                       Mike Patton   \n",
       "91                                     Jimmy Buffett   \n",
       "92                                       James Blunt   \n",
       "93                                        Ed Sheeran   \n",
       "94                                           Dr. Dre   \n",
       "95                                     Dave Matthews   \n",
       "96                                        Dave Grohl   \n",
       "97                                         DJ Khaled   \n",
       "142                                    Nikolai Gogol   \n",
       "143                                      Leo Tolstoy   \n",
       "144                                    Ivan Turgenev   \n",
       "145                                   Ivan Goncharov   \n",
       "146                  Fyodor Dostoyevsky bibliography   \n",
       "147  Fyodor Dostoevsky: Insight, Faith, and Prophecy   \n",
       "148               Dostoyevsky House in Staraya Russa   \n",
       "\n",
       "      groundTruthAnswerEntity  true_y  prediction  label  \n",
       "11               Julio Franco     0.0           0    0.0  \n",
       "12               Julio Franco     0.0           0    0.0  \n",
       "13               Julio Franco     0.0           1    0.0  \n",
       "14               Julio Franco     0.0           0    0.0  \n",
       "15               Julio Franco     0.0           0    0.0  \n",
       "16               Julio Franco     0.0           0    0.0  \n",
       "17               Julio Franco     1.0           0    1.0  \n",
       "18               Julio Franco     0.0           0    0.0  \n",
       "19               Julio Franco     0.0           0    0.0  \n",
       "20               Julio Franco     0.0           0    0.0  \n",
       "21               Julio Franco     0.0           1    0.0  \n",
       "22   Archduke Franz Ferdinand     0.0           0    0.0  \n",
       "23   Archduke Franz Ferdinand     0.0           0    0.0  \n",
       "24   Archduke Franz Ferdinand     0.0           0    0.0  \n",
       "25   Archduke Franz Ferdinand     0.0           0    0.0  \n",
       "26   Archduke Franz Ferdinand     0.0           0    0.0  \n",
       "27   Archduke Franz Ferdinand     0.0           0    0.0  \n",
       "28   Archduke Franz Ferdinand     0.0           0    0.0  \n",
       "29   Archduke Franz Ferdinand     0.0           0    0.0  \n",
       "30   Archduke Franz Ferdinand     0.0           0    0.0  \n",
       "31   Archduke Franz Ferdinand     1.0           0    1.0  \n",
       "65                    Beyoncé     0.0           0    0.0  \n",
       "66                    Beyoncé     0.0           0    0.0  \n",
       "67                    Beyoncé     0.0           0    0.0  \n",
       "68                    Beyoncé     0.0           0    0.0  \n",
       "69                    Beyoncé     0.0           0    0.0  \n",
       "70                    Beyoncé     0.0           0    0.0  \n",
       "71                    Beyoncé     0.0           0    0.0  \n",
       "72                    Beyoncé     0.0           0    0.0  \n",
       "73                    Beyoncé     0.0           0    0.0  \n",
       "74                    Beyoncé     1.0           1    1.0  \n",
       "75                    Beyoncé     0.0           0    0.0  \n",
       "87                 Thom Yorke     0.0           0    0.0  \n",
       "88                 Thom Yorke     1.0           1    1.0  \n",
       "89                 Thom Yorke     0.0           0    0.0  \n",
       "90                 Thom Yorke     0.0           0    0.0  \n",
       "91                 Thom Yorke     0.0           0    0.0  \n",
       "92                 Thom Yorke     0.0           0    0.0  \n",
       "93                 Thom Yorke     0.0           0    0.0  \n",
       "94                 Thom Yorke     0.0           0    0.0  \n",
       "95                 Thom Yorke     0.0           0    0.0  \n",
       "96                 Thom Yorke     0.0           0    0.0  \n",
       "97                 Thom Yorke     0.0           0    0.0  \n",
       "142               Andrei Bely     0.0           0    0.0  \n",
       "143               Andrei Bely     0.0           0    0.0  \n",
       "144               Andrei Bely     0.0           0    0.0  \n",
       "145               Andrei Bely     0.0           0    0.0  \n",
       "146               Andrei Bely     0.0           0    0.0  \n",
       "147               Andrei Bely     0.0           0    0.0  \n",
       "148               Andrei Bely     0.0           0    0.0  "
      ]
     },
     "execution_count": 54,
     "metadata": {},
     "output_type": "execute_result"
    }
   ],
   "source": [
    "test_df[[\"question\", \"answerEntity\", \"groundTruthAnswerEntity\", \"true_y\", \"prediction\", \"label\"]].head(50)"
   ]
  },
  {
   "cell_type": "code",
   "execution_count": 55,
   "id": "6c96f758",
   "metadata": {
    "execution": {
     "iopub.execute_input": "2024-04-19T14:22:11.422840Z",
     "iopub.status.busy": "2024-04-19T14:22:11.422552Z",
     "iopub.status.idle": "2024-04-19T14:22:11.436483Z",
     "shell.execute_reply": "2024-04-19T14:22:11.435642Z"
    },
    "id": "LuN1ipIl3_lD",
    "papermill": {
     "duration": 0.053263,
     "end_time": "2024-04-19T14:22:11.438371",
     "exception": false,
     "start_time": "2024-04-19T14:22:11.385108",
     "status": "completed"
    },
    "tags": []
   },
   "outputs": [],
   "source": [
    "test_pred_path = \"test_pred_linearized_graph_baseline.tsv\"\n",
    "test_df[[\"sample_id\", \"prediction\"]].to_csv(test_pred_path, sep='\\t', index=False)"
   ]
  },
  {
   "cell_type": "code",
   "execution_count": null,
   "id": "1ce8584a",
   "metadata": {
    "id": "KIxxKUiLyUtE",
    "papermill": {
     "duration": 0.036519,
     "end_time": "2024-04-19T14:22:11.512836",
     "exception": false,
     "start_time": "2024-04-19T14:22:11.476317",
     "status": "completed"
    },
    "tags": []
   },
   "outputs": [],
   "source": []
  }
 ],
 "metadata": {
  "accelerator": "GPU",
  "colab": {
   "collapsed_sections": [
    "dxjDmdljd5D9"
   ],
   "gpuType": "T4",
   "provenance": []
  },
  "kaggle": {
   "accelerator": "gpu",
   "dataSources": [],
   "dockerImageVersionId": 30684,
   "isGpuEnabled": true,
   "isInternetEnabled": true,
   "language": "python",
   "sourceType": "notebook"
  },
  "kernelspec": {
   "display_name": "Python 3",
   "name": "python3"
  },
  "language_info": {
   "codemirror_mode": {
    "name": "ipython",
    "version": 3
   },
   "file_extension": ".py",
   "mimetype": "text/x-python",
   "name": "python",
   "nbconvert_exporter": "python",
   "pygments_lexer": "ipython3",
   "version": "3.10.13"
  },
  "papermill": {
   "default_parameters": {},
   "duration": 8015.124745,
   "end_time": "2024-04-19T14:22:14.188449",
   "environment_variables": {},
   "exception": null,
   "input_path": "__notebook__.ipynb",
   "output_path": "__notebook__.ipynb",
   "parameters": {},
   "start_time": "2024-04-19T12:08:39.063704",
   "version": "2.5.0"
  },
  "widgets": {
   "application/vnd.jupyter.widget-state+json": {
    "state": {
     "01fe971ca9a2431186b62b5f7979d0a2": {
      "model_module": "@jupyter-widgets/controls",
      "model_module_version": "1.5.0",
      "model_name": "HTMLModel",
      "state": {
       "_dom_classes": [],
       "_model_module": "@jupyter-widgets/controls",
       "_model_module_version": "1.5.0",
       "_model_name": "HTMLModel",
       "_view_count": null,
       "_view_module": "@jupyter-widgets/controls",
       "_view_module_version": "1.5.0",
       "_view_name": "HTMLView",
       "description": "",
       "description_tooltip": null,
       "layout": "IPY_MODEL_76cfad02792d41bb9e563b5b910ebb56",
       "placeholder": "​",
       "style": "IPY_MODEL_d01e08008ace47889e4bb0fa1f11852f",
       "value": "tokenizer_config.json: 100%"
      }
     },
     "036740548c00417e91fb109df9793b0a": {
      "model_module": "@jupyter-widgets/base",
      "model_module_version": "1.2.0",
      "model_name": "LayoutModel",
      "state": {
       "_model_module": "@jupyter-widgets/base",
       "_model_module_version": "1.2.0",
       "_model_name": "LayoutModel",
       "_view_count": null,
       "_view_module": "@jupyter-widgets/base",
       "_view_module_version": "1.2.0",
       "_view_name": "LayoutView",
       "align_content": null,
       "align_items": null,
       "align_self": null,
       "border": null,
       "bottom": null,
       "display": null,
       "flex": null,
       "flex_flow": null,
       "grid_area": null,
       "grid_auto_columns": null,
       "grid_auto_flow": null,
       "grid_auto_rows": null,
       "grid_column": null,
       "grid_gap": null,
       "grid_row": null,
       "grid_template_areas": null,
       "grid_template_columns": null,
       "grid_template_rows": null,
       "height": null,
       "justify_content": null,
       "justify_items": null,
       "left": null,
       "margin": null,
       "max_height": null,
       "max_width": null,
       "min_height": null,
       "min_width": null,
       "object_fit": null,
       "object_position": null,
       "order": null,
       "overflow": null,
       "overflow_x": null,
       "overflow_y": null,
       "padding": null,
       "right": null,
       "top": null,
       "visibility": null,
       "width": null
      }
     },
     "0f31893082314940960f10c3c7e77c82": {
      "model_module": "@jupyter-widgets/controls",
      "model_module_version": "1.5.0",
      "model_name": "HTMLModel",
      "state": {
       "_dom_classes": [],
       "_model_module": "@jupyter-widgets/controls",
       "_model_module_version": "1.5.0",
       "_model_name": "HTMLModel",
       "_view_count": null,
       "_view_module": "@jupyter-widgets/controls",
       "_view_module_version": "1.5.0",
       "_view_name": "HTMLView",
       "description": "",
       "description_tooltip": null,
       "layout": "IPY_MODEL_48095e611c554afc97bdeb0eab60a558",
       "placeholder": "​",
       "style": "IPY_MODEL_aee6a86b1a2d49f48d8060fd27d13b7a",
       "value": " 112/112 [00:00&lt;00:00, 7.53kB/s]"
      }
     },
     "107bdeadfef649819d1721858e7a12c6": {
      "model_module": "@jupyter-widgets/base",
      "model_module_version": "1.2.0",
      "model_name": "LayoutModel",
      "state": {
       "_model_module": "@jupyter-widgets/base",
       "_model_module_version": "1.2.0",
       "_model_name": "LayoutModel",
       "_view_count": null,
       "_view_module": "@jupyter-widgets/base",
       "_view_module_version": "1.2.0",
       "_view_name": "LayoutView",
       "align_content": null,
       "align_items": null,
       "align_self": null,
       "border": null,
       "bottom": null,
       "display": null,
       "flex": null,
       "flex_flow": null,
       "grid_area": null,
       "grid_auto_columns": null,
       "grid_auto_flow": null,
       "grid_auto_rows": null,
       "grid_column": null,
       "grid_gap": null,
       "grid_row": null,
       "grid_template_areas": null,
       "grid_template_columns": null,
       "grid_template_rows": null,
       "height": null,
       "justify_content": null,
       "justify_items": null,
       "left": null,
       "margin": null,
       "max_height": null,
       "max_width": null,
       "min_height": null,
       "min_width": null,
       "object_fit": null,
       "object_position": null,
       "order": null,
       "overflow": null,
       "overflow_x": null,
       "overflow_y": null,
       "padding": null,
       "right": null,
       "top": null,
       "visibility": null,
       "width": null
      }
     },
     "13e78633dfa14a5490b77e4932b8b5e6": {
      "model_module": "@jupyter-widgets/controls",
      "model_module_version": "1.5.0",
      "model_name": "HTMLModel",
      "state": {
       "_dom_classes": [],
       "_model_module": "@jupyter-widgets/controls",
       "_model_module_version": "1.5.0",
       "_model_name": "HTMLModel",
       "_view_count": null,
       "_view_module": "@jupyter-widgets/controls",
       "_view_module_version": "1.5.0",
       "_view_name": "HTMLView",
       "description": "",
       "description_tooltip": null,
       "layout": "IPY_MODEL_c91dfde8437a40d1b68b363c389281d7",
       "placeholder": "​",
       "style": "IPY_MODEL_8b31c4493209461eb00bc62d9413b541",
       "value": " 232k/232k [00:00&lt;00:00, 583kB/s]"
      }
     },
     "13fc94393c0c436eb64dea9ec68d2037": {
      "model_module": "@jupyter-widgets/base",
      "model_module_version": "1.2.0",
      "model_name": "LayoutModel",
      "state": {
       "_model_module": "@jupyter-widgets/base",
       "_model_module_version": "1.2.0",
       "_model_name": "LayoutModel",
       "_view_count": null,
       "_view_module": "@jupyter-widgets/base",
       "_view_module_version": "1.2.0",
       "_view_name": "LayoutView",
       "align_content": null,
       "align_items": null,
       "align_self": null,
       "border": null,
       "bottom": null,
       "display": null,
       "flex": null,
       "flex_flow": null,
       "grid_area": null,
       "grid_auto_columns": null,
       "grid_auto_flow": null,
       "grid_auto_rows": null,
       "grid_column": null,
       "grid_gap": null,
       "grid_row": null,
       "grid_template_areas": null,
       "grid_template_columns": null,
       "grid_template_rows": null,
       "height": null,
       "justify_content": null,
       "justify_items": null,
       "left": null,
       "margin": null,
       "max_height": null,
       "max_width": null,
       "min_height": null,
       "min_width": null,
       "object_fit": null,
       "object_position": null,
       "order": null,
       "overflow": null,
       "overflow_x": null,
       "overflow_y": null,
       "padding": null,
       "right": null,
       "top": null,
       "visibility": null,
       "width": null
      }
     },
     "1712d14eba5946fdba9956a25b95ecb2": {
      "model_module": "@jupyter-widgets/controls",
      "model_module_version": "1.5.0",
      "model_name": "ProgressStyleModel",
      "state": {
       "_model_module": "@jupyter-widgets/controls",
       "_model_module_version": "1.5.0",
       "_model_name": "ProgressStyleModel",
       "_view_count": null,
       "_view_module": "@jupyter-widgets/base",
       "_view_module_version": "1.2.0",
       "_view_name": "StyleView",
       "bar_color": null,
       "description_width": ""
      }
     },
     "1c15c36ff50947708984d84bacf8e783": {
      "model_module": "@jupyter-widgets/controls",
      "model_module_version": "1.5.0",
      "model_name": "HTMLModel",
      "state": {
       "_dom_classes": [],
       "_model_module": "@jupyter-widgets/controls",
       "_model_module_version": "1.5.0",
       "_model_name": "HTMLModel",
       "_view_count": null,
       "_view_module": "@jupyter-widgets/controls",
       "_view_module_version": "1.5.0",
       "_view_name": "HTMLView",
       "description": "",
       "description_tooltip": null,
       "layout": "IPY_MODEL_e6f4b82b3d9e49219f69976a5076db66",
       "placeholder": "​",
       "style": "IPY_MODEL_797b14a8deb54fffa8be0e2b7fa729b0",
       "value": " 466k/466k [00:00&lt;00:00, 784kB/s]"
      }
     },
     "1dbf9214d8e142f2928832e648182b77": {
      "model_module": "@jupyter-widgets/base",
      "model_module_version": "1.2.0",
      "model_name": "LayoutModel",
      "state": {
       "_model_module": "@jupyter-widgets/base",
       "_model_module_version": "1.2.0",
       "_model_name": "LayoutModel",
       "_view_count": null,
       "_view_module": "@jupyter-widgets/base",
       "_view_module_version": "1.2.0",
       "_view_name": "LayoutView",
       "align_content": null,
       "align_items": null,
       "align_self": null,
       "border": null,
       "bottom": null,
       "display": null,
       "flex": null,
       "flex_flow": null,
       "grid_area": null,
       "grid_auto_columns": null,
       "grid_auto_flow": null,
       "grid_auto_rows": null,
       "grid_column": null,
       "grid_gap": null,
       "grid_row": null,
       "grid_template_areas": null,
       "grid_template_columns": null,
       "grid_template_rows": null,
       "height": null,
       "justify_content": null,
       "justify_items": null,
       "left": null,
       "margin": null,
       "max_height": null,
       "max_width": null,
       "min_height": null,
       "min_width": null,
       "object_fit": null,
       "object_position": null,
       "order": null,
       "overflow": null,
       "overflow_x": null,
       "overflow_y": null,
       "padding": null,
       "right": null,
       "top": null,
       "visibility": null,
       "width": null
      }
     },
     "1f51793951084fbf85bfcd614a0739bb": {
      "model_module": "@jupyter-widgets/controls",
      "model_module_version": "1.5.0",
      "model_name": "HBoxModel",
      "state": {
       "_dom_classes": [],
       "_model_module": "@jupyter-widgets/controls",
       "_model_module_version": "1.5.0",
       "_model_name": "HBoxModel",
       "_view_count": null,
       "_view_module": "@jupyter-widgets/controls",
       "_view_module_version": "1.5.0",
       "_view_name": "HBoxView",
       "box_style": "",
       "children": [
        "IPY_MODEL_01fe971ca9a2431186b62b5f7979d0a2",
        "IPY_MODEL_6c440c635d2a44828237171dc68d9c6e",
        "IPY_MODEL_4b418e6f6d6444779ae416445fc86ee9"
       ],
       "layout": "IPY_MODEL_f3d0c407bdea4655b6a9f24aed007f38"
      }
     },
     "252c9ccdc28c4aa9abe06a8d67ba4541": {
      "model_module": "@jupyter-widgets/base",
      "model_module_version": "1.2.0",
      "model_name": "LayoutModel",
      "state": {
       "_model_module": "@jupyter-widgets/base",
       "_model_module_version": "1.2.0",
       "_model_name": "LayoutModel",
       "_view_count": null,
       "_view_module": "@jupyter-widgets/base",
       "_view_module_version": "1.2.0",
       "_view_name": "LayoutView",
       "align_content": null,
       "align_items": null,
       "align_self": null,
       "border": null,
       "bottom": null,
       "display": null,
       "flex": null,
       "flex_flow": null,
       "grid_area": null,
       "grid_auto_columns": null,
       "grid_auto_flow": null,
       "grid_auto_rows": null,
       "grid_column": null,
       "grid_gap": null,
       "grid_row": null,
       "grid_template_areas": null,
       "grid_template_columns": null,
       "grid_template_rows": null,
       "height": null,
       "justify_content": null,
       "justify_items": null,
       "left": null,
       "margin": null,
       "max_height": null,
       "max_width": null,
       "min_height": null,
       "min_width": null,
       "object_fit": null,
       "object_position": null,
       "order": null,
       "overflow": null,
       "overflow_x": null,
       "overflow_y": null,
       "padding": null,
       "right": null,
       "top": null,
       "visibility": null,
       "width": null
      }
     },
     "25d214b72d4c4f1a93269cb3b7ae9da0": {
      "model_module": "@jupyter-widgets/base",
      "model_module_version": "1.2.0",
      "model_name": "LayoutModel",
      "state": {
       "_model_module": "@jupyter-widgets/base",
       "_model_module_version": "1.2.0",
       "_model_name": "LayoutModel",
       "_view_count": null,
       "_view_module": "@jupyter-widgets/base",
       "_view_module_version": "1.2.0",
       "_view_name": "LayoutView",
       "align_content": null,
       "align_items": null,
       "align_self": null,
       "border": null,
       "bottom": null,
       "display": null,
       "flex": null,
       "flex_flow": null,
       "grid_area": null,
       "grid_auto_columns": null,
       "grid_auto_flow": null,
       "grid_auto_rows": null,
       "grid_column": null,
       "grid_gap": null,
       "grid_row": null,
       "grid_template_areas": null,
       "grid_template_columns": null,
       "grid_template_rows": null,
       "height": null,
       "justify_content": null,
       "justify_items": null,
       "left": null,
       "margin": null,
       "max_height": null,
       "max_width": null,
       "min_height": null,
       "min_width": null,
       "object_fit": null,
       "object_position": null,
       "order": null,
       "overflow": null,
       "overflow_x": null,
       "overflow_y": null,
       "padding": null,
       "right": null,
       "top": null,
       "visibility": null,
       "width": null
      }
     },
     "291fd502def546ab950fc2c40e9a4f2e": {
      "model_module": "@jupyter-widgets/base",
      "model_module_version": "1.2.0",
      "model_name": "LayoutModel",
      "state": {
       "_model_module": "@jupyter-widgets/base",
       "_model_module_version": "1.2.0",
       "_model_name": "LayoutModel",
       "_view_count": null,
       "_view_module": "@jupyter-widgets/base",
       "_view_module_version": "1.2.0",
       "_view_name": "LayoutView",
       "align_content": null,
       "align_items": null,
       "align_self": null,
       "border": null,
       "bottom": null,
       "display": null,
       "flex": null,
       "flex_flow": null,
       "grid_area": null,
       "grid_auto_columns": null,
       "grid_auto_flow": null,
       "grid_auto_rows": null,
       "grid_column": null,
       "grid_gap": null,
       "grid_row": null,
       "grid_template_areas": null,
       "grid_template_columns": null,
       "grid_template_rows": null,
       "height": null,
       "justify_content": null,
       "justify_items": null,
       "left": null,
       "margin": null,
       "max_height": null,
       "max_width": null,
       "min_height": null,
       "min_width": null,
       "object_fit": null,
       "object_position": null,
       "order": null,
       "overflow": null,
       "overflow_x": null,
       "overflow_y": null,
       "padding": null,
       "right": null,
       "top": null,
       "visibility": null,
       "width": null
      }
     },
     "3309399d66fd44d596eb4599e67a72f0": {
      "model_module": "@jupyter-widgets/controls",
      "model_module_version": "1.5.0",
      "model_name": "ProgressStyleModel",
      "state": {
       "_model_module": "@jupyter-widgets/controls",
       "_model_module_version": "1.5.0",
       "_model_name": "ProgressStyleModel",
       "_view_count": null,
       "_view_module": "@jupyter-widgets/base",
       "_view_module_version": "1.2.0",
       "_view_name": "StyleView",
       "bar_color": null,
       "description_width": ""
      }
     },
     "3f2ac64b1bdb4ceda18226718d87f515": {
      "model_module": "@jupyter-widgets/controls",
      "model_module_version": "1.5.0",
      "model_name": "FloatProgressModel",
      "state": {
       "_dom_classes": [],
       "_model_module": "@jupyter-widgets/controls",
       "_model_module_version": "1.5.0",
       "_model_name": "FloatProgressModel",
       "_view_count": null,
       "_view_module": "@jupyter-widgets/controls",
       "_view_module_version": "1.5.0",
       "_view_name": "ProgressView",
       "bar_style": "success",
       "description": "",
       "description_tooltip": null,
       "layout": "IPY_MODEL_ec0b9cbc1aa048d0b08a0de67d5cd6c1",
       "max": 231508.0,
       "min": 0.0,
       "orientation": "horizontal",
       "style": "IPY_MODEL_49e0d1aa37134e9e8194fca8d78a6117",
       "value": 231508.0
      }
     },
     "3ff72a7f20f94a38830d291f64b63a29": {
      "model_module": "@jupyter-widgets/base",
      "model_module_version": "1.2.0",
      "model_name": "LayoutModel",
      "state": {
       "_model_module": "@jupyter-widgets/base",
       "_model_module_version": "1.2.0",
       "_model_name": "LayoutModel",
       "_view_count": null,
       "_view_module": "@jupyter-widgets/base",
       "_view_module_version": "1.2.0",
       "_view_name": "LayoutView",
       "align_content": null,
       "align_items": null,
       "align_self": null,
       "border": null,
       "bottom": null,
       "display": null,
       "flex": null,
       "flex_flow": null,
       "grid_area": null,
       "grid_auto_columns": null,
       "grid_auto_flow": null,
       "grid_auto_rows": null,
       "grid_column": null,
       "grid_gap": null,
       "grid_row": null,
       "grid_template_areas": null,
       "grid_template_columns": null,
       "grid_template_rows": null,
       "height": null,
       "justify_content": null,
       "justify_items": null,
       "left": null,
       "margin": null,
       "max_height": null,
       "max_width": null,
       "min_height": null,
       "min_width": null,
       "object_fit": null,
       "object_position": null,
       "order": null,
       "overflow": null,
       "overflow_x": null,
       "overflow_y": null,
       "padding": null,
       "right": null,
       "top": null,
       "visibility": null,
       "width": null
      }
     },
     "40314eb01b734302aa1d10b5ba406f50": {
      "model_module": "@jupyter-widgets/controls",
      "model_module_version": "1.5.0",
      "model_name": "HBoxModel",
      "state": {
       "_dom_classes": [],
       "_model_module": "@jupyter-widgets/controls",
       "_model_module_version": "1.5.0",
       "_model_name": "HBoxModel",
       "_view_count": null,
       "_view_module": "@jupyter-widgets/controls",
       "_view_module_version": "1.5.0",
       "_view_name": "HBoxView",
       "box_style": "",
       "children": [
        "IPY_MODEL_f13d8c03d658420685ea38a5302a25a0",
        "IPY_MODEL_58e1d4f09820406d920377843d431966",
        "IPY_MODEL_1c15c36ff50947708984d84bacf8e783"
       ],
       "layout": "IPY_MODEL_8826a80a3c594e68a255feb202a01f64"
      }
     },
     "46df9ae4716b4c41829fe48b67261f19": {
      "model_module": "@jupyter-widgets/controls",
      "model_module_version": "1.5.0",
      "model_name": "DescriptionStyleModel",
      "state": {
       "_model_module": "@jupyter-widgets/controls",
       "_model_module_version": "1.5.0",
       "_model_name": "DescriptionStyleModel",
       "_view_count": null,
       "_view_module": "@jupyter-widgets/base",
       "_view_module_version": "1.2.0",
       "_view_name": "StyleView",
       "description_width": ""
      }
     },
     "48095e611c554afc97bdeb0eab60a558": {
      "model_module": "@jupyter-widgets/base",
      "model_module_version": "1.2.0",
      "model_name": "LayoutModel",
      "state": {
       "_model_module": "@jupyter-widgets/base",
       "_model_module_version": "1.2.0",
       "_model_name": "LayoutModel",
       "_view_count": null,
       "_view_module": "@jupyter-widgets/base",
       "_view_module_version": "1.2.0",
       "_view_name": "LayoutView",
       "align_content": null,
       "align_items": null,
       "align_self": null,
       "border": null,
       "bottom": null,
       "display": null,
       "flex": null,
       "flex_flow": null,
       "grid_area": null,
       "grid_auto_columns": null,
       "grid_auto_flow": null,
       "grid_auto_rows": null,
       "grid_column": null,
       "grid_gap": null,
       "grid_row": null,
       "grid_template_areas": null,
       "grid_template_columns": null,
       "grid_template_rows": null,
       "height": null,
       "justify_content": null,
       "justify_items": null,
       "left": null,
       "margin": null,
       "max_height": null,
       "max_width": null,
       "min_height": null,
       "min_width": null,
       "object_fit": null,
       "object_position": null,
       "order": null,
       "overflow": null,
       "overflow_x": null,
       "overflow_y": null,
       "padding": null,
       "right": null,
       "top": null,
       "visibility": null,
       "width": null
      }
     },
     "49e0d1aa37134e9e8194fca8d78a6117": {
      "model_module": "@jupyter-widgets/controls",
      "model_module_version": "1.5.0",
      "model_name": "ProgressStyleModel",
      "state": {
       "_model_module": "@jupyter-widgets/controls",
       "_model_module_version": "1.5.0",
       "_model_name": "ProgressStyleModel",
       "_view_count": null,
       "_view_module": "@jupyter-widgets/base",
       "_view_module_version": "1.2.0",
       "_view_name": "StyleView",
       "bar_color": null,
       "description_width": ""
      }
     },
     "4b418e6f6d6444779ae416445fc86ee9": {
      "model_module": "@jupyter-widgets/controls",
      "model_module_version": "1.5.0",
      "model_name": "HTMLModel",
      "state": {
       "_dom_classes": [],
       "_model_module": "@jupyter-widgets/controls",
       "_model_module_version": "1.5.0",
       "_model_name": "HTMLModel",
       "_view_count": null,
       "_view_module": "@jupyter-widgets/controls",
       "_view_module_version": "1.5.0",
       "_view_name": "HTMLView",
       "description": "",
       "description_tooltip": null,
       "layout": "IPY_MODEL_e02292a05a4f4bb0a273394ac28ab23f",
       "placeholder": "​",
       "style": "IPY_MODEL_aa54d89b371d4cf4896f718966e6c41e",
       "value": " 352/352 [00:00&lt;00:00, 27.0kB/s]"
      }
     },
     "4eab5e1ebefb46a189dc6b267789799a": {
      "model_module": "@jupyter-widgets/controls",
      "model_module_version": "1.5.0",
      "model_name": "DescriptionStyleModel",
      "state": {
       "_model_module": "@jupyter-widgets/controls",
       "_model_module_version": "1.5.0",
       "_model_name": "DescriptionStyleModel",
       "_view_count": null,
       "_view_module": "@jupyter-widgets/base",
       "_view_module_version": "1.2.0",
       "_view_name": "StyleView",
       "description_width": ""
      }
     },
     "552b2d457b854efaa4126ada61b11f6e": {
      "model_module": "@jupyter-widgets/controls",
      "model_module_version": "1.5.0",
      "model_name": "HBoxModel",
      "state": {
       "_dom_classes": [],
       "_model_module": "@jupyter-widgets/controls",
       "_model_module_version": "1.5.0",
       "_model_name": "HBoxModel",
       "_view_count": null,
       "_view_module": "@jupyter-widgets/controls",
       "_view_module_version": "1.5.0",
       "_view_name": "HBoxView",
       "box_style": "",
       "children": [
        "IPY_MODEL_68425871449f4c7c8f6aae88ee339ba4",
        "IPY_MODEL_78b446d1183949dfa95f036f44c9e7b6",
        "IPY_MODEL_77ca1d0eea444b8cae359751f7144c28"
       ],
       "layout": "IPY_MODEL_107bdeadfef649819d1721858e7a12c6"
      }
     },
     "58e1d4f09820406d920377843d431966": {
      "model_module": "@jupyter-widgets/controls",
      "model_module_version": "1.5.0",
      "model_name": "FloatProgressModel",
      "state": {
       "_dom_classes": [],
       "_model_module": "@jupyter-widgets/controls",
       "_model_module_version": "1.5.0",
       "_model_name": "FloatProgressModel",
       "_view_count": null,
       "_view_module": "@jupyter-widgets/controls",
       "_view_module_version": "1.5.0",
       "_view_name": "ProgressView",
       "bar_style": "success",
       "description": "",
       "description_tooltip": null,
       "layout": "IPY_MODEL_ff49841ce6a444878cacf557d2c44b45",
       "max": 466247.0,
       "min": 0.0,
       "orientation": "horizontal",
       "style": "IPY_MODEL_74d032a4c1534b5daf8b2131a5ea3302",
       "value": 466247.0
      }
     },
     "68425871449f4c7c8f6aae88ee339ba4": {
      "model_module": "@jupyter-widgets/controls",
      "model_module_version": "1.5.0",
      "model_name": "HTMLModel",
      "state": {
       "_dom_classes": [],
       "_model_module": "@jupyter-widgets/controls",
       "_model_module_version": "1.5.0",
       "_model_name": "HTMLModel",
       "_view_count": null,
       "_view_module": "@jupyter-widgets/controls",
       "_view_module_version": "1.5.0",
       "_view_name": "HTMLView",
       "description": "",
       "description_tooltip": null,
       "layout": "IPY_MODEL_85b19b236fe44074ba44e8d2bef7d771",
       "placeholder": "​",
       "style": "IPY_MODEL_7d8f27ec31394e75ade579923fe0823c",
       "value": "model.safetensors: 100%"
      }
     },
     "687125fc9bcc434d8cb9997daed5bcd9": {
      "model_module": "@jupyter-widgets/controls",
      "model_module_version": "1.5.0",
      "model_name": "HTMLModel",
      "state": {
       "_dom_classes": [],
       "_model_module": "@jupyter-widgets/controls",
       "_model_module_version": "1.5.0",
       "_model_name": "HTMLModel",
       "_view_count": null,
       "_view_module": "@jupyter-widgets/controls",
       "_view_module_version": "1.5.0",
       "_view_name": "HTMLView",
       "description": "",
       "description_tooltip": null,
       "layout": "IPY_MODEL_7e8c8a6d6e0e46918ee40ab3881ef654",
       "placeholder": "​",
       "style": "IPY_MODEL_4eab5e1ebefb46a189dc6b267789799a",
       "value": "config.json: 100%"
      }
     },
     "6c440c635d2a44828237171dc68d9c6e": {
      "model_module": "@jupyter-widgets/controls",
      "model_module_version": "1.5.0",
      "model_name": "FloatProgressModel",
      "state": {
       "_dom_classes": [],
       "_model_module": "@jupyter-widgets/controls",
       "_model_module_version": "1.5.0",
       "_model_name": "FloatProgressModel",
       "_view_count": null,
       "_view_module": "@jupyter-widgets/controls",
       "_view_module_version": "1.5.0",
       "_view_name": "ProgressView",
       "bar_style": "success",
       "description": "",
       "description_tooltip": null,
       "layout": "IPY_MODEL_6d1a36f70c6b420b9b5a91c398faf619",
       "max": 352.0,
       "min": 0.0,
       "orientation": "horizontal",
       "style": "IPY_MODEL_8683c6c0467b45e3901b78e79343d496",
       "value": 352.0
      }
     },
     "6d1a36f70c6b420b9b5a91c398faf619": {
      "model_module": "@jupyter-widgets/base",
      "model_module_version": "1.2.0",
      "model_name": "LayoutModel",
      "state": {
       "_model_module": "@jupyter-widgets/base",
       "_model_module_version": "1.2.0",
       "_model_name": "LayoutModel",
       "_view_count": null,
       "_view_module": "@jupyter-widgets/base",
       "_view_module_version": "1.2.0",
       "_view_name": "LayoutView",
       "align_content": null,
       "align_items": null,
       "align_self": null,
       "border": null,
       "bottom": null,
       "display": null,
       "flex": null,
       "flex_flow": null,
       "grid_area": null,
       "grid_auto_columns": null,
       "grid_auto_flow": null,
       "grid_auto_rows": null,
       "grid_column": null,
       "grid_gap": null,
       "grid_row": null,
       "grid_template_areas": null,
       "grid_template_columns": null,
       "grid_template_rows": null,
       "height": null,
       "justify_content": null,
       "justify_items": null,
       "left": null,
       "margin": null,
       "max_height": null,
       "max_width": null,
       "min_height": null,
       "min_width": null,
       "object_fit": null,
       "object_position": null,
       "order": null,
       "overflow": null,
       "overflow_x": null,
       "overflow_y": null,
       "padding": null,
       "right": null,
       "top": null,
       "visibility": null,
       "width": null
      }
     },
     "6f58a928344c4b4fad09c02cdd64fed1": {
      "model_module": "@jupyter-widgets/controls",
      "model_module_version": "1.5.0",
      "model_name": "DescriptionStyleModel",
      "state": {
       "_model_module": "@jupyter-widgets/controls",
       "_model_module_version": "1.5.0",
       "_model_name": "DescriptionStyleModel",
       "_view_count": null,
       "_view_module": "@jupyter-widgets/base",
       "_view_module_version": "1.2.0",
       "_view_name": "StyleView",
       "description_width": ""
      }
     },
     "72fcc8ce56b84dcc9eeaebb8ac86ccbf": {
      "model_module": "@jupyter-widgets/base",
      "model_module_version": "1.2.0",
      "model_name": "LayoutModel",
      "state": {
       "_model_module": "@jupyter-widgets/base",
       "_model_module_version": "1.2.0",
       "_model_name": "LayoutModel",
       "_view_count": null,
       "_view_module": "@jupyter-widgets/base",
       "_view_module_version": "1.2.0",
       "_view_name": "LayoutView",
       "align_content": null,
       "align_items": null,
       "align_self": null,
       "border": null,
       "bottom": null,
       "display": null,
       "flex": null,
       "flex_flow": null,
       "grid_area": null,
       "grid_auto_columns": null,
       "grid_auto_flow": null,
       "grid_auto_rows": null,
       "grid_column": null,
       "grid_gap": null,
       "grid_row": null,
       "grid_template_areas": null,
       "grid_template_columns": null,
       "grid_template_rows": null,
       "height": null,
       "justify_content": null,
       "justify_items": null,
       "left": null,
       "margin": null,
       "max_height": null,
       "max_width": null,
       "min_height": null,
       "min_width": null,
       "object_fit": null,
       "object_position": null,
       "order": null,
       "overflow": null,
       "overflow_x": null,
       "overflow_y": null,
       "padding": null,
       "right": null,
       "top": null,
       "visibility": null,
       "width": null
      }
     },
     "74d032a4c1534b5daf8b2131a5ea3302": {
      "model_module": "@jupyter-widgets/controls",
      "model_module_version": "1.5.0",
      "model_name": "ProgressStyleModel",
      "state": {
       "_model_module": "@jupyter-widgets/controls",
       "_model_module_version": "1.5.0",
       "_model_name": "ProgressStyleModel",
       "_view_count": null,
       "_view_module": "@jupyter-widgets/base",
       "_view_module_version": "1.2.0",
       "_view_name": "StyleView",
       "bar_color": null,
       "description_width": ""
      }
     },
     "76b7025e1a504bb99279df94d99fc059": {
      "model_module": "@jupyter-widgets/controls",
      "model_module_version": "1.5.0",
      "model_name": "ProgressStyleModel",
      "state": {
       "_model_module": "@jupyter-widgets/controls",
       "_model_module_version": "1.5.0",
       "_model_name": "ProgressStyleModel",
       "_view_count": null,
       "_view_module": "@jupyter-widgets/base",
       "_view_module_version": "1.2.0",
       "_view_name": "StyleView",
       "bar_color": null,
       "description_width": ""
      }
     },
     "76cfad02792d41bb9e563b5b910ebb56": {
      "model_module": "@jupyter-widgets/base",
      "model_module_version": "1.2.0",
      "model_name": "LayoutModel",
      "state": {
       "_model_module": "@jupyter-widgets/base",
       "_model_module_version": "1.2.0",
       "_model_name": "LayoutModel",
       "_view_count": null,
       "_view_module": "@jupyter-widgets/base",
       "_view_module_version": "1.2.0",
       "_view_name": "LayoutView",
       "align_content": null,
       "align_items": null,
       "align_self": null,
       "border": null,
       "bottom": null,
       "display": null,
       "flex": null,
       "flex_flow": null,
       "grid_area": null,
       "grid_auto_columns": null,
       "grid_auto_flow": null,
       "grid_auto_rows": null,
       "grid_column": null,
       "grid_gap": null,
       "grid_row": null,
       "grid_template_areas": null,
       "grid_template_columns": null,
       "grid_template_rows": null,
       "height": null,
       "justify_content": null,
       "justify_items": null,
       "left": null,
       "margin": null,
       "max_height": null,
       "max_width": null,
       "min_height": null,
       "min_width": null,
       "object_fit": null,
       "object_position": null,
       "order": null,
       "overflow": null,
       "overflow_x": null,
       "overflow_y": null,
       "padding": null,
       "right": null,
       "top": null,
       "visibility": null,
       "width": null
      }
     },
     "771fdb1b53e946fb944eeab0166e04c2": {
      "model_module": "@jupyter-widgets/base",
      "model_module_version": "1.2.0",
      "model_name": "LayoutModel",
      "state": {
       "_model_module": "@jupyter-widgets/base",
       "_model_module_version": "1.2.0",
       "_model_name": "LayoutModel",
       "_view_count": null,
       "_view_module": "@jupyter-widgets/base",
       "_view_module_version": "1.2.0",
       "_view_name": "LayoutView",
       "align_content": null,
       "align_items": null,
       "align_self": null,
       "border": null,
       "bottom": null,
       "display": null,
       "flex": null,
       "flex_flow": null,
       "grid_area": null,
       "grid_auto_columns": null,
       "grid_auto_flow": null,
       "grid_auto_rows": null,
       "grid_column": null,
       "grid_gap": null,
       "grid_row": null,
       "grid_template_areas": null,
       "grid_template_columns": null,
       "grid_template_rows": null,
       "height": null,
       "justify_content": null,
       "justify_items": null,
       "left": null,
       "margin": null,
       "max_height": null,
       "max_width": null,
       "min_height": null,
       "min_width": null,
       "object_fit": null,
       "object_position": null,
       "order": null,
       "overflow": null,
       "overflow_x": null,
       "overflow_y": null,
       "padding": null,
       "right": null,
       "top": null,
       "visibility": null,
       "width": null
      }
     },
     "77ca1d0eea444b8cae359751f7144c28": {
      "model_module": "@jupyter-widgets/controls",
      "model_module_version": "1.5.0",
      "model_name": "HTMLModel",
      "state": {
       "_dom_classes": [],
       "_model_module": "@jupyter-widgets/controls",
       "_model_module_version": "1.5.0",
       "_model_name": "HTMLModel",
       "_view_count": null,
       "_view_module": "@jupyter-widgets/controls",
       "_view_module_version": "1.5.0",
       "_view_name": "HTMLView",
       "description": "",
       "description_tooltip": null,
       "layout": "IPY_MODEL_13fc94393c0c436eb64dea9ec68d2037",
       "placeholder": "​",
       "style": "IPY_MODEL_46df9ae4716b4c41829fe48b67261f19",
       "value": " 133M/133M [00:02&lt;00:00, 65.1MB/s]"
      }
     },
     "78b446d1183949dfa95f036f44c9e7b6": {
      "model_module": "@jupyter-widgets/controls",
      "model_module_version": "1.5.0",
      "model_name": "FloatProgressModel",
      "state": {
       "_dom_classes": [],
       "_model_module": "@jupyter-widgets/controls",
       "_model_module_version": "1.5.0",
       "_model_name": "FloatProgressModel",
       "_view_count": null,
       "_view_module": "@jupyter-widgets/controls",
       "_view_module_version": "1.5.0",
       "_view_name": "ProgressView",
       "bar_style": "success",
       "description": "",
       "description_tooltip": null,
       "layout": "IPY_MODEL_1dbf9214d8e142f2928832e648182b77",
       "max": 133466304.0,
       "min": 0.0,
       "orientation": "horizontal",
       "style": "IPY_MODEL_3309399d66fd44d596eb4599e67a72f0",
       "value": 133466304.0
      }
     },
     "797b14a8deb54fffa8be0e2b7fa729b0": {
      "model_module": "@jupyter-widgets/controls",
      "model_module_version": "1.5.0",
      "model_name": "DescriptionStyleModel",
      "state": {
       "_model_module": "@jupyter-widgets/controls",
       "_model_module_version": "1.5.0",
       "_model_name": "DescriptionStyleModel",
       "_view_count": null,
       "_view_module": "@jupyter-widgets/base",
       "_view_module_version": "1.2.0",
       "_view_name": "StyleView",
       "description_width": ""
      }
     },
     "7d8f27ec31394e75ade579923fe0823c": {
      "model_module": "@jupyter-widgets/controls",
      "model_module_version": "1.5.0",
      "model_name": "DescriptionStyleModel",
      "state": {
       "_model_module": "@jupyter-widgets/controls",
       "_model_module_version": "1.5.0",
       "_model_name": "DescriptionStyleModel",
       "_view_count": null,
       "_view_module": "@jupyter-widgets/base",
       "_view_module_version": "1.2.0",
       "_view_name": "StyleView",
       "description_width": ""
      }
     },
     "7e8c8a6d6e0e46918ee40ab3881ef654": {
      "model_module": "@jupyter-widgets/base",
      "model_module_version": "1.2.0",
      "model_name": "LayoutModel",
      "state": {
       "_model_module": "@jupyter-widgets/base",
       "_model_module_version": "1.2.0",
       "_model_name": "LayoutModel",
       "_view_count": null,
       "_view_module": "@jupyter-widgets/base",
       "_view_module_version": "1.2.0",
       "_view_name": "LayoutView",
       "align_content": null,
       "align_items": null,
       "align_self": null,
       "border": null,
       "bottom": null,
       "display": null,
       "flex": null,
       "flex_flow": null,
       "grid_area": null,
       "grid_auto_columns": null,
       "grid_auto_flow": null,
       "grid_auto_rows": null,
       "grid_column": null,
       "grid_gap": null,
       "grid_row": null,
       "grid_template_areas": null,
       "grid_template_columns": null,
       "grid_template_rows": null,
       "height": null,
       "justify_content": null,
       "justify_items": null,
       "left": null,
       "margin": null,
       "max_height": null,
       "max_width": null,
       "min_height": null,
       "min_width": null,
       "object_fit": null,
       "object_position": null,
       "order": null,
       "overflow": null,
       "overflow_x": null,
       "overflow_y": null,
       "padding": null,
       "right": null,
       "top": null,
       "visibility": null,
       "width": null
      }
     },
     "85b19b236fe44074ba44e8d2bef7d771": {
      "model_module": "@jupyter-widgets/base",
      "model_module_version": "1.2.0",
      "model_name": "LayoutModel",
      "state": {
       "_model_module": "@jupyter-widgets/base",
       "_model_module_version": "1.2.0",
       "_model_name": "LayoutModel",
       "_view_count": null,
       "_view_module": "@jupyter-widgets/base",
       "_view_module_version": "1.2.0",
       "_view_name": "LayoutView",
       "align_content": null,
       "align_items": null,
       "align_self": null,
       "border": null,
       "bottom": null,
       "display": null,
       "flex": null,
       "flex_flow": null,
       "grid_area": null,
       "grid_auto_columns": null,
       "grid_auto_flow": null,
       "grid_auto_rows": null,
       "grid_column": null,
       "grid_gap": null,
       "grid_row": null,
       "grid_template_areas": null,
       "grid_template_columns": null,
       "grid_template_rows": null,
       "height": null,
       "justify_content": null,
       "justify_items": null,
       "left": null,
       "margin": null,
       "max_height": null,
       "max_width": null,
       "min_height": null,
       "min_width": null,
       "object_fit": null,
       "object_position": null,
       "order": null,
       "overflow": null,
       "overflow_x": null,
       "overflow_y": null,
       "padding": null,
       "right": null,
       "top": null,
       "visibility": null,
       "width": null
      }
     },
     "8683c6c0467b45e3901b78e79343d496": {
      "model_module": "@jupyter-widgets/controls",
      "model_module_version": "1.5.0",
      "model_name": "ProgressStyleModel",
      "state": {
       "_model_module": "@jupyter-widgets/controls",
       "_model_module_version": "1.5.0",
       "_model_name": "ProgressStyleModel",
       "_view_count": null,
       "_view_module": "@jupyter-widgets/base",
       "_view_module_version": "1.2.0",
       "_view_name": "StyleView",
       "bar_color": null,
       "description_width": ""
      }
     },
     "86af483fd13740518aac35542d6b30ed": {
      "model_module": "@jupyter-widgets/base",
      "model_module_version": "1.2.0",
      "model_name": "LayoutModel",
      "state": {
       "_model_module": "@jupyter-widgets/base",
       "_model_module_version": "1.2.0",
       "_model_name": "LayoutModel",
       "_view_count": null,
       "_view_module": "@jupyter-widgets/base",
       "_view_module_version": "1.2.0",
       "_view_name": "LayoutView",
       "align_content": null,
       "align_items": null,
       "align_self": null,
       "border": null,
       "bottom": null,
       "display": null,
       "flex": null,
       "flex_flow": null,
       "grid_area": null,
       "grid_auto_columns": null,
       "grid_auto_flow": null,
       "grid_auto_rows": null,
       "grid_column": null,
       "grid_gap": null,
       "grid_row": null,
       "grid_template_areas": null,
       "grid_template_columns": null,
       "grid_template_rows": null,
       "height": null,
       "justify_content": null,
       "justify_items": null,
       "left": null,
       "margin": null,
       "max_height": null,
       "max_width": null,
       "min_height": null,
       "min_width": null,
       "object_fit": null,
       "object_position": null,
       "order": null,
       "overflow": null,
       "overflow_x": null,
       "overflow_y": null,
       "padding": null,
       "right": null,
       "top": null,
       "visibility": null,
       "width": null
      }
     },
     "8826a80a3c594e68a255feb202a01f64": {
      "model_module": "@jupyter-widgets/base",
      "model_module_version": "1.2.0",
      "model_name": "LayoutModel",
      "state": {
       "_model_module": "@jupyter-widgets/base",
       "_model_module_version": "1.2.0",
       "_model_name": "LayoutModel",
       "_view_count": null,
       "_view_module": "@jupyter-widgets/base",
       "_view_module_version": "1.2.0",
       "_view_name": "LayoutView",
       "align_content": null,
       "align_items": null,
       "align_self": null,
       "border": null,
       "bottom": null,
       "display": null,
       "flex": null,
       "flex_flow": null,
       "grid_area": null,
       "grid_auto_columns": null,
       "grid_auto_flow": null,
       "grid_auto_rows": null,
       "grid_column": null,
       "grid_gap": null,
       "grid_row": null,
       "grid_template_areas": null,
       "grid_template_columns": null,
       "grid_template_rows": null,
       "height": null,
       "justify_content": null,
       "justify_items": null,
       "left": null,
       "margin": null,
       "max_height": null,
       "max_width": null,
       "min_height": null,
       "min_width": null,
       "object_fit": null,
       "object_position": null,
       "order": null,
       "overflow": null,
       "overflow_x": null,
       "overflow_y": null,
       "padding": null,
       "right": null,
       "top": null,
       "visibility": null,
       "width": null
      }
     },
     "8b31c4493209461eb00bc62d9413b541": {
      "model_module": "@jupyter-widgets/controls",
      "model_module_version": "1.5.0",
      "model_name": "DescriptionStyleModel",
      "state": {
       "_model_module": "@jupyter-widgets/controls",
       "_model_module_version": "1.5.0",
       "_model_name": "DescriptionStyleModel",
       "_view_count": null,
       "_view_module": "@jupyter-widgets/base",
       "_view_module_version": "1.2.0",
       "_view_name": "StyleView",
       "description_width": ""
      }
     },
     "a034723f23c9434f8bf9c02b057948e7": {
      "model_module": "@jupyter-widgets/controls",
      "model_module_version": "1.5.0",
      "model_name": "HTMLModel",
      "state": {
       "_dom_classes": [],
       "_model_module": "@jupyter-widgets/controls",
       "_model_module_version": "1.5.0",
       "_model_name": "HTMLModel",
       "_view_count": null,
       "_view_module": "@jupyter-widgets/controls",
       "_view_module_version": "1.5.0",
       "_view_name": "HTMLView",
       "description": "",
       "description_tooltip": null,
       "layout": "IPY_MODEL_036740548c00417e91fb109df9793b0a",
       "placeholder": "​",
       "style": "IPY_MODEL_e4d27b8aa6154683b6be0d87ebb3de6a",
       "value": "vocab.txt: 100%"
      }
     },
     "a0d6b40a15c14092aa096eff8b3a8bd2": {
      "model_module": "@jupyter-widgets/controls",
      "model_module_version": "1.5.0",
      "model_name": "FloatProgressModel",
      "state": {
       "_dom_classes": [],
       "_model_module": "@jupyter-widgets/controls",
       "_model_module_version": "1.5.0",
       "_model_name": "FloatProgressModel",
       "_view_count": null,
       "_view_module": "@jupyter-widgets/controls",
       "_view_module_version": "1.5.0",
       "_view_name": "ProgressView",
       "bar_style": "success",
       "description": "",
       "description_tooltip": null,
       "layout": "IPY_MODEL_3ff72a7f20f94a38830d291f64b63a29",
       "max": 615.0,
       "min": 0.0,
       "orientation": "horizontal",
       "style": "IPY_MODEL_76b7025e1a504bb99279df94d99fc059",
       "value": 615.0
      }
     },
     "aa54d89b371d4cf4896f718966e6c41e": {
      "model_module": "@jupyter-widgets/controls",
      "model_module_version": "1.5.0",
      "model_name": "DescriptionStyleModel",
      "state": {
       "_model_module": "@jupyter-widgets/controls",
       "_model_module_version": "1.5.0",
       "_model_name": "DescriptionStyleModel",
       "_view_count": null,
       "_view_module": "@jupyter-widgets/base",
       "_view_module_version": "1.2.0",
       "_view_name": "StyleView",
       "description_width": ""
      }
     },
     "aee6a86b1a2d49f48d8060fd27d13b7a": {
      "model_module": "@jupyter-widgets/controls",
      "model_module_version": "1.5.0",
      "model_name": "DescriptionStyleModel",
      "state": {
       "_model_module": "@jupyter-widgets/controls",
       "_model_module_version": "1.5.0",
       "_model_name": "DescriptionStyleModel",
       "_view_count": null,
       "_view_module": "@jupyter-widgets/base",
       "_view_module_version": "1.2.0",
       "_view_name": "StyleView",
       "description_width": ""
      }
     },
     "b180d420de7044aa9acb983efa2d3561": {
      "model_module": "@jupyter-widgets/controls",
      "model_module_version": "1.5.0",
      "model_name": "HTMLModel",
      "state": {
       "_dom_classes": [],
       "_model_module": "@jupyter-widgets/controls",
       "_model_module_version": "1.5.0",
       "_model_name": "HTMLModel",
       "_view_count": null,
       "_view_module": "@jupyter-widgets/controls",
       "_view_module_version": "1.5.0",
       "_view_name": "HTMLView",
       "description": "",
       "description_tooltip": null,
       "layout": "IPY_MODEL_252c9ccdc28c4aa9abe06a8d67ba4541",
       "placeholder": "​",
       "style": "IPY_MODEL_6f58a928344c4b4fad09c02cdd64fed1",
       "value": "special_tokens_map.json: 100%"
      }
     },
     "b5ed59237ee14a2497c82cb41cd80c7b": {
      "model_module": "@jupyter-widgets/controls",
      "model_module_version": "1.5.0",
      "model_name": "FloatProgressModel",
      "state": {
       "_dom_classes": [],
       "_model_module": "@jupyter-widgets/controls",
       "_model_module_version": "1.5.0",
       "_model_name": "FloatProgressModel",
       "_view_count": null,
       "_view_module": "@jupyter-widgets/controls",
       "_view_module_version": "1.5.0",
       "_view_name": "ProgressView",
       "bar_style": "success",
       "description": "",
       "description_tooltip": null,
       "layout": "IPY_MODEL_72fcc8ce56b84dcc9eeaebb8ac86ccbf",
       "max": 112.0,
       "min": 0.0,
       "orientation": "horizontal",
       "style": "IPY_MODEL_1712d14eba5946fdba9956a25b95ecb2",
       "value": 112.0
      }
     },
     "b73110078c2b44c6a6ce84aed52d9998": {
      "model_module": "@jupyter-widgets/controls",
      "model_module_version": "1.5.0",
      "model_name": "DescriptionStyleModel",
      "state": {
       "_model_module": "@jupyter-widgets/controls",
       "_model_module_version": "1.5.0",
       "_model_name": "DescriptionStyleModel",
       "_view_count": null,
       "_view_module": "@jupyter-widgets/base",
       "_view_module_version": "1.2.0",
       "_view_name": "StyleView",
       "description_width": ""
      }
     },
     "c85841312caf4875830e5cffb1291618": {
      "model_module": "@jupyter-widgets/controls",
      "model_module_version": "1.5.0",
      "model_name": "HBoxModel",
      "state": {
       "_dom_classes": [],
       "_model_module": "@jupyter-widgets/controls",
       "_model_module_version": "1.5.0",
       "_model_name": "HBoxModel",
       "_view_count": null,
       "_view_module": "@jupyter-widgets/controls",
       "_view_module_version": "1.5.0",
       "_view_name": "HBoxView",
       "box_style": "",
       "children": [
        "IPY_MODEL_687125fc9bcc434d8cb9997daed5bcd9",
        "IPY_MODEL_a0d6b40a15c14092aa096eff8b3a8bd2",
        "IPY_MODEL_d18323fcf9d94d54a754d8e48bcd0cef"
       ],
       "layout": "IPY_MODEL_86af483fd13740518aac35542d6b30ed"
      }
     },
     "c91dfde8437a40d1b68b363c389281d7": {
      "model_module": "@jupyter-widgets/base",
      "model_module_version": "1.2.0",
      "model_name": "LayoutModel",
      "state": {
       "_model_module": "@jupyter-widgets/base",
       "_model_module_version": "1.2.0",
       "_model_name": "LayoutModel",
       "_view_count": null,
       "_view_module": "@jupyter-widgets/base",
       "_view_module_version": "1.2.0",
       "_view_name": "LayoutView",
       "align_content": null,
       "align_items": null,
       "align_self": null,
       "border": null,
       "bottom": null,
       "display": null,
       "flex": null,
       "flex_flow": null,
       "grid_area": null,
       "grid_auto_columns": null,
       "grid_auto_flow": null,
       "grid_auto_rows": null,
       "grid_column": null,
       "grid_gap": null,
       "grid_row": null,
       "grid_template_areas": null,
       "grid_template_columns": null,
       "grid_template_rows": null,
       "height": null,
       "justify_content": null,
       "justify_items": null,
       "left": null,
       "margin": null,
       "max_height": null,
       "max_width": null,
       "min_height": null,
       "min_width": null,
       "object_fit": null,
       "object_position": null,
       "order": null,
       "overflow": null,
       "overflow_x": null,
       "overflow_y": null,
       "padding": null,
       "right": null,
       "top": null,
       "visibility": null,
       "width": null
      }
     },
     "d01e08008ace47889e4bb0fa1f11852f": {
      "model_module": "@jupyter-widgets/controls",
      "model_module_version": "1.5.0",
      "model_name": "DescriptionStyleModel",
      "state": {
       "_model_module": "@jupyter-widgets/controls",
       "_model_module_version": "1.5.0",
       "_model_name": "DescriptionStyleModel",
       "_view_count": null,
       "_view_module": "@jupyter-widgets/base",
       "_view_module_version": "1.2.0",
       "_view_name": "StyleView",
       "description_width": ""
      }
     },
     "d18323fcf9d94d54a754d8e48bcd0cef": {
      "model_module": "@jupyter-widgets/controls",
      "model_module_version": "1.5.0",
      "model_name": "HTMLModel",
      "state": {
       "_dom_classes": [],
       "_model_module": "@jupyter-widgets/controls",
       "_model_module_version": "1.5.0",
       "_model_name": "HTMLModel",
       "_view_count": null,
       "_view_module": "@jupyter-widgets/controls",
       "_view_module_version": "1.5.0",
       "_view_name": "HTMLView",
       "description": "",
       "description_tooltip": null,
       "layout": "IPY_MODEL_25d214b72d4c4f1a93269cb3b7ae9da0",
       "placeholder": "​",
       "style": "IPY_MODEL_ddaa0a89523f44819077009883fab196",
       "value": " 615/615 [00:00&lt;00:00, 52.9kB/s]"
      }
     },
     "d7aa7a6204224f2ba0e572d46775ec50": {
      "model_module": "@jupyter-widgets/base",
      "model_module_version": "1.2.0",
      "model_name": "LayoutModel",
      "state": {
       "_model_module": "@jupyter-widgets/base",
       "_model_module_version": "1.2.0",
       "_model_name": "LayoutModel",
       "_view_count": null,
       "_view_module": "@jupyter-widgets/base",
       "_view_module_version": "1.2.0",
       "_view_name": "LayoutView",
       "align_content": null,
       "align_items": null,
       "align_self": null,
       "border": null,
       "bottom": null,
       "display": null,
       "flex": null,
       "flex_flow": null,
       "grid_area": null,
       "grid_auto_columns": null,
       "grid_auto_flow": null,
       "grid_auto_rows": null,
       "grid_column": null,
       "grid_gap": null,
       "grid_row": null,
       "grid_template_areas": null,
       "grid_template_columns": null,
       "grid_template_rows": null,
       "height": null,
       "justify_content": null,
       "justify_items": null,
       "left": null,
       "margin": null,
       "max_height": null,
       "max_width": null,
       "min_height": null,
       "min_width": null,
       "object_fit": null,
       "object_position": null,
       "order": null,
       "overflow": null,
       "overflow_x": null,
       "overflow_y": null,
       "padding": null,
       "right": null,
       "top": null,
       "visibility": null,
       "width": null
      }
     },
     "ddaa0a89523f44819077009883fab196": {
      "model_module": "@jupyter-widgets/controls",
      "model_module_version": "1.5.0",
      "model_name": "DescriptionStyleModel",
      "state": {
       "_model_module": "@jupyter-widgets/controls",
       "_model_module_version": "1.5.0",
       "_model_name": "DescriptionStyleModel",
       "_view_count": null,
       "_view_module": "@jupyter-widgets/base",
       "_view_module_version": "1.2.0",
       "_view_name": "StyleView",
       "description_width": ""
      }
     },
     "dfde04b937b243d0901591f75288f192": {
      "model_module": "@jupyter-widgets/controls",
      "model_module_version": "1.5.0",
      "model_name": "HBoxModel",
      "state": {
       "_dom_classes": [],
       "_model_module": "@jupyter-widgets/controls",
       "_model_module_version": "1.5.0",
       "_model_name": "HBoxModel",
       "_view_count": null,
       "_view_module": "@jupyter-widgets/controls",
       "_view_module_version": "1.5.0",
       "_view_name": "HBoxView",
       "box_style": "",
       "children": [
        "IPY_MODEL_b180d420de7044aa9acb983efa2d3561",
        "IPY_MODEL_b5ed59237ee14a2497c82cb41cd80c7b",
        "IPY_MODEL_0f31893082314940960f10c3c7e77c82"
       ],
       "layout": "IPY_MODEL_291fd502def546ab950fc2c40e9a4f2e"
      }
     },
     "e02292a05a4f4bb0a273394ac28ab23f": {
      "model_module": "@jupyter-widgets/base",
      "model_module_version": "1.2.0",
      "model_name": "LayoutModel",
      "state": {
       "_model_module": "@jupyter-widgets/base",
       "_model_module_version": "1.2.0",
       "_model_name": "LayoutModel",
       "_view_count": null,
       "_view_module": "@jupyter-widgets/base",
       "_view_module_version": "1.2.0",
       "_view_name": "LayoutView",
       "align_content": null,
       "align_items": null,
       "align_self": null,
       "border": null,
       "bottom": null,
       "display": null,
       "flex": null,
       "flex_flow": null,
       "grid_area": null,
       "grid_auto_columns": null,
       "grid_auto_flow": null,
       "grid_auto_rows": null,
       "grid_column": null,
       "grid_gap": null,
       "grid_row": null,
       "grid_template_areas": null,
       "grid_template_columns": null,
       "grid_template_rows": null,
       "height": null,
       "justify_content": null,
       "justify_items": null,
       "left": null,
       "margin": null,
       "max_height": null,
       "max_width": null,
       "min_height": null,
       "min_width": null,
       "object_fit": null,
       "object_position": null,
       "order": null,
       "overflow": null,
       "overflow_x": null,
       "overflow_y": null,
       "padding": null,
       "right": null,
       "top": null,
       "visibility": null,
       "width": null
      }
     },
     "e4d27b8aa6154683b6be0d87ebb3de6a": {
      "model_module": "@jupyter-widgets/controls",
      "model_module_version": "1.5.0",
      "model_name": "DescriptionStyleModel",
      "state": {
       "_model_module": "@jupyter-widgets/controls",
       "_model_module_version": "1.5.0",
       "_model_name": "DescriptionStyleModel",
       "_view_count": null,
       "_view_module": "@jupyter-widgets/base",
       "_view_module_version": "1.2.0",
       "_view_name": "StyleView",
       "description_width": ""
      }
     },
     "e6f4b82b3d9e49219f69976a5076db66": {
      "model_module": "@jupyter-widgets/base",
      "model_module_version": "1.2.0",
      "model_name": "LayoutModel",
      "state": {
       "_model_module": "@jupyter-widgets/base",
       "_model_module_version": "1.2.0",
       "_model_name": "LayoutModel",
       "_view_count": null,
       "_view_module": "@jupyter-widgets/base",
       "_view_module_version": "1.2.0",
       "_view_name": "LayoutView",
       "align_content": null,
       "align_items": null,
       "align_self": null,
       "border": null,
       "bottom": null,
       "display": null,
       "flex": null,
       "flex_flow": null,
       "grid_area": null,
       "grid_auto_columns": null,
       "grid_auto_flow": null,
       "grid_auto_rows": null,
       "grid_column": null,
       "grid_gap": null,
       "grid_row": null,
       "grid_template_areas": null,
       "grid_template_columns": null,
       "grid_template_rows": null,
       "height": null,
       "justify_content": null,
       "justify_items": null,
       "left": null,
       "margin": null,
       "max_height": null,
       "max_width": null,
       "min_height": null,
       "min_width": null,
       "object_fit": null,
       "object_position": null,
       "order": null,
       "overflow": null,
       "overflow_x": null,
       "overflow_y": null,
       "padding": null,
       "right": null,
       "top": null,
       "visibility": null,
       "width": null
      }
     },
     "ec0b9cbc1aa048d0b08a0de67d5cd6c1": {
      "model_module": "@jupyter-widgets/base",
      "model_module_version": "1.2.0",
      "model_name": "LayoutModel",
      "state": {
       "_model_module": "@jupyter-widgets/base",
       "_model_module_version": "1.2.0",
       "_model_name": "LayoutModel",
       "_view_count": null,
       "_view_module": "@jupyter-widgets/base",
       "_view_module_version": "1.2.0",
       "_view_name": "LayoutView",
       "align_content": null,
       "align_items": null,
       "align_self": null,
       "border": null,
       "bottom": null,
       "display": null,
       "flex": null,
       "flex_flow": null,
       "grid_area": null,
       "grid_auto_columns": null,
       "grid_auto_flow": null,
       "grid_auto_rows": null,
       "grid_column": null,
       "grid_gap": null,
       "grid_row": null,
       "grid_template_areas": null,
       "grid_template_columns": null,
       "grid_template_rows": null,
       "height": null,
       "justify_content": null,
       "justify_items": null,
       "left": null,
       "margin": null,
       "max_height": null,
       "max_width": null,
       "min_height": null,
       "min_width": null,
       "object_fit": null,
       "object_position": null,
       "order": null,
       "overflow": null,
       "overflow_x": null,
       "overflow_y": null,
       "padding": null,
       "right": null,
       "top": null,
       "visibility": null,
       "width": null
      }
     },
     "f13d8c03d658420685ea38a5302a25a0": {
      "model_module": "@jupyter-widgets/controls",
      "model_module_version": "1.5.0",
      "model_name": "HTMLModel",
      "state": {
       "_dom_classes": [],
       "_model_module": "@jupyter-widgets/controls",
       "_model_module_version": "1.5.0",
       "_model_name": "HTMLModel",
       "_view_count": null,
       "_view_module": "@jupyter-widgets/controls",
       "_view_module_version": "1.5.0",
       "_view_name": "HTMLView",
       "description": "",
       "description_tooltip": null,
       "layout": "IPY_MODEL_771fdb1b53e946fb944eeab0166e04c2",
       "placeholder": "​",
       "style": "IPY_MODEL_b73110078c2b44c6a6ce84aed52d9998",
       "value": "tokenizer.json: 100%"
      }
     },
     "f227dc32b1be4b178b09c07c6bfa0595": {
      "model_module": "@jupyter-widgets/controls",
      "model_module_version": "1.5.0",
      "model_name": "HBoxModel",
      "state": {
       "_dom_classes": [],
       "_model_module": "@jupyter-widgets/controls",
       "_model_module_version": "1.5.0",
       "_model_name": "HBoxModel",
       "_view_count": null,
       "_view_module": "@jupyter-widgets/controls",
       "_view_module_version": "1.5.0",
       "_view_name": "HBoxView",
       "box_style": "",
       "children": [
        "IPY_MODEL_a034723f23c9434f8bf9c02b057948e7",
        "IPY_MODEL_3f2ac64b1bdb4ceda18226718d87f515",
        "IPY_MODEL_13e78633dfa14a5490b77e4932b8b5e6"
       ],
       "layout": "IPY_MODEL_d7aa7a6204224f2ba0e572d46775ec50"
      }
     },
     "f3d0c407bdea4655b6a9f24aed007f38": {
      "model_module": "@jupyter-widgets/base",
      "model_module_version": "1.2.0",
      "model_name": "LayoutModel",
      "state": {
       "_model_module": "@jupyter-widgets/base",
       "_model_module_version": "1.2.0",
       "_model_name": "LayoutModel",
       "_view_count": null,
       "_view_module": "@jupyter-widgets/base",
       "_view_module_version": "1.2.0",
       "_view_name": "LayoutView",
       "align_content": null,
       "align_items": null,
       "align_self": null,
       "border": null,
       "bottom": null,
       "display": null,
       "flex": null,
       "flex_flow": null,
       "grid_area": null,
       "grid_auto_columns": null,
       "grid_auto_flow": null,
       "grid_auto_rows": null,
       "grid_column": null,
       "grid_gap": null,
       "grid_row": null,
       "grid_template_areas": null,
       "grid_template_columns": null,
       "grid_template_rows": null,
       "height": null,
       "justify_content": null,
       "justify_items": null,
       "left": null,
       "margin": null,
       "max_height": null,
       "max_width": null,
       "min_height": null,
       "min_width": null,
       "object_fit": null,
       "object_position": null,
       "order": null,
       "overflow": null,
       "overflow_x": null,
       "overflow_y": null,
       "padding": null,
       "right": null,
       "top": null,
       "visibility": null,
       "width": null
      }
     },
     "ff49841ce6a444878cacf557d2c44b45": {
      "model_module": "@jupyter-widgets/base",
      "model_module_version": "1.2.0",
      "model_name": "LayoutModel",
      "state": {
       "_model_module": "@jupyter-widgets/base",
       "_model_module_version": "1.2.0",
       "_model_name": "LayoutModel",
       "_view_count": null,
       "_view_module": "@jupyter-widgets/base",
       "_view_module_version": "1.2.0",
       "_view_name": "LayoutView",
       "align_content": null,
       "align_items": null,
       "align_self": null,
       "border": null,
       "bottom": null,
       "display": null,
       "flex": null,
       "flex_flow": null,
       "grid_area": null,
       "grid_auto_columns": null,
       "grid_auto_flow": null,
       "grid_auto_rows": null,
       "grid_column": null,
       "grid_gap": null,
       "grid_row": null,
       "grid_template_areas": null,
       "grid_template_columns": null,
       "grid_template_rows": null,
       "height": null,
       "justify_content": null,
       "justify_items": null,
       "left": null,
       "margin": null,
       "max_height": null,
       "max_width": null,
       "min_height": null,
       "min_width": null,
       "object_fit": null,
       "object_position": null,
       "order": null,
       "overflow": null,
       "overflow_x": null,
       "overflow_y": null,
       "padding": null,
       "right": null,
       "top": null,
       "visibility": null,
       "width": null
      }
     }
    },
    "version_major": 2,
    "version_minor": 0
   }
  }
 },
 "nbformat": 4,
 "nbformat_minor": 5
}
