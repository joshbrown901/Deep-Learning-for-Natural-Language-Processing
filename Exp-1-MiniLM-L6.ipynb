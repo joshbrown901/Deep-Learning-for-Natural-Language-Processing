{
 "cells": [
  {
   "cell_type": "code",
   "execution_count": 1,
   "id": "d3a5a0de",
   "metadata": {
    "execution": {
     "iopub.execute_input": "2024-04-19T12:08:18.606645Z",
     "iopub.status.busy": "2024-04-19T12:08:18.606339Z",
     "iopub.status.idle": "2024-04-19T12:08:26.425487Z",
     "shell.execute_reply": "2024-04-19T12:08:26.424672Z"
    },
    "id": "pvr5WO3Dk3k7",
    "papermill": {
     "duration": 7.848949,
     "end_time": "2024-04-19T12:08:26.427796",
     "exception": false,
     "start_time": "2024-04-19T12:08:18.578847",
     "status": "completed"
    },
    "tags": []
   },
   "outputs": [],
   "source": [
    "import pandas as pd\n",
    "from torch.utils.data import Dataset\n",
    "import torch\n",
    "import os\n",
    "import random\n",
    "import numpy as np\n",
    "from torch import nn\n",
    "from typing import Dict, Optional, Tuple, List\n",
    "from transformers import AutoTokenizer, AutoModel\n",
    "from torch.utils.data import Dataset, random_split\n",
    "import torch.optim as optim\n",
    "from tqdm import tqdm\n",
    "from sklearn.metrics import precision_score, f1_score, recall_score, classification_report"
   ]
  },
  {
   "cell_type": "code",
   "execution_count": 2,
   "id": "36bc32c8",
   "metadata": {
    "execution": {
     "iopub.execute_input": "2024-04-19T12:08:26.481977Z",
     "iopub.status.busy": "2024-04-19T12:08:26.481495Z",
     "iopub.status.idle": "2024-04-19T12:08:26.490698Z",
     "shell.execute_reply": "2024-04-19T12:08:26.489976Z"
    },
    "id": "tATY-ohJqYuC",
    "papermill": {
     "duration": 0.038604,
     "end_time": "2024-04-19T12:08:26.492693",
     "exception": false,
     "start_time": "2024-04-19T12:08:26.454089",
     "status": "completed"
    },
    "tags": []
   },
   "outputs": [],
   "source": [
    "SEED = 42\n",
    "\n",
    "torch.manual_seed(SEED)\n",
    "torch.random.manual_seed(SEED)\n",
    "os.environ['PYTHONHASHSEED'] = str(SEED)\n",
    "random.seed(SEED)\n",
    "np.random.seed(SEED)\n",
    "torch.cuda.random.manual_seed(SEED)\n",
    "torch.cuda.random.manual_seed_all(SEED)\n",
    "torch.backends.cudnn.deterministic = True"
   ]
  },
  {
   "cell_type": "code",
   "execution_count": 3,
   "id": "5c88eb17",
   "metadata": {
    "execution": {
     "iopub.execute_input": "2024-04-19T12:08:26.545160Z",
     "iopub.status.busy": "2024-04-19T12:08:26.544849Z",
     "iopub.status.idle": "2024-04-19T12:08:26.602585Z",
     "shell.execute_reply": "2024-04-19T12:08:26.601582Z"
    },
    "id": "G3DBvzLkpxb9",
    "papermill": {
     "duration": 0.08609,
     "end_time": "2024-04-19T12:08:26.604575",
     "exception": false,
     "start_time": "2024-04-19T12:08:26.518485",
     "status": "completed"
    },
    "tags": []
   },
   "outputs": [],
   "source": [
    "device = \"cuda\" if torch.cuda.is_available() else \"cpu\""
   ]
  },
  {
   "cell_type": "code",
   "execution_count": 4,
   "id": "e250d96c",
   "metadata": {
    "execution": {
     "iopub.execute_input": "2024-04-19T12:08:26.657468Z",
     "iopub.status.busy": "2024-04-19T12:08:26.657184Z",
     "iopub.status.idle": "2024-04-19T12:08:30.393254Z",
     "shell.execute_reply": "2024-04-19T12:08:30.392188Z"
    },
    "id": "s3XTVchKHjRE",
    "outputId": "62fc1a76-8f91-4c0e-d051-330eaf23ae66",
    "papermill": {
     "duration": 3.765082,
     "end_time": "2024-04-19T12:08:30.395683",
     "exception": false,
     "start_time": "2024-04-19T12:08:26.630601",
     "status": "completed"
    },
    "tags": []
   },
   "outputs": [
    {
     "name": "stdout",
     "output_type": "stream",
     "text": [
      "Cloning into 'TextGraphs17-shared-task'...\r\n",
      "remote: Enumerating objects: 498, done.\u001b[K\r\n",
      "remote: Counting objects: 100% (18/18), done.\u001b[K\r\n",
      "remote: Compressing objects: 100% (11/11), done.\u001b[K\r\n",
      "remote: Total 498 (delta 7), reused 14 (delta 4), pack-reused 480\u001b[K\r\n",
      "Receiving objects: 100% (498/498), 37.10 MiB | 39.08 MiB/s, done.\r\n",
      "Resolving deltas: 100% (58/58), done.\r\n"
     ]
    }
   ],
   "source": [
    "!git clone https://github.com/uhh-lt/TextGraphs17-shared-task.git"
   ]
  },
  {
   "cell_type": "code",
   "execution_count": 5,
   "id": "fddaf77d",
   "metadata": {
    "execution": {
     "iopub.execute_input": "2024-04-19T12:08:30.451005Z",
     "iopub.status.busy": "2024-04-19T12:08:30.450665Z",
     "iopub.status.idle": "2024-04-19T12:08:31.398869Z",
     "shell.execute_reply": "2024-04-19T12:08:31.397746Z"
    },
    "id": "1Fv67LbbHkVl",
    "outputId": "e30c73f0-aaaf-48d1-9578-39b951290435",
    "papermill": {
     "duration": 0.978024,
     "end_time": "2024-04-19T12:08:31.401079",
     "exception": false,
     "start_time": "2024-04-19T12:08:30.423055",
     "status": "completed"
    },
    "tags": []
   },
   "outputs": [
    {
     "name": "stdout",
     "output_type": "stream",
     "text": [
      "README.md  data        question_graph_examples\tvisualization\r\n",
      "baselines  evaluation  reformat_data\r\n"
     ]
    }
   ],
   "source": [
    "!ls TextGraphs17-shared-task"
   ]
  },
  {
   "cell_type": "code",
   "execution_count": 6,
   "id": "bb91d0b3",
   "metadata": {
    "execution": {
     "iopub.execute_input": "2024-04-19T12:08:31.456926Z",
     "iopub.status.busy": "2024-04-19T12:08:31.456628Z",
     "iopub.status.idle": "2024-04-19T12:08:31.903520Z",
     "shell.execute_reply": "2024-04-19T12:08:31.902615Z"
    },
    "id": "-8SEn7sx5qn4",
    "papermill": {
     "duration": 0.477557,
     "end_time": "2024-04-19T12:08:31.905896",
     "exception": false,
     "start_time": "2024-04-19T12:08:31.428339",
     "status": "completed"
    },
    "tags": []
   },
   "outputs": [],
   "source": [
    "train_dev_path = \"TextGraphs17-shared-task/data/tsv/train.tsv\"\n",
    "\n",
    "data_df = pd.read_csv(train_dev_path, sep='\\t')"
   ]
  },
  {
   "cell_type": "code",
   "execution_count": 7,
   "id": "d77102d6",
   "metadata": {
    "execution": {
     "iopub.execute_input": "2024-04-19T12:08:31.961730Z",
     "iopub.status.busy": "2024-04-19T12:08:31.961408Z",
     "iopub.status.idle": "2024-04-19T12:08:31.980249Z",
     "shell.execute_reply": "2024-04-19T12:08:31.979542Z"
    },
    "id": "ChpkDo0DILq-",
    "papermill": {
     "duration": 0.049713,
     "end_time": "2024-04-19T12:08:31.982723",
     "exception": false,
     "start_time": "2024-04-19T12:08:31.933010",
     "status": "completed"
    },
    "tags": []
   },
   "outputs": [],
   "source": [
    "all_questions = list(data_df[\"question\"].unique())\n",
    "num_questions = len(all_questions)\n",
    "random.shuffle(all_questions)"
   ]
  },
  {
   "cell_type": "code",
   "execution_count": 8,
   "id": "39053205",
   "metadata": {
    "execution": {
     "iopub.execute_input": "2024-04-19T12:08:32.037885Z",
     "iopub.status.busy": "2024-04-19T12:08:32.037623Z",
     "iopub.status.idle": "2024-04-19T12:08:32.044425Z",
     "shell.execute_reply": "2024-04-19T12:08:32.043580Z"
    },
    "id": "LxOT3ndTIKOi",
    "outputId": "2250d6a9-1f48-42ba-c121-e953d9042175",
    "papermill": {
     "duration": 0.036396,
     "end_time": "2024-04-19T12:08:32.046492",
     "exception": false,
     "start_time": "2024-04-19T12:08:32.010096",
     "status": "completed"
    },
    "tags": []
   },
   "outputs": [
    {
     "name": "stdout",
     "output_type": "stream",
     "text": [
      "Questions: train - 2545, dev - 283, test - 283\n"
     ]
    }
   ],
   "source": [
    "train_dev_ratio = 0.8\n",
    "train_ratio = 0.9\n",
    "num_train_dev_questions = int(num_questions * train_dev_ratio)\n",
    "train_dev_questions = all_questions[:num_train_dev_questions]\n",
    "test_questions = set(all_questions[num_train_dev_questions:])\n",
    "num_train_questions = int(len(train_dev_questions) * train_ratio)\n",
    "train_questions = set(train_dev_questions[:num_train_questions])\n",
    "dev_questions = set(train_dev_questions[num_train_questions:])\n",
    "\n",
    "print(f\"Questions: train - {len(train_questions)}, dev - {len(dev_questions)}, test - {len(dev_questions)}\")"
   ]
  },
  {
   "cell_type": "code",
   "execution_count": 9,
   "id": "d62157da",
   "metadata": {
    "execution": {
     "iopub.execute_input": "2024-04-19T12:08:32.102866Z",
     "iopub.status.busy": "2024-04-19T12:08:32.102599Z",
     "iopub.status.idle": "2024-04-19T12:08:32.128747Z",
     "shell.execute_reply": "2024-04-19T12:08:32.127757Z"
    },
    "id": "PS8JE3QiIKQy",
    "outputId": "9e036b3e-7941-4b73-bdf2-488feebff287",
    "papermill": {
     "duration": 0.05626,
     "end_time": "2024-04-19T12:08:32.130519",
     "exception": false,
     "start_time": "2024-04-19T12:08:32.074259",
     "status": "completed"
    },
    "tags": []
   },
   "outputs": [
    {
     "name": "stdout",
     "output_type": "stream",
     "text": [
      "Train: (27122, 10)\n",
      "Dev: (3047, 10)\n",
      "Test: (7503, 10)\n"
     ]
    }
   ],
   "source": [
    "train_df = data_df[data_df[\"question\"].isin(train_questions)]\n",
    "dev_df = data_df[data_df[\"question\"].isin(dev_questions)]\n",
    "test_df = data_df[data_df[\"question\"].isin(test_questions)]\n",
    "\n",
    "print(f\"Train: {train_df.shape}\")\n",
    "print(f\"Dev: {dev_df.shape}\")\n",
    "print(f\"Test: {test_df.shape}\")"
   ]
  },
  {
   "cell_type": "code",
   "execution_count": 10,
   "id": "b0a01af6",
   "metadata": {
    "execution": {
     "iopub.execute_input": "2024-04-19T12:08:32.185872Z",
     "iopub.status.busy": "2024-04-19T12:08:32.185624Z",
     "iopub.status.idle": "2024-04-19T12:08:32.192994Z",
     "shell.execute_reply": "2024-04-19T12:08:32.192173Z"
    },
    "id": "L67B30o_XJmZ",
    "outputId": "7712edd3-a15e-4f03-966a-abf54c18a843",
    "papermill": {
     "duration": 0.037065,
     "end_time": "2024-04-19T12:08:32.194859",
     "exception": false,
     "start_time": "2024-04-19T12:08:32.157794",
     "status": "completed"
    },
    "tags": []
   },
   "outputs": [
    {
     "data": {
      "text/plain": [
       "'{\\'nodes\\': [{\\'type\\': \\'QUESTIONS_ENTITY\\', \\'name_\\': \\'Q794\\', \\'id\\': 0, \\'label\\': \\'Iran\\'}, {\\'type\\': \\'INTERNAL\\', \\'name_\\': \\'Q207991\\', \\'id\\': 1, \\'label\\': \\'Pahlavi dynasty\\'}, {\\'type\\': \\'ANSWER_CANDIDATE_ENTITY\\', \\'name_\\': \\'Q7293530\\', \\'id\\': 2, \\'label\\': \"Ruhollah Khomeini\\'s return to Iran\"}], \\'links\\': [{\\'name_\\': \\'P17\\', \\'source\\': 0, \\'target\\': 0, \\'label\\': \\'country\\'}, {\\'name_\\': \\'P1365\\', \\'source\\': 0, \\'target\\': 1, \\'label\\': \\'replaces\\'}, {\\'name_\\': \\'P1366\\', \\'source\\': 1, \\'target\\': 0, \\'label\\': \\'replaced by\\'}, {\\'name_\\': \\'P17\\', \\'source\\': 2, \\'target\\': 1, \\'label\\': \\'country\\'}]}'"
      ]
     },
     "execution_count": 10,
     "metadata": {},
     "output_type": "execute_result"
    }
   ],
   "source": [
    "train_df.loc[0, \"graph\"]"
   ]
  },
  {
   "cell_type": "code",
   "execution_count": 11,
   "id": "8cc7121b",
   "metadata": {
    "execution": {
     "iopub.execute_input": "2024-04-19T12:08:32.249928Z",
     "iopub.status.busy": "2024-04-19T12:08:32.249652Z",
     "iopub.status.idle": "2024-04-19T12:08:32.266648Z",
     "shell.execute_reply": "2024-04-19T12:08:32.265839Z"
    },
    "id": "f8Uk3FNGk5G-",
    "outputId": "28c029b8-3fd6-4d6b-b391-d2d08d0234e0",
    "papermill": {
     "duration": 0.04671,
     "end_time": "2024-04-19T12:08:32.268575",
     "exception": false,
     "start_time": "2024-04-19T12:08:32.221865",
     "status": "completed"
    },
    "tags": []
   },
   "outputs": [
    {
     "data": {
      "text/html": [
       "<div>\n",
       "<style scoped>\n",
       "    .dataframe tbody tr th:only-of-type {\n",
       "        vertical-align: middle;\n",
       "    }\n",
       "\n",
       "    .dataframe tbody tr th {\n",
       "        vertical-align: top;\n",
       "    }\n",
       "\n",
       "    .dataframe thead th {\n",
       "        text-align: right;\n",
       "    }\n",
       "</style>\n",
       "<table border=\"1\" class=\"dataframe\">\n",
       "  <thead>\n",
       "    <tr style=\"text-align: right;\">\n",
       "      <th></th>\n",
       "      <th>sample_id</th>\n",
       "      <th>question</th>\n",
       "      <th>questionEntity</th>\n",
       "      <th>answerEntity</th>\n",
       "      <th>groundTruthAnswerEntity</th>\n",
       "      <th>answerEntityId</th>\n",
       "      <th>questionEntityId</th>\n",
       "      <th>groundTruthAnswerEntityId</th>\n",
       "      <th>correct</th>\n",
       "      <th>graph</th>\n",
       "    </tr>\n",
       "  </thead>\n",
       "  <tbody>\n",
       "    <tr>\n",
       "      <th>0</th>\n",
       "      <td>0</td>\n",
       "      <td>Whst is the name of the head of state and high...</td>\n",
       "      <td>Iran</td>\n",
       "      <td>Ruhollah Khomeini's return to Iran</td>\n",
       "      <td>Office of the Supreme Leader of Iran</td>\n",
       "      <td>Q7293530</td>\n",
       "      <td>Q794</td>\n",
       "      <td>Q16045000</td>\n",
       "      <td>False</td>\n",
       "      <td>{'nodes': [{'type': 'QUESTIONS_ENTITY', 'name_...</td>\n",
       "    </tr>\n",
       "    <tr>\n",
       "      <th>1</th>\n",
       "      <td>1</td>\n",
       "      <td>Whst is the name of the head of state and high...</td>\n",
       "      <td>Iran</td>\n",
       "      <td>Ruhollah Khomeini's letter to Mikhail Gorbachev</td>\n",
       "      <td>Office of the Supreme Leader of Iran</td>\n",
       "      <td>Q5952984</td>\n",
       "      <td>Q794</td>\n",
       "      <td>Q16045000</td>\n",
       "      <td>False</td>\n",
       "      <td>{'nodes': [{'type': 'INTERNAL', 'name_': 'Q417...</td>\n",
       "    </tr>\n",
       "    <tr>\n",
       "      <th>2</th>\n",
       "      <td>2</td>\n",
       "      <td>Whst is the name of the head of state and high...</td>\n",
       "      <td>Iran</td>\n",
       "      <td>Ruhollah Khomeini</td>\n",
       "      <td>Office of the Supreme Leader of Iran</td>\n",
       "      <td>Q38823</td>\n",
       "      <td>Q794</td>\n",
       "      <td>Q16045000</td>\n",
       "      <td>False</td>\n",
       "      <td>{'nodes': [{'type': 'QUESTIONS_ENTITY', 'name_...</td>\n",
       "    </tr>\n",
       "    <tr>\n",
       "      <th>3</th>\n",
       "      <td>3</td>\n",
       "      <td>Whst is the name of the head of state and high...</td>\n",
       "      <td>Iran</td>\n",
       "      <td>Office of the Supreme Leader of Iran</td>\n",
       "      <td>Office of the Supreme Leader of Iran</td>\n",
       "      <td>Q16045000</td>\n",
       "      <td>Q794</td>\n",
       "      <td>Q16045000</td>\n",
       "      <td>True</td>\n",
       "      <td>{'nodes': [{'type': 'QUESTIONS_ENTITY', 'name_...</td>\n",
       "    </tr>\n",
       "    <tr>\n",
       "      <th>4</th>\n",
       "      <td>4</td>\n",
       "      <td>Whst is the name of the head of state and high...</td>\n",
       "      <td>Iran</td>\n",
       "      <td>Mohammad Reza Pahlavi and Soraya</td>\n",
       "      <td>Office of the Supreme Leader of Iran</td>\n",
       "      <td>Q63195813</td>\n",
       "      <td>Q794</td>\n",
       "      <td>Q16045000</td>\n",
       "      <td>False</td>\n",
       "      <td>{'nodes': [{'type': 'QUESTIONS_ENTITY', 'name_...</td>\n",
       "    </tr>\n",
       "  </tbody>\n",
       "</table>\n",
       "</div>"
      ],
      "text/plain": [
       "   sample_id                                           question  \\\n",
       "0          0  Whst is the name of the head of state and high...   \n",
       "1          1  Whst is the name of the head of state and high...   \n",
       "2          2  Whst is the name of the head of state and high...   \n",
       "3          3  Whst is the name of the head of state and high...   \n",
       "4          4  Whst is the name of the head of state and high...   \n",
       "\n",
       "  questionEntity                                     answerEntity  \\\n",
       "0           Iran               Ruhollah Khomeini's return to Iran   \n",
       "1           Iran  Ruhollah Khomeini's letter to Mikhail Gorbachev   \n",
       "2           Iran                                Ruhollah Khomeini   \n",
       "3           Iran             Office of the Supreme Leader of Iran   \n",
       "4           Iran                 Mohammad Reza Pahlavi and Soraya   \n",
       "\n",
       "                groundTruthAnswerEntity answerEntityId questionEntityId  \\\n",
       "0  Office of the Supreme Leader of Iran       Q7293530             Q794   \n",
       "1  Office of the Supreme Leader of Iran       Q5952984             Q794   \n",
       "2  Office of the Supreme Leader of Iran         Q38823             Q794   \n",
       "3  Office of the Supreme Leader of Iran      Q16045000             Q794   \n",
       "4  Office of the Supreme Leader of Iran      Q63195813             Q794   \n",
       "\n",
       "  groundTruthAnswerEntityId  correct  \\\n",
       "0                 Q16045000    False   \n",
       "1                 Q16045000    False   \n",
       "2                 Q16045000    False   \n",
       "3                 Q16045000     True   \n",
       "4                 Q16045000    False   \n",
       "\n",
       "                                               graph  \n",
       "0  {'nodes': [{'type': 'QUESTIONS_ENTITY', 'name_...  \n",
       "1  {'nodes': [{'type': 'INTERNAL', 'name_': 'Q417...  \n",
       "2  {'nodes': [{'type': 'QUESTIONS_ENTITY', 'name_...  \n",
       "3  {'nodes': [{'type': 'QUESTIONS_ENTITY', 'name_...  \n",
       "4  {'nodes': [{'type': 'QUESTIONS_ENTITY', 'name_...  "
      ]
     },
     "execution_count": 11,
     "metadata": {},
     "output_type": "execute_result"
    }
   ],
   "source": [
    "train_df.head()"
   ]
  },
  {
   "cell_type": "code",
   "execution_count": 12,
   "id": "d9f16c01",
   "metadata": {
    "execution": {
     "iopub.execute_input": "2024-04-19T12:08:32.324764Z",
     "iopub.status.busy": "2024-04-19T12:08:32.324495Z",
     "iopub.status.idle": "2024-04-19T12:08:32.336686Z",
     "shell.execute_reply": "2024-04-19T12:08:32.335636Z"
    },
    "id": "Fot9tDahnA6I",
    "outputId": "5bdc543a-a71c-4e2e-fd14-c0fe0c05fa69",
    "papermill": {
     "duration": 0.042688,
     "end_time": "2024-04-19T12:08:32.338586",
     "exception": false,
     "start_time": "2024-04-19T12:08:32.295898",
     "status": "completed"
    },
    "tags": []
   },
   "outputs": [
    {
     "name": "stderr",
     "output_type": "stream",
     "text": [
      "/tmp/ipykernel_24/1869300941.py:1: SettingWithCopyWarning: \n",
      "A value is trying to be set on a copy of a slice from a DataFrame.\n",
      "Try using .loc[row_indexer,col_indexer] = value instead\n",
      "\n",
      "See the caveats in the documentation: https://pandas.pydata.org/pandas-docs/stable/user_guide/indexing.html#returning-a-view-versus-a-copy\n",
      "  train_df.loc[:,\"label\"] = train_df[\"correct\"].astype(np.float32)\n",
      "/tmp/ipykernel_24/1869300941.py:2: SettingWithCopyWarning: \n",
      "A value is trying to be set on a copy of a slice from a DataFrame.\n",
      "Try using .loc[row_indexer,col_indexer] = value instead\n",
      "\n",
      "See the caveats in the documentation: https://pandas.pydata.org/pandas-docs/stable/user_guide/indexing.html#returning-a-view-versus-a-copy\n",
      "  dev_df.loc[:,\"label\"] = dev_df[\"correct\"].astype(np.float32)\n",
      "/tmp/ipykernel_24/1869300941.py:3: SettingWithCopyWarning: \n",
      "A value is trying to be set on a copy of a slice from a DataFrame.\n",
      "Try using .loc[row_indexer,col_indexer] = value instead\n",
      "\n",
      "See the caveats in the documentation: https://pandas.pydata.org/pandas-docs/stable/user_guide/indexing.html#returning-a-view-versus-a-copy\n",
      "  test_df.loc[:,\"label\"] = test_df[\"correct\"].astype(np.float32)\n"
     ]
    },
    {
     "data": {
      "text/plain": [
       "0    0.0\n",
       "1    0.0\n",
       "2    0.0\n",
       "3    1.0\n",
       "4    0.0\n",
       "Name: label, dtype: float32"
      ]
     },
     "execution_count": 12,
     "metadata": {},
     "output_type": "execute_result"
    }
   ],
   "source": [
    "train_df.loc[:,\"label\"] = train_df[\"correct\"].astype(np.float32)\n",
    "dev_df.loc[:,\"label\"] = dev_df[\"correct\"].astype(np.float32)\n",
    "test_df.loc[:,\"label\"] = test_df[\"correct\"].astype(np.float32)\n",
    "train_df[\"label\"].head(5)"
   ]
  },
  {
   "cell_type": "code",
   "execution_count": 13,
   "id": "c9c6515a",
   "metadata": {
    "execution": {
     "iopub.execute_input": "2024-04-19T12:08:32.394967Z",
     "iopub.status.busy": "2024-04-19T12:08:32.394681Z",
     "iopub.status.idle": "2024-04-19T12:08:37.412926Z",
     "shell.execute_reply": "2024-04-19T12:08:37.412074Z"
    },
    "id": "FPlwivhunSxF",
    "papermill": {
     "duration": 5.048913,
     "end_time": "2024-04-19T12:08:37.415278",
     "exception": false,
     "start_time": "2024-04-19T12:08:32.366365",
     "status": "completed"
    },
    "tags": []
   },
   "outputs": [],
   "source": [
    "train_df.loc[:,\"graph\"] = train_df[\"graph\"].apply(eval)\n",
    "dev_df.loc[:,\"graph\"] = dev_df[\"graph\"].apply(eval)\n",
    "test_df.loc[:,\"graph\"] = test_df[\"graph\"].apply(eval)"
   ]
  },
  {
   "cell_type": "code",
   "execution_count": 14,
   "id": "e5c6febe",
   "metadata": {
    "execution": {
     "iopub.execute_input": "2024-04-19T12:08:37.472838Z",
     "iopub.status.busy": "2024-04-19T12:08:37.472561Z",
     "iopub.status.idle": "2024-04-19T12:08:37.490085Z",
     "shell.execute_reply": "2024-04-19T12:08:37.489250Z"
    },
    "id": "qttF4jcml2mo",
    "outputId": "4a4c7b26-475f-4287-84bb-344819614d65",
    "papermill": {
     "duration": 0.048168,
     "end_time": "2024-04-19T12:08:37.492016",
     "exception": false,
     "start_time": "2024-04-19T12:08:37.443848",
     "status": "completed"
    },
    "tags": []
   },
   "outputs": [
    {
     "data": {
      "text/html": [
       "<div>\n",
       "<style scoped>\n",
       "    .dataframe tbody tr th:only-of-type {\n",
       "        vertical-align: middle;\n",
       "    }\n",
       "\n",
       "    .dataframe tbody tr th {\n",
       "        vertical-align: top;\n",
       "    }\n",
       "\n",
       "    .dataframe thead th {\n",
       "        text-align: right;\n",
       "    }\n",
       "</style>\n",
       "<table border=\"1\" class=\"dataframe\">\n",
       "  <thead>\n",
       "    <tr style=\"text-align: right;\">\n",
       "      <th></th>\n",
       "      <th>question</th>\n",
       "      <th>answerEntity</th>\n",
       "      <th>groundTruthAnswerEntity</th>\n",
       "      <th>label</th>\n",
       "    </tr>\n",
       "  </thead>\n",
       "  <tbody>\n",
       "    <tr>\n",
       "      <th>0</th>\n",
       "      <td>Whst is the name of the head of state and high...</td>\n",
       "      <td>Ruhollah Khomeini's return to Iran</td>\n",
       "      <td>Office of the Supreme Leader of Iran</td>\n",
       "      <td>0.0</td>\n",
       "    </tr>\n",
       "    <tr>\n",
       "      <th>1</th>\n",
       "      <td>Whst is the name of the head of state and high...</td>\n",
       "      <td>Ruhollah Khomeini's letter to Mikhail Gorbachev</td>\n",
       "      <td>Office of the Supreme Leader of Iran</td>\n",
       "      <td>0.0</td>\n",
       "    </tr>\n",
       "    <tr>\n",
       "      <th>2</th>\n",
       "      <td>Whst is the name of the head of state and high...</td>\n",
       "      <td>Ruhollah Khomeini</td>\n",
       "      <td>Office of the Supreme Leader of Iran</td>\n",
       "      <td>0.0</td>\n",
       "    </tr>\n",
       "    <tr>\n",
       "      <th>3</th>\n",
       "      <td>Whst is the name of the head of state and high...</td>\n",
       "      <td>Office of the Supreme Leader of Iran</td>\n",
       "      <td>Office of the Supreme Leader of Iran</td>\n",
       "      <td>1.0</td>\n",
       "    </tr>\n",
       "    <tr>\n",
       "      <th>4</th>\n",
       "      <td>Whst is the name of the head of state and high...</td>\n",
       "      <td>Mohammad Reza Pahlavi and Soraya</td>\n",
       "      <td>Office of the Supreme Leader of Iran</td>\n",
       "      <td>0.0</td>\n",
       "    </tr>\n",
       "    <tr>\n",
       "      <th>5</th>\n",
       "      <td>Whst is the name of the head of state and high...</td>\n",
       "      <td>Mahmoud Ahmadinejad</td>\n",
       "      <td>Office of the Supreme Leader of Iran</td>\n",
       "      <td>0.0</td>\n",
       "    </tr>\n",
       "    <tr>\n",
       "      <th>6</th>\n",
       "      <td>Whst is the name of the head of state and high...</td>\n",
       "      <td>Hassan Rouhani</td>\n",
       "      <td>Office of the Supreme Leader of Iran</td>\n",
       "      <td>0.0</td>\n",
       "    </tr>\n",
       "    <tr>\n",
       "      <th>7</th>\n",
       "      <td>Whst is the name of the head of state and high...</td>\n",
       "      <td>Ayatollah Khamenei's Foreign Policy Orientation</td>\n",
       "      <td>Office of the Supreme Leader of Iran</td>\n",
       "      <td>0.0</td>\n",
       "    </tr>\n",
       "    <tr>\n",
       "      <th>8</th>\n",
       "      <td>Whst is the name of the head of state and high...</td>\n",
       "      <td>Ayatollah Ali Khamenei speaks about Iranian pr...</td>\n",
       "      <td>Office of the Supreme Leader of Iran</td>\n",
       "      <td>0.0</td>\n",
       "    </tr>\n",
       "    <tr>\n",
       "      <th>9</th>\n",
       "      <td>Whst is the name of the head of state and high...</td>\n",
       "      <td>Ali Khamenei bibliography</td>\n",
       "      <td>Office of the Supreme Leader of Iran</td>\n",
       "      <td>0.0</td>\n",
       "    </tr>\n",
       "  </tbody>\n",
       "</table>\n",
       "</div>"
      ],
      "text/plain": [
       "                                            question  \\\n",
       "0  Whst is the name of the head of state and high...   \n",
       "1  Whst is the name of the head of state and high...   \n",
       "2  Whst is the name of the head of state and high...   \n",
       "3  Whst is the name of the head of state and high...   \n",
       "4  Whst is the name of the head of state and high...   \n",
       "5  Whst is the name of the head of state and high...   \n",
       "6  Whst is the name of the head of state and high...   \n",
       "7  Whst is the name of the head of state and high...   \n",
       "8  Whst is the name of the head of state and high...   \n",
       "9  Whst is the name of the head of state and high...   \n",
       "\n",
       "                                        answerEntity  \\\n",
       "0                 Ruhollah Khomeini's return to Iran   \n",
       "1    Ruhollah Khomeini's letter to Mikhail Gorbachev   \n",
       "2                                  Ruhollah Khomeini   \n",
       "3               Office of the Supreme Leader of Iran   \n",
       "4                   Mohammad Reza Pahlavi and Soraya   \n",
       "5                                Mahmoud Ahmadinejad   \n",
       "6                                     Hassan Rouhani   \n",
       "7    Ayatollah Khamenei's Foreign Policy Orientation   \n",
       "8  Ayatollah Ali Khamenei speaks about Iranian pr...   \n",
       "9                          Ali Khamenei bibliography   \n",
       "\n",
       "                groundTruthAnswerEntity  label  \n",
       "0  Office of the Supreme Leader of Iran    0.0  \n",
       "1  Office of the Supreme Leader of Iran    0.0  \n",
       "2  Office of the Supreme Leader of Iran    0.0  \n",
       "3  Office of the Supreme Leader of Iran    1.0  \n",
       "4  Office of the Supreme Leader of Iran    0.0  \n",
       "5  Office of the Supreme Leader of Iran    0.0  \n",
       "6  Office of the Supreme Leader of Iran    0.0  \n",
       "7  Office of the Supreme Leader of Iran    0.0  \n",
       "8  Office of the Supreme Leader of Iran    0.0  \n",
       "9  Office of the Supreme Leader of Iran    0.0  "
      ]
     },
     "execution_count": 14,
     "metadata": {},
     "output_type": "execute_result"
    }
   ],
   "source": [
    "train_df[[\"question\", \"answerEntity\", \"groundTruthAnswerEntity\", \"label\"]].head(10)"
   ]
  },
  {
   "cell_type": "code",
   "execution_count": 15,
   "id": "b1609490",
   "metadata": {
    "execution": {
     "iopub.execute_input": "2024-04-19T12:08:37.549655Z",
     "iopub.status.busy": "2024-04-19T12:08:37.549401Z",
     "iopub.status.idle": "2024-04-19T12:08:37.562706Z",
     "shell.execute_reply": "2024-04-19T12:08:37.561857Z"
    },
    "id": "qPWyIN3wnLzv",
    "outputId": "dcb49b37-8365-4ae1-9591-0fed55673424",
    "papermill": {
     "duration": 0.044013,
     "end_time": "2024-04-19T12:08:37.564579",
     "exception": false,
     "start_time": "2024-04-19T12:08:37.520566",
     "status": "completed"
    },
    "tags": []
   },
   "outputs": [
    {
     "data": {
      "text/html": [
       "<div>\n",
       "<style scoped>\n",
       "    .dataframe tbody tr th:only-of-type {\n",
       "        vertical-align: middle;\n",
       "    }\n",
       "\n",
       "    .dataframe tbody tr th {\n",
       "        vertical-align: top;\n",
       "    }\n",
       "\n",
       "    .dataframe thead th {\n",
       "        text-align: right;\n",
       "    }\n",
       "</style>\n",
       "<table border=\"1\" class=\"dataframe\">\n",
       "  <thead>\n",
       "    <tr style=\"text-align: right;\">\n",
       "      <th></th>\n",
       "      <th>question</th>\n",
       "      <th>answerEntity</th>\n",
       "      <th>groundTruthAnswerEntity</th>\n",
       "      <th>label</th>\n",
       "    </tr>\n",
       "  </thead>\n",
       "  <tbody>\n",
       "    <tr>\n",
       "      <th>11</th>\n",
       "      <td>Whose is the oldest MLB player to hit a home run?</td>\n",
       "      <td>Yogi Berra</td>\n",
       "      <td>Julio Franco</td>\n",
       "      <td>0.0</td>\n",
       "    </tr>\n",
       "    <tr>\n",
       "      <th>12</th>\n",
       "      <td>Whose is the oldest MLB player to hit a home run?</td>\n",
       "      <td>Tony Gwynn, Jr.</td>\n",
       "      <td>Julio Franco</td>\n",
       "      <td>0.0</td>\n",
       "    </tr>\n",
       "    <tr>\n",
       "      <th>13</th>\n",
       "      <td>Whose is the oldest MLB player to hit a home run?</td>\n",
       "      <td>Roy Campanella</td>\n",
       "      <td>Julio Franco</td>\n",
       "      <td>0.0</td>\n",
       "    </tr>\n",
       "    <tr>\n",
       "      <th>14</th>\n",
       "      <td>Whose is the oldest MLB player to hit a home run?</td>\n",
       "      <td>Roger Clemens</td>\n",
       "      <td>Julio Franco</td>\n",
       "      <td>0.0</td>\n",
       "    </tr>\n",
       "    <tr>\n",
       "      <th>15</th>\n",
       "      <td>Whose is the oldest MLB player to hit a home run?</td>\n",
       "      <td>Mickey Mantle</td>\n",
       "      <td>Julio Franco</td>\n",
       "      <td>0.0</td>\n",
       "    </tr>\n",
       "    <tr>\n",
       "      <th>16</th>\n",
       "      <td>Whose is the oldest MLB player to hit a home run?</td>\n",
       "      <td>Lou Gehrig</td>\n",
       "      <td>Julio Franco</td>\n",
       "      <td>0.0</td>\n",
       "    </tr>\n",
       "    <tr>\n",
       "      <th>17</th>\n",
       "      <td>Whose is the oldest MLB player to hit a home run?</td>\n",
       "      <td>Julio Franco</td>\n",
       "      <td>Julio Franco</td>\n",
       "      <td>1.0</td>\n",
       "    </tr>\n",
       "    <tr>\n",
       "      <th>18</th>\n",
       "      <td>Whose is the oldest MLB player to hit a home run?</td>\n",
       "      <td>José Bautista</td>\n",
       "      <td>Julio Franco</td>\n",
       "      <td>0.0</td>\n",
       "    </tr>\n",
       "    <tr>\n",
       "      <th>19</th>\n",
       "      <td>Whose is the oldest MLB player to hit a home run?</td>\n",
       "      <td>Hank Greenberg</td>\n",
       "      <td>Julio Franco</td>\n",
       "      <td>0.0</td>\n",
       "    </tr>\n",
       "    <tr>\n",
       "      <th>20</th>\n",
       "      <td>Whose is the oldest MLB player to hit a home run?</td>\n",
       "      <td>Hank Aaron</td>\n",
       "      <td>Julio Franco</td>\n",
       "      <td>0.0</td>\n",
       "    </tr>\n",
       "  </tbody>\n",
       "</table>\n",
       "</div>"
      ],
      "text/plain": [
       "                                             question     answerEntity  \\\n",
       "11  Whose is the oldest MLB player to hit a home run?       Yogi Berra   \n",
       "12  Whose is the oldest MLB player to hit a home run?  Tony Gwynn, Jr.   \n",
       "13  Whose is the oldest MLB player to hit a home run?   Roy Campanella   \n",
       "14  Whose is the oldest MLB player to hit a home run?    Roger Clemens   \n",
       "15  Whose is the oldest MLB player to hit a home run?    Mickey Mantle   \n",
       "16  Whose is the oldest MLB player to hit a home run?       Lou Gehrig   \n",
       "17  Whose is the oldest MLB player to hit a home run?     Julio Franco   \n",
       "18  Whose is the oldest MLB player to hit a home run?    José Bautista   \n",
       "19  Whose is the oldest MLB player to hit a home run?   Hank Greenberg   \n",
       "20  Whose is the oldest MLB player to hit a home run?       Hank Aaron   \n",
       "\n",
       "   groundTruthAnswerEntity  label  \n",
       "11            Julio Franco    0.0  \n",
       "12            Julio Franco    0.0  \n",
       "13            Julio Franco    0.0  \n",
       "14            Julio Franco    0.0  \n",
       "15            Julio Franco    0.0  \n",
       "16            Julio Franco    0.0  \n",
       "17            Julio Franco    1.0  \n",
       "18            Julio Franco    0.0  \n",
       "19            Julio Franco    0.0  \n",
       "20            Julio Franco    0.0  "
      ]
     },
     "execution_count": 15,
     "metadata": {},
     "output_type": "execute_result"
    }
   ],
   "source": [
    "test_df[[\"question\", \"answerEntity\", \"groundTruthAnswerEntity\", \"label\"]].head(10)"
   ]
  },
  {
   "cell_type": "code",
   "execution_count": 16,
   "id": "0fb37f07",
   "metadata": {
    "execution": {
     "iopub.execute_input": "2024-04-19T12:08:37.622393Z",
     "iopub.status.busy": "2024-04-19T12:08:37.622142Z",
     "iopub.status.idle": "2024-04-19T12:08:37.630574Z",
     "shell.execute_reply": "2024-04-19T12:08:37.629720Z"
    },
    "id": "gEx2RPKnnSzb",
    "papermill": {
     "duration": 0.039563,
     "end_time": "2024-04-19T12:08:37.632459",
     "exception": false,
     "start_time": "2024-04-19T12:08:37.592896",
     "status": "completed"
    },
    "tags": []
   },
   "outputs": [],
   "source": [
    "class QuestionAnswerDataset(Dataset):\n",
    "\n",
    "    def __init__(self, df, tokenizer, max_length, context_key=\"answerEntity\",\n",
    "                 tokenizer_truncation=\"only_first\"):\n",
    "        super(QuestionAnswerDataset).__init__()\n",
    "\n",
    "        self.questions = df.question.values\n",
    "        self.contexts = df[context_key].values\n",
    "        self.labels = torch.tensor(df.label.values, dtype=torch.float32)\n",
    "        self.tokenizer = tokenizer\n",
    "        self.max_length = max_length\n",
    "        self.tokenized_input = [tokenizer.encode_plus(x, y,\n",
    "                              max_length=self.max_length,\n",
    "                              padding=\"max_length\",\n",
    "                              truncation=tokenizer_truncation,\n",
    "                              return_tensors=\"pt\", ) \\\n",
    "                          for x, y in zip(self.questions,\n",
    "                                          self.contexts)]\n",
    "        assert len(self.questions) == len(self.contexts) == len(self.labels)\n",
    "\n",
    "    def __len__(self):\n",
    "        return len(self.questions)\n",
    "\n",
    "    def __getitem__(self, idx):\n",
    "        return {\n",
    "                \"input_ids\": self.tokenized_input[idx][\"input_ids\"][0],\n",
    "                \"attention_mask\" : self.tokenized_input[idx][\"attention_mask\"][0],\n",
    "                \"labels\": self.labels[idx]}"
   ]
  },
  {
   "cell_type": "code",
   "execution_count": 17,
   "id": "6ff57532",
   "metadata": {
    "execution": {
     "iopub.execute_input": "2024-04-19T12:08:37.731224Z",
     "iopub.status.busy": "2024-04-19T12:08:37.730504Z",
     "iopub.status.idle": "2024-04-19T12:08:37.734372Z",
     "shell.execute_reply": "2024-04-19T12:08:37.733538Z"
    },
    "id": "aPOJ28fHniTQ",
    "papermill": {
     "duration": 0.035182,
     "end_time": "2024-04-19T12:08:37.736208",
     "exception": false,
     "start_time": "2024-04-19T12:08:37.701026",
     "status": "completed"
    },
    "tags": []
   },
   "outputs": [],
   "source": [
    "# train_ratio=0.9\n",
    "# train_df = train_dev_df.sample(frac=train_ratio)\n",
    "# dev_df = train_dev_df.drop(train_df.index)"
   ]
  },
  {
   "cell_type": "code",
   "execution_count": 18,
   "id": "165fd07a",
   "metadata": {
    "execution": {
     "iopub.execute_input": "2024-04-19T12:08:37.795290Z",
     "iopub.status.busy": "2024-04-19T12:08:37.795032Z",
     "iopub.status.idle": "2024-04-19T12:08:41.355226Z",
     "shell.execute_reply": "2024-04-19T12:08:41.354144Z"
    },
    "id": "EHhNzOBxwZZ1",
    "outputId": "a31af21d-2719-43f0-868e-479fbcfbb46d",
    "papermill": {
     "duration": 3.592826,
     "end_time": "2024-04-19T12:08:41.357437",
     "exception": false,
     "start_time": "2024-04-19T12:08:37.764611",
     "status": "completed"
    },
    "tags": []
   },
   "outputs": [
    {
     "data": {
      "application/vnd.jupyter.widget-view+json": {
       "model_id": "d90e8efd6d3f48de9f4ed8bfc7fa9b18",
       "version_major": 2,
       "version_minor": 0
      },
      "text/plain": [
       "tokenizer_config.json:   0%|          | 0.00/350 [00:00<?, ?B/s]"
      ]
     },
     "metadata": {},
     "output_type": "display_data"
    },
    {
     "data": {
      "application/vnd.jupyter.widget-view+json": {
       "model_id": "d4d33ef570934198a1eeed4bf6f527d6",
       "version_major": 2,
       "version_minor": 0
      },
      "text/plain": [
       "vocab.txt:   0%|          | 0.00/232k [00:00<?, ?B/s]"
      ]
     },
     "metadata": {},
     "output_type": "display_data"
    },
    {
     "data": {
      "application/vnd.jupyter.widget-view+json": {
       "model_id": "410f175c9e1f4706a6b0a85bd4bd0b04",
       "version_major": 2,
       "version_minor": 0
      },
      "text/plain": [
       "tokenizer.json:   0%|          | 0.00/466k [00:00<?, ?B/s]"
      ]
     },
     "metadata": {},
     "output_type": "display_data"
    },
    {
     "data": {
      "application/vnd.jupyter.widget-view+json": {
       "model_id": "253d5f60a58c497c8df8e043a8cc1820",
       "version_major": 2,
       "version_minor": 0
      },
      "text/plain": [
       "special_tokens_map.json:   0%|          | 0.00/112 [00:00<?, ?B/s]"
      ]
     },
     "metadata": {},
     "output_type": "display_data"
    },
    {
     "data": {
      "application/vnd.jupyter.widget-view+json": {
       "model_id": "9093e53e568a445aa46f97f0b5653d46",
       "version_major": 2,
       "version_minor": 0
      },
      "text/plain": [
       "config.json:   0%|          | 0.00/612 [00:00<?, ?B/s]"
      ]
     },
     "metadata": {},
     "output_type": "display_data"
    },
    {
     "data": {
      "application/vnd.jupyter.widget-view+json": {
       "model_id": "8ef45fddae084fc8b8ddb642333af06d",
       "version_major": 2,
       "version_minor": 0
      },
      "text/plain": [
       "model.safetensors:   0%|          | 0.00/90.9M [00:00<?, ?B/s]"
      ]
     },
     "metadata": {},
     "output_type": "display_data"
    },
    {
     "name": "stdout",
     "output_type": "stream",
     "text": [
      "# Trainable params:  10794624\n"
     ]
    }
   ],
   "source": [
    "model_name=\"sentence-transformers/all-MiniLM-L6-v2\"\n",
    "\n",
    "tokenizer = AutoTokenizer.from_pretrained(model_name)\n",
    "bert_model = AutoModel.from_pretrained(model_name)\n",
    "\n",
    "freeze_embeddings = True\n",
    "if freeze_embeddings:\n",
    "    for param in bert_model.embeddings.parameters():\n",
    "        param.requires_grad = False\n",
    "\n",
    "# freeze_layer_count = 5\n",
    "# if freeze_layer_count > 0:\n",
    "#     for layer in bert_model.encoder.layer[:freeze_layer_count]:\n",
    "#         for param in layer.parameters():\n",
    "#             param.requires_grad = False\n",
    "\n",
    "print(\"# Trainable params: \", sum(p.numel() for p in bert_model.parameters() if p.requires_grad))"
   ]
  },
  {
   "cell_type": "code",
   "execution_count": 19,
   "id": "ec7c8309",
   "metadata": {
    "execution": {
     "iopub.execute_input": "2024-04-19T12:08:41.419499Z",
     "iopub.status.busy": "2024-04-19T12:08:41.419034Z",
     "iopub.status.idle": "2024-04-19T12:08:54.362147Z",
     "shell.execute_reply": "2024-04-19T12:08:54.361121Z"
    },
    "id": "A7cYGM0EpVdy",
    "papermill": {
     "duration": 12.976354,
     "end_time": "2024-04-19T12:08:54.364558",
     "exception": false,
     "start_time": "2024-04-19T12:08:41.388204",
     "status": "completed"
    },
    "tags": []
   },
   "outputs": [],
   "source": [
    "max_length = 128\n",
    "train_dataset = QuestionAnswerDataset(train_df, tokenizer=tokenizer, max_length=max_length)\n",
    "dev_dataset = QuestionAnswerDataset(dev_df, tokenizer=tokenizer, max_length=max_length)\n",
    "test_dataset = QuestionAnswerDataset(test_df, tokenizer=tokenizer, max_length=max_length)"
   ]
  },
  {
   "cell_type": "code",
   "execution_count": 20,
   "id": "9d0879a6",
   "metadata": {
    "execution": {
     "iopub.execute_input": "2024-04-19T12:08:54.426364Z",
     "iopub.status.busy": "2024-04-19T12:08:54.426048Z",
     "iopub.status.idle": "2024-04-19T12:08:54.432043Z",
     "shell.execute_reply": "2024-04-19T12:08:54.431152Z"
    },
    "id": "Lg4MGlFZpVgq",
    "papermill": {
     "duration": 0.03857,
     "end_time": "2024-04-19T12:08:54.433871",
     "exception": false,
     "start_time": "2024-04-19T12:08:54.395301",
     "status": "completed"
    },
    "tags": []
   },
   "outputs": [],
   "source": [
    "batch_size = 64\n",
    "num_workers = 0\n",
    "\n",
    "train_loader = torch.utils.data.DataLoader(\n",
    "    train_dataset, batch_size=batch_size, num_workers=num_workers, shuffle=True, drop_last=True,\n",
    ")\n",
    "dev_loader = torch.utils.data.DataLoader(\n",
    "    dev_dataset, batch_size=batch_size, num_workers=num_workers, shuffle=False, drop_last=False,\n",
    ")\n",
    "test_loader = torch.utils.data.DataLoader(\n",
    "    test_dataset, batch_size=batch_size, num_workers=num_workers, shuffle=False, drop_last=False,\n",
    ")"
   ]
  },
  {
   "cell_type": "code",
   "execution_count": 21,
   "id": "68d6bda5",
   "metadata": {
    "execution": {
     "iopub.execute_input": "2024-04-19T12:08:54.496281Z",
     "iopub.status.busy": "2024-04-19T12:08:54.496014Z",
     "iopub.status.idle": "2024-04-19T12:08:54.509087Z",
     "shell.execute_reply": "2024-04-19T12:08:54.508241Z"
    },
    "id": "i8b9mpfOniVq",
    "papermill": {
     "duration": 0.046993,
     "end_time": "2024-04-19T12:08:54.510893",
     "exception": false,
     "start_time": "2024-04-19T12:08:54.463900",
     "status": "completed"
    },
    "tags": []
   },
   "outputs": [],
   "source": [
    "def train(model, iterator, optimizer, criterion, device,\n",
    "          train_history=None, valid_history=None,):\n",
    "    model.train()\n",
    "\n",
    "    epoch_loss = 0\n",
    "    history = []\n",
    "    for i, batch in enumerate(tqdm(iterator)):\n",
    "\n",
    "        optimizer.zero_grad()\n",
    "\n",
    "        input_ids = batch[\"input_ids\"].to(device)\n",
    "        attention_mask = batch[\"attention_mask\"].to(device)\n",
    "        labels = batch[\"labels\"].to(device)\n",
    "        output = model(inputs=input_ids, attention_mask=attention_mask,).squeeze(1)\n",
    "        loss = criterion(output, labels)\n",
    "        loss.backward()\n",
    "        optimizer.step()\n",
    "        # scheduler.step()\n",
    "\n",
    "        epoch_loss += loss.item()\n",
    "\n",
    "        history.append(loss.cpu().data.numpy())\n",
    "\n",
    "    return epoch_loss / (i + 1)\n",
    "\n",
    "def evaluate(model, iterator, criterion, device):\n",
    "    model.eval()\n",
    "\n",
    "    epoch_loss = 0\n",
    "\n",
    "    true_labels = []\n",
    "    pred_labels = []\n",
    "\n",
    "    with torch.no_grad():\n",
    "\n",
    "        for i, batch in enumerate(iterator):\n",
    "\n",
    "            input_ids = batch[\"input_ids\"].to(device)\n",
    "            attention_mask = batch[\"attention_mask\"].to(device)\n",
    "            labels = batch[\"labels\"]\n",
    "\n",
    "            true_labels.extend(labels.cpu().numpy())\n",
    "            labels = labels.to(device)\n",
    "\n",
    "\n",
    "            output = model(inputs=input_ids, attention_mask=attention_mask,).squeeze(1)\n",
    "            pred_probas = output.cpu().numpy()\n",
    "            batch_pred_labels = (pred_probas >= 0.5) * 1\n",
    "\n",
    "            loss = criterion(output, labels)\n",
    "\n",
    "            pred_labels.extend(batch_pred_labels)\n",
    "            epoch_loss += loss.item()\n",
    "\n",
    "    valid_f1_score = f1_score(true_labels, pred_labels)\n",
    "    return epoch_loss / (i + 1), valid_f1_score\n",
    "\n",
    "def epoch_time(start_time, end_time):\n",
    "    elapsed_time = end_time - start_time\n",
    "    elapsed_mins = int(elapsed_time / 60)\n",
    "    elapsed_secs = int(elapsed_time - (elapsed_mins * 60))\n",
    "    return elapsed_mins, elapsed_secs"
   ]
  },
  {
   "cell_type": "code",
   "execution_count": null,
   "id": "4041e698",
   "metadata": {
    "id": "65M_aYDlpln9",
    "papermill": {
     "duration": 0.030144,
     "end_time": "2024-04-19T12:08:54.570979",
     "exception": false,
     "start_time": "2024-04-19T12:08:54.540835",
     "status": "completed"
    },
    "tags": []
   },
   "outputs": [],
   "source": []
  },
  {
   "cell_type": "code",
   "execution_count": 22,
   "id": "46ad454b",
   "metadata": {
    "execution": {
     "iopub.execute_input": "2024-04-19T12:08:54.632094Z",
     "iopub.status.busy": "2024-04-19T12:08:54.631777Z",
     "iopub.status.idle": "2024-04-19T12:08:54.638271Z",
     "shell.execute_reply": "2024-04-19T12:08:54.637459Z"
    },
    "id": "dJf1NgzxcGIp",
    "papermill": {
     "duration": 0.038991,
     "end_time": "2024-04-19T12:08:54.640172",
     "exception": false,
     "start_time": "2024-04-19T12:08:54.601181",
     "status": "completed"
    },
    "tags": []
   },
   "outputs": [],
   "source": [
    "import time\n",
    "import math\n",
    "import matplotlib\n",
    "matplotlib.rcParams.update({'figure.figsize': (16, 12), 'font.size': 14})\n",
    "import matplotlib.pyplot as plt\n",
    "%matplotlib inline\n",
    "from IPython.display import clear_output"
   ]
  },
  {
   "cell_type": "code",
   "execution_count": 23,
   "id": "6c3adf7b",
   "metadata": {
    "execution": {
     "iopub.execute_input": "2024-04-19T12:08:54.700789Z",
     "iopub.status.busy": "2024-04-19T12:08:54.700527Z",
     "iopub.status.idle": "2024-04-19T12:08:54.710325Z",
     "shell.execute_reply": "2024-04-19T12:08:54.709577Z"
    },
    "id": "5LUN9l3masQd",
    "papermill": {
     "duration": 0.042154,
     "end_time": "2024-04-19T12:08:54.712157",
     "exception": false,
     "start_time": "2024-04-19T12:08:54.670003",
     "status": "completed"
    },
    "tags": []
   },
   "outputs": [],
   "source": [
    "def train_evaluate(bert_classifier, train_loader, dev_loader, optimizer, criterion, n_epochs, checkpoint_fname, device):\n",
    "    train_history = []\n",
    "    valid_history = []\n",
    "    valid_history_f1 = []\n",
    "\n",
    "    best_valid_loss = float('inf')\n",
    "    best_f1_score = 0.0\n",
    "\n",
    "    for epoch in range(n_epochs):\n",
    "\n",
    "        start_time = time.time()\n",
    "\n",
    "        train_loss = train(bert_classifier, train_loader, optimizer, criterion, device, train_history, valid_history, )\n",
    "        valid_loss, valid_f1_score = evaluate(bert_classifier, dev_loader, criterion, device)\n",
    "\n",
    "        end_time = time.time()\n",
    "\n",
    "        epoch_mins, epoch_secs = epoch_time(start_time, end_time)\n",
    "\n",
    "        train_history.append(train_loss)\n",
    "        valid_history.append(valid_loss)\n",
    "        valid_history_f1.append(valid_f1_score)\n",
    "\n",
    "        fig, ax = plt.subplots(nrows=1, ncols=2, figsize=(12, 8))\n",
    "\n",
    "        clear_output(True)\n",
    "        ax[0].plot(valid_history_f1, label='Val f1-score')\n",
    "        ax[0].set_xlabel('Epoch')\n",
    "        ax[0].set_title('Val f1-score')\n",
    "\n",
    "        ax[1].plot(train_history, label='general train history')\n",
    "        ax[1].set_xlabel('Epoch')\n",
    "        ax[1].plot(valid_history, label='general valid history')\n",
    "\n",
    "        plt.legend()\n",
    "        plt.show()\n",
    "\n",
    "        if valid_f1_score > best_f1_score:\n",
    "            best_f1_score = valid_f1_score\n",
    "            torch.save(bert_classifier.state_dict(), f'best-val-{checkpoint_fname}.pt')\n",
    "\n",
    "        print(f'Epoch: {epoch+1:02} | Time: {epoch_mins}m {epoch_secs}s')\n",
    "        print(f'\\tTrain Loss: {train_loss:.3f}')\n",
    "        print(f'\\t Val. Loss: {valid_loss:.3f} |  Val. F1: {valid_f1_score:.3f}')"
   ]
  },
  {
   "cell_type": "code",
   "execution_count": 24,
   "id": "443ab70a",
   "metadata": {
    "execution": {
     "iopub.execute_input": "2024-04-19T12:08:54.773644Z",
     "iopub.status.busy": "2024-04-19T12:08:54.773374Z",
     "iopub.status.idle": "2024-04-19T12:08:54.780123Z",
     "shell.execute_reply": "2024-04-19T12:08:54.779274Z"
    },
    "id": "64mMbvBGplqx",
    "papermill": {
     "duration": 0.039392,
     "end_time": "2024-04-19T12:08:54.782132",
     "exception": false,
     "start_time": "2024-04-19T12:08:54.742740",
     "status": "completed"
    },
    "tags": []
   },
   "outputs": [],
   "source": [
    "def predict(model, data_loader, device):\n",
    "    true_labels = []\n",
    "    pred_labels = []\n",
    "\n",
    "    model.eval()\n",
    "    with torch.no_grad():\n",
    "        for i, batch in enumerate(data_loader):\n",
    "            input_ids = batch[\"input_ids\"].to(device)\n",
    "            attention_mask = batch[\"attention_mask\"].to(device)\n",
    "            batch_true_labels = batch[\"labels\"].cpu().numpy()\n",
    "\n",
    "\n",
    "            pred_probas = model(inputs=input_ids, attention_mask=attention_mask,).squeeze(1)\n",
    "            pred_probas = pred_probas.cpu().numpy()\n",
    "\n",
    "            batch_pred_labels = (pred_probas >= 0.5) * 1\n",
    "\n",
    "            pred_labels.extend(batch_pred_labels)\n",
    "            true_labels.extend(batch_true_labels)\n",
    "    return true_labels, pred_labels"
   ]
  },
  {
   "cell_type": "code",
   "execution_count": 25,
   "id": "fff4a1a5",
   "metadata": {
    "execution": {
     "iopub.execute_input": "2024-04-19T12:08:54.843557Z",
     "iopub.status.busy": "2024-04-19T12:08:54.843283Z",
     "iopub.status.idle": "2024-04-19T12:08:54.850581Z",
     "shell.execute_reply": "2024-04-19T12:08:54.849788Z"
    },
    "id": "mIf1LjY-qCpl",
    "papermill": {
     "duration": 0.040206,
     "end_time": "2024-04-19T12:08:54.852450",
     "exception": false,
     "start_time": "2024-04-19T12:08:54.812244",
     "status": "completed"
    },
    "tags": []
   },
   "outputs": [],
   "source": [
    "class BertSimpleClassifier(nn.Module):\n",
    "    def __init__(self, bert_text_encoder, dropout=0.1):\n",
    "        super().__init__()\n",
    "\n",
    "        self.bert_text_encoder = bert_text_encoder\n",
    "        self.dropout = nn.Dropout(p=dropout)\n",
    "        bert_hidden_dim = bert_text_encoder.config.hidden_size\n",
    "\n",
    "        self.classifier = nn.Sequential(\n",
    "            nn.Dropout(p=dropout),\n",
    "            nn.Tanh(),\n",
    "            nn.Linear(bert_hidden_dim, bert_hidden_dim),\n",
    "            nn.Dropout(p=dropout),\n",
    "            nn.Tanh(),\n",
    "            nn.Linear(bert_hidden_dim, 1),\n",
    "        )\n",
    "\n",
    "\n",
    "    def forward(self, inputs, attention_mask,):\n",
    "        last_hidden_states = self.bert_text_encoder(inputs, attention_mask=attention_mask,\n",
    "                                                    return_dict=True)['last_hidden_state']\n",
    "        text_cls_embeddings = torch.stack([elem[0, :] for elem in last_hidden_states])\n",
    "        proba = self.classifier(text_cls_embeddings)\n",
    "        return proba"
   ]
  },
  {
   "cell_type": "code",
   "execution_count": null,
   "id": "e8e6fe70",
   "metadata": {
    "id": "TQbr6RZrqCsY",
    "papermill": {
     "duration": 0.029741,
     "end_time": "2024-04-19T12:08:54.913291",
     "exception": false,
     "start_time": "2024-04-19T12:08:54.883550",
     "status": "completed"
    },
    "tags": []
   },
   "outputs": [],
   "source": []
  },
  {
   "cell_type": "code",
   "execution_count": 26,
   "id": "96574659",
   "metadata": {
    "execution": {
     "iopub.execute_input": "2024-04-19T12:08:54.974325Z",
     "iopub.status.busy": "2024-04-19T12:08:54.974036Z",
     "iopub.status.idle": "2024-04-19T12:08:54.977833Z",
     "shell.execute_reply": "2024-04-19T12:08:54.977125Z"
    },
    "id": "5eVDSwqqfCxW",
    "papermill": {
     "duration": 0.036635,
     "end_time": "2024-04-19T12:08:54.979731",
     "exception": false,
     "start_time": "2024-04-19T12:08:54.943096",
     "status": "completed"
    },
    "tags": []
   },
   "outputs": [],
   "source": [
    "N_EPOCHS = 40\n",
    "DROPOUT = 0.2"
   ]
  },
  {
   "cell_type": "code",
   "execution_count": 27,
   "id": "7d1e0a63",
   "metadata": {
    "execution": {
     "iopub.execute_input": "2024-04-19T12:08:55.042186Z",
     "iopub.status.busy": "2024-04-19T12:08:55.041882Z",
     "iopub.status.idle": "2024-04-19T12:08:55.228082Z",
     "shell.execute_reply": "2024-04-19T12:08:55.226907Z"
    },
    "id": "xbVhbGTIfDMH",
    "papermill": {
     "duration": 0.220168,
     "end_time": "2024-04-19T12:08:55.230409",
     "exception": false,
     "start_time": "2024-04-19T12:08:55.010241",
     "status": "completed"
    },
    "tags": []
   },
   "outputs": [],
   "source": [
    "bert_simple_clf = BertSimpleClassifier(bert_model, dropout=DROPOUT).to(device)\n",
    "optimizer = optim.Adam(bert_simple_clf.parameters(), lr=3e-5)\n",
    "criterion = nn.BCEWithLogitsLoss()"
   ]
  },
  {
   "cell_type": "code",
   "execution_count": 28,
   "id": "dc14f814",
   "metadata": {
    "execution": {
     "iopub.execute_input": "2024-04-19T12:08:55.292808Z",
     "iopub.status.busy": "2024-04-19T12:08:55.292484Z",
     "iopub.status.idle": "2024-04-19T12:42:49.752729Z",
     "shell.execute_reply": "2024-04-19T12:42:49.751885Z"
    },
    "id": "Y4GsPWI3wN_4",
    "outputId": "76a73aa7-9c87-4d28-9191-24193e9f4494",
    "papermill": {
     "duration": 2034.494632,
     "end_time": "2024-04-19T12:42:49.755926",
     "exception": false,
     "start_time": "2024-04-19T12:08:55.261294",
     "status": "completed"
    },
    "tags": []
   },
   "outputs": [
    {
     "data": {
      "image/png": "[encoded data removed]",
      "text/plain": [
       "<Figure size 1200x800 with 2 Axes>"
      ]
     },
     "metadata": {},
     "output_type": "display_data"
    },
    {
     "name": "stdout",
     "output_type": "stream",
     "text": [
      "Epoch: 40 | Time: 0m 50s\n",
      "\tTrain Loss: 0.059\n",
      "\t Val. Loss: 0.785 |  Val. F1: 0.255\n"
     ]
    }
   ],
   "source": [
    "train_evaluate(bert_simple_clf, train_loader, dev_loader, optimizer,\n",
    "               criterion, N_EPOCHS, \"text_only_baseline\", device)"
   ]
  },
  {
   "cell_type": "code",
   "execution_count": 29,
   "id": "393da060",
   "metadata": {
    "execution": {
     "iopub.execute_input": "2024-04-19T12:42:49.826499Z",
     "iopub.status.busy": "2024-04-19T12:42:49.825585Z",
     "iopub.status.idle": "2024-04-19T12:42:49.922170Z",
     "shell.execute_reply": "2024-04-19T12:42:49.921068Z"
    },
    "id": "wdydaSpIwOB8",
    "outputId": "7d7655da-85be-420c-ef9c-cfe3271ec48d",
    "papermill": {
     "duration": 0.135659,
     "end_time": "2024-04-19T12:42:49.925225",
     "exception": false,
     "start_time": "2024-04-19T12:42:49.789566",
     "status": "completed"
    },
    "tags": []
   },
   "outputs": [
    {
     "data": {
      "text/plain": [
       "<All keys matched successfully>"
      ]
     },
     "execution_count": 29,
     "metadata": {},
     "output_type": "execute_result"
    }
   ],
   "source": [
    "bert_simple_clf.load_state_dict(torch.load('best-val-text_only_baseline.pt'))"
   ]
  },
  {
   "cell_type": "markdown",
   "id": "4dd02c61",
   "metadata": {
    "id": "Wlamg50cA3ez",
    "papermill": {
     "duration": 0.034322,
     "end_time": "2024-04-19T12:42:49.999383",
     "exception": false,
     "start_time": "2024-04-19T12:42:49.965061",
     "status": "completed"
    },
    "tags": []
   },
   "source": [
    "### Evaluation on dev set"
   ]
  },
  {
   "cell_type": "code",
   "execution_count": 30,
   "id": "6b526848",
   "metadata": {
    "execution": {
     "iopub.execute_input": "2024-04-19T12:42:50.066904Z",
     "iopub.status.busy": "2024-04-19T12:42:50.066191Z",
     "iopub.status.idle": "2024-04-19T12:42:51.951604Z",
     "shell.execute_reply": "2024-04-19T12:42:51.950451Z"
    },
    "id": "Qzjnd3xPbLTF",
    "outputId": "ee088394-e7c0-4be3-f744-beb6f4385412",
    "papermill": {
     "duration": 1.921467,
     "end_time": "2024-04-19T12:42:51.953775",
     "exception": false,
     "start_time": "2024-04-19T12:42:50.032308",
     "status": "completed"
    },
    "tags": []
   },
   "outputs": [
    {
     "name": "stdout",
     "output_type": "stream",
     "text": [
      "0.31555555555555553,0.2297734627831715,0.26591760299625467\n"
     ]
    }
   ],
   "source": [
    "true_labels, pred_labels = predict(bert_simple_clf, dev_loader, device)\n",
    "print(f\"{precision_score(true_labels, pred_labels)},{recall_score(true_labels, pred_labels)},{f1_score(true_labels, pred_labels)}\")"
   ]
  },
  {
   "cell_type": "markdown",
   "id": "7a08a54a",
   "metadata": {
    "id": "fWPJAuNoAy_X",
    "papermill": {
     "duration": 0.032798,
     "end_time": "2024-04-19T12:42:52.019882",
     "exception": false,
     "start_time": "2024-04-19T12:42:51.987084",
     "status": "completed"
    },
    "tags": []
   },
   "source": [
    "### Evaluation on test set"
   ]
  },
  {
   "cell_type": "code",
   "execution_count": 31,
   "id": "23c057a5",
   "metadata": {
    "execution": {
     "iopub.execute_input": "2024-04-19T12:42:52.152698Z",
     "iopub.status.busy": "2024-04-19T12:42:52.152001Z",
     "iopub.status.idle": "2024-04-19T12:42:56.779658Z",
     "shell.execute_reply": "2024-04-19T12:42:56.778505Z"
    },
    "id": "jGdeCxifbLVR",
    "outputId": "2b4173be-0b5a-49b0-927d-61884ab4bb6e",
    "papermill": {
     "duration": 4.727422,
     "end_time": "2024-04-19T12:42:56.781741",
     "exception": false,
     "start_time": "2024-04-19T12:42:52.054319",
     "status": "completed"
    },
    "tags": []
   },
   "outputs": [
    {
     "name": "stdout",
     "output_type": "stream",
     "text": [
      "0.3002070393374741,0.19129287598944592,0.233682514101531\n"
     ]
    }
   ],
   "source": [
    "true_labels, pred_labels = predict(bert_simple_clf, test_loader, device)\n",
    "print(f\"{precision_score(true_labels, pred_labels)},{recall_score(true_labels, pred_labels)},{f1_score(true_labels, pred_labels)}\")"
   ]
  },
  {
   "cell_type": "code",
   "execution_count": 32,
   "id": "6d799da3",
   "metadata": {
    "execution": {
     "iopub.execute_input": "2024-04-19T12:42:56.849778Z",
     "iopub.status.busy": "2024-04-19T12:42:56.849413Z",
     "iopub.status.idle": "2024-04-19T12:42:56.884090Z",
     "shell.execute_reply": "2024-04-19T12:42:56.883218Z"
    },
    "id": "1-8RUJAHCQfe",
    "outputId": "45082c63-f034-4c60-9a71-6c863c40a26f",
    "papermill": {
     "duration": 0.07082,
     "end_time": "2024-04-19T12:42:56.885917",
     "exception": false,
     "start_time": "2024-04-19T12:42:56.815097",
     "status": "completed"
    },
    "tags": []
   },
   "outputs": [
    {
     "name": "stderr",
     "output_type": "stream",
     "text": [
      "/tmp/ipykernel_24/196693343.py:1: SettingWithCopyWarning: \n",
      "A value is trying to be set on a copy of a slice from a DataFrame.\n",
      "Try using .loc[row_indexer,col_indexer] = value instead\n",
      "\n",
      "See the caveats in the documentation: https://pandas.pydata.org/pandas-docs/stable/user_guide/indexing.html#returning-a-view-versus-a-copy\n",
      "  test_df[\"true_y\"] = true_labels\n",
      "/tmp/ipykernel_24/196693343.py:2: SettingWithCopyWarning: \n",
      "A value is trying to be set on a copy of a slice from a DataFrame.\n",
      "Try using .loc[row_indexer,col_indexer] = value instead\n",
      "\n",
      "See the caveats in the documentation: https://pandas.pydata.org/pandas-docs/stable/user_guide/indexing.html#returning-a-view-versus-a-copy\n",
      "  test_df[\"prediction\"] = pred_labels\n"
     ]
    }
   ],
   "source": [
    "test_df[\"true_y\"] = true_labels\n",
    "test_df[\"prediction\"] = pred_labels"
   ]
  },
  {
   "cell_type": "code",
   "execution_count": 33,
   "id": "ed046bbe",
   "metadata": {
    "execution": {
     "iopub.execute_input": "2024-04-19T12:42:56.955125Z",
     "iopub.status.busy": "2024-04-19T12:42:56.954758Z",
     "iopub.status.idle": "2024-04-19T12:42:57.359773Z",
     "shell.execute_reply": "2024-04-19T12:42:57.358951Z"
    },
    "id": "5c_Z9ByeB2lT",
    "papermill": {
     "duration": 0.442984,
     "end_time": "2024-04-19T12:42:57.362278",
     "exception": false,
     "start_time": "2024-04-19T12:42:56.919294",
     "status": "completed"
    },
    "tags": []
   },
   "outputs": [],
   "source": [
    "test_pred_path = \"test_pred_mpnet_nograph_baseline.tsv\"\n",
    "test_df.to_csv(test_pred_path, sep='\\t', index=False)\n",
    "# test_df[[\"id\", \"prediction\"]].to_csv(test_pred_path, sep='\\t', index=False)"
   ]
  },
  {
   "cell_type": "code",
   "execution_count": 34,
   "id": "c63bac8d",
   "metadata": {
    "execution": {
     "iopub.execute_input": "2024-04-19T12:42:57.431847Z",
     "iopub.status.busy": "2024-04-19T12:42:57.431472Z",
     "iopub.status.idle": "2024-04-19T12:42:57.435543Z",
     "shell.execute_reply": "2024-04-19T12:42:57.434759Z"
    },
    "id": "DZJuO6klwOEE",
    "papermill": {
     "duration": 0.040926,
     "end_time": "2024-04-19T12:42:57.437493",
     "exception": false,
     "start_time": "2024-04-19T12:42:57.396567",
     "status": "completed"
    },
    "tags": []
   },
   "outputs": [],
   "source": [
    "# del bert_simple_clf\n",
    "# del bert_model\n",
    "# del optimizer\n",
    "# del criterion"
   ]
  },
  {
   "cell_type": "markdown",
   "id": "b12026a0",
   "metadata": {
    "id": "dxjDmdljd5D9",
    "papermill": {
     "duration": 0.037323,
     "end_time": "2024-04-19T12:42:57.509272",
     "exception": false,
     "start_time": "2024-04-19T12:42:57.471949",
     "status": "completed"
    },
    "tags": []
   },
   "source": [
    "## Linearized graph baseline"
   ]
  },
  {
   "cell_type": "code",
   "execution_count": 35,
   "id": "56c5e2c4",
   "metadata": {
    "execution": {
     "iopub.execute_input": "2024-04-19T12:42:57.579571Z",
     "iopub.status.busy": "2024-04-19T12:42:57.579207Z",
     "iopub.status.idle": "2024-04-19T12:42:57.583598Z",
     "shell.execute_reply": "2024-04-19T12:42:57.582602Z"
    },
    "id": "_IjjZp1kXR7Y",
    "outputId": "aaab1161-47b4-4830-b8ee-ad9313637566",
    "papermill": {
     "duration": 0.041308,
     "end_time": "2024-04-19T12:42:57.585548",
     "exception": false,
     "start_time": "2024-04-19T12:42:57.544240",
     "status": "completed"
    },
    "tags": []
   },
   "outputs": [],
   "source": [
    "SEP_TOKEN = tokenizer.sep_token"
   ]
  },
  {
   "cell_type": "code",
   "execution_count": 36,
   "id": "27f7f586",
   "metadata": {
    "execution": {
     "iopub.execute_input": "2024-04-19T12:42:57.655658Z",
     "iopub.status.busy": "2024-04-19T12:42:57.655299Z",
     "iopub.status.idle": "2024-04-19T12:42:57.665161Z",
     "shell.execute_reply": "2024-04-19T12:42:57.664135Z"
    },
    "id": "UDtkFDCOa2I4",
    "papermill": {
     "duration": 0.047178,
     "end_time": "2024-04-19T12:42:57.667197",
     "exception": false,
     "start_time": "2024-04-19T12:42:57.620019",
     "status": "completed"
    },
    "tags": []
   },
   "outputs": [],
   "source": [
    "# {'directed': True, 'multigraph': False, 'graph': {},\n",
    "# 'nodes': [{'type': 'QUESTIONS_ENTITY', 'name_': 'Q49', 'id': 0, 'label': 'North America'},\n",
    "# {'type': 'ANSWER_CANDIDATE_ENTITY', 'name_': 'Q194057', 'id': 1, 'label': 'Mount Rainier'}],\n",
    "# 'links': [{'name_': 'P30', 'source': 1, 'target': 0, 'label': 'continent'}]}\n",
    "def linearize_graph(graph_dict):\n",
    "    nodes = sorted((node_dict for node_dict in graph_dict[\"nodes\"]), key=lambda d:d[\"id\"])\n",
    "    for n_id, node_dict in enumerate(nodes):\n",
    "        assert n_id == node_dict[\"id\"]\n",
    "    src_node_id2links = {}\n",
    "    # print(\"graph_dict\", graph_dict)\n",
    "    # print(\"links\", graph_dict[\"links\"])\n",
    "    for link_dict in graph_dict[\"links\"]:\n",
    "        link_src =  link_dict[\"source\"]\n",
    "        if src_node_id2links.get(link_src) is None:\n",
    "            src_node_id2links[link_src] = []\n",
    "        src_node_id2links[link_src].append(link_dict)\n",
    "    graph_s = \"\"\n",
    "    # print(\"src_node_id2links\", src_node_id2links)\n",
    "    for n_id, node_dict in enumerate(nodes):\n",
    "        links = src_node_id2links.get(n_id, list())\n",
    "        start_label = node_dict[\"label\"]\n",
    "        if node_dict[\"type\"] == \"ANSWER_CANDIDATE_ENTITY\":\n",
    "            start_label = f\"{SEP_TOKEN} {start_label} {SEP_TOKEN}\"\n",
    "        for link_dict in links:\n",
    "            target_label = nodes[link_dict[\"target\"]][\"label\"]\n",
    "            if nodes[link_dict[\"target\"]][\"type\"] == \"ANSWER_CANDIDATE_ENTITY\":\n",
    "                target_label = f\"{SEP_TOKEN} {target_label} {SEP_TOKEN}\"\n",
    "            link_s = f\" {start_label}, {link_dict['label']}, {target_label} \"\n",
    "            graph_s += link_s\n",
    "        # graph_s += node_dict[\"label\"]\n",
    "        # print(\"n_id, node_dict\", n_id, node_dict)\n",
    "        # if n_id != len(nodes) - 1:\n",
    "\n",
    "\n",
    "        #     link_label = link[\"label\"]\n",
    "        #     graph_s += link_label\n",
    "    # print('--')\n",
    "    return graph_s"
   ]
  },
  {
   "cell_type": "code",
   "execution_count": 37,
   "id": "81779032",
   "metadata": {
    "execution": {
     "iopub.execute_input": "2024-04-19T12:42:57.735723Z",
     "iopub.status.busy": "2024-04-19T12:42:57.735355Z",
     "iopub.status.idle": "2024-04-19T12:42:58.204451Z",
     "shell.execute_reply": "2024-04-19T12:42:58.203572Z"
    },
    "id": "3MMm3s5Ea2Lr",
    "papermill": {
     "duration": 0.505983,
     "end_time": "2024-04-19T12:42:58.206671",
     "exception": false,
     "start_time": "2024-04-19T12:42:57.700688",
     "status": "completed"
    },
    "tags": []
   },
   "outputs": [
    {
     "name": "stderr",
     "output_type": "stream",
     "text": [
      "/tmp/ipykernel_24/2265556522.py:1: SettingWithCopyWarning: \n",
      "A value is trying to be set on a copy of a slice from a DataFrame.\n",
      "Try using .loc[row_indexer,col_indexer] = value instead\n",
      "\n",
      "See the caveats in the documentation: https://pandas.pydata.org/pandas-docs/stable/user_guide/indexing.html#returning-a-view-versus-a-copy\n",
      "  train_df[\"linearized_graph\"] = train_df[\"graph\"].apply(linearize_graph)\n",
      "/tmp/ipykernel_24/2265556522.py:2: SettingWithCopyWarning: \n",
      "A value is trying to be set on a copy of a slice from a DataFrame.\n",
      "Try using .loc[row_indexer,col_indexer] = value instead\n",
      "\n",
      "See the caveats in the documentation: https://pandas.pydata.org/pandas-docs/stable/user_guide/indexing.html#returning-a-view-versus-a-copy\n",
      "  dev_df[\"linearized_graph\"] = dev_df[\"graph\"].apply(linearize_graph)\n",
      "/tmp/ipykernel_24/2265556522.py:3: SettingWithCopyWarning: \n",
      "A value is trying to be set on a copy of a slice from a DataFrame.\n",
      "Try using .loc[row_indexer,col_indexer] = value instead\n",
      "\n",
      "See the caveats in the documentation: https://pandas.pydata.org/pandas-docs/stable/user_guide/indexing.html#returning-a-view-versus-a-copy\n",
      "  test_df[\"linearized_graph\"] = test_df[\"graph\"].apply(linearize_graph)\n"
     ]
    }
   ],
   "source": [
    "train_df[\"linearized_graph\"] = train_df[\"graph\"].apply(linearize_graph)\n",
    "dev_df[\"linearized_graph\"] = dev_df[\"graph\"].apply(linearize_graph)\n",
    "test_df[\"linearized_graph\"] = test_df[\"graph\"].apply(linearize_graph)"
   ]
  },
  {
   "cell_type": "code",
   "execution_count": 38,
   "id": "3e92be71",
   "metadata": {
    "execution": {
     "iopub.execute_input": "2024-04-19T12:42:58.275490Z",
     "iopub.status.busy": "2024-04-19T12:42:58.275127Z",
     "iopub.status.idle": "2024-04-19T12:42:58.279484Z",
     "shell.execute_reply": "2024-04-19T12:42:58.278588Z"
    },
    "id": "lv48cvNkahzr",
    "papermill": {
     "duration": 0.040754,
     "end_time": "2024-04-19T12:42:58.281393",
     "exception": false,
     "start_time": "2024-04-19T12:42:58.240639",
     "status": "completed"
    },
    "tags": []
   },
   "outputs": [],
   "source": [
    "pd.set_option('display.max_colwidth', None)"
   ]
  },
  {
   "cell_type": "code",
   "execution_count": 39,
   "id": "12cb89ff",
   "metadata": {
    "execution": {
     "iopub.execute_input": "2024-04-19T12:42:58.351426Z",
     "iopub.status.busy": "2024-04-19T12:42:58.350571Z",
     "iopub.status.idle": "2024-04-19T12:42:58.358456Z",
     "shell.execute_reply": "2024-04-19T12:42:58.357511Z"
    },
    "id": "BJh3Sj37a2Nv",
    "outputId": "8bc8b46e-413a-4f7d-d703-87196e5043a7",
    "papermill": {
     "duration": 0.044768,
     "end_time": "2024-04-19T12:42:58.360409",
     "exception": false,
     "start_time": "2024-04-19T12:42:58.315641",
     "status": "completed"
    },
    "tags": []
   },
   "outputs": [
    {
     "data": {
      "text/plain": [
       "0                                                                                                                                                                                                                                                                                                                 Iran, country, Iran  Iran, replaces, Pahlavi dynasty  Pahlavi dynasty, replaced by, Iran  [SEP] Ruhollah Khomeini's return to Iran [SEP], country, Pahlavi dynasty \n",
       "1     Iran, described by source, Jewish Encyclopedia of Brockhaus and Efron  Iran, country, Iran  letter, described by source, Jewish Encyclopedia of Brockhaus and Efron  letter, subclass of, written work  The Book of Healing, country of origin, Iran  The Book of Healing, instance of, written work  [SEP] Ruhollah Khomeini's letter to Mikhail Gorbachev [SEP], instance of, written work  [SEP] Ruhollah Khomeini's letter to Mikhail Gorbachev [SEP], instance of, letter \n",
       "2                                                                                                                                                                                                                                                                                                                                               Iran, country, Iran  Iran, head of state, [SEP] Ruhollah Khomeini [SEP]  [SEP] Ruhollah Khomeini [SEP], country of citizenship, Iran \n",
       "3                                                                                                                                                                                                                                      Iran, country, Iran  [SEP] Office of the Supreme Leader of Iran [SEP], different from, Imam Khomeini Hussainiya  Imam Khomeini Hussainiya, country, Iran  Imam Khomeini Hussainiya, part of, [SEP] Office of the Supreme Leader of Iran [SEP] \n",
       "4                                                                                                                                                                                                                         Iran, country, Iran  [SEP] Mohammad Reza Pahlavi and Soraya [SEP], has part(s), Soraya Esfandiari-Bakhtiari  Soraya Esfandiari-Bakhtiari, country of citizenship, Iran  Soraya Esfandiari-Bakhtiari, part of, [SEP] Mohammad Reza Pahlavi and Soraya [SEP] \n",
       "Name: linearized_graph, dtype: object"
      ]
     },
     "execution_count": 39,
     "metadata": {},
     "output_type": "execute_result"
    }
   ],
   "source": [
    "train_df[\"linearized_graph\"].head()"
   ]
  },
  {
   "cell_type": "code",
   "execution_count": 40,
   "id": "6f688196",
   "metadata": {
    "execution": {
     "iopub.execute_input": "2024-04-19T12:42:58.430009Z",
     "iopub.status.busy": "2024-04-19T12:42:58.429182Z",
     "iopub.status.idle": "2024-04-19T12:42:58.436446Z",
     "shell.execute_reply": "2024-04-19T12:42:58.435603Z"
    },
    "id": "bjkPcQVMc45f",
    "outputId": "e61bf9a5-d0c3-4bc2-dc4c-3ae7438465c0",
    "papermill": {
     "duration": 0.044901,
     "end_time": "2024-04-19T12:42:58.438803",
     "exception": false,
     "start_time": "2024-04-19T12:42:58.393902",
     "status": "completed"
    },
    "tags": []
   },
   "outputs": [
    {
     "data": {
      "text/plain": [
       "259                                                                                                                                                                                                                                                                             United States, country, United States  [SEP] Truman Capote [SEP], country of citizenship, United States  To Kill a Mockingbird, country of origin, United States \n",
       "260                                                                                                                                                                                                                                United States, country, United States  National Gallery of Art, country, United States  To Kill a Mockingbird, country of origin, United States  [SEP] Truman Capote [SEP], location, National Gallery of Art \n",
       "261                                                                                                                                                                                                                                                                            United States, country, United States  [SEP] J. D. Salinger [SEP], country of citizenship, United States  To Kill a Mockingbird, country of origin, United States \n",
       "262                                                                                                                                                                                                                              United States, country, United States  J. D. Salinger, country of citizenship, United States  To Kill a Mockingbird, country of origin, United States  [SEP] J. D. Salinger [SEP], main subject, J. D. Salinger \n",
       "263     United States, country, United States  Harvard University, country, United States  Harper Lee, country of citizenship, United States  Harper Lee, instance of, human  Harper Lee, notable work, To Kill a Mockingbird  To Kill a Mockingbird, country of origin, United States  To Kill a Mockingbird, author, Harper Lee  [SEP] Harper Lee Kaye [SEP], instance of, human  [SEP] Harper Lee Kaye [SEP], educated at, Harvard University \n",
       "Name: linearized_graph, dtype: object"
      ]
     },
     "execution_count": 40,
     "metadata": {},
     "output_type": "execute_result"
    }
   ],
   "source": [
    "dev_df[\"linearized_graph\"].head()"
   ]
  },
  {
   "cell_type": "code",
   "execution_count": 41,
   "id": "847a2e00",
   "metadata": {
    "execution": {
     "iopub.execute_input": "2024-04-19T12:42:58.510127Z",
     "iopub.status.busy": "2024-04-19T12:42:58.509758Z",
     "iopub.status.idle": "2024-04-19T12:42:58.516914Z",
     "shell.execute_reply": "2024-04-19T12:42:58.516021Z"
    },
    "id": "PJ1_Hvtic48H",
    "outputId": "ab22a668-8060-4603-cc48-cda45de8dd5b",
    "papermill": {
     "duration": 0.044205,
     "end_time": "2024-04-19T12:42:58.519245",
     "exception": false,
     "start_time": "2024-04-19T12:42:58.475040",
     "status": "completed"
    },
    "tags": []
   },
   "outputs": [
    {
     "data": {
      "text/plain": [
       "11                                                                                                        [SEP] Yogi Berra [SEP], league, Major League Baseball \n",
       "12     United States, country, United States  Major League Baseball, country, United States  [SEP] Tony Gwynn, Jr. [SEP], country of citizenship, United States \n",
       "13                                                                                                    [SEP] Roy Campanella [SEP], league, Major League Baseball \n",
       "14                                                                                                     [SEP] Roger Clemens [SEP], league, Major League Baseball \n",
       "15                                                                                                     [SEP] Mickey Mantle [SEP], league, Major League Baseball \n",
       "Name: linearized_graph, dtype: object"
      ]
     },
     "execution_count": 41,
     "metadata": {},
     "output_type": "execute_result"
    }
   ],
   "source": [
    "test_df[\"linearized_graph\"].head()"
   ]
  },
  {
   "cell_type": "code",
   "execution_count": 42,
   "id": "aad16137",
   "metadata": {
    "execution": {
     "iopub.execute_input": "2024-04-19T12:42:58.591718Z",
     "iopub.status.busy": "2024-04-19T12:42:58.590839Z",
     "iopub.status.idle": "2024-04-19T12:42:58.999287Z",
     "shell.execute_reply": "2024-04-19T12:42:58.998152Z"
    },
    "id": "_9QjwGmDc4-o",
    "outputId": "049157d2-0a3f-4e45-af08-eb9397a4d2ed",
    "papermill": {
     "duration": 0.445549,
     "end_time": "2024-04-19T12:42:59.001409",
     "exception": false,
     "start_time": "2024-04-19T12:42:58.555860",
     "status": "completed"
    },
    "tags": []
   },
   "outputs": [
    {
     "name": "stdout",
     "output_type": "stream",
     "text": [
      "# Trainable params:  10794624\n"
     ]
    }
   ],
   "source": [
    "model_name=\"sentence-transformers/all-MiniLM-L6-v2\"\n",
    "\n",
    "tokenizer = AutoTokenizer.from_pretrained(model_name)\n",
    "bert_model = AutoModel.from_pretrained(model_name)\n",
    "\n",
    "freeze_embeddings = True\n",
    "if freeze_embeddings:\n",
    "    for param in bert_model.embeddings.parameters():\n",
    "        param.requires_grad = False\n",
    "\n",
    "# freeze_layer_count = 5\n",
    "# if freeze_layer_count > 0:\n",
    "#     for layer in bert_model.encoder.layer[:freeze_layer_count]:\n",
    "#         for param in layer.parameters():\n",
    "#             param.requires_grad = False\n",
    "\n",
    "print(\"# Trainable params: \", sum(p.numel() for p in bert_model.parameters() if p.requires_grad))"
   ]
  },
  {
   "cell_type": "code",
   "execution_count": 43,
   "id": "d50b71a9",
   "metadata": {
    "execution": {
     "iopub.execute_input": "2024-04-19T12:42:59.072181Z",
     "iopub.status.busy": "2024-04-19T12:42:59.071796Z",
     "iopub.status.idle": "2024-04-19T12:43:18.892484Z",
     "shell.execute_reply": "2024-04-19T12:43:18.891452Z"
    },
    "id": "IMAj9xH8eOPI",
    "papermill": {
     "duration": 19.859084,
     "end_time": "2024-04-19T12:43:18.894860",
     "exception": false,
     "start_time": "2024-04-19T12:42:59.035776",
     "status": "completed"
    },
    "tags": []
   },
   "outputs": [],
   "source": [
    "max_length = 128\n",
    "train_dataset = QuestionAnswerDataset(train_df, tokenizer=tokenizer, max_length=max_length, context_key=\"linearized_graph\",\n",
    "                                      tokenizer_truncation=\"only_second\")\n",
    "dev_dataset = QuestionAnswerDataset(dev_df, tokenizer=tokenizer, max_length=max_length, context_key=\"linearized_graph\",\n",
    "                                    tokenizer_truncation=\"only_second\")\n",
    "test_dataset = QuestionAnswerDataset(test_df, tokenizer=tokenizer, max_length=max_length, context_key=\"linearized_graph\",\n",
    "                                     tokenizer_truncation=\"only_second\")"
   ]
  },
  {
   "cell_type": "code",
   "execution_count": 44,
   "id": "52ae5485",
   "metadata": {
    "execution": {
     "iopub.execute_input": "2024-04-19T12:43:18.968138Z",
     "iopub.status.busy": "2024-04-19T12:43:18.967727Z",
     "iopub.status.idle": "2024-04-19T12:43:19.447575Z",
     "shell.execute_reply": "2024-04-19T12:43:19.446721Z"
    },
    "id": "UyovLTaleOPJ",
    "papermill": {
     "duration": 0.519343,
     "end_time": "2024-04-19T12:43:19.450068",
     "exception": false,
     "start_time": "2024-04-19T12:43:18.930725",
     "status": "completed"
    },
    "tags": []
   },
   "outputs": [],
   "source": [
    "batch_size = 64\n",
    "num_workers = 0\n",
    "\n",
    "train_loader = torch.utils.data.DataLoader(\n",
    "    train_dataset, batch_size=batch_size, num_workers=num_workers, shuffle=True, drop_last=True,\n",
    ")\n",
    "dev_loader = torch.utils.data.DataLoader(\n",
    "    dev_dataset, batch_size=batch_size, num_workers=num_workers, shuffle=False, drop_last=False,\n",
    ")\n",
    "test_loader = torch.utils.data.DataLoader(\n",
    "    test_dataset, batch_size=batch_size, num_workers=num_workers, shuffle=False, drop_last=False,\n",
    ")"
   ]
  },
  {
   "cell_type": "code",
   "execution_count": null,
   "id": "9ba429f2",
   "metadata": {
    "id": "IsK3zQ0AeN-s",
    "papermill": {
     "duration": 0.036322,
     "end_time": "2024-04-19T12:43:19.523874",
     "exception": false,
     "start_time": "2024-04-19T12:43:19.487552",
     "status": "completed"
    },
    "tags": []
   },
   "outputs": [],
   "source": []
  },
  {
   "cell_type": "code",
   "execution_count": 45,
   "id": "64db99bc",
   "metadata": {
    "execution": {
     "iopub.execute_input": "2024-04-19T12:43:19.599185Z",
     "iopub.status.busy": "2024-04-19T12:43:19.598423Z",
     "iopub.status.idle": "2024-04-19T12:43:19.602823Z",
     "shell.execute_reply": "2024-04-19T12:43:19.601940Z"
    },
    "id": "8-lTz-GTebQr",
    "papermill": {
     "duration": 0.044172,
     "end_time": "2024-04-19T12:43:19.604748",
     "exception": false,
     "start_time": "2024-04-19T12:43:19.560576",
     "status": "completed"
    },
    "tags": []
   },
   "outputs": [],
   "source": [
    "N_EPOCHS = 40\n",
    "DROPOUT = 0.2"
   ]
  },
  {
   "cell_type": "code",
   "execution_count": 46,
   "id": "e3347147",
   "metadata": {
    "execution": {
     "iopub.execute_input": "2024-04-19T12:43:19.679207Z",
     "iopub.status.busy": "2024-04-19T12:43:19.678771Z",
     "iopub.status.idle": "2024-04-19T12:43:19.718612Z",
     "shell.execute_reply": "2024-04-19T12:43:19.717727Z"
    },
    "id": "uEc_HDseebQ3",
    "papermill": {
     "duration": 0.08,
     "end_time": "2024-04-19T12:43:19.720957",
     "exception": false,
     "start_time": "2024-04-19T12:43:19.640957",
     "status": "completed"
    },
    "tags": []
   },
   "outputs": [],
   "source": [
    "bert_linearized_graph_clf = BertSimpleClassifier(bert_model, dropout=DROPOUT).to(device)\n",
    "optimizer = optim.Adam(bert_linearized_graph_clf.parameters(), lr=3e-5)\n",
    "criterion = nn.BCEWithLogitsLoss()"
   ]
  },
  {
   "cell_type": "code",
   "execution_count": 47,
   "id": "bfe4becd",
   "metadata": {
    "execution": {
     "iopub.execute_input": "2024-04-19T12:43:19.793892Z",
     "iopub.status.busy": "2024-04-19T12:43:19.793543Z",
     "iopub.status.idle": "2024-04-19T13:17:03.519960Z",
     "shell.execute_reply": "2024-04-19T13:17:03.518977Z"
    },
    "id": "Qh1GJ_CvebQ3",
    "outputId": "6518c45a-e1b5-4e9e-9969-7baa6ba444ad",
    "papermill": {
     "duration": 2023.766129,
     "end_time": "2024-04-19T13:17:03.523309",
     "exception": false,
     "start_time": "2024-04-19T12:43:19.757180",
     "status": "completed"
    },
    "tags": []
   },
   "outputs": [
    {
     "data": {
      "image/png": "[encoded data removed]",
      "text/plain": [
       "<Figure size 1200x800 with 2 Axes>"
      ]
     },
     "metadata": {},
     "output_type": "display_data"
    },
    {
     "name": "stdout",
     "output_type": "stream",
     "text": [
      "Epoch: 40 | Time: 0m 50s\n",
      "\tTrain Loss: 0.015\n",
      "\t Val. Loss: 0.361 |  Val. F1: 0.695\n"
     ]
    }
   ],
   "source": [
    "train_evaluate(bert_linearized_graph_clf, train_loader, dev_loader, optimizer,\n",
    "               criterion, N_EPOCHS, \"bert_linearized_graph_clf\", device)"
   ]
  },
  {
   "cell_type": "code",
   "execution_count": 48,
   "id": "ae3dee75",
   "metadata": {
    "execution": {
     "iopub.execute_input": "2024-04-19T13:17:03.594868Z",
     "iopub.status.busy": "2024-04-19T13:17:03.594172Z",
     "iopub.status.idle": "2024-04-19T13:17:03.681601Z",
     "shell.execute_reply": "2024-04-19T13:17:03.680599Z"
    },
    "id": "bkh2ONAJebQ4",
    "outputId": "3d8b0cd4-5777-4122-aeb0-58926c09ca9a",
    "papermill": {
     "duration": 0.125054,
     "end_time": "2024-04-19T13:17:03.683667",
     "exception": false,
     "start_time": "2024-04-19T13:17:03.558613",
     "status": "completed"
    },
    "tags": []
   },
   "outputs": [
    {
     "data": {
      "text/plain": [
       "<All keys matched successfully>"
      ]
     },
     "execution_count": 48,
     "metadata": {},
     "output_type": "execute_result"
    }
   ],
   "source": [
    "bert_linearized_graph_clf.load_state_dict(torch.load('best-val-bert_linearized_graph_clf.pt'))"
   ]
  },
  {
   "cell_type": "markdown",
   "id": "d8372353",
   "metadata": {
    "id": "4snZM3rnBRTJ",
    "papermill": {
     "duration": 0.03472,
     "end_time": "2024-04-19T13:17:03.754760",
     "exception": false,
     "start_time": "2024-04-19T13:17:03.720040",
     "status": "completed"
    },
    "tags": []
   },
   "source": [
    "### Evaluation on dev set"
   ]
  },
  {
   "cell_type": "code",
   "execution_count": 49,
   "id": "5a8879a2",
   "metadata": {
    "execution": {
     "iopub.execute_input": "2024-04-19T13:17:03.827477Z",
     "iopub.status.busy": "2024-04-19T13:17:03.827142Z",
     "iopub.status.idle": "2024-04-19T13:17:05.677178Z",
     "shell.execute_reply": "2024-04-19T13:17:05.675852Z"
    },
    "id": "XxzgmftOebQ4",
    "outputId": "d4263480-9bd0-44a3-a393-091609e4734d",
    "papermill": {
     "duration": 1.888382,
     "end_time": "2024-04-19T13:17:05.679291",
     "exception": false,
     "start_time": "2024-04-19T13:17:03.790909",
     "status": "completed"
    },
    "tags": []
   },
   "outputs": [
    {
     "name": "stdout",
     "output_type": "stream",
     "text": [
      "0.7942386831275721,0.6245954692556634,0.6992753623188406\n"
     ]
    }
   ],
   "source": [
    "true_labels, pred_labels = predict(bert_linearized_graph_clf, dev_loader, device)\n",
    "print(f\"{precision_score(true_labels, pred_labels)},{recall_score(true_labels, pred_labels)},{f1_score(true_labels, pred_labels)}\")"
   ]
  },
  {
   "cell_type": "markdown",
   "id": "7a707286",
   "metadata": {
    "id": "Kn7BLj4JBQhh",
    "papermill": {
     "duration": 0.035213,
     "end_time": "2024-04-19T13:17:05.750443",
     "exception": false,
     "start_time": "2024-04-19T13:17:05.715230",
     "status": "completed"
    },
    "tags": []
   },
   "source": [
    "### Evaluation on test set"
   ]
  },
  {
   "cell_type": "code",
   "execution_count": 50,
   "id": "815e86c4",
   "metadata": {
    "execution": {
     "iopub.execute_input": "2024-04-19T13:17:05.821735Z",
     "iopub.status.busy": "2024-04-19T13:17:05.821403Z",
     "iopub.status.idle": "2024-04-19T13:17:10.349751Z",
     "shell.execute_reply": "2024-04-19T13:17:10.348711Z"
    },
    "id": "bS15rJwBebQ4",
    "outputId": "42bb2da7-36b0-424d-acad-83c4058493ea",
    "papermill": {
     "duration": 4.566459,
     "end_time": "2024-04-19T13:17:10.352033",
     "exception": false,
     "start_time": "2024-04-19T13:17:05.785574",
     "status": "completed"
    },
    "tags": []
   },
   "outputs": [
    {
     "name": "stdout",
     "output_type": "stream",
     "text": [
      "0.7183098591549296,0.5382585751978892,0.6153846153846154\n"
     ]
    }
   ],
   "source": [
    "true_labels, pred_labels = predict(bert_linearized_graph_clf, test_loader, device)\n",
    "print(f\"{precision_score(true_labels, pred_labels)},{recall_score(true_labels, pred_labels)},{f1_score(true_labels, pred_labels)}\")"
   ]
  },
  {
   "cell_type": "code",
   "execution_count": 51,
   "id": "79b3615b",
   "metadata": {
    "execution": {
     "iopub.execute_input": "2024-04-19T13:17:10.424994Z",
     "iopub.status.busy": "2024-04-19T13:17:10.424674Z",
     "iopub.status.idle": "2024-04-19T13:17:10.428876Z",
     "shell.execute_reply": "2024-04-19T13:17:10.428004Z"
    },
    "id": "w3KCyZb3a2aA",
    "papermill": {
     "duration": 0.042642,
     "end_time": "2024-04-19T13:17:10.430785",
     "exception": false,
     "start_time": "2024-04-19T13:17:10.388143",
     "status": "completed"
    },
    "tags": []
   },
   "outputs": [],
   "source": [
    "assert len(true_labels) == len(pred_labels)"
   ]
  },
  {
   "cell_type": "code",
   "execution_count": 52,
   "id": "92d36d43",
   "metadata": {
    "execution": {
     "iopub.execute_input": "2024-04-19T13:17:10.503224Z",
     "iopub.status.busy": "2024-04-19T13:17:10.502920Z",
     "iopub.status.idle": "2024-04-19T13:17:10.535630Z",
     "shell.execute_reply": "2024-04-19T13:17:10.534748Z"
    },
    "id": "dN-7a23ea2cd",
    "papermill": {
     "duration": 0.071326,
     "end_time": "2024-04-19T13:17:10.537427",
     "exception": false,
     "start_time": "2024-04-19T13:17:10.466101",
     "status": "completed"
    },
    "tags": []
   },
   "outputs": [
    {
     "name": "stderr",
     "output_type": "stream",
     "text": [
      "/tmp/ipykernel_24/520965589.py:1: SettingWithCopyWarning: \n",
      "A value is trying to be set on a copy of a slice from a DataFrame.\n",
      "Try using .loc[row_indexer,col_indexer] = value instead\n",
      "\n",
      "See the caveats in the documentation: https://pandas.pydata.org/pandas-docs/stable/user_guide/indexing.html#returning-a-view-versus-a-copy\n",
      "  test_df[\"true_y\"] = true_labels\n",
      "/tmp/ipykernel_24/520965589.py:2: SettingWithCopyWarning: \n",
      "A value is trying to be set on a copy of a slice from a DataFrame.\n",
      "Try using .loc[row_indexer,col_indexer] = value instead\n",
      "\n",
      "See the caveats in the documentation: https://pandas.pydata.org/pandas-docs/stable/user_guide/indexing.html#returning-a-view-versus-a-copy\n",
      "  test_df[\"prediction\"] = pred_labels\n"
     ]
    }
   ],
   "source": [
    "test_df[\"true_y\"] = true_labels\n",
    "test_df[\"prediction\"] = pred_labels\n"
   ]
  },
  {
   "cell_type": "code",
   "execution_count": 53,
   "id": "3a6347c6",
   "metadata": {
    "execution": {
     "iopub.execute_input": "2024-04-19T13:17:10.609556Z",
     "iopub.status.busy": "2024-04-19T13:17:10.608859Z",
     "iopub.status.idle": "2024-04-19T13:17:10.636704Z",
     "shell.execute_reply": "2024-04-19T13:17:10.635853Z"
    },
    "id": "eL54btd75U63",
    "outputId": "cafa5165-3d73-4b30-b0bf-f070278899ae",
    "papermill": {
     "duration": 0.065784,
     "end_time": "2024-04-19T13:17:10.638527",
     "exception": false,
     "start_time": "2024-04-19T13:17:10.572743",
     "status": "completed"
    },
    "tags": []
   },
   "outputs": [
    {
     "data": {
      "text/html": [
       "<div>\n",
       "<style scoped>\n",
       "    .dataframe tbody tr th:only-of-type {\n",
       "        vertical-align: middle;\n",
       "    }\n",
       "\n",
       "    .dataframe tbody tr th {\n",
       "        vertical-align: top;\n",
       "    }\n",
       "\n",
       "    .dataframe thead th {\n",
       "        text-align: right;\n",
       "    }\n",
       "</style>\n",
       "<table border=\"1\" class=\"dataframe\">\n",
       "  <thead>\n",
       "    <tr style=\"text-align: right;\">\n",
       "      <th></th>\n",
       "      <th>sample_id</th>\n",
       "      <th>question</th>\n",
       "      <th>questionEntity</th>\n",
       "      <th>answerEntity</th>\n",
       "      <th>groundTruthAnswerEntity</th>\n",
       "      <th>answerEntityId</th>\n",
       "      <th>questionEntityId</th>\n",
       "      <th>groundTruthAnswerEntityId</th>\n",
       "      <th>correct</th>\n",
       "      <th>graph</th>\n",
       "      <th>label</th>\n",
       "      <th>true_y</th>\n",
       "      <th>prediction</th>\n",
       "      <th>linearized_graph</th>\n",
       "    </tr>\n",
       "  </thead>\n",
       "  <tbody>\n",
       "    <tr>\n",
       "      <th>11</th>\n",
       "      <td>11</td>\n",
       "      <td>Whose is the oldest MLB player to hit a home run?</td>\n",
       "      <td>Major League Baseball</td>\n",
       "      <td>Yogi Berra</td>\n",
       "      <td>Julio Franco</td>\n",
       "      <td>Q367566</td>\n",
       "      <td>Q1163715</td>\n",
       "      <td>Q487717</td>\n",
       "      <td>False</td>\n",
       "      <td>{'nodes': [{'type': 'QUESTIONS_ENTITY', 'name_': 'Q1163715', 'id': 0, 'label': 'Major League Baseball'}, {'type': 'ANSWER_CANDIDATE_ENTITY', 'name_': 'Q367566', 'id': 1, 'label': 'Yogi Berra'}], 'links': [{'name_': 'P118', 'source': 1, 'target': 0, 'label': 'league'}]}</td>\n",
       "      <td>0.0</td>\n",
       "      <td>0.0</td>\n",
       "      <td>0</td>\n",
       "      <td>[SEP] Yogi Berra [SEP], league, Major League Baseball</td>\n",
       "    </tr>\n",
       "    <tr>\n",
       "      <th>12</th>\n",
       "      <td>12</td>\n",
       "      <td>Whose is the oldest MLB player to hit a home run?</td>\n",
       "      <td>Major League Baseball</td>\n",
       "      <td>Tony Gwynn, Jr.</td>\n",
       "      <td>Julio Franco</td>\n",
       "      <td>Q3531782</td>\n",
       "      <td>Q1163715</td>\n",
       "      <td>Q487717</td>\n",
       "      <td>False</td>\n",
       "      <td>{'nodes': [{'type': 'INTERNAL', 'name_': 'Q30', 'id': 0, 'label': 'United States'}, {'type': 'QUESTIONS_ENTITY', 'name_': 'Q1163715', 'id': 1, 'label': 'Major League Baseball'}, {'type': 'ANSWER_CANDIDATE_ENTITY', 'name_': 'Q3531782', 'id': 2, 'label': 'Tony Gwynn, Jr.'}], 'links': [{'name_': 'P17', 'source': 0, 'target': 0, 'label': 'country'}, {'name_': 'P17', 'source': 1, 'target': 0, 'label': 'country'}, {'name_': 'P27', 'source': 2, 'target': 0, 'label': 'country of citizenship'}]}</td>\n",
       "      <td>0.0</td>\n",
       "      <td>0.0</td>\n",
       "      <td>0</td>\n",
       "      <td>United States, country, United States  Major League Baseball, country, United States  [SEP] Tony Gwynn, Jr. [SEP], country of citizenship, United States</td>\n",
       "    </tr>\n",
       "    <tr>\n",
       "      <th>13</th>\n",
       "      <td>13</td>\n",
       "      <td>Whose is the oldest MLB player to hit a home run?</td>\n",
       "      <td>Major League Baseball</td>\n",
       "      <td>Roy Campanella</td>\n",
       "      <td>Julio Franco</td>\n",
       "      <td>Q735795</td>\n",
       "      <td>Q1163715</td>\n",
       "      <td>Q487717</td>\n",
       "      <td>False</td>\n",
       "      <td>{'nodes': [{'type': 'QUESTIONS_ENTITY', 'name_': 'Q1163715', 'id': 0, 'label': 'Major League Baseball'}, {'type': 'ANSWER_CANDIDATE_ENTITY', 'name_': 'Q735795', 'id': 1, 'label': 'Roy Campanella'}], 'links': [{'name_': 'P118', 'source': 1, 'target': 0, 'label': 'league'}]}</td>\n",
       "      <td>0.0</td>\n",
       "      <td>0.0</td>\n",
       "      <td>1</td>\n",
       "      <td>[SEP] Roy Campanella [SEP], league, Major League Baseball</td>\n",
       "    </tr>\n",
       "    <tr>\n",
       "      <th>14</th>\n",
       "      <td>14</td>\n",
       "      <td>Whose is the oldest MLB player to hit a home run?</td>\n",
       "      <td>Major League Baseball</td>\n",
       "      <td>Roger Clemens</td>\n",
       "      <td>Julio Franco</td>\n",
       "      <td>Q473208</td>\n",
       "      <td>Q1163715</td>\n",
       "      <td>Q487717</td>\n",
       "      <td>False</td>\n",
       "      <td>{'nodes': [{'type': 'QUESTIONS_ENTITY', 'name_': 'Q1163715', 'id': 0, 'label': 'Major League Baseball'}, {'type': 'ANSWER_CANDIDATE_ENTITY', 'name_': 'Q473208', 'id': 1, 'label': 'Roger Clemens'}], 'links': [{'name_': 'P118', 'source': 1, 'target': 0, 'label': 'league'}]}</td>\n",
       "      <td>0.0</td>\n",
       "      <td>0.0</td>\n",
       "      <td>0</td>\n",
       "      <td>[SEP] Roger Clemens [SEP], league, Major League Baseball</td>\n",
       "    </tr>\n",
       "    <tr>\n",
       "      <th>15</th>\n",
       "      <td>15</td>\n",
       "      <td>Whose is the oldest MLB player to hit a home run?</td>\n",
       "      <td>Major League Baseball</td>\n",
       "      <td>Mickey Mantle</td>\n",
       "      <td>Julio Franco</td>\n",
       "      <td>Q345004</td>\n",
       "      <td>Q1163715</td>\n",
       "      <td>Q487717</td>\n",
       "      <td>False</td>\n",
       "      <td>{'nodes': [{'type': 'QUESTIONS_ENTITY', 'name_': 'Q1163715', 'id': 0, 'label': 'Major League Baseball'}, {'type': 'ANSWER_CANDIDATE_ENTITY', 'name_': 'Q345004', 'id': 1, 'label': 'Mickey Mantle'}], 'links': [{'name_': 'P118', 'source': 1, 'target': 0, 'label': 'league'}]}</td>\n",
       "      <td>0.0</td>\n",
       "      <td>0.0</td>\n",
       "      <td>0</td>\n",
       "      <td>[SEP] Mickey Mantle [SEP], league, Major League Baseball</td>\n",
       "    </tr>\n",
       "  </tbody>\n",
       "</table>\n",
       "</div>"
      ],
      "text/plain": [
       "    sample_id                                           question  \\\n",
       "11         11  Whose is the oldest MLB player to hit a home run?   \n",
       "12         12  Whose is the oldest MLB player to hit a home run?   \n",
       "13         13  Whose is the oldest MLB player to hit a home run?   \n",
       "14         14  Whose is the oldest MLB player to hit a home run?   \n",
       "15         15  Whose is the oldest MLB player to hit a home run?   \n",
       "\n",
       "           questionEntity     answerEntity groundTruthAnswerEntity  \\\n",
       "11  Major League Baseball       Yogi Berra            Julio Franco   \n",
       "12  Major League Baseball  Tony Gwynn, Jr.            Julio Franco   \n",
       "13  Major League Baseball   Roy Campanella            Julio Franco   \n",
       "14  Major League Baseball    Roger Clemens            Julio Franco   \n",
       "15  Major League Baseball    Mickey Mantle            Julio Franco   \n",
       "\n",
       "   answerEntityId questionEntityId groundTruthAnswerEntityId  correct  \\\n",
       "11        Q367566         Q1163715                   Q487717    False   \n",
       "12       Q3531782         Q1163715                   Q487717    False   \n",
       "13        Q735795         Q1163715                   Q487717    False   \n",
       "14        Q473208         Q1163715                   Q487717    False   \n",
       "15        Q345004         Q1163715                   Q487717    False   \n",
       "\n",
       "                                                                                                                                                                                                                                                                                                                                                                                                                                                                                                          graph  \\\n",
       "11                                                                                                                                                                                                                                {'nodes': [{'type': 'QUESTIONS_ENTITY', 'name_': 'Q1163715', 'id': 0, 'label': 'Major League Baseball'}, {'type': 'ANSWER_CANDIDATE_ENTITY', 'name_': 'Q367566', 'id': 1, 'label': 'Yogi Berra'}], 'links': [{'name_': 'P118', 'source': 1, 'target': 0, 'label': 'league'}]}   \n",
       "12  {'nodes': [{'type': 'INTERNAL', 'name_': 'Q30', 'id': 0, 'label': 'United States'}, {'type': 'QUESTIONS_ENTITY', 'name_': 'Q1163715', 'id': 1, 'label': 'Major League Baseball'}, {'type': 'ANSWER_CANDIDATE_ENTITY', 'name_': 'Q3531782', 'id': 2, 'label': 'Tony Gwynn, Jr.'}], 'links': [{'name_': 'P17', 'source': 0, 'target': 0, 'label': 'country'}, {'name_': 'P17', 'source': 1, 'target': 0, 'label': 'country'}, {'name_': 'P27', 'source': 2, 'target': 0, 'label': 'country of citizenship'}]}   \n",
       "13                                                                                                                                                                                                                            {'nodes': [{'type': 'QUESTIONS_ENTITY', 'name_': 'Q1163715', 'id': 0, 'label': 'Major League Baseball'}, {'type': 'ANSWER_CANDIDATE_ENTITY', 'name_': 'Q735795', 'id': 1, 'label': 'Roy Campanella'}], 'links': [{'name_': 'P118', 'source': 1, 'target': 0, 'label': 'league'}]}   \n",
       "14                                                                                                                                                                                                                             {'nodes': [{'type': 'QUESTIONS_ENTITY', 'name_': 'Q1163715', 'id': 0, 'label': 'Major League Baseball'}, {'type': 'ANSWER_CANDIDATE_ENTITY', 'name_': 'Q473208', 'id': 1, 'label': 'Roger Clemens'}], 'links': [{'name_': 'P118', 'source': 1, 'target': 0, 'label': 'league'}]}   \n",
       "15                                                                                                                                                                                                                             {'nodes': [{'type': 'QUESTIONS_ENTITY', 'name_': 'Q1163715', 'id': 0, 'label': 'Major League Baseball'}, {'type': 'ANSWER_CANDIDATE_ENTITY', 'name_': 'Q345004', 'id': 1, 'label': 'Mickey Mantle'}], 'links': [{'name_': 'P118', 'source': 1, 'target': 0, 'label': 'league'}]}   \n",
       "\n",
       "    label  true_y  prediction  \\\n",
       "11    0.0     0.0           0   \n",
       "12    0.0     0.0           0   \n",
       "13    0.0     0.0           1   \n",
       "14    0.0     0.0           0   \n",
       "15    0.0     0.0           0   \n",
       "\n",
       "                                                                                                                                              linearized_graph  \n",
       "11                                                                                                      [SEP] Yogi Berra [SEP], league, Major League Baseball   \n",
       "12   United States, country, United States  Major League Baseball, country, United States  [SEP] Tony Gwynn, Jr. [SEP], country of citizenship, United States   \n",
       "13                                                                                                  [SEP] Roy Campanella [SEP], league, Major League Baseball   \n",
       "14                                                                                                   [SEP] Roger Clemens [SEP], league, Major League Baseball   \n",
       "15                                                                                                   [SEP] Mickey Mantle [SEP], league, Major League Baseball   "
      ]
     },
     "execution_count": 53,
     "metadata": {},
     "output_type": "execute_result"
    }
   ],
   "source": [
    "test_df.head()"
   ]
  },
  {
   "cell_type": "code",
   "execution_count": 54,
   "id": "e21472c9",
   "metadata": {
    "execution": {
     "iopub.execute_input": "2024-04-19T13:17:10.711906Z",
     "iopub.status.busy": "2024-04-19T13:17:10.711636Z",
     "iopub.status.idle": "2024-04-19T13:17:10.739122Z",
     "shell.execute_reply": "2024-04-19T13:17:10.738284Z"
    },
    "id": "LUUuPMR83_iU",
    "outputId": "65d21e50-6043-466e-a770-b7de49ad35be",
    "papermill": {
     "duration": 0.066936,
     "end_time": "2024-04-19T13:17:10.741585",
     "exception": false,
     "start_time": "2024-04-19T13:17:10.674649",
     "status": "completed"
    },
    "tags": []
   },
   "outputs": [
    {
     "data": {
      "text/html": [
       "<div>\n",
       "<style scoped>\n",
       "    .dataframe tbody tr th:only-of-type {\n",
       "        vertical-align: middle;\n",
       "    }\n",
       "\n",
       "    .dataframe tbody tr th {\n",
       "        vertical-align: top;\n",
       "    }\n",
       "\n",
       "    .dataframe thead th {\n",
       "        text-align: right;\n",
       "    }\n",
       "</style>\n",
       "<table border=\"1\" class=\"dataframe\">\n",
       "  <thead>\n",
       "    <tr style=\"text-align: right;\">\n",
       "      <th></th>\n",
       "      <th>question</th>\n",
       "      <th>answerEntity</th>\n",
       "      <th>groundTruthAnswerEntity</th>\n",
       "      <th>true_y</th>\n",
       "      <th>prediction</th>\n",
       "      <th>label</th>\n",
       "    </tr>\n",
       "  </thead>\n",
       "  <tbody>\n",
       "    <tr>\n",
       "      <th>11</th>\n",
       "      <td>Whose is the oldest MLB player to hit a home run?</td>\n",
       "      <td>Yogi Berra</td>\n",
       "      <td>Julio Franco</td>\n",
       "      <td>0.0</td>\n",
       "      <td>0</td>\n",
       "      <td>0.0</td>\n",
       "    </tr>\n",
       "    <tr>\n",
       "      <th>12</th>\n",
       "      <td>Whose is the oldest MLB player to hit a home run?</td>\n",
       "      <td>Tony Gwynn, Jr.</td>\n",
       "      <td>Julio Franco</td>\n",
       "      <td>0.0</td>\n",
       "      <td>0</td>\n",
       "      <td>0.0</td>\n",
       "    </tr>\n",
       "    <tr>\n",
       "      <th>13</th>\n",
       "      <td>Whose is the oldest MLB player to hit a home run?</td>\n",
       "      <td>Roy Campanella</td>\n",
       "      <td>Julio Franco</td>\n",
       "      <td>0.0</td>\n",
       "      <td>1</td>\n",
       "      <td>0.0</td>\n",
       "    </tr>\n",
       "    <tr>\n",
       "      <th>14</th>\n",
       "      <td>Whose is the oldest MLB player to hit a home run?</td>\n",
       "      <td>Roger Clemens</td>\n",
       "      <td>Julio Franco</td>\n",
       "      <td>0.0</td>\n",
       "      <td>0</td>\n",
       "      <td>0.0</td>\n",
       "    </tr>\n",
       "    <tr>\n",
       "      <th>15</th>\n",
       "      <td>Whose is the oldest MLB player to hit a home run?</td>\n",
       "      <td>Mickey Mantle</td>\n",
       "      <td>Julio Franco</td>\n",
       "      <td>0.0</td>\n",
       "      <td>0</td>\n",
       "      <td>0.0</td>\n",
       "    </tr>\n",
       "    <tr>\n",
       "      <th>16</th>\n",
       "      <td>Whose is the oldest MLB player to hit a home run?</td>\n",
       "      <td>Lou Gehrig</td>\n",
       "      <td>Julio Franco</td>\n",
       "      <td>0.0</td>\n",
       "      <td>0</td>\n",
       "      <td>0.0</td>\n",
       "    </tr>\n",
       "    <tr>\n",
       "      <th>17</th>\n",
       "      <td>Whose is the oldest MLB player to hit a home run?</td>\n",
       "      <td>Julio Franco</td>\n",
       "      <td>Julio Franco</td>\n",
       "      <td>1.0</td>\n",
       "      <td>0</td>\n",
       "      <td>1.0</td>\n",
       "    </tr>\n",
       "    <tr>\n",
       "      <th>18</th>\n",
       "      <td>Whose is the oldest MLB player to hit a home run?</td>\n",
       "      <td>José Bautista</td>\n",
       "      <td>Julio Franco</td>\n",
       "      <td>0.0</td>\n",
       "      <td>0</td>\n",
       "      <td>0.0</td>\n",
       "    </tr>\n",
       "    <tr>\n",
       "      <th>19</th>\n",
       "      <td>Whose is the oldest MLB player to hit a home run?</td>\n",
       "      <td>Hank Greenberg</td>\n",
       "      <td>Julio Franco</td>\n",
       "      <td>0.0</td>\n",
       "      <td>0</td>\n",
       "      <td>0.0</td>\n",
       "    </tr>\n",
       "    <tr>\n",
       "      <th>20</th>\n",
       "      <td>Whose is the oldest MLB player to hit a home run?</td>\n",
       "      <td>Hank Aaron</td>\n",
       "      <td>Julio Franco</td>\n",
       "      <td>0.0</td>\n",
       "      <td>0</td>\n",
       "      <td>0.0</td>\n",
       "    </tr>\n",
       "    <tr>\n",
       "      <th>21</th>\n",
       "      <td>Whose is the oldest MLB player to hit a home run?</td>\n",
       "      <td>Babe Ruth</td>\n",
       "      <td>Julio Franco</td>\n",
       "      <td>0.0</td>\n",
       "      <td>0</td>\n",
       "      <td>0.0</td>\n",
       "    </tr>\n",
       "    <tr>\n",
       "      <th>22</th>\n",
       "      <td>Whose assassination sparked the beginning of World War I?</td>\n",
       "      <td>assassination of Archduke Franz Ferdinand</td>\n",
       "      <td>Archduke Franz Ferdinand</td>\n",
       "      <td>0.0</td>\n",
       "      <td>0</td>\n",
       "      <td>0.0</td>\n",
       "    </tr>\n",
       "    <tr>\n",
       "      <th>23</th>\n",
       "      <td>Whose assassination sparked the beginning of World War I?</td>\n",
       "      <td>Franz-Joseph</td>\n",
       "      <td>Archduke Franz Ferdinand</td>\n",
       "      <td>0.0</td>\n",
       "      <td>0</td>\n",
       "      <td>0.0</td>\n",
       "    </tr>\n",
       "    <tr>\n",
       "      <th>24</th>\n",
       "      <td>Whose assassination sparked the beginning of World War I?</td>\n",
       "      <td>Franz Joseph I of Austria and Empress Elisabeth</td>\n",
       "      <td>Archduke Franz Ferdinand</td>\n",
       "      <td>0.0</td>\n",
       "      <td>0</td>\n",
       "      <td>0.0</td>\n",
       "    </tr>\n",
       "    <tr>\n",
       "      <th>25</th>\n",
       "      <td>Whose assassination sparked the beginning of World War I?</td>\n",
       "      <td>Franz Joseph I of Austria</td>\n",
       "      <td>Archduke Franz Ferdinand</td>\n",
       "      <td>0.0</td>\n",
       "      <td>0</td>\n",
       "      <td>0.0</td>\n",
       "    </tr>\n",
       "    <tr>\n",
       "      <th>26</th>\n",
       "      <td>Whose assassination sparked the beginning of World War I?</td>\n",
       "      <td>Franz Joseph</td>\n",
       "      <td>Archduke Franz Ferdinand</td>\n",
       "      <td>0.0</td>\n",
       "      <td>0</td>\n",
       "      <td>0.0</td>\n",
       "    </tr>\n",
       "    <tr>\n",
       "      <th>27</th>\n",
       "      <td>Whose assassination sparked the beginning of World War I?</td>\n",
       "      <td>Franz Ferdinand</td>\n",
       "      <td>Archduke Franz Ferdinand</td>\n",
       "      <td>0.0</td>\n",
       "      <td>0</td>\n",
       "      <td>0.0</td>\n",
       "    </tr>\n",
       "    <tr>\n",
       "      <th>28</th>\n",
       "      <td>Whose assassination sparked the beginning of World War I?</td>\n",
       "      <td>Emperor Franz Joseph I of Austria</td>\n",
       "      <td>Archduke Franz Ferdinand</td>\n",
       "      <td>0.0</td>\n",
       "      <td>0</td>\n",
       "      <td>0.0</td>\n",
       "    </tr>\n",
       "    <tr>\n",
       "      <th>29</th>\n",
       "      <td>Whose assassination sparked the beginning of World War I?</td>\n",
       "      <td>Emperor Franz Joseph I of Austria</td>\n",
       "      <td>Archduke Franz Ferdinand</td>\n",
       "      <td>0.0</td>\n",
       "      <td>0</td>\n",
       "      <td>0.0</td>\n",
       "    </tr>\n",
       "    <tr>\n",
       "      <th>30</th>\n",
       "      <td>Whose assassination sparked the beginning of World War I?</td>\n",
       "      <td>Archduke Franz Ferdinand car</td>\n",
       "      <td>Archduke Franz Ferdinand</td>\n",
       "      <td>0.0</td>\n",
       "      <td>0</td>\n",
       "      <td>0.0</td>\n",
       "    </tr>\n",
       "    <tr>\n",
       "      <th>31</th>\n",
       "      <td>Whose assassination sparked the beginning of World War I?</td>\n",
       "      <td>Archduke Franz Ferdinand</td>\n",
       "      <td>Archduke Franz Ferdinand</td>\n",
       "      <td>1.0</td>\n",
       "      <td>0</td>\n",
       "      <td>1.0</td>\n",
       "    </tr>\n",
       "    <tr>\n",
       "      <th>65</th>\n",
       "      <td>Who's older, Lady Gaga or Beyoncé?</td>\n",
       "      <td>Queen Latifah</td>\n",
       "      <td>Beyoncé</td>\n",
       "      <td>0.0</td>\n",
       "      <td>0</td>\n",
       "      <td>0.0</td>\n",
       "    </tr>\n",
       "    <tr>\n",
       "      <th>66</th>\n",
       "      <td>Who's older, Lady Gaga or Beyoncé?</td>\n",
       "      <td>Lil Kim Season</td>\n",
       "      <td>Beyoncé</td>\n",
       "      <td>0.0</td>\n",
       "      <td>0</td>\n",
       "      <td>0.0</td>\n",
       "    </tr>\n",
       "    <tr>\n",
       "      <th>67</th>\n",
       "      <td>Who's older, Lady Gaga or Beyoncé?</td>\n",
       "      <td>Lady Gaga</td>\n",
       "      <td>Beyoncé</td>\n",
       "      <td>0.0</td>\n",
       "      <td>0</td>\n",
       "      <td>0.0</td>\n",
       "    </tr>\n",
       "    <tr>\n",
       "      <th>68</th>\n",
       "      <td>Who's older, Lady Gaga or Beyoncé?</td>\n",
       "      <td>Jessy Terrero</td>\n",
       "      <td>Beyoncé</td>\n",
       "      <td>0.0</td>\n",
       "      <td>0</td>\n",
       "      <td>0.0</td>\n",
       "    </tr>\n",
       "    <tr>\n",
       "      <th>69</th>\n",
       "      <td>Who's older, Lady Gaga or Beyoncé?</td>\n",
       "      <td>Jessie J. Rankin</td>\n",
       "      <td>Beyoncé</td>\n",
       "      <td>0.0</td>\n",
       "      <td>0</td>\n",
       "      <td>0.0</td>\n",
       "    </tr>\n",
       "    <tr>\n",
       "      <th>70</th>\n",
       "      <td>Who's older, Lady Gaga or Beyoncé?</td>\n",
       "      <td>Jessie J</td>\n",
       "      <td>Beyoncé</td>\n",
       "      <td>0.0</td>\n",
       "      <td>0</td>\n",
       "      <td>0.0</td>\n",
       "    </tr>\n",
       "    <tr>\n",
       "      <th>71</th>\n",
       "      <td>Who's older, Lady Gaga or Beyoncé?</td>\n",
       "      <td>Gaga</td>\n",
       "      <td>Beyoncé</td>\n",
       "      <td>0.0</td>\n",
       "      <td>0</td>\n",
       "      <td>0.0</td>\n",
       "    </tr>\n",
       "    <tr>\n",
       "      <th>72</th>\n",
       "      <td>Who's older, Lady Gaga or Beyoncé?</td>\n",
       "      <td>Björk</td>\n",
       "      <td>Beyoncé</td>\n",
       "      <td>0.0</td>\n",
       "      <td>0</td>\n",
       "      <td>0.0</td>\n",
       "    </tr>\n",
       "    <tr>\n",
       "      <th>73</th>\n",
       "      <td>Who's older, Lady Gaga or Beyoncé?</td>\n",
       "      <td>Beyoncé studio albums discography</td>\n",
       "      <td>Beyoncé</td>\n",
       "      <td>0.0</td>\n",
       "      <td>0</td>\n",
       "      <td>0.0</td>\n",
       "    </tr>\n",
       "    <tr>\n",
       "      <th>74</th>\n",
       "      <td>Who's older, Lady Gaga or Beyoncé?</td>\n",
       "      <td>Beyoncé</td>\n",
       "      <td>Beyoncé</td>\n",
       "      <td>1.0</td>\n",
       "      <td>1</td>\n",
       "      <td>1.0</td>\n",
       "    </tr>\n",
       "    <tr>\n",
       "      <th>75</th>\n",
       "      <td>Who's older, Lady Gaga or Beyoncé?</td>\n",
       "      <td>Ashley Washington</td>\n",
       "      <td>Beyoncé</td>\n",
       "      <td>0.0</td>\n",
       "      <td>0</td>\n",
       "      <td>0.0</td>\n",
       "    </tr>\n",
       "    <tr>\n",
       "      <th>87</th>\n",
       "      <td>Who wrote the song Karma Police and has a lazy eye?</td>\n",
       "      <td>Timbaland</td>\n",
       "      <td>Thom Yorke</td>\n",
       "      <td>0.0</td>\n",
       "      <td>0</td>\n",
       "      <td>0.0</td>\n",
       "    </tr>\n",
       "    <tr>\n",
       "      <th>88</th>\n",
       "      <td>Who wrote the song Karma Police and has a lazy eye?</td>\n",
       "      <td>Thom Yorke</td>\n",
       "      <td>Thom Yorke</td>\n",
       "      <td>1.0</td>\n",
       "      <td>1</td>\n",
       "      <td>1.0</td>\n",
       "    </tr>\n",
       "    <tr>\n",
       "      <th>89</th>\n",
       "      <td>Who wrote the song Karma Police and has a lazy eye?</td>\n",
       "      <td>Paul McCartney</td>\n",
       "      <td>Thom Yorke</td>\n",
       "      <td>0.0</td>\n",
       "      <td>0</td>\n",
       "      <td>0.0</td>\n",
       "    </tr>\n",
       "    <tr>\n",
       "      <th>90</th>\n",
       "      <td>Who wrote the song Karma Police and has a lazy eye?</td>\n",
       "      <td>Mike Patton</td>\n",
       "      <td>Thom Yorke</td>\n",
       "      <td>0.0</td>\n",
       "      <td>0</td>\n",
       "      <td>0.0</td>\n",
       "    </tr>\n",
       "    <tr>\n",
       "      <th>91</th>\n",
       "      <td>Who wrote the song Karma Police and has a lazy eye?</td>\n",
       "      <td>Jimmy Buffett</td>\n",
       "      <td>Thom Yorke</td>\n",
       "      <td>0.0</td>\n",
       "      <td>0</td>\n",
       "      <td>0.0</td>\n",
       "    </tr>\n",
       "    <tr>\n",
       "      <th>92</th>\n",
       "      <td>Who wrote the song Karma Police and has a lazy eye?</td>\n",
       "      <td>James Blunt</td>\n",
       "      <td>Thom Yorke</td>\n",
       "      <td>0.0</td>\n",
       "      <td>0</td>\n",
       "      <td>0.0</td>\n",
       "    </tr>\n",
       "    <tr>\n",
       "      <th>93</th>\n",
       "      <td>Who wrote the song Karma Police and has a lazy eye?</td>\n",
       "      <td>Ed Sheeran</td>\n",
       "      <td>Thom Yorke</td>\n",
       "      <td>0.0</td>\n",
       "      <td>0</td>\n",
       "      <td>0.0</td>\n",
       "    </tr>\n",
       "    <tr>\n",
       "      <th>94</th>\n",
       "      <td>Who wrote the song Karma Police and has a lazy eye?</td>\n",
       "      <td>Dr. Dre</td>\n",
       "      <td>Thom Yorke</td>\n",
       "      <td>0.0</td>\n",
       "      <td>0</td>\n",
       "      <td>0.0</td>\n",
       "    </tr>\n",
       "    <tr>\n",
       "      <th>95</th>\n",
       "      <td>Who wrote the song Karma Police and has a lazy eye?</td>\n",
       "      <td>Dave Matthews</td>\n",
       "      <td>Thom Yorke</td>\n",
       "      <td>0.0</td>\n",
       "      <td>0</td>\n",
       "      <td>0.0</td>\n",
       "    </tr>\n",
       "    <tr>\n",
       "      <th>96</th>\n",
       "      <td>Who wrote the song Karma Police and has a lazy eye?</td>\n",
       "      <td>Dave Grohl</td>\n",
       "      <td>Thom Yorke</td>\n",
       "      <td>0.0</td>\n",
       "      <td>0</td>\n",
       "      <td>0.0</td>\n",
       "    </tr>\n",
       "    <tr>\n",
       "      <th>97</th>\n",
       "      <td>Who wrote the song Karma Police and has a lazy eye?</td>\n",
       "      <td>DJ Khaled</td>\n",
       "      <td>Thom Yorke</td>\n",
       "      <td>0.0</td>\n",
       "      <td>0</td>\n",
       "      <td>0.0</td>\n",
       "    </tr>\n",
       "    <tr>\n",
       "      <th>142</th>\n",
       "      <td>Who wrote the Russian novel, Petersburg?</td>\n",
       "      <td>Nikolai Gogol</td>\n",
       "      <td>Andrei Bely</td>\n",
       "      <td>0.0</td>\n",
       "      <td>0</td>\n",
       "      <td>0.0</td>\n",
       "    </tr>\n",
       "    <tr>\n",
       "      <th>143</th>\n",
       "      <td>Who wrote the Russian novel, Petersburg?</td>\n",
       "      <td>Leo Tolstoy</td>\n",
       "      <td>Andrei Bely</td>\n",
       "      <td>0.0</td>\n",
       "      <td>0</td>\n",
       "      <td>0.0</td>\n",
       "    </tr>\n",
       "    <tr>\n",
       "      <th>144</th>\n",
       "      <td>Who wrote the Russian novel, Petersburg?</td>\n",
       "      <td>Ivan Turgenev</td>\n",
       "      <td>Andrei Bely</td>\n",
       "      <td>0.0</td>\n",
       "      <td>0</td>\n",
       "      <td>0.0</td>\n",
       "    </tr>\n",
       "    <tr>\n",
       "      <th>145</th>\n",
       "      <td>Who wrote the Russian novel, Petersburg?</td>\n",
       "      <td>Ivan Goncharov</td>\n",
       "      <td>Andrei Bely</td>\n",
       "      <td>0.0</td>\n",
       "      <td>0</td>\n",
       "      <td>0.0</td>\n",
       "    </tr>\n",
       "    <tr>\n",
       "      <th>146</th>\n",
       "      <td>Who wrote the Russian novel, Petersburg?</td>\n",
       "      <td>Fyodor Dostoyevsky bibliography</td>\n",
       "      <td>Andrei Bely</td>\n",
       "      <td>0.0</td>\n",
       "      <td>0</td>\n",
       "      <td>0.0</td>\n",
       "    </tr>\n",
       "    <tr>\n",
       "      <th>147</th>\n",
       "      <td>Who wrote the Russian novel, Petersburg?</td>\n",
       "      <td>Fyodor Dostoevsky: Insight, Faith, and Prophecy</td>\n",
       "      <td>Andrei Bely</td>\n",
       "      <td>0.0</td>\n",
       "      <td>0</td>\n",
       "      <td>0.0</td>\n",
       "    </tr>\n",
       "    <tr>\n",
       "      <th>148</th>\n",
       "      <td>Who wrote the Russian novel, Petersburg?</td>\n",
       "      <td>Dostoyevsky House in Staraya Russa</td>\n",
       "      <td>Andrei Bely</td>\n",
       "      <td>0.0</td>\n",
       "      <td>0</td>\n",
       "      <td>0.0</td>\n",
       "    </tr>\n",
       "  </tbody>\n",
       "</table>\n",
       "</div>"
      ],
      "text/plain": [
       "                                                      question  \\\n",
       "11           Whose is the oldest MLB player to hit a home run?   \n",
       "12           Whose is the oldest MLB player to hit a home run?   \n",
       "13           Whose is the oldest MLB player to hit a home run?   \n",
       "14           Whose is the oldest MLB player to hit a home run?   \n",
       "15           Whose is the oldest MLB player to hit a home run?   \n",
       "16           Whose is the oldest MLB player to hit a home run?   \n",
       "17           Whose is the oldest MLB player to hit a home run?   \n",
       "18           Whose is the oldest MLB player to hit a home run?   \n",
       "19           Whose is the oldest MLB player to hit a home run?   \n",
       "20           Whose is the oldest MLB player to hit a home run?   \n",
       "21           Whose is the oldest MLB player to hit a home run?   \n",
       "22   Whose assassination sparked the beginning of World War I?   \n",
       "23   Whose assassination sparked the beginning of World War I?   \n",
       "24   Whose assassination sparked the beginning of World War I?   \n",
       "25   Whose assassination sparked the beginning of World War I?   \n",
       "26   Whose assassination sparked the beginning of World War I?   \n",
       "27   Whose assassination sparked the beginning of World War I?   \n",
       "28   Whose assassination sparked the beginning of World War I?   \n",
       "29   Whose assassination sparked the beginning of World War I?   \n",
       "30   Whose assassination sparked the beginning of World War I?   \n",
       "31   Whose assassination sparked the beginning of World War I?   \n",
       "65                          Who's older, Lady Gaga or Beyoncé?   \n",
       "66                          Who's older, Lady Gaga or Beyoncé?   \n",
       "67                          Who's older, Lady Gaga or Beyoncé?   \n",
       "68                          Who's older, Lady Gaga or Beyoncé?   \n",
       "69                          Who's older, Lady Gaga or Beyoncé?   \n",
       "70                          Who's older, Lady Gaga or Beyoncé?   \n",
       "71                          Who's older, Lady Gaga or Beyoncé?   \n",
       "72                          Who's older, Lady Gaga or Beyoncé?   \n",
       "73                          Who's older, Lady Gaga or Beyoncé?   \n",
       "74                          Who's older, Lady Gaga or Beyoncé?   \n",
       "75                          Who's older, Lady Gaga or Beyoncé?   \n",
       "87         Who wrote the song Karma Police and has a lazy eye?   \n",
       "88         Who wrote the song Karma Police and has a lazy eye?   \n",
       "89         Who wrote the song Karma Police and has a lazy eye?   \n",
       "90         Who wrote the song Karma Police and has a lazy eye?   \n",
       "91         Who wrote the song Karma Police and has a lazy eye?   \n",
       "92         Who wrote the song Karma Police and has a lazy eye?   \n",
       "93         Who wrote the song Karma Police and has a lazy eye?   \n",
       "94         Who wrote the song Karma Police and has a lazy eye?   \n",
       "95         Who wrote the song Karma Police and has a lazy eye?   \n",
       "96         Who wrote the song Karma Police and has a lazy eye?   \n",
       "97         Who wrote the song Karma Police and has a lazy eye?   \n",
       "142                   Who wrote the Russian novel, Petersburg?   \n",
       "143                   Who wrote the Russian novel, Petersburg?   \n",
       "144                   Who wrote the Russian novel, Petersburg?   \n",
       "145                   Who wrote the Russian novel, Petersburg?   \n",
       "146                   Who wrote the Russian novel, Petersburg?   \n",
       "147                   Who wrote the Russian novel, Petersburg?   \n",
       "148                   Who wrote the Russian novel, Petersburg?   \n",
       "\n",
       "                                        answerEntity  \\\n",
       "11                                        Yogi Berra   \n",
       "12                                   Tony Gwynn, Jr.   \n",
       "13                                    Roy Campanella   \n",
       "14                                     Roger Clemens   \n",
       "15                                     Mickey Mantle   \n",
       "16                                        Lou Gehrig   \n",
       "17                                      Julio Franco   \n",
       "18                                     José Bautista   \n",
       "19                                    Hank Greenberg   \n",
       "20                                        Hank Aaron   \n",
       "21                                         Babe Ruth   \n",
       "22         assassination of Archduke Franz Ferdinand   \n",
       "23                                      Franz-Joseph   \n",
       "24   Franz Joseph I of Austria and Empress Elisabeth   \n",
       "25                         Franz Joseph I of Austria   \n",
       "26                                      Franz Joseph   \n",
       "27                                   Franz Ferdinand   \n",
       "28                 Emperor Franz Joseph I of Austria   \n",
       "29                 Emperor Franz Joseph I of Austria   \n",
       "30                      Archduke Franz Ferdinand car   \n",
       "31                          Archduke Franz Ferdinand   \n",
       "65                                     Queen Latifah   \n",
       "66                                    Lil Kim Season   \n",
       "67                                         Lady Gaga   \n",
       "68                                     Jessy Terrero   \n",
       "69                                  Jessie J. Rankin   \n",
       "70                                          Jessie J   \n",
       "71                                              Gaga   \n",
       "72                                             Björk   \n",
       "73                 Beyoncé studio albums discography   \n",
       "74                                           Beyoncé   \n",
       "75                                 Ashley Washington   \n",
       "87                                         Timbaland   \n",
       "88                                        Thom Yorke   \n",
       "89                                    Paul McCartney   \n",
       "90                                       Mike Patton   \n",
       "91                                     Jimmy Buffett   \n",
       "92                                       James Blunt   \n",
       "93                                        Ed Sheeran   \n",
       "94                                           Dr. Dre   \n",
       "95                                     Dave Matthews   \n",
       "96                                        Dave Grohl   \n",
       "97                                         DJ Khaled   \n",
       "142                                    Nikolai Gogol   \n",
       "143                                      Leo Tolstoy   \n",
       "144                                    Ivan Turgenev   \n",
       "145                                   Ivan Goncharov   \n",
       "146                  Fyodor Dostoyevsky bibliography   \n",
       "147  Fyodor Dostoevsky: Insight, Faith, and Prophecy   \n",
       "148               Dostoyevsky House in Staraya Russa   \n",
       "\n",
       "      groundTruthAnswerEntity  true_y  prediction  label  \n",
       "11               Julio Franco     0.0           0    0.0  \n",
       "12               Julio Franco     0.0           0    0.0  \n",
       "13               Julio Franco     0.0           1    0.0  \n",
       "14               Julio Franco     0.0           0    0.0  \n",
       "15               Julio Franco     0.0           0    0.0  \n",
       "16               Julio Franco     0.0           0    0.0  \n",
       "17               Julio Franco     1.0           0    1.0  \n",
       "18               Julio Franco     0.0           0    0.0  \n",
       "19               Julio Franco     0.0           0    0.0  \n",
       "20               Julio Franco     0.0           0    0.0  \n",
       "21               Julio Franco     0.0           0    0.0  \n",
       "22   Archduke Franz Ferdinand     0.0           0    0.0  \n",
       "23   Archduke Franz Ferdinand     0.0           0    0.0  \n",
       "24   Archduke Franz Ferdinand     0.0           0    0.0  \n",
       "25   Archduke Franz Ferdinand     0.0           0    0.0  \n",
       "26   Archduke Franz Ferdinand     0.0           0    0.0  \n",
       "27   Archduke Franz Ferdinand     0.0           0    0.0  \n",
       "28   Archduke Franz Ferdinand     0.0           0    0.0  \n",
       "29   Archduke Franz Ferdinand     0.0           0    0.0  \n",
       "30   Archduke Franz Ferdinand     0.0           0    0.0  \n",
       "31   Archduke Franz Ferdinand     1.0           0    1.0  \n",
       "65                    Beyoncé     0.0           0    0.0  \n",
       "66                    Beyoncé     0.0           0    0.0  \n",
       "67                    Beyoncé     0.0           0    0.0  \n",
       "68                    Beyoncé     0.0           0    0.0  \n",
       "69                    Beyoncé     0.0           0    0.0  \n",
       "70                    Beyoncé     0.0           0    0.0  \n",
       "71                    Beyoncé     0.0           0    0.0  \n",
       "72                    Beyoncé     0.0           0    0.0  \n",
       "73                    Beyoncé     0.0           0    0.0  \n",
       "74                    Beyoncé     1.0           1    1.0  \n",
       "75                    Beyoncé     0.0           0    0.0  \n",
       "87                 Thom Yorke     0.0           0    0.0  \n",
       "88                 Thom Yorke     1.0           1    1.0  \n",
       "89                 Thom Yorke     0.0           0    0.0  \n",
       "90                 Thom Yorke     0.0           0    0.0  \n",
       "91                 Thom Yorke     0.0           0    0.0  \n",
       "92                 Thom Yorke     0.0           0    0.0  \n",
       "93                 Thom Yorke     0.0           0    0.0  \n",
       "94                 Thom Yorke     0.0           0    0.0  \n",
       "95                 Thom Yorke     0.0           0    0.0  \n",
       "96                 Thom Yorke     0.0           0    0.0  \n",
       "97                 Thom Yorke     0.0           0    0.0  \n",
       "142               Andrei Bely     0.0           0    0.0  \n",
       "143               Andrei Bely     0.0           0    0.0  \n",
       "144               Andrei Bely     0.0           0    0.0  \n",
       "145               Andrei Bely     0.0           0    0.0  \n",
       "146               Andrei Bely     0.0           0    0.0  \n",
       "147               Andrei Bely     0.0           0    0.0  \n",
       "148               Andrei Bely     0.0           0    0.0  "
      ]
     },
     "execution_count": 54,
     "metadata": {},
     "output_type": "execute_result"
    }
   ],
   "source": [
    "test_df[[\"question\", \"answerEntity\", \"groundTruthAnswerEntity\", \"true_y\", \"prediction\", \"label\"]].head(50)"
   ]
  },
  {
   "cell_type": "code",
   "execution_count": 55,
   "id": "c7ff39fe",
   "metadata": {
    "execution": {
     "iopub.execute_input": "2024-04-19T13:17:10.820037Z",
     "iopub.status.busy": "2024-04-19T13:17:10.819735Z",
     "iopub.status.idle": "2024-04-19T13:17:10.834508Z",
     "shell.execute_reply": "2024-04-19T13:17:10.833720Z"
    },
    "id": "LuN1ipIl3_lD",
    "papermill": {
     "duration": 0.054595,
     "end_time": "2024-04-19T13:17:10.836332",
     "exception": false,
     "start_time": "2024-04-19T13:17:10.781737",
     "status": "completed"
    },
    "tags": []
   },
   "outputs": [],
   "source": [
    "test_pred_path = \"test_pred_linearized_graph_baseline.tsv\"\n",
    "test_df[[\"sample_id\", \"prediction\"]].to_csv(test_pred_path, sep='\\t', index=False)"
   ]
  },
  {
   "cell_type": "code",
   "execution_count": null,
   "id": "3998868a",
   "metadata": {
    "id": "KIxxKUiLyUtE",
    "papermill": {
     "duration": 0.0364,
     "end_time": "2024-04-19T13:17:10.909792",
     "exception": false,
     "start_time": "2024-04-19T13:17:10.873392",
     "status": "completed"
    },
    "tags": []
   },
   "outputs": [],
   "source": []
  }
 ],
 "metadata": {
  "accelerator": "GPU",
  "colab": {
   "collapsed_sections": [
    "dxjDmdljd5D9"
   ],
   "gpuType": "T4",
   "provenance": []
  },
  "kaggle": {
   "accelerator": "gpu",
   "dataSources": [],
   "dockerImageVersionId": 30684,
   "isGpuEnabled": true,
   "isInternetEnabled": true,
   "language": "python",
   "sourceType": "notebook"
  },
  "kernelspec": {
   "display_name": "Python 3",
   "name": "python3"
  },
  "language_info": {
   "codemirror_mode": {
    "name": "ipython",
    "version": 3
   },
   "file_extension": ".py",
   "mimetype": "text/x-python",
   "name": "python",
   "nbconvert_exporter": "python",
   "pygments_lexer": "ipython3",
   "version": "3.10.13"
  },
  "papermill": {
   "default_parameters": {},
   "duration": 4137.928428,
   "end_time": "2024-04-19T13:17:13.677094",
   "environment_variables": {},
   "exception": null,
   "input_path": "__notebook__.ipynb",
   "output_path": "__notebook__.ipynb",
   "parameters": {},
   "start_time": "2024-04-19T12:08:15.748666",
   "version": "2.5.0"
  },
  "widgets": {
   "application/vnd.jupyter.widget-state+json": {
    "state": {
     "0176c7fa601041f99706fbf1f662379e": {
      "model_module": "@jupyter-widgets/base",
      "model_module_version": "1.2.0",
      "model_name": "LayoutModel",
      "state": {
       "_model_module": "@jupyter-widgets/base",
       "_model_module_version": "1.2.0",
       "_model_name": "LayoutModel",
       "_view_count": null,
       "_view_module": "@jupyter-widgets/base",
       "_view_module_version": "1.2.0",
       "_view_name": "LayoutView",
       "align_content": null,
       "align_items": null,
       "align_self": null,
       "border": null,
       "bottom": null,
       "display": null,
       "flex": null,
       "flex_flow": null,
       "grid_area": null,
       "grid_auto_columns": null,
       "grid_auto_flow": null,
       "grid_auto_rows": null,
       "grid_column": null,
       "grid_gap": null,
       "grid_row": null,
       "grid_template_areas": null,
       "grid_template_columns": null,
       "grid_template_rows": null,
       "height": null,
       "justify_content": null,
       "justify_items": null,
       "left": null,
       "margin": null,
       "max_height": null,
       "max_width": null,
       "min_height": null,
       "min_width": null,
       "object_fit": null,
       "object_position": null,
       "order": null,
       "overflow": null,
       "overflow_x": null,
       "overflow_y": null,
       "padding": null,
       "right": null,
       "top": null,
       "visibility": null,
       "width": null
      }
     },
     "040ba3d8d730433ab223bc3ef8b8fa27": {
      "model_module": "@jupyter-widgets/controls",
      "model_module_version": "1.5.0",
      "model_name": "DescriptionStyleModel",
      "state": {
       "_model_module": "@jupyter-widgets/controls",
       "_model_module_version": "1.5.0",
       "_model_name": "DescriptionStyleModel",
       "_view_count": null,
       "_view_module": "@jupyter-widgets/base",
       "_view_module_version": "1.2.0",
       "_view_name": "StyleView",
       "description_width": ""
      }
     },
     "0b4c36b936024b3184e2741a3cecbcf5": {
      "model_module": "@jupyter-widgets/base",
      "model_module_version": "1.2.0",
      "model_name": "LayoutModel",
      "state": {
       "_model_module": "@jupyter-widgets/base",
       "_model_module_version": "1.2.0",
       "_model_name": "LayoutModel",
       "_view_count": null,
       "_view_module": "@jupyter-widgets/base",
       "_view_module_version": "1.2.0",
       "_view_name": "LayoutView",
       "align_content": null,
       "align_items": null,
       "align_self": null,
       "border": null,
       "bottom": null,
       "display": null,
       "flex": null,
       "flex_flow": null,
       "grid_area": null,
       "grid_auto_columns": null,
       "grid_auto_flow": null,
       "grid_auto_rows": null,
       "grid_column": null,
       "grid_gap": null,
       "grid_row": null,
       "grid_template_areas": null,
       "grid_template_columns": null,
       "grid_template_rows": null,
       "height": null,
       "justify_content": null,
       "justify_items": null,
       "left": null,
       "margin": null,
       "max_height": null,
       "max_width": null,
       "min_height": null,
       "min_width": null,
       "object_fit": null,
       "object_position": null,
       "order": null,
       "overflow": null,
       "overflow_x": null,
       "overflow_y": null,
       "padding": null,
       "right": null,
       "top": null,
       "visibility": null,
       "width": null
      }
     },
     "13c7088162634dd0aef394eccecb31c0": {
      "model_module": "@jupyter-widgets/controls",
      "model_module_version": "1.5.0",
      "model_name": "ProgressStyleModel",
      "state": {
       "_model_module": "@jupyter-widgets/controls",
       "_model_module_version": "1.5.0",
       "_model_name": "ProgressStyleModel",
       "_view_count": null,
       "_view_module": "@jupyter-widgets/base",
       "_view_module_version": "1.2.0",
       "_view_name": "StyleView",
       "bar_color": null,
       "description_width": ""
      }
     },
     "1704ac38c4c34eac898d288d04871cab": {
      "model_module": "@jupyter-widgets/base",
      "model_module_version": "1.2.0",
      "model_name": "LayoutModel",
      "state": {
       "_model_module": "@jupyter-widgets/base",
       "_model_module_version": "1.2.0",
       "_model_name": "LayoutModel",
       "_view_count": null,
       "_view_module": "@jupyter-widgets/base",
       "_view_module_version": "1.2.0",
       "_view_name": "LayoutView",
       "align_content": null,
       "align_items": null,
       "align_self": null,
       "border": null,
       "bottom": null,
       "display": null,
       "flex": null,
       "flex_flow": null,
       "grid_area": null,
       "grid_auto_columns": null,
       "grid_auto_flow": null,
       "grid_auto_rows": null,
       "grid_column": null,
       "grid_gap": null,
       "grid_row": null,
       "grid_template_areas": null,
       "grid_template_columns": null,
       "grid_template_rows": null,
       "height": null,
       "justify_content": null,
       "justify_items": null,
       "left": null,
       "margin": null,
       "max_height": null,
       "max_width": null,
       "min_height": null,
       "min_width": null,
       "object_fit": null,
       "object_position": null,
       "order": null,
       "overflow": null,
       "overflow_x": null,
       "overflow_y": null,
       "padding": null,
       "right": null,
       "top": null,
       "visibility": null,
       "width": null
      }
     },
     "1f89e60ee5b144b4941453f25c6fc034": {
      "model_module": "@jupyter-widgets/base",
      "model_module_version": "1.2.0",
      "model_name": "LayoutModel",
      "state": {
       "_model_module": "@jupyter-widgets/base",
       "_model_module_version": "1.2.0",
       "_model_name": "LayoutModel",
       "_view_count": null,
       "_view_module": "@jupyter-widgets/base",
       "_view_module_version": "1.2.0",
       "_view_name": "LayoutView",
       "align_content": null,
       "align_items": null,
       "align_self": null,
       "border": null,
       "bottom": null,
       "display": null,
       "flex": null,
       "flex_flow": null,
       "grid_area": null,
       "grid_auto_columns": null,
       "grid_auto_flow": null,
       "grid_auto_rows": null,
       "grid_column": null,
       "grid_gap": null,
       "grid_row": null,
       "grid_template_areas": null,
       "grid_template_columns": null,
       "grid_template_rows": null,
       "height": null,
       "justify_content": null,
       "justify_items": null,
       "left": null,
       "margin": null,
       "max_height": null,
       "max_width": null,
       "min_height": null,
       "min_width": null,
       "object_fit": null,
       "object_position": null,
       "order": null,
       "overflow": null,
       "overflow_x": null,
       "overflow_y": null,
       "padding": null,
       "right": null,
       "top": null,
       "visibility": null,
       "width": null
      }
     },
     "205853284fcd443fa53cd336cdf8dfc7": {
      "model_module": "@jupyter-widgets/controls",
      "model_module_version": "1.5.0",
      "model_name": "HTMLModel",
      "state": {
       "_dom_classes": [],
       "_model_module": "@jupyter-widgets/controls",
       "_model_module_version": "1.5.0",
       "_model_name": "HTMLModel",
       "_view_count": null,
       "_view_module": "@jupyter-widgets/controls",
       "_view_module_version": "1.5.0",
       "_view_name": "HTMLView",
       "description": "",
       "description_tooltip": null,
       "layout": "IPY_MODEL_b8db3edf8a8f49c4a7d44cc985c55d48",
       "placeholder": "​",
       "style": "IPY_MODEL_9715808ef6a2428fa7b4b887b59de4d7",
       "value": " 612/612 [00:00&lt;00:00, 57.9kB/s]"
      }
     },
     "20cec045ca464660acde7505009c394b": {
      "model_module": "@jupyter-widgets/controls",
      "model_module_version": "1.5.0",
      "model_name": "DescriptionStyleModel",
      "state": {
       "_model_module": "@jupyter-widgets/controls",
       "_model_module_version": "1.5.0",
       "_model_name": "DescriptionStyleModel",
       "_view_count": null,
       "_view_module": "@jupyter-widgets/base",
       "_view_module_version": "1.2.0",
       "_view_name": "StyleView",
       "description_width": ""
      }
     },
     "23c6a754594448abb835aef576613ab0": {
      "model_module": "@jupyter-widgets/base",
      "model_module_version": "1.2.0",
      "model_name": "LayoutModel",
      "state": {
       "_model_module": "@jupyter-widgets/base",
       "_model_module_version": "1.2.0",
       "_model_name": "LayoutModel",
       "_view_count": null,
       "_view_module": "@jupyter-widgets/base",
       "_view_module_version": "1.2.0",
       "_view_name": "LayoutView",
       "align_content": null,
       "align_items": null,
       "align_self": null,
       "border": null,
       "bottom": null,
       "display": null,
       "flex": null,
       "flex_flow": null,
       "grid_area": null,
       "grid_auto_columns": null,
       "grid_auto_flow": null,
       "grid_auto_rows": null,
       "grid_column": null,
       "grid_gap": null,
       "grid_row": null,
       "grid_template_areas": null,
       "grid_template_columns": null,
       "grid_template_rows": null,
       "height": null,
       "justify_content": null,
       "justify_items": null,
       "left": null,
       "margin": null,
       "max_height": null,
       "max_width": null,
       "min_height": null,
       "min_width": null,
       "object_fit": null,
       "object_position": null,
       "order": null,
       "overflow": null,
       "overflow_x": null,
       "overflow_y": null,
       "padding": null,
       "right": null,
       "top": null,
       "visibility": null,
       "width": null
      }
     },
     "253d5f60a58c497c8df8e043a8cc1820": {
      "model_module": "@jupyter-widgets/controls",
      "model_module_version": "1.5.0",
      "model_name": "HBoxModel",
      "state": {
       "_dom_classes": [],
       "_model_module": "@jupyter-widgets/controls",
       "_model_module_version": "1.5.0",
       "_model_name": "HBoxModel",
       "_view_count": null,
       "_view_module": "@jupyter-widgets/controls",
       "_view_module_version": "1.5.0",
       "_view_name": "HBoxView",
       "box_style": "",
       "children": [
        "IPY_MODEL_28b7bd4f4b0248a290b62233a6934cad",
        "IPY_MODEL_ab4a9e7a71e24d55acf137a9c2565fe9",
        "IPY_MODEL_d01c439cb2c0448ebc1428d97caa9d03"
       ],
       "layout": "IPY_MODEL_1f89e60ee5b144b4941453f25c6fc034"
      }
     },
     "287fc25b9db442d98d4b97e5dc4b57b2": {
      "model_module": "@jupyter-widgets/controls",
      "model_module_version": "1.5.0",
      "model_name": "HTMLModel",
      "state": {
       "_dom_classes": [],
       "_model_module": "@jupyter-widgets/controls",
       "_model_module_version": "1.5.0",
       "_model_name": "HTMLModel",
       "_view_count": null,
       "_view_module": "@jupyter-widgets/controls",
       "_view_module_version": "1.5.0",
       "_view_name": "HTMLView",
       "description": "",
       "description_tooltip": null,
       "layout": "IPY_MODEL_0176c7fa601041f99706fbf1f662379e",
       "placeholder": "​",
       "style": "IPY_MODEL_de5cd6b3b10b4d35a78f19d998454b55",
       "value": "vocab.txt: 100%"
      }
     },
     "28b7bd4f4b0248a290b62233a6934cad": {
      "model_module": "@jupyter-widgets/controls",
      "model_module_version": "1.5.0",
      "model_name": "HTMLModel",
      "state": {
       "_dom_classes": [],
       "_model_module": "@jupyter-widgets/controls",
       "_model_module_version": "1.5.0",
       "_model_name": "HTMLModel",
       "_view_count": null,
       "_view_module": "@jupyter-widgets/controls",
       "_view_module_version": "1.5.0",
       "_view_name": "HTMLView",
       "description": "",
       "description_tooltip": null,
       "layout": "IPY_MODEL_4037f87172c6458183e2344d4335a2db",
       "placeholder": "​",
       "style": "IPY_MODEL_20cec045ca464660acde7505009c394b",
       "value": "special_tokens_map.json: 100%"
      }
     },
     "2bd2aa4a68c34fb886b42b4bafd5895f": {
      "model_module": "@jupyter-widgets/controls",
      "model_module_version": "1.5.0",
      "model_name": "FloatProgressModel",
      "state": {
       "_dom_classes": [],
       "_model_module": "@jupyter-widgets/controls",
       "_model_module_version": "1.5.0",
       "_model_name": "FloatProgressModel",
       "_view_count": null,
       "_view_module": "@jupyter-widgets/controls",
       "_view_module_version": "1.5.0",
       "_view_name": "ProgressView",
       "bar_style": "success",
       "description": "",
       "description_tooltip": null,
       "layout": "IPY_MODEL_b529b2285fad4076aa752a1758f214cb",
       "max": 90868376.0,
       "min": 0.0,
       "orientation": "horizontal",
       "style": "IPY_MODEL_8556b2e9277945a483b39feee4804342",
       "value": 90868376.0
      }
     },
     "2fe0a987935a4093b70269aa60e988ea": {
      "model_module": "@jupyter-widgets/controls",
      "model_module_version": "1.5.0",
      "model_name": "DescriptionStyleModel",
      "state": {
       "_model_module": "@jupyter-widgets/controls",
       "_model_module_version": "1.5.0",
       "_model_name": "DescriptionStyleModel",
       "_view_count": null,
       "_view_module": "@jupyter-widgets/base",
       "_view_module_version": "1.2.0",
       "_view_name": "StyleView",
       "description_width": ""
      }
     },
     "33a5d76924fa4e0e923c8c32c2833ab2": {
      "model_module": "@jupyter-widgets/controls",
      "model_module_version": "1.5.0",
      "model_name": "HTMLModel",
      "state": {
       "_dom_classes": [],
       "_model_module": "@jupyter-widgets/controls",
       "_model_module_version": "1.5.0",
       "_model_name": "HTMLModel",
       "_view_count": null,
       "_view_module": "@jupyter-widgets/controls",
       "_view_module_version": "1.5.0",
       "_view_name": "HTMLView",
       "description": "",
       "description_tooltip": null,
       "layout": "IPY_MODEL_552bb242b66b437eba71ccc704d99e90",
       "placeholder": "​",
       "style": "IPY_MODEL_604cfb39c3224ca1b528381d37acb6d0",
       "value": " 90.9M/90.9M [00:00&lt;00:00, 183MB/s]"
      }
     },
     "3b0de5e8e9204ccbb516714e4d6ea052": {
      "model_module": "@jupyter-widgets/controls",
      "model_module_version": "1.5.0",
      "model_name": "ProgressStyleModel",
      "state": {
       "_model_module": "@jupyter-widgets/controls",
       "_model_module_version": "1.5.0",
       "_model_name": "ProgressStyleModel",
       "_view_count": null,
       "_view_module": "@jupyter-widgets/base",
       "_view_module_version": "1.2.0",
       "_view_name": "StyleView",
       "bar_color": null,
       "description_width": ""
      }
     },
     "4037f87172c6458183e2344d4335a2db": {
      "model_module": "@jupyter-widgets/base",
      "model_module_version": "1.2.0",
      "model_name": "LayoutModel",
      "state": {
       "_model_module": "@jupyter-widgets/base",
       "_model_module_version": "1.2.0",
       "_model_name": "LayoutModel",
       "_view_count": null,
       "_view_module": "@jupyter-widgets/base",
       "_view_module_version": "1.2.0",
       "_view_name": "LayoutView",
       "align_content": null,
       "align_items": null,
       "align_self": null,
       "border": null,
       "bottom": null,
       "display": null,
       "flex": null,
       "flex_flow": null,
       "grid_area": null,
       "grid_auto_columns": null,
       "grid_auto_flow": null,
       "grid_auto_rows": null,
       "grid_column": null,
       "grid_gap": null,
       "grid_row": null,
       "grid_template_areas": null,
       "grid_template_columns": null,
       "grid_template_rows": null,
       "height": null,
       "justify_content": null,
       "justify_items": null,
       "left": null,
       "margin": null,
       "max_height": null,
       "max_width": null,
       "min_height": null,
       "min_width": null,
       "object_fit": null,
       "object_position": null,
       "order": null,
       "overflow": null,
       "overflow_x": null,
       "overflow_y": null,
       "padding": null,
       "right": null,
       "top": null,
       "visibility": null,
       "width": null
      }
     },
     "410f175c9e1f4706a6b0a85bd4bd0b04": {
      "model_module": "@jupyter-widgets/controls",
      "model_module_version": "1.5.0",
      "model_name": "HBoxModel",
      "state": {
       "_dom_classes": [],
       "_model_module": "@jupyter-widgets/controls",
       "_model_module_version": "1.5.0",
       "_model_name": "HBoxModel",
       "_view_count": null,
       "_view_module": "@jupyter-widgets/controls",
       "_view_module_version": "1.5.0",
       "_view_name": "HBoxView",
       "box_style": "",
       "children": [
        "IPY_MODEL_bd8dcd2d5c184df1acf140a298e80130",
        "IPY_MODEL_e4b771577c8c4aba991519a50fe53742",
        "IPY_MODEL_6259915a0ad14413af9b5a1648dc2c63"
       ],
       "layout": "IPY_MODEL_650026d06d1c4154a5ff85a325651021"
      }
     },
     "43472057177a4c65805c3e81ad54da9b": {
      "model_module": "@jupyter-widgets/controls",
      "model_module_version": "1.5.0",
      "model_name": "HTMLModel",
      "state": {
       "_dom_classes": [],
       "_model_module": "@jupyter-widgets/controls",
       "_model_module_version": "1.5.0",
       "_model_name": "HTMLModel",
       "_view_count": null,
       "_view_module": "@jupyter-widgets/controls",
       "_view_module_version": "1.5.0",
       "_view_name": "HTMLView",
       "description": "",
       "description_tooltip": null,
       "layout": "IPY_MODEL_8f08ea434a09447a913153ec0b1f0b6c",
       "placeholder": "​",
       "style": "IPY_MODEL_040ba3d8d730433ab223bc3ef8b8fa27",
       "value": " 232k/232k [00:00&lt;00:00, 9.07MB/s]"
      }
     },
     "4764654e33c74b93bf3b18991a738ed0": {
      "model_module": "@jupyter-widgets/base",
      "model_module_version": "1.2.0",
      "model_name": "LayoutModel",
      "state": {
       "_model_module": "@jupyter-widgets/base",
       "_model_module_version": "1.2.0",
       "_model_name": "LayoutModel",
       "_view_count": null,
       "_view_module": "@jupyter-widgets/base",
       "_view_module_version": "1.2.0",
       "_view_name": "LayoutView",
       "align_content": null,
       "align_items": null,
       "align_self": null,
       "border": null,
       "bottom": null,
       "display": null,
       "flex": null,
       "flex_flow": null,
       "grid_area": null,
       "grid_auto_columns": null,
       "grid_auto_flow": null,
       "grid_auto_rows": null,
       "grid_column": null,
       "grid_gap": null,
       "grid_row": null,
       "grid_template_areas": null,
       "grid_template_columns": null,
       "grid_template_rows": null,
       "height": null,
       "justify_content": null,
       "justify_items": null,
       "left": null,
       "margin": null,
       "max_height": null,
       "max_width": null,
       "min_height": null,
       "min_width": null,
       "object_fit": null,
       "object_position": null,
       "order": null,
       "overflow": null,
       "overflow_x": null,
       "overflow_y": null,
       "padding": null,
       "right": null,
       "top": null,
       "visibility": null,
       "width": null
      }
     },
     "497565d4a0a94548bb0df957baf88784": {
      "model_module": "@jupyter-widgets/controls",
      "model_module_version": "1.5.0",
      "model_name": "FloatProgressModel",
      "state": {
       "_dom_classes": [],
       "_model_module": "@jupyter-widgets/controls",
       "_model_module_version": "1.5.0",
       "_model_name": "FloatProgressModel",
       "_view_count": null,
       "_view_module": "@jupyter-widgets/controls",
       "_view_module_version": "1.5.0",
       "_view_name": "ProgressView",
       "bar_style": "success",
       "description": "",
       "description_tooltip": null,
       "layout": "IPY_MODEL_4b131c059ae649e6babf059054e8da89",
       "max": 612.0,
       "min": 0.0,
       "orientation": "horizontal",
       "style": "IPY_MODEL_98044c22025a4411bf98b06c2870a8ba",
       "value": 612.0
      }
     },
     "4b131c059ae649e6babf059054e8da89": {
      "model_module": "@jupyter-widgets/base",
      "model_module_version": "1.2.0",
      "model_name": "LayoutModel",
      "state": {
       "_model_module": "@jupyter-widgets/base",
       "_model_module_version": "1.2.0",
       "_model_name": "LayoutModel",
       "_view_count": null,
       "_view_module": "@jupyter-widgets/base",
       "_view_module_version": "1.2.0",
       "_view_name": "LayoutView",
       "align_content": null,
       "align_items": null,
       "align_self": null,
       "border": null,
       "bottom": null,
       "display": null,
       "flex": null,
       "flex_flow": null,
       "grid_area": null,
       "grid_auto_columns": null,
       "grid_auto_flow": null,
       "grid_auto_rows": null,
       "grid_column": null,
       "grid_gap": null,
       "grid_row": null,
       "grid_template_areas": null,
       "grid_template_columns": null,
       "grid_template_rows": null,
       "height": null,
       "justify_content": null,
       "justify_items": null,
       "left": null,
       "margin": null,
       "max_height": null,
       "max_width": null,
       "min_height": null,
       "min_width": null,
       "object_fit": null,
       "object_position": null,
       "order": null,
       "overflow": null,
       "overflow_x": null,
       "overflow_y": null,
       "padding": null,
       "right": null,
       "top": null,
       "visibility": null,
       "width": null
      }
     },
     "552bb242b66b437eba71ccc704d99e90": {
      "model_module": "@jupyter-widgets/base",
      "model_module_version": "1.2.0",
      "model_name": "LayoutModel",
      "state": {
       "_model_module": "@jupyter-widgets/base",
       "_model_module_version": "1.2.0",
       "_model_name": "LayoutModel",
       "_view_count": null,
       "_view_module": "@jupyter-widgets/base",
       "_view_module_version": "1.2.0",
       "_view_name": "LayoutView",
       "align_content": null,
       "align_items": null,
       "align_self": null,
       "border": null,
       "bottom": null,
       "display": null,
       "flex": null,
       "flex_flow": null,
       "grid_area": null,
       "grid_auto_columns": null,
       "grid_auto_flow": null,
       "grid_auto_rows": null,
       "grid_column": null,
       "grid_gap": null,
       "grid_row": null,
       "grid_template_areas": null,
       "grid_template_columns": null,
       "grid_template_rows": null,
       "height": null,
       "justify_content": null,
       "justify_items": null,
       "left": null,
       "margin": null,
       "max_height": null,
       "max_width": null,
       "min_height": null,
       "min_width": null,
       "object_fit": null,
       "object_position": null,
       "order": null,
       "overflow": null,
       "overflow_x": null,
       "overflow_y": null,
       "padding": null,
       "right": null,
       "top": null,
       "visibility": null,
       "width": null
      }
     },
     "594301950e23422085da4d0a40a55369": {
      "model_module": "@jupyter-widgets/base",
      "model_module_version": "1.2.0",
      "model_name": "LayoutModel",
      "state": {
       "_model_module": "@jupyter-widgets/base",
       "_model_module_version": "1.2.0",
       "_model_name": "LayoutModel",
       "_view_count": null,
       "_view_module": "@jupyter-widgets/base",
       "_view_module_version": "1.2.0",
       "_view_name": "LayoutView",
       "align_content": null,
       "align_items": null,
       "align_self": null,
       "border": null,
       "bottom": null,
       "display": null,
       "flex": null,
       "flex_flow": null,
       "grid_area": null,
       "grid_auto_columns": null,
       "grid_auto_flow": null,
       "grid_auto_rows": null,
       "grid_column": null,
       "grid_gap": null,
       "grid_row": null,
       "grid_template_areas": null,
       "grid_template_columns": null,
       "grid_template_rows": null,
       "height": null,
       "justify_content": null,
       "justify_items": null,
       "left": null,
       "margin": null,
       "max_height": null,
       "max_width": null,
       "min_height": null,
       "min_width": null,
       "object_fit": null,
       "object_position": null,
       "order": null,
       "overflow": null,
       "overflow_x": null,
       "overflow_y": null,
       "padding": null,
       "right": null,
       "top": null,
       "visibility": null,
       "width": null
      }
     },
     "604cfb39c3224ca1b528381d37acb6d0": {
      "model_module": "@jupyter-widgets/controls",
      "model_module_version": "1.5.0",
      "model_name": "DescriptionStyleModel",
      "state": {
       "_model_module": "@jupyter-widgets/controls",
       "_model_module_version": "1.5.0",
       "_model_name": "DescriptionStyleModel",
       "_view_count": null,
       "_view_module": "@jupyter-widgets/base",
       "_view_module_version": "1.2.0",
       "_view_name": "StyleView",
       "description_width": ""
      }
     },
     "6259915a0ad14413af9b5a1648dc2c63": {
      "model_module": "@jupyter-widgets/controls",
      "model_module_version": "1.5.0",
      "model_name": "HTMLModel",
      "state": {
       "_dom_classes": [],
       "_model_module": "@jupyter-widgets/controls",
       "_model_module_version": "1.5.0",
       "_model_name": "HTMLModel",
       "_view_count": null,
       "_view_module": "@jupyter-widgets/controls",
       "_view_module_version": "1.5.0",
       "_view_name": "HTMLView",
       "description": "",
       "description_tooltip": null,
       "layout": "IPY_MODEL_b43640ecc28d449e8e1b98d170b69cf8",
       "placeholder": "​",
       "style": "IPY_MODEL_742999616ed142d7a316140886f9f698",
       "value": " 466k/466k [00:00&lt;00:00, 6.73MB/s]"
      }
     },
     "650026d06d1c4154a5ff85a325651021": {
      "model_module": "@jupyter-widgets/base",
      "model_module_version": "1.2.0",
      "model_name": "LayoutModel",
      "state": {
       "_model_module": "@jupyter-widgets/base",
       "_model_module_version": "1.2.0",
       "_model_name": "LayoutModel",
       "_view_count": null,
       "_view_module": "@jupyter-widgets/base",
       "_view_module_version": "1.2.0",
       "_view_name": "LayoutView",
       "align_content": null,
       "align_items": null,
       "align_self": null,
       "border": null,
       "bottom": null,
       "display": null,
       "flex": null,
       "flex_flow": null,
       "grid_area": null,
       "grid_auto_columns": null,
       "grid_auto_flow": null,
       "grid_auto_rows": null,
       "grid_column": null,
       "grid_gap": null,
       "grid_row": null,
       "grid_template_areas": null,
       "grid_template_columns": null,
       "grid_template_rows": null,
       "height": null,
       "justify_content": null,
       "justify_items": null,
       "left": null,
       "margin": null,
       "max_height": null,
       "max_width": null,
       "min_height": null,
       "min_width": null,
       "object_fit": null,
       "object_position": null,
       "order": null,
       "overflow": null,
       "overflow_x": null,
       "overflow_y": null,
       "padding": null,
       "right": null,
       "top": null,
       "visibility": null,
       "width": null
      }
     },
     "722c6199a9c9415aacd81f390f882aca": {
      "model_module": "@jupyter-widgets/controls",
      "model_module_version": "1.5.0",
      "model_name": "DescriptionStyleModel",
      "state": {
       "_model_module": "@jupyter-widgets/controls",
       "_model_module_version": "1.5.0",
       "_model_name": "DescriptionStyleModel",
       "_view_count": null,
       "_view_module": "@jupyter-widgets/base",
       "_view_module_version": "1.2.0",
       "_view_name": "StyleView",
       "description_width": ""
      }
     },
     "7349b3cbf77543c8ab28804af3edaeb4": {
      "model_module": "@jupyter-widgets/controls",
      "model_module_version": "1.5.0",
      "model_name": "DescriptionStyleModel",
      "state": {
       "_model_module": "@jupyter-widgets/controls",
       "_model_module_version": "1.5.0",
       "_model_name": "DescriptionStyleModel",
       "_view_count": null,
       "_view_module": "@jupyter-widgets/base",
       "_view_module_version": "1.2.0",
       "_view_name": "StyleView",
       "description_width": ""
      }
     },
     "742999616ed142d7a316140886f9f698": {
      "model_module": "@jupyter-widgets/controls",
      "model_module_version": "1.5.0",
      "model_name": "DescriptionStyleModel",
      "state": {
       "_model_module": "@jupyter-widgets/controls",
       "_model_module_version": "1.5.0",
       "_model_name": "DescriptionStyleModel",
       "_view_count": null,
       "_view_module": "@jupyter-widgets/base",
       "_view_module_version": "1.2.0",
       "_view_name": "StyleView",
       "description_width": ""
      }
     },
     "75136976b8fb4ea7a63c08e9d5f3b481": {
      "model_module": "@jupyter-widgets/controls",
      "model_module_version": "1.5.0",
      "model_name": "ProgressStyleModel",
      "state": {
       "_model_module": "@jupyter-widgets/controls",
       "_model_module_version": "1.5.0",
       "_model_name": "ProgressStyleModel",
       "_view_count": null,
       "_view_module": "@jupyter-widgets/base",
       "_view_module_version": "1.2.0",
       "_view_name": "StyleView",
       "bar_color": null,
       "description_width": ""
      }
     },
     "83da0eca696c4ef78ee337cca6a0532a": {
      "model_module": "@jupyter-widgets/base",
      "model_module_version": "1.2.0",
      "model_name": "LayoutModel",
      "state": {
       "_model_module": "@jupyter-widgets/base",
       "_model_module_version": "1.2.0",
       "_model_name": "LayoutModel",
       "_view_count": null,
       "_view_module": "@jupyter-widgets/base",
       "_view_module_version": "1.2.0",
       "_view_name": "LayoutView",
       "align_content": null,
       "align_items": null,
       "align_self": null,
       "border": null,
       "bottom": null,
       "display": null,
       "flex": null,
       "flex_flow": null,
       "grid_area": null,
       "grid_auto_columns": null,
       "grid_auto_flow": null,
       "grid_auto_rows": null,
       "grid_column": null,
       "grid_gap": null,
       "grid_row": null,
       "grid_template_areas": null,
       "grid_template_columns": null,
       "grid_template_rows": null,
       "height": null,
       "justify_content": null,
       "justify_items": null,
       "left": null,
       "margin": null,
       "max_height": null,
       "max_width": null,
       "min_height": null,
       "min_width": null,
       "object_fit": null,
       "object_position": null,
       "order": null,
       "overflow": null,
       "overflow_x": null,
       "overflow_y": null,
       "padding": null,
       "right": null,
       "top": null,
       "visibility": null,
       "width": null
      }
     },
     "840fd91905b843dcbb35a8e124c8954d": {
      "model_module": "@jupyter-widgets/base",
      "model_module_version": "1.2.0",
      "model_name": "LayoutModel",
      "state": {
       "_model_module": "@jupyter-widgets/base",
       "_model_module_version": "1.2.0",
       "_model_name": "LayoutModel",
       "_view_count": null,
       "_view_module": "@jupyter-widgets/base",
       "_view_module_version": "1.2.0",
       "_view_name": "LayoutView",
       "align_content": null,
       "align_items": null,
       "align_self": null,
       "border": null,
       "bottom": null,
       "display": null,
       "flex": null,
       "flex_flow": null,
       "grid_area": null,
       "grid_auto_columns": null,
       "grid_auto_flow": null,
       "grid_auto_rows": null,
       "grid_column": null,
       "grid_gap": null,
       "grid_row": null,
       "grid_template_areas": null,
       "grid_template_columns": null,
       "grid_template_rows": null,
       "height": null,
       "justify_content": null,
       "justify_items": null,
       "left": null,
       "margin": null,
       "max_height": null,
       "max_width": null,
       "min_height": null,
       "min_width": null,
       "object_fit": null,
       "object_position": null,
       "order": null,
       "overflow": null,
       "overflow_x": null,
       "overflow_y": null,
       "padding": null,
       "right": null,
       "top": null,
       "visibility": null,
       "width": null
      }
     },
     "8556b2e9277945a483b39feee4804342": {
      "model_module": "@jupyter-widgets/controls",
      "model_module_version": "1.5.0",
      "model_name": "ProgressStyleModel",
      "state": {
       "_model_module": "@jupyter-widgets/controls",
       "_model_module_version": "1.5.0",
       "_model_name": "ProgressStyleModel",
       "_view_count": null,
       "_view_module": "@jupyter-widgets/base",
       "_view_module_version": "1.2.0",
       "_view_name": "StyleView",
       "bar_color": null,
       "description_width": ""
      }
     },
     "8c36e1933ee141a1b1236f536a78946f": {
      "model_module": "@jupyter-widgets/base",
      "model_module_version": "1.2.0",
      "model_name": "LayoutModel",
      "state": {
       "_model_module": "@jupyter-widgets/base",
       "_model_module_version": "1.2.0",
       "_model_name": "LayoutModel",
       "_view_count": null,
       "_view_module": "@jupyter-widgets/base",
       "_view_module_version": "1.2.0",
       "_view_name": "LayoutView",
       "align_content": null,
       "align_items": null,
       "align_self": null,
       "border": null,
       "bottom": null,
       "display": null,
       "flex": null,
       "flex_flow": null,
       "grid_area": null,
       "grid_auto_columns": null,
       "grid_auto_flow": null,
       "grid_auto_rows": null,
       "grid_column": null,
       "grid_gap": null,
       "grid_row": null,
       "grid_template_areas": null,
       "grid_template_columns": null,
       "grid_template_rows": null,
       "height": null,
       "justify_content": null,
       "justify_items": null,
       "left": null,
       "margin": null,
       "max_height": null,
       "max_width": null,
       "min_height": null,
       "min_width": null,
       "object_fit": null,
       "object_position": null,
       "order": null,
       "overflow": null,
       "overflow_x": null,
       "overflow_y": null,
       "padding": null,
       "right": null,
       "top": null,
       "visibility": null,
       "width": null
      }
     },
     "8ef45fddae084fc8b8ddb642333af06d": {
      "model_module": "@jupyter-widgets/controls",
      "model_module_version": "1.5.0",
      "model_name": "HBoxModel",
      "state": {
       "_dom_classes": [],
       "_model_module": "@jupyter-widgets/controls",
       "_model_module_version": "1.5.0",
       "_model_name": "HBoxModel",
       "_view_count": null,
       "_view_module": "@jupyter-widgets/controls",
       "_view_module_version": "1.5.0",
       "_view_name": "HBoxView",
       "box_style": "",
       "children": [
        "IPY_MODEL_a2fdecf6d7d9475c8383fdcfff7e071f",
        "IPY_MODEL_2bd2aa4a68c34fb886b42b4bafd5895f",
        "IPY_MODEL_33a5d76924fa4e0e923c8c32c2833ab2"
       ],
       "layout": "IPY_MODEL_fb436582683e4287aca4aec958b249c0"
      }
     },
     "8f08ea434a09447a913153ec0b1f0b6c": {
      "model_module": "@jupyter-widgets/base",
      "model_module_version": "1.2.0",
      "model_name": "LayoutModel",
      "state": {
       "_model_module": "@jupyter-widgets/base",
       "_model_module_version": "1.2.0",
       "_model_name": "LayoutModel",
       "_view_count": null,
       "_view_module": "@jupyter-widgets/base",
       "_view_module_version": "1.2.0",
       "_view_name": "LayoutView",
       "align_content": null,
       "align_items": null,
       "align_self": null,
       "border": null,
       "bottom": null,
       "display": null,
       "flex": null,
       "flex_flow": null,
       "grid_area": null,
       "grid_auto_columns": null,
       "grid_auto_flow": null,
       "grid_auto_rows": null,
       "grid_column": null,
       "grid_gap": null,
       "grid_row": null,
       "grid_template_areas": null,
       "grid_template_columns": null,
       "grid_template_rows": null,
       "height": null,
       "justify_content": null,
       "justify_items": null,
       "left": null,
       "margin": null,
       "max_height": null,
       "max_width": null,
       "min_height": null,
       "min_width": null,
       "object_fit": null,
       "object_position": null,
       "order": null,
       "overflow": null,
       "overflow_x": null,
       "overflow_y": null,
       "padding": null,
       "right": null,
       "top": null,
       "visibility": null,
       "width": null
      }
     },
     "9093e53e568a445aa46f97f0b5653d46": {
      "model_module": "@jupyter-widgets/controls",
      "model_module_version": "1.5.0",
      "model_name": "HBoxModel",
      "state": {
       "_dom_classes": [],
       "_model_module": "@jupyter-widgets/controls",
       "_model_module_version": "1.5.0",
       "_model_name": "HBoxModel",
       "_view_count": null,
       "_view_module": "@jupyter-widgets/controls",
       "_view_module_version": "1.5.0",
       "_view_name": "HBoxView",
       "box_style": "",
       "children": [
        "IPY_MODEL_a70011dad14d4224b046018e179083a3",
        "IPY_MODEL_497565d4a0a94548bb0df957baf88784",
        "IPY_MODEL_205853284fcd443fa53cd336cdf8dfc7"
       ],
       "layout": "IPY_MODEL_9b12d3dadb41488396abae86aec2abfb"
      }
     },
     "9715808ef6a2428fa7b4b887b59de4d7": {
      "model_module": "@jupyter-widgets/controls",
      "model_module_version": "1.5.0",
      "model_name": "DescriptionStyleModel",
      "state": {
       "_model_module": "@jupyter-widgets/controls",
       "_model_module_version": "1.5.0",
       "_model_name": "DescriptionStyleModel",
       "_view_count": null,
       "_view_module": "@jupyter-widgets/base",
       "_view_module_version": "1.2.0",
       "_view_name": "StyleView",
       "description_width": ""
      }
     },
     "98044c22025a4411bf98b06c2870a8ba": {
      "model_module": "@jupyter-widgets/controls",
      "model_module_version": "1.5.0",
      "model_name": "ProgressStyleModel",
      "state": {
       "_model_module": "@jupyter-widgets/controls",
       "_model_module_version": "1.5.0",
       "_model_name": "ProgressStyleModel",
       "_view_count": null,
       "_view_module": "@jupyter-widgets/base",
       "_view_module_version": "1.2.0",
       "_view_name": "StyleView",
       "bar_color": null,
       "description_width": ""
      }
     },
     "9b12d3dadb41488396abae86aec2abfb": {
      "model_module": "@jupyter-widgets/base",
      "model_module_version": "1.2.0",
      "model_name": "LayoutModel",
      "state": {
       "_model_module": "@jupyter-widgets/base",
       "_model_module_version": "1.2.0",
       "_model_name": "LayoutModel",
       "_view_count": null,
       "_view_module": "@jupyter-widgets/base",
       "_view_module_version": "1.2.0",
       "_view_name": "LayoutView",
       "align_content": null,
       "align_items": null,
       "align_self": null,
       "border": null,
       "bottom": null,
       "display": null,
       "flex": null,
       "flex_flow": null,
       "grid_area": null,
       "grid_auto_columns": null,
       "grid_auto_flow": null,
       "grid_auto_rows": null,
       "grid_column": null,
       "grid_gap": null,
       "grid_row": null,
       "grid_template_areas": null,
       "grid_template_columns": null,
       "grid_template_rows": null,
       "height": null,
       "justify_content": null,
       "justify_items": null,
       "left": null,
       "margin": null,
       "max_height": null,
       "max_width": null,
       "min_height": null,
       "min_width": null,
       "object_fit": null,
       "object_position": null,
       "order": null,
       "overflow": null,
       "overflow_x": null,
       "overflow_y": null,
       "padding": null,
       "right": null,
       "top": null,
       "visibility": null,
       "width": null
      }
     },
     "a2fdecf6d7d9475c8383fdcfff7e071f": {
      "model_module": "@jupyter-widgets/controls",
      "model_module_version": "1.5.0",
      "model_name": "HTMLModel",
      "state": {
       "_dom_classes": [],
       "_model_module": "@jupyter-widgets/controls",
       "_model_module_version": "1.5.0",
       "_model_name": "HTMLModel",
       "_view_count": null,
       "_view_module": "@jupyter-widgets/controls",
       "_view_module_version": "1.5.0",
       "_view_name": "HTMLView",
       "description": "",
       "description_tooltip": null,
       "layout": "IPY_MODEL_1704ac38c4c34eac898d288d04871cab",
       "placeholder": "​",
       "style": "IPY_MODEL_7349b3cbf77543c8ab28804af3edaeb4",
       "value": "model.safetensors: 100%"
      }
     },
     "a5fa7d9daa1f4db9a3bf53b4e21cd740": {
      "model_module": "@jupyter-widgets/controls",
      "model_module_version": "1.5.0",
      "model_name": "FloatProgressModel",
      "state": {
       "_dom_classes": [],
       "_model_module": "@jupyter-widgets/controls",
       "_model_module_version": "1.5.0",
       "_model_name": "FloatProgressModel",
       "_view_count": null,
       "_view_module": "@jupyter-widgets/controls",
       "_view_module_version": "1.5.0",
       "_view_name": "ProgressView",
       "bar_style": "success",
       "description": "",
       "description_tooltip": null,
       "layout": "IPY_MODEL_acac0c66d8064fec949bd7996308dfcf",
       "max": 231508.0,
       "min": 0.0,
       "orientation": "horizontal",
       "style": "IPY_MODEL_75136976b8fb4ea7a63c08e9d5f3b481",
       "value": 231508.0
      }
     },
     "a70011dad14d4224b046018e179083a3": {
      "model_module": "@jupyter-widgets/controls",
      "model_module_version": "1.5.0",
      "model_name": "HTMLModel",
      "state": {
       "_dom_classes": [],
       "_model_module": "@jupyter-widgets/controls",
       "_model_module_version": "1.5.0",
       "_model_name": "HTMLModel",
       "_view_count": null,
       "_view_module": "@jupyter-widgets/controls",
       "_view_module_version": "1.5.0",
       "_view_name": "HTMLView",
       "description": "",
       "description_tooltip": null,
       "layout": "IPY_MODEL_83da0eca696c4ef78ee337cca6a0532a",
       "placeholder": "​",
       "style": "IPY_MODEL_e23776a29dbc494abe7f17631f6cf977",
       "value": "config.json: 100%"
      }
     },
     "ab4a9e7a71e24d55acf137a9c2565fe9": {
      "model_module": "@jupyter-widgets/controls",
      "model_module_version": "1.5.0",
      "model_name": "FloatProgressModel",
      "state": {
       "_dom_classes": [],
       "_model_module": "@jupyter-widgets/controls",
       "_model_module_version": "1.5.0",
       "_model_name": "FloatProgressModel",
       "_view_count": null,
       "_view_module": "@jupyter-widgets/controls",
       "_view_module_version": "1.5.0",
       "_view_name": "ProgressView",
       "bar_style": "success",
       "description": "",
       "description_tooltip": null,
       "layout": "IPY_MODEL_23c6a754594448abb835aef576613ab0",
       "max": 112.0,
       "min": 0.0,
       "orientation": "horizontal",
       "style": "IPY_MODEL_13c7088162634dd0aef394eccecb31c0",
       "value": 112.0
      }
     },
     "acac0c66d8064fec949bd7996308dfcf": {
      "model_module": "@jupyter-widgets/base",
      "model_module_version": "1.2.0",
      "model_name": "LayoutModel",
      "state": {
       "_model_module": "@jupyter-widgets/base",
       "_model_module_version": "1.2.0",
       "_model_name": "LayoutModel",
       "_view_count": null,
       "_view_module": "@jupyter-widgets/base",
       "_view_module_version": "1.2.0",
       "_view_name": "LayoutView",
       "align_content": null,
       "align_items": null,
       "align_self": null,
       "border": null,
       "bottom": null,
       "display": null,
       "flex": null,
       "flex_flow": null,
       "grid_area": null,
       "grid_auto_columns": null,
       "grid_auto_flow": null,
       "grid_auto_rows": null,
       "grid_column": null,
       "grid_gap": null,
       "grid_row": null,
       "grid_template_areas": null,
       "grid_template_columns": null,
       "grid_template_rows": null,
       "height": null,
       "justify_content": null,
       "justify_items": null,
       "left": null,
       "margin": null,
       "max_height": null,
       "max_width": null,
       "min_height": null,
       "min_width": null,
       "object_fit": null,
       "object_position": null,
       "order": null,
       "overflow": null,
       "overflow_x": null,
       "overflow_y": null,
       "padding": null,
       "right": null,
       "top": null,
       "visibility": null,
       "width": null
      }
     },
     "b43640ecc28d449e8e1b98d170b69cf8": {
      "model_module": "@jupyter-widgets/base",
      "model_module_version": "1.2.0",
      "model_name": "LayoutModel",
      "state": {
       "_model_module": "@jupyter-widgets/base",
       "_model_module_version": "1.2.0",
       "_model_name": "LayoutModel",
       "_view_count": null,
       "_view_module": "@jupyter-widgets/base",
       "_view_module_version": "1.2.0",
       "_view_name": "LayoutView",
       "align_content": null,
       "align_items": null,
       "align_self": null,
       "border": null,
       "bottom": null,
       "display": null,
       "flex": null,
       "flex_flow": null,
       "grid_area": null,
       "grid_auto_columns": null,
       "grid_auto_flow": null,
       "grid_auto_rows": null,
       "grid_column": null,
       "grid_gap": null,
       "grid_row": null,
       "grid_template_areas": null,
       "grid_template_columns": null,
       "grid_template_rows": null,
       "height": null,
       "justify_content": null,
       "justify_items": null,
       "left": null,
       "margin": null,
       "max_height": null,
       "max_width": null,
       "min_height": null,
       "min_width": null,
       "object_fit": null,
       "object_position": null,
       "order": null,
       "overflow": null,
       "overflow_x": null,
       "overflow_y": null,
       "padding": null,
       "right": null,
       "top": null,
       "visibility": null,
       "width": null
      }
     },
     "b476d7f07be9479bb11da74a012d0e76": {
      "model_module": "@jupyter-widgets/base",
      "model_module_version": "1.2.0",
      "model_name": "LayoutModel",
      "state": {
       "_model_module": "@jupyter-widgets/base",
       "_model_module_version": "1.2.0",
       "_model_name": "LayoutModel",
       "_view_count": null,
       "_view_module": "@jupyter-widgets/base",
       "_view_module_version": "1.2.0",
       "_view_name": "LayoutView",
       "align_content": null,
       "align_items": null,
       "align_self": null,
       "border": null,
       "bottom": null,
       "display": null,
       "flex": null,
       "flex_flow": null,
       "grid_area": null,
       "grid_auto_columns": null,
       "grid_auto_flow": null,
       "grid_auto_rows": null,
       "grid_column": null,
       "grid_gap": null,
       "grid_row": null,
       "grid_template_areas": null,
       "grid_template_columns": null,
       "grid_template_rows": null,
       "height": null,
       "justify_content": null,
       "justify_items": null,
       "left": null,
       "margin": null,
       "max_height": null,
       "max_width": null,
       "min_height": null,
       "min_width": null,
       "object_fit": null,
       "object_position": null,
       "order": null,
       "overflow": null,
       "overflow_x": null,
       "overflow_y": null,
       "padding": null,
       "right": null,
       "top": null,
       "visibility": null,
       "width": null
      }
     },
     "b529b2285fad4076aa752a1758f214cb": {
      "model_module": "@jupyter-widgets/base",
      "model_module_version": "1.2.0",
      "model_name": "LayoutModel",
      "state": {
       "_model_module": "@jupyter-widgets/base",
       "_model_module_version": "1.2.0",
       "_model_name": "LayoutModel",
       "_view_count": null,
       "_view_module": "@jupyter-widgets/base",
       "_view_module_version": "1.2.0",
       "_view_name": "LayoutView",
       "align_content": null,
       "align_items": null,
       "align_self": null,
       "border": null,
       "bottom": null,
       "display": null,
       "flex": null,
       "flex_flow": null,
       "grid_area": null,
       "grid_auto_columns": null,
       "grid_auto_flow": null,
       "grid_auto_rows": null,
       "grid_column": null,
       "grid_gap": null,
       "grid_row": null,
       "grid_template_areas": null,
       "grid_template_columns": null,
       "grid_template_rows": null,
       "height": null,
       "justify_content": null,
       "justify_items": null,
       "left": null,
       "margin": null,
       "max_height": null,
       "max_width": null,
       "min_height": null,
       "min_width": null,
       "object_fit": null,
       "object_position": null,
       "order": null,
       "overflow": null,
       "overflow_x": null,
       "overflow_y": null,
       "padding": null,
       "right": null,
       "top": null,
       "visibility": null,
       "width": null
      }
     },
     "b8db3edf8a8f49c4a7d44cc985c55d48": {
      "model_module": "@jupyter-widgets/base",
      "model_module_version": "1.2.0",
      "model_name": "LayoutModel",
      "state": {
       "_model_module": "@jupyter-widgets/base",
       "_model_module_version": "1.2.0",
       "_model_name": "LayoutModel",
       "_view_count": null,
       "_view_module": "@jupyter-widgets/base",
       "_view_module_version": "1.2.0",
       "_view_name": "LayoutView",
       "align_content": null,
       "align_items": null,
       "align_self": null,
       "border": null,
       "bottom": null,
       "display": null,
       "flex": null,
       "flex_flow": null,
       "grid_area": null,
       "grid_auto_columns": null,
       "grid_auto_flow": null,
       "grid_auto_rows": null,
       "grid_column": null,
       "grid_gap": null,
       "grid_row": null,
       "grid_template_areas": null,
       "grid_template_columns": null,
       "grid_template_rows": null,
       "height": null,
       "justify_content": null,
       "justify_items": null,
       "left": null,
       "margin": null,
       "max_height": null,
       "max_width": null,
       "min_height": null,
       "min_width": null,
       "object_fit": null,
       "object_position": null,
       "order": null,
       "overflow": null,
       "overflow_x": null,
       "overflow_y": null,
       "padding": null,
       "right": null,
       "top": null,
       "visibility": null,
       "width": null
      }
     },
     "bad86477a58f40988a1adc66a038d648": {
      "model_module": "@jupyter-widgets/controls",
      "model_module_version": "1.5.0",
      "model_name": "FloatProgressModel",
      "state": {
       "_dom_classes": [],
       "_model_module": "@jupyter-widgets/controls",
       "_model_module_version": "1.5.0",
       "_model_name": "FloatProgressModel",
       "_view_count": null,
       "_view_module": "@jupyter-widgets/controls",
       "_view_module_version": "1.5.0",
       "_view_name": "ProgressView",
       "bar_style": "success",
       "description": "",
       "description_tooltip": null,
       "layout": "IPY_MODEL_594301950e23422085da4d0a40a55369",
       "max": 350.0,
       "min": 0.0,
       "orientation": "horizontal",
       "style": "IPY_MODEL_c9b2cde2acad43cea905c371ca30a316",
       "value": 350.0
      }
     },
     "bd8dcd2d5c184df1acf140a298e80130": {
      "model_module": "@jupyter-widgets/controls",
      "model_module_version": "1.5.0",
      "model_name": "HTMLModel",
      "state": {
       "_dom_classes": [],
       "_model_module": "@jupyter-widgets/controls",
       "_model_module_version": "1.5.0",
       "_model_name": "HTMLModel",
       "_view_count": null,
       "_view_module": "@jupyter-widgets/controls",
       "_view_module_version": "1.5.0",
       "_view_name": "HTMLView",
       "description": "",
       "description_tooltip": null,
       "layout": "IPY_MODEL_8c36e1933ee141a1b1236f536a78946f",
       "placeholder": "​",
       "style": "IPY_MODEL_c655129a14314ca2bc540aa355ec6d18",
       "value": "tokenizer.json: 100%"
      }
     },
     "bf6cabf6901a4bbcb5827c7c2c9687ab": {
      "model_module": "@jupyter-widgets/controls",
      "model_module_version": "1.5.0",
      "model_name": "HTMLModel",
      "state": {
       "_dom_classes": [],
       "_model_module": "@jupyter-widgets/controls",
       "_model_module_version": "1.5.0",
       "_model_name": "HTMLModel",
       "_view_count": null,
       "_view_module": "@jupyter-widgets/controls",
       "_view_module_version": "1.5.0",
       "_view_name": "HTMLView",
       "description": "",
       "description_tooltip": null,
       "layout": "IPY_MODEL_4764654e33c74b93bf3b18991a738ed0",
       "placeholder": "​",
       "style": "IPY_MODEL_2fe0a987935a4093b70269aa60e988ea",
       "value": " 350/350 [00:00&lt;00:00, 27.8kB/s]"
      }
     },
     "c655129a14314ca2bc540aa355ec6d18": {
      "model_module": "@jupyter-widgets/controls",
      "model_module_version": "1.5.0",
      "model_name": "DescriptionStyleModel",
      "state": {
       "_model_module": "@jupyter-widgets/controls",
       "_model_module_version": "1.5.0",
       "_model_name": "DescriptionStyleModel",
       "_view_count": null,
       "_view_module": "@jupyter-widgets/base",
       "_view_module_version": "1.2.0",
       "_view_name": "StyleView",
       "description_width": ""
      }
     },
     "c9b2cde2acad43cea905c371ca30a316": {
      "model_module": "@jupyter-widgets/controls",
      "model_module_version": "1.5.0",
      "model_name": "ProgressStyleModel",
      "state": {
       "_model_module": "@jupyter-widgets/controls",
       "_model_module_version": "1.5.0",
       "_model_name": "ProgressStyleModel",
       "_view_count": null,
       "_view_module": "@jupyter-widgets/base",
       "_view_module_version": "1.2.0",
       "_view_name": "StyleView",
       "bar_color": null,
       "description_width": ""
      }
     },
     "ca8e41802221474a8eeea3ed058f6c98": {
      "model_module": "@jupyter-widgets/base",
      "model_module_version": "1.2.0",
      "model_name": "LayoutModel",
      "state": {
       "_model_module": "@jupyter-widgets/base",
       "_model_module_version": "1.2.0",
       "_model_name": "LayoutModel",
       "_view_count": null,
       "_view_module": "@jupyter-widgets/base",
       "_view_module_version": "1.2.0",
       "_view_name": "LayoutView",
       "align_content": null,
       "align_items": null,
       "align_self": null,
       "border": null,
       "bottom": null,
       "display": null,
       "flex": null,
       "flex_flow": null,
       "grid_area": null,
       "grid_auto_columns": null,
       "grid_auto_flow": null,
       "grid_auto_rows": null,
       "grid_column": null,
       "grid_gap": null,
       "grid_row": null,
       "grid_template_areas": null,
       "grid_template_columns": null,
       "grid_template_rows": null,
       "height": null,
       "justify_content": null,
       "justify_items": null,
       "left": null,
       "margin": null,
       "max_height": null,
       "max_width": null,
       "min_height": null,
       "min_width": null,
       "object_fit": null,
       "object_position": null,
       "order": null,
       "overflow": null,
       "overflow_x": null,
       "overflow_y": null,
       "padding": null,
       "right": null,
       "top": null,
       "visibility": null,
       "width": null
      }
     },
     "cc9e2652a8ed48c0a398f7f0bab1cf4a": {
      "model_module": "@jupyter-widgets/controls",
      "model_module_version": "1.5.0",
      "model_name": "HTMLModel",
      "state": {
       "_dom_classes": [],
       "_model_module": "@jupyter-widgets/controls",
       "_model_module_version": "1.5.0",
       "_model_name": "HTMLModel",
       "_view_count": null,
       "_view_module": "@jupyter-widgets/controls",
       "_view_module_version": "1.5.0",
       "_view_name": "HTMLView",
       "description": "",
       "description_tooltip": null,
       "layout": "IPY_MODEL_ca8e41802221474a8eeea3ed058f6c98",
       "placeholder": "​",
       "style": "IPY_MODEL_d151bb1d8b3c404ab17cb874ccc3e6e9",
       "value": "tokenizer_config.json: 100%"
      }
     },
     "ceeb0e9389e044a1a9036eb6fe14ff35": {
      "model_module": "@jupyter-widgets/base",
      "model_module_version": "1.2.0",
      "model_name": "LayoutModel",
      "state": {
       "_model_module": "@jupyter-widgets/base",
       "_model_module_version": "1.2.0",
       "_model_name": "LayoutModel",
       "_view_count": null,
       "_view_module": "@jupyter-widgets/base",
       "_view_module_version": "1.2.0",
       "_view_name": "LayoutView",
       "align_content": null,
       "align_items": null,
       "align_self": null,
       "border": null,
       "bottom": null,
       "display": null,
       "flex": null,
       "flex_flow": null,
       "grid_area": null,
       "grid_auto_columns": null,
       "grid_auto_flow": null,
       "grid_auto_rows": null,
       "grid_column": null,
       "grid_gap": null,
       "grid_row": null,
       "grid_template_areas": null,
       "grid_template_columns": null,
       "grid_template_rows": null,
       "height": null,
       "justify_content": null,
       "justify_items": null,
       "left": null,
       "margin": null,
       "max_height": null,
       "max_width": null,
       "min_height": null,
       "min_width": null,
       "object_fit": null,
       "object_position": null,
       "order": null,
       "overflow": null,
       "overflow_x": null,
       "overflow_y": null,
       "padding": null,
       "right": null,
       "top": null,
       "visibility": null,
       "width": null
      }
     },
     "d01c439cb2c0448ebc1428d97caa9d03": {
      "model_module": "@jupyter-widgets/controls",
      "model_module_version": "1.5.0",
      "model_name": "HTMLModel",
      "state": {
       "_dom_classes": [],
       "_model_module": "@jupyter-widgets/controls",
       "_model_module_version": "1.5.0",
       "_model_name": "HTMLModel",
       "_view_count": null,
       "_view_module": "@jupyter-widgets/controls",
       "_view_module_version": "1.5.0",
       "_view_name": "HTMLView",
       "description": "",
       "description_tooltip": null,
       "layout": "IPY_MODEL_b476d7f07be9479bb11da74a012d0e76",
       "placeholder": "​",
       "style": "IPY_MODEL_722c6199a9c9415aacd81f390f882aca",
       "value": " 112/112 [00:00&lt;00:00, 11.5kB/s]"
      }
     },
     "d151bb1d8b3c404ab17cb874ccc3e6e9": {
      "model_module": "@jupyter-widgets/controls",
      "model_module_version": "1.5.0",
      "model_name": "DescriptionStyleModel",
      "state": {
       "_model_module": "@jupyter-widgets/controls",
       "_model_module_version": "1.5.0",
       "_model_name": "DescriptionStyleModel",
       "_view_count": null,
       "_view_module": "@jupyter-widgets/base",
       "_view_module_version": "1.2.0",
       "_view_name": "StyleView",
       "description_width": ""
      }
     },
     "d4d33ef570934198a1eeed4bf6f527d6": {
      "model_module": "@jupyter-widgets/controls",
      "model_module_version": "1.5.0",
      "model_name": "HBoxModel",
      "state": {
       "_dom_classes": [],
       "_model_module": "@jupyter-widgets/controls",
       "_model_module_version": "1.5.0",
       "_model_name": "HBoxModel",
       "_view_count": null,
       "_view_module": "@jupyter-widgets/controls",
       "_view_module_version": "1.5.0",
       "_view_name": "HBoxView",
       "box_style": "",
       "children": [
        "IPY_MODEL_287fc25b9db442d98d4b97e5dc4b57b2",
        "IPY_MODEL_a5fa7d9daa1f4db9a3bf53b4e21cd740",
        "IPY_MODEL_43472057177a4c65805c3e81ad54da9b"
       ],
       "layout": "IPY_MODEL_840fd91905b843dcbb35a8e124c8954d"
      }
     },
     "d90e8efd6d3f48de9f4ed8bfc7fa9b18": {
      "model_module": "@jupyter-widgets/controls",
      "model_module_version": "1.5.0",
      "model_name": "HBoxModel",
      "state": {
       "_dom_classes": [],
       "_model_module": "@jupyter-widgets/controls",
       "_model_module_version": "1.5.0",
       "_model_name": "HBoxModel",
       "_view_count": null,
       "_view_module": "@jupyter-widgets/controls",
       "_view_module_version": "1.5.0",
       "_view_name": "HBoxView",
       "box_style": "",
       "children": [
        "IPY_MODEL_cc9e2652a8ed48c0a398f7f0bab1cf4a",
        "IPY_MODEL_bad86477a58f40988a1adc66a038d648",
        "IPY_MODEL_bf6cabf6901a4bbcb5827c7c2c9687ab"
       ],
       "layout": "IPY_MODEL_0b4c36b936024b3184e2741a3cecbcf5"
      }
     },
     "de5cd6b3b10b4d35a78f19d998454b55": {
      "model_module": "@jupyter-widgets/controls",
      "model_module_version": "1.5.0",
      "model_name": "DescriptionStyleModel",
      "state": {
       "_model_module": "@jupyter-widgets/controls",
       "_model_module_version": "1.5.0",
       "_model_name": "DescriptionStyleModel",
       "_view_count": null,
       "_view_module": "@jupyter-widgets/base",
       "_view_module_version": "1.2.0",
       "_view_name": "StyleView",
       "description_width": ""
      }
     },
     "e23776a29dbc494abe7f17631f6cf977": {
      "model_module": "@jupyter-widgets/controls",
      "model_module_version": "1.5.0",
      "model_name": "DescriptionStyleModel",
      "state": {
       "_model_module": "@jupyter-widgets/controls",
       "_model_module_version": "1.5.0",
       "_model_name": "DescriptionStyleModel",
       "_view_count": null,
       "_view_module": "@jupyter-widgets/base",
       "_view_module_version": "1.2.0",
       "_view_name": "StyleView",
       "description_width": ""
      }
     },
     "e4b771577c8c4aba991519a50fe53742": {
      "model_module": "@jupyter-widgets/controls",
      "model_module_version": "1.5.0",
      "model_name": "FloatProgressModel",
      "state": {
       "_dom_classes": [],
       "_model_module": "@jupyter-widgets/controls",
       "_model_module_version": "1.5.0",
       "_model_name": "FloatProgressModel",
       "_view_count": null,
       "_view_module": "@jupyter-widgets/controls",
       "_view_module_version": "1.5.0",
       "_view_name": "ProgressView",
       "bar_style": "success",
       "description": "",
       "description_tooltip": null,
       "layout": "IPY_MODEL_ceeb0e9389e044a1a9036eb6fe14ff35",
       "max": 466247.0,
       "min": 0.0,
       "orientation": "horizontal",
       "style": "IPY_MODEL_3b0de5e8e9204ccbb516714e4d6ea052",
       "value": 466247.0
      }
     },
     "fb436582683e4287aca4aec958b249c0": {
      "model_module": "@jupyter-widgets/base",
      "model_module_version": "1.2.0",
      "model_name": "LayoutModel",
      "state": {
       "_model_module": "@jupyter-widgets/base",
       "_model_module_version": "1.2.0",
       "_model_name": "LayoutModel",
       "_view_count": null,
       "_view_module": "@jupyter-widgets/base",
       "_view_module_version": "1.2.0",
       "_view_name": "LayoutView",
       "align_content": null,
       "align_items": null,
       "align_self": null,
       "border": null,
       "bottom": null,
       "display": null,
       "flex": null,
       "flex_flow": null,
       "grid_area": null,
       "grid_auto_columns": null,
       "grid_auto_flow": null,
       "grid_auto_rows": null,
       "grid_column": null,
       "grid_gap": null,
       "grid_row": null,
       "grid_template_areas": null,
       "grid_template_columns": null,
       "grid_template_rows": null,
       "height": null,
       "justify_content": null,
       "justify_items": null,
       "left": null,
       "margin": null,
       "max_height": null,
       "max_width": null,
       "min_height": null,
       "min_width": null,
       "object_fit": null,
       "object_position": null,
       "order": null,
       "overflow": null,
       "overflow_x": null,
       "overflow_y": null,
       "padding": null,
       "right": null,
       "top": null,
       "visibility": null,
       "width": null
      }
     }
    },
    "version_major": 2,
    "version_minor": 0
   }
  }
 },
 "nbformat": 4,
 "nbformat_minor": 5
}
