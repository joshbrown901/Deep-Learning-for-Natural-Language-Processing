{
 "cells": [
  {
   "cell_type": "code",
   "execution_count": 1,
   "id": "a39e253e",
   "metadata": {
    "execution": {
     "iopub.execute_input": "2024-05-06T14:52:13.411857Z",
     "iopub.status.busy": "2024-05-06T14:52:13.411424Z",
     "iopub.status.idle": "2024-05-06T14:52:20.886509Z",
     "shell.execute_reply": "2024-05-06T14:52:20.885755Z"
    },
    "id": "-7bT-dDfaoHB",
    "papermill": {
     "duration": 7.507993,
     "end_time": "2024-05-06T14:52:20.888947",
     "exception": false,
     "start_time": "2024-05-06T14:52:13.380954",
     "status": "completed"
    },
    "tags": []
   },
   "outputs": [],
   "source": [
    "import pandas as pd\n",
    "from torch.utils.data import Dataset\n",
    "import torch\n",
    "import os\n",
    "import random\n",
    "import numpy as np\n",
    "from torch import nn\n",
    "from typing import Dict, Optional, Tuple, List\n",
    "from transformers import AutoTokenizer, AutoModel\n",
    "from torch.utils.data import Dataset, random_split\n",
    "import torch.optim as optim\n",
    "from tqdm import tqdm\n",
    "from sklearn.metrics import precision_score, f1_score, recall_score, classification_report\n",
    "\n",
    "\n",
    "import time\n",
    "import math\n",
    "import matplotlib\n",
    "matplotlib.rcParams.update({'figure.figsize': (16, 12), 'font.size': 14})\n",
    "import matplotlib.pyplot as plt\n",
    "%matplotlib inline\n",
    "from IPython.display import clear_output"
   ]
  },
  {
   "cell_type": "code",
   "execution_count": 2,
   "id": "5e342644",
   "metadata": {
    "execution": {
     "iopub.execute_input": "2024-05-06T14:52:20.950230Z",
     "iopub.status.busy": "2024-05-06T14:52:20.949824Z",
     "iopub.status.idle": "2024-05-06T14:52:20.958264Z",
     "shell.execute_reply": "2024-05-06T14:52:20.957423Z"
    },
    "id": "9sjxzdn7a3jA",
    "papermill": {
     "duration": 0.03982,
     "end_time": "2024-05-06T14:52:20.960254",
     "exception": false,
     "start_time": "2024-05-06T14:52:20.920434",
     "status": "completed"
    },
    "tags": []
   },
   "outputs": [],
   "source": [
    "SEED = 42\n",
    "\n",
    "torch.manual_seed(SEED)\n",
    "torch.random.manual_seed(SEED)\n",
    "os.environ['PYTHONHASHSEED'] = str(SEED)\n",
    "random.seed(SEED)\n",
    "np.random.seed(SEED)\n",
    "torch.cuda.random.manual_seed(SEED)\n",
    "torch.cuda.random.manual_seed_all(SEED)\n",
    "torch.backends.cudnn.deterministic = True"
   ]
  },
  {
   "cell_type": "code",
   "execution_count": 3,
   "id": "c36d7fe0",
   "metadata": {
    "execution": {
     "iopub.execute_input": "2024-05-06T14:52:21.017833Z",
     "iopub.status.busy": "2024-05-06T14:52:21.017511Z",
     "iopub.status.idle": "2024-05-06T14:52:21.072403Z",
     "shell.execute_reply": "2024-05-06T14:52:21.071545Z"
    },
    "id": "YjyK7Zq1a_RX",
    "papermill": {
     "duration": 0.085986,
     "end_time": "2024-05-06T14:52:21.074371",
     "exception": false,
     "start_time": "2024-05-06T14:52:20.988385",
     "status": "completed"
    },
    "tags": []
   },
   "outputs": [],
   "source": [
    "device = \"cuda\" if torch.cuda.is_available() else \"cpu\""
   ]
  },
  {
   "cell_type": "code",
   "execution_count": 4,
   "id": "2efd46f0",
   "metadata": {
    "execution": {
     "iopub.execute_input": "2024-05-06T14:52:21.132130Z",
     "iopub.status.busy": "2024-05-06T14:52:21.131841Z",
     "iopub.status.idle": "2024-05-06T14:52:24.796654Z",
     "shell.execute_reply": "2024-05-06T14:52:24.795718Z"
    },
    "id": "hgyPYm-EbA7v",
    "outputId": "177cb9e5-5854-41e0-b51d-854b711cb9c4",
    "papermill": {
     "duration": 3.696351,
     "end_time": "2024-05-06T14:52:24.798952",
     "exception": false,
     "start_time": "2024-05-06T14:52:21.102601",
     "status": "completed"
    },
    "tags": []
   },
   "outputs": [
    {
     "name": "stdout",
     "output_type": "stream",
     "text": [
      "Cloning into 'TextGraphs17-shared-task'...\r\n",
      "remote: Enumerating objects: 506, done.\u001b[K\r\n",
      "remote: Counting objects: 100% (26/26), done.\u001b[K\r\n",
      "remote: Compressing objects: 100% (19/19), done.\u001b[K\r\n",
      "remote: Total 506 (delta 9), reused 20 (delta 4), pack-reused 480\u001b[K\r\n",
      "Receiving objects: 100% (506/506), 37.13 MiB | 40.66 MiB/s, done.\r\n",
      "Resolving deltas: 100% (60/60), done.\r\n"
     ]
    }
   ],
   "source": [
    "!git clone https://github.com/uhh-lt/TextGraphs17-shared-task.git"
   ]
  },
  {
   "cell_type": "code",
   "execution_count": 5,
   "id": "9554527b",
   "metadata": {
    "execution": {
     "iopub.execute_input": "2024-05-06T14:52:24.860250Z",
     "iopub.status.busy": "2024-05-06T14:52:24.859918Z",
     "iopub.status.idle": "2024-05-06T14:52:25.804078Z",
     "shell.execute_reply": "2024-05-06T14:52:25.803087Z"
    },
    "id": "5PfoLo2ZbBzI",
    "outputId": "bcd438a2-edf0-4893-a853-91492583000c",
    "papermill": {
     "duration": 0.97692,
     "end_time": "2024-05-06T14:52:25.806270",
     "exception": false,
     "start_time": "2024-05-06T14:52:24.829350",
     "status": "completed"
    },
    "tags": []
   },
   "outputs": [
    {
     "name": "stdout",
     "output_type": "stream",
     "text": [
      "README.md  data        question_graph_examples\tsubmission_example\r\n",
      "baselines  evaluation  reformat_data\t\tvisualization\r\n"
     ]
    }
   ],
   "source": [
    "!ls TextGraphs17-shared-task"
   ]
  },
  {
   "cell_type": "code",
   "execution_count": 6,
   "id": "5e71e2cc",
   "metadata": {
    "execution": {
     "iopub.execute_input": "2024-05-06T14:52:25.867690Z",
     "iopub.status.busy": "2024-05-06T14:52:25.867017Z",
     "iopub.status.idle": "2024-05-06T14:52:26.312066Z",
     "shell.execute_reply": "2024-05-06T14:52:26.311236Z"
    },
    "id": "WwyCvQPTbDq3",
    "papermill": {
     "duration": 0.478064,
     "end_time": "2024-05-06T14:52:26.314512",
     "exception": false,
     "start_time": "2024-05-06T14:52:25.836448",
     "status": "completed"
    },
    "tags": []
   },
   "outputs": [],
   "source": [
    "train_dev_path = \"TextGraphs17-shared-task/data/tsv/train.tsv\"\n",
    "\n",
    "data_df = pd.read_csv(train_dev_path, sep='\\t')\n",
    "\n",
    "pd.set_option('display.max_colwidth', None)"
   ]
  },
  {
   "cell_type": "code",
   "execution_count": 7,
   "id": "b39e17bc",
   "metadata": {
    "execution": {
     "iopub.execute_input": "2024-05-06T14:52:26.376051Z",
     "iopub.status.busy": "2024-05-06T14:52:26.375436Z",
     "iopub.status.idle": "2024-05-06T14:52:26.393227Z",
     "shell.execute_reply": "2024-05-06T14:52:26.392526Z"
    },
    "id": "fFnaceN4bEzA",
    "papermill": {
     "duration": 0.050205,
     "end_time": "2024-05-06T14:52:26.394991",
     "exception": false,
     "start_time": "2024-05-06T14:52:26.344786",
     "status": "completed"
    },
    "tags": []
   },
   "outputs": [],
   "source": [
    "all_questions = list(data_df[\"question\"].unique())\n",
    "num_questions = len(all_questions)\n",
    "random.shuffle(all_questions)"
   ]
  },
  {
   "cell_type": "code",
   "execution_count": 8,
   "id": "5e212566",
   "metadata": {
    "execution": {
     "iopub.execute_input": "2024-05-06T14:52:26.455602Z",
     "iopub.status.busy": "2024-05-06T14:52:26.455112Z",
     "iopub.status.idle": "2024-05-06T14:52:26.461354Z",
     "shell.execute_reply": "2024-05-06T14:52:26.460553Z"
    },
    "id": "lImVe0iBclEf",
    "outputId": "cb618def-3a1d-46d3-dec5-3d833c19437e",
    "papermill": {
     "duration": 0.039222,
     "end_time": "2024-05-06T14:52:26.463605",
     "exception": false,
     "start_time": "2024-05-06T14:52:26.424383",
     "status": "completed"
    },
    "tags": []
   },
   "outputs": [
    {
     "name": "stdout",
     "output_type": "stream",
     "text": [
      "Questions: train - 2545, dev - 283, test - 283\n"
     ]
    }
   ],
   "source": [
    "train_dev_ratio = 0.8\n",
    "train_ratio = 0.9\n",
    "num_train_dev_questions = int(num_questions * train_dev_ratio)\n",
    "train_dev_questions = all_questions[:num_train_dev_questions]\n",
    "test_questions = set(all_questions[num_train_dev_questions:])\n",
    "num_train_questions = int(len(train_dev_questions) * train_ratio)\n",
    "train_questions = set(train_dev_questions[:num_train_questions])\n",
    "dev_questions = set(train_dev_questions[num_train_questions:])\n",
    "\n",
    "print(f\"Questions: train - {len(train_questions)}, dev - {len(dev_questions)}, test - {len(dev_questions)}\")"
   ]
  },
  {
   "cell_type": "code",
   "execution_count": 9,
   "id": "1007bb4c",
   "metadata": {
    "execution": {
     "iopub.execute_input": "2024-05-06T14:52:26.524348Z",
     "iopub.status.busy": "2024-05-06T14:52:26.523820Z",
     "iopub.status.idle": "2024-05-06T14:52:26.549564Z",
     "shell.execute_reply": "2024-05-06T14:52:26.548529Z"
    },
    "id": "JcMVTKSQclGn",
    "outputId": "94b3c70e-e157-4f4b-8a40-a9621ca030f9",
    "papermill": {
     "duration": 0.057617,
     "end_time": "2024-05-06T14:52:26.551403",
     "exception": false,
     "start_time": "2024-05-06T14:52:26.493786",
     "status": "completed"
    },
    "tags": []
   },
   "outputs": [
    {
     "name": "stdout",
     "output_type": "stream",
     "text": [
      "Train: (27122, 10)\n",
      "Dev: (3047, 10)\n",
      "Test: (7503, 10)\n"
     ]
    }
   ],
   "source": [
    "train_df = data_df[data_df[\"question\"].isin(train_questions)]\n",
    "dev_df = data_df[data_df[\"question\"].isin(dev_questions)]\n",
    "test_df = data_df[data_df[\"question\"].isin(test_questions)]\n",
    "\n",
    "print(f\"Train: {train_df.shape}\")\n",
    "print(f\"Dev: {dev_df.shape}\")\n",
    "print(f\"Test: {test_df.shape}\")"
   ]
  },
  {
   "cell_type": "code",
   "execution_count": 10,
   "id": "674dbc74",
   "metadata": {
    "execution": {
     "iopub.execute_input": "2024-05-06T14:52:26.611697Z",
     "iopub.status.busy": "2024-05-06T14:52:26.611425Z",
     "iopub.status.idle": "2024-05-06T14:52:26.625048Z",
     "shell.execute_reply": "2024-05-06T14:52:26.623966Z"
    },
    "id": "Qmj_H67xcwNn",
    "outputId": "a1ac837a-5813-4d91-b39a-20e2d87d1830",
    "papermill": {
     "duration": 0.046296,
     "end_time": "2024-05-06T14:52:26.626965",
     "exception": false,
     "start_time": "2024-05-06T14:52:26.580669",
     "status": "completed"
    },
    "tags": []
   },
   "outputs": [
    {
     "name": "stderr",
     "output_type": "stream",
     "text": [
      "/tmp/ipykernel_24/3117296500.py:1: SettingWithCopyWarning: \n",
      "A value is trying to be set on a copy of a slice from a DataFrame.\n",
      "Try using .loc[row_indexer,col_indexer] = value instead\n",
      "\n",
      "See the caveats in the documentation: https://pandas.pydata.org/pandas-docs/stable/user_guide/indexing.html#returning-a-view-versus-a-copy\n",
      "  train_df[\"label\"] = train_df[\"correct\"].astype(np.float32)\n",
      "/tmp/ipykernel_24/3117296500.py:2: SettingWithCopyWarning: \n",
      "A value is trying to be set on a copy of a slice from a DataFrame.\n",
      "Try using .loc[row_indexer,col_indexer] = value instead\n",
      "\n",
      "See the caveats in the documentation: https://pandas.pydata.org/pandas-docs/stable/user_guide/indexing.html#returning-a-view-versus-a-copy\n",
      "  dev_df[\"label\"] = dev_df[\"correct\"].astype(np.float32)\n",
      "/tmp/ipykernel_24/3117296500.py:3: SettingWithCopyWarning: \n",
      "A value is trying to be set on a copy of a slice from a DataFrame.\n",
      "Try using .loc[row_indexer,col_indexer] = value instead\n",
      "\n",
      "See the caveats in the documentation: https://pandas.pydata.org/pandas-docs/stable/user_guide/indexing.html#returning-a-view-versus-a-copy\n",
      "  test_df[\"label\"] = test_df[\"correct\"].astype(np.float32)\n"
     ]
    },
    {
     "data": {
      "text/plain": [
       "0    0.0\n",
       "1    0.0\n",
       "2    0.0\n",
       "3    1.0\n",
       "4    0.0\n",
       "Name: label, dtype: float32"
      ]
     },
     "execution_count": 10,
     "metadata": {},
     "output_type": "execute_result"
    }
   ],
   "source": [
    "train_df[\"label\"] = train_df[\"correct\"].astype(np.float32)\n",
    "dev_df[\"label\"] = dev_df[\"correct\"].astype(np.float32)\n",
    "test_df[\"label\"] = test_df[\"correct\"].astype(np.float32)\n",
    "train_df[\"label\"].head(5)"
   ]
  },
  {
   "cell_type": "code",
   "execution_count": 11,
   "id": "2c739603",
   "metadata": {
    "execution": {
     "iopub.execute_input": "2024-05-06T14:52:26.727876Z",
     "iopub.status.busy": "2024-05-06T14:52:26.727195Z",
     "iopub.status.idle": "2024-05-06T14:52:31.672701Z",
     "shell.execute_reply": "2024-05-06T14:52:31.671769Z"
    },
    "id": "3yfxNLwKc2lU",
    "outputId": "8e2fb5b7-29d8-4f70-d88a-fbcb51ec6932",
    "papermill": {
     "duration": 5.018453,
     "end_time": "2024-05-06T14:52:31.674969",
     "exception": false,
     "start_time": "2024-05-06T14:52:26.656516",
     "status": "completed"
    },
    "tags": []
   },
   "outputs": [
    {
     "name": "stderr",
     "output_type": "stream",
     "text": [
      "/tmp/ipykernel_24/1764180835.py:1: SettingWithCopyWarning: \n",
      "A value is trying to be set on a copy of a slice from a DataFrame.\n",
      "Try using .loc[row_indexer,col_indexer] = value instead\n",
      "\n",
      "See the caveats in the documentation: https://pandas.pydata.org/pandas-docs/stable/user_guide/indexing.html#returning-a-view-versus-a-copy\n",
      "  train_df[\"graph\"] = train_df[\"graph\"].apply(eval)\n",
      "/tmp/ipykernel_24/1764180835.py:2: SettingWithCopyWarning: \n",
      "A value is trying to be set on a copy of a slice from a DataFrame.\n",
      "Try using .loc[row_indexer,col_indexer] = value instead\n",
      "\n",
      "See the caveats in the documentation: https://pandas.pydata.org/pandas-docs/stable/user_guide/indexing.html#returning-a-view-versus-a-copy\n",
      "  dev_df[\"graph\"] = dev_df[\"graph\"].apply(eval)\n",
      "/tmp/ipykernel_24/1764180835.py:3: SettingWithCopyWarning: \n",
      "A value is trying to be set on a copy of a slice from a DataFrame.\n",
      "Try using .loc[row_indexer,col_indexer] = value instead\n",
      "\n",
      "See the caveats in the documentation: https://pandas.pydata.org/pandas-docs/stable/user_guide/indexing.html#returning-a-view-versus-a-copy\n",
      "  test_df[\"graph\"] = test_df[\"graph\"].apply(eval)\n"
     ]
    }
   ],
   "source": [
    "train_df[\"graph\"] = train_df[\"graph\"].apply(eval)\n",
    "dev_df[\"graph\"] = dev_df[\"graph\"].apply(eval)\n",
    "test_df[\"graph\"] = test_df[\"graph\"].apply(eval)"
   ]
  },
  {
   "cell_type": "code",
   "execution_count": 12,
   "id": "8b29b5f3",
   "metadata": {
    "execution": {
     "iopub.execute_input": "2024-05-06T14:52:31.736223Z",
     "iopub.status.busy": "2024-05-06T14:52:31.735943Z",
     "iopub.status.idle": "2024-05-06T14:52:31.751748Z",
     "shell.execute_reply": "2024-05-06T14:52:31.750841Z"
    },
    "id": "uzhlVBQ9bFy4",
    "outputId": "56bb9b19-1c23-417f-c7ea-1043efa2bdc6",
    "papermill": {
     "duration": 0.048553,
     "end_time": "2024-05-06T14:52:31.753724",
     "exception": false,
     "start_time": "2024-05-06T14:52:31.705171",
     "status": "completed"
    },
    "tags": []
   },
   "outputs": [
    {
     "data": {
      "text/html": [
       "<div>\n",
       "<style scoped>\n",
       "    .dataframe tbody tr th:only-of-type {\n",
       "        vertical-align: middle;\n",
       "    }\n",
       "\n",
       "    .dataframe tbody tr th {\n",
       "        vertical-align: top;\n",
       "    }\n",
       "\n",
       "    .dataframe thead th {\n",
       "        text-align: right;\n",
       "    }\n",
       "</style>\n",
       "<table border=\"1\" class=\"dataframe\">\n",
       "  <thead>\n",
       "    <tr style=\"text-align: right;\">\n",
       "      <th></th>\n",
       "      <th>sample_id</th>\n",
       "      <th>question</th>\n",
       "      <th>questionEntity</th>\n",
       "      <th>answerEntity</th>\n",
       "      <th>groundTruthAnswerEntity</th>\n",
       "      <th>answerEntityId</th>\n",
       "      <th>questionEntityId</th>\n",
       "      <th>groundTruthAnswerEntityId</th>\n",
       "      <th>correct</th>\n",
       "      <th>graph</th>\n",
       "    </tr>\n",
       "  </thead>\n",
       "  <tbody>\n",
       "    <tr>\n",
       "      <th>0</th>\n",
       "      <td>0</td>\n",
       "      <td>Whst is the name of the head of state and highest ranking political and religious authority in Iran?</td>\n",
       "      <td>Iran</td>\n",
       "      <td>Ruhollah Khomeini's return to Iran</td>\n",
       "      <td>Office of the Supreme Leader of Iran</td>\n",
       "      <td>Q7293530</td>\n",
       "      <td>Q794</td>\n",
       "      <td>Q16045000</td>\n",
       "      <td>False</td>\n",
       "      <td>{'nodes': [{'type': 'QUESTIONS_ENTITY', 'name_': 'Q794', 'id': 0, 'label': 'Iran'}, {'type': 'INTERNAL', 'name_': 'Q207991', 'id': 1, 'label': 'Pahlavi dynasty'}, {'type': 'ANSWER_CANDIDATE_ENTITY', 'name_': 'Q7293530', 'id': 2, 'label': \"Ruhollah Khomeini's return to Iran\"}], 'links': [{'name_': 'P17', 'source': 0, 'target': 0, 'label': 'country'}, {'name_': 'P1365', 'source': 0, 'target': 1, 'label': 'replaces'}, {'name_': 'P1366', 'source': 1, 'target': 0, 'label': 'replaced by'}, {'name_': 'P17', 'source': 2, 'target': 1, 'label': 'country'}]}</td>\n",
       "    </tr>\n",
       "  </tbody>\n",
       "</table>\n",
       "</div>"
      ],
      "text/plain": [
       "   sample_id  \\\n",
       "0          0   \n",
       "\n",
       "                                                                                               question  \\\n",
       "0  Whst is the name of the head of state and highest ranking political and religious authority in Iran?   \n",
       "\n",
       "  questionEntity                        answerEntity  \\\n",
       "0           Iran  Ruhollah Khomeini's return to Iran   \n",
       "\n",
       "                groundTruthAnswerEntity answerEntityId questionEntityId  \\\n",
       "0  Office of the Supreme Leader of Iran       Q7293530             Q794   \n",
       "\n",
       "  groundTruthAnswerEntityId  correct  \\\n",
       "0                 Q16045000    False   \n",
       "\n",
       "                                                                                                                                                                                                                                                                                                                                                                                                                                                                                                                                                                       graph  \n",
       "0  {'nodes': [{'type': 'QUESTIONS_ENTITY', 'name_': 'Q794', 'id': 0, 'label': 'Iran'}, {'type': 'INTERNAL', 'name_': 'Q207991', 'id': 1, 'label': 'Pahlavi dynasty'}, {'type': 'ANSWER_CANDIDATE_ENTITY', 'name_': 'Q7293530', 'id': 2, 'label': \"Ruhollah Khomeini's return to Iran\"}], 'links': [{'name_': 'P17', 'source': 0, 'target': 0, 'label': 'country'}, {'name_': 'P1365', 'source': 0, 'target': 1, 'label': 'replaces'}, {'name_': 'P1366', 'source': 1, 'target': 0, 'label': 'replaced by'}, {'name_': 'P17', 'source': 2, 'target': 1, 'label': 'country'}]}  "
      ]
     },
     "execution_count": 12,
     "metadata": {},
     "output_type": "execute_result"
    }
   ],
   "source": [
    "data_df.head(1)"
   ]
  },
  {
   "cell_type": "code",
   "execution_count": 13,
   "id": "4669df85",
   "metadata": {
    "execution": {
     "iopub.execute_input": "2024-05-06T14:52:31.814952Z",
     "iopub.status.busy": "2024-05-06T14:52:31.814657Z",
     "iopub.status.idle": "2024-05-06T14:52:31.824342Z",
     "shell.execute_reply": "2024-05-06T14:52:31.823490Z"
    },
    "id": "c_W3umW4fzlk",
    "papermill": {
     "duration": 0.042445,
     "end_time": "2024-05-06T14:52:31.826174",
     "exception": false,
     "start_time": "2024-05-06T14:52:31.783729",
     "status": "completed"
    },
    "tags": []
   },
   "outputs": [],
   "source": [
    "class QuestionAnswerDataset(Dataset):\n",
    "\n",
    "    def __init__(self, df, tokenizer, max_length, context_key=\"answerEntity\",\n",
    "                 tokenizer_truncation=\"only_first\", graph_length=\"length\", graph_density=\"density\"):\n",
    "        super(QuestionAnswerDataset).__init__()\n",
    "\n",
    "        self.questions = df.question.values\n",
    "        self.contexts = df[context_key].values\n",
    "        self.graph_length = df[graph_length].values\n",
    "        self.graph_density = df[graph_density].values\n",
    "        self.labels = torch.tensor(df.label.values, dtype=torch.float32)\n",
    "        self.tokenizer = tokenizer\n",
    "        self.max_length = max_length\n",
    "        self.tokenized_input = [tokenizer.encode_plus(x, y,\n",
    "                              max_length=self.max_length,\n",
    "                              padding=\"max_length\",\n",
    "                              truncation=tokenizer_truncation,\n",
    "                              return_tensors=\"pt\", ) \\\n",
    "                          for x, y in zip(self.questions,\n",
    "                                          self.contexts)]\n",
    "        assert len(self.questions) == len(self.contexts) == len(self.labels)\n",
    "\n",
    "    def __len__(self):\n",
    "        return len(self.questions)\n",
    "\n",
    "    def __getitem__(self, idx):\n",
    "        return {\n",
    "                \"input_ids\": self.tokenized_input[idx][\"input_ids\"][0],\n",
    "                \"attention_mask\" : self.tokenized_input[idx][\"attention_mask\"][0],\n",
    "                \"labels\": self.labels[idx],\n",
    "                \"graph_length\": self.graph_length[idx],\n",
    "                \"graph_density\": self.graph_density[idx],\n",
    "                }"
   ]
  },
  {
   "cell_type": "markdown",
   "id": "c5ccbe6b",
   "metadata": {
    "id": "QVT2Urzeb2KD",
    "papermill": {
     "duration": 0.030301,
     "end_time": "2024-05-06T14:52:31.886876",
     "exception": false,
     "start_time": "2024-05-06T14:52:31.856575",
     "status": "completed"
    },
    "tags": []
   },
   "source": [
    "# Graph Linearization"
   ]
  },
  {
   "cell_type": "code",
   "execution_count": 14,
   "id": "0111b86f",
   "metadata": {
    "execution": {
     "iopub.execute_input": "2024-05-06T14:52:31.949332Z",
     "iopub.status.busy": "2024-05-06T14:52:31.949030Z",
     "iopub.status.idle": "2024-05-06T14:52:32.960037Z",
     "shell.execute_reply": "2024-05-06T14:52:32.959074Z"
    },
    "id": "oGwpaX9pbH1w",
    "outputId": "7c62da4d-7bf4-4a9f-d582-b10b9c0073c9",
    "papermill": {
     "duration": 1.045239,
     "end_time": "2024-05-06T14:52:32.962148",
     "exception": false,
     "start_time": "2024-05-06T14:52:31.916909",
     "status": "completed"
    },
    "tags": []
   },
   "outputs": [
    {
     "data": {
      "application/vnd.jupyter.widget-view+json": {
       "model_id": "1a5c595c232941089b990d6dcfac8038",
       "version_major": 2,
       "version_minor": 0
      },
      "text/plain": [
       "tokenizer_config.json:   0%|          | 0.00/350 [00:00<?, ?B/s]"
      ]
     },
     "metadata": {},
     "output_type": "display_data"
    },
    {
     "data": {
      "application/vnd.jupyter.widget-view+json": {
       "model_id": "5fedf7cf4ceb443e99d6b1dbe9eeed17",
       "version_major": 2,
       "version_minor": 0
      },
      "text/plain": [
       "vocab.txt:   0%|          | 0.00/232k [00:00<?, ?B/s]"
      ]
     },
     "metadata": {},
     "output_type": "display_data"
    },
    {
     "data": {
      "application/vnd.jupyter.widget-view+json": {
       "model_id": "8888fef1ae88431fbdd08e9c1c2ade42",
       "version_major": 2,
       "version_minor": 0
      },
      "text/plain": [
       "tokenizer.json:   0%|          | 0.00/466k [00:00<?, ?B/s]"
      ]
     },
     "metadata": {},
     "output_type": "display_data"
    },
    {
     "data": {
      "application/vnd.jupyter.widget-view+json": {
       "model_id": "ccc4d743c1b64ca7b19b04924eaed274",
       "version_major": 2,
       "version_minor": 0
      },
      "text/plain": [
       "special_tokens_map.json:   0%|          | 0.00/112 [00:00<?, ?B/s]"
      ]
     },
     "metadata": {},
     "output_type": "display_data"
    }
   ],
   "source": [
    "model_name=\"sentence-transformers/all-MiniLM-L6-v2\"\n",
    "tokenizer = AutoTokenizer.from_pretrained(model_name)\n",
    "SEP_TOKEN = tokenizer.sep_token"
   ]
  },
  {
   "cell_type": "code",
   "execution_count": 15,
   "id": "bec711e8",
   "metadata": {
    "execution": {
     "iopub.execute_input": "2024-05-06T14:52:33.026309Z",
     "iopub.status.busy": "2024-05-06T14:52:33.025508Z",
     "iopub.status.idle": "2024-05-06T14:52:33.035809Z",
     "shell.execute_reply": "2024-05-06T14:52:33.035016Z"
    },
    "id": "e1ORIdQmb9RF",
    "papermill": {
     "duration": 0.044041,
     "end_time": "2024-05-06T14:52:33.037802",
     "exception": false,
     "start_time": "2024-05-06T14:52:32.993761",
     "status": "completed"
    },
    "tags": []
   },
   "outputs": [],
   "source": [
    "# {'directed': True, 'multigraph': False, 'graph': {},\n",
    "# 'nodes': [{'type': 'QUESTIONS_ENTITY', 'name_': 'Q49', 'id': 0, 'label': 'North America'},\n",
    "# {'type': 'ANSWER_CANDIDATE_ENTITY', 'name_': 'Q194057', 'id': 1, 'label': 'Mount Rainier'}],\n",
    "# 'links': [{'name_': 'P30', 'source': 1, 'target': 0, 'label': 'continent'}]}\n",
    "def linearize_graph(graph_dict):\n",
    "    graph_dict = graph_dict[\"graph\"]\n",
    "\n",
    "    nodes = sorted((node_dict for node_dict in graph_dict[\"nodes\"]), key=lambda d:d[\"id\"])\n",
    "\n",
    "    len_nodes = len(nodes)\n",
    "    len_links = len(graph_dict[\"links\"])\n",
    "    if len_nodes > 1:\n",
    "        kn_density =  len_links / (len_nodes * (len_nodes - 1))\n",
    "    else:\n",
    "        kn_density =  len_links / (len_nodes * (len_nodes))\n",
    "\n",
    "\n",
    "    for n_id, node_dict in enumerate(nodes):\n",
    "        assert n_id == node_dict[\"id\"]\n",
    "    src_node_id2links = {}\n",
    "\n",
    "    for link_dict in graph_dict[\"links\"]:\n",
    "\n",
    "        link_src =  link_dict[\"source\"]\n",
    "\n",
    "        if src_node_id2links.get(link_src) is None:\n",
    "            src_node_id2links[link_src] = []\n",
    "        src_node_id2links[link_src].append(link_dict)\n",
    "\n",
    "    graph_s = \"\"\n",
    "\n",
    "    for n_id, node_dict in enumerate(nodes):\n",
    "        links = src_node_id2links.get(n_id, list())\n",
    "        start_label = node_dict[\"label\"]\n",
    "        if node_dict[\"type\"] == \"ANSWER_CANDIDATE_ENTITY\":\n",
    "            start_label = f\"{SEP_TOKEN} {start_label} {SEP_TOKEN}\"\n",
    "        for link_dict in links:\n",
    "            target_label = nodes[link_dict[\"target\"]][\"label\"]\n",
    "            if nodes[link_dict[\"target\"]][\"type\"] == \"ANSWER_CANDIDATE_ENTITY\":\n",
    "                target_label = f\"{SEP_TOKEN} {target_label} {SEP_TOKEN}\"\n",
    "            link_s = f\" {start_label}, {link_dict['label']}, {target_label} \"\n",
    "\n",
    "            graph_s += link_s\n",
    "        # graph_s += node_dict[\"label\"]\n",
    "        # if n_id != len(nodes) - 1:\n",
    "        #     link_label = link[\"label\"]\n",
    "        #     graph_s += link_label\n",
    "    #print('--------')\n",
    "    return graph_s, len_nodes, kn_density"
   ]
  },
  {
   "cell_type": "code",
   "execution_count": 16,
   "id": "da48f69e",
   "metadata": {
    "execution": {
     "iopub.execute_input": "2024-05-06T14:52:33.101076Z",
     "iopub.status.busy": "2024-05-06T14:52:33.100565Z",
     "iopub.status.idle": "2024-05-06T14:52:33.117925Z",
     "shell.execute_reply": "2024-05-06T14:52:33.117070Z"
    },
    "id": "fCTT-gMIh6XI",
    "outputId": "f82ed75b-7c7f-47b7-bf9d-4158210356fb",
    "papermill": {
     "duration": 0.050941,
     "end_time": "2024-05-06T14:52:33.119818",
     "exception": false,
     "start_time": "2024-05-06T14:52:33.068877",
     "status": "completed"
    },
    "tags": []
   },
   "outputs": [
    {
     "data": {
      "text/html": [
       "<div>\n",
       "<style scoped>\n",
       "    .dataframe tbody tr th:only-of-type {\n",
       "        vertical-align: middle;\n",
       "    }\n",
       "\n",
       "    .dataframe tbody tr th {\n",
       "        vertical-align: top;\n",
       "    }\n",
       "\n",
       "    .dataframe thead th {\n",
       "        text-align: right;\n",
       "    }\n",
       "</style>\n",
       "<table border=\"1\" class=\"dataframe\">\n",
       "  <thead>\n",
       "    <tr style=\"text-align: right;\">\n",
       "      <th></th>\n",
       "      <th>sample_id</th>\n",
       "      <th>question</th>\n",
       "      <th>questionEntity</th>\n",
       "      <th>answerEntity</th>\n",
       "      <th>groundTruthAnswerEntity</th>\n",
       "      <th>answerEntityId</th>\n",
       "      <th>questionEntityId</th>\n",
       "      <th>groundTruthAnswerEntityId</th>\n",
       "      <th>correct</th>\n",
       "      <th>graph</th>\n",
       "      <th>label</th>\n",
       "    </tr>\n",
       "  </thead>\n",
       "  <tbody>\n",
       "    <tr>\n",
       "      <th>0</th>\n",
       "      <td>0</td>\n",
       "      <td>Whst is the name of the head of state and highest ranking political and religious authority in Iran?</td>\n",
       "      <td>Iran</td>\n",
       "      <td>Ruhollah Khomeini's return to Iran</td>\n",
       "      <td>Office of the Supreme Leader of Iran</td>\n",
       "      <td>Q7293530</td>\n",
       "      <td>Q794</td>\n",
       "      <td>Q16045000</td>\n",
       "      <td>False</td>\n",
       "      <td>{'nodes': [{'type': 'QUESTIONS_ENTITY', 'name_': 'Q794', 'id': 0, 'label': 'Iran'}, {'type': 'INTERNAL', 'name_': 'Q207991', 'id': 1, 'label': 'Pahlavi dynasty'}, {'type': 'ANSWER_CANDIDATE_ENTITY', 'name_': 'Q7293530', 'id': 2, 'label': 'Ruhollah Khomeini's return to Iran'}], 'links': [{'name_': 'P17', 'source': 0, 'target': 0, 'label': 'country'}, {'name_': 'P1365', 'source': 0, 'target': 1, 'label': 'replaces'}, {'name_': 'P1366', 'source': 1, 'target': 0, 'label': 'replaced by'}, {'name_': 'P17', 'source': 2, 'target': 1, 'label': 'country'}]}</td>\n",
       "      <td>0.0</td>\n",
       "    </tr>\n",
       "  </tbody>\n",
       "</table>\n",
       "</div>"
      ],
      "text/plain": [
       "   sample_id  \\\n",
       "0          0   \n",
       "\n",
       "                                                                                               question  \\\n",
       "0  Whst is the name of the head of state and highest ranking political and religious authority in Iran?   \n",
       "\n",
       "  questionEntity                        answerEntity  \\\n",
       "0           Iran  Ruhollah Khomeini's return to Iran   \n",
       "\n",
       "                groundTruthAnswerEntity answerEntityId questionEntityId  \\\n",
       "0  Office of the Supreme Leader of Iran       Q7293530             Q794   \n",
       "\n",
       "  groundTruthAnswerEntityId  correct  \\\n",
       "0                 Q16045000    False   \n",
       "\n",
       "                                                                                                                                                                                                                                                                                                                                                                                                                                                                                                                                                                       graph  \\\n",
       "0  {'nodes': [{'type': 'QUESTIONS_ENTITY', 'name_': 'Q794', 'id': 0, 'label': 'Iran'}, {'type': 'INTERNAL', 'name_': 'Q207991', 'id': 1, 'label': 'Pahlavi dynasty'}, {'type': 'ANSWER_CANDIDATE_ENTITY', 'name_': 'Q7293530', 'id': 2, 'label': 'Ruhollah Khomeini's return to Iran'}], 'links': [{'name_': 'P17', 'source': 0, 'target': 0, 'label': 'country'}, {'name_': 'P1365', 'source': 0, 'target': 1, 'label': 'replaces'}, {'name_': 'P1366', 'source': 1, 'target': 0, 'label': 'replaced by'}, {'name_': 'P17', 'source': 2, 'target': 1, 'label': 'country'}]}   \n",
       "\n",
       "   label  \n",
       "0    0.0  "
      ]
     },
     "execution_count": 16,
     "metadata": {},
     "output_type": "execute_result"
    }
   ],
   "source": [
    "train_df.head(1)"
   ]
  },
  {
   "cell_type": "code",
   "execution_count": 17,
   "id": "525b8f6b",
   "metadata": {
    "execution": {
     "iopub.execute_input": "2024-05-06T14:52:33.184140Z",
     "iopub.status.busy": "2024-05-06T14:52:33.183869Z",
     "iopub.status.idle": "2024-05-06T14:52:33.191316Z",
     "shell.execute_reply": "2024-05-06T14:52:33.190527Z"
    },
    "id": "oNUxHj0zhWz-",
    "outputId": "3f2af0cb-3191-4286-9414-e2ed24e9e07a",
    "papermill": {
     "duration": 0.041402,
     "end_time": "2024-05-06T14:52:33.193198",
     "exception": false,
     "start_time": "2024-05-06T14:52:33.151796",
     "status": "completed"
    },
    "tags": []
   },
   "outputs": [
    {
     "data": {
      "text/plain": [
       "{'nodes': [{'type': 'QUESTIONS_ENTITY',\n",
       "   'name_': 'Q794',\n",
       "   'id': 0,\n",
       "   'label': 'Iran'},\n",
       "  {'type': 'INTERNAL',\n",
       "   'name_': 'Q207991',\n",
       "   'id': 1,\n",
       "   'label': 'Pahlavi dynasty'},\n",
       "  {'type': 'ANSWER_CANDIDATE_ENTITY',\n",
       "   'name_': 'Q7293530',\n",
       "   'id': 2,\n",
       "   'label': \"Ruhollah Khomeini's return to Iran\"}],\n",
       " 'links': [{'name_': 'P17', 'source': 0, 'target': 0, 'label': 'country'},\n",
       "  {'name_': 'P1365', 'source': 0, 'target': 1, 'label': 'replaces'},\n",
       "  {'name_': 'P1366', 'source': 1, 'target': 0, 'label': 'replaced by'},\n",
       "  {'name_': 'P17', 'source': 2, 'target': 1, 'label': 'country'}]}"
      ]
     },
     "execution_count": 17,
     "metadata": {},
     "output_type": "execute_result"
    }
   ],
   "source": [
    "train_df[\"graph\"][0]"
   ]
  },
  {
   "cell_type": "code",
   "execution_count": 18,
   "id": "b0c3c1f1",
   "metadata": {
    "execution": {
     "iopub.execute_input": "2024-05-06T14:52:33.256351Z",
     "iopub.status.busy": "2024-05-06T14:52:33.256071Z",
     "iopub.status.idle": "2024-05-06T14:52:34.370654Z",
     "shell.execute_reply": "2024-05-06T14:52:34.369782Z"
    },
    "id": "ZFOuz8WScbCA",
    "outputId": "f15497df-a0da-4b41-bdad-6729f18c60f9",
    "papermill": {
     "duration": 1.14869,
     "end_time": "2024-05-06T14:52:34.372930",
     "exception": false,
     "start_time": "2024-05-06T14:52:33.224240",
     "status": "completed"
    },
    "tags": []
   },
   "outputs": [
    {
     "name": "stderr",
     "output_type": "stream",
     "text": [
      "/tmp/ipykernel_24/648362694.py:1: SettingWithCopyWarning: \n",
      "A value is trying to be set on a copy of a slice from a DataFrame.\n",
      "Try using .loc[row_indexer,col_indexer] = value instead\n",
      "\n",
      "See the caveats in the documentation: https://pandas.pydata.org/pandas-docs/stable/user_guide/indexing.html#returning-a-view-versus-a-copy\n",
      "  train_df[\"linearized_graph\"], train_df[\"length\"], train_df[\"density\"] = zip(*train_df.apply(linearize_graph, axis=1))\n",
      "/tmp/ipykernel_24/648362694.py:1: SettingWithCopyWarning: \n",
      "A value is trying to be set on a copy of a slice from a DataFrame.\n",
      "Try using .loc[row_indexer,col_indexer] = value instead\n",
      "\n",
      "See the caveats in the documentation: https://pandas.pydata.org/pandas-docs/stable/user_guide/indexing.html#returning-a-view-versus-a-copy\n",
      "  train_df[\"linearized_graph\"], train_df[\"length\"], train_df[\"density\"] = zip(*train_df.apply(linearize_graph, axis=1))\n",
      "/tmp/ipykernel_24/648362694.py:1: SettingWithCopyWarning: \n",
      "A value is trying to be set on a copy of a slice from a DataFrame.\n",
      "Try using .loc[row_indexer,col_indexer] = value instead\n",
      "\n",
      "See the caveats in the documentation: https://pandas.pydata.org/pandas-docs/stable/user_guide/indexing.html#returning-a-view-versus-a-copy\n",
      "  train_df[\"linearized_graph\"], train_df[\"length\"], train_df[\"density\"] = zip(*train_df.apply(linearize_graph, axis=1))\n",
      "/tmp/ipykernel_24/648362694.py:2: SettingWithCopyWarning: \n",
      "A value is trying to be set on a copy of a slice from a DataFrame.\n",
      "Try using .loc[row_indexer,col_indexer] = value instead\n",
      "\n",
      "See the caveats in the documentation: https://pandas.pydata.org/pandas-docs/stable/user_guide/indexing.html#returning-a-view-versus-a-copy\n",
      "  dev_df[\"linearized_graph\"], dev_df[\"length\"], dev_df[\"density\"] = zip(*dev_df.apply(linearize_graph, axis=1))\n",
      "/tmp/ipykernel_24/648362694.py:2: SettingWithCopyWarning: \n",
      "A value is trying to be set on a copy of a slice from a DataFrame.\n",
      "Try using .loc[row_indexer,col_indexer] = value instead\n",
      "\n",
      "See the caveats in the documentation: https://pandas.pydata.org/pandas-docs/stable/user_guide/indexing.html#returning-a-view-versus-a-copy\n",
      "  dev_df[\"linearized_graph\"], dev_df[\"length\"], dev_df[\"density\"] = zip(*dev_df.apply(linearize_graph, axis=1))\n",
      "/tmp/ipykernel_24/648362694.py:2: SettingWithCopyWarning: \n",
      "A value is trying to be set on a copy of a slice from a DataFrame.\n",
      "Try using .loc[row_indexer,col_indexer] = value instead\n",
      "\n",
      "See the caveats in the documentation: https://pandas.pydata.org/pandas-docs/stable/user_guide/indexing.html#returning-a-view-versus-a-copy\n",
      "  dev_df[\"linearized_graph\"], dev_df[\"length\"], dev_df[\"density\"] = zip(*dev_df.apply(linearize_graph, axis=1))\n",
      "/tmp/ipykernel_24/648362694.py:3: SettingWithCopyWarning: \n",
      "A value is trying to be set on a copy of a slice from a DataFrame.\n",
      "Try using .loc[row_indexer,col_indexer] = value instead\n",
      "\n",
      "See the caveats in the documentation: https://pandas.pydata.org/pandas-docs/stable/user_guide/indexing.html#returning-a-view-versus-a-copy\n",
      "  test_df[\"linearized_graph\"], test_df[\"length\"], test_df[\"density\"] = zip(*test_df.apply(linearize_graph, axis=1))\n",
      "/tmp/ipykernel_24/648362694.py:3: SettingWithCopyWarning: \n",
      "A value is trying to be set on a copy of a slice from a DataFrame.\n",
      "Try using .loc[row_indexer,col_indexer] = value instead\n",
      "\n",
      "See the caveats in the documentation: https://pandas.pydata.org/pandas-docs/stable/user_guide/indexing.html#returning-a-view-versus-a-copy\n",
      "  test_df[\"linearized_graph\"], test_df[\"length\"], test_df[\"density\"] = zip(*test_df.apply(linearize_graph, axis=1))\n",
      "/tmp/ipykernel_24/648362694.py:3: SettingWithCopyWarning: \n",
      "A value is trying to be set on a copy of a slice from a DataFrame.\n",
      "Try using .loc[row_indexer,col_indexer] = value instead\n",
      "\n",
      "See the caveats in the documentation: https://pandas.pydata.org/pandas-docs/stable/user_guide/indexing.html#returning-a-view-versus-a-copy\n",
      "  test_df[\"linearized_graph\"], test_df[\"length\"], test_df[\"density\"] = zip(*test_df.apply(linearize_graph, axis=1))\n"
     ]
    }
   ],
   "source": [
    "train_df[\"linearized_graph\"], train_df[\"length\"], train_df[\"density\"] = zip(*train_df.apply(linearize_graph, axis=1))\n",
    "dev_df[\"linearized_graph\"], dev_df[\"length\"], dev_df[\"density\"] = zip(*dev_df.apply(linearize_graph, axis=1))\n",
    "test_df[\"linearized_graph\"], test_df[\"length\"], test_df[\"density\"] = zip(*test_df.apply(linearize_graph, axis=1))"
   ]
  },
  {
   "cell_type": "code",
   "execution_count": 19,
   "id": "dc61676c",
   "metadata": {
    "execution": {
     "iopub.execute_input": "2024-05-06T14:52:34.437607Z",
     "iopub.status.busy": "2024-05-06T14:52:34.437301Z",
     "iopub.status.idle": "2024-05-06T14:52:34.462579Z",
     "shell.execute_reply": "2024-05-06T14:52:34.461744Z"
    },
    "id": "kCPpjo7BZYV1",
    "outputId": "d6af5e78-190e-4556-d358-1ec0aee0f1c7",
    "papermill": {
     "duration": 0.059607,
     "end_time": "2024-05-06T14:52:34.464582",
     "exception": false,
     "start_time": "2024-05-06T14:52:34.404975",
     "status": "completed"
    },
    "tags": []
   },
   "outputs": [
    {
     "data": {
      "text/html": [
       "<div>\n",
       "<style scoped>\n",
       "    .dataframe tbody tr th:only-of-type {\n",
       "        vertical-align: middle;\n",
       "    }\n",
       "\n",
       "    .dataframe tbody tr th {\n",
       "        vertical-align: top;\n",
       "    }\n",
       "\n",
       "    .dataframe thead th {\n",
       "        text-align: right;\n",
       "    }\n",
       "</style>\n",
       "<table border=\"1\" class=\"dataframe\">\n",
       "  <thead>\n",
       "    <tr style=\"text-align: right;\">\n",
       "      <th></th>\n",
       "      <th>sample_id</th>\n",
       "      <th>question</th>\n",
       "      <th>questionEntity</th>\n",
       "      <th>answerEntity</th>\n",
       "      <th>groundTruthAnswerEntity</th>\n",
       "      <th>answerEntityId</th>\n",
       "      <th>questionEntityId</th>\n",
       "      <th>groundTruthAnswerEntityId</th>\n",
       "      <th>correct</th>\n",
       "      <th>graph</th>\n",
       "      <th>label</th>\n",
       "      <th>linearized_graph</th>\n",
       "      <th>length</th>\n",
       "      <th>density</th>\n",
       "    </tr>\n",
       "  </thead>\n",
       "  <tbody>\n",
       "    <tr>\n",
       "      <th>0</th>\n",
       "      <td>0</td>\n",
       "      <td>Whst is the name of the head of state and highest ranking political and religious authority in Iran?</td>\n",
       "      <td>Iran</td>\n",
       "      <td>Ruhollah Khomeini's return to Iran</td>\n",
       "      <td>Office of the Supreme Leader of Iran</td>\n",
       "      <td>Q7293530</td>\n",
       "      <td>Q794</td>\n",
       "      <td>Q16045000</td>\n",
       "      <td>False</td>\n",
       "      <td>{'nodes': [{'type': 'QUESTIONS_ENTITY', 'name_': 'Q794', 'id': 0, 'label': 'Iran'}, {'type': 'INTERNAL', 'name_': 'Q207991', 'id': 1, 'label': 'Pahlavi dynasty'}, {'type': 'ANSWER_CANDIDATE_ENTITY', 'name_': 'Q7293530', 'id': 2, 'label': 'Ruhollah Khomeini's return to Iran'}], 'links': [{'name_': 'P17', 'source': 0, 'target': 0, 'label': 'country'}, {'name_': 'P1365', 'source': 0, 'target': 1, 'label': 'replaces'}, {'name_': 'P1366', 'source': 1, 'target': 0, 'label': 'replaced by'}, {'name_': 'P17', 'source': 2, 'target': 1, 'label': 'country'}]}</td>\n",
       "      <td>0.0</td>\n",
       "      <td>Iran, country, Iran  Iran, replaces, Pahlavi dynasty  Pahlavi dynasty, replaced by, Iran  [SEP] Ruhollah Khomeini's return to Iran [SEP], country, Pahlavi dynasty</td>\n",
       "      <td>3</td>\n",
       "      <td>0.666667</td>\n",
       "    </tr>\n",
       "    <tr>\n",
       "      <th>1</th>\n",
       "      <td>1</td>\n",
       "      <td>Whst is the name of the head of state and highest ranking political and religious authority in Iran?</td>\n",
       "      <td>Iran</td>\n",
       "      <td>Ruhollah Khomeini's letter to Mikhail Gorbachev</td>\n",
       "      <td>Office of the Supreme Leader of Iran</td>\n",
       "      <td>Q5952984</td>\n",
       "      <td>Q794</td>\n",
       "      <td>Q16045000</td>\n",
       "      <td>False</td>\n",
       "      <td>{'nodes': [{'type': 'INTERNAL', 'name_': 'Q4173137', 'id': 0, 'label': 'Jewish Encyclopedia of Brockhaus and Efron'}, {'type': 'QUESTIONS_ENTITY', 'name_': 'Q794', 'id': 1, 'label': 'Iran'}, {'type': 'INTERNAL', 'name_': 'Q47461344', 'id': 2, 'label': 'written work'}, {'type': 'INTERNAL', 'name_': 'Q133492', 'id': 3, 'label': 'letter'}, {'type': 'INTERNAL', 'name_': 'Q1030940', 'id': 4, 'label': 'The Book of Healing'}, {'type': 'ANSWER_CANDIDATE_ENTITY', 'name_': 'Q5952984', 'id': 5, 'label': 'Ruhollah Khomeini's letter to Mikhail Gorbachev'}], 'links': [{'name_': 'P1343', 'source': 1, 'target': 0, 'label': 'described by source'}, {'name_': 'P17', 'source': 1, 'target': 1, 'label': 'country'}, {'name_': 'P1343', 'source': 3, 'target': 0, 'label': 'described by source'}, {'name_': 'P279', 'source': 3, 'target': 2, 'label': 'subclass of'}, {'name_': 'P495', 'source': 4, 'target': 1, 'label': 'country of origin'}, {'name_': 'P31', 'source': 4, 'target': 2, 'label': 'instance of'}, {'name_': 'P31', 'source': 5, 'target': 2, 'label': 'instance of'}, {'name_': 'P31', 'source': 5, 'target': 3, 'label': 'instance of'}]}</td>\n",
       "      <td>0.0</td>\n",
       "      <td>Iran, described by source, Jewish Encyclopedia of Brockhaus and Efron  Iran, country, Iran  letter, described by source, Jewish Encyclopedia of Brockhaus and Efron  letter, subclass of, written work  The Book of Healing, country of origin, Iran  The Book of Healing, instance of, written work  [SEP] Ruhollah Khomeini's letter to Mikhail Gorbachev [SEP], instance of, written work  [SEP] Ruhollah Khomeini's letter to Mikhail Gorbachev [SEP], instance of, letter</td>\n",
       "      <td>6</td>\n",
       "      <td>0.266667</td>\n",
       "    </tr>\n",
       "  </tbody>\n",
       "</table>\n",
       "</div>"
      ],
      "text/plain": [
       "   sample_id  \\\n",
       "0          0   \n",
       "1          1   \n",
       "\n",
       "                                                                                               question  \\\n",
       "0  Whst is the name of the head of state and highest ranking political and religious authority in Iran?   \n",
       "1  Whst is the name of the head of state and highest ranking political and religious authority in Iran?   \n",
       "\n",
       "  questionEntity                                     answerEntity  \\\n",
       "0           Iran               Ruhollah Khomeini's return to Iran   \n",
       "1           Iran  Ruhollah Khomeini's letter to Mikhail Gorbachev   \n",
       "\n",
       "                groundTruthAnswerEntity answerEntityId questionEntityId  \\\n",
       "0  Office of the Supreme Leader of Iran       Q7293530             Q794   \n",
       "1  Office of the Supreme Leader of Iran       Q5952984             Q794   \n",
       "\n",
       "  groundTruthAnswerEntityId  correct  \\\n",
       "0                 Q16045000    False   \n",
       "1                 Q16045000    False   \n",
       "\n",
       "                                                                                                                                                                                                                                                                                                                                                                                                                                                                                                                                                                                                                                                                                                                                                                                                                                                                                                                                                                                                                                                                                                                                                                       graph  \\\n",
       "0                                                                                                                                                                                                                                                                                                                                                                                                                                                                                                                                                                                                  {'nodes': [{'type': 'QUESTIONS_ENTITY', 'name_': 'Q794', 'id': 0, 'label': 'Iran'}, {'type': 'INTERNAL', 'name_': 'Q207991', 'id': 1, 'label': 'Pahlavi dynasty'}, {'type': 'ANSWER_CANDIDATE_ENTITY', 'name_': 'Q7293530', 'id': 2, 'label': 'Ruhollah Khomeini's return to Iran'}], 'links': [{'name_': 'P17', 'source': 0, 'target': 0, 'label': 'country'}, {'name_': 'P1365', 'source': 0, 'target': 1, 'label': 'replaces'}, {'name_': 'P1366', 'source': 1, 'target': 0, 'label': 'replaced by'}, {'name_': 'P17', 'source': 2, 'target': 1, 'label': 'country'}]}   \n",
       "1  {'nodes': [{'type': 'INTERNAL', 'name_': 'Q4173137', 'id': 0, 'label': 'Jewish Encyclopedia of Brockhaus and Efron'}, {'type': 'QUESTIONS_ENTITY', 'name_': 'Q794', 'id': 1, 'label': 'Iran'}, {'type': 'INTERNAL', 'name_': 'Q47461344', 'id': 2, 'label': 'written work'}, {'type': 'INTERNAL', 'name_': 'Q133492', 'id': 3, 'label': 'letter'}, {'type': 'INTERNAL', 'name_': 'Q1030940', 'id': 4, 'label': 'The Book of Healing'}, {'type': 'ANSWER_CANDIDATE_ENTITY', 'name_': 'Q5952984', 'id': 5, 'label': 'Ruhollah Khomeini's letter to Mikhail Gorbachev'}], 'links': [{'name_': 'P1343', 'source': 1, 'target': 0, 'label': 'described by source'}, {'name_': 'P17', 'source': 1, 'target': 1, 'label': 'country'}, {'name_': 'P1343', 'source': 3, 'target': 0, 'label': 'described by source'}, {'name_': 'P279', 'source': 3, 'target': 2, 'label': 'subclass of'}, {'name_': 'P495', 'source': 4, 'target': 1, 'label': 'country of origin'}, {'name_': 'P31', 'source': 4, 'target': 2, 'label': 'instance of'}, {'name_': 'P31', 'source': 5, 'target': 2, 'label': 'instance of'}, {'name_': 'P31', 'source': 5, 'target': 3, 'label': 'instance of'}]}   \n",
       "\n",
       "   label  \\\n",
       "0    0.0   \n",
       "1    0.0   \n",
       "\n",
       "                                                                                                                                                                                                                                                                                                                                                                                                                                                                   linearized_graph  \\\n",
       "0                                                                                                                                                                                                                                                                                                               Iran, country, Iran  Iran, replaces, Pahlavi dynasty  Pahlavi dynasty, replaced by, Iran  [SEP] Ruhollah Khomeini's return to Iran [SEP], country, Pahlavi dynasty    \n",
       "1   Iran, described by source, Jewish Encyclopedia of Brockhaus and Efron  Iran, country, Iran  letter, described by source, Jewish Encyclopedia of Brockhaus and Efron  letter, subclass of, written work  The Book of Healing, country of origin, Iran  The Book of Healing, instance of, written work  [SEP] Ruhollah Khomeini's letter to Mikhail Gorbachev [SEP], instance of, written work  [SEP] Ruhollah Khomeini's letter to Mikhail Gorbachev [SEP], instance of, letter    \n",
       "\n",
       "   length   density  \n",
       "0       3  0.666667  \n",
       "1       6  0.266667  "
      ]
     },
     "execution_count": 19,
     "metadata": {},
     "output_type": "execute_result"
    }
   ],
   "source": [
    "train_df.head(2)"
   ]
  },
  {
   "cell_type": "markdown",
   "id": "6453298b",
   "metadata": {
    "id": "aeBLPtJJjMsE",
    "papermill": {
     "duration": 0.031846,
     "end_time": "2024-05-06T14:52:34.528783",
     "exception": false,
     "start_time": "2024-05-06T14:52:34.496937",
     "status": "completed"
    },
    "tags": []
   },
   "source": [
    "# Data exploration"
   ]
  },
  {
   "cell_type": "code",
   "execution_count": 20,
   "id": "f5ec8e65",
   "metadata": {
    "execution": {
     "iopub.execute_input": "2024-05-06T14:52:34.593653Z",
     "iopub.status.busy": "2024-05-06T14:52:34.593393Z",
     "iopub.status.idle": "2024-05-06T14:52:34.606494Z",
     "shell.execute_reply": "2024-05-06T14:52:34.605652Z"
    },
    "id": "AieelVfeh3PI",
    "outputId": "37f6239c-29e3-49e9-bbe9-af101f5441aa",
    "papermill": {
     "duration": 0.047474,
     "end_time": "2024-05-06T14:52:34.608376",
     "exception": false,
     "start_time": "2024-05-06T14:52:34.560902",
     "status": "completed"
    },
    "tags": []
   },
   "outputs": [
    {
     "data": {
      "text/html": [
       "<div>\n",
       "<style scoped>\n",
       "    .dataframe tbody tr th:only-of-type {\n",
       "        vertical-align: middle;\n",
       "    }\n",
       "\n",
       "    .dataframe tbody tr th {\n",
       "        vertical-align: top;\n",
       "    }\n",
       "\n",
       "    .dataframe thead th {\n",
       "        text-align: right;\n",
       "    }\n",
       "</style>\n",
       "<table border=\"1\" class=\"dataframe\">\n",
       "  <thead>\n",
       "    <tr style=\"text-align: right;\">\n",
       "      <th></th>\n",
       "      <th>correct</th>\n",
       "      <th>length</th>\n",
       "      <th>density</th>\n",
       "    </tr>\n",
       "  </thead>\n",
       "  <tbody>\n",
       "    <tr>\n",
       "      <th>0</th>\n",
       "      <td>False</td>\n",
       "      <td>3</td>\n",
       "      <td>0.666667</td>\n",
       "    </tr>\n",
       "    <tr>\n",
       "      <th>1</th>\n",
       "      <td>False</td>\n",
       "      <td>6</td>\n",
       "      <td>0.266667</td>\n",
       "    </tr>\n",
       "    <tr>\n",
       "      <th>2</th>\n",
       "      <td>False</td>\n",
       "      <td>2</td>\n",
       "      <td>1.500000</td>\n",
       "    </tr>\n",
       "  </tbody>\n",
       "</table>\n",
       "</div>"
      ],
      "text/plain": [
       "   correct  length   density\n",
       "0    False       3  0.666667\n",
       "1    False       6  0.266667\n",
       "2    False       2  1.500000"
      ]
     },
     "execution_count": 20,
     "metadata": {},
     "output_type": "execute_result"
    }
   ],
   "source": [
    "train_exploration_df = pd.DataFrame()\n",
    "train_exploration_df[\"correct\"], train_exploration_df[\"length\"], train_exploration_df[\"density\"] = train_df[\"correct\"], train_df[\"length\"], train_df[\"density\"]\n",
    "train_exploration_df.head(3)"
   ]
  },
  {
   "cell_type": "code",
   "execution_count": 21,
   "id": "b8f47406",
   "metadata": {
    "execution": {
     "iopub.execute_input": "2024-05-06T14:52:34.673165Z",
     "iopub.status.busy": "2024-05-06T14:52:34.672889Z",
     "iopub.status.idle": "2024-05-06T14:52:35.378047Z",
     "shell.execute_reply": "2024-05-06T14:52:35.377018Z"
    },
    "id": "Sy3IulTSih2b",
    "outputId": "101647b9-afd1-40bc-fcd0-396e185da53d",
    "papermill": {
     "duration": 0.741124,
     "end_time": "2024-05-06T14:52:35.381352",
     "exception": false,
     "start_time": "2024-05-06T14:52:34.640228",
     "status": "completed"
    },
    "tags": []
   },
   "outputs": [
    {
     "data": {
      "text/plain": [
       "array([[<Axes: title={'center': 'length'}>,\n",
       "        <Axes: title={'center': 'density'}>]], dtype=object)"
      ]
     },
     "execution_count": 21,
     "metadata": {},
     "output_type": "execute_result"
    },
    {
     "data": {
      "image/png": "[encoded data removed]",
      "text/plain": [
       "<Figure size 1600x1200 with 2 Axes>"
      ]
     },
     "metadata": {},
     "output_type": "display_data"
    }
   ],
   "source": [
    "train_exploration_df.hist()"
   ]
  },
  {
   "cell_type": "code",
   "execution_count": 22,
   "id": "e4c5c2d7",
   "metadata": {
    "execution": {
     "iopub.execute_input": "2024-05-06T14:52:35.457923Z",
     "iopub.status.busy": "2024-05-06T14:52:35.457578Z",
     "iopub.status.idle": "2024-05-06T14:52:35.471420Z",
     "shell.execute_reply": "2024-05-06T14:52:35.470443Z"
    },
    "id": "dJHkcmpWjPfU",
    "outputId": "80f30368-c906-415b-c89b-ee1ea128578e",
    "papermill": {
     "duration": 0.052966,
     "end_time": "2024-05-06T14:52:35.473787",
     "exception": false,
     "start_time": "2024-05-06T14:52:35.420821",
     "status": "completed"
    },
    "tags": []
   },
   "outputs": [
    {
     "data": {
      "text/html": [
       "<div>\n",
       "<style scoped>\n",
       "    .dataframe tbody tr th:only-of-type {\n",
       "        vertical-align: middle;\n",
       "    }\n",
       "\n",
       "    .dataframe tbody tr th {\n",
       "        vertical-align: top;\n",
       "    }\n",
       "\n",
       "    .dataframe thead th {\n",
       "        text-align: right;\n",
       "    }\n",
       "</style>\n",
       "<table border=\"1\" class=\"dataframe\">\n",
       "  <thead>\n",
       "    <tr style=\"text-align: right;\">\n",
       "      <th></th>\n",
       "      <th>length</th>\n",
       "      <th>density</th>\n",
       "    </tr>\n",
       "    <tr>\n",
       "      <th>correct</th>\n",
       "      <th></th>\n",
       "      <th></th>\n",
       "    </tr>\n",
       "  </thead>\n",
       "  <tbody>\n",
       "    <tr>\n",
       "      <th>False</th>\n",
       "      <td>3.925680</td>\n",
       "      <td>0.440844</td>\n",
       "    </tr>\n",
       "    <tr>\n",
       "      <th>True</th>\n",
       "      <td>3.086342</td>\n",
       "      <td>0.545361</td>\n",
       "    </tr>\n",
       "  </tbody>\n",
       "</table>\n",
       "</div>"
      ],
      "text/plain": [
       "           length   density\n",
       "correct                    \n",
       "False    3.925680  0.440844\n",
       "True     3.086342  0.545361"
      ]
     },
     "execution_count": 22,
     "metadata": {},
     "output_type": "execute_result"
    }
   ],
   "source": [
    "train_exploration_df.groupby(\"correct\").mean()"
   ]
  },
  {
   "cell_type": "code",
   "execution_count": 23,
   "id": "0129d769",
   "metadata": {
    "execution": {
     "iopub.execute_input": "2024-05-06T14:52:35.559834Z",
     "iopub.status.busy": "2024-05-06T14:52:35.558881Z",
     "iopub.status.idle": "2024-05-06T14:52:36.431105Z",
     "shell.execute_reply": "2024-05-06T14:52:36.429996Z"
    },
    "id": "WOIbJl8dj6UO",
    "outputId": "88314e65-8348-4351-c788-616c27fa26fe",
    "papermill": {
     "duration": 0.920031,
     "end_time": "2024-05-06T14:52:36.433234",
     "exception": false,
     "start_time": "2024-05-06T14:52:35.513203",
     "status": "completed"
    },
    "tags": []
   },
   "outputs": [
    {
     "data": {
      "image/png": "[encoded data removed]",
      "text/plain": [
       "<Figure size 1200x800 with 2 Axes>"
      ]
     },
     "metadata": {},
     "output_type": "display_data"
    }
   ],
   "source": [
    "fig, ax = plt.subplots(nrows=1, ncols=2, figsize=(12, 8))\n",
    "\n",
    "ax[0].scatter(train_exploration_df[\"correct\"], train_exploration_df[\"length\"])\n",
    "ax[0].set_xlabel('Correctness')\n",
    "ax[0].set_title('Train Correctness-Length correlation')\n",
    "\n",
    "ax[1].scatter(train_exploration_df[\"correct\"], train_exploration_df[\"density\"])\n",
    "ax[1].set_xlabel('Density')\n",
    "ax[1].set_title('Train Correctness-Densitycorrelation')\n",
    "\n",
    "plt.legend()\n",
    "plt.show()"
   ]
  },
  {
   "cell_type": "code",
   "execution_count": 24,
   "id": "031c24a6",
   "metadata": {
    "execution": {
     "iopub.execute_input": "2024-05-06T14:52:36.504894Z",
     "iopub.status.busy": "2024-05-06T14:52:36.504485Z",
     "iopub.status.idle": "2024-05-06T14:52:36.519313Z",
     "shell.execute_reply": "2024-05-06T14:52:36.518296Z"
    },
    "id": "Dm4d7wmZj6Wa",
    "outputId": "abe57e48-21e6-4805-9ea0-465fcba6154c",
    "papermill": {
     "duration": 0.05286,
     "end_time": "2024-05-06T14:52:36.521387",
     "exception": false,
     "start_time": "2024-05-06T14:52:36.468527",
     "status": "completed"
    },
    "tags": []
   },
   "outputs": [
    {
     "data": {
      "text/html": [
       "<div>\n",
       "<style scoped>\n",
       "    .dataframe tbody tr th:only-of-type {\n",
       "        vertical-align: middle;\n",
       "    }\n",
       "\n",
       "    .dataframe tbody tr th {\n",
       "        vertical-align: top;\n",
       "    }\n",
       "\n",
       "    .dataframe thead th {\n",
       "        text-align: right;\n",
       "    }\n",
       "</style>\n",
       "<table border=\"1\" class=\"dataframe\">\n",
       "  <thead>\n",
       "    <tr style=\"text-align: right;\">\n",
       "      <th></th>\n",
       "      <th>correct</th>\n",
       "      <th>length</th>\n",
       "      <th>density</th>\n",
       "    </tr>\n",
       "  </thead>\n",
       "  <tbody>\n",
       "    <tr>\n",
       "      <th>11</th>\n",
       "      <td>False</td>\n",
       "      <td>2</td>\n",
       "      <td>0.5</td>\n",
       "    </tr>\n",
       "    <tr>\n",
       "      <th>12</th>\n",
       "      <td>False</td>\n",
       "      <td>3</td>\n",
       "      <td>0.5</td>\n",
       "    </tr>\n",
       "    <tr>\n",
       "      <th>13</th>\n",
       "      <td>False</td>\n",
       "      <td>2</td>\n",
       "      <td>0.5</td>\n",
       "    </tr>\n",
       "  </tbody>\n",
       "</table>\n",
       "</div>"
      ],
      "text/plain": [
       "    correct  length  density\n",
       "11    False       2      0.5\n",
       "12    False       3      0.5\n",
       "13    False       2      0.5"
      ]
     },
     "execution_count": 24,
     "metadata": {},
     "output_type": "execute_result"
    }
   ],
   "source": [
    "test_exploration_df = pd.DataFrame()\n",
    "test_exploration_df[\"correct\"], test_exploration_df[\"length\"], test_exploration_df[\"density\"] = test_df[\"correct\"], test_df[\"length\"], test_df[\"density\"]\n",
    "test_exploration_df.head(3)"
   ]
  },
  {
   "cell_type": "code",
   "execution_count": 25,
   "id": "880a84d0",
   "metadata": {
    "execution": {
     "iopub.execute_input": "2024-05-06T14:52:36.594581Z",
     "iopub.status.busy": "2024-05-06T14:52:36.593951Z",
     "iopub.status.idle": "2024-05-06T14:52:37.153048Z",
     "shell.execute_reply": "2024-05-06T14:52:37.152120Z"
    },
    "id": "k6dgNl1wj6ZG",
    "outputId": "9edc29a7-709a-4e55-e515-1711f9daf6f2",
    "papermill": {
     "duration": 0.597506,
     "end_time": "2024-05-06T14:52:37.155148",
     "exception": false,
     "start_time": "2024-05-06T14:52:36.557642",
     "status": "completed"
    },
    "tags": []
   },
   "outputs": [
    {
     "data": {
      "image/png": "[encoded data removed]",
      "text/plain": [
       "<Figure size 1200x800 with 2 Axes>"
      ]
     },
     "metadata": {},
     "output_type": "display_data"
    }
   ],
   "source": [
    "fig, ax = plt.subplots(nrows=1, ncols=2, figsize=(12, 8))\n",
    "\n",
    "ax[0].scatter(test_exploration_df[\"correct\"], test_exploration_df[\"length\"])\n",
    "ax[0].set_xlabel('Correctness')\n",
    "ax[0].set_title('Test Correctness-Length correlation')\n",
    "\n",
    "ax[1].scatter(test_exploration_df[\"correct\"], test_exploration_df[\"density\"])\n",
    "ax[1].set_xlabel('Density')\n",
    "ax[1].set_title('Test Correctness-Densitycorrelation')\n",
    "\n",
    "plt.legend()\n",
    "plt.show()"
   ]
  },
  {
   "cell_type": "code",
   "execution_count": 26,
   "id": "f2ce553d",
   "metadata": {
    "execution": {
     "iopub.execute_input": "2024-05-06T14:52:37.226989Z",
     "iopub.status.busy": "2024-05-06T14:52:37.226649Z",
     "iopub.status.idle": "2024-05-06T14:52:37.239886Z",
     "shell.execute_reply": "2024-05-06T14:52:37.239220Z"
    },
    "papermill": {
     "duration": 0.051406,
     "end_time": "2024-05-06T14:52:37.241830",
     "exception": false,
     "start_time": "2024-05-06T14:52:37.190424",
     "status": "completed"
    },
    "tags": []
   },
   "outputs": [],
   "source": [
    "experimental_train_df = train_df.drop(train_df[train_df[\"length\"] > 9].index)"
   ]
  },
  {
   "cell_type": "code",
   "execution_count": 27,
   "id": "6cc70fe6",
   "metadata": {
    "execution": {
     "iopub.execute_input": "2024-05-06T14:52:37.311728Z",
     "iopub.status.busy": "2024-05-06T14:52:37.311433Z",
     "iopub.status.idle": "2024-05-06T14:52:37.335900Z",
     "shell.execute_reply": "2024-05-06T14:52:37.335019Z"
    },
    "papermill": {
     "duration": 0.061384,
     "end_time": "2024-05-06T14:52:37.337732",
     "exception": false,
     "start_time": "2024-05-06T14:52:37.276348",
     "status": "completed"
    },
    "tags": []
   },
   "outputs": [
    {
     "data": {
      "text/html": [
       "<div>\n",
       "<style scoped>\n",
       "    .dataframe tbody tr th:only-of-type {\n",
       "        vertical-align: middle;\n",
       "    }\n",
       "\n",
       "    .dataframe tbody tr th {\n",
       "        vertical-align: top;\n",
       "    }\n",
       "\n",
       "    .dataframe thead th {\n",
       "        text-align: right;\n",
       "    }\n",
       "</style>\n",
       "<table border=\"1\" class=\"dataframe\">\n",
       "  <thead>\n",
       "    <tr style=\"text-align: right;\">\n",
       "      <th></th>\n",
       "      <th>sample_id</th>\n",
       "      <th>question</th>\n",
       "      <th>questionEntity</th>\n",
       "      <th>answerEntity</th>\n",
       "      <th>groundTruthAnswerEntity</th>\n",
       "      <th>answerEntityId</th>\n",
       "      <th>questionEntityId</th>\n",
       "      <th>groundTruthAnswerEntityId</th>\n",
       "      <th>correct</th>\n",
       "      <th>graph</th>\n",
       "      <th>label</th>\n",
       "      <th>linearized_graph</th>\n",
       "      <th>length</th>\n",
       "      <th>density</th>\n",
       "    </tr>\n",
       "  </thead>\n",
       "  <tbody>\n",
       "    <tr>\n",
       "      <th>0</th>\n",
       "      <td>0</td>\n",
       "      <td>Whst is the name of the head of state and highest ranking political and religious authority in Iran?</td>\n",
       "      <td>Iran</td>\n",
       "      <td>Ruhollah Khomeini's return to Iran</td>\n",
       "      <td>Office of the Supreme Leader of Iran</td>\n",
       "      <td>Q7293530</td>\n",
       "      <td>Q794</td>\n",
       "      <td>Q16045000</td>\n",
       "      <td>False</td>\n",
       "      <td>{'nodes': [{'type': 'QUESTIONS_ENTITY', 'name_': 'Q794', 'id': 0, 'label': 'Iran'}, {'type': 'INTERNAL', 'name_': 'Q207991', 'id': 1, 'label': 'Pahlavi dynasty'}, {'type': 'ANSWER_CANDIDATE_ENTITY', 'name_': 'Q7293530', 'id': 2, 'label': 'Ruhollah Khomeini's return to Iran'}], 'links': [{'name_': 'P17', 'source': 0, 'target': 0, 'label': 'country'}, {'name_': 'P1365', 'source': 0, 'target': 1, 'label': 'replaces'}, {'name_': 'P1366', 'source': 1, 'target': 0, 'label': 'replaced by'}, {'name_': 'P17', 'source': 2, 'target': 1, 'label': 'country'}]}</td>\n",
       "      <td>0.0</td>\n",
       "      <td>Iran, country, Iran  Iran, replaces, Pahlavi dynasty  Pahlavi dynasty, replaced by, Iran  [SEP] Ruhollah Khomeini's return to Iran [SEP], country, Pahlavi dynasty</td>\n",
       "      <td>3</td>\n",
       "      <td>0.666667</td>\n",
       "    </tr>\n",
       "    <tr>\n",
       "      <th>1</th>\n",
       "      <td>1</td>\n",
       "      <td>Whst is the name of the head of state and highest ranking political and religious authority in Iran?</td>\n",
       "      <td>Iran</td>\n",
       "      <td>Ruhollah Khomeini's letter to Mikhail Gorbachev</td>\n",
       "      <td>Office of the Supreme Leader of Iran</td>\n",
       "      <td>Q5952984</td>\n",
       "      <td>Q794</td>\n",
       "      <td>Q16045000</td>\n",
       "      <td>False</td>\n",
       "      <td>{'nodes': [{'type': 'INTERNAL', 'name_': 'Q4173137', 'id': 0, 'label': 'Jewish Encyclopedia of Brockhaus and Efron'}, {'type': 'QUESTIONS_ENTITY', 'name_': 'Q794', 'id': 1, 'label': 'Iran'}, {'type': 'INTERNAL', 'name_': 'Q47461344', 'id': 2, 'label': 'written work'}, {'type': 'INTERNAL', 'name_': 'Q133492', 'id': 3, 'label': 'letter'}, {'type': 'INTERNAL', 'name_': 'Q1030940', 'id': 4, 'label': 'The Book of Healing'}, {'type': 'ANSWER_CANDIDATE_ENTITY', 'name_': 'Q5952984', 'id': 5, 'label': 'Ruhollah Khomeini's letter to Mikhail Gorbachev'}], 'links': [{'name_': 'P1343', 'source': 1, 'target': 0, 'label': 'described by source'}, {'name_': 'P17', 'source': 1, 'target': 1, 'label': 'country'}, {'name_': 'P1343', 'source': 3, 'target': 0, 'label': 'described by source'}, {'name_': 'P279', 'source': 3, 'target': 2, 'label': 'subclass of'}, {'name_': 'P495', 'source': 4, 'target': 1, 'label': 'country of origin'}, {'name_': 'P31', 'source': 4, 'target': 2, 'label': 'instance of'}, {'name_': 'P31', 'source': 5, 'target': 2, 'label': 'instance of'}, {'name_': 'P31', 'source': 5, 'target': 3, 'label': 'instance of'}]}</td>\n",
       "      <td>0.0</td>\n",
       "      <td>Iran, described by source, Jewish Encyclopedia of Brockhaus and Efron  Iran, country, Iran  letter, described by source, Jewish Encyclopedia of Brockhaus and Efron  letter, subclass of, written work  The Book of Healing, country of origin, Iran  The Book of Healing, instance of, written work  [SEP] Ruhollah Khomeini's letter to Mikhail Gorbachev [SEP], instance of, written work  [SEP] Ruhollah Khomeini's letter to Mikhail Gorbachev [SEP], instance of, letter</td>\n",
       "      <td>6</td>\n",
       "      <td>0.266667</td>\n",
       "    </tr>\n",
       "  </tbody>\n",
       "</table>\n",
       "</div>"
      ],
      "text/plain": [
       "   sample_id  \\\n",
       "0          0   \n",
       "1          1   \n",
       "\n",
       "                                                                                               question  \\\n",
       "0  Whst is the name of the head of state and highest ranking political and religious authority in Iran?   \n",
       "1  Whst is the name of the head of state and highest ranking political and religious authority in Iran?   \n",
       "\n",
       "  questionEntity                                     answerEntity  \\\n",
       "0           Iran               Ruhollah Khomeini's return to Iran   \n",
       "1           Iran  Ruhollah Khomeini's letter to Mikhail Gorbachev   \n",
       "\n",
       "                groundTruthAnswerEntity answerEntityId questionEntityId  \\\n",
       "0  Office of the Supreme Leader of Iran       Q7293530             Q794   \n",
       "1  Office of the Supreme Leader of Iran       Q5952984             Q794   \n",
       "\n",
       "  groundTruthAnswerEntityId  correct  \\\n",
       "0                 Q16045000    False   \n",
       "1                 Q16045000    False   \n",
       "\n",
       "                                                                                                                                                                                                                                                                                                                                                                                                                                                                                                                                                                                                                                                                                                                                                                                                                                                                                                                                                                                                                                                                                                                                                                       graph  \\\n",
       "0                                                                                                                                                                                                                                                                                                                                                                                                                                                                                                                                                                                                  {'nodes': [{'type': 'QUESTIONS_ENTITY', 'name_': 'Q794', 'id': 0, 'label': 'Iran'}, {'type': 'INTERNAL', 'name_': 'Q207991', 'id': 1, 'label': 'Pahlavi dynasty'}, {'type': 'ANSWER_CANDIDATE_ENTITY', 'name_': 'Q7293530', 'id': 2, 'label': 'Ruhollah Khomeini's return to Iran'}], 'links': [{'name_': 'P17', 'source': 0, 'target': 0, 'label': 'country'}, {'name_': 'P1365', 'source': 0, 'target': 1, 'label': 'replaces'}, {'name_': 'P1366', 'source': 1, 'target': 0, 'label': 'replaced by'}, {'name_': 'P17', 'source': 2, 'target': 1, 'label': 'country'}]}   \n",
       "1  {'nodes': [{'type': 'INTERNAL', 'name_': 'Q4173137', 'id': 0, 'label': 'Jewish Encyclopedia of Brockhaus and Efron'}, {'type': 'QUESTIONS_ENTITY', 'name_': 'Q794', 'id': 1, 'label': 'Iran'}, {'type': 'INTERNAL', 'name_': 'Q47461344', 'id': 2, 'label': 'written work'}, {'type': 'INTERNAL', 'name_': 'Q133492', 'id': 3, 'label': 'letter'}, {'type': 'INTERNAL', 'name_': 'Q1030940', 'id': 4, 'label': 'The Book of Healing'}, {'type': 'ANSWER_CANDIDATE_ENTITY', 'name_': 'Q5952984', 'id': 5, 'label': 'Ruhollah Khomeini's letter to Mikhail Gorbachev'}], 'links': [{'name_': 'P1343', 'source': 1, 'target': 0, 'label': 'described by source'}, {'name_': 'P17', 'source': 1, 'target': 1, 'label': 'country'}, {'name_': 'P1343', 'source': 3, 'target': 0, 'label': 'described by source'}, {'name_': 'P279', 'source': 3, 'target': 2, 'label': 'subclass of'}, {'name_': 'P495', 'source': 4, 'target': 1, 'label': 'country of origin'}, {'name_': 'P31', 'source': 4, 'target': 2, 'label': 'instance of'}, {'name_': 'P31', 'source': 5, 'target': 2, 'label': 'instance of'}, {'name_': 'P31', 'source': 5, 'target': 3, 'label': 'instance of'}]}   \n",
       "\n",
       "   label  \\\n",
       "0    0.0   \n",
       "1    0.0   \n",
       "\n",
       "                                                                                                                                                                                                                                                                                                                                                                                                                                                                   linearized_graph  \\\n",
       "0                                                                                                                                                                                                                                                                                                               Iran, country, Iran  Iran, replaces, Pahlavi dynasty  Pahlavi dynasty, replaced by, Iran  [SEP] Ruhollah Khomeini's return to Iran [SEP], country, Pahlavi dynasty    \n",
       "1   Iran, described by source, Jewish Encyclopedia of Brockhaus and Efron  Iran, country, Iran  letter, described by source, Jewish Encyclopedia of Brockhaus and Efron  letter, subclass of, written work  The Book of Healing, country of origin, Iran  The Book of Healing, instance of, written work  [SEP] Ruhollah Khomeini's letter to Mikhail Gorbachev [SEP], instance of, written work  [SEP] Ruhollah Khomeini's letter to Mikhail Gorbachev [SEP], instance of, letter    \n",
       "\n",
       "   length   density  \n",
       "0       3  0.666667  \n",
       "1       6  0.266667  "
      ]
     },
     "execution_count": 27,
     "metadata": {},
     "output_type": "execute_result"
    }
   ],
   "source": [
    "train_df.head(2)"
   ]
  },
  {
   "cell_type": "markdown",
   "id": "a0203f57",
   "metadata": {
    "id": "LqKvWg0n5SBO",
    "papermill": {
     "duration": 0.034885,
     "end_time": "2024-05-06T14:52:37.407310",
     "exception": false,
     "start_time": "2024-05-06T14:52:37.372425",
     "status": "completed"
    },
    "tags": []
   },
   "source": [
    "# Model Preparation"
   ]
  },
  {
   "cell_type": "code",
   "execution_count": 28,
   "id": "5bafd07c",
   "metadata": {
    "execution": {
     "iopub.execute_input": "2024-05-06T14:52:37.478625Z",
     "iopub.status.busy": "2024-05-06T14:52:37.478362Z",
     "iopub.status.idle": "2024-05-06T14:52:37.490960Z",
     "shell.execute_reply": "2024-05-06T14:52:37.490135Z"
    },
    "id": "j_BkKiIP6TuY",
    "papermill": {
     "duration": 0.050686,
     "end_time": "2024-05-06T14:52:37.492824",
     "exception": false,
     "start_time": "2024-05-06T14:52:37.442138",
     "status": "completed"
    },
    "tags": []
   },
   "outputs": [],
   "source": [
    "def train(model, iterator, optimizer, criterion, device,\n",
    "          train_history=None, valid_history=None,):\n",
    "    model.train()\n",
    "\n",
    "    epoch_loss = 0\n",
    "    history = []\n",
    "    for i, batch in enumerate(tqdm(iterator)):\n",
    "\n",
    "        optimizer.zero_grad()\n",
    "\n",
    "        input_ids = batch[\"input_ids\"].to(device)\n",
    "        attention_mask = batch[\"attention_mask\"].to(device)\n",
    "        labels = batch[\"labels\"].to(device)\n",
    "\n",
    "        graph_length = batch[\"graph_length\"].to(device)\n",
    "        graph_density = batch[\"graph_density\"].to(device)\n",
    "\n",
    "        output = model(inputs=input_ids, attention_mask=attention_mask, graph_length=graph_length, graph_density=graph_density).squeeze(1)\n",
    "        loss = criterion(output, labels)\n",
    "        loss.backward()\n",
    "        optimizer.step()\n",
    "\n",
    "\n",
    "        epoch_loss += loss.item()\n",
    "        \n",
    "\n",
    "        history.append(loss.cpu().data.numpy())\n",
    "\n",
    "    return epoch_loss / (i + 1)\n",
    "\n",
    "def evaluate(model, iterator, criterion, device):\n",
    "    model.eval()\n",
    "\n",
    "    epoch_loss = 0\n",
    "\n",
    "    true_labels = []\n",
    "    pred_labels = []\n",
    "\n",
    "    with torch.no_grad():\n",
    "\n",
    "        for i, batch in enumerate(iterator):\n",
    "\n",
    "            input_ids = batch[\"input_ids\"].to(device)\n",
    "            attention_mask = batch[\"attention_mask\"].to(device)\n",
    "            labels = batch[\"labels\"]\n",
    "\n",
    "            graph_length = batch[\"graph_length\"].to(device)\n",
    "            graph_density = batch[\"graph_density\"].to(device)\n",
    "\n",
    "            true_labels.extend(labels.cpu().numpy())\n",
    "            labels = labels.to(device)\n",
    "\n",
    "\n",
    "            output = model(inputs=input_ids, attention_mask=attention_mask, graph_length=graph_length, graph_density=graph_density).squeeze(1)\n",
    "            pred_probas = output.cpu().numpy()\n",
    "            batch_pred_labels = (pred_probas >= 0.5) * 1\n",
    "\n",
    "            loss = criterion(output, labels)\n",
    "\n",
    "            pred_labels.extend(batch_pred_labels)\n",
    "            epoch_loss += loss.item()\n",
    "\n",
    "    valid_f1_score = f1_score(true_labels, pred_labels)\n",
    "    return epoch_loss / (i + 1), valid_f1_score\n",
    "\n",
    "def epoch_time(start_time, end_time):\n",
    "    elapsed_time = end_time - start_time\n",
    "    elapsed_mins = int(elapsed_time / 60)\n",
    "    elapsed_secs = int(elapsed_time - (elapsed_mins * 60))\n",
    "    return elapsed_mins, elapsed_secs"
   ]
  },
  {
   "cell_type": "code",
   "execution_count": 29,
   "id": "ed3f525c",
   "metadata": {
    "execution": {
     "iopub.execute_input": "2024-05-06T14:52:37.564017Z",
     "iopub.status.busy": "2024-05-06T14:52:37.563508Z",
     "iopub.status.idle": "2024-05-06T14:52:37.573558Z",
     "shell.execute_reply": "2024-05-06T14:52:37.572770Z"
    },
    "id": "A4RmcWd75f4d",
    "papermill": {
     "duration": 0.047666,
     "end_time": "2024-05-06T14:52:37.575414",
     "exception": false,
     "start_time": "2024-05-06T14:52:37.527748",
     "status": "completed"
    },
    "tags": []
   },
   "outputs": [],
   "source": [
    "def train_evaluate(bert_classifier, train_loader, dev_loader, optimizer, scheduler, criterion, n_epochs, checkpoint_fname, device):\n",
    "    train_history = []\n",
    "    valid_history = []\n",
    "    valid_history_f1 = []\n",
    "\n",
    "    best_valid_loss = float('inf')\n",
    "    best_f1_score = 0.0\n",
    "\n",
    "    for epoch in range(n_epochs):\n",
    "\n",
    "        start_time = time.time()\n",
    "\n",
    "        train_loss = train(bert_classifier, train_loader, optimizer, criterion, device, train_history, valid_history, )\n",
    "        valid_loss, valid_f1_score = evaluate(bert_classifier, dev_loader, criterion, device)\n",
    "\n",
    "        #scheduler.step(valid_loss)\n",
    "\n",
    "        end_time = time.time()\n",
    "\n",
    "        epoch_mins, epoch_secs = epoch_time(start_time, end_time)\n",
    "\n",
    "        train_history.append(train_loss)\n",
    "        valid_history.append(valid_loss)\n",
    "        valid_history_f1.append(valid_f1_score)\n",
    "\n",
    "        fig, ax = plt.subplots(nrows=1, ncols=2, figsize=(12, 8))\n",
    "\n",
    "        clear_output(True)\n",
    "        ax[0].plot(valid_history_f1, label='Val f1-score')\n",
    "        ax[0].set_xlabel('Epoch')\n",
    "        ax[0].set_title('Val f1-score')\n",
    "\n",
    "        ax[1].plot(train_history, label='general train history')\n",
    "        ax[1].set_xlabel('Epoch')\n",
    "        ax[1].plot(valid_history, label='general valid history')\n",
    "\n",
    "        plt.legend()\n",
    "        plt.show()\n",
    "\n",
    "        if valid_f1_score > best_f1_score:\n",
    "            best_f1_score = valid_f1_score\n",
    "            torch.save(bert_classifier.state_dict(), f'best-val-{checkpoint_fname}.pt')\n",
    "\n",
    "        print(f'Epoch: {epoch+1:02} | Time: {epoch_mins}m {epoch_secs}s')\n",
    "        print(f'\\tTrain Loss: {train_loss:.3f}')\n",
    "        print(f'\\t Val. Loss: {valid_loss:.3f} |  Val. F1: {valid_f1_score:.3f}')"
   ]
  },
  {
   "cell_type": "code",
   "execution_count": 30,
   "id": "dfc17988",
   "metadata": {
    "execution": {
     "iopub.execute_input": "2024-05-06T14:52:37.646955Z",
     "iopub.status.busy": "2024-05-06T14:52:37.646360Z",
     "iopub.status.idle": "2024-05-06T14:52:37.653579Z",
     "shell.execute_reply": "2024-05-06T14:52:37.652732Z"
    },
    "id": "ZpfYBHeg5f99",
    "papermill": {
     "duration": 0.045163,
     "end_time": "2024-05-06T14:52:37.655604",
     "exception": false,
     "start_time": "2024-05-06T14:52:37.610441",
     "status": "completed"
    },
    "tags": []
   },
   "outputs": [],
   "source": [
    "def predict(model, data_loader, device):\n",
    "    true_labels = []\n",
    "    pred_labels = []\n",
    "\n",
    "    model.eval()\n",
    "    with torch.no_grad():\n",
    "        for i, batch in enumerate(data_loader):\n",
    "            input_ids = batch[\"input_ids\"].to(device)\n",
    "            attention_mask = batch[\"attention_mask\"].to(device)\n",
    "            graph_length = batch[\"graph_length\"].to(device)\n",
    "            graph_density = batch[\"graph_density\"].to(device)\n",
    "            batch_true_labels = batch[\"labels\"].cpu().numpy()\n",
    "\n",
    "\n",
    "            pred_probas = model(inputs=input_ids, attention_mask=attention_mask, graph_length=graph_length, graph_density=graph_density).squeeze(1)\n",
    "            pred_probas = pred_probas.cpu().numpy()\n",
    "\n",
    "            batch_pred_labels = (pred_probas >= 0.5) * 1\n",
    "\n",
    "            pred_labels.extend(batch_pred_labels)\n",
    "            true_labels.extend(batch_true_labels)\n",
    "            \n",
    "    return true_labels, pred_labels"
   ]
  },
  {
   "cell_type": "code",
   "execution_count": 31,
   "id": "f5db71f0",
   "metadata": {
    "execution": {
     "iopub.execute_input": "2024-05-06T14:52:37.726016Z",
     "iopub.status.busy": "2024-05-06T14:52:37.725747Z",
     "iopub.status.idle": "2024-05-06T14:52:37.748460Z",
     "shell.execute_reply": "2024-05-06T14:52:37.747590Z"
    },
    "id": "PR3x_MwiufPR",
    "outputId": "d85327a4-d821-4dda-9ab0-5fb2526bdf11",
    "papermill": {
     "duration": 0.059837,
     "end_time": "2024-05-06T14:52:37.750269",
     "exception": false,
     "start_time": "2024-05-06T14:52:37.690432",
     "status": "completed"
    },
    "tags": []
   },
   "outputs": [
    {
     "data": {
      "text/plain": [
       "torch.float32"
      ]
     },
     "execution_count": 31,
     "metadata": {},
     "output_type": "execute_result"
    }
   ],
   "source": [
    "torch.Tensor([[1,2,3,4,5]]).reshape(-1, 1).type(\"torch.FloatTensor\").dtype"
   ]
  },
  {
   "cell_type": "code",
   "execution_count": 32,
   "id": "78beb99a",
   "metadata": {
    "execution": {
     "iopub.execute_input": "2024-05-06T14:52:37.821175Z",
     "iopub.status.busy": "2024-05-06T14:52:37.820599Z",
     "iopub.status.idle": "2024-05-06T14:52:37.830329Z",
     "shell.execute_reply": "2024-05-06T14:52:37.829637Z"
    },
    "id": "R2FwTF6p5Ts7",
    "papermill": {
     "duration": 0.047,
     "end_time": "2024-05-06T14:52:37.832061",
     "exception": false,
     "start_time": "2024-05-06T14:52:37.785061",
     "status": "completed"
    },
    "tags": []
   },
   "outputs": [],
   "source": [
    "class BertSimpleClassifier(nn.Module):\n",
    "    def __init__(self, bert_text_encoder, dropout=0.1):\n",
    "        super().__init__()\n",
    "\n",
    "        self.bert_text_encoder = bert_text_encoder\n",
    "        self.dropout = nn.Dropout(p=dropout)\n",
    "        bert_hidden_dim = bert_text_encoder.config.hidden_size\n",
    "\n",
    "        self.classifier = nn.Sequential(\n",
    "            nn.Dropout(p=dropout),\n",
    "            nn.Tanh(),\n",
    "            nn.Linear(bert_hidden_dim+2, bert_hidden_dim+2),\n",
    "            nn.Dropout(p=dropout),\n",
    "            nn.Tanh(),\n",
    "            nn.Linear(bert_hidden_dim+2, 1),\n",
    "        )\n",
    "\n",
    "        self.mlp = nn.Sequential(\n",
    "            nn.Linear(2, 32),\n",
    "            nn.ReLU(),\n",
    "            nn.Linear(32, 32),\n",
    "            nn.ReLU(),\n",
    "            nn.Linear(32, 2),\n",
    "        )\n",
    "        \n",
    "    def forward(self, inputs, attention_mask, graph_length, graph_density):\n",
    "        last_hidden_states = self.bert_text_encoder(inputs, attention_mask=attention_mask,\n",
    "                                                    return_dict=True)['last_hidden_state']\n",
    "        text_cls_embeddings = torch.stack([elem[0, :] for elem in last_hidden_states])\n",
    "        graph_features = torch.cat((graph_length.type(\"torch.FloatTensor\").reshape(-1, 1), graph_density.type(\"torch.FloatTensor\").reshape(-1, 1)), dim=1).to(device)\n",
    "        graph_features = self.mlp(graph_features)\n",
    "        proba = self.classifier(torch.cat([text_cls_embeddings, graph_features], dim=1))\n",
    "        return proba\n"
   ]
  },
  {
   "cell_type": "code",
   "execution_count": 33,
   "id": "160ea4ba",
   "metadata": {
    "execution": {
     "iopub.execute_input": "2024-05-06T14:52:37.906041Z",
     "iopub.status.busy": "2024-05-06T14:52:37.905785Z",
     "iopub.status.idle": "2024-05-06T14:52:37.912434Z",
     "shell.execute_reply": "2024-05-06T14:52:37.911557Z"
    },
    "id": "K_EPFjHSc-s_",
    "outputId": "fd7a581d-a523-40f9-cea6-ba956bdc5948",
    "papermill": {
     "duration": 0.044523,
     "end_time": "2024-05-06T14:52:37.914327",
     "exception": false,
     "start_time": "2024-05-06T14:52:37.869804",
     "status": "completed"
    },
    "tags": []
   },
   "outputs": [
    {
     "data": {
      "text/plain": [
       "0     Iran, country, Iran  Iran, replaces, Pahlavi dynasty  Pahlavi dynasty, replaced by, Iran  [SEP] Ruhollah Khomeini's return to Iran [SEP], country, Pahlavi dynasty \n",
       "Name: linearized_graph, dtype: object"
      ]
     },
     "execution_count": 33,
     "metadata": {},
     "output_type": "execute_result"
    }
   ],
   "source": [
    "train_df[\"linearized_graph\"].head(1)"
   ]
  },
  {
   "cell_type": "code",
   "execution_count": 34,
   "id": "dac21055",
   "metadata": {
    "execution": {
     "iopub.execute_input": "2024-05-06T14:52:37.987219Z",
     "iopub.status.busy": "2024-05-06T14:52:37.986453Z",
     "iopub.status.idle": "2024-05-06T14:52:37.992968Z",
     "shell.execute_reply": "2024-05-06T14:52:37.992175Z"
    },
    "id": "MYg5OWkqc_9W",
    "outputId": "d4dfa08b-1a3e-478a-a7b2-75e41bfd7d01",
    "papermill": {
     "duration": 0.045615,
     "end_time": "2024-05-06T14:52:37.994924",
     "exception": false,
     "start_time": "2024-05-06T14:52:37.949309",
     "status": "completed"
    },
    "tags": []
   },
   "outputs": [
    {
     "data": {
      "text/plain": [
       "11                                                                                                        [SEP] Yogi Berra [SEP], league, Major League Baseball \n",
       "12     United States, country, United States  Major League Baseball, country, United States  [SEP] Tony Gwynn, Jr. [SEP], country of citizenship, United States \n",
       "13                                                                                                    [SEP] Roy Campanella [SEP], league, Major League Baseball \n",
       "14                                                                                                     [SEP] Roger Clemens [SEP], league, Major League Baseball \n",
       "15                                                                                                     [SEP] Mickey Mantle [SEP], league, Major League Baseball \n",
       "Name: linearized_graph, dtype: object"
      ]
     },
     "execution_count": 34,
     "metadata": {},
     "output_type": "execute_result"
    }
   ],
   "source": [
    "test_df[\"linearized_graph\"].head()"
   ]
  },
  {
   "cell_type": "code",
   "execution_count": 35,
   "id": "fc3e56fe",
   "metadata": {
    "execution": {
     "iopub.execute_input": "2024-05-06T14:52:38.080145Z",
     "iopub.status.busy": "2024-05-06T14:52:38.079552Z",
     "iopub.status.idle": "2024-05-06T14:52:40.510688Z",
     "shell.execute_reply": "2024-05-06T14:52:40.509447Z"
    },
    "id": "xkBiR01VflXf",
    "outputId": "626ebd07-5999-4c88-d373-cf3e7ced4aed",
    "papermill": {
     "duration": 2.476305,
     "end_time": "2024-05-06T14:52:40.512870",
     "exception": false,
     "start_time": "2024-05-06T14:52:38.036565",
     "status": "completed"
    },
    "tags": []
   },
   "outputs": [
    {
     "data": {
      "application/vnd.jupyter.widget-view+json": {
       "model_id": "3a8deba4dda941939975b3f57f804ac4",
       "version_major": 2,
       "version_minor": 0
      },
      "text/plain": [
       "config.json:   0%|          | 0.00/612 [00:00<?, ?B/s]"
      ]
     },
     "metadata": {},
     "output_type": "display_data"
    },
    {
     "data": {
      "application/vnd.jupyter.widget-view+json": {
       "model_id": "ffeb21a2a096443eb8724cd3403812f8",
       "version_major": 2,
       "version_minor": 0
      },
      "text/plain": [
       "model.safetensors:   0%|          | 0.00/90.9M [00:00<?, ?B/s]"
      ]
     },
     "metadata": {},
     "output_type": "display_data"
    },
    {
     "name": "stdout",
     "output_type": "stream",
     "text": [
      "# Trainable params:  10794624\n"
     ]
    }
   ],
   "source": [
    "# model_name=\"roberta-base\"\n",
    "model_name=\"sentence-transformers/all-MiniLM-L6-v2\"\n",
    "\n",
    "tokenizer = AutoTokenizer.from_pretrained(model_name)\n",
    "bert_model = AutoModel.from_pretrained(model_name)\n",
    "\n",
    "freeze_embeddings = True\n",
    "if freeze_embeddings:\n",
    "    for param in bert_model.embeddings.parameters():\n",
    "        param.requires_grad = False\n",
    "\n",
    "#freeze_layer_count = 5\n",
    "#if freeze_layer_count > 0:\n",
    "    #for layer in bert_model.encoder.layer[:freeze_layer_count]:\n",
    "        #for param in layer.parameters():\n",
    "            #param.requires_grad = False\n",
    "\n",
    "print(\"# Trainable params: \", sum(p.numel() for p in bert_model.parameters() if p.requires_grad))"
   ]
  },
  {
   "cell_type": "code",
   "execution_count": 36,
   "id": "c5328da2",
   "metadata": {
    "execution": {
     "iopub.execute_input": "2024-05-06T14:52:40.587324Z",
     "iopub.status.busy": "2024-05-06T14:52:40.586857Z",
     "iopub.status.idle": "2024-05-06T14:52:40.605429Z",
     "shell.execute_reply": "2024-05-06T14:52:40.604517Z"
    },
    "id": "vuugpfj3BRAV",
    "outputId": "2ab20b96-2dde-4839-b3db-2958d78aba58",
    "papermill": {
     "duration": 0.05727,
     "end_time": "2024-05-06T14:52:40.607268",
     "exception": false,
     "start_time": "2024-05-06T14:52:40.549998",
     "status": "completed"
    },
    "tags": []
   },
   "outputs": [
    {
     "data": {
      "text/html": [
       "<div>\n",
       "<style scoped>\n",
       "    .dataframe tbody tr th:only-of-type {\n",
       "        vertical-align: middle;\n",
       "    }\n",
       "\n",
       "    .dataframe tbody tr th {\n",
       "        vertical-align: top;\n",
       "    }\n",
       "\n",
       "    .dataframe thead th {\n",
       "        text-align: right;\n",
       "    }\n",
       "</style>\n",
       "<table border=\"1\" class=\"dataframe\">\n",
       "  <thead>\n",
       "    <tr style=\"text-align: right;\">\n",
       "      <th></th>\n",
       "      <th>sample_id</th>\n",
       "      <th>question</th>\n",
       "      <th>questionEntity</th>\n",
       "      <th>answerEntity</th>\n",
       "      <th>groundTruthAnswerEntity</th>\n",
       "      <th>answerEntityId</th>\n",
       "      <th>questionEntityId</th>\n",
       "      <th>groundTruthAnswerEntityId</th>\n",
       "      <th>correct</th>\n",
       "      <th>graph</th>\n",
       "      <th>label</th>\n",
       "      <th>linearized_graph</th>\n",
       "      <th>length</th>\n",
       "      <th>density</th>\n",
       "    </tr>\n",
       "  </thead>\n",
       "  <tbody>\n",
       "    <tr>\n",
       "      <th>0</th>\n",
       "      <td>0</td>\n",
       "      <td>Whst is the name of the head of state and highest ranking political and religious authority in Iran?</td>\n",
       "      <td>Iran</td>\n",
       "      <td>Ruhollah Khomeini's return to Iran</td>\n",
       "      <td>Office of the Supreme Leader of Iran</td>\n",
       "      <td>Q7293530</td>\n",
       "      <td>Q794</td>\n",
       "      <td>Q16045000</td>\n",
       "      <td>False</td>\n",
       "      <td>{'nodes': [{'type': 'QUESTIONS_ENTITY', 'name_': 'Q794', 'id': 0, 'label': 'Iran'}, {'type': 'INTERNAL', 'name_': 'Q207991', 'id': 1, 'label': 'Pahlavi dynasty'}, {'type': 'ANSWER_CANDIDATE_ENTITY', 'name_': 'Q7293530', 'id': 2, 'label': 'Ruhollah Khomeini's return to Iran'}], 'links': [{'name_': 'P17', 'source': 0, 'target': 0, 'label': 'country'}, {'name_': 'P1365', 'source': 0, 'target': 1, 'label': 'replaces'}, {'name_': 'P1366', 'source': 1, 'target': 0, 'label': 'replaced by'}, {'name_': 'P17', 'source': 2, 'target': 1, 'label': 'country'}]}</td>\n",
       "      <td>0.0</td>\n",
       "      <td>Iran, country, Iran  Iran, replaces, Pahlavi dynasty  Pahlavi dynasty, replaced by, Iran  [SEP] Ruhollah Khomeini's return to Iran [SEP], country, Pahlavi dynasty</td>\n",
       "      <td>3</td>\n",
       "      <td>0.666667</td>\n",
       "    </tr>\n",
       "  </tbody>\n",
       "</table>\n",
       "</div>"
      ],
      "text/plain": [
       "   sample_id  \\\n",
       "0          0   \n",
       "\n",
       "                                                                                               question  \\\n",
       "0  Whst is the name of the head of state and highest ranking political and religious authority in Iran?   \n",
       "\n",
       "  questionEntity                        answerEntity  \\\n",
       "0           Iran  Ruhollah Khomeini's return to Iran   \n",
       "\n",
       "                groundTruthAnswerEntity answerEntityId questionEntityId  \\\n",
       "0  Office of the Supreme Leader of Iran       Q7293530             Q794   \n",
       "\n",
       "  groundTruthAnswerEntityId  correct  \\\n",
       "0                 Q16045000    False   \n",
       "\n",
       "                                                                                                                                                                                                                                                                                                                                                                                                                                                                                                                                                                       graph  \\\n",
       "0  {'nodes': [{'type': 'QUESTIONS_ENTITY', 'name_': 'Q794', 'id': 0, 'label': 'Iran'}, {'type': 'INTERNAL', 'name_': 'Q207991', 'id': 1, 'label': 'Pahlavi dynasty'}, {'type': 'ANSWER_CANDIDATE_ENTITY', 'name_': 'Q7293530', 'id': 2, 'label': 'Ruhollah Khomeini's return to Iran'}], 'links': [{'name_': 'P17', 'source': 0, 'target': 0, 'label': 'country'}, {'name_': 'P1365', 'source': 0, 'target': 1, 'label': 'replaces'}, {'name_': 'P1366', 'source': 1, 'target': 0, 'label': 'replaced by'}, {'name_': 'P17', 'source': 2, 'target': 1, 'label': 'country'}]}   \n",
       "\n",
       "   label  \\\n",
       "0    0.0   \n",
       "\n",
       "                                                                                                                                                       linearized_graph  \\\n",
       "0   Iran, country, Iran  Iran, replaces, Pahlavi dynasty  Pahlavi dynasty, replaced by, Iran  [SEP] Ruhollah Khomeini's return to Iran [SEP], country, Pahlavi dynasty    \n",
       "\n",
       "   length   density  \n",
       "0       3  0.666667  "
      ]
     },
     "execution_count": 36,
     "metadata": {},
     "output_type": "execute_result"
    }
   ],
   "source": [
    "train_df.head(1)"
   ]
  },
  {
   "cell_type": "code",
   "execution_count": 37,
   "id": "d48863a5",
   "metadata": {
    "execution": {
     "iopub.execute_input": "2024-05-06T14:52:40.679891Z",
     "iopub.status.busy": "2024-05-06T14:52:40.679598Z",
     "iopub.status.idle": "2024-05-06T14:52:58.829451Z",
     "shell.execute_reply": "2024-05-06T14:52:58.828466Z"
    },
    "id": "sQzHZg0tfo-H",
    "papermill": {
     "duration": 18.188684,
     "end_time": "2024-05-06T14:52:58.831844",
     "exception": false,
     "start_time": "2024-05-06T14:52:40.643160",
     "status": "completed"
    },
    "tags": []
   },
   "outputs": [],
   "source": [
    "max_length = 128\n",
    "train_dataset = QuestionAnswerDataset(train_df, tokenizer=tokenizer, max_length=max_length, context_key=\"linearized_graph\",\n",
    "                                      tokenizer_truncation=\"only_second\")\n",
    "dev_dataset = QuestionAnswerDataset(dev_df, tokenizer=tokenizer, max_length=max_length, context_key=\"linearized_graph\",\n",
    "                                    tokenizer_truncation=\"only_second\")\n",
    "test_dataset = QuestionAnswerDataset(test_df, tokenizer=tokenizer, max_length=max_length, context_key=\"linearized_graph\",\n",
    "                                     tokenizer_truncation=\"only_second\")"
   ]
  },
  {
   "cell_type": "code",
   "execution_count": 38,
   "id": "a1ad6253",
   "metadata": {
    "execution": {
     "iopub.execute_input": "2024-05-06T14:52:58.907822Z",
     "iopub.status.busy": "2024-05-06T14:52:58.907445Z",
     "iopub.status.idle": "2024-05-06T14:52:58.913598Z",
     "shell.execute_reply": "2024-05-06T14:52:58.912760Z"
    },
    "id": "jpLK_AUsftG3",
    "papermill": {
     "duration": 0.046108,
     "end_time": "2024-05-06T14:52:58.915445",
     "exception": false,
     "start_time": "2024-05-06T14:52:58.869337",
     "status": "completed"
    },
    "tags": []
   },
   "outputs": [],
   "source": [
    "batch_size = 128\n",
    "num_workers = 0\n",
    "\n",
    "train_loader = torch.utils.data.DataLoader(\n",
    "    train_dataset, batch_size=batch_size, num_workers=num_workers, shuffle=True, drop_last=True,\n",
    ")\n",
    "dev_loader = torch.utils.data.DataLoader(\n",
    "    dev_dataset, batch_size=batch_size, num_workers=num_workers, shuffle=False, drop_last=False,\n",
    ")\n",
    "test_loader = torch.utils.data.DataLoader(\n",
    "    test_dataset, batch_size=batch_size, num_workers=num_workers, shuffle=False, drop_last=False,\n",
    ")"
   ]
  },
  {
   "cell_type": "code",
   "execution_count": 39,
   "id": "381f9ea3",
   "metadata": {
    "execution": {
     "iopub.execute_input": "2024-05-06T14:52:58.988225Z",
     "iopub.status.busy": "2024-05-06T14:52:58.987950Z",
     "iopub.status.idle": "2024-05-06T14:52:58.991723Z",
     "shell.execute_reply": "2024-05-06T14:52:58.990995Z"
    },
    "id": "Yt6Qb4uFf4NQ",
    "papermill": {
     "duration": 0.04235,
     "end_time": "2024-05-06T14:52:58.993494",
     "exception": false,
     "start_time": "2024-05-06T14:52:58.951144",
     "status": "completed"
    },
    "tags": []
   },
   "outputs": [],
   "source": [
    "N_EPOCHS = 40\n",
    "DROPOUT = 0.2"
   ]
  },
  {
   "cell_type": "code",
   "execution_count": 40,
   "id": "12ea7c39",
   "metadata": {
    "execution": {
     "iopub.execute_input": "2024-05-06T14:52:59.067818Z",
     "iopub.status.busy": "2024-05-06T14:52:59.067507Z",
     "iopub.status.idle": "2024-05-06T14:52:59.254935Z",
     "shell.execute_reply": "2024-05-06T14:52:59.253939Z"
    },
    "papermill": {
     "duration": 0.228138,
     "end_time": "2024-05-06T14:52:59.257306",
     "exception": false,
     "start_time": "2024-05-06T14:52:59.029168",
     "status": "completed"
    },
    "tags": []
   },
   "outputs": [],
   "source": [
    "bert_linearized_graph_clf = BertSimpleClassifier(bert_model, dropout=DROPOUT).to(device)\n",
    "optimizer = optim.AdamW(bert_linearized_graph_clf.parameters(), lr=3e-5)\n",
    "criterion = nn.BCEWithLogitsLoss()\n",
    "scheduler = optim.lr_scheduler.ReduceLROnPlateau(optimizer=optimizer, mode='min',\n",
    "                                           factor=0.7, patience=1,\n",
    "                                           threshold=0.005, min_lr=1e-9, verbose=True)"
   ]
  },
  {
   "cell_type": "code",
   "execution_count": 41,
   "id": "053afced",
   "metadata": {
    "execution": {
     "iopub.execute_input": "2024-05-06T14:52:59.330641Z",
     "iopub.status.busy": "2024-05-06T14:52:59.330347Z",
     "iopub.status.idle": "2024-05-06T14:52:59.379635Z",
     "shell.execute_reply": "2024-05-06T14:52:59.378779Z"
    },
    "id": "j6tgikp586XE",
    "outputId": "71aac0be-aa8f-48dc-d32b-c9893cbc9d1f",
    "papermill": {
     "duration": 0.087576,
     "end_time": "2024-05-06T14:52:59.381558",
     "exception": false,
     "start_time": "2024-05-06T14:52:59.293982",
     "status": "completed"
    },
    "tags": []
   },
   "outputs": [
    {
     "data": {
      "text/plain": [
       "{'input_ids': tensor([[  101,  2029,  2234,  ...,     0,     0,     0],\n",
       "         [  101,  2029,  2266,  ...,     0,     0,     0],\n",
       "         [  101,  2029,  4901,  ...,     0,     0,     0],\n",
       "         ...,\n",
       "         [  101,  2029,  2208,  ...,     0,     0,     0],\n",
       "         [  101,  2040,  2001,  ...,     0,     0,     0],\n",
       "         [  101,  2029, 25341,  ...,     0,     0,     0]]),\n",
       " 'attention_mask': tensor([[1, 1, 1,  ..., 0, 0, 0],\n",
       "         [1, 1, 1,  ..., 0, 0, 0],\n",
       "         [1, 1, 1,  ..., 0, 0, 0],\n",
       "         ...,\n",
       "         [1, 1, 1,  ..., 0, 0, 0],\n",
       "         [1, 1, 1,  ..., 0, 0, 0],\n",
       "         [1, 1, 1,  ..., 0, 0, 0]]),\n",
       " 'labels': tensor([0., 0., 0., 0., 0., 0., 0., 0., 0., 0., 0., 1., 0., 0., 0., 0., 0., 0.,\n",
       "         0., 1., 0., 0., 1., 0., 0., 0., 0., 0., 0., 0., 0., 0., 0., 0., 1., 0.,\n",
       "         0., 0., 0., 0., 0., 0., 0., 1., 0., 0., 0., 0., 1., 0., 0., 0., 1., 0.,\n",
       "         0., 1., 0., 0., 0., 0., 0., 0., 0., 0., 1., 0., 0., 0., 0., 0., 0., 0.,\n",
       "         0., 1., 0., 0., 0., 1., 0., 0., 0., 0., 0., 0., 0., 0., 0., 0., 0., 1.,\n",
       "         0., 0., 0., 0., 0., 0., 0., 1., 0., 0., 0., 0., 0., 1., 0., 0., 0., 0.,\n",
       "         0., 0., 0., 0., 0., 0., 0., 0., 0., 0., 0., 0., 0., 0., 0., 0., 0., 0.,\n",
       "         1., 0.]),\n",
       " 'graph_length': tensor([ 3,  4,  4,  2,  3,  8, 10,  6,  2,  4,  3,  4,  4,  4,  3,  3,  6,  5,\n",
       "          2,  3,  6,  3,  3,  3,  2,  4,  3,  2,  3,  2,  3,  4,  3,  4,  3,  3,\n",
       "          4,  7,  7,  5,  8,  8,  3,  3,  6,  2,  4,  3,  2,  6,  5,  2,  2,  3,\n",
       "          3,  2,  3,  9,  4,  4,  4,  4,  4,  8,  3,  7,  7,  3,  6,  5,  7,  3,\n",
       "          6,  4,  2,  4,  2,  3,  8,  4,  3,  3,  5,  6,  7,  3,  4,  5,  3,  2,\n",
       "          3,  9,  2,  3,  7,  4,  3,  4,  2,  4,  8,  4,  1,  3,  4,  7,  2,  2,\n",
       "          5,  3,  4,  3,  3,  7,  3,  3,  2,  3,  3,  8,  3,  3,  2,  5,  4,  4,\n",
       "          3,  3]),\n",
       " 'graph_density': tensor([0.6667, 0.3333, 0.5000, 1.0000, 0.3333, 0.1964, 0.1889, 0.2667, 0.5000,\n",
       "         0.5000, 0.5000, 0.2500, 0.3333, 0.3333, 0.3333, 0.5000, 0.3667, 0.3500,\n",
       "         0.5000, 0.8333, 0.2333, 0.3333, 0.3333, 0.5000, 1.0000, 0.4167, 0.5000,\n",
       "         0.5000, 0.5000, 1.0000, 0.5000, 0.4167, 0.5000, 0.3333, 0.8333, 0.3333,\n",
       "         0.2500, 0.2857, 0.3810, 0.2500, 0.1607, 0.1607, 0.5000, 0.5000, 0.2333,\n",
       "         1.0000, 0.2500, 0.5000, 0.5000, 0.2333, 0.2500, 0.5000, 1.0000, 0.3333,\n",
       "         0.6667, 0.5000, 0.5000, 0.2639, 0.4167, 0.4167, 0.5000, 0.4167, 0.3333,\n",
       "         0.2143, 0.5000, 0.2381, 0.3095, 0.6667, 0.2333, 0.2500, 0.2857, 0.5000,\n",
       "         0.3333, 0.4167, 1.0000, 0.2500, 0.5000, 0.5000, 0.1786, 0.3333, 0.6667,\n",
       "         0.8333, 0.3000, 0.2333, 0.2381, 0.5000, 0.4167, 0.3500, 0.5000, 0.5000,\n",
       "         0.5000, 0.3056, 0.5000, 0.6667, 0.2381, 0.8333, 0.5000, 0.5833, 1.0000,\n",
       "         0.3333, 0.2321, 0.5000, 0.0000, 0.3333, 0.5000, 0.3095, 1.0000, 0.5000,\n",
       "         0.2500, 0.5000, 0.2500, 0.3333, 0.5000, 0.2857, 0.5000, 0.5000, 0.5000,\n",
       "         0.5000, 0.5000, 0.1786, 0.5000, 0.5000, 0.5000, 0.3500, 0.4167, 0.5000,\n",
       "         0.5000, 0.3333], dtype=torch.float64)}"
      ]
     },
     "execution_count": 41,
     "metadata": {},
     "output_type": "execute_result"
    }
   ],
   "source": [
    "inputs = next(iter(train_loader))\n",
    "inputs"
   ]
  },
  {
   "cell_type": "code",
   "execution_count": 42,
   "id": "cf35f3d8",
   "metadata": {
    "execution": {
     "iopub.execute_input": "2024-05-06T14:52:59.455373Z",
     "iopub.status.busy": "2024-05-06T14:52:59.455087Z",
     "iopub.status.idle": "2024-05-06T14:52:59.473894Z",
     "shell.execute_reply": "2024-05-06T14:52:59.472995Z"
    },
    "id": "sFxCKhxp94nz",
    "outputId": "0cf1a52e-2d99-4a5b-a5c7-94814163552e",
    "papermill": {
     "duration": 0.057615,
     "end_time": "2024-05-06T14:52:59.475764",
     "exception": false,
     "start_time": "2024-05-06T14:52:59.418149",
     "status": "completed"
    },
    "tags": []
   },
   "outputs": [
    {
     "data": {
      "text/html": [
       "<div>\n",
       "<style scoped>\n",
       "    .dataframe tbody tr th:only-of-type {\n",
       "        vertical-align: middle;\n",
       "    }\n",
       "\n",
       "    .dataframe tbody tr th {\n",
       "        vertical-align: top;\n",
       "    }\n",
       "\n",
       "    .dataframe thead th {\n",
       "        text-align: right;\n",
       "    }\n",
       "</style>\n",
       "<table border=\"1\" class=\"dataframe\">\n",
       "  <thead>\n",
       "    <tr style=\"text-align: right;\">\n",
       "      <th></th>\n",
       "      <th>sample_id</th>\n",
       "      <th>question</th>\n",
       "      <th>questionEntity</th>\n",
       "      <th>answerEntity</th>\n",
       "      <th>groundTruthAnswerEntity</th>\n",
       "      <th>answerEntityId</th>\n",
       "      <th>questionEntityId</th>\n",
       "      <th>groundTruthAnswerEntityId</th>\n",
       "      <th>correct</th>\n",
       "      <th>graph</th>\n",
       "      <th>label</th>\n",
       "      <th>linearized_graph</th>\n",
       "      <th>length</th>\n",
       "      <th>density</th>\n",
       "    </tr>\n",
       "  </thead>\n",
       "  <tbody>\n",
       "    <tr>\n",
       "      <th>0</th>\n",
       "      <td>0</td>\n",
       "      <td>Whst is the name of the head of state and highest ranking political and religious authority in Iran?</td>\n",
       "      <td>Iran</td>\n",
       "      <td>Ruhollah Khomeini's return to Iran</td>\n",
       "      <td>Office of the Supreme Leader of Iran</td>\n",
       "      <td>Q7293530</td>\n",
       "      <td>Q794</td>\n",
       "      <td>Q16045000</td>\n",
       "      <td>False</td>\n",
       "      <td>{'nodes': [{'type': 'QUESTIONS_ENTITY', 'name_': 'Q794', 'id': 0, 'label': 'Iran'}, {'type': 'INTERNAL', 'name_': 'Q207991', 'id': 1, 'label': 'Pahlavi dynasty'}, {'type': 'ANSWER_CANDIDATE_ENTITY', 'name_': 'Q7293530', 'id': 2, 'label': 'Ruhollah Khomeini's return to Iran'}], 'links': [{'name_': 'P17', 'source': 0, 'target': 0, 'label': 'country'}, {'name_': 'P1365', 'source': 0, 'target': 1, 'label': 'replaces'}, {'name_': 'P1366', 'source': 1, 'target': 0, 'label': 'replaced by'}, {'name_': 'P17', 'source': 2, 'target': 1, 'label': 'country'}]}</td>\n",
       "      <td>0.0</td>\n",
       "      <td>Iran, country, Iran  Iran, replaces, Pahlavi dynasty  Pahlavi dynasty, replaced by, Iran  [SEP] Ruhollah Khomeini's return to Iran [SEP], country, Pahlavi dynasty</td>\n",
       "      <td>3</td>\n",
       "      <td>0.666667</td>\n",
       "    </tr>\n",
       "  </tbody>\n",
       "</table>\n",
       "</div>"
      ],
      "text/plain": [
       "   sample_id  \\\n",
       "0          0   \n",
       "\n",
       "                                                                                               question  \\\n",
       "0  Whst is the name of the head of state and highest ranking political and religious authority in Iran?   \n",
       "\n",
       "  questionEntity                        answerEntity  \\\n",
       "0           Iran  Ruhollah Khomeini's return to Iran   \n",
       "\n",
       "                groundTruthAnswerEntity answerEntityId questionEntityId  \\\n",
       "0  Office of the Supreme Leader of Iran       Q7293530             Q794   \n",
       "\n",
       "  groundTruthAnswerEntityId  correct  \\\n",
       "0                 Q16045000    False   \n",
       "\n",
       "                                                                                                                                                                                                                                                                                                                                                                                                                                                                                                                                                                       graph  \\\n",
       "0  {'nodes': [{'type': 'QUESTIONS_ENTITY', 'name_': 'Q794', 'id': 0, 'label': 'Iran'}, {'type': 'INTERNAL', 'name_': 'Q207991', 'id': 1, 'label': 'Pahlavi dynasty'}, {'type': 'ANSWER_CANDIDATE_ENTITY', 'name_': 'Q7293530', 'id': 2, 'label': 'Ruhollah Khomeini's return to Iran'}], 'links': [{'name_': 'P17', 'source': 0, 'target': 0, 'label': 'country'}, {'name_': 'P1365', 'source': 0, 'target': 1, 'label': 'replaces'}, {'name_': 'P1366', 'source': 1, 'target': 0, 'label': 'replaced by'}, {'name_': 'P17', 'source': 2, 'target': 1, 'label': 'country'}]}   \n",
       "\n",
       "   label  \\\n",
       "0    0.0   \n",
       "\n",
       "                                                                                                                                                       linearized_graph  \\\n",
       "0   Iran, country, Iran  Iran, replaces, Pahlavi dynasty  Pahlavi dynasty, replaced by, Iran  [SEP] Ruhollah Khomeini's return to Iran [SEP], country, Pahlavi dynasty    \n",
       "\n",
       "   length   density  \n",
       "0       3  0.666667  "
      ]
     },
     "execution_count": 42,
     "metadata": {},
     "output_type": "execute_result"
    }
   ],
   "source": [
    "train_df.head(1)"
   ]
  },
  {
   "cell_type": "code",
   "execution_count": 43,
   "id": "83809c88",
   "metadata": {
    "execution": {
     "iopub.execute_input": "2024-05-06T14:52:59.549816Z",
     "iopub.status.busy": "2024-05-06T14:52:59.549518Z",
     "iopub.status.idle": "2024-05-06T14:53:04.723787Z",
     "shell.execute_reply": "2024-05-06T14:53:04.722949Z"
    },
    "papermill": {
     "duration": 5.213733,
     "end_time": "2024-05-06T14:53:04.725992",
     "exception": false,
     "start_time": "2024-05-06T14:52:59.512259",
     "status": "completed"
    },
    "tags": []
   },
   "outputs": [],
   "source": [
    "true_lables, pred_labels = predict(model=bert_linearized_graph_clf, data_loader=test_loader, device=device)"
   ]
  },
  {
   "cell_type": "code",
   "execution_count": 44,
   "id": "706de62f",
   "metadata": {
    "execution": {
     "iopub.execute_input": "2024-05-06T14:53:04.801419Z",
     "iopub.status.busy": "2024-05-06T14:53:04.801106Z",
     "iopub.status.idle": "2024-05-06T14:53:04.817542Z",
     "shell.execute_reply": "2024-05-06T14:53:04.816638Z"
    },
    "papermill": {
     "duration": 0.055883,
     "end_time": "2024-05-06T14:53:04.819500",
     "exception": false,
     "start_time": "2024-05-06T14:53:04.763617",
     "status": "completed"
    },
    "tags": []
   },
   "outputs": [
    {
     "data": {
      "text/plain": [
       "0.0"
      ]
     },
     "execution_count": 44,
     "metadata": {},
     "output_type": "execute_result"
    }
   ],
   "source": [
    "f1_score(true_lables, pred_labels)"
   ]
  },
  {
   "cell_type": "markdown",
   "id": "5938c064",
   "metadata": {
    "id": "EUs3AOx15WtN",
    "papermill": {
     "duration": 0.036404,
     "end_time": "2024-05-06T14:53:04.892594",
     "exception": false,
     "start_time": "2024-05-06T14:53:04.856190",
     "status": "completed"
    },
    "tags": []
   },
   "source": [
    "# Training"
   ]
  },
  {
   "cell_type": "code",
   "execution_count": 45,
   "id": "f7b8308a",
   "metadata": {
    "execution": {
     "iopub.execute_input": "2024-05-06T14:53:04.966671Z",
     "iopub.status.busy": "2024-05-06T14:53:04.966331Z",
     "iopub.status.idle": "2024-05-06T15:26:36.963080Z",
     "shell.execute_reply": "2024-05-06T15:26:36.962143Z"
    },
    "id": "XatgnQNN5MSy",
    "outputId": "7474128f-59db-4c2a-dea7-d3a26e91a5ac",
    "papermill": {
     "duration": 2012.037759,
     "end_time": "2024-05-06T15:26:36.966752",
     "exception": false,
     "start_time": "2024-05-06T14:53:04.928993",
     "status": "completed"
    },
    "tags": []
   },
   "outputs": [
    {
     "data": {
      "image/png": "[encoded data removed]",
      "text/plain": [
       "<Figure size 1200x800 with 2 Axes>"
      ]
     },
     "metadata": {},
     "output_type": "display_data"
    },
    {
     "name": "stdout",
     "output_type": "stream",
     "text": [
      "Epoch: 40 | Time: 0m 49s\n",
      "\tTrain Loss: 0.015\n",
      "\t Val. Loss: 0.361 |  Val. F1: 0.674\n"
     ]
    }
   ],
   "source": [
    "train_evaluate(bert_linearized_graph_clf, train_loader, dev_loader, optimizer, scheduler,\n",
    "               criterion, N_EPOCHS, \"bert_linearized_graph_clf\", device)"
   ]
  },
  {
   "cell_type": "markdown",
   "id": "4c59b5e6",
   "metadata": {
    "papermill": {
     "duration": 0.037897,
     "end_time": "2024-05-06T15:26:37.042927",
     "exception": false,
     "start_time": "2024-05-06T15:26:37.005030",
     "status": "completed"
    },
    "tags": []
   },
   "source": [
    "## Evaluation"
   ]
  },
  {
   "cell_type": "code",
   "execution_count": 46,
   "id": "d38a55cb",
   "metadata": {
    "execution": {
     "iopub.execute_input": "2024-05-06T15:26:37.121430Z",
     "iopub.status.busy": "2024-05-06T15:26:37.121122Z",
     "iopub.status.idle": "2024-05-06T15:26:37.218739Z",
     "shell.execute_reply": "2024-05-06T15:26:37.217760Z"
    },
    "papermill": {
     "duration": 0.140024,
     "end_time": "2024-05-06T15:26:37.220683",
     "exception": false,
     "start_time": "2024-05-06T15:26:37.080659",
     "status": "completed"
    },
    "tags": []
   },
   "outputs": [
    {
     "data": {
      "text/plain": [
       "<All keys matched successfully>"
      ]
     },
     "execution_count": 46,
     "metadata": {},
     "output_type": "execute_result"
    }
   ],
   "source": [
    "bert_linearized_graph_clf.load_state_dict(torch.load('best-val-bert_linearized_graph_clf.pt'))"
   ]
  },
  {
   "cell_type": "code",
   "execution_count": 47,
   "id": "1332cdb0",
   "metadata": {
    "execution": {
     "iopub.execute_input": "2024-05-06T15:26:37.298935Z",
     "iopub.status.busy": "2024-05-06T15:26:37.298593Z",
     "iopub.status.idle": "2024-05-06T15:26:39.193719Z",
     "shell.execute_reply": "2024-05-06T15:26:39.192680Z"
    },
    "papermill": {
     "duration": 1.936111,
     "end_time": "2024-05-06T15:26:39.195927",
     "exception": false,
     "start_time": "2024-05-06T15:26:37.259816",
     "status": "completed"
    },
    "tags": []
   },
   "outputs": [
    {
     "name": "stdout",
     "output_type": "stream",
     "text": [
      "0.710801393728223,0.6601941747572816,0.6845637583892618\n"
     ]
    }
   ],
   "source": [
    "true_labels, pred_labels = predict(bert_linearized_graph_clf, dev_loader, device)\n",
    "print(f\"{precision_score(true_labels, pred_labels)},{recall_score(true_labels, pred_labels)},{f1_score(true_labels, pred_labels)}\")"
   ]
  },
  {
   "cell_type": "code",
   "execution_count": 48,
   "id": "b49c4519",
   "metadata": {
    "execution": {
     "iopub.execute_input": "2024-05-06T15:26:39.274654Z",
     "iopub.status.busy": "2024-05-06T15:26:39.274345Z",
     "iopub.status.idle": "2024-05-06T15:26:43.914648Z",
     "shell.execute_reply": "2024-05-06T15:26:43.913782Z"
    },
    "papermill": {
     "duration": 4.681602,
     "end_time": "2024-05-06T15:26:43.916822",
     "exception": false,
     "start_time": "2024-05-06T15:26:39.235220",
     "status": "completed"
    },
    "tags": []
   },
   "outputs": [
    {
     "name": "stdout",
     "output_type": "stream",
     "text": [
      "0.6597633136094675,0.5883905013192612,0.6220362622036262\n"
     ]
    }
   ],
   "source": [
    "true_labels, pred_labels = predict(bert_linearized_graph_clf, test_loader, device)\n",
    "print(f\"{precision_score(true_labels, pred_labels)},{recall_score(true_labels, pred_labels)},{f1_score(true_labels, pred_labels)}\")"
   ]
  },
  {
   "cell_type": "markdown",
   "id": "4fb21172",
   "metadata": {
    "papermill": {
     "duration": 0.037929,
     "end_time": "2024-05-06T15:26:43.993856",
     "exception": false,
     "start_time": "2024-05-06T15:26:43.955927",
     "status": "completed"
    },
    "tags": []
   },
   "source": [
    "# Test"
   ]
  },
  {
   "cell_type": "code",
   "execution_count": 49,
   "id": "37f75d88",
   "metadata": {
    "execution": {
     "iopub.execute_input": "2024-05-06T15:26:44.071776Z",
     "iopub.status.busy": "2024-05-06T15:26:44.071428Z",
     "iopub.status.idle": "2024-05-06T15:26:44.080574Z",
     "shell.execute_reply": "2024-05-06T15:26:44.079870Z"
    },
    "papermill": {
     "duration": 0.050818,
     "end_time": "2024-05-06T15:26:44.082420",
     "exception": false,
     "start_time": "2024-05-06T15:26:44.031602",
     "status": "completed"
    },
    "tags": []
   },
   "outputs": [],
   "source": [
    "class TestQuestionAnswerDataset(Dataset):\n",
    "\n",
    "    def __init__(self, df, tokenizer, max_length, context_key=\"answerEntity\",\n",
    "                 tokenizer_truncation=\"only_first\", graph_length=\"length\", graph_density=\"density\"):\n",
    "        super(QuestionAnswerDataset).__init__()\n",
    "\n",
    "        self.questions = df.question.values\n",
    "        self.contexts = df[context_key].values\n",
    "        self.graph_length = df[graph_length].values\n",
    "        self.graph_density = df[graph_density].values\n",
    "        self.tokenizer = tokenizer\n",
    "        self.max_length = max_length\n",
    "        self.tokenized_input = [tokenizer.encode_plus(x, y,\n",
    "                              max_length=self.max_length,\n",
    "                              padding=\"max_length\",\n",
    "                              truncation=tokenizer_truncation,\n",
    "                              return_tensors=\"pt\", ) \\\n",
    "                          for x, y in zip(self.questions,\n",
    "                                          self.contexts)]\n",
    "\n",
    "    def __len__(self):\n",
    "        return len(self.questions)\n",
    "\n",
    "    def __getitem__(self, idx):\n",
    "        return {\n",
    "                \"input_ids\": self.tokenized_input[idx][\"input_ids\"][0],\n",
    "                \"attention_mask\" : self.tokenized_input[idx][\"attention_mask\"][0],\n",
    "                \"graph_length\": self.graph_length[idx],\n",
    "                \"graph_density\": self.graph_density[idx],\n",
    "                }"
   ]
  },
  {
   "cell_type": "code",
   "execution_count": 50,
   "id": "2f66a23c",
   "metadata": {
    "execution": {
     "iopub.execute_input": "2024-05-06T15:26:44.161065Z",
     "iopub.status.busy": "2024-05-06T15:26:44.160791Z",
     "iopub.status.idle": "2024-05-06T15:26:44.167454Z",
     "shell.execute_reply": "2024-05-06T15:26:44.166674Z"
    },
    "papermill": {
     "duration": 0.047425,
     "end_time": "2024-05-06T15:26:44.169294",
     "exception": false,
     "start_time": "2024-05-06T15:26:44.121869",
     "status": "completed"
    },
    "tags": []
   },
   "outputs": [],
   "source": [
    "def predict(model, data_loader, device):\n",
    "    pred_labels = []\n",
    "\n",
    "    model.eval()\n",
    "    with torch.no_grad():\n",
    "        for i, batch in enumerate(data_loader):\n",
    "            input_ids = batch[\"input_ids\"].to(device)\n",
    "            attention_mask = batch[\"attention_mask\"].to(device)\n",
    "            \n",
    "            graph_length = batch[\"graph_length\"].to(device)\n",
    "            graph_density = batch[\"graph_density\"].to(device)\n",
    "\n",
    "            pred_probas = model(inputs=input_ids, attention_mask=attention_mask, graph_length=graph_length, graph_density=graph_density).squeeze(1)\n",
    "            pred_probas = pred_probas.cpu().numpy()\n",
    "\n",
    "            batch_pred_labels = (pred_probas >= 0.5) * 1\n",
    "\n",
    "            pred_labels.extend(batch_pred_labels)\n",
    "            \n",
    "    return pred_labels"
   ]
  },
  {
   "cell_type": "code",
   "execution_count": 51,
   "id": "f9053f73",
   "metadata": {
    "execution": {
     "iopub.execute_input": "2024-05-06T15:26:44.246840Z",
     "iopub.status.busy": "2024-05-06T15:26:44.246256Z",
     "iopub.status.idle": "2024-05-06T15:26:44.371764Z",
     "shell.execute_reply": "2024-05-06T15:26:44.370884Z"
    },
    "papermill": {
     "duration": 0.166178,
     "end_time": "2024-05-06T15:26:44.373795",
     "exception": false,
     "start_time": "2024-05-06T15:26:44.207617",
     "status": "completed"
    },
    "tags": []
   },
   "outputs": [
    {
     "data": {
      "text/plain": [
       "(10961, 7)"
      ]
     },
     "execution_count": 51,
     "metadata": {},
     "output_type": "execute_result"
    }
   ],
   "source": [
    "test_data = pd.read_csv(\"TextGraphs17-shared-task/data/tsv/test.tsv\", sep=\"\\t\")\n",
    "test_data.shape"
   ]
  },
  {
   "cell_type": "code",
   "execution_count": 52,
   "id": "14f3ad81",
   "metadata": {
    "execution": {
     "iopub.execute_input": "2024-05-06T15:26:44.452590Z",
     "iopub.status.busy": "2024-05-06T15:26:44.452300Z",
     "iopub.status.idle": "2024-05-06T15:26:46.605432Z",
     "shell.execute_reply": "2024-05-06T15:26:46.604456Z"
    },
    "papermill": {
     "duration": 2.194986,
     "end_time": "2024-05-06T15:26:46.607596",
     "exception": false,
     "start_time": "2024-05-06T15:26:44.412610",
     "status": "completed"
    },
    "tags": []
   },
   "outputs": [
    {
     "data": {
      "text/html": [
       "<div>\n",
       "<style scoped>\n",
       "    .dataframe tbody tr th:only-of-type {\n",
       "        vertical-align: middle;\n",
       "    }\n",
       "\n",
       "    .dataframe tbody tr th {\n",
       "        vertical-align: top;\n",
       "    }\n",
       "\n",
       "    .dataframe thead th {\n",
       "        text-align: right;\n",
       "    }\n",
       "</style>\n",
       "<table border=\"1\" class=\"dataframe\">\n",
       "  <thead>\n",
       "    <tr style=\"text-align: right;\">\n",
       "      <th></th>\n",
       "      <th>sample_id</th>\n",
       "      <th>question</th>\n",
       "      <th>questionEntity</th>\n",
       "      <th>answerEntity</th>\n",
       "      <th>questionEntityId</th>\n",
       "      <th>answerEntityId</th>\n",
       "      <th>graph</th>\n",
       "      <th>linearized_graph</th>\n",
       "      <th>length</th>\n",
       "      <th>density</th>\n",
       "    </tr>\n",
       "  </thead>\n",
       "  <tbody>\n",
       "    <tr>\n",
       "      <th>0</th>\n",
       "      <td>0</td>\n",
       "      <td>After publishing A Time to Kill, which book did its author begin working on immediately?</td>\n",
       "      <td>A Time to Kill</td>\n",
       "      <td>A Clash of Kings</td>\n",
       "      <td>Q1213715</td>\n",
       "      <td>Q300370</td>\n",
       "      <td>{'nodes': [{'type': 'INTERNAL', 'name_': 'Q30', 'id': 0, 'label': 'United States'}, {'type': 'ANSWER_CANDIDATE_ENTITY', 'name_': 'Q300370', 'id': 1, 'label': 'A Clash of Kings'}, {'type': 'QUESTIONS_ENTITY', 'name_': 'Q1213715', 'id': 2, 'label': 'A Time to Kill'}], 'links': [{'name_': 'P17', 'source': 0, 'target': 0, 'label': 'country'}, {'name_': 'P495', 'source': 1, 'target': 0, 'label': 'country of origin'}, {'name_': 'P495', 'source': 2, 'target': 0, 'label': 'country of origin'}]}</td>\n",
       "      <td>United States, country, United States  [SEP] A Clash of Kings [SEP], country of origin, United States  A Time to Kill, country of origin, United States</td>\n",
       "      <td>3</td>\n",
       "      <td>0.5</td>\n",
       "    </tr>\n",
       "    <tr>\n",
       "      <th>1</th>\n",
       "      <td>1</td>\n",
       "      <td>After publishing A Time to Kill, which book did its author begin working on immediately?</td>\n",
       "      <td>A Time to Kill</td>\n",
       "      <td>A Feast for Crows</td>\n",
       "      <td>Q1213715</td>\n",
       "      <td>Q1764445</td>\n",
       "      <td>{'nodes': [{'type': 'INTERNAL', 'name_': 'Q30', 'id': 0, 'label': 'United States'}, {'type': 'ANSWER_CANDIDATE_ENTITY', 'name_': 'Q1764445', 'id': 1, 'label': 'A Feast for Crows'}, {'type': 'QUESTIONS_ENTITY', 'name_': 'Q1213715', 'id': 2, 'label': 'A Time to Kill'}], 'links': [{'name_': 'P17', 'source': 0, 'target': 0, 'label': 'country'}, {'name_': 'P495', 'source': 1, 'target': 0, 'label': 'country of origin'}, {'name_': 'P495', 'source': 2, 'target': 0, 'label': 'country of origin'}]}</td>\n",
       "      <td>United States, country, United States  [SEP] A Feast for Crows [SEP], country of origin, United States  A Time to Kill, country of origin, United States</td>\n",
       "      <td>3</td>\n",
       "      <td>0.5</td>\n",
       "    </tr>\n",
       "  </tbody>\n",
       "</table>\n",
       "</div>"
      ],
      "text/plain": [
       "   sample_id  \\\n",
       "0          0   \n",
       "1          1   \n",
       "\n",
       "                                                                                   question  \\\n",
       "0  After publishing A Time to Kill, which book did its author begin working on immediately?   \n",
       "1  After publishing A Time to Kill, which book did its author begin working on immediately?   \n",
       "\n",
       "   questionEntity       answerEntity questionEntityId answerEntityId  \\\n",
       "0  A Time to Kill   A Clash of Kings         Q1213715        Q300370   \n",
       "1  A Time to Kill  A Feast for Crows         Q1213715       Q1764445   \n",
       "\n",
       "                                                                                                                                                                                                                                                                                                                                                                                                                                                                                                           graph  \\\n",
       "0    {'nodes': [{'type': 'INTERNAL', 'name_': 'Q30', 'id': 0, 'label': 'United States'}, {'type': 'ANSWER_CANDIDATE_ENTITY', 'name_': 'Q300370', 'id': 1, 'label': 'A Clash of Kings'}, {'type': 'QUESTIONS_ENTITY', 'name_': 'Q1213715', 'id': 2, 'label': 'A Time to Kill'}], 'links': [{'name_': 'P17', 'source': 0, 'target': 0, 'label': 'country'}, {'name_': 'P495', 'source': 1, 'target': 0, 'label': 'country of origin'}, {'name_': 'P495', 'source': 2, 'target': 0, 'label': 'country of origin'}]}   \n",
       "1  {'nodes': [{'type': 'INTERNAL', 'name_': 'Q30', 'id': 0, 'label': 'United States'}, {'type': 'ANSWER_CANDIDATE_ENTITY', 'name_': 'Q1764445', 'id': 1, 'label': 'A Feast for Crows'}, {'type': 'QUESTIONS_ENTITY', 'name_': 'Q1213715', 'id': 2, 'label': 'A Time to Kill'}], 'links': [{'name_': 'P17', 'source': 0, 'target': 0, 'label': 'country'}, {'name_': 'P495', 'source': 1, 'target': 0, 'label': 'country of origin'}, {'name_': 'P495', 'source': 2, 'target': 0, 'label': 'country of origin'}]}   \n",
       "\n",
       "                                                                                                                                             linearized_graph  \\\n",
       "0    United States, country, United States  [SEP] A Clash of Kings [SEP], country of origin, United States  A Time to Kill, country of origin, United States    \n",
       "1   United States, country, United States  [SEP] A Feast for Crows [SEP], country of origin, United States  A Time to Kill, country of origin, United States    \n",
       "\n",
       "   length  density  \n",
       "0       3      0.5  \n",
       "1       3      0.5  "
      ]
     },
     "execution_count": 52,
     "metadata": {},
     "output_type": "execute_result"
    }
   ],
   "source": [
    "test_data[\"graph\"] = test_data[\"graph\"].apply(eval)\n",
    "test_data[\"linearized_graph\"], test_data[\"length\"], test_data[\"density\"] = zip(*test_data.apply(linearize_graph, axis=1))\n",
    "test_data.head(2)"
   ]
  },
  {
   "cell_type": "code",
   "execution_count": 53,
   "id": "eca62fed",
   "metadata": {
    "execution": {
     "iopub.execute_input": "2024-05-06T15:26:46.687474Z",
     "iopub.status.busy": "2024-05-06T15:26:46.687154Z",
     "iopub.status.idle": "2024-05-06T15:26:51.923570Z",
     "shell.execute_reply": "2024-05-06T15:26:51.922539Z"
    },
    "papermill": {
     "duration": 5.278379,
     "end_time": "2024-05-06T15:26:51.926002",
     "exception": false,
     "start_time": "2024-05-06T15:26:46.647623",
     "status": "completed"
    },
    "tags": []
   },
   "outputs": [],
   "source": [
    "max_length = 128\n",
    "\n",
    "final_test_data = TestQuestionAnswerDataset(test_data, tokenizer=tokenizer, max_length=max_length, context_key=\"linearized_graph\",\n",
    "                                     tokenizer_truncation=\"only_second\")"
   ]
  },
  {
   "cell_type": "code",
   "execution_count": 54,
   "id": "5b8c4588",
   "metadata": {
    "execution": {
     "iopub.execute_input": "2024-05-06T15:26:52.005774Z",
     "iopub.status.busy": "2024-05-06T15:26:52.005429Z",
     "iopub.status.idle": "2024-05-06T15:26:52.010538Z",
     "shell.execute_reply": "2024-05-06T15:26:52.009690Z"
    },
    "papermill": {
     "duration": 0.046585,
     "end_time": "2024-05-06T15:26:52.012386",
     "exception": false,
     "start_time": "2024-05-06T15:26:51.965801",
     "status": "completed"
    },
    "tags": []
   },
   "outputs": [],
   "source": [
    "batch_size = 128\n",
    "num_workers = 0\n",
    "\n",
    "test_loader = torch.utils.data.DataLoader(\n",
    "    final_test_data, batch_size=batch_size, num_workers=num_workers, shuffle=False, drop_last=False,\n",
    ")"
   ]
  },
  {
   "cell_type": "code",
   "execution_count": 55,
   "id": "174bb927",
   "metadata": {
    "execution": {
     "iopub.execute_input": "2024-05-06T15:26:52.090418Z",
     "iopub.status.busy": "2024-05-06T15:26:52.090153Z",
     "iopub.status.idle": "2024-05-06T15:26:52.101994Z",
     "shell.execute_reply": "2024-05-06T15:26:52.101170Z"
    },
    "papermill": {
     "duration": 0.052855,
     "end_time": "2024-05-06T15:26:52.103770",
     "exception": false,
     "start_time": "2024-05-06T15:26:52.050915",
     "status": "completed"
    },
    "tags": []
   },
   "outputs": [
    {
     "data": {
      "text/plain": [
       "{'input_ids': tensor([[ 101, 2044, 4640,  ...,    0,    0,    0],\n",
       "         [ 101, 2044, 4640,  ...,    0,    0,    0],\n",
       "         [ 101, 2044, 4640,  ...,    0,    0,    0],\n",
       "         ...,\n",
       "         [ 101, 2034, 2931,  ...,    0,    0,    0],\n",
       "         [ 101, 2034, 2931,  ...,    0,    0,    0],\n",
       "         [ 101, 2034, 2931,  ...,    0,    0,    0]]),\n",
       " 'attention_mask': tensor([[1, 1, 1,  ..., 0, 0, 0],\n",
       "         [1, 1, 1,  ..., 0, 0, 0],\n",
       "         [1, 1, 1,  ..., 0, 0, 0],\n",
       "         ...,\n",
       "         [1, 1, 1,  ..., 0, 0, 0],\n",
       "         [1, 1, 1,  ..., 0, 0, 0],\n",
       "         [1, 1, 1,  ..., 0, 0, 0]]),\n",
       " 'graph_length': tensor([ 3,  3,  3,  3,  3,  6,  3,  3,  3,  3,  5,  2,  3,  2,  3,  3,  3,  2,\n",
       "          3,  2,  2,  3,  2,  2,  2,  2,  2,  2,  2,  2,  2,  2,  3,  9,  7,  7,\n",
       "          7,  7,  5,  4,  3,  3,  4,  4,  4,  5,  5,  5,  5,  5,  5,  4,  5,  5,\n",
       "          5,  5,  8,  8,  8,  7,  5,  7,  7,  6,  5,  6,  6,  8,  9,  6,  6, 10,\n",
       "          6,  6,  7,  4,  6,  8,  5,  5,  5,  5,  5,  7,  8,  5,  7,  4,  9, 14,\n",
       "         10,  7, 11,  7,  7, 12,  7,  9, 10,  4,  5,  4,  5,  8,  5,  4,  7,  8,\n",
       "          5,  3,  5,  4,  5,  5,  4,  4,  5,  4,  4,  4,  4,  6,  3,  3,  3,  3,\n",
       "          2,  4]),\n",
       " 'graph_density': tensor([0.5000, 0.5000, 0.5000, 0.5000, 0.5000, 0.2667, 0.5000, 0.3333, 0.5000,\n",
       "         0.5000, 0.2500, 0.5000, 0.6667, 1.5000, 0.6667, 0.6667, 0.5000, 1.5000,\n",
       "         0.3333, 1.5000, 1.5000, 0.3333, 1.0000, 1.0000, 1.0000, 0.5000, 1.0000,\n",
       "         1.0000, 0.5000, 1.0000, 0.5000, 1.0000, 0.5000, 0.2083, 0.2381, 0.2143,\n",
       "         0.2143, 0.2143, 0.3000, 0.4167, 0.6667, 0.5000, 0.3333, 0.4167, 0.3333,\n",
       "         0.3000, 0.5000, 0.3000, 0.5000, 0.5000, 0.5000, 0.3333, 0.3000, 0.5000,\n",
       "         0.3000, 0.3000, 0.2321, 0.2321, 0.2143, 0.2143, 0.2500, 0.2619, 0.2619,\n",
       "         0.3333, 0.3000, 0.2000, 0.3333, 0.3036, 0.2222, 0.3000, 0.3000, 0.1778,\n",
       "         0.3000, 0.3000, 0.2619, 0.2500, 0.3000, 0.2679, 0.3000, 0.2500, 0.4500,\n",
       "         0.4500, 0.4000, 0.1905, 0.2857, 0.4500, 0.2381, 0.4167, 0.1389, 0.0989,\n",
       "         0.1222, 0.1667, 0.1455, 0.1667, 0.1905, 0.1288, 0.1429, 0.1528, 0.1333,\n",
       "         0.4167, 0.4000, 0.4167, 0.4500, 0.3571, 0.5000, 0.5833, 0.3095, 0.3571,\n",
       "         0.3500, 0.6667, 0.4000, 0.3333, 0.3500, 0.3000, 0.5833, 0.4167, 0.2500,\n",
       "         0.4167, 0.4167, 0.3333, 0.3333, 0.2333, 0.5000, 0.5000, 0.5000, 0.5000,\n",
       "         1.0000, 0.5000], dtype=torch.float64)}"
      ]
     },
     "execution_count": 55,
     "metadata": {},
     "output_type": "execute_result"
    }
   ],
   "source": [
    "inputs = next(iter(test_loader))\n",
    "inputs"
   ]
  },
  {
   "cell_type": "code",
   "execution_count": 56,
   "id": "b025a0c5",
   "metadata": {
    "execution": {
     "iopub.execute_input": "2024-05-06T15:26:52.184007Z",
     "iopub.status.busy": "2024-05-06T15:26:52.183735Z",
     "iopub.status.idle": "2024-05-06T15:26:58.862651Z",
     "shell.execute_reply": "2024-05-06T15:26:58.861554Z"
    },
    "id": "PmkreeJz5ZDq",
    "papermill": {
     "duration": 6.721935,
     "end_time": "2024-05-06T15:26:58.865327",
     "exception": false,
     "start_time": "2024-05-06T15:26:52.143392",
     "status": "completed"
    },
    "tags": []
   },
   "outputs": [],
   "source": [
    "predicted_labels = predict(model=bert_linearized_graph_clf, data_loader=test_loader, device=device)"
   ]
  },
  {
   "cell_type": "code",
   "execution_count": 57,
   "id": "91ea64b2",
   "metadata": {
    "execution": {
     "iopub.execute_input": "2024-05-06T15:26:58.946992Z",
     "iopub.status.busy": "2024-05-06T15:26:58.946323Z",
     "iopub.status.idle": "2024-05-06T15:26:58.997243Z",
     "shell.execute_reply": "2024-05-06T15:26:58.996228Z"
    },
    "papermill": {
     "duration": 0.093169,
     "end_time": "2024-05-06T15:26:58.999351",
     "exception": false,
     "start_time": "2024-05-06T15:26:58.906182",
     "status": "completed"
    },
    "tags": []
   },
   "outputs": [
    {
     "data": {
      "text/html": [
       "<div>\n",
       "<style scoped>\n",
       "    .dataframe tbody tr th:only-of-type {\n",
       "        vertical-align: middle;\n",
       "    }\n",
       "\n",
       "    .dataframe tbody tr th {\n",
       "        vertical-align: top;\n",
       "    }\n",
       "\n",
       "    .dataframe thead th {\n",
       "        text-align: right;\n",
       "    }\n",
       "</style>\n",
       "<table border=\"1\" class=\"dataframe\">\n",
       "  <thead>\n",
       "    <tr style=\"text-align: right;\">\n",
       "      <th></th>\n",
       "      <th>sample_id</th>\n",
       "      <th>prediction</th>\n",
       "    </tr>\n",
       "  </thead>\n",
       "  <tbody>\n",
       "    <tr>\n",
       "      <th>0</th>\n",
       "      <td>0</td>\n",
       "      <td>0</td>\n",
       "    </tr>\n",
       "    <tr>\n",
       "      <th>1</th>\n",
       "      <td>1</td>\n",
       "      <td>0</td>\n",
       "    </tr>\n",
       "    <tr>\n",
       "      <th>2</th>\n",
       "      <td>2</td>\n",
       "      <td>0</td>\n",
       "    </tr>\n",
       "    <tr>\n",
       "      <th>3</th>\n",
       "      <td>3</td>\n",
       "      <td>0</td>\n",
       "    </tr>\n",
       "    <tr>\n",
       "      <th>4</th>\n",
       "      <td>4</td>\n",
       "      <td>0</td>\n",
       "    </tr>\n",
       "  </tbody>\n",
       "</table>\n",
       "</div>"
      ],
      "text/plain": [
       "   sample_id  prediction\n",
       "0          0           0\n",
       "1          1           0\n",
       "2          2           0\n",
       "3          3           0\n",
       "4          4           0"
      ]
     },
     "execution_count": 57,
     "metadata": {},
     "output_type": "execute_result"
    }
   ],
   "source": [
    "results = pd.concat([pd.Series(np.arange(len(predicted_labels))), pd.Series(predicted_labels)], axis=1)\n",
    "results.rename(columns={0: \"sample_id\", 1: \"prediction\"}, inplace=True)\n",
    "results.head(5)"
   ]
  },
  {
   "cell_type": "code",
   "execution_count": 58,
   "id": "dc6f893f",
   "metadata": {
    "execution": {
     "iopub.execute_input": "2024-05-06T15:26:59.080971Z",
     "iopub.status.busy": "2024-05-06T15:26:59.080675Z",
     "iopub.status.idle": "2024-05-06T15:26:59.099189Z",
     "shell.execute_reply": "2024-05-06T15:26:59.098336Z"
    },
    "papermill": {
     "duration": 0.060699,
     "end_time": "2024-05-06T15:26:59.101498",
     "exception": false,
     "start_time": "2024-05-06T15:26:59.040799",
     "status": "completed"
    },
    "tags": []
   },
   "outputs": [],
   "source": [
    "results.to_csv(\"results.csv\", index=False, sep=\"\\t\")"
   ]
  }
 ],
 "metadata": {
  "colab": {
   "provenance": []
  },
  "kaggle": {
   "accelerator": "gpu",
   "dataSources": [],
   "dockerImageVersionId": 30699,
   "isGpuEnabled": true,
   "isInternetEnabled": true,
   "language": "python",
   "sourceType": "notebook"
  },
  "kernelspec": {
   "display_name": "Python 3",
   "language": "python",
   "name": "python3"
  },
  "language_info": {
   "codemirror_mode": {
    "name": "ipython",
    "version": 3
   },
   "file_extension": ".py",
   "mimetype": "text/x-python",
   "name": "python",
   "nbconvert_exporter": "python",
   "pygments_lexer": "ipython3",
   "version": "3.10.13"
  },
  "papermill": {
   "default_parameters": {},
   "duration": 2092.06011,
   "end_time": "2024-05-06T15:27:02.653355",
   "environment_variables": {},
   "exception": null,
   "input_path": "__notebook__.ipynb",
   "output_path": "__notebook__.ipynb",
   "parameters": {},
   "start_time": "2024-05-06T14:52:10.593245",
   "version": "2.5.0"
  },
  "widgets": {
   "application/vnd.jupyter.widget-state+json": {
    "state": {
     "0647be37ff144fa2934b49f3a94918c7": {
      "model_module": "@jupyter-widgets/base",
      "model_module_version": "1.2.0",
      "model_name": "LayoutModel",
      "state": {
       "_model_module": "@jupyter-widgets/base",
       "_model_module_version": "1.2.0",
       "_model_name": "LayoutModel",
       "_view_count": null,
       "_view_module": "@jupyter-widgets/base",
       "_view_module_version": "1.2.0",
       "_view_name": "LayoutView",
       "align_content": null,
       "align_items": null,
       "align_self": null,
       "border": null,
       "bottom": null,
       "display": null,
       "flex": null,
       "flex_flow": null,
       "grid_area": null,
       "grid_auto_columns": null,
       "grid_auto_flow": null,
       "grid_auto_rows": null,
       "grid_column": null,
       "grid_gap": null,
       "grid_row": null,
       "grid_template_areas": null,
       "grid_template_columns": null,
       "grid_template_rows": null,
       "height": null,
       "justify_content": null,
       "justify_items": null,
       "left": null,
       "margin": null,
       "max_height": null,
       "max_width": null,
       "min_height": null,
       "min_width": null,
       "object_fit": null,
       "object_position": null,
       "order": null,
       "overflow": null,
       "overflow_x": null,
       "overflow_y": null,
       "padding": null,
       "right": null,
       "top": null,
       "visibility": null,
       "width": null
      }
     },
     "0b073bcb97e247a7b3f2f430d0052785": {
      "model_module": "@jupyter-widgets/base",
      "model_module_version": "1.2.0",
      "model_name": "LayoutModel",
      "state": {
       "_model_module": "@jupyter-widgets/base",
       "_model_module_version": "1.2.0",
       "_model_name": "LayoutModel",
       "_view_count": null,
       "_view_module": "@jupyter-widgets/base",
       "_view_module_version": "1.2.0",
       "_view_name": "LayoutView",
       "align_content": null,
       "align_items": null,
       "align_self": null,
       "border": null,
       "bottom": null,
       "display": null,
       "flex": null,
       "flex_flow": null,
       "grid_area": null,
       "grid_auto_columns": null,
       "grid_auto_flow": null,
       "grid_auto_rows": null,
       "grid_column": null,
       "grid_gap": null,
       "grid_row": null,
       "grid_template_areas": null,
       "grid_template_columns": null,
       "grid_template_rows": null,
       "height": null,
       "justify_content": null,
       "justify_items": null,
       "left": null,
       "margin": null,
       "max_height": null,
       "max_width": null,
       "min_height": null,
       "min_width": null,
       "object_fit": null,
       "object_position": null,
       "order": null,
       "overflow": null,
       "overflow_x": null,
       "overflow_y": null,
       "padding": null,
       "right": null,
       "top": null,
       "visibility": null,
       "width": null
      }
     },
     "0d2c2f356a3a47fea01b4386ac086056": {
      "model_module": "@jupyter-widgets/controls",
      "model_module_version": "1.5.0",
      "model_name": "ProgressStyleModel",
      "state": {
       "_model_module": "@jupyter-widgets/controls",
       "_model_module_version": "1.5.0",
       "_model_name": "ProgressStyleModel",
       "_view_count": null,
       "_view_module": "@jupyter-widgets/base",
       "_view_module_version": "1.2.0",
       "_view_name": "StyleView",
       "bar_color": null,
       "description_width": ""
      }
     },
     "0d965b2797c84725a45ee23cd5ea6847": {
      "model_module": "@jupyter-widgets/controls",
      "model_module_version": "1.5.0",
      "model_name": "DescriptionStyleModel",
      "state": {
       "_model_module": "@jupyter-widgets/controls",
       "_model_module_version": "1.5.0",
       "_model_name": "DescriptionStyleModel",
       "_view_count": null,
       "_view_module": "@jupyter-widgets/base",
       "_view_module_version": "1.2.0",
       "_view_name": "StyleView",
       "description_width": ""
      }
     },
     "128a927905ea4e75808b008536187264": {
      "model_module": "@jupyter-widgets/controls",
      "model_module_version": "1.5.0",
      "model_name": "DescriptionStyleModel",
      "state": {
       "_model_module": "@jupyter-widgets/controls",
       "_model_module_version": "1.5.0",
       "_model_name": "DescriptionStyleModel",
       "_view_count": null,
       "_view_module": "@jupyter-widgets/base",
       "_view_module_version": "1.2.0",
       "_view_name": "StyleView",
       "description_width": ""
      }
     },
     "161d3c63c4254deca04680f86797332f": {
      "model_module": "@jupyter-widgets/base",
      "model_module_version": "1.2.0",
      "model_name": "LayoutModel",
      "state": {
       "_model_module": "@jupyter-widgets/base",
       "_model_module_version": "1.2.0",
       "_model_name": "LayoutModel",
       "_view_count": null,
       "_view_module": "@jupyter-widgets/base",
       "_view_module_version": "1.2.0",
       "_view_name": "LayoutView",
       "align_content": null,
       "align_items": null,
       "align_self": null,
       "border": null,
       "bottom": null,
       "display": null,
       "flex": null,
       "flex_flow": null,
       "grid_area": null,
       "grid_auto_columns": null,
       "grid_auto_flow": null,
       "grid_auto_rows": null,
       "grid_column": null,
       "grid_gap": null,
       "grid_row": null,
       "grid_template_areas": null,
       "grid_template_columns": null,
       "grid_template_rows": null,
       "height": null,
       "justify_content": null,
       "justify_items": null,
       "left": null,
       "margin": null,
       "max_height": null,
       "max_width": null,
       "min_height": null,
       "min_width": null,
       "object_fit": null,
       "object_position": null,
       "order": null,
       "overflow": null,
       "overflow_x": null,
       "overflow_y": null,
       "padding": null,
       "right": null,
       "top": null,
       "visibility": null,
       "width": null
      }
     },
     "16459c2fb16d4029b9063369a5c36577": {
      "model_module": "@jupyter-widgets/controls",
      "model_module_version": "1.5.0",
      "model_name": "HTMLModel",
      "state": {
       "_dom_classes": [],
       "_model_module": "@jupyter-widgets/controls",
       "_model_module_version": "1.5.0",
       "_model_name": "HTMLModel",
       "_view_count": null,
       "_view_module": "@jupyter-widgets/controls",
       "_view_module_version": "1.5.0",
       "_view_name": "HTMLView",
       "description": "",
       "description_tooltip": null,
       "layout": "IPY_MODEL_92e2b01abf704929abce36e958590a3e",
       "placeholder": "​",
       "style": "IPY_MODEL_0d965b2797c84725a45ee23cd5ea6847",
       "value": " 232k/232k [00:00&lt;00:00, 3.64MB/s]"
      }
     },
     "1665384a49cb45b187835c759707f702": {
      "model_module": "@jupyter-widgets/base",
      "model_module_version": "1.2.0",
      "model_name": "LayoutModel",
      "state": {
       "_model_module": "@jupyter-widgets/base",
       "_model_module_version": "1.2.0",
       "_model_name": "LayoutModel",
       "_view_count": null,
       "_view_module": "@jupyter-widgets/base",
       "_view_module_version": "1.2.0",
       "_view_name": "LayoutView",
       "align_content": null,
       "align_items": null,
       "align_self": null,
       "border": null,
       "bottom": null,
       "display": null,
       "flex": null,
       "flex_flow": null,
       "grid_area": null,
       "grid_auto_columns": null,
       "grid_auto_flow": null,
       "grid_auto_rows": null,
       "grid_column": null,
       "grid_gap": null,
       "grid_row": null,
       "grid_template_areas": null,
       "grid_template_columns": null,
       "grid_template_rows": null,
       "height": null,
       "justify_content": null,
       "justify_items": null,
       "left": null,
       "margin": null,
       "max_height": null,
       "max_width": null,
       "min_height": null,
       "min_width": null,
       "object_fit": null,
       "object_position": null,
       "order": null,
       "overflow": null,
       "overflow_x": null,
       "overflow_y": null,
       "padding": null,
       "right": null,
       "top": null,
       "visibility": null,
       "width": null
      }
     },
     "19b9ce2968e74f6d8888fc1b0059c4df": {
      "model_module": "@jupyter-widgets/controls",
      "model_module_version": "1.5.0",
      "model_name": "HTMLModel",
      "state": {
       "_dom_classes": [],
       "_model_module": "@jupyter-widgets/controls",
       "_model_module_version": "1.5.0",
       "_model_name": "HTMLModel",
       "_view_count": null,
       "_view_module": "@jupyter-widgets/controls",
       "_view_module_version": "1.5.0",
       "_view_name": "HTMLView",
       "description": "",
       "description_tooltip": null,
       "layout": "IPY_MODEL_53ac34b4e80a4bda93e4e4f1ca5821e0",
       "placeholder": "​",
       "style": "IPY_MODEL_9eef452bba6c40bd85a0fc87c825b655",
       "value": "tokenizer_config.json: 100%"
      }
     },
     "1a5c595c232941089b990d6dcfac8038": {
      "model_module": "@jupyter-widgets/controls",
      "model_module_version": "1.5.0",
      "model_name": "HBoxModel",
      "state": {
       "_dom_classes": [],
       "_model_module": "@jupyter-widgets/controls",
       "_model_module_version": "1.5.0",
       "_model_name": "HBoxModel",
       "_view_count": null,
       "_view_module": "@jupyter-widgets/controls",
       "_view_module_version": "1.5.0",
       "_view_name": "HBoxView",
       "box_style": "",
       "children": [
        "IPY_MODEL_19b9ce2968e74f6d8888fc1b0059c4df",
        "IPY_MODEL_6c5417b12b9d4bc0b2cc80c4f02db9dd",
        "IPY_MODEL_53b4111b7f434a6cb8db806a6666b648"
       ],
       "layout": "IPY_MODEL_0647be37ff144fa2934b49f3a94918c7"
      }
     },
     "242b7d8598df48518b6c175a6ba87cec": {
      "model_module": "@jupyter-widgets/base",
      "model_module_version": "1.2.0",
      "model_name": "LayoutModel",
      "state": {
       "_model_module": "@jupyter-widgets/base",
       "_model_module_version": "1.2.0",
       "_model_name": "LayoutModel",
       "_view_count": null,
       "_view_module": "@jupyter-widgets/base",
       "_view_module_version": "1.2.0",
       "_view_name": "LayoutView",
       "align_content": null,
       "align_items": null,
       "align_self": null,
       "border": null,
       "bottom": null,
       "display": null,
       "flex": null,
       "flex_flow": null,
       "grid_area": null,
       "grid_auto_columns": null,
       "grid_auto_flow": null,
       "grid_auto_rows": null,
       "grid_column": null,
       "grid_gap": null,
       "grid_row": null,
       "grid_template_areas": null,
       "grid_template_columns": null,
       "grid_template_rows": null,
       "height": null,
       "justify_content": null,
       "justify_items": null,
       "left": null,
       "margin": null,
       "max_height": null,
       "max_width": null,
       "min_height": null,
       "min_width": null,
       "object_fit": null,
       "object_position": null,
       "order": null,
       "overflow": null,
       "overflow_x": null,
       "overflow_y": null,
       "padding": null,
       "right": null,
       "top": null,
       "visibility": null,
       "width": null
      }
     },
     "2547f5e3cc924f459ce0ec236d461730": {
      "model_module": "@jupyter-widgets/controls",
      "model_module_version": "1.5.0",
      "model_name": "HTMLModel",
      "state": {
       "_dom_classes": [],
       "_model_module": "@jupyter-widgets/controls",
       "_model_module_version": "1.5.0",
       "_model_name": "HTMLModel",
       "_view_count": null,
       "_view_module": "@jupyter-widgets/controls",
       "_view_module_version": "1.5.0",
       "_view_name": "HTMLView",
       "description": "",
       "description_tooltip": null,
       "layout": "IPY_MODEL_f8ee16282c8b42f1a4ecb2ffc74caed8",
       "placeholder": "​",
       "style": "IPY_MODEL_279f7362edf143a08816619b8402322e",
       "value": "model.safetensors: 100%"
      }
     },
     "279f7362edf143a08816619b8402322e": {
      "model_module": "@jupyter-widgets/controls",
      "model_module_version": "1.5.0",
      "model_name": "DescriptionStyleModel",
      "state": {
       "_model_module": "@jupyter-widgets/controls",
       "_model_module_version": "1.5.0",
       "_model_name": "DescriptionStyleModel",
       "_view_count": null,
       "_view_module": "@jupyter-widgets/base",
       "_view_module_version": "1.2.0",
       "_view_name": "StyleView",
       "description_width": ""
      }
     },
     "28b94b75107b418ea8c6c8e49ab67592": {
      "model_module": "@jupyter-widgets/base",
      "model_module_version": "1.2.0",
      "model_name": "LayoutModel",
      "state": {
       "_model_module": "@jupyter-widgets/base",
       "_model_module_version": "1.2.0",
       "_model_name": "LayoutModel",
       "_view_count": null,
       "_view_module": "@jupyter-widgets/base",
       "_view_module_version": "1.2.0",
       "_view_name": "LayoutView",
       "align_content": null,
       "align_items": null,
       "align_self": null,
       "border": null,
       "bottom": null,
       "display": null,
       "flex": null,
       "flex_flow": null,
       "grid_area": null,
       "grid_auto_columns": null,
       "grid_auto_flow": null,
       "grid_auto_rows": null,
       "grid_column": null,
       "grid_gap": null,
       "grid_row": null,
       "grid_template_areas": null,
       "grid_template_columns": null,
       "grid_template_rows": null,
       "height": null,
       "justify_content": null,
       "justify_items": null,
       "left": null,
       "margin": null,
       "max_height": null,
       "max_width": null,
       "min_height": null,
       "min_width": null,
       "object_fit": null,
       "object_position": null,
       "order": null,
       "overflow": null,
       "overflow_x": null,
       "overflow_y": null,
       "padding": null,
       "right": null,
       "top": null,
       "visibility": null,
       "width": null
      }
     },
     "2a54927c5fb646fbb43a8c1bc4467819": {
      "model_module": "@jupyter-widgets/controls",
      "model_module_version": "1.5.0",
      "model_name": "ProgressStyleModel",
      "state": {
       "_model_module": "@jupyter-widgets/controls",
       "_model_module_version": "1.5.0",
       "_model_name": "ProgressStyleModel",
       "_view_count": null,
       "_view_module": "@jupyter-widgets/base",
       "_view_module_version": "1.2.0",
       "_view_name": "StyleView",
       "bar_color": null,
       "description_width": ""
      }
     },
     "2e8862242ef9419ca70f22f1fd7000c5": {
      "model_module": "@jupyter-widgets/base",
      "model_module_version": "1.2.0",
      "model_name": "LayoutModel",
      "state": {
       "_model_module": "@jupyter-widgets/base",
       "_model_module_version": "1.2.0",
       "_model_name": "LayoutModel",
       "_view_count": null,
       "_view_module": "@jupyter-widgets/base",
       "_view_module_version": "1.2.0",
       "_view_name": "LayoutView",
       "align_content": null,
       "align_items": null,
       "align_self": null,
       "border": null,
       "bottom": null,
       "display": null,
       "flex": null,
       "flex_flow": null,
       "grid_area": null,
       "grid_auto_columns": null,
       "grid_auto_flow": null,
       "grid_auto_rows": null,
       "grid_column": null,
       "grid_gap": null,
       "grid_row": null,
       "grid_template_areas": null,
       "grid_template_columns": null,
       "grid_template_rows": null,
       "height": null,
       "justify_content": null,
       "justify_items": null,
       "left": null,
       "margin": null,
       "max_height": null,
       "max_width": null,
       "min_height": null,
       "min_width": null,
       "object_fit": null,
       "object_position": null,
       "order": null,
       "overflow": null,
       "overflow_x": null,
       "overflow_y": null,
       "padding": null,
       "right": null,
       "top": null,
       "visibility": null,
       "width": null
      }
     },
     "3345f74ae8c74e0aabe31d71dfff6e41": {
      "model_module": "@jupyter-widgets/controls",
      "model_module_version": "1.5.0",
      "model_name": "HTMLModel",
      "state": {
       "_dom_classes": [],
       "_model_module": "@jupyter-widgets/controls",
       "_model_module_version": "1.5.0",
       "_model_name": "HTMLModel",
       "_view_count": null,
       "_view_module": "@jupyter-widgets/controls",
       "_view_module_version": "1.5.0",
       "_view_name": "HTMLView",
       "description": "",
       "description_tooltip": null,
       "layout": "IPY_MODEL_2e8862242ef9419ca70f22f1fd7000c5",
       "placeholder": "​",
       "style": "IPY_MODEL_fe42277009af4c6f90c765ebecc24390",
       "value": " 466k/466k [00:00&lt;00:00, 8.10MB/s]"
      }
     },
     "364896320b1946728ef01a288a6a8f83": {
      "model_module": "@jupyter-widgets/controls",
      "model_module_version": "1.5.0",
      "model_name": "HTMLModel",
      "state": {
       "_dom_classes": [],
       "_model_module": "@jupyter-widgets/controls",
       "_model_module_version": "1.5.0",
       "_model_name": "HTMLModel",
       "_view_count": null,
       "_view_module": "@jupyter-widgets/controls",
       "_view_module_version": "1.5.0",
       "_view_name": "HTMLView",
       "description": "",
       "description_tooltip": null,
       "layout": "IPY_MODEL_9c0cdf05e5d74c54b2fb1e02ac4ddee2",
       "placeholder": "​",
       "style": "IPY_MODEL_128a927905ea4e75808b008536187264",
       "value": "special_tokens_map.json: 100%"
      }
     },
     "36fe4b9960d44bfe92110792a8173aa5": {
      "model_module": "@jupyter-widgets/controls",
      "model_module_version": "1.5.0",
      "model_name": "ProgressStyleModel",
      "state": {
       "_model_module": "@jupyter-widgets/controls",
       "_model_module_version": "1.5.0",
       "_model_name": "ProgressStyleModel",
       "_view_count": null,
       "_view_module": "@jupyter-widgets/base",
       "_view_module_version": "1.2.0",
       "_view_name": "StyleView",
       "bar_color": null,
       "description_width": ""
      }
     },
     "371ce67119d9457bac791c31a01a3532": {
      "model_module": "@jupyter-widgets/base",
      "model_module_version": "1.2.0",
      "model_name": "LayoutModel",
      "state": {
       "_model_module": "@jupyter-widgets/base",
       "_model_module_version": "1.2.0",
       "_model_name": "LayoutModel",
       "_view_count": null,
       "_view_module": "@jupyter-widgets/base",
       "_view_module_version": "1.2.0",
       "_view_name": "LayoutView",
       "align_content": null,
       "align_items": null,
       "align_self": null,
       "border": null,
       "bottom": null,
       "display": null,
       "flex": null,
       "flex_flow": null,
       "grid_area": null,
       "grid_auto_columns": null,
       "grid_auto_flow": null,
       "grid_auto_rows": null,
       "grid_column": null,
       "grid_gap": null,
       "grid_row": null,
       "grid_template_areas": null,
       "grid_template_columns": null,
       "grid_template_rows": null,
       "height": null,
       "justify_content": null,
       "justify_items": null,
       "left": null,
       "margin": null,
       "max_height": null,
       "max_width": null,
       "min_height": null,
       "min_width": null,
       "object_fit": null,
       "object_position": null,
       "order": null,
       "overflow": null,
       "overflow_x": null,
       "overflow_y": null,
       "padding": null,
       "right": null,
       "top": null,
       "visibility": null,
       "width": null
      }
     },
     "37e54fce4adc401ea386c4f2e7c5f8dd": {
      "model_module": "@jupyter-widgets/controls",
      "model_module_version": "1.5.0",
      "model_name": "FloatProgressModel",
      "state": {
       "_dom_classes": [],
       "_model_module": "@jupyter-widgets/controls",
       "_model_module_version": "1.5.0",
       "_model_name": "FloatProgressModel",
       "_view_count": null,
       "_view_module": "@jupyter-widgets/controls",
       "_view_module_version": "1.5.0",
       "_view_name": "ProgressView",
       "bar_style": "success",
       "description": "",
       "description_tooltip": null,
       "layout": "IPY_MODEL_9a1b98b8ef4441c08d015ab0de66ef50",
       "max": 466247.0,
       "min": 0.0,
       "orientation": "horizontal",
       "style": "IPY_MODEL_2a54927c5fb646fbb43a8c1bc4467819",
       "value": 466247.0
      }
     },
     "3a1c69b196ff495eb433923eb014524c": {
      "model_module": "@jupyter-widgets/controls",
      "model_module_version": "1.5.0",
      "model_name": "HTMLModel",
      "state": {
       "_dom_classes": [],
       "_model_module": "@jupyter-widgets/controls",
       "_model_module_version": "1.5.0",
       "_model_name": "HTMLModel",
       "_view_count": null,
       "_view_module": "@jupyter-widgets/controls",
       "_view_module_version": "1.5.0",
       "_view_name": "HTMLView",
       "description": "",
       "description_tooltip": null,
       "layout": "IPY_MODEL_6369dc15277843009705f3dc7413b5b1",
       "placeholder": "​",
       "style": "IPY_MODEL_6af76eccae5a4001b198d78f17db0dcf",
       "value": " 112/112 [00:00&lt;00:00, 10.4kB/s]"
      }
     },
     "3a46529669b64a46b658a39b63e1bf34": {
      "model_module": "@jupyter-widgets/controls",
      "model_module_version": "1.5.0",
      "model_name": "DescriptionStyleModel",
      "state": {
       "_model_module": "@jupyter-widgets/controls",
       "_model_module_version": "1.5.0",
       "_model_name": "DescriptionStyleModel",
       "_view_count": null,
       "_view_module": "@jupyter-widgets/base",
       "_view_module_version": "1.2.0",
       "_view_name": "StyleView",
       "description_width": ""
      }
     },
     "3a8deba4dda941939975b3f57f804ac4": {
      "model_module": "@jupyter-widgets/controls",
      "model_module_version": "1.5.0",
      "model_name": "HBoxModel",
      "state": {
       "_dom_classes": [],
       "_model_module": "@jupyter-widgets/controls",
       "_model_module_version": "1.5.0",
       "_model_name": "HBoxModel",
       "_view_count": null,
       "_view_module": "@jupyter-widgets/controls",
       "_view_module_version": "1.5.0",
       "_view_name": "HBoxView",
       "box_style": "",
       "children": [
        "IPY_MODEL_ec3276553e4f4948a9c14892d5309367",
        "IPY_MODEL_9f386fd5cc9a4f50b7256fad5955fc27",
        "IPY_MODEL_8d43b7b72fbc4e4cb677a472000cb522"
       ],
       "layout": "IPY_MODEL_1665384a49cb45b187835c759707f702"
      }
     },
     "4cc0467de23a47c893fdd766edd01b55": {
      "model_module": "@jupyter-widgets/base",
      "model_module_version": "1.2.0",
      "model_name": "LayoutModel",
      "state": {
       "_model_module": "@jupyter-widgets/base",
       "_model_module_version": "1.2.0",
       "_model_name": "LayoutModel",
       "_view_count": null,
       "_view_module": "@jupyter-widgets/base",
       "_view_module_version": "1.2.0",
       "_view_name": "LayoutView",
       "align_content": null,
       "align_items": null,
       "align_self": null,
       "border": null,
       "bottom": null,
       "display": null,
       "flex": null,
       "flex_flow": null,
       "grid_area": null,
       "grid_auto_columns": null,
       "grid_auto_flow": null,
       "grid_auto_rows": null,
       "grid_column": null,
       "grid_gap": null,
       "grid_row": null,
       "grid_template_areas": null,
       "grid_template_columns": null,
       "grid_template_rows": null,
       "height": null,
       "justify_content": null,
       "justify_items": null,
       "left": null,
       "margin": null,
       "max_height": null,
       "max_width": null,
       "min_height": null,
       "min_width": null,
       "object_fit": null,
       "object_position": null,
       "order": null,
       "overflow": null,
       "overflow_x": null,
       "overflow_y": null,
       "padding": null,
       "right": null,
       "top": null,
       "visibility": null,
       "width": null
      }
     },
     "53ac34b4e80a4bda93e4e4f1ca5821e0": {
      "model_module": "@jupyter-widgets/base",
      "model_module_version": "1.2.0",
      "model_name": "LayoutModel",
      "state": {
       "_model_module": "@jupyter-widgets/base",
       "_model_module_version": "1.2.0",
       "_model_name": "LayoutModel",
       "_view_count": null,
       "_view_module": "@jupyter-widgets/base",
       "_view_module_version": "1.2.0",
       "_view_name": "LayoutView",
       "align_content": null,
       "align_items": null,
       "align_self": null,
       "border": null,
       "bottom": null,
       "display": null,
       "flex": null,
       "flex_flow": null,
       "grid_area": null,
       "grid_auto_columns": null,
       "grid_auto_flow": null,
       "grid_auto_rows": null,
       "grid_column": null,
       "grid_gap": null,
       "grid_row": null,
       "grid_template_areas": null,
       "grid_template_columns": null,
       "grid_template_rows": null,
       "height": null,
       "justify_content": null,
       "justify_items": null,
       "left": null,
       "margin": null,
       "max_height": null,
       "max_width": null,
       "min_height": null,
       "min_width": null,
       "object_fit": null,
       "object_position": null,
       "order": null,
       "overflow": null,
       "overflow_x": null,
       "overflow_y": null,
       "padding": null,
       "right": null,
       "top": null,
       "visibility": null,
       "width": null
      }
     },
     "53b4111b7f434a6cb8db806a6666b648": {
      "model_module": "@jupyter-widgets/controls",
      "model_module_version": "1.5.0",
      "model_name": "HTMLModel",
      "state": {
       "_dom_classes": [],
       "_model_module": "@jupyter-widgets/controls",
       "_model_module_version": "1.5.0",
       "_model_name": "HTMLModel",
       "_view_count": null,
       "_view_module": "@jupyter-widgets/controls",
       "_view_module_version": "1.5.0",
       "_view_name": "HTMLView",
       "description": "",
       "description_tooltip": null,
       "layout": "IPY_MODEL_854649748df94b41ba9fc2df1766a06a",
       "placeholder": "​",
       "style": "IPY_MODEL_3a46529669b64a46b658a39b63e1bf34",
       "value": " 350/350 [00:00&lt;00:00, 30.3kB/s]"
      }
     },
     "57b68712c4004ecab84d5c2a543dac41": {
      "model_module": "@jupyter-widgets/base",
      "model_module_version": "1.2.0",
      "model_name": "LayoutModel",
      "state": {
       "_model_module": "@jupyter-widgets/base",
       "_model_module_version": "1.2.0",
       "_model_name": "LayoutModel",
       "_view_count": null,
       "_view_module": "@jupyter-widgets/base",
       "_view_module_version": "1.2.0",
       "_view_name": "LayoutView",
       "align_content": null,
       "align_items": null,
       "align_self": null,
       "border": null,
       "bottom": null,
       "display": null,
       "flex": null,
       "flex_flow": null,
       "grid_area": null,
       "grid_auto_columns": null,
       "grid_auto_flow": null,
       "grid_auto_rows": null,
       "grid_column": null,
       "grid_gap": null,
       "grid_row": null,
       "grid_template_areas": null,
       "grid_template_columns": null,
       "grid_template_rows": null,
       "height": null,
       "justify_content": null,
       "justify_items": null,
       "left": null,
       "margin": null,
       "max_height": null,
       "max_width": null,
       "min_height": null,
       "min_width": null,
       "object_fit": null,
       "object_position": null,
       "order": null,
       "overflow": null,
       "overflow_x": null,
       "overflow_y": null,
       "padding": null,
       "right": null,
       "top": null,
       "visibility": null,
       "width": null
      }
     },
     "5c0943e8635f497baec17a725f884c21": {
      "model_module": "@jupyter-widgets/controls",
      "model_module_version": "1.5.0",
      "model_name": "FloatProgressModel",
      "state": {
       "_dom_classes": [],
       "_model_module": "@jupyter-widgets/controls",
       "_model_module_version": "1.5.0",
       "_model_name": "FloatProgressModel",
       "_view_count": null,
       "_view_module": "@jupyter-widgets/controls",
       "_view_module_version": "1.5.0",
       "_view_name": "ProgressView",
       "bar_style": "success",
       "description": "",
       "description_tooltip": null,
       "layout": "IPY_MODEL_0b073bcb97e247a7b3f2f430d0052785",
       "max": 90868376.0,
       "min": 0.0,
       "orientation": "horizontal",
       "style": "IPY_MODEL_85a36e8231f34d56960ab29de2aa40aa",
       "value": 90868376.0
      }
     },
     "5e37838bd2bd43a79d73fe44c413ceeb": {
      "model_module": "@jupyter-widgets/controls",
      "model_module_version": "1.5.0",
      "model_name": "DescriptionStyleModel",
      "state": {
       "_model_module": "@jupyter-widgets/controls",
       "_model_module_version": "1.5.0",
       "_model_name": "DescriptionStyleModel",
       "_view_count": null,
       "_view_module": "@jupyter-widgets/base",
       "_view_module_version": "1.2.0",
       "_view_name": "StyleView",
       "description_width": ""
      }
     },
     "5fb4cf033f554b2ea0239d44813ebc0f": {
      "model_module": "@jupyter-widgets/controls",
      "model_module_version": "1.5.0",
      "model_name": "DescriptionStyleModel",
      "state": {
       "_model_module": "@jupyter-widgets/controls",
       "_model_module_version": "1.5.0",
       "_model_name": "DescriptionStyleModel",
       "_view_count": null,
       "_view_module": "@jupyter-widgets/base",
       "_view_module_version": "1.2.0",
       "_view_name": "StyleView",
       "description_width": ""
      }
     },
     "5fedf7cf4ceb443e99d6b1dbe9eeed17": {
      "model_module": "@jupyter-widgets/controls",
      "model_module_version": "1.5.0",
      "model_name": "HBoxModel",
      "state": {
       "_dom_classes": [],
       "_model_module": "@jupyter-widgets/controls",
       "_model_module_version": "1.5.0",
       "_model_name": "HBoxModel",
       "_view_count": null,
       "_view_module": "@jupyter-widgets/controls",
       "_view_module_version": "1.5.0",
       "_view_name": "HBoxView",
       "box_style": "",
       "children": [
        "IPY_MODEL_f215133cefa64620875c7b3eda545551",
        "IPY_MODEL_9bf2cbc056944b02a1020cc27df792fa",
        "IPY_MODEL_16459c2fb16d4029b9063369a5c36577"
       ],
       "layout": "IPY_MODEL_4cc0467de23a47c893fdd766edd01b55"
      }
     },
     "6369dc15277843009705f3dc7413b5b1": {
      "model_module": "@jupyter-widgets/base",
      "model_module_version": "1.2.0",
      "model_name": "LayoutModel",
      "state": {
       "_model_module": "@jupyter-widgets/base",
       "_model_module_version": "1.2.0",
       "_model_name": "LayoutModel",
       "_view_count": null,
       "_view_module": "@jupyter-widgets/base",
       "_view_module_version": "1.2.0",
       "_view_name": "LayoutView",
       "align_content": null,
       "align_items": null,
       "align_self": null,
       "border": null,
       "bottom": null,
       "display": null,
       "flex": null,
       "flex_flow": null,
       "grid_area": null,
       "grid_auto_columns": null,
       "grid_auto_flow": null,
       "grid_auto_rows": null,
       "grid_column": null,
       "grid_gap": null,
       "grid_row": null,
       "grid_template_areas": null,
       "grid_template_columns": null,
       "grid_template_rows": null,
       "height": null,
       "justify_content": null,
       "justify_items": null,
       "left": null,
       "margin": null,
       "max_height": null,
       "max_width": null,
       "min_height": null,
       "min_width": null,
       "object_fit": null,
       "object_position": null,
       "order": null,
       "overflow": null,
       "overflow_x": null,
       "overflow_y": null,
       "padding": null,
       "right": null,
       "top": null,
       "visibility": null,
       "width": null
      }
     },
     "6af76eccae5a4001b198d78f17db0dcf": {
      "model_module": "@jupyter-widgets/controls",
      "model_module_version": "1.5.0",
      "model_name": "DescriptionStyleModel",
      "state": {
       "_model_module": "@jupyter-widgets/controls",
       "_model_module_version": "1.5.0",
       "_model_name": "DescriptionStyleModel",
       "_view_count": null,
       "_view_module": "@jupyter-widgets/base",
       "_view_module_version": "1.2.0",
       "_view_name": "StyleView",
       "description_width": ""
      }
     },
     "6c5417b12b9d4bc0b2cc80c4f02db9dd": {
      "model_module": "@jupyter-widgets/controls",
      "model_module_version": "1.5.0",
      "model_name": "FloatProgressModel",
      "state": {
       "_dom_classes": [],
       "_model_module": "@jupyter-widgets/controls",
       "_model_module_version": "1.5.0",
       "_model_name": "FloatProgressModel",
       "_view_count": null,
       "_view_module": "@jupyter-widgets/controls",
       "_view_module_version": "1.5.0",
       "_view_name": "ProgressView",
       "bar_style": "success",
       "description": "",
       "description_tooltip": null,
       "layout": "IPY_MODEL_28b94b75107b418ea8c6c8e49ab67592",
       "max": 350.0,
       "min": 0.0,
       "orientation": "horizontal",
       "style": "IPY_MODEL_0d2c2f356a3a47fea01b4386ac086056",
       "value": 350.0
      }
     },
     "76c4e426b2564ee99f06fa189742053f": {
      "model_module": "@jupyter-widgets/base",
      "model_module_version": "1.2.0",
      "model_name": "LayoutModel",
      "state": {
       "_model_module": "@jupyter-widgets/base",
       "_model_module_version": "1.2.0",
       "_model_name": "LayoutModel",
       "_view_count": null,
       "_view_module": "@jupyter-widgets/base",
       "_view_module_version": "1.2.0",
       "_view_name": "LayoutView",
       "align_content": null,
       "align_items": null,
       "align_self": null,
       "border": null,
       "bottom": null,
       "display": null,
       "flex": null,
       "flex_flow": null,
       "grid_area": null,
       "grid_auto_columns": null,
       "grid_auto_flow": null,
       "grid_auto_rows": null,
       "grid_column": null,
       "grid_gap": null,
       "grid_row": null,
       "grid_template_areas": null,
       "grid_template_columns": null,
       "grid_template_rows": null,
       "height": null,
       "justify_content": null,
       "justify_items": null,
       "left": null,
       "margin": null,
       "max_height": null,
       "max_width": null,
       "min_height": null,
       "min_width": null,
       "object_fit": null,
       "object_position": null,
       "order": null,
       "overflow": null,
       "overflow_x": null,
       "overflow_y": null,
       "padding": null,
       "right": null,
       "top": null,
       "visibility": null,
       "width": null
      }
     },
     "7f3cfe4d053646ecaae1a9b5740c1c5a": {
      "model_module": "@jupyter-widgets/controls",
      "model_module_version": "1.5.0",
      "model_name": "HTMLModel",
      "state": {
       "_dom_classes": [],
       "_model_module": "@jupyter-widgets/controls",
       "_model_module_version": "1.5.0",
       "_model_name": "HTMLModel",
       "_view_count": null,
       "_view_module": "@jupyter-widgets/controls",
       "_view_module_version": "1.5.0",
       "_view_name": "HTMLView",
       "description": "",
       "description_tooltip": null,
       "layout": "IPY_MODEL_371ce67119d9457bac791c31a01a3532",
       "placeholder": "​",
       "style": "IPY_MODEL_f2265f2d0a6b456497bd149a4d4b84d1",
       "value": "tokenizer.json: 100%"
      }
     },
     "83091cde43714ebe87945f0c6ff09a70": {
      "model_module": "@jupyter-widgets/base",
      "model_module_version": "1.2.0",
      "model_name": "LayoutModel",
      "state": {
       "_model_module": "@jupyter-widgets/base",
       "_model_module_version": "1.2.0",
       "_model_name": "LayoutModel",
       "_view_count": null,
       "_view_module": "@jupyter-widgets/base",
       "_view_module_version": "1.2.0",
       "_view_name": "LayoutView",
       "align_content": null,
       "align_items": null,
       "align_self": null,
       "border": null,
       "bottom": null,
       "display": null,
       "flex": null,
       "flex_flow": null,
       "grid_area": null,
       "grid_auto_columns": null,
       "grid_auto_flow": null,
       "grid_auto_rows": null,
       "grid_column": null,
       "grid_gap": null,
       "grid_row": null,
       "grid_template_areas": null,
       "grid_template_columns": null,
       "grid_template_rows": null,
       "height": null,
       "justify_content": null,
       "justify_items": null,
       "left": null,
       "margin": null,
       "max_height": null,
       "max_width": null,
       "min_height": null,
       "min_width": null,
       "object_fit": null,
       "object_position": null,
       "order": null,
       "overflow": null,
       "overflow_x": null,
       "overflow_y": null,
       "padding": null,
       "right": null,
       "top": null,
       "visibility": null,
       "width": null
      }
     },
     "854649748df94b41ba9fc2df1766a06a": {
      "model_module": "@jupyter-widgets/base",
      "model_module_version": "1.2.0",
      "model_name": "LayoutModel",
      "state": {
       "_model_module": "@jupyter-widgets/base",
       "_model_module_version": "1.2.0",
       "_model_name": "LayoutModel",
       "_view_count": null,
       "_view_module": "@jupyter-widgets/base",
       "_view_module_version": "1.2.0",
       "_view_name": "LayoutView",
       "align_content": null,
       "align_items": null,
       "align_self": null,
       "border": null,
       "bottom": null,
       "display": null,
       "flex": null,
       "flex_flow": null,
       "grid_area": null,
       "grid_auto_columns": null,
       "grid_auto_flow": null,
       "grid_auto_rows": null,
       "grid_column": null,
       "grid_gap": null,
       "grid_row": null,
       "grid_template_areas": null,
       "grid_template_columns": null,
       "grid_template_rows": null,
       "height": null,
       "justify_content": null,
       "justify_items": null,
       "left": null,
       "margin": null,
       "max_height": null,
       "max_width": null,
       "min_height": null,
       "min_width": null,
       "object_fit": null,
       "object_position": null,
       "order": null,
       "overflow": null,
       "overflow_x": null,
       "overflow_y": null,
       "padding": null,
       "right": null,
       "top": null,
       "visibility": null,
       "width": null
      }
     },
     "857bca56f788487e84ef99da36d89afd": {
      "model_module": "@jupyter-widgets/controls",
      "model_module_version": "1.5.0",
      "model_name": "ProgressStyleModel",
      "state": {
       "_model_module": "@jupyter-widgets/controls",
       "_model_module_version": "1.5.0",
       "_model_name": "ProgressStyleModel",
       "_view_count": null,
       "_view_module": "@jupyter-widgets/base",
       "_view_module_version": "1.2.0",
       "_view_name": "StyleView",
       "bar_color": null,
       "description_width": ""
      }
     },
     "85a36e8231f34d56960ab29de2aa40aa": {
      "model_module": "@jupyter-widgets/controls",
      "model_module_version": "1.5.0",
      "model_name": "ProgressStyleModel",
      "state": {
       "_model_module": "@jupyter-widgets/controls",
       "_model_module_version": "1.5.0",
       "_model_name": "ProgressStyleModel",
       "_view_count": null,
       "_view_module": "@jupyter-widgets/base",
       "_view_module_version": "1.2.0",
       "_view_name": "StyleView",
       "bar_color": null,
       "description_width": ""
      }
     },
     "8659e71eeb9f4f7aa4e07cde7ecbbc2e": {
      "model_module": "@jupyter-widgets/controls",
      "model_module_version": "1.5.0",
      "model_name": "ProgressStyleModel",
      "state": {
       "_model_module": "@jupyter-widgets/controls",
       "_model_module_version": "1.5.0",
       "_model_name": "ProgressStyleModel",
       "_view_count": null,
       "_view_module": "@jupyter-widgets/base",
       "_view_module_version": "1.2.0",
       "_view_name": "StyleView",
       "bar_color": null,
       "description_width": ""
      }
     },
     "8888fef1ae88431fbdd08e9c1c2ade42": {
      "model_module": "@jupyter-widgets/controls",
      "model_module_version": "1.5.0",
      "model_name": "HBoxModel",
      "state": {
       "_dom_classes": [],
       "_model_module": "@jupyter-widgets/controls",
       "_model_module_version": "1.5.0",
       "_model_name": "HBoxModel",
       "_view_count": null,
       "_view_module": "@jupyter-widgets/controls",
       "_view_module_version": "1.5.0",
       "_view_name": "HBoxView",
       "box_style": "",
       "children": [
        "IPY_MODEL_7f3cfe4d053646ecaae1a9b5740c1c5a",
        "IPY_MODEL_37e54fce4adc401ea386c4f2e7c5f8dd",
        "IPY_MODEL_3345f74ae8c74e0aabe31d71dfff6e41"
       ],
       "layout": "IPY_MODEL_161d3c63c4254deca04680f86797332f"
      }
     },
     "8d43b7b72fbc4e4cb677a472000cb522": {
      "model_module": "@jupyter-widgets/controls",
      "model_module_version": "1.5.0",
      "model_name": "HTMLModel",
      "state": {
       "_dom_classes": [],
       "_model_module": "@jupyter-widgets/controls",
       "_model_module_version": "1.5.0",
       "_model_name": "HTMLModel",
       "_view_count": null,
       "_view_module": "@jupyter-widgets/controls",
       "_view_module_version": "1.5.0",
       "_view_name": "HTMLView",
       "description": "",
       "description_tooltip": null,
       "layout": "IPY_MODEL_76c4e426b2564ee99f06fa189742053f",
       "placeholder": "​",
       "style": "IPY_MODEL_5fb4cf033f554b2ea0239d44813ebc0f",
       "value": " 612/612 [00:00&lt;00:00, 54.7kB/s]"
      }
     },
     "92e2b01abf704929abce36e958590a3e": {
      "model_module": "@jupyter-widgets/base",
      "model_module_version": "1.2.0",
      "model_name": "LayoutModel",
      "state": {
       "_model_module": "@jupyter-widgets/base",
       "_model_module_version": "1.2.0",
       "_model_name": "LayoutModel",
       "_view_count": null,
       "_view_module": "@jupyter-widgets/base",
       "_view_module_version": "1.2.0",
       "_view_name": "LayoutView",
       "align_content": null,
       "align_items": null,
       "align_self": null,
       "border": null,
       "bottom": null,
       "display": null,
       "flex": null,
       "flex_flow": null,
       "grid_area": null,
       "grid_auto_columns": null,
       "grid_auto_flow": null,
       "grid_auto_rows": null,
       "grid_column": null,
       "grid_gap": null,
       "grid_row": null,
       "grid_template_areas": null,
       "grid_template_columns": null,
       "grid_template_rows": null,
       "height": null,
       "justify_content": null,
       "justify_items": null,
       "left": null,
       "margin": null,
       "max_height": null,
       "max_width": null,
       "min_height": null,
       "min_width": null,
       "object_fit": null,
       "object_position": null,
       "order": null,
       "overflow": null,
       "overflow_x": null,
       "overflow_y": null,
       "padding": null,
       "right": null,
       "top": null,
       "visibility": null,
       "width": null
      }
     },
     "9a1b98b8ef4441c08d015ab0de66ef50": {
      "model_module": "@jupyter-widgets/base",
      "model_module_version": "1.2.0",
      "model_name": "LayoutModel",
      "state": {
       "_model_module": "@jupyter-widgets/base",
       "_model_module_version": "1.2.0",
       "_model_name": "LayoutModel",
       "_view_count": null,
       "_view_module": "@jupyter-widgets/base",
       "_view_module_version": "1.2.0",
       "_view_name": "LayoutView",
       "align_content": null,
       "align_items": null,
       "align_self": null,
       "border": null,
       "bottom": null,
       "display": null,
       "flex": null,
       "flex_flow": null,
       "grid_area": null,
       "grid_auto_columns": null,
       "grid_auto_flow": null,
       "grid_auto_rows": null,
       "grid_column": null,
       "grid_gap": null,
       "grid_row": null,
       "grid_template_areas": null,
       "grid_template_columns": null,
       "grid_template_rows": null,
       "height": null,
       "justify_content": null,
       "justify_items": null,
       "left": null,
       "margin": null,
       "max_height": null,
       "max_width": null,
       "min_height": null,
       "min_width": null,
       "object_fit": null,
       "object_position": null,
       "order": null,
       "overflow": null,
       "overflow_x": null,
       "overflow_y": null,
       "padding": null,
       "right": null,
       "top": null,
       "visibility": null,
       "width": null
      }
     },
     "9bf2cbc056944b02a1020cc27df792fa": {
      "model_module": "@jupyter-widgets/controls",
      "model_module_version": "1.5.0",
      "model_name": "FloatProgressModel",
      "state": {
       "_dom_classes": [],
       "_model_module": "@jupyter-widgets/controls",
       "_model_module_version": "1.5.0",
       "_model_name": "FloatProgressModel",
       "_view_count": null,
       "_view_module": "@jupyter-widgets/controls",
       "_view_module_version": "1.5.0",
       "_view_name": "ProgressView",
       "bar_style": "success",
       "description": "",
       "description_tooltip": null,
       "layout": "IPY_MODEL_c4b7985409234313b718480cc98e4143",
       "max": 231508.0,
       "min": 0.0,
       "orientation": "horizontal",
       "style": "IPY_MODEL_36fe4b9960d44bfe92110792a8173aa5",
       "value": 231508.0
      }
     },
     "9c0cdf05e5d74c54b2fb1e02ac4ddee2": {
      "model_module": "@jupyter-widgets/base",
      "model_module_version": "1.2.0",
      "model_name": "LayoutModel",
      "state": {
       "_model_module": "@jupyter-widgets/base",
       "_model_module_version": "1.2.0",
       "_model_name": "LayoutModel",
       "_view_count": null,
       "_view_module": "@jupyter-widgets/base",
       "_view_module_version": "1.2.0",
       "_view_name": "LayoutView",
       "align_content": null,
       "align_items": null,
       "align_self": null,
       "border": null,
       "bottom": null,
       "display": null,
       "flex": null,
       "flex_flow": null,
       "grid_area": null,
       "grid_auto_columns": null,
       "grid_auto_flow": null,
       "grid_auto_rows": null,
       "grid_column": null,
       "grid_gap": null,
       "grid_row": null,
       "grid_template_areas": null,
       "grid_template_columns": null,
       "grid_template_rows": null,
       "height": null,
       "justify_content": null,
       "justify_items": null,
       "left": null,
       "margin": null,
       "max_height": null,
       "max_width": null,
       "min_height": null,
       "min_width": null,
       "object_fit": null,
       "object_position": null,
       "order": null,
       "overflow": null,
       "overflow_x": null,
       "overflow_y": null,
       "padding": null,
       "right": null,
       "top": null,
       "visibility": null,
       "width": null
      }
     },
     "9eef452bba6c40bd85a0fc87c825b655": {
      "model_module": "@jupyter-widgets/controls",
      "model_module_version": "1.5.0",
      "model_name": "DescriptionStyleModel",
      "state": {
       "_model_module": "@jupyter-widgets/controls",
       "_model_module_version": "1.5.0",
       "_model_name": "DescriptionStyleModel",
       "_view_count": null,
       "_view_module": "@jupyter-widgets/base",
       "_view_module_version": "1.2.0",
       "_view_name": "StyleView",
       "description_width": ""
      }
     },
     "9f386fd5cc9a4f50b7256fad5955fc27": {
      "model_module": "@jupyter-widgets/controls",
      "model_module_version": "1.5.0",
      "model_name": "FloatProgressModel",
      "state": {
       "_dom_classes": [],
       "_model_module": "@jupyter-widgets/controls",
       "_model_module_version": "1.5.0",
       "_model_name": "FloatProgressModel",
       "_view_count": null,
       "_view_module": "@jupyter-widgets/controls",
       "_view_module_version": "1.5.0",
       "_view_name": "ProgressView",
       "bar_style": "success",
       "description": "",
       "description_tooltip": null,
       "layout": "IPY_MODEL_57b68712c4004ecab84d5c2a543dac41",
       "max": 612.0,
       "min": 0.0,
       "orientation": "horizontal",
       "style": "IPY_MODEL_857bca56f788487e84ef99da36d89afd",
       "value": 612.0
      }
     },
     "a5bf47cb586f44d7bc7febb2fd876ff8": {
      "model_module": "@jupyter-widgets/base",
      "model_module_version": "1.2.0",
      "model_name": "LayoutModel",
      "state": {
       "_model_module": "@jupyter-widgets/base",
       "_model_module_version": "1.2.0",
       "_model_name": "LayoutModel",
       "_view_count": null,
       "_view_module": "@jupyter-widgets/base",
       "_view_module_version": "1.2.0",
       "_view_name": "LayoutView",
       "align_content": null,
       "align_items": null,
       "align_self": null,
       "border": null,
       "bottom": null,
       "display": null,
       "flex": null,
       "flex_flow": null,
       "grid_area": null,
       "grid_auto_columns": null,
       "grid_auto_flow": null,
       "grid_auto_rows": null,
       "grid_column": null,
       "grid_gap": null,
       "grid_row": null,
       "grid_template_areas": null,
       "grid_template_columns": null,
       "grid_template_rows": null,
       "height": null,
       "justify_content": null,
       "justify_items": null,
       "left": null,
       "margin": null,
       "max_height": null,
       "max_width": null,
       "min_height": null,
       "min_width": null,
       "object_fit": null,
       "object_position": null,
       "order": null,
       "overflow": null,
       "overflow_x": null,
       "overflow_y": null,
       "padding": null,
       "right": null,
       "top": null,
       "visibility": null,
       "width": null
      }
     },
     "b0a61b1017a6420999148c3264fb0523": {
      "model_module": "@jupyter-widgets/base",
      "model_module_version": "1.2.0",
      "model_name": "LayoutModel",
      "state": {
       "_model_module": "@jupyter-widgets/base",
       "_model_module_version": "1.2.0",
       "_model_name": "LayoutModel",
       "_view_count": null,
       "_view_module": "@jupyter-widgets/base",
       "_view_module_version": "1.2.0",
       "_view_name": "LayoutView",
       "align_content": null,
       "align_items": null,
       "align_self": null,
       "border": null,
       "bottom": null,
       "display": null,
       "flex": null,
       "flex_flow": null,
       "grid_area": null,
       "grid_auto_columns": null,
       "grid_auto_flow": null,
       "grid_auto_rows": null,
       "grid_column": null,
       "grid_gap": null,
       "grid_row": null,
       "grid_template_areas": null,
       "grid_template_columns": null,
       "grid_template_rows": null,
       "height": null,
       "justify_content": null,
       "justify_items": null,
       "left": null,
       "margin": null,
       "max_height": null,
       "max_width": null,
       "min_height": null,
       "min_width": null,
       "object_fit": null,
       "object_position": null,
       "order": null,
       "overflow": null,
       "overflow_x": null,
       "overflow_y": null,
       "padding": null,
       "right": null,
       "top": null,
       "visibility": null,
       "width": null
      }
     },
     "bcceb47c7c194555a907c91e55b1e447": {
      "model_module": "@jupyter-widgets/controls",
      "model_module_version": "1.5.0",
      "model_name": "DescriptionStyleModel",
      "state": {
       "_model_module": "@jupyter-widgets/controls",
       "_model_module_version": "1.5.0",
       "_model_name": "DescriptionStyleModel",
       "_view_count": null,
       "_view_module": "@jupyter-widgets/base",
       "_view_module_version": "1.2.0",
       "_view_name": "StyleView",
       "description_width": ""
      }
     },
     "be1b1c185ed04baf99db9c172713b465": {
      "model_module": "@jupyter-widgets/controls",
      "model_module_version": "1.5.0",
      "model_name": "FloatProgressModel",
      "state": {
       "_dom_classes": [],
       "_model_module": "@jupyter-widgets/controls",
       "_model_module_version": "1.5.0",
       "_model_name": "FloatProgressModel",
       "_view_count": null,
       "_view_module": "@jupyter-widgets/controls",
       "_view_module_version": "1.5.0",
       "_view_name": "ProgressView",
       "bar_style": "success",
       "description": "",
       "description_tooltip": null,
       "layout": "IPY_MODEL_d291c5c0623e47f6b6a8a2208f046914",
       "max": 112.0,
       "min": 0.0,
       "orientation": "horizontal",
       "style": "IPY_MODEL_8659e71eeb9f4f7aa4e07cde7ecbbc2e",
       "value": 112.0
      }
     },
     "c4b7985409234313b718480cc98e4143": {
      "model_module": "@jupyter-widgets/base",
      "model_module_version": "1.2.0",
      "model_name": "LayoutModel",
      "state": {
       "_model_module": "@jupyter-widgets/base",
       "_model_module_version": "1.2.0",
       "_model_name": "LayoutModel",
       "_view_count": null,
       "_view_module": "@jupyter-widgets/base",
       "_view_module_version": "1.2.0",
       "_view_name": "LayoutView",
       "align_content": null,
       "align_items": null,
       "align_self": null,
       "border": null,
       "bottom": null,
       "display": null,
       "flex": null,
       "flex_flow": null,
       "grid_area": null,
       "grid_auto_columns": null,
       "grid_auto_flow": null,
       "grid_auto_rows": null,
       "grid_column": null,
       "grid_gap": null,
       "grid_row": null,
       "grid_template_areas": null,
       "grid_template_columns": null,
       "grid_template_rows": null,
       "height": null,
       "justify_content": null,
       "justify_items": null,
       "left": null,
       "margin": null,
       "max_height": null,
       "max_width": null,
       "min_height": null,
       "min_width": null,
       "object_fit": null,
       "object_position": null,
       "order": null,
       "overflow": null,
       "overflow_x": null,
       "overflow_y": null,
       "padding": null,
       "right": null,
       "top": null,
       "visibility": null,
       "width": null
      }
     },
     "ccc4d743c1b64ca7b19b04924eaed274": {
      "model_module": "@jupyter-widgets/controls",
      "model_module_version": "1.5.0",
      "model_name": "HBoxModel",
      "state": {
       "_dom_classes": [],
       "_model_module": "@jupyter-widgets/controls",
       "_model_module_version": "1.5.0",
       "_model_name": "HBoxModel",
       "_view_count": null,
       "_view_module": "@jupyter-widgets/controls",
       "_view_module_version": "1.5.0",
       "_view_name": "HBoxView",
       "box_style": "",
       "children": [
        "IPY_MODEL_364896320b1946728ef01a288a6a8f83",
        "IPY_MODEL_be1b1c185ed04baf99db9c172713b465",
        "IPY_MODEL_3a1c69b196ff495eb433923eb014524c"
       ],
       "layout": "IPY_MODEL_83091cde43714ebe87945f0c6ff09a70"
      }
     },
     "d291c5c0623e47f6b6a8a2208f046914": {
      "model_module": "@jupyter-widgets/base",
      "model_module_version": "1.2.0",
      "model_name": "LayoutModel",
      "state": {
       "_model_module": "@jupyter-widgets/base",
       "_model_module_version": "1.2.0",
       "_model_name": "LayoutModel",
       "_view_count": null,
       "_view_module": "@jupyter-widgets/base",
       "_view_module_version": "1.2.0",
       "_view_name": "LayoutView",
       "align_content": null,
       "align_items": null,
       "align_self": null,
       "border": null,
       "bottom": null,
       "display": null,
       "flex": null,
       "flex_flow": null,
       "grid_area": null,
       "grid_auto_columns": null,
       "grid_auto_flow": null,
       "grid_auto_rows": null,
       "grid_column": null,
       "grid_gap": null,
       "grid_row": null,
       "grid_template_areas": null,
       "grid_template_columns": null,
       "grid_template_rows": null,
       "height": null,
       "justify_content": null,
       "justify_items": null,
       "left": null,
       "margin": null,
       "max_height": null,
       "max_width": null,
       "min_height": null,
       "min_width": null,
       "object_fit": null,
       "object_position": null,
       "order": null,
       "overflow": null,
       "overflow_x": null,
       "overflow_y": null,
       "padding": null,
       "right": null,
       "top": null,
       "visibility": null,
       "width": null
      }
     },
     "e4f7ad8c7b164345a4271410c54024ea": {
      "model_module": "@jupyter-widgets/controls",
      "model_module_version": "1.5.0",
      "model_name": "DescriptionStyleModel",
      "state": {
       "_model_module": "@jupyter-widgets/controls",
       "_model_module_version": "1.5.0",
       "_model_name": "DescriptionStyleModel",
       "_view_count": null,
       "_view_module": "@jupyter-widgets/base",
       "_view_module_version": "1.2.0",
       "_view_name": "StyleView",
       "description_width": ""
      }
     },
     "e4f8b71420c046f287c183f69497fe22": {
      "model_module": "@jupyter-widgets/controls",
      "model_module_version": "1.5.0",
      "model_name": "HTMLModel",
      "state": {
       "_dom_classes": [],
       "_model_module": "@jupyter-widgets/controls",
       "_model_module_version": "1.5.0",
       "_model_name": "HTMLModel",
       "_view_count": null,
       "_view_module": "@jupyter-widgets/controls",
       "_view_module_version": "1.5.0",
       "_view_name": "HTMLView",
       "description": "",
       "description_tooltip": null,
       "layout": "IPY_MODEL_ee9876c484e74d1a97fa0d165a9d3a76",
       "placeholder": "​",
       "style": "IPY_MODEL_e4f7ad8c7b164345a4271410c54024ea",
       "value": " 90.9M/90.9M [00:00&lt;00:00, 180MB/s]"
      }
     },
     "ec3276553e4f4948a9c14892d5309367": {
      "model_module": "@jupyter-widgets/controls",
      "model_module_version": "1.5.0",
      "model_name": "HTMLModel",
      "state": {
       "_dom_classes": [],
       "_model_module": "@jupyter-widgets/controls",
       "_model_module_version": "1.5.0",
       "_model_name": "HTMLModel",
       "_view_count": null,
       "_view_module": "@jupyter-widgets/controls",
       "_view_module_version": "1.5.0",
       "_view_name": "HTMLView",
       "description": "",
       "description_tooltip": null,
       "layout": "IPY_MODEL_242b7d8598df48518b6c175a6ba87cec",
       "placeholder": "​",
       "style": "IPY_MODEL_5e37838bd2bd43a79d73fe44c413ceeb",
       "value": "config.json: 100%"
      }
     },
     "ee9876c484e74d1a97fa0d165a9d3a76": {
      "model_module": "@jupyter-widgets/base",
      "model_module_version": "1.2.0",
      "model_name": "LayoutModel",
      "state": {
       "_model_module": "@jupyter-widgets/base",
       "_model_module_version": "1.2.0",
       "_model_name": "LayoutModel",
       "_view_count": null,
       "_view_module": "@jupyter-widgets/base",
       "_view_module_version": "1.2.0",
       "_view_name": "LayoutView",
       "align_content": null,
       "align_items": null,
       "align_self": null,
       "border": null,
       "bottom": null,
       "display": null,
       "flex": null,
       "flex_flow": null,
       "grid_area": null,
       "grid_auto_columns": null,
       "grid_auto_flow": null,
       "grid_auto_rows": null,
       "grid_column": null,
       "grid_gap": null,
       "grid_row": null,
       "grid_template_areas": null,
       "grid_template_columns": null,
       "grid_template_rows": null,
       "height": null,
       "justify_content": null,
       "justify_items": null,
       "left": null,
       "margin": null,
       "max_height": null,
       "max_width": null,
       "min_height": null,
       "min_width": null,
       "object_fit": null,
       "object_position": null,
       "order": null,
       "overflow": null,
       "overflow_x": null,
       "overflow_y": null,
       "padding": null,
       "right": null,
       "top": null,
       "visibility": null,
       "width": null
      }
     },
     "f215133cefa64620875c7b3eda545551": {
      "model_module": "@jupyter-widgets/controls",
      "model_module_version": "1.5.0",
      "model_name": "HTMLModel",
      "state": {
       "_dom_classes": [],
       "_model_module": "@jupyter-widgets/controls",
       "_model_module_version": "1.5.0",
       "_model_name": "HTMLModel",
       "_view_count": null,
       "_view_module": "@jupyter-widgets/controls",
       "_view_module_version": "1.5.0",
       "_view_name": "HTMLView",
       "description": "",
       "description_tooltip": null,
       "layout": "IPY_MODEL_b0a61b1017a6420999148c3264fb0523",
       "placeholder": "​",
       "style": "IPY_MODEL_bcceb47c7c194555a907c91e55b1e447",
       "value": "vocab.txt: 100%"
      }
     },
     "f2265f2d0a6b456497bd149a4d4b84d1": {
      "model_module": "@jupyter-widgets/controls",
      "model_module_version": "1.5.0",
      "model_name": "DescriptionStyleModel",
      "state": {
       "_model_module": "@jupyter-widgets/controls",
       "_model_module_version": "1.5.0",
       "_model_name": "DescriptionStyleModel",
       "_view_count": null,
       "_view_module": "@jupyter-widgets/base",
       "_view_module_version": "1.2.0",
       "_view_name": "StyleView",
       "description_width": ""
      }
     },
     "f8ee16282c8b42f1a4ecb2ffc74caed8": {
      "model_module": "@jupyter-widgets/base",
      "model_module_version": "1.2.0",
      "model_name": "LayoutModel",
      "state": {
       "_model_module": "@jupyter-widgets/base",
       "_model_module_version": "1.2.0",
       "_model_name": "LayoutModel",
       "_view_count": null,
       "_view_module": "@jupyter-widgets/base",
       "_view_module_version": "1.2.0",
       "_view_name": "LayoutView",
       "align_content": null,
       "align_items": null,
       "align_self": null,
       "border": null,
       "bottom": null,
       "display": null,
       "flex": null,
       "flex_flow": null,
       "grid_area": null,
       "grid_auto_columns": null,
       "grid_auto_flow": null,
       "grid_auto_rows": null,
       "grid_column": null,
       "grid_gap": null,
       "grid_row": null,
       "grid_template_areas": null,
       "grid_template_columns": null,
       "grid_template_rows": null,
       "height": null,
       "justify_content": null,
       "justify_items": null,
       "left": null,
       "margin": null,
       "max_height": null,
       "max_width": null,
       "min_height": null,
       "min_width": null,
       "object_fit": null,
       "object_position": null,
       "order": null,
       "overflow": null,
       "overflow_x": null,
       "overflow_y": null,
       "padding": null,
       "right": null,
       "top": null,
       "visibility": null,
       "width": null
      }
     },
     "fe42277009af4c6f90c765ebecc24390": {
      "model_module": "@jupyter-widgets/controls",
      "model_module_version": "1.5.0",
      "model_name": "DescriptionStyleModel",
      "state": {
       "_model_module": "@jupyter-widgets/controls",
       "_model_module_version": "1.5.0",
       "_model_name": "DescriptionStyleModel",
       "_view_count": null,
       "_view_module": "@jupyter-widgets/base",
       "_view_module_version": "1.2.0",
       "_view_name": "StyleView",
       "description_width": ""
      }
     },
     "ffeb21a2a096443eb8724cd3403812f8": {
      "model_module": "@jupyter-widgets/controls",
      "model_module_version": "1.5.0",
      "model_name": "HBoxModel",
      "state": {
       "_dom_classes": [],
       "_model_module": "@jupyter-widgets/controls",
       "_model_module_version": "1.5.0",
       "_model_name": "HBoxModel",
       "_view_count": null,
       "_view_module": "@jupyter-widgets/controls",
       "_view_module_version": "1.5.0",
       "_view_name": "HBoxView",
       "box_style": "",
       "children": [
        "IPY_MODEL_2547f5e3cc924f459ce0ec236d461730",
        "IPY_MODEL_5c0943e8635f497baec17a725f884c21",
        "IPY_MODEL_e4f8b71420c046f287c183f69497fe22"
       ],
       "layout": "IPY_MODEL_a5bf47cb586f44d7bc7febb2fd876ff8"
      }
     }
    },
    "version_major": 2,
    "version_minor": 0
   }
  }
 },
 "nbformat": 4,
 "nbformat_minor": 5
}
